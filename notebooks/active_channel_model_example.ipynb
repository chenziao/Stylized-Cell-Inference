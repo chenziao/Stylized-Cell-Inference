{
 "cells": [
  {
   "cell_type": "markdown",
   "metadata": {},
   "source": [
    "#### Neuron Initialization\n",
    "Import modules and setup simulation parameters"
   ]
  },
  {
   "cell_type": "code",
   "execution_count": 1,
   "metadata": {},
   "outputs": [],
   "source": [
    "from neuron import h\n",
    "import pandas as pd\n",
    "import numpy as np\n",
    "import os, sys\n",
    "sys.path.append(os.path.split(sys.path[0])[0])\n",
    "from stylized_module.base.stylized_cell import Stylized_Cell\n",
    "from stylized_module.currents.ecp import EcpMod, newposition\n",
    "from stylized_module.currents.recorder import Recorder\n",
    "from stylized_module.currents.point_current import Point_current\n",
    "\n",
    "\n",
    "import config.paths as paths\n",
    "mechanisms_path = paths.MECHANISMS  # need to compile the folder first\n",
    "geometry_file = paths.GEO_STANDARD\n",
    "tstop = 20.  # ms\n",
    "dt = 0.025  # ms. does not allow change\n",
    "\n",
    "h.load_file('stdrun.hoc')\n",
    "# h.nrn_load_dll(os.path.join(mechanisms_path,'nrnmech.dll'))  # running this line more than once might crash the kernel\n",
    "h.nrn_load_dll(paths.COMPILED_LIBRARY)\n",
    "#h.nrn_load_dll(os.path.join(mechanisms_path,'x86_64/.libs/libnrnmech.so'))  # use this line instead in Linux\n",
    "geo_standard = pd.read_csv(geometry_file,index_col='id')\n",
    "h.tstop = tstop\n",
    "h.dt = dt"
   ]
  },
  {
   "cell_type": "markdown",
   "metadata": {},
   "source": [
    "Define cell model and simulation model. Edit method \"set_channels\" to design biophysical properties."
   ]
  },
  {
   "cell_type": "code",
   "execution_count": 2,
   "metadata": {},
   "outputs": [],
   "source": [
    "class Cell(Stylized_Cell):\n",
    "    \"\"\"Define single cell model using parent class Stylized_Cell\"\"\"\n",
    "    def __init__(self,geometry=None,biophys=None,dL=30,vrest=-70.0):\n",
    "        \"\"\"\n",
    "        Initialize cell model\n",
    "        geometry: pandas dataframe of cell morphology properties\n",
    "        biophys: vector of biophysical parameters corresponding to \"biophys_entries\". Use -1 for default value.\n",
    "        dL: maximum segment length\n",
    "        vrest: reversal potential for leak channels\n",
    "        \"\"\"\n",
    "        self.biophys = biophys\n",
    "        super().__init__(geometry,dL,vrest)\n",
    "        self.record_soma_v() # uncomment this if want to record soma voltage\n",
    "    \n",
    "    def set_channels(self):\n",
    "        \"\"\"Define biophysical properties, insert channels\"\"\"\n",
    "        self.define_biophys_entries()\n",
    "        sections = self.all\n",
    "        # common parameters\n",
    "        for sec in self.all:\n",
    "            sec.cm = 2.0\n",
    "            sec.Ra = 100\n",
    "            sec.insert('pas')\n",
    "            sec.e_pas = self._vrest\n",
    "        # fixed parameters\n",
    "        soma = self.soma\n",
    "        soma.cm = 1.0\n",
    "        soma.insert('NaTa_t')  # Sodium channel\n",
    "        soma.insert('SKv3_1')  # Potassium channel\n",
    "        soma.ena = 50\n",
    "        soma.ek = -85\n",
    "        for isec in self.grp_ids[2]:\n",
    "            sec = sections[isec]  # apical dendrites\n",
    "            sec.insert('NaTa_t')\n",
    "            sec.insert('SKv3_1')\n",
    "            sec.ena = 50\n",
    "            sec.ek = -85\n",
    "        # variable parameters\n",
    "        for i,entry in enumerate(self.biophys_entries):\n",
    "            for isec in self.grp_ids[entry[0]]:\n",
    "                setattr(sections[isec],entry[1],self.biophys[i])\n",
    "        h.v_init = self._vrest\n",
    "    \n",
    "    def define_biophys_entries(self):\n",
    "        \"\"\"\n",
    "        Define list of entries of biophysical parameters.\n",
    "        Each entry is a pair of group id and parameter reference string.\n",
    "        Define default values and set parameters in \"biophys\".\n",
    "        \"\"\"\n",
    "        self.grp_ids = [[0],[1, 2, 3, 4],[5, 6, 7]] # categorize sections id's into groups\n",
    "        self.biophys_entries = [\n",
    "            (0,'g_pas'),(1,'g_pas'),(2,'g_pas'),  # g_pas of soma, basal, apical \n",
    "            (0,'gNaTa_tbar_NaTa_t'),(2,'gNaTa_tbar_NaTa_t'),  # gNaTa_t of soma, apical \n",
    "            (0,'gSKv3_1bar_SKv3_1'),(2,'gSKv3_1bar_SKv3_1')  # gSKv3_1 of soma, apical \n",
    "        ]\n",
    "        # g_pas 0.00002-0.00005, 0.00003-0.00015, 0.00003-0.00015\n",
    "        # gNaTa_t 1.0-4.0, 0.008-0.04\n",
    "        # gSKv3_1 0.3-2.0, 0-0.04\n",
    "        default_biophys = np.array([0.0000338,0.0000467,0.0000589,2.04,0.0213,0.693,0.000261])\n",
    "        if self.biophys is not None:\n",
    "            for i in range(len(self.biophys)):\n",
    "                if self.biophys[i]>=0:\n",
    "                    default_biophys[i]=self.biophys[i]\n",
    "        self.biophys = default_biophys\n",
    "    \n",
    "    def add_synapse(self,stim,sec_index,**kwargs):\n",
    "        \"\"\"Add synapse to a section by its index\"\"\"\n",
    "        self.injection.append(Synapse(self,stim,sec_index,**kwargs))\n",
    "    \n",
    "    def record_soma_v(self):\n",
    "        self.v_rec = Recorder(self.soma(.5),'v')\n",
    "    \n",
    "    def v(self):\n",
    "        \"\"\"Return recorded soma membrane voltage in numpy array\"\"\"\n",
    "        if hasattr(self,'v_rec'):\n",
    "            return self.v_rec.as_numpy()\n",
    "\n",
    "class Synapse(Point_current):\n",
    "    def __init__(self,cell,stim,sec_index,gmax=0.01,loc=0.5,record=True):\n",
    "        super().__init__(cell,sec_index,loc)\n",
    "        self.stim = stim\n",
    "        self.gmax = gmax\n",
    "        self.pp_obj = h.AlphaSynapse1(self.get_section()(loc))\n",
    "        self.setup(record)\n",
    "    \n",
    "    def setup(self,record):\n",
    "        self.setup_synapse()\n",
    "        if record:\n",
    "            self.setup_recorder()\n",
    "    \n",
    "    def setup_synapse(self):\n",
    "        syn = self.pp_obj\n",
    "        syn.e = 0.  # mV. Reversal potential\n",
    "        syn.tau = 5.0  # ms. Synapse time constant\n",
    "        syn.gmax = self.gmax  # uS. maximum conductance\n",
    "        self.nc = h.NetCon(self.stim,syn,1,0,1)\n",
    "\n",
    "class Simulation(object):\n",
    "    def __init__(self,geometry,electrodes,loc_param=[0.,0.,0.,1.,0.],geo_param=[-1],biophys=[-1],gmax=0.015,scale=1.0,ncell=1):\n",
    "        \"\"\"\n",
    "        Initialize simulation object\n",
    "        geometry: pandas dataframe of cell morphology properties\n",
    "        electrodes: array of electrode coordinates, n-by-3\n",
    "        loc_param: location parameters, ncell-by-5 array, (x,y,theta,h,phi)\n",
    "        geo_param: geometry parameters, ncell-by-k array, if not specified, use default properties in geometry\n",
    "        biophys: biophysical parameters, ncell-by-k array, if not specified, use default properties\n",
    "        gmax: maximum conductance of synapse, ncell-vector, if is single value, is constant for all cells\n",
    "        scale: scaling factors of lfp magnitude, ncell-vector, if is single value, is constant for all cells\n",
    "        ncell: number of cells in the simulation, required if simulating for multiple cells\n",
    "        \"\"\"\n",
    "        self.ncell = ncell  # number of cells in this simulation\n",
    "        self.cells = []  # list of cell object\n",
    "        self.lfp = []  # list of EcpMod object\n",
    "        self.define_geometry_entries()  # list of entries to geometry dataframe\n",
    "        self.geometry = geometry.copy()\n",
    "        self.electrodes = electrodes\n",
    "        self.set_loc_param(loc_param)\n",
    "        self.set_geo_param(geo_param)\n",
    "        self.set_biophys(biophys)\n",
    "        self.set_gmax(gmax)\n",
    "        self.set_scale(scale)\n",
    "        self.set_netstim()\n",
    "        self.create_cells()  # create cell objects with properties set up\n",
    "        self.t_vec = h.Vector( round(h.tstop/h.dt)+1 ).record(h._ref_t)  # record time\n",
    "    \n",
    "    def set_netstim(self):\n",
    "        \"\"\"Setup synaptic input event\"\"\"\n",
    "        stim = h.NetStim()\n",
    "        stim.number = 1  # only one event\n",
    "        stim.start = 0.1 # delay\n",
    "        self.stim = stim\n",
    "    \n",
    "    def pack_parameters(self,param,ndim,param_name):\n",
    "        \"\"\"Pack parameters for the simulation\"\"\"\n",
    "        if ndim==0:\n",
    "            if not hasattr(param,'__len__'):\n",
    "                param = [param]\n",
    "            param = np.array(param).ravel()\n",
    "            if param.size!=self.ncell:\n",
    "                if param.size==1:\n",
    "                    param = np.broadcast_to(param,self.ncell)\n",
    "                else:\n",
    "                    raise ValueError(param_name+\" size does not match ncell\")   \n",
    "        if ndim==1:\n",
    "            param = np.array(param)\n",
    "            if param.ndim==1:\n",
    "                param = np.expand_dims(param,0)\n",
    "            if param.shape[0]!=self.ncell:\n",
    "                if param.shape[0]==1:\n",
    "                    param = np.broadcast_to(param,(self.ncell,param.shape[1]))\n",
    "                else:\n",
    "                    raise ValueError(param_name+\" number of rows does not match ncell\")\n",
    "        return param\n",
    "    \n",
    "    def set_loc_param(self,loc_param):\n",
    "        \"\"\"Setup location parameters. loc_param ncell-by-5 array\"\"\"\n",
    "        loc_param = self.pack_parameters(loc_param,1,\"loc_param\")\n",
    "        self.loc_param = [(np.insert(loc_param[i,:2],2,0.),loc_param[i,2:]) for i in range(self.ncell)]\n",
    "    \n",
    "    def set_geo_param(self,geo_param):\n",
    "        \"\"\"Setup geometry parameters. geo_param ncell-by-k array, k entries of properties\"\"\"\n",
    "        self.geo_param = self.pack_parameters(geo_param,1,\"geo_param\")\n",
    "    \n",
    "    def set_biophys(self,biophys):\n",
    "        \"\"\"Setup geometry parameters. geo_param ncell-by-k array, k entries of properties\"\"\"\n",
    "        self.biophys = self.pack_parameters(biophys,1,\"biophys\")\n",
    "    \n",
    "    def set_gmax(self,gmax):\n",
    "        \"\"\"Setup maximum conductance of synapse\"\"\"\n",
    "        self.gmax = self.pack_parameters(gmax,0,\"gmax\")\n",
    "    \n",
    "    def set_scale(self,scale):\n",
    "        \"\"\"setup scaling factors of lfp magnitude\"\"\"\n",
    "        self.scale = self.pack_parameters(scale,0,\"scale\")\n",
    "    \n",
    "    def define_geometry_entries(self):\n",
    "        \"\"\"Define list of entries to geometry dataframe. Each entry is a pair of section id and property.\"\"\"\n",
    "        self.geo_entries = [\n",
    "            (0,'R'),  # change soma radius\n",
    "            (3,'L'),  # change trunk length\n",
    "            (3,'R'),  # change trunk radius\n",
    "            ([1,2],'R'),  # change basal dendrites radius\n",
    "            (4,'R'),  # change tuft radius\n",
    "            ([1,2,4],'L') # change all dendrites length\n",
    "        ]\n",
    "    \n",
    "    def set_geometry(self,geometry,geo_param):\n",
    "        \"\"\"Set property values from geo_param through each entry to geometry. Return dataframe\"\"\"\n",
    "        geom = geometry.copy()\n",
    "        for i,x in enumerate(geo_param):\n",
    "            if x>=0:\n",
    "                geom.loc[self.geo_entries[i]] = x\n",
    "        return geom\n",
    "    \n",
    "    def create_cells(self):\n",
    "        \"\"\"Create cell objects with properties set up\"\"\"\n",
    "        self.cells.clear()  # remove cell objects from previous run\n",
    "        self.lfp.clear()\n",
    "        # Create cell with morphology and biophysical parameters\n",
    "        for i in range(self.ncell):\n",
    "            geometry = self.set_geometry(self.geometry,self.geo_param[i,:])\n",
    "            self.cells.append( Cell(geometry=geometry,biophys=self.biophys[i,:]) )\n",
    "        # add injection current or synaptic current and set up lfp recording\n",
    "        min_dist = 10.0 # minimum distance allowed between segment and electrode. Set to None if not using.\n",
    "        for i,cell in enumerate(self.cells):\n",
    "#             # Pulse injection\n",
    "#             cell.add_injection(sec_index=0,record=True,delay=0.1,dur=0.2,amp=5.0) # Tune for proper action potential\n",
    "            # Synpatic input\n",
    "            cell.add_synapse(self.stim,sec_index=0,gmax=self.gmax[i])\n",
    "            # Move cell location\n",
    "            self.lfp.append( EcpMod(cell,self.electrodes,move_cell=self.loc_param[i],scale=self.scale[i],min_distance=min_dist) )\n",
    "    \n",
    "    def run(self):\n",
    "        \"\"\"Run simulation\"\"\"\n",
    "        h.run()\n",
    "    \n",
    "    def t(self):\n",
    "        \"\"\"Return simulation time vector\"\"\"\n",
    "        return self.t_vec.as_numpy()\n",
    "    \n",
    "    def get_lfp(self,index=0):\n",
    "        \"\"\"Return LFP array of the cell by index, channels-by-time\"\"\"\n",
    "        return self.lfp[index].calc_ecp()\n",
    "    "
   ]
  },
  {
   "cell_type": "markdown",
   "metadata": {},
   "source": [
    "#### Create simulation"
   ]
  },
  {
   "cell_type": "code",
   "execution_count": 3,
   "metadata": {},
   "outputs": [],
   "source": [
    "x = np.zeros(96)\n",
    "y = np.linspace(-1900,1900,96)\n",
    "z = np.zeros(96)\n",
    "elec_pos = pos = np.column_stack((x,y,z))"
   ]
  },
  {
   "cell_type": "markdown",
   "metadata": {},
   "source": [
    "Set parameters"
   ]
  },
  {
   "cell_type": "code",
   "execution_count": 4,
   "metadata": {},
   "outputs": [],
   "source": [
    "loc_param = [50,0,0,0.2,0.75,1.5]  # example position\n",
    "geo_param = [8.86,153.0,.51,.18,.4,190.]  # choose trunk length [-1,600], bounds([3,12],[20,800],[0.2,1.0],[0.2,1.0],[0.2,1.0],[100,300])\n",
    "# example of changing biophysical parameters (check \"biophys_entries\" in \"Cell\" class for meaning, bounds can also be found there)\n",
    "biophys = [-1]#,-1,0.0000589*3,-1,0.0213*1.5]\n",
    "sim = Simulation(geo_standard,elec_pos,loc_param,geo_param=geo_param,biophys=biophys,gmax=0.005,scale=1.)  # 0.001 -0.012"
   ]
  },
  {
   "cell_type": "markdown",
   "metadata": {},
   "source": [
    "Record membrane voltage at initial/middle/end of the trunk and middle of the tuft to check the propagation."
   ]
  },
  {
   "cell_type": "code",
   "execution_count": 5,
   "metadata": {},
   "outputs": [],
   "source": [
    "sec_list = sim.cells[0].all\n",
    "dend_v = Recorder([sec_list[5](0.1),sec_list[5](0.5),sec_list[5](0.9),sec_list[6](0.5)])"
   ]
  },
  {
   "cell_type": "code",
   "execution_count": 6,
   "metadata": {},
   "outputs": [],
   "source": [
    "sim.run()\n",
    "lfp = sim.get_lfp().T\n",
    "t = sim.t()"
   ]
  },
  {
   "cell_type": "markdown",
   "metadata": {},
   "source": [
    "Plot membrane voltage in soma, trunk and tuft."
   ]
  },
  {
   "cell_type": "code",
   "execution_count": 7,
   "metadata": {},
   "outputs": [
    {
     "data": {
      "image/png": "[encoded data removed]",
      "text/plain": [
       "<Figure size 432x576 with 5 Axes>"
      ]
     },
     "metadata": {
      "needs_background": "light"
     },
     "output_type": "display_data"
    }
   ],
   "source": [
    "import matplotlib.pyplot as plt\n",
    "%matplotlib inline\n",
    "\n",
    "v_dend = dend_v.as_numpy()\n",
    "plt.figure(figsize=(6,8))\n",
    "plt.subplot(5,1,1)\n",
    "plt.plot(t,sim.cells[0].v())\n",
    "for i in range(v_dend.shape[0]):\n",
    "    plt.subplot(5,1,i+2)\n",
    "    plt.plot(t,v_dend[i,:])\n",
    "plt.show()"
   ]
  },
  {
   "cell_type": "markdown",
   "metadata": {},
   "source": [
    "Use functions in \"utils\" module to plot"
   ]
  },
  {
   "cell_type": "code",
   "execution_count": 8,
   "metadata": {},
   "outputs": [
    {
     "ename": "ModuleNotFoundError",
     "evalue": "No module named 'utils.plot_results'",
     "output_type": "error",
     "traceback": [
      "\u001b[0;31m---------------------------------------------------------------------------\u001b[0m",
      "\u001b[0;31mModuleNotFoundError\u001b[0m                       Traceback (most recent call last)",
      "\u001b[0;32m<ipython-input-8-91ba87a35086>\u001b[0m in \u001b[0;36m<module>\u001b[0;34m\u001b[0m\n\u001b[0;32m----> 1\u001b[0;31m \u001b[0;32mfrom\u001b[0m \u001b[0mutils\u001b[0m\u001b[0;34m.\u001b[0m\u001b[0mplot_results\u001b[0m \u001b[0;32mimport\u001b[0m \u001b[0mplot_LFP_traces\u001b[0m\u001b[0;34m,\u001b[0m\u001b[0mplot_LFP_heatmap\u001b[0m\u001b[0;34m\u001b[0m\u001b[0;34m\u001b[0m\u001b[0m\n\u001b[0m\u001b[1;32m      2\u001b[0m \u001b[0mget_ipython\u001b[0m\u001b[0;34m(\u001b[0m\u001b[0;34m)\u001b[0m\u001b[0;34m.\u001b[0m\u001b[0mrun_line_magic\u001b[0m\u001b[0;34m(\u001b[0m\u001b[0;34m'matplotlib'\u001b[0m\u001b[0;34m,\u001b[0m \u001b[0;34m'inline'\u001b[0m\u001b[0;34m)\u001b[0m\u001b[0;34m\u001b[0m\u001b[0;34m\u001b[0m\u001b[0m\n\u001b[1;32m      3\u001b[0m \u001b[0;34m\u001b[0m\u001b[0m\n\u001b[1;32m      4\u001b[0m \u001b[0mdelay\u001b[0m \u001b[0;34m=\u001b[0m \u001b[0;36m7.0\u001b[0m\u001b[0;34m\u001b[0m\u001b[0;34m\u001b[0m\u001b[0m\n\u001b[1;32m      5\u001b[0m \u001b[0mwindow\u001b[0m \u001b[0;34m=\u001b[0m \u001b[0;34m[\u001b[0m\u001b[0mdelay\u001b[0m\u001b[0;34m,\u001b[0m\u001b[0mdelay\u001b[0m\u001b[0;34m+\u001b[0m\u001b[0;36m5.01\u001b[0m\u001b[0;34m]\u001b[0m\u001b[0;34m\u001b[0m\u001b[0;34m\u001b[0m\u001b[0m\n",
      "\u001b[0;31mModuleNotFoundError\u001b[0m: No module named 'utils.plot_results'"
     ]
    }
   ],
   "source": [
    "from utils.plot_results import plot_LFP_traces,plot_LFP_heatmap\n",
    "%matplotlib inline\n",
    "\n",
    "delay = 7.0\n",
    "window = [delay,delay+5.01]\n",
    "# window = [5.,15.01]\n",
    "idx = (t>=window[0]) & (t<=window[1])  # time index\n",
    "fig,ax = plot_LFP_traces(t[idx],lfp[idx,:])"
   ]
  },
  {
   "cell_type": "code",
   "execution_count": null,
   "metadata": {},
   "outputs": [],
   "source": [
    "e_idx = slice(30,-30)  # electrodes index\n",
    "fig,ax = plot_LFP_heatmap(t[idx],pos[e_idx,1],lfp[idx,e_idx],vlim=[-0.1,0.1])\n",
    "# set narrower \"vlim\" can help see more subtle difference in voltage"
   ]
  },
  {
   "cell_type": "code",
   "execution_count": null,
   "metadata": {},
   "outputs": [],
   "source": [
    "help(plot_LFP_heatmap) # check docstring"
   ]
  },
  {
   "cell_type": "code",
   "execution_count": null,
   "metadata": {},
   "outputs": [],
   "source": []
  }
 ],
 "metadata": {
  "kernelspec": {
   "display_name": "Python 3",
   "language": "python",
   "name": "python3"
  },
  "language_info": {
   "codemirror_mode": {
    "name": "ipython",
    "version": 3
   },
   "file_extension": ".py",
   "mimetype": "text/x-python",
   "name": "python",
   "nbconvert_exporter": "python",
   "pygments_lexer": "ipython3",
   "version": "3.8.11"
  }
 },
 "nbformat": 4,
 "nbformat_minor": 4
}
