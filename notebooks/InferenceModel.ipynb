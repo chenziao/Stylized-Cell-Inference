{
 "cells": [
  {
   "cell_type": "markdown",
   "id": "animated-third",
   "metadata": {},
   "source": [
    "## INFERENCE MODEL\n",
    "Setup inference model"
   ]
  },
  {
   "cell_type": "code",
   "execution_count": 1,
   "id": "fundamental-pacific",
   "metadata": {},
   "outputs": [],
   "source": [
    "import os, sys, os.path\n",
    "sys.path.append(os.path.split(sys.path[0])[0])\n",
    "\n",
    "#Dependencies\n",
    "import h5py\n",
    "import math\n",
    "import matplotlib.pyplot as plt\n",
    "import numpy as np\n",
    "import pickle\n",
    "from sbi.inference import SNPE, prepare_for_sbi, simulate_for_sbi\n",
    "import sbi.analysis as analysis\n",
    "from sbi.utils.get_nn_models import posterior_nn  # For SNLE: likelihood_nn(). For SNRE: classifier_nn()\n",
    "from scipy import signal, stats as spstats\n",
    "import scipy.io\n",
    "import torch\n",
    "import torch.nn as nn\n",
    "import torch.nn.functional as F\n",
    "from typing import Any, Callable, Dict, Optional, Union, Tuple\n",
    "from sbi.inference.snpe.snpe_base import PosteriorEstimator\n",
    "from sbi.inference.posteriors.direct_posterior import DirectPosterior\n",
    "\n",
    "#Project Imports\n",
    "import config.params as params\n",
    "import config.paths as paths\n",
    "from stylized_module.base.passive_model_soma_injection import run_pm_simulation\n",
    "from stylized_module.base.active_model_synapse_input import run_am_simulation\n",
    "from stylized_module.feature_extraction.SummaryStats2D import Stats, cat_output\n",
    "from utils.metrics.corrcoef import corrcoef, max_corrcoef\n",
    "from utils.plotting.plot_results import plot_LFP_traces,plot_LFP_heatmap\n",
    "from utils.spike_window import first_pk_tr, get_spike_window\n",
    "from utils.transform.distribution_transformation import norm2unif, range2logn, norm2logn, logds_norm2unif, logds_norm2logn"
   ]
  },
  {
   "cell_type": "markdown",
   "id": "interpreted-prince",
   "metadata": {},
   "source": [
    "Helper Functions"
   ]
  },
  {
   "cell_type": "code",
   "execution_count": 2,
   "id": "canadian-cookbook",
   "metadata": {},
   "outputs": [],
   "source": [
    "rng = np.random.default_rng(123412)\n",
    "\n",
    "def sim_model(param,active=False,whole_trace=False):\n",
    "    y     = [0] #param[0]\n",
    "    d     = 50 #param[1]\n",
    "    theta = np.pi/4 #param[2]\n",
    "    h     = [param[0]]#[param[3]]\n",
    "    phi   = [0.0] #[param[4]]\n",
    "    r_s   = param[1] #param[5]\n",
    "    l_t   = param[2] #param[6]\n",
    "    r_t   = 0.5 #param[7]\n",
    "    r_d   = 0.5 #param[8]\n",
    "    r_tu  = 0.5 #param[9]\n",
    "    l_d   = 200. #param[10]\n",
    "    \n",
    "    #Replace alpha with random number\n",
    "    alpha = [np.pi/4]#[rng.uniform(low=params.IM_ALPHA_BOUNDS[0], high=params.IM_ALPHA_BOUNDS[1])]\n",
    "    \n",
    "    x     = [0.]#[d * np.sin(theta)]\n",
    "    z     = [50.]#[d * np.cos(theta)]\n",
    "    \n",
    "    sim.set_loc_param(torch.from_numpy(np.squeeze(np.array([x, y, z, alpha, h, phi]))))\n",
    "    sim.set_geo_param(torch.from_numpy(np.squeeze(np.array([r_s, l_t, r_t, r_d, r_tu, l_d]))))\n",
    "#     sim.set_biophys([-1,-1,-1,-1,-1,-1,-1])\n",
    "    \n",
    "    scalVal = 1 #10 ** param[5]\n",
    "    sim.set_scale(scalVal)\n",
    "    \n",
    "    if active:\n",
    "        sim.set_gmax(params.GT_GMAX)\n",
    "        \n",
    "    sim.create_cells()\n",
    "    sim.run()\n",
    "    lfp = sim.get_lfp().T\n",
    "    lfp /= np.max(np.abs(lfp))\n",
    "    filtered_lfp = signal.lfilter(filt_b,filt_a,lfp,axis=0) # filter along row of the lfp 2d-array, if each row is a channel\n",
    "    if not whole_trace:\n",
    "        start,end = get_spike_window(filtered_lfp,win_size=params.PM_WINDOW_SIZE,align_at=fst_idx)\n",
    "        filtered_lfp = filtered_lfp[start:end,:]\n",
    "    return filtered_lfp\n",
    "\n",
    "def simulation(sim_params):\n",
    "    lfp = sim_model(sim_params, active=params.ACTIVE_CELL)\n",
    "    return cat_output(lfp)"
   ]
  },
  {
   "cell_type": "code",
   "execution_count": 3,
   "id": "instrumental-radius",
   "metadata": {},
   "outputs": [],
   "source": [
    "filt_b,filt_a = signal.butter(params.IM_BUTTERWORTH_ORDER,\n",
    "                              params.IM_CRITICAL_FREQUENCY,\n",
    "                              params.IM_BANDFILTER_TYPE,\n",
    "                              fs=params.IM_FILTER_SAMPLING_RATE)\n",
    "\n",
    "sim, window_size, x0_trace, t0 = run_pm_simulation() if params.ACTIVE_CELL is False else run_am_simulation()\n",
    "\n",
    "fst_idx = first_pk_tr(x0_trace)"
   ]
  },
  {
   "cell_type": "code",
   "execution_count": 4,
   "id": "induced-thesaurus",
   "metadata": {},
   "outputs": [
    {
     "name": "stdout",
     "output_type": "stream",
     "text": [
      "torch.Size([133794])\n"
     ]
    }
   ],
   "source": [
    "simulator, prior = prepare_for_sbi(simulation, params.IM_PRIOR_DISTRIBUTION)\n",
    "x_o = cat_output(x0_trace)\n",
    "print(x_o.shape)"
   ]
  },
  {
   "cell_type": "code",
   "execution_count": 5,
   "id": "exterior-dublin",
   "metadata": {},
   "outputs": [],
   "source": [
    "# instantiate the neural density estimator\n",
    "density_estimator_build_fun = posterior_nn(\n",
    "    model=params.IM_POSTERIOR_MODEL_ESTIMATOR,\n",
    "#     embedding_net=params.IM_EMBEDDED_NETWORK,\n",
    "    hidden_features=params.IM_POSTERIOR_MODEL_HIDDEN_LAYERS\n",
    ")\n",
    "\n",
    "inferencer = SNPE(\n",
    "    prior=prior,\n",
    "    density_estimator=density_estimator_build_fun,\n",
    "    show_progress_bars=True\n",
    ")"
   ]
  },
  {
   "cell_type": "code",
   "execution_count": 6,
   "id": "dependent-billion",
   "metadata": {},
   "outputs": [
    {
     "data": {
      "application/vnd.jupyter.widget-view+json": {
       "model_id": "d878cfc6eb6b4eecb64209cf2a3301dc",
       "version_major": 2,
       "version_minor": 0
      },
      "text/plain": [
       "Running 500 simulations.:   0%|          | 0/500 [00:00<?, ?it/s]"
      ]
     },
     "metadata": {},
     "output_type": "display_data"
    },
    {
     "ename": "KeyboardInterrupt",
     "evalue": "",
     "output_type": "error",
     "traceback": [
      "\u001b[0;31m---------------------------------------------------------------------------\u001b[0m",
      "\u001b[0;31mKeyboardInterrupt\u001b[0m                         Traceback (most recent call last)",
      "\u001b[0;32m<ipython-input-6-6524d14fb1e7>\u001b[0m in \u001b[0;36m<module>\u001b[0;34m\u001b[0m\n\u001b[1;32m     50\u001b[0m     \u001b[0;32mreturn\u001b[0m \u001b[0mposterior\u001b[0m\u001b[0;34m\u001b[0m\u001b[0;34m\u001b[0m\u001b[0m\n\u001b[1;32m     51\u001b[0m \u001b[0;34m\u001b[0m\u001b[0m\n\u001b[0;32m---> 52\u001b[0;31m \u001b[0mposterior\u001b[0m \u001b[0;34m=\u001b[0m \u001b[0mbuild_posteriors\u001b[0m\u001b[0;34m(\u001b[0m\u001b[0mprior\u001b[0m\u001b[0;34m,\u001b[0m \u001b[0minferencer\u001b[0m\u001b[0;34m,\u001b[0m \u001b[0msimulator\u001b[0m\u001b[0;34m)\u001b[0m\u001b[0;34m\u001b[0m\u001b[0;34m\u001b[0m\u001b[0m\n\u001b[0m\u001b[1;32m     53\u001b[0m \u001b[0;31m# with open(paths.POSTERIOR_SAVE + \"1_pyro_post.pkl\", \"rb\") as handle:\u001b[0m\u001b[0;34m\u001b[0m\u001b[0;34m\u001b[0m\u001b[0;34m\u001b[0m\u001b[0m\n\u001b[1;32m     54\u001b[0m \u001b[0;31m#     posterior = pickle.load(handle)\u001b[0m\u001b[0;34m\u001b[0m\u001b[0;34m\u001b[0m\u001b[0;34m\u001b[0m\u001b[0m\n",
      "\u001b[0;32m<ipython-input-6-6524d14fb1e7>\u001b[0m in \u001b[0;36mbuild_posteriors\u001b[0;34m(proposal, inference, simulator, rounds, num_sims, regenerate_data)\u001b[0m\n\u001b[1;32m     19\u001b[0m                 )\n\u001b[1;32m     20\u001b[0m         \u001b[0;32melse\u001b[0m\u001b[0;34m:\u001b[0m\u001b[0;34m\u001b[0m\u001b[0;34m\u001b[0m\u001b[0m\n\u001b[0;32m---> 21\u001b[0;31m             theta, x = simulate_for_sbi(\n\u001b[0m\u001b[1;32m     22\u001b[0m                     \u001b[0msimulator\u001b[0m\u001b[0;34m,\u001b[0m\u001b[0;34m\u001b[0m\u001b[0;34m\u001b[0m\u001b[0m\n\u001b[1;32m     23\u001b[0m                     \u001b[0mproposal\u001b[0m\u001b[0;34m,\u001b[0m\u001b[0;34m\u001b[0m\u001b[0;34m\u001b[0m\u001b[0m\n",
      "\u001b[0;32m~/envs/stylized-cell/lib64/python3.8/site-packages/sbi/inference/base.py\u001b[0m in \u001b[0;36msimulate_for_sbi\u001b[0;34m(simulator, proposal, num_simulations, num_workers, simulation_batch_size, show_progress_bar)\u001b[0m\n\u001b[1;32m    547\u001b[0m     \u001b[0mtheta\u001b[0m \u001b[0;34m=\u001b[0m \u001b[0mproposal\u001b[0m\u001b[0;34m.\u001b[0m\u001b[0msample\u001b[0m\u001b[0;34m(\u001b[0m\u001b[0;34m(\u001b[0m\u001b[0mnum_simulations\u001b[0m\u001b[0;34m,\u001b[0m\u001b[0;34m)\u001b[0m\u001b[0;34m)\u001b[0m\u001b[0;34m\u001b[0m\u001b[0;34m\u001b[0m\u001b[0m\n\u001b[1;32m    548\u001b[0m \u001b[0;34m\u001b[0m\u001b[0m\n\u001b[0;32m--> 549\u001b[0;31m     x = simulate_in_batches(\n\u001b[0m\u001b[1;32m    550\u001b[0m         \u001b[0msimulator\u001b[0m\u001b[0;34m,\u001b[0m \u001b[0mtheta\u001b[0m\u001b[0;34m,\u001b[0m \u001b[0msimulation_batch_size\u001b[0m\u001b[0;34m,\u001b[0m \u001b[0mnum_workers\u001b[0m\u001b[0;34m,\u001b[0m \u001b[0mshow_progress_bar\u001b[0m\u001b[0;34m\u001b[0m\u001b[0;34m\u001b[0m\u001b[0m\n\u001b[1;32m    551\u001b[0m     )\n",
      "\u001b[0;32m~/envs/stylized-cell/lib64/python3.8/site-packages/sbi/simulators/simutils.py\u001b[0m in \u001b[0;36msimulate_in_batches\u001b[0;34m(simulator, theta, sim_batch_size, num_workers, show_progress_bars)\u001b[0m\n\u001b[1;32m     73\u001b[0m                 \u001b[0msimulation_outputs\u001b[0m \u001b[0;34m=\u001b[0m \u001b[0;34m[\u001b[0m\u001b[0;34m]\u001b[0m\u001b[0;34m\u001b[0m\u001b[0;34m\u001b[0m\u001b[0m\n\u001b[1;32m     74\u001b[0m                 \u001b[0;32mfor\u001b[0m \u001b[0mbatch\u001b[0m \u001b[0;32min\u001b[0m \u001b[0mbatches\u001b[0m\u001b[0;34m:\u001b[0m\u001b[0;34m\u001b[0m\u001b[0;34m\u001b[0m\u001b[0m\n\u001b[0;32m---> 75\u001b[0;31m                     \u001b[0msimulation_outputs\u001b[0m\u001b[0;34m.\u001b[0m\u001b[0mappend\u001b[0m\u001b[0;34m(\u001b[0m\u001b[0msimulator\u001b[0m\u001b[0;34m(\u001b[0m\u001b[0mbatch\u001b[0m\u001b[0;34m)\u001b[0m\u001b[0;34m)\u001b[0m\u001b[0;34m\u001b[0m\u001b[0;34m\u001b[0m\u001b[0m\n\u001b[0m\u001b[1;32m     76\u001b[0m                     \u001b[0mpbar\u001b[0m\u001b[0;34m.\u001b[0m\u001b[0mupdate\u001b[0m\u001b[0;34m(\u001b[0m\u001b[0msim_batch_size\u001b[0m\u001b[0;34m)\u001b[0m\u001b[0;34m\u001b[0m\u001b[0;34m\u001b[0m\u001b[0m\n\u001b[1;32m     77\u001b[0m \u001b[0;34m\u001b[0m\u001b[0m\n",
      "\u001b[0;32m~/envs/stylized-cell/lib64/python3.8/site-packages/sbi/utils/user_input_checks.py\u001b[0m in \u001b[0;36mbatch_loop_simulator\u001b[0;34m(theta)\u001b[0m\n\u001b[1;32m    432\u001b[0m         \u001b[0;34m\"\"\"Return a batch of simulations by looping over a batch of parameters.\"\"\"\u001b[0m\u001b[0;34m\u001b[0m\u001b[0;34m\u001b[0m\u001b[0m\n\u001b[1;32m    433\u001b[0m         \u001b[0;32massert\u001b[0m \u001b[0mtheta\u001b[0m\u001b[0;34m.\u001b[0m\u001b[0mndim\u001b[0m \u001b[0;34m>\u001b[0m \u001b[0;36m1\u001b[0m\u001b[0;34m,\u001b[0m \u001b[0;34m\"Theta must have a batch dimension.\"\u001b[0m\u001b[0;34m\u001b[0m\u001b[0;34m\u001b[0m\u001b[0m\n\u001b[0;32m--> 434\u001b[0;31m         \u001b[0mxs\u001b[0m \u001b[0;34m=\u001b[0m \u001b[0mlist\u001b[0m\u001b[0;34m(\u001b[0m\u001b[0mmap\u001b[0m\u001b[0;34m(\u001b[0m\u001b[0msimulator\u001b[0m\u001b[0;34m,\u001b[0m \u001b[0mtheta\u001b[0m\u001b[0;34m)\u001b[0m\u001b[0;34m)\u001b[0m\u001b[0;34m\u001b[0m\u001b[0;34m\u001b[0m\u001b[0m\n\u001b[0m\u001b[1;32m    435\u001b[0m         \u001b[0;32mreturn\u001b[0m \u001b[0mtorch\u001b[0m\u001b[0;34m.\u001b[0m\u001b[0mcat\u001b[0m\u001b[0;34m(\u001b[0m\u001b[0mxs\u001b[0m\u001b[0;34m,\u001b[0m \u001b[0mdim\u001b[0m\u001b[0;34m=\u001b[0m\u001b[0;36m0\u001b[0m\u001b[0;34m)\u001b[0m\u001b[0;34m.\u001b[0m\u001b[0mreshape\u001b[0m\u001b[0;34m(\u001b[0m\u001b[0mtheta\u001b[0m\u001b[0;34m.\u001b[0m\u001b[0mshape\u001b[0m\u001b[0;34m[\u001b[0m\u001b[0;36m0\u001b[0m\u001b[0;34m]\u001b[0m\u001b[0;34m,\u001b[0m \u001b[0;34m-\u001b[0m\u001b[0;36m1\u001b[0m\u001b[0;34m)\u001b[0m\u001b[0;34m\u001b[0m\u001b[0;34m\u001b[0m\u001b[0m\n\u001b[1;32m    436\u001b[0m \u001b[0;34m\u001b[0m\u001b[0m\n",
      "\u001b[0;32m~/envs/stylized-cell/lib64/python3.8/site-packages/sbi/utils/user_input_checks.py\u001b[0m in \u001b[0;36mpytorch_simulator\u001b[0;34m(theta)\u001b[0m\n\u001b[1;32m    397\u001b[0m         \u001b[0;31m# Define a wrapper to make sure that the output of the simulator is `float32`.\u001b[0m\u001b[0;34m\u001b[0m\u001b[0;34m\u001b[0m\u001b[0;34m\u001b[0m\u001b[0m\n\u001b[1;32m    398\u001b[0m         \u001b[0;32mdef\u001b[0m \u001b[0mpytorch_simulator\u001b[0m\u001b[0;34m(\u001b[0m\u001b[0mtheta\u001b[0m\u001b[0;34m:\u001b[0m \u001b[0mTensor\u001b[0m\u001b[0;34m)\u001b[0m \u001b[0;34m->\u001b[0m \u001b[0mTensor\u001b[0m\u001b[0;34m:\u001b[0m\u001b[0;34m\u001b[0m\u001b[0;34m\u001b[0m\u001b[0m\n\u001b[0;32m--> 399\u001b[0;31m             \u001b[0;32mreturn\u001b[0m \u001b[0mtorch\u001b[0m\u001b[0;34m.\u001b[0m\u001b[0mas_tensor\u001b[0m\u001b[0;34m(\u001b[0m\u001b[0msimulator\u001b[0m\u001b[0;34m(\u001b[0m\u001b[0mtheta\u001b[0m\u001b[0;34m)\u001b[0m\u001b[0;34m,\u001b[0m \u001b[0mdtype\u001b[0m\u001b[0;34m=\u001b[0m\u001b[0mfloat32\u001b[0m\u001b[0;34m)\u001b[0m\u001b[0;34m\u001b[0m\u001b[0;34m\u001b[0m\u001b[0m\n\u001b[0m\u001b[1;32m    400\u001b[0m \u001b[0;34m\u001b[0m\u001b[0m\n\u001b[1;32m    401\u001b[0m     \u001b[0;32mreturn\u001b[0m \u001b[0mpytorch_simulator\u001b[0m\u001b[0;34m\u001b[0m\u001b[0;34m\u001b[0m\u001b[0m\n",
      "\u001b[0;32m<ipython-input-2-c050bdc29408>\u001b[0m in \u001b[0;36msimulation\u001b[0;34m(sim_params)\u001b[0m\n\u001b[1;32m     42\u001b[0m \u001b[0;32mdef\u001b[0m \u001b[0msimulation\u001b[0m\u001b[0;34m(\u001b[0m\u001b[0msim_params\u001b[0m\u001b[0;34m)\u001b[0m\u001b[0;34m:\u001b[0m\u001b[0;34m\u001b[0m\u001b[0;34m\u001b[0m\u001b[0m\n\u001b[1;32m     43\u001b[0m     \u001b[0mlfp\u001b[0m \u001b[0;34m=\u001b[0m \u001b[0msim_model\u001b[0m\u001b[0;34m(\u001b[0m\u001b[0msim_params\u001b[0m\u001b[0;34m,\u001b[0m \u001b[0mactive\u001b[0m\u001b[0;34m=\u001b[0m\u001b[0mparams\u001b[0m\u001b[0;34m.\u001b[0m\u001b[0mACTIVE_CELL\u001b[0m\u001b[0;34m)\u001b[0m\u001b[0;34m\u001b[0m\u001b[0;34m\u001b[0m\u001b[0m\n\u001b[0;32m---> 44\u001b[0;31m     \u001b[0;32mreturn\u001b[0m \u001b[0mcat_output\u001b[0m\u001b[0;34m(\u001b[0m\u001b[0mlfp\u001b[0m\u001b[0;34m)\u001b[0m\u001b[0;34m\u001b[0m\u001b[0;34m\u001b[0m\u001b[0m\n\u001b[0m",
      "\u001b[0;32m~/repos/Stylized-Cell-Inference/stylized_module/feature_extraction/SummaryStats2D.py\u001b[0m in \u001b[0;36mcat_output\u001b[0;34m(lfp, include_sumstats)\u001b[0m\n\u001b[1;32m    147\u001b[0m     \u001b[0mAlways\u001b[0m \u001b[0minclude\u001b[0m \u001b[0msummary\u001b[0m \u001b[0mstats\u001b[0m \u001b[0munless\u001b[0m \u001b[0mspecified\u001b[0m \u001b[0;32mnot\u001b[0m \u001b[0mto\u001b[0m\u001b[0;34m\u001b[0m\u001b[0;34m\u001b[0m\u001b[0m\n\u001b[1;32m    148\u001b[0m     \"\"\"\n\u001b[0;32m--> 149\u001b[0;31m     \u001b[0mg_lfp\u001b[0m\u001b[0;34m,\u001b[0m \u001b[0mgrid\u001b[0m \u001b[0;34m=\u001b[0m \u001b[0mGrid_LFP\u001b[0m\u001b[0;34m(\u001b[0m\u001b[0mlfp\u001b[0m\u001b[0;34m,\u001b[0m\u001b[0mparams\u001b[0m\u001b[0;34m.\u001b[0m\u001b[0mELECTRODE_POSITION\u001b[0m\u001b[0;34m,\u001b[0m\u001b[0mparams\u001b[0m\u001b[0;34m.\u001b[0m\u001b[0mELECTRODE_GRID\u001b[0m\u001b[0;34m)\u001b[0m\u001b[0;34m\u001b[0m\u001b[0;34m\u001b[0m\u001b[0m\n\u001b[0m\u001b[1;32m    150\u001b[0m     \u001b[0moutput\u001b[0m \u001b[0;34m=\u001b[0m \u001b[0mnp\u001b[0m\u001b[0;34m.\u001b[0m\u001b[0mconcatenate\u001b[0m\u001b[0;34m(\u001b[0m\u001b[0;34m(\u001b[0m\u001b[0mg_lfp\u001b[0m\u001b[0;34m.\u001b[0m\u001b[0mravel\u001b[0m\u001b[0;34m(\u001b[0m\u001b[0;34m)\u001b[0m\u001b[0;34m,\u001b[0m\u001b[0mStats\u001b[0m\u001b[0;34m(\u001b[0m\u001b[0mg_lfp\u001b[0m\u001b[0;34m,\u001b[0m \u001b[0mgrid\u001b[0m\u001b[0;34m)\u001b[0m\u001b[0;34m)\u001b[0m\u001b[0;34m)\u001b[0m \u001b[0;32mif\u001b[0m \u001b[0minclude_sumstats\u001b[0m \u001b[0;32melse\u001b[0m \u001b[0mlfp\u001b[0m\u001b[0;34m.\u001b[0m\u001b[0mravel\u001b[0m\u001b[0;34m(\u001b[0m\u001b[0;34m)\u001b[0m\u001b[0;34m\u001b[0m\u001b[0;34m\u001b[0m\u001b[0m\n\u001b[1;32m    151\u001b[0m     \u001b[0;32mreturn\u001b[0m \u001b[0mtorch\u001b[0m\u001b[0;34m.\u001b[0m\u001b[0mfrom_numpy\u001b[0m\u001b[0;34m(\u001b[0m\u001b[0moutput\u001b[0m\u001b[0;34m)\u001b[0m\u001b[0;34m\u001b[0m\u001b[0;34m\u001b[0m\u001b[0m\n",
      "\u001b[0;32m~/repos/Stylized-Cell-Inference/stylized_module/feature_extraction/SummaryStats2D.py\u001b[0m in \u001b[0;36mGrid_LFP\u001b[0;34m(lfp, coord, grid_v)\u001b[0m\n\u001b[1;32m     24\u001b[0m     \u001b[0mgrid_lfp\u001b[0m \u001b[0;34m=\u001b[0m \u001b[0mnp\u001b[0m\u001b[0;34m.\u001b[0m\u001b[0mempty\u001b[0m\u001b[0;34m(\u001b[0m\u001b[0;34m(\u001b[0m\u001b[0mt\u001b[0m\u001b[0;34m,\u001b[0m\u001b[0mgrid\u001b[0m\u001b[0;34m.\u001b[0m\u001b[0mshape\u001b[0m\u001b[0;34m[\u001b[0m\u001b[0;36m0\u001b[0m\u001b[0;34m]\u001b[0m\u001b[0;34m)\u001b[0m\u001b[0;34m)\u001b[0m\u001b[0;34m\u001b[0m\u001b[0;34m\u001b[0m\u001b[0m\n\u001b[1;32m     25\u001b[0m     \u001b[0;32mfor\u001b[0m \u001b[0mi\u001b[0m \u001b[0;32min\u001b[0m \u001b[0mrange\u001b[0m\u001b[0;34m(\u001b[0m\u001b[0mt\u001b[0m\u001b[0;34m)\u001b[0m\u001b[0;34m:\u001b[0m\u001b[0;34m\u001b[0m\u001b[0;34m\u001b[0m\u001b[0m\n\u001b[0;32m---> 26\u001b[0;31m         \u001b[0mgrid_lfp\u001b[0m\u001b[0;34m[\u001b[0m\u001b[0mi\u001b[0m\u001b[0;34m,\u001b[0m\u001b[0;34m:\u001b[0m\u001b[0;34m]\u001b[0m \u001b[0;34m=\u001b[0m \u001b[0mgriddata\u001b[0m\u001b[0;34m(\u001b[0m\u001b[0mxy\u001b[0m\u001b[0;34m,\u001b[0m\u001b[0mlfp\u001b[0m\u001b[0;34m[\u001b[0m\u001b[0mi\u001b[0m\u001b[0;34m,\u001b[0m\u001b[0;34m:\u001b[0m\u001b[0;34m]\u001b[0m\u001b[0;34m,\u001b[0m\u001b[0mgrid\u001b[0m\u001b[0;34m)\u001b[0m\u001b[0;34m\u001b[0m\u001b[0;34m\u001b[0m\u001b[0m\n\u001b[0m\u001b[1;32m     27\u001b[0m     \u001b[0;32mreturn\u001b[0m \u001b[0mgrid_lfp\u001b[0m\u001b[0;34m,\u001b[0m \u001b[0mgrid\u001b[0m\u001b[0;34m\u001b[0m\u001b[0;34m\u001b[0m\u001b[0m\n\u001b[1;32m     28\u001b[0m \u001b[0;34m\u001b[0m\u001b[0m\n",
      "\u001b[0;32m~/envs/stylized-cell/lib64/python3.8/site-packages/scipy/interpolate/ndgriddata.py\u001b[0m in \u001b[0;36mgriddata\u001b[0;34m(points, values, xi, method, fill_value, rescale)\u001b[0m\n\u001b[1;32m    260\u001b[0m         ip = LinearNDInterpolator(points, values, fill_value=fill_value,\n\u001b[1;32m    261\u001b[0m                                   rescale=rescale)\n\u001b[0;32m--> 262\u001b[0;31m         \u001b[0;32mreturn\u001b[0m \u001b[0mip\u001b[0m\u001b[0;34m(\u001b[0m\u001b[0mxi\u001b[0m\u001b[0;34m)\u001b[0m\u001b[0;34m\u001b[0m\u001b[0;34m\u001b[0m\u001b[0m\n\u001b[0m\u001b[1;32m    263\u001b[0m     \u001b[0;32melif\u001b[0m \u001b[0mmethod\u001b[0m \u001b[0;34m==\u001b[0m \u001b[0;34m'cubic'\u001b[0m \u001b[0;32mand\u001b[0m \u001b[0mndim\u001b[0m \u001b[0;34m==\u001b[0m \u001b[0;36m2\u001b[0m\u001b[0;34m:\u001b[0m\u001b[0;34m\u001b[0m\u001b[0;34m\u001b[0m\u001b[0m\n\u001b[1;32m    264\u001b[0m         ip = CloughTocher2DInterpolator(points, values, fill_value=fill_value,\n",
      "\u001b[0;32minterpnd.pyx\u001b[0m in \u001b[0;36mscipy.interpolate.interpnd.NDInterpolatorBase.__call__\u001b[0;34m()\u001b[0m\n",
      "\u001b[0;32minterpnd.pyx\u001b[0m in \u001b[0;36mscipy.interpolate.interpnd._ndim_coords_from_arrays\u001b[0;34m()\u001b[0m\n",
      "\u001b[0;32m~/envs/stylized-cell/lib64/python3.8/site-packages/numpy/core/_asarray.py\u001b[0m in \u001b[0;36masanyarray\u001b[0;34m(a, dtype, order, like)\u001b[0m\n\u001b[1;32m    108\u001b[0m \u001b[0;34m\u001b[0m\u001b[0m\n\u001b[1;32m    109\u001b[0m \u001b[0;34m\u001b[0m\u001b[0m\n\u001b[0;32m--> 110\u001b[0;31m \u001b[0;34m@\u001b[0m\u001b[0mset_array_function_like_doc\u001b[0m\u001b[0;34m\u001b[0m\u001b[0;34m\u001b[0m\u001b[0m\n\u001b[0m\u001b[1;32m    111\u001b[0m \u001b[0;34m@\u001b[0m\u001b[0mset_module\u001b[0m\u001b[0;34m(\u001b[0m\u001b[0;34m'numpy'\u001b[0m\u001b[0;34m)\u001b[0m\u001b[0;34m\u001b[0m\u001b[0;34m\u001b[0m\u001b[0m\n\u001b[1;32m    112\u001b[0m \u001b[0;32mdef\u001b[0m \u001b[0masanyarray\u001b[0m\u001b[0;34m(\u001b[0m\u001b[0ma\u001b[0m\u001b[0;34m,\u001b[0m \u001b[0mdtype\u001b[0m\u001b[0;34m=\u001b[0m\u001b[0;32mNone\u001b[0m\u001b[0;34m,\u001b[0m \u001b[0morder\u001b[0m\u001b[0;34m=\u001b[0m\u001b[0;32mNone\u001b[0m\u001b[0;34m,\u001b[0m \u001b[0;34m*\u001b[0m\u001b[0;34m,\u001b[0m \u001b[0mlike\u001b[0m\u001b[0;34m=\u001b[0m\u001b[0;32mNone\u001b[0m\u001b[0;34m)\u001b[0m\u001b[0;34m:\u001b[0m\u001b[0;34m\u001b[0m\u001b[0;34m\u001b[0m\u001b[0m\n",
      "\u001b[0;31mKeyboardInterrupt\u001b[0m: "
     ]
    }
   ],
   "source": [
    "def build_posteriors(proposal: Optional[Any], \n",
    "                     inference: PosteriorEstimator, \n",
    "                     simulator: Callable,\n",
    "                     rounds: int=params.IM_NUMBER_OF_ROUNDS,\n",
    "                     num_sims: int=params.IM_NUMBER_OF_SIMULATIONS,\n",
    "                     regenerate_data: bool=True) -> DirectPosterior:\n",
    "    for i in range(rounds):\n",
    "        if regenerate_data is not True:\n",
    "            fname_theta = \"theta_pyro_pm\" + str(i) + \".npy\"\n",
    "            fname_x = \"x_pyro_pm\" + str(i) + \".npy\"\n",
    "            if os.path.isfile(fname_theta) and os.path.isfile(fname_x):\n",
    "                theta = torch.Tensor(np.load(fname_theta))\n",
    "                x = torch.Tensor(np.load(fname_x))\n",
    "            else:\n",
    "                theta, x = simulate_for_sbi(\n",
    "                    simulator,\n",
    "                    proposal,\n",
    "                    num_simulations=num_sims\n",
    "                )\n",
    "        else:\n",
    "            theta, x = simulate_for_sbi(\n",
    "                    simulator,\n",
    "                    proposal,\n",
    "                    num_simulations=num_sims\n",
    "                )\n",
    "\n",
    "        np.save(\"theta_pyro_pm\" + str(i) + \".npy\", theta)\n",
    "        np.save(\"x_pyro_pm\" + str(i) + \".npy\", x)\n",
    "\n",
    "        density_estimator = inference.append_simulations(np.squeeze(theta), x, proposal=proposal).train()\n",
    "\n",
    "        posterior = inference.build_posterior(\n",
    "            density_estimator, \n",
    "            sample_with=\"mcmc\", \n",
    "            mcmc_method=\"nuts\", \n",
    "            mcmc_parameters={'num_chains': 8, 'thin': 10, 'warmup_steps': 20}\n",
    "        )\n",
    "\n",
    "        with open(paths.POSTERIOR_SAVE + str(i) + \"_pyro_post_pm.pkl\", \"wb\") as handle:\n",
    "            pickle.dump(posterior, handle)\n",
    "\n",
    "        with open(paths.POSTERIOR_SAVE + str(i) + \"_pyro_de_pm.pkl\", \"wb\") as handle:\n",
    "            pickle.dump(density_estimator, handle)\n",
    "        proposal = posterior.set_default_x(x_o)\n",
    "\n",
    "    inference._summary_writer = None\n",
    "    inference._build_neural_net = None\n",
    "    with open(paths.INFERENCER_SAVE + str(i) + \"_pyro_pm.pkl\", \"wb\") as handle:\n",
    "        pickle.dump(inference, handle)\n",
    "    return posterior\n",
    "\n",
    "posterior = build_posteriors(prior, inferencer, simulator)\n",
    "# with open(paths.POSTERIOR_SAVE + \"1_pyro_post.pkl\", \"rb\") as handle:\n",
    "#     posterior = pickle.load(handle)"
   ]
  },
  {
   "cell_type": "code",
   "execution_count": null,
   "id": "increasing-license",
   "metadata": {},
   "outputs": [],
   "source": [
    "samples = posterior.sample(\n",
    "    (500,), \n",
    "    x=x_o, \n",
    "    sample_with='mcmc',\n",
    "    mcmc_method=\"nuts\", \n",
    "    mcmc_parameters={'num_chains': 8, 'thin': 10, 'warmup_steps': 20}\n",
    ")\n",
    "log_probability = posterior.log_prob(samples,x=x_o, norm_posterior=False)\n",
    "plt.hist(log_probability.numpy())"
   ]
  },
  {
   "cell_type": "code",
   "execution_count": null,
   "id": "fbf046f8-011e-4d73-bd1b-1fdb44fc280e",
   "metadata": {},
   "outputs": [],
   "source": [
    "with open(paths.POSTERIOR_SAVE + \"log_probability_pm.pkl\", \"wb\") as handle:\n",
    "    pickle.dump(log_probability, handle)"
   ]
  },
  {
   "cell_type": "code",
   "execution_count": null,
   "id": "verbal-livestock",
   "metadata": {},
   "outputs": [],
   "source": [
    "sample_idx = np.argmax(log_probability)\n",
    "predicted_post = samples[sample_idx]\n",
    "predicted_post"
   ]
  },
  {
   "cell_type": "code",
   "execution_count": null,
   "id": "located-cookbook",
   "metadata": {},
   "outputs": [],
   "source": [
    "save_xo = params.IM_SAVE_X0\n",
    "fig,ax = plot_LFP_traces(t0,x0_trace,savefig=params.IM_SAVE_X0)\n",
    "elec_idx = slice(30,-10)\n",
    "fig,ax = plot_LFP_heatmap(t0,params.IM_Y_DISTANCE[elec_idx],x0_trace[:,elec_idx],vlim='auto',savefig=params.IM_SAVE_X0)"
   ]
  },
  {
   "cell_type": "code",
   "execution_count": null,
   "id": "dental-garden",
   "metadata": {},
   "outputs": [],
   "source": [
    "# predicted_lfp = sim_model(params.IM_RANDOM_SAMPLE,whole_trace=True)\n",
    "predicted_lfp = sim_model(predicted_post,active=params.ACTIVE_CELL,whole_trace=True)\n",
    "\n",
    "fig,ax = plot_LFP_traces(sim.t(),predicted_lfp)\n",
    "start,end = get_spike_window(predicted_lfp,win_size=params.AM_WINDOW_SIZE,align_at=fst_idx)\n",
    "predicted_lfp_win = predicted_lfp[start:end,:]\n",
    "\n",
    "savefig = paths.PASSIVE_INFERENCE_SAVE_TRACES if params.ACTIVE_CELL is False else paths.ACTIVE_INFERENCE_SAVE_TRACES\n",
    "fig,ax = plot_LFP_traces(t0,\n",
    "                         predicted_lfp_win,\n",
    "                         savefig=savefig)\n",
    "\n",
    "savefig = paths.PASSIVE_INFERENCE_SAVE_HEATMAPS if params.ACTIVE_CELL is False else paths.ACTIVE_INFERENCE_SAVE_HEATMAPS\n",
    "fig,ax = plot_LFP_heatmap(t0,\n",
    "                          params.IM_Y_DISTANCE[elec_idx],\n",
    "                          predicted_lfp_win[:,elec_idx],\n",
    "                          vlim='auto',\n",
    "                          savefig=savefig)"
   ]
  },
  {
   "cell_type": "code",
   "execution_count": null,
   "id": "acknowledged-stamp",
   "metadata": {},
   "outputs": [],
   "source": [
    "max_corr, max_ind = max_corrcoef(x0_trace,predicted_lfp)\n",
    "print(max_corr,max_ind)\n",
    "max_corr, max_ind = max_corrcoef(x0_trace,predicted_lfp_win)\n",
    "print(max_corr,max_ind)"
   ]
  },
  {
   "cell_type": "code",
   "execution_count": null,
   "id": "loved-trick",
   "metadata": {},
   "outputs": [],
   "source": [
    "hf_file = paths.PASSIVE_INFERENCE_RESULTS_DATA if params.ACTIVE_CELL is False else paths.ACTIVE_INFERENCE_RESULTS_DATA\n",
    "hf = h5py.File(hf_file, 'w')\n",
    "hf.create_dataset('LFP',data=predicted_lfp)\n",
    "hf.create_dataset('samples',data=samples.numpy())\n",
    "hf.create_dataset('log_prob',data=log_probability.numpy())\n",
    "hf.close()\n",
    "\n",
    "mat_file = paths.PASSIVE_INFERENCE_RESULTS_MATLAB_DATA if params.ACTIVE_CELL is False else paths.ACTIVE_INFERENCE_RESULTS_MATLAB_DATA\n",
    "scipy.io.savemat(mat_file,\n",
    "                 {'LFP':predicted_lfp_win[:,elec_idx],'t':t0,'y_dist':params.IM_Y_DISTANCE[elec_idx]})\n",
    "\n",
    "mat_file = paths.PASSIVE_INFERENCE_RESULTS_X0_MATLAB_DATA if params.ACTIVE_CELL is False else paths.ACTIVE_INFERENCE_RESULTS_X0_MATLAB_DATA\n",
    "scipy.io.savemat(mat_file,\n",
    "                 {'LFP':x0_trace[:,elec_idx],'t':t0,'y_dist':params.IM_Y_DISTANCE[elec_idx]})"
   ]
  },
  {
   "cell_type": "code",
   "execution_count": null,
   "id": "anticipated-leader",
   "metadata": {},
   "outputs": [],
   "source": [
    "points = torch.Tensor([[1.],[6.0],[600.0]]).reshape(-1,3)#torch.Tensor([[0],[50],[np.pi/4], [0.0], [0.8], [6.0], [400.0], [0.5], [0.5], [0.5], [200.0]]).reshape(-1,11)\n",
    "labels_params = [r'h',r'soma radius',r'trunk length']\n",
    "bounds = [[-1,1],[3,12],[20,800]]#[[-2000,2000],[20,200],[-(np.pi/3),np.pi/3],[-1,1],[0,np.pi],[3,12],[20,800],[0.2,1.0],[0.2,1.0],[0.2,1.0],[100,300]]\n",
    "fig, axes = analysis.pairplot(samples,\n",
    "                           limits = bounds,# params.IM_PARAMETER_BOUNDS,\n",
    "                           ticks = bounds,#params.IM_PARAMETER_BOUNDS,\n",
    "                           figsize=(12,12),\n",
    "                           #points=true_params,\n",
    "                           points_offdiag={'markersize': 6},\n",
    "                           labels = labels_params,\n",
    "                           points_colors='r')"
   ]
  },
  {
   "cell_type": "code",
   "execution_count": null,
   "id": "welcome-criterion",
   "metadata": {},
   "outputs": [],
   "source": [
    "%matplotlib inline\n",
    "\n",
    "# labels_params = params.IM_GRAPHING_LABELS\n",
    "points = torch.Tensor([[1.],[6.0],[600.0]]).reshape(-1,3)#torch.Tensor([[0],[50],[np.pi/4], [0.0], [0.8], [6.0], [400.0], [0.5], [0.5], [0.5], [200.0]]).reshape(-1,11)\n",
    "labels_params = [r'h',r'soma radius',r'trunk length']\n",
    "bounds = [[-1,1],[3,12],[20,800]]#[[-2000,2000],[20,200],[-(np.pi/3),np.pi/3],[-1,1],[0,np.pi],[3,12],[20,800],[0.2,1.0],[0.2,1.0],[0.2,1.0],[100,300]]\n",
    "fig, axes = analysis.pairplot(samples,\n",
    "                           limits = bounds, #params.IM_PARAMETER_BOUNDS,\n",
    "                           ticks = bounds, #params.IM_PARAMETER_BOUNDS,\n",
    "                           figsize=(25,25),\n",
    "                           points=points,\n",
    "                           points_offdiag={'markersize': 6},\n",
    "                           labels = labels_params,\n",
    "                           points_colors='r')\n",
    "\n",
    "# axes[4][4].set_xlabel('\\u03BB',fontsize = 40)\n",
    "for i in range(len(bounds)):\n",
    "    axes[i][i].tick_params('x',labelsize=15)\n",
    "    axes[i][i].xaxis.label.set_fontsize(40)\n",
    "\n",
    "for i,b in enumerate(bounds):\n",
    "    axes[i][i].set_xticklabels([str(b[0]),str(b[1])],fontsize=30)\n",
    "\n",
    "    \n",
    "save_file = paths.PASSIVE_INFERENCE_SAVE_KDE if params.ACTIVE_CELL is False else paths.ACTIVE_INFERENCE_SAVE_KDE\n",
    "plt.savefig(save_file,bbox_inches='tight',transparent=True)"
   ]
  },
  {
   "cell_type": "code",
   "execution_count": null,
   "id": "generous-crystal",
   "metadata": {},
   "outputs": [],
   "source": [
    "points = torch.Tensor([[1.],[6.0],[600.0]]).reshape(-1,3)#torch.Tensor([[0],[50],[np.pi/4], [0.0], [0.8], [6.0], [400.0], [0.5], [0.5], [0.5], [200.0]]).reshape(-1,11)\n",
    "labels_params = [r'h',r'soma radius',r'trunk length']\n",
    "bounds = [[-1,1],[3,12],[20,800]]#[[-2000,2000],[20,200],[-(np.pi/3),np.pi/3],[-1,1],[0,np.pi],[3,12],[20,800],[0.2,1.0],[0.2,1.0],[0.2,1.0],[100,300]]\n",
    "fig, axes = analysis.pairplot(samples,\n",
    "                           limits = bounds,#params.IM_PARAMETER_BOUNDS,\n",
    "                           ticks = bounds,#params.IM_PARAMETER_BOUNDS,\n",
    "                           figsize=(12,12),\n",
    "                           points=points,\n",
    "                           points_offdiag={'markersize': 6},\n",
    "                           labels = labels_params,\n",
    "                           points_colors='r')"
   ]
  },
  {
   "cell_type": "code",
   "execution_count": null,
   "id": "43c6d96e-05d9-492b-85ab-11d7c44b217f",
   "metadata": {},
   "outputs": [],
   "source": []
  }
 ],
 "metadata": {
  "kernelspec": {
   "display_name": "Python 3",
   "language": "python",
   "name": "python3"
  },
  "language_info": {
   "codemirror_mode": {
    "name": "ipython",
    "version": 3
   },
   "file_extension": ".py",
   "mimetype": "text/x-python",
   "name": "python",
   "nbconvert_exporter": "python",
   "pygments_lexer": "ipython3",
   "version": "3.8.11"
  }
 },
 "nbformat": 4,
 "nbformat_minor": 5
}
