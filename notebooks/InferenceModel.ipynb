{
 "cells": [
  {
   "cell_type": "markdown",
   "id": "d57bd7af-01cc-4545-899d-a12d0c3b77bb",
   "metadata": {},
   "source": [
    "## INFERENCE MODEL\n",
    "Setup inference model"
   ]
  },
  {
   "cell_type": "code",
   "execution_count": 1,
   "id": "e6d47af0-7b79-4ea9-b2fe-80ba50a29254",
   "metadata": {},
   "outputs": [],
   "source": [
    "import os, sys\n",
    "sys.path.append(os.path.split(sys.path[0])[0])\n",
    "\n",
    "#Dependencies\n",
    "import dill\n",
    "import h5py\n",
    "import math\n",
    "import matplotlib.pyplot as plt\n",
    "import numpy as np\n",
    "import pickle\n",
    "from sbi.inference import SNPE, prepare_for_sbi, simulate_for_sbi\n",
    "import sbi.utils as utils\n",
    "from sbi.utils.get_nn_models import posterior_nn  # For SNLE: likelihood_nn(). For SNRE: classifier_nn()\n",
    "from scipy import signal, stats as spstats\n",
    "import scipy.io\n",
    "import torch\n",
    "import torch.nn as nn\n",
    "import torch.nn.functional as F\n",
    "\n",
    "#Project Imports\n",
    "import config.params as params\n",
    "import config.paths as paths\n",
    "from stylized_module.base.passive_model_soma_injection import run_pm_simulation\n",
    "from stylized_module.models.cnn import SummaryNet\n",
    "from utils.metrics.corrcoef import corrcoef, max_corrcoef\n",
    "from utils.plotting.plot_results import plot_LFP_traces,plot_LFP_heatmap\n",
    "from utils.spike_window import first_pk_tr, get_spike_window"
   ]
  },
  {
   "cell_type": "markdown",
   "id": "3141e189-df69-4ef8-8c4a-3d98a7da4396",
   "metadata": {},
   "source": [
    "Helper Functions"
   ]
  },
  {
   "cell_type": "code",
   "execution_count": 2,
   "id": "fd292884-9d65-4a03-989e-5c116237eb41",
   "metadata": {},
   "outputs": [],
   "source": [
    "rng = np.random.default_rng(123412)\n",
    "\n",
    "def model(param,whole_trace=False):\n",
    "    #Replace theta with random number\n",
    "    theta = [rng.uniform(low=params.IM_THETA_BOUNDS[0], high=params.IM_THETA_BOUNDS[1])]\n",
    "    sim.set_loc_param(torch.cat((param[:2], torch.tensor(theta), param[2:4])))\n",
    "    scalVal = 1 #10 ** param[5]\n",
    "    sim.set_scale(scalVal)\n",
    "    sim.set_geo_param(param[4:])\n",
    "    sim.create_cells()\n",
    "    sim.run()\n",
    "    lfp = sim.get_lfp().T\n",
    "    filtered_lfp = signal.lfilter(filt_b,filt_a,lfp,axis=0) # filter along row of the lfp 2d-array, if each row is a channel\n",
    "    if not whole_trace:\n",
    "        start,end = get_spike_window(filtered_lfp,win_size=params.PM_WINDOW_SIZE,align_at=fst_idx)\n",
    "        filtered_lfp = filtered_lfp[start:end,:]\n",
    "    return filtered_lfp\n",
    "\n",
    "\n",
    "def Stats(lfp):\n",
    "    \"\"\"\n",
    "    Calculates summary statistics\n",
    "    results = model(params)\n",
    "    \"\"\"\n",
    "    lfp = np.asarray(lfp)\n",
    "    \n",
    "    avg = np.mean(lfp,axis=0) # average voltage of each channel\n",
    "#     stdDev = np.std(lfp,axis=0) # stDev of the voltage of each channel\n",
    "    tT = np.argmin(lfp,axis=0)\n",
    "    tP = np.argmax(lfp,axis=0)\n",
    "    Troughs = np.take_along_axis(lfp,np.expand_dims(tT,axis=0),axis=0)\n",
    "    Peaks = np.take_along_axis(lfp,np.expand_dims(tP,axis=0),axis=0)\n",
    "    relT = tP-tT\n",
    "    stats_list = [avg,Troughs,Peaks,relT]\n",
    "    \n",
    "    def statscalc(stats):\n",
    "        stats = stats.ravel()\n",
    "        mean = np.mean(stats)\n",
    "        std = np.std(stats)\n",
    "        m = np.argmin(stats)\n",
    "        min_pos = params.IM_Y_DISTANCE[m]\n",
    "        min_val = stats[m]\n",
    "        M = np.argmax(stats)\n",
    "        max_pos = params.IM_Y_DISTANCE[M] \n",
    "        max_val = stats[M]\n",
    "        All = np.array([mean,std,min_pos,min_val,max_pos,max_val])\n",
    "        return All\n",
    "    \n",
    "    allStats = np.concatenate([statscalc(x) for x in stats_list])\n",
    "    return allStats\n",
    "\n",
    "def cat_output(lfp):\n",
    "    output = np.concatenate((lfp.ravel(),Stats(lfp)))\n",
    "    return torch.from_numpy(output)\n",
    "\n",
    "def simulation(params):\n",
    "    lfp = model(params)\n",
    "    return cat_output(lfp)"
   ]
  },
  {
   "cell_type": "code",
   "execution_count": 3,
   "id": "86d92876-07e1-4439-b5bd-893bb90c42d6",
   "metadata": {},
   "outputs": [],
   "source": [
    "filt_b,filt_a = signal.butter(params.IM_BUTTERWORTH_ORDER,\n",
    "                              params.IM_CRITICAL_FREQUENCY,\n",
    "                              params.IM_BANDFILTER_TYPE,\n",
    "                              fs=params.IM_FILTER_SAMPLING_RATE)\n",
    "\n",
    "sim, window_size, x0_trace, t0 = run_pm_simulation()\n",
    "\n",
    "fst_idx = first_pk_tr(x0_trace)"
   ]
  },
  {
   "cell_type": "code",
   "execution_count": 4,
   "id": "9a2d98a2-3ec2-4ffb-9fc5-1978427ce599",
   "metadata": {},
   "outputs": [],
   "source": [
    "simulator, prior = prepare_for_sbi(simulation, params.IM_PRIOR_DISTRIBUTION)\n",
    "x_o = cat_output(x0_trace)"
   ]
  },
  {
   "cell_type": "code",
   "execution_count": 5,
   "id": "1037e452-bb80-44b1-b621-fc361c9ad43c",
   "metadata": {},
   "outputs": [],
   "source": [
    "# instantiate the neural density estimator\n",
    "density_estimator_build_fun = posterior_nn(model=params.IM_POSTERIOR_MODEL_ESTIMATOR,\n",
    "                                           embedding_net=params.IM_EMBEDDED_NETWORK,\n",
    "                                           hidden_features=params.IM_POSTERIOR_MODEL_HIDDEN_LAYERS)\n",
    "\n",
    "inference = SNPE(prior=prior,density_estimator=density_estimator_build_fun,show_progress_bars=True)"
   ]
  },
  {
   "cell_type": "code",
   "execution_count": 6,
   "id": "89b1b289-f4cd-4fc3-9351-d3861c9c8320",
   "metadata": {},
   "outputs": [
    {
     "data": {
      "application/vnd.jupyter.widget-view+json": {
       "model_id": "1f479c3666744cebb1e911122c74aef6",
       "version_major": 2,
       "version_minor": 0
      },
      "text/plain": [
       "Running 5000 simulations.:   0%|          | 0/5000 [00:00<?, ?it/s]"
      ]
     },
     "metadata": {},
     "output_type": "display_data"
    },
    {
     "ename": "KeyboardInterrupt",
     "evalue": "",
     "output_type": "error",
     "traceback": [
      "\u001b[0;31m---------------------------------------------------------------------------\u001b[0m",
      "\u001b[0;31mKeyboardInterrupt\u001b[0m                         Traceback (most recent call last)",
      "\u001b[0;32m<ipython-input-6-d9517500308e>\u001b[0m in \u001b[0;36m<module>\u001b[0;34m\u001b[0m\n\u001b[1;32m      3\u001b[0m \u001b[0;34m\u001b[0m\u001b[0m\n\u001b[1;32m      4\u001b[0m \u001b[0;32mfor\u001b[0m \u001b[0mi\u001b[0m \u001b[0;32min\u001b[0m \u001b[0mrange\u001b[0m\u001b[0;34m(\u001b[0m\u001b[0mparams\u001b[0m\u001b[0;34m.\u001b[0m\u001b[0mIM_NUMBER_OF_ROUNDS\u001b[0m\u001b[0;34m)\u001b[0m\u001b[0;34m:\u001b[0m\u001b[0;34m\u001b[0m\u001b[0;34m\u001b[0m\u001b[0m\n\u001b[0;32m----> 5\u001b[0;31m     \u001b[0mtheta\u001b[0m\u001b[0;34m,\u001b[0m \u001b[0mx\u001b[0m \u001b[0;34m=\u001b[0m \u001b[0msimulate_for_sbi\u001b[0m\u001b[0;34m(\u001b[0m\u001b[0msimulator\u001b[0m\u001b[0;34m,\u001b[0m\u001b[0mproposal\u001b[0m\u001b[0;34m,\u001b[0m\u001b[0mnum_simulations\u001b[0m\u001b[0;34m=\u001b[0m\u001b[0mparams\u001b[0m\u001b[0;34m.\u001b[0m\u001b[0mIM_NUMBER_OF_SIMULATIONS\u001b[0m\u001b[0;34m)\u001b[0m\u001b[0;34m\u001b[0m\u001b[0;34m\u001b[0m\u001b[0m\n\u001b[0m\u001b[1;32m      6\u001b[0m      \u001b[0;31m# In `SNLE` and `SNRE`, you should not pass the `proposal` to `.append_simulations()`\u001b[0m\u001b[0;34m\u001b[0m\u001b[0;34m\u001b[0m\u001b[0;34m\u001b[0m\u001b[0m\n\u001b[1;32m      7\u001b[0m     \u001b[0mdensity_estimator\u001b[0m \u001b[0;34m=\u001b[0m \u001b[0minference\u001b[0m\u001b[0;34m.\u001b[0m\u001b[0mappend_simulations\u001b[0m\u001b[0;34m(\u001b[0m\u001b[0mtheta\u001b[0m\u001b[0;34m,\u001b[0m \u001b[0mx\u001b[0m\u001b[0;34m,\u001b[0m \u001b[0mproposal\u001b[0m\u001b[0;34m=\u001b[0m\u001b[0mproposal\u001b[0m\u001b[0;34m)\u001b[0m\u001b[0;34m.\u001b[0m\u001b[0mtrain\u001b[0m\u001b[0;34m(\u001b[0m\u001b[0;34m)\u001b[0m\u001b[0;34m\u001b[0m\u001b[0;34m\u001b[0m\u001b[0m\n",
      "\u001b[0;32m~/venvs/sbi/lib/python3.8/site-packages/sbi/inference/base.py\u001b[0m in \u001b[0;36msimulate_for_sbi\u001b[0;34m(simulator, proposal, num_simulations, num_workers, simulation_batch_size, show_progress_bar)\u001b[0m\n\u001b[1;32m    549\u001b[0m     \u001b[0mtheta\u001b[0m \u001b[0;34m=\u001b[0m \u001b[0mproposal\u001b[0m\u001b[0;34m.\u001b[0m\u001b[0msample\u001b[0m\u001b[0;34m(\u001b[0m\u001b[0;34m(\u001b[0m\u001b[0mnum_simulations\u001b[0m\u001b[0;34m,\u001b[0m\u001b[0;34m)\u001b[0m\u001b[0;34m)\u001b[0m\u001b[0;34m\u001b[0m\u001b[0;34m\u001b[0m\u001b[0m\n\u001b[1;32m    550\u001b[0m \u001b[0;34m\u001b[0m\u001b[0m\n\u001b[0;32m--> 551\u001b[0;31m     x = simulate_in_batches(\n\u001b[0m\u001b[1;32m    552\u001b[0m         \u001b[0msimulator\u001b[0m\u001b[0;34m,\u001b[0m\u001b[0;34m\u001b[0m\u001b[0;34m\u001b[0m\u001b[0m\n\u001b[1;32m    553\u001b[0m         \u001b[0mtheta\u001b[0m\u001b[0;34m,\u001b[0m\u001b[0;34m\u001b[0m\u001b[0;34m\u001b[0m\u001b[0m\n",
      "\u001b[0;32m~/venvs/sbi/lib/python3.8/site-packages/sbi/simulators/simutils.py\u001b[0m in \u001b[0;36msimulate_in_batches\u001b[0;34m(simulator, theta, sim_batch_size, num_workers, show_progress_bars)\u001b[0m\n\u001b[1;32m     73\u001b[0m                 \u001b[0msimulation_outputs\u001b[0m \u001b[0;34m=\u001b[0m \u001b[0;34m[\u001b[0m\u001b[0;34m]\u001b[0m\u001b[0;34m\u001b[0m\u001b[0;34m\u001b[0m\u001b[0m\n\u001b[1;32m     74\u001b[0m                 \u001b[0;32mfor\u001b[0m \u001b[0mbatch\u001b[0m \u001b[0;32min\u001b[0m \u001b[0mbatches\u001b[0m\u001b[0;34m:\u001b[0m\u001b[0;34m\u001b[0m\u001b[0;34m\u001b[0m\u001b[0m\n\u001b[0;32m---> 75\u001b[0;31m                     \u001b[0msimulation_outputs\u001b[0m\u001b[0;34m.\u001b[0m\u001b[0mappend\u001b[0m\u001b[0;34m(\u001b[0m\u001b[0msimulator\u001b[0m\u001b[0;34m(\u001b[0m\u001b[0mbatch\u001b[0m\u001b[0;34m)\u001b[0m\u001b[0;34m)\u001b[0m\u001b[0;34m\u001b[0m\u001b[0;34m\u001b[0m\u001b[0m\n\u001b[0m\u001b[1;32m     76\u001b[0m                     \u001b[0mpbar\u001b[0m\u001b[0;34m.\u001b[0m\u001b[0mupdate\u001b[0m\u001b[0;34m(\u001b[0m\u001b[0msim_batch_size\u001b[0m\u001b[0;34m)\u001b[0m\u001b[0;34m\u001b[0m\u001b[0;34m\u001b[0m\u001b[0m\n\u001b[1;32m     77\u001b[0m \u001b[0;34m\u001b[0m\u001b[0m\n",
      "\u001b[0;32m~/venvs/sbi/lib/python3.8/site-packages/sbi/utils/user_input_checks.py\u001b[0m in \u001b[0;36mbatch_loop_simulator\u001b[0;34m(theta)\u001b[0m\n\u001b[1;32m    427\u001b[0m         \u001b[0;34m\"\"\"Return a batch of simulations by looping over a batch of parameters.\"\"\"\u001b[0m\u001b[0;34m\u001b[0m\u001b[0;34m\u001b[0m\u001b[0m\n\u001b[1;32m    428\u001b[0m         \u001b[0;32massert\u001b[0m \u001b[0mtheta\u001b[0m\u001b[0;34m.\u001b[0m\u001b[0mndim\u001b[0m \u001b[0;34m>\u001b[0m \u001b[0;36m1\u001b[0m\u001b[0;34m,\u001b[0m \u001b[0;34m\"Theta must have a batch dimension.\"\u001b[0m\u001b[0;34m\u001b[0m\u001b[0;34m\u001b[0m\u001b[0m\n\u001b[0;32m--> 429\u001b[0;31m         \u001b[0mxs\u001b[0m \u001b[0;34m=\u001b[0m \u001b[0mlist\u001b[0m\u001b[0;34m(\u001b[0m\u001b[0mmap\u001b[0m\u001b[0;34m(\u001b[0m\u001b[0msimulator\u001b[0m\u001b[0;34m,\u001b[0m \u001b[0mtheta\u001b[0m\u001b[0;34m)\u001b[0m\u001b[0;34m)\u001b[0m\u001b[0;34m\u001b[0m\u001b[0;34m\u001b[0m\u001b[0m\n\u001b[0m\u001b[1;32m    430\u001b[0m         \u001b[0;32mreturn\u001b[0m \u001b[0mtorch\u001b[0m\u001b[0;34m.\u001b[0m\u001b[0mcat\u001b[0m\u001b[0;34m(\u001b[0m\u001b[0mxs\u001b[0m\u001b[0;34m,\u001b[0m \u001b[0mdim\u001b[0m\u001b[0;34m=\u001b[0m\u001b[0;36m0\u001b[0m\u001b[0;34m)\u001b[0m\u001b[0;34m.\u001b[0m\u001b[0mreshape\u001b[0m\u001b[0;34m(\u001b[0m\u001b[0mtheta\u001b[0m\u001b[0;34m.\u001b[0m\u001b[0mshape\u001b[0m\u001b[0;34m[\u001b[0m\u001b[0;36m0\u001b[0m\u001b[0;34m]\u001b[0m\u001b[0;34m,\u001b[0m \u001b[0;34m-\u001b[0m\u001b[0;36m1\u001b[0m\u001b[0;34m)\u001b[0m\u001b[0;34m\u001b[0m\u001b[0;34m\u001b[0m\u001b[0m\n\u001b[1;32m    431\u001b[0m \u001b[0;34m\u001b[0m\u001b[0m\n",
      "\u001b[0;32m~/venvs/sbi/lib/python3.8/site-packages/sbi/utils/user_input_checks.py\u001b[0m in \u001b[0;36mpytorch_simulator\u001b[0;34m(theta)\u001b[0m\n\u001b[1;32m    392\u001b[0m         \u001b[0;31m# Define a wrapper to make sure that the output of the simulator is `float32`.\u001b[0m\u001b[0;34m\u001b[0m\u001b[0;34m\u001b[0m\u001b[0;34m\u001b[0m\u001b[0m\n\u001b[1;32m    393\u001b[0m         \u001b[0;32mdef\u001b[0m \u001b[0mpytorch_simulator\u001b[0m\u001b[0;34m(\u001b[0m\u001b[0mtheta\u001b[0m\u001b[0;34m:\u001b[0m \u001b[0mTensor\u001b[0m\u001b[0;34m)\u001b[0m \u001b[0;34m->\u001b[0m \u001b[0mTensor\u001b[0m\u001b[0;34m:\u001b[0m\u001b[0;34m\u001b[0m\u001b[0;34m\u001b[0m\u001b[0m\n\u001b[0;32m--> 394\u001b[0;31m             \u001b[0;32mreturn\u001b[0m \u001b[0mtorch\u001b[0m\u001b[0;34m.\u001b[0m\u001b[0mas_tensor\u001b[0m\u001b[0;34m(\u001b[0m\u001b[0msimulator\u001b[0m\u001b[0;34m(\u001b[0m\u001b[0mtheta\u001b[0m\u001b[0;34m)\u001b[0m\u001b[0;34m,\u001b[0m \u001b[0mdtype\u001b[0m\u001b[0;34m=\u001b[0m\u001b[0mfloat32\u001b[0m\u001b[0;34m)\u001b[0m\u001b[0;34m\u001b[0m\u001b[0;34m\u001b[0m\u001b[0m\n\u001b[0m\u001b[1;32m    395\u001b[0m \u001b[0;34m\u001b[0m\u001b[0m\n\u001b[1;32m    396\u001b[0m     \u001b[0;32mreturn\u001b[0m \u001b[0mpytorch_simulator\u001b[0m\u001b[0;34m\u001b[0m\u001b[0;34m\u001b[0m\u001b[0m\n",
      "\u001b[0;32m<ipython-input-2-11e9dcb40c79>\u001b[0m in \u001b[0;36msimulation\u001b[0;34m(params)\u001b[0m\n\u001b[1;32m     55\u001b[0m \u001b[0;34m\u001b[0m\u001b[0m\n\u001b[1;32m     56\u001b[0m \u001b[0;32mdef\u001b[0m \u001b[0msimulation\u001b[0m\u001b[0;34m(\u001b[0m\u001b[0mparams\u001b[0m\u001b[0;34m)\u001b[0m\u001b[0;34m:\u001b[0m\u001b[0;34m\u001b[0m\u001b[0;34m\u001b[0m\u001b[0m\n\u001b[0;32m---> 57\u001b[0;31m     \u001b[0mlfp\u001b[0m \u001b[0;34m=\u001b[0m \u001b[0mmodel\u001b[0m\u001b[0;34m(\u001b[0m\u001b[0mparams\u001b[0m\u001b[0;34m)\u001b[0m\u001b[0;34m\u001b[0m\u001b[0;34m\u001b[0m\u001b[0m\n\u001b[0m\u001b[1;32m     58\u001b[0m     \u001b[0;32mreturn\u001b[0m \u001b[0mcat_output\u001b[0m\u001b[0;34m(\u001b[0m\u001b[0mlfp\u001b[0m\u001b[0;34m)\u001b[0m\u001b[0;34m\u001b[0m\u001b[0;34m\u001b[0m\u001b[0m\n",
      "\u001b[0;32m<ipython-input-2-11e9dcb40c79>\u001b[0m in \u001b[0;36mmodel\u001b[0;34m(param, whole_trace)\u001b[0m\n\u001b[1;32m      9\u001b[0m     \u001b[0msim\u001b[0m\u001b[0;34m.\u001b[0m\u001b[0mset_geo_param\u001b[0m\u001b[0;34m(\u001b[0m\u001b[0mparam\u001b[0m\u001b[0;34m[\u001b[0m\u001b[0;36m4\u001b[0m\u001b[0;34m:\u001b[0m\u001b[0;34m]\u001b[0m\u001b[0;34m)\u001b[0m\u001b[0;34m\u001b[0m\u001b[0;34m\u001b[0m\u001b[0m\n\u001b[1;32m     10\u001b[0m     \u001b[0msim\u001b[0m\u001b[0;34m.\u001b[0m\u001b[0mcreate_cells\u001b[0m\u001b[0;34m(\u001b[0m\u001b[0;34m)\u001b[0m\u001b[0;34m\u001b[0m\u001b[0;34m\u001b[0m\u001b[0m\n\u001b[0;32m---> 11\u001b[0;31m     \u001b[0msim\u001b[0m\u001b[0;34m.\u001b[0m\u001b[0mrun\u001b[0m\u001b[0;34m(\u001b[0m\u001b[0;34m)\u001b[0m\u001b[0;34m\u001b[0m\u001b[0;34m\u001b[0m\u001b[0m\n\u001b[0m\u001b[1;32m     12\u001b[0m     \u001b[0mlfp\u001b[0m \u001b[0;34m=\u001b[0m \u001b[0msim\u001b[0m\u001b[0;34m.\u001b[0m\u001b[0mget_lfp\u001b[0m\u001b[0;34m(\u001b[0m\u001b[0;34m)\u001b[0m\u001b[0;34m.\u001b[0m\u001b[0mT\u001b[0m\u001b[0;34m\u001b[0m\u001b[0;34m\u001b[0m\u001b[0m\n\u001b[1;32m     13\u001b[0m     \u001b[0mfiltered_lfp\u001b[0m \u001b[0;34m=\u001b[0m \u001b[0msignal\u001b[0m\u001b[0;34m.\u001b[0m\u001b[0mlfilter\u001b[0m\u001b[0;34m(\u001b[0m\u001b[0mfilt_b\u001b[0m\u001b[0;34m,\u001b[0m\u001b[0mfilt_a\u001b[0m\u001b[0;34m,\u001b[0m\u001b[0mlfp\u001b[0m\u001b[0;34m,\u001b[0m\u001b[0maxis\u001b[0m\u001b[0;34m=\u001b[0m\u001b[0;36m0\u001b[0m\u001b[0;34m)\u001b[0m \u001b[0;31m# filter along row of the lfp 2d-array, if each row is a channel\u001b[0m\u001b[0;34m\u001b[0m\u001b[0;34m\u001b[0m\u001b[0m\n",
      "\u001b[0;32m~/repos/neurolab_file_transfer/stylized_module/base/passive_model_soma_injection.py\u001b[0m in \u001b[0;36mrun\u001b[0;34m(self)\u001b[0m\n\u001b[1;32m    148\u001b[0m     \u001b[0;32mdef\u001b[0m \u001b[0mrun\u001b[0m\u001b[0;34m(\u001b[0m\u001b[0mself\u001b[0m\u001b[0;34m)\u001b[0m\u001b[0;34m:\u001b[0m\u001b[0;34m\u001b[0m\u001b[0;34m\u001b[0m\u001b[0m\n\u001b[1;32m    149\u001b[0m         \u001b[0;34m\"\"\"Run simulation\"\"\"\u001b[0m\u001b[0;34m\u001b[0m\u001b[0;34m\u001b[0m\u001b[0m\n\u001b[0;32m--> 150\u001b[0;31m         \u001b[0mh\u001b[0m\u001b[0;34m.\u001b[0m\u001b[0mrun\u001b[0m\u001b[0;34m(\u001b[0m\u001b[0;34m)\u001b[0m\u001b[0;34m\u001b[0m\u001b[0;34m\u001b[0m\u001b[0m\n\u001b[0m\u001b[1;32m    151\u001b[0m \u001b[0;34m\u001b[0m\u001b[0m\n\u001b[1;32m    152\u001b[0m     \u001b[0;32mdef\u001b[0m \u001b[0mt\u001b[0m\u001b[0;34m(\u001b[0m\u001b[0mself\u001b[0m\u001b[0;34m)\u001b[0m\u001b[0;34m:\u001b[0m\u001b[0;34m\u001b[0m\u001b[0;34m\u001b[0m\u001b[0m\n",
      "\u001b[0;31mKeyboardInterrupt\u001b[0m: "
     ]
    }
   ],
   "source": [
    "posteriors = []\n",
    "proposal = prior\n",
    "\n",
    "for i in range(params.IM_NUMBER_OF_ROUNDS):\n",
    "    theta, x = simulate_for_sbi(simulator,proposal,num_simulations=params.IM_NUMBER_OF_SIMULATIONS)\n",
    "     # In `SNLE` and `SNRE`, you should not pass the `proposal` to `.append_simulations()`\n",
    "    density_estimator = inference.append_simulations(theta, x, proposal=proposal).train()\n",
    "    posterior = inference.build_posterior(density_estimator,sample_with_mcmc=True) # sample_with_mcmc=True\n",
    "    \n",
    "    with open(paths.POSTERIOR_SAVE + str(i) + \".pkl\", \"wb\") as handle:\n",
    "        pickle.dump(posterior, handle)\n",
    "    \n",
    "#     with open(paths.INFERENCER_SAVE + str(i) + \".pkl\", \"wb\") as handle:\n",
    "#         dill.dump(inference, handle)\n",
    "        \n",
    "    posteriors.append(posterior)\n",
    "    proposal = posterior.set_default_x(x_o)"
   ]
  },
  {
   "cell_type": "code",
   "execution_count": null,
   "id": "4d8246c0-5d86-4810-bcaf-74a02947b738",
   "metadata": {},
   "outputs": [],
   "source": [
    "samples = posterior.sample((1000,), x=x_o, sample_with_mcmc=True) #, sample_with_mcmc=True\n",
    "\n",
    "#posterior.leakage_correction(x_o, num_rejection_samples=1000)\n",
    "log_probability = posterior.log_prob(samples,x=x_o, norm_posterior=False) #, norm_posterior=False\n",
    "plt.hist(log_probability.numpy())"
   ]
  },
  {
   "cell_type": "code",
   "execution_count": null,
   "id": "a5fe24a2-fac4-4db8-a386-ccf6e5279238",
   "metadata": {},
   "outputs": [],
   "source": [
    "sample_idx = np.argmax(log_probability)\n",
    "predicted_post = samples[sample_idx]\n",
    "predicted_post"
   ]
  },
  {
   "cell_type": "code",
   "execution_count": null,
   "id": "1b20a031-dbe9-4d0b-9163-23e5f55a6da3",
   "metadata": {},
   "outputs": [],
   "source": [
    "save_xo = params.IM_SAVE_X0\n",
    "# save_xo = 'x_0_traces.pdf'\n",
    "fig,ax = plot_LFP_traces(t0,x0_trace,savefig=params.IM_SAVE_X0)\n",
    "# save_xo = 'x_0_HTmap.pdf'\n",
    "elec_idx = slice(30,-10)\n",
    "fig,ax = plot_LFP_heatmap(t0,params.IM_Y_DISTANCE[elec_idx],x0_trace[:,elec_idx],vlim=[-1,1],savefig=params.IM_SAVE_X0)"
   ]
  },
  {
   "cell_type": "code",
   "execution_count": null,
   "id": "b7646357-8d9e-4b6d-98c6-d7b2a7de74ef",
   "metadata": {},
   "outputs": [],
   "source": [
    "# predicted_lfp = model(params.IM_RANDOM_SAMPLE,whole_trace=True)\n",
    "predicted_lfp = model(predicted_post,whole_trace=True)\n",
    "\n",
    "savefig = None\n",
    "fig,ax = plot_LFP_traces(sim.t(),predicted_lfp)\n",
    "start,end = get_spike_window(predicted_lfp,win_size=params.PM_WINDOW_SIZE,align_at=fst_idx)\n",
    "predicted_lfp_win = predicted_lfp[start:end,:]\n",
    "\n",
    "fig,ax = plot_LFP_traces(t0,\n",
    "                         predicted_lfp_win,\n",
    "                         savefig=paths.PASSIVE_INFERENCE_SAVE_TRACES)\n",
    "\n",
    "fig,ax = plot_LFP_heatmap(t0,\n",
    "                          params.IM_Y_DISTANCE[elec_idx],\n",
    "                          predicted_lfp_win[:,elec_idx],\n",
    "                          vlim=[-1,1],\n",
    "                          savefig=paths.PASSIVE_INFERENCE_SAVE_HEATMAPS)"
   ]
  },
  {
   "cell_type": "code",
   "execution_count": null,
   "id": "0b21aff9-0fad-4dc9-ac4d-8ae89a31049e",
   "metadata": {},
   "outputs": [],
   "source": [
    "max_corr, max_ind = max_corrcoef(x0_trace,predicted_lfp)\n",
    "print(max_corr,max_ind)\n",
    "max_corr, max_ind = max_corrcoef(x0_trace,predicted_lfp_win)\n",
    "print(max_corr,max_ind)"
   ]
  },
  {
   "cell_type": "code",
   "execution_count": null,
   "id": "94d7abf3-cb6f-4fd8-b022-bbe77d1b89a0",
   "metadata": {},
   "outputs": [],
   "source": [
    "hf = h5py.File(paths.PASSIVE_INFERENCE_RESULTS_DATA, 'w')\n",
    "hf.create_dataset('LFP',data=predicted_lfp)\n",
    "hf.create_dataset('samples',data=samples.numpy())\n",
    "hf.create_dataset('log_prob',data=log_probability.numpy())\n",
    "hf.close()\n",
    "\n",
    "scipy.io.savemat(paths.PASSIVE_INFERENCE_RESULTS_MATLAB_DATA,\n",
    "                 {'LFP':predicted_lfp_win[:,elec_idx],'t':t0,'y_dist':params.IM_Y_DISTANCE[elec_idx]})\n",
    "\n",
    "scipy.io.savemat(paths.PASSIVE_INFERENCE_RESULTS_X0_MATLAB_DATA,\n",
    "                 {'LFP':x0_trace[:,elec_idx],'t':t0,'y_dist':params.IM_Y_DISTANCE[elec_idx]})"
   ]
  },
  {
   "cell_type": "code",
   "execution_count": null,
   "id": "418b7d7b-4744-412b-9abb-eaed26c86a09",
   "metadata": {},
   "outputs": [],
   "source": [
    "labels_params = params.IM_GRAPHING_LABELS\n",
    "fig, axes = utils.pairplot(samples,\n",
    "                           limits = params.IM_PARAMETER_BOUNDS,\n",
    "                           ticks = params.IM_PARAMETER_BOUNDS,\n",
    "                           fig_size=(12,12),\n",
    "                           #points=true_params,\n",
    "                           points_offdiag={'markersize': 6},\n",
    "                           labels = params.IM_GRAPHING_LABELS,\n",
    "                           points_colors='r');"
   ]
  },
  {
   "cell_type": "code",
   "execution_count": null,
   "id": "046c58b4-0f01-4b69-8758-d8eec956ebb3",
   "metadata": {},
   "outputs": [],
   "source": [
    "%matplotlib inline\n",
    "\n",
    "labels_params = params.IM_GRAPHING_LABELS\n",
    "bounds_ticks = params.IM_PARAMETER_BOUNDS\n",
    "bounds_ticks[2] = bounds_ticks[4] = [0,3.14]\n",
    "fig, axes = utils.pairplot(samples,\n",
    "                           limits = params.IM_PARAMETER_BOUNDS,\n",
    "                           ticks = params.IM_PARAMETER_BOUNDS,\n",
    "                           fig_size=(15,15),\n",
    "                           #points=true_params,\n",
    "                           points_offdiag={'markersize': 6},\n",
    "                           labels = params.IM_GRAPHING_LABELS,\n",
    "                           points_colors='r');\n",
    "\n",
    "# axes[4][4].set_xlabel('\\u03BB',fontsize = 40)\n",
    "for i in range(len(params.IM_PARAMETER_BOUNDS)):\n",
    "    axes[i][i].tick_params('x',labelsize=15)\n",
    "    axes[i][i].xaxis.label.set_fontsize(40)\n",
    "\n",
    "for i,b in enumerate(params.IM_PARAMETER_BOUNDS):\n",
    "    axes[i][i].set_xticklabels([str(b[0]),str(b[1])],fontsize=30)\n",
    "\n",
    "plt.savefig(paths.PASSIVE_INFERENCE_SAVE_KDE,bbox_inches='tight',transparent=True)"
   ]
  },
  {
   "cell_type": "code",
   "execution_count": null,
   "id": "be27b383-c57c-4110-8621-138989944616",
   "metadata": {},
   "outputs": [],
   "source": []
  }
 ],
 "metadata": {
  "kernelspec": {
   "display_name": "Python 3",
   "language": "python",
   "name": "python3"
  },
  "language_info": {
   "codemirror_mode": {
    "name": "ipython",
    "version": 3
   },
   "file_extension": ".py",
   "mimetype": "text/x-python",
   "name": "python",
   "nbconvert_exporter": "python",
   "pygments_lexer": "ipython3",
   "version": "3.8.10"
  }
 },
 "nbformat": 4,
 "nbformat_minor": 5
}
