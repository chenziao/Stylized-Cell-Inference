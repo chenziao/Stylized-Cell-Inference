{
 "cells": [
  {
   "cell_type": "markdown",
   "source": [
    "## INFERENCE MODEL\n",
    "Setup inference model"
   ],
   "metadata": {}
  },
  {
   "cell_type": "code",
   "execution_count": 1,
   "source": [
    "import os, sys\r\n",
    "sys.path.append(os.path.split(sys.path[0])[0])\r\n",
    "\r\n",
    "#Dependencies\r\n",
    "import h5py\r\n",
    "import math\r\n",
    "import matplotlib.pyplot as plt\r\n",
    "import numpy as np\r\n",
    "import pickle\r\n",
    "from sbi.inference import SNPE, prepare_for_sbi, simulate_for_sbi\r\n",
    "import sbi.analysis as analysis\r\n",
    "from sbi.utils.get_nn_models import posterior_nn  # For SNLE: likelihood_nn(). For SNRE: classifier_nn()\r\n",
    "from scipy import signal, stats as spstats\r\n",
    "import scipy.io\r\n",
    "import torch\r\n",
    "import torch.nn as nn\r\n",
    "import torch.nn.functional as F\r\n",
    "\r\n",
    "#Project Imports\r\n",
    "import config.params as params\r\n",
    "import config.paths as paths\r\n",
    "from stylized_module.base.simulate_cells import run_am_simulation, run_pm_simulation, simulate, run_sim_from_sample\r\n",
    "from stylized_module.models.SummaryStats2D import Stats, cat_output\r\n",
    "from utils.metrics.corrcoef import corrcoef, max_corrcoef\r\n",
    "from utils.plotting.plot_results import plot_LFP_traces,plot_LFP_heatmap\r\n",
    "from utils.spike_window import first_pk_tr, get_spike_window\r\n",
    "from utils.transform.distribution_transformation import norm2unif, range2logn, norm2logn, logds_norm2unif, logds_norm2logn"
   ],
   "outputs": [],
   "metadata": {}
  },
  {
   "cell_type": "markdown",
   "source": [
    "Helper Functions"
   ],
   "metadata": {}
  },
  {
   "cell_type": "code",
   "execution_count": 2,
   "source": [
    "# rng = np.random.default_rng(123412)\r\n",
    "\r\n",
    "# def passive_model(param,whole_trace=False):\r\n",
    "#     #Replace theta with random number\r\n",
    "#     theta = [rng.uniform(low=params.IM_THETA_BOUNDS[0], high=params.IM_THETA_BOUNDS[1])]\r\n",
    "#     sim.set_loc_param(torch.cat((torch.zeros(1),param[:2], torch.tensor(theta), param[2:4])))\r\n",
    "#     scalVal = 1 #10 ** param[5]\r\n",
    "#     sim.set_scale(scalVal)\r\n",
    "#     sim.set_geo_param(param[4:])\r\n",
    "#     sim.create_cells()\r\n",
    "#     sim.run()\r\n",
    "#     lfp = sim.get_lfp().T\r\n",
    "#     filtered_lfp = signal.lfilter(filt_b,filt_a,lfp,axis=0) # filter along row of the lfp 2d-array, if each row is a channel\r\n",
    "#     if not whole_trace:\r\n",
    "#         start,end = get_spike_window(filtered_lfp,win_size=params.PM_WINDOW_SIZE,align_at=fst_idx)\r\n",
    "#         filtered_lfp = filtered_lfp[start:end,:]\r\n",
    "#     return filtered_lfp\r\n",
    "\r\n",
    "# def active_model(param,whole_trace=False):\r\n",
    "# #     biophys = [param[0],-1,-1,param[1],-1,param[2],-1]\r\n",
    "# #     sim.set_biophys(biophys)\r\n",
    "    \r\n",
    "#     #Replace alpha with random number\r\n",
    "#     alpha = rng.uniform(low=params.IM_ALPHA_BOUNDS[0], high=params.IM_ALPHA_BOUNDS[1])\r\n",
    "#     d = norm2unif(param[1], params.IM_PARAMETER_BOUNDS[1][0], params.IM_PARAMETER_BOUNDS[1][1])\r\n",
    "#     theta = norm2unif(param[2], params.IM_PARAMETER_BOUNDS[2][0], params.IM_PARAMETER_BOUNDS[2][1])\r\n",
    "#     x = d * np.sin(theta)\r\n",
    "#     z = d * np.cos(theta)\r\n",
    "    \r\n",
    "#     numpy_list = np.array([\r\n",
    "#         x, #x\r\n",
    "#         norm2unif(param[0], params.IM_PARAMETER_BOUNDS[0][0], params.IM_PARAMETER_BOUNDS[0][1]), #y\r\n",
    "#         z, #z\r\n",
    "#         alpha, #alpha\r\n",
    "#         norm2unif(param[3], params.IM_PARAMETER_BOUNDS[3][0], params.IM_PARAMETER_BOUNDS[3][1]), #h\r\n",
    "#         norm2unif(param[4], params.IM_PARAMETER_BOUNDS[4][0], params.IM_PARAMETER_BOUNDS[4][1]) #phi\r\n",
    "#     ])\r\n",
    "    \r\n",
    "#     sim.set_loc_param(torch.from_numpy(numpy_list))\r\n",
    "    \r\n",
    "#     geo_list = np.zeros(6)\r\n",
    "#     geo_list[0] = norm2unif(param[5], params.IM_PARAMETER_BOUNDS[5][0], params.IM_PARAMETER_BOUNDS[5][1])\r\n",
    "#     for i in range(6,11):\r\n",
    "#         if i == 6:\r\n",
    "#             m,s=range2logn(params.IM_PARAMETER_BOUNDS[i][0], params.IM_PARAMETER_BOUNDS[i][1], n_sigma=3)\r\n",
    "#         else:\r\n",
    "#             m,s=range2logn(params.IM_PARAMETER_BOUNDS[i][0], params.IM_PARAMETER_BOUNDS[i][1])\r\n",
    "#         geo_list[i-5] = norm2logn(param[i], m, s)\r\n",
    "\r\n",
    "# #     m1,s1=range2logn(params.IM_PARAMETER_BOUNDS[5][0], params.IM_PARAMETER_BOUNDS[5][1], n_sigma=3)\r\n",
    "# #     l_t  =norm2unif(param[5], params.IM_PARAMETER_BOUNDS[5][0], params.IM_PARAMETER_BOUNDS[5][1])\r\n",
    "# #     m2,s2=range2logn(params.IM_PARAMETER_BOUNDS[6][0], params.IM_PARAMETER_BOUNDS[6][1], n_sigma=3)\r\n",
    "# #     m3,s3=range2logn(params.IM_PARAMETER_BOUNDS[7][0], params.IM_PARAMETER_BOUNDS[7][1])\r\n",
    "# #     m4,s4=range2logn(params.IM_PARAMETER_BOUNDS[8][0], params.IM_PARAMETER_BOUNDS[8][1])\r\n",
    "# #     m5,s5=range2logn(params.IM_PARAMETER_BOUNDS[9][0], params.IM_PARAMETER_BOUNDS[9][1])\r\n",
    "# #     m6,s6=range2logn(params.IM_PARAMETER_BOUNDS[10][0], params.IM_PARAMETER_BOUNDS[10][1])\r\n",
    "\r\n",
    "# #     numpy_list = np.array([\r\n",
    "# #         l_t,                       #l_t\r\n",
    "# #         norm2logn(param[6],m2,s2), #r_s\r\n",
    "# #         norm2logn(param[7],m3,s3), #r_t\r\n",
    "# #         norm2logn(param[8],m4,s4), #r_d\r\n",
    "# #         norm2logn(param[9],m5,s5), #r_tu, shouldn't be inferred?\r\n",
    "# #         norm2logn(param[10],m6,s6) #l_d\r\n",
    "# #     ])\r\n",
    "\r\n",
    "#     sim.set_geo_param(torch.from_numpy(geo_list))\r\n",
    "\r\n",
    "#     scalVal = 1 #10 ** param[5]\r\n",
    "#     sim.set_scale(scalVal)\r\n",
    "    \r\n",
    "#     sim.set_gmax(params.GT_GMAX)\r\n",
    "# #     scalVal = 10 ** param[4]\r\n",
    "#     sim.set_scale(scalVal)\r\n",
    "#     sim.create_cells()\r\n",
    "#     sim.run()\r\n",
    "#     lfp = sim.get_lfp().T\r\n",
    "#     filtered_lfp = signal.lfilter(filt_b,filt_a,lfp,axis=0) # filter along row of the lfp 2d-array, if each row is a channel\r\n",
    "#     if not whole_trace:\r\n",
    "#         start,end = get_spike_window(filtered_lfp,win_size=params.AM_WINDOW_SIZE,align_at=fst_idx)\r\n",
    "#         filtered_lfp = filtered_lfp[start:end,:]\r\n",
    "#     return filtered_lfp\r\n",
    "\r\n",
    "# def simulation(sim_params):\r\n",
    "#     lfp = passive_model(sim_params) if params.ACTIVE_CELL is False else active_model(sim_params)\r\n",
    "#     return cat_output(lfp)"
   ],
   "outputs": [],
   "metadata": {}
  },
  {
   "cell_type": "code",
   "execution_count": 3,
   "source": [
    "# # filt_b,filt_a = signal.butter(params.IM_BUTTERWORTH_ORDER,\r\n",
    "# #                               params.IM_CRITICAL_FREQUENCY,\r\n",
    "# #                               params.IM_BANDFILTER_TYPE,\r\n",
    "# #                               fs=params.IM_FILTER_SAMPLING_RATE)\r\n",
    "\r\n",
    "# sim, window_size, x0_trace, t0 = run_pm_simulation() if params.ACTIVE_CELL is False else run_am_simulation()\r\n",
    "\r\n",
    "# fst_idx = first_pk_tr(x0_trace)"
   ],
   "outputs": [],
   "metadata": {}
  },
  {
   "cell_type": "code",
   "execution_count": 4,
   "source": [
    "# simulator, prior = prepare_for_sbi(simulate, params.IM_PRIOR_DISTRIBUTION)\r\n",
    "# x_o = cat_output(x0_trace)\r\n",
    "# print(x_o.shape)"
   ],
   "outputs": [
    {
     "output_type": "stream",
     "name": "stdout",
     "text": [
      "torch.Size([72991])\n"
     ]
    }
   ],
   "metadata": {}
  },
  {
   "cell_type": "code",
   "execution_count": 5,
   "source": [
    "# # instantiate the neural density estimator\r\n",
    "# density_estimator_build_fun = posterior_nn(model=params.IM_POSTERIOR_MODEL_ESTIMATOR,\r\n",
    "#                                            embedding_net=params.IM_EMBEDDED_NETWORK,\r\n",
    "#                                            hidden_features=params.IM_POSTERIOR_MODEL_HIDDEN_LAYERS)\r\n",
    "\r\n",
    "# inference = SNPE(prior=prior,density_estimator=density_estimator_build_fun,show_progress_bars=True)"
   ],
   "outputs": [],
   "metadata": {}
  },
  {
   "cell_type": "code",
   "execution_count": 6,
   "source": [
    "# posteriors = []\r\n",
    "# proposal = prior\r\n",
    "\r\n",
    "# for i in range(params.IM_NUMBER_OF_ROUNDS):\r\n",
    "#     theta, x = simulate_for_sbi(simulator,proposal,num_simulations=params.IM_NUMBER_OF_SIMULATIONS)\r\n",
    "#      # In `SNLE` and `SNRE`, you should not pass the `proposal` to `.append_simulations()`\r\n",
    "# #     density_estimator = inference.append_simulations(np.squeeze(theta), np.squeeze(x), proposal=proposal).train()\r\n",
    "#     density_estimator = inference.append_simulations(np.squeeze(theta), x, proposal=proposal).train()\r\n",
    "#     posterior = inference.build_posterior(density_estimator, sample_with=\"mcmc\")\r\n",
    "    \r\n",
    "#     with open(paths.POSTERIOR_SAVE + str(i) + \"_post.pkl\", \"wb\") as handle:\r\n",
    "#         pickle.dump(posterior, handle)\r\n",
    "        \r\n",
    "#     with open(paths.POSTERIOR_SAVE + str(i) + \"_de.pkl\", \"wb\") as handle:\r\n",
    "#         pickle.dump(density_estimator, handle)\r\n",
    "        \r\n",
    "#     posteriors.append(posterior)\r\n",
    "#     proposal = posterior.set_default_x(x_o)\r\n",
    "    \r\n",
    "# inference._summary_writer = None\r\n",
    "# inference._build_neural_net = None\r\n",
    "# with open(paths.INFERENCER_SAVE + str(i) + \".pkl\", \"wb\") as handle:\r\n",
    "#     pickle.dump(inference, handle)\r\n",
    "\r\n",
    "# # with open(paths.POSTERIOR_SAVE + \"1_post.pkl\", \"rb\") as handle:\r\n",
    "# #     posterior = pickle.load(handle)"
   ],
   "outputs": [
    {
     "output_type": "display_data",
     "data": {
      "application/vnd.jupyter.widget-view+json": {
       "model_id": "244ee16f906144d6b85fb46bf9b6dc60",
       "version_major": 2,
       "version_minor": 0
      },
      "text/plain": [
       "Running 10 simulations.:   0%|          | 0/10 [00:00<?, ?it/s]"
      ]
     },
     "metadata": {}
    },
    {
     "output_type": "stream",
     "name": "stdout",
     "text": [
      "Training neural network. Epochs trained:  34\r"
     ]
    },
    {
     "output_type": "error",
     "ename": "KeyboardInterrupt",
     "evalue": "",
     "traceback": [
      "\u001b[0;31m---------------------------------------------------------------------------\u001b[0m",
      "\u001b[0;31mKeyboardInterrupt\u001b[0m                         Traceback (most recent call last)",
      "\u001b[0;32m<ipython-input-6-f65110ad5e5c>\u001b[0m in \u001b[0;36m<module>\u001b[0;34m\u001b[0m\n\u001b[1;32m      6\u001b[0m      \u001b[0;31m# In `SNLE` and `SNRE`, you should not pass the `proposal` to `.append_simulations()`\u001b[0m\u001b[0;34m\u001b[0m\u001b[0;34m\u001b[0m\u001b[0;34m\u001b[0m\u001b[0m\n\u001b[1;32m      7\u001b[0m \u001b[0;31m#     density_estimator = inference.append_simulations(np.squeeze(theta), np.squeeze(x), proposal=proposal).train()\u001b[0m\u001b[0;34m\u001b[0m\u001b[0;34m\u001b[0m\u001b[0;34m\u001b[0m\u001b[0m\n\u001b[0;32m----> 8\u001b[0;31m     \u001b[0mdensity_estimator\u001b[0m \u001b[0;34m=\u001b[0m \u001b[0minference\u001b[0m\u001b[0;34m.\u001b[0m\u001b[0mappend_simulations\u001b[0m\u001b[0;34m(\u001b[0m\u001b[0mnp\u001b[0m\u001b[0;34m.\u001b[0m\u001b[0msqueeze\u001b[0m\u001b[0;34m(\u001b[0m\u001b[0mtheta\u001b[0m\u001b[0;34m)\u001b[0m\u001b[0;34m,\u001b[0m \u001b[0mx\u001b[0m\u001b[0;34m,\u001b[0m \u001b[0mproposal\u001b[0m\u001b[0;34m=\u001b[0m\u001b[0mproposal\u001b[0m\u001b[0;34m)\u001b[0m\u001b[0;34m.\u001b[0m\u001b[0mtrain\u001b[0m\u001b[0;34m(\u001b[0m\u001b[0;34m)\u001b[0m\u001b[0;34m\u001b[0m\u001b[0;34m\u001b[0m\u001b[0m\n\u001b[0m\u001b[1;32m      9\u001b[0m     \u001b[0mposterior\u001b[0m \u001b[0;34m=\u001b[0m \u001b[0minference\u001b[0m\u001b[0;34m.\u001b[0m\u001b[0mbuild_posterior\u001b[0m\u001b[0;34m(\u001b[0m\u001b[0mdensity_estimator\u001b[0m\u001b[0;34m,\u001b[0m \u001b[0msample_with\u001b[0m\u001b[0;34m=\u001b[0m\u001b[0;34m\"mcmc\"\u001b[0m\u001b[0;34m)\u001b[0m\u001b[0;34m\u001b[0m\u001b[0;34m\u001b[0m\u001b[0m\n\u001b[1;32m     10\u001b[0m \u001b[0;34m\u001b[0m\u001b[0m\n",
      "\u001b[0;32m~/envs/stylized-cell/lib64/python3.8/site-packages/sbi/inference/snpe/snpe_c.py\u001b[0m in \u001b[0;36mtrain\u001b[0;34m(self, num_atoms, training_batch_size, learning_rate, validation_fraction, stop_after_epochs, max_num_epochs, clip_max_norm, calibration_kernel, exclude_invalid_x, resume_training, discard_prior_samples, use_combined_loss, retrain_from_scratch_each_round, show_train_summary, dataloader_kwargs)\u001b[0m\n\u001b[1;32m    185\u001b[0m                 \u001b[0mself\u001b[0m\u001b[0;34m.\u001b[0m\u001b[0m_set_state_for_mog_proposal\u001b[0m\u001b[0;34m(\u001b[0m\u001b[0;34m)\u001b[0m\u001b[0;34m\u001b[0m\u001b[0;34m\u001b[0m\u001b[0m\n\u001b[1;32m    186\u001b[0m \u001b[0;34m\u001b[0m\u001b[0m\n\u001b[0;32m--> 187\u001b[0;31m         \u001b[0;32mreturn\u001b[0m \u001b[0msuper\u001b[0m\u001b[0;34m(\u001b[0m\u001b[0;34m)\u001b[0m\u001b[0;34m.\u001b[0m\u001b[0mtrain\u001b[0m\u001b[0;34m(\u001b[0m\u001b[0;34m**\u001b[0m\u001b[0mkwargs\u001b[0m\u001b[0;34m)\u001b[0m\u001b[0;34m\u001b[0m\u001b[0;34m\u001b[0m\u001b[0m\n\u001b[0m\u001b[1;32m    188\u001b[0m \u001b[0;34m\u001b[0m\u001b[0m\n\u001b[1;32m    189\u001b[0m     \u001b[0;32mdef\u001b[0m \u001b[0m_set_state_for_mog_proposal\u001b[0m\u001b[0;34m(\u001b[0m\u001b[0mself\u001b[0m\u001b[0;34m)\u001b[0m \u001b[0;34m->\u001b[0m \u001b[0;32mNone\u001b[0m\u001b[0;34m:\u001b[0m\u001b[0;34m\u001b[0m\u001b[0;34m\u001b[0m\u001b[0m\n",
      "\u001b[0;32m~/envs/stylized-cell/lib64/python3.8/site-packages/sbi/inference/snpe/snpe_base.py\u001b[0m in \u001b[0;36mtrain\u001b[0;34m(self, training_batch_size, learning_rate, validation_fraction, stop_after_epochs, max_num_epochs, clip_max_norm, calibration_kernel, exclude_invalid_x, resume_training, discard_prior_samples, retrain_from_scratch_each_round, show_train_summary, dataloader_kwargs)\u001b[0m\n\u001b[1;32m    291\u001b[0m                 \u001b[0mtrain_log_prob_sum\u001b[0m \u001b[0;34m+=\u001b[0m \u001b[0mbatch_loss\u001b[0m\u001b[0;34m.\u001b[0m\u001b[0msum\u001b[0m\u001b[0;34m(\u001b[0m\u001b[0;34m)\u001b[0m\u001b[0;34m.\u001b[0m\u001b[0mitem\u001b[0m\u001b[0;34m(\u001b[0m\u001b[0;34m)\u001b[0m\u001b[0;34m\u001b[0m\u001b[0;34m\u001b[0m\u001b[0m\n\u001b[1;32m    292\u001b[0m \u001b[0;34m\u001b[0m\u001b[0m\n\u001b[0;32m--> 293\u001b[0;31m                 \u001b[0mbatch_loss\u001b[0m\u001b[0;34m.\u001b[0m\u001b[0mbackward\u001b[0m\u001b[0;34m(\u001b[0m\u001b[0;34m)\u001b[0m\u001b[0;34m\u001b[0m\u001b[0;34m\u001b[0m\u001b[0m\n\u001b[0m\u001b[1;32m    294\u001b[0m                 \u001b[0;32mif\u001b[0m \u001b[0mclip_max_norm\u001b[0m \u001b[0;32mis\u001b[0m \u001b[0;32mnot\u001b[0m \u001b[0;32mNone\u001b[0m\u001b[0;34m:\u001b[0m\u001b[0;34m\u001b[0m\u001b[0;34m\u001b[0m\u001b[0m\n\u001b[1;32m    295\u001b[0m                     clip_grad_norm_(\n",
      "\u001b[0;32m~/envs/stylized-cell/lib64/python3.8/site-packages/torch/tensor.py\u001b[0m in \u001b[0;36mbackward\u001b[0;34m(self, gradient, retain_graph, create_graph, inputs)\u001b[0m\n\u001b[1;32m    243\u001b[0m                 \u001b[0mcreate_graph\u001b[0m\u001b[0;34m=\u001b[0m\u001b[0mcreate_graph\u001b[0m\u001b[0;34m,\u001b[0m\u001b[0;34m\u001b[0m\u001b[0;34m\u001b[0m\u001b[0m\n\u001b[1;32m    244\u001b[0m                 inputs=inputs)\n\u001b[0;32m--> 245\u001b[0;31m         \u001b[0mtorch\u001b[0m\u001b[0;34m.\u001b[0m\u001b[0mautograd\u001b[0m\u001b[0;34m.\u001b[0m\u001b[0mbackward\u001b[0m\u001b[0;34m(\u001b[0m\u001b[0mself\u001b[0m\u001b[0;34m,\u001b[0m \u001b[0mgradient\u001b[0m\u001b[0;34m,\u001b[0m \u001b[0mretain_graph\u001b[0m\u001b[0;34m,\u001b[0m \u001b[0mcreate_graph\u001b[0m\u001b[0;34m,\u001b[0m \u001b[0minputs\u001b[0m\u001b[0;34m=\u001b[0m\u001b[0minputs\u001b[0m\u001b[0;34m)\u001b[0m\u001b[0;34m\u001b[0m\u001b[0;34m\u001b[0m\u001b[0m\n\u001b[0m\u001b[1;32m    246\u001b[0m \u001b[0;34m\u001b[0m\u001b[0m\n\u001b[1;32m    247\u001b[0m     \u001b[0;32mdef\u001b[0m \u001b[0mregister_hook\u001b[0m\u001b[0;34m(\u001b[0m\u001b[0mself\u001b[0m\u001b[0;34m,\u001b[0m \u001b[0mhook\u001b[0m\u001b[0;34m)\u001b[0m\u001b[0;34m:\u001b[0m\u001b[0;34m\u001b[0m\u001b[0;34m\u001b[0m\u001b[0m\n",
      "\u001b[0;32m~/envs/stylized-cell/lib64/python3.8/site-packages/torch/autograd/__init__.py\u001b[0m in \u001b[0;36mbackward\u001b[0;34m(tensors, grad_tensors, retain_graph, create_graph, grad_variables, inputs)\u001b[0m\n\u001b[1;32m    143\u001b[0m         \u001b[0mretain_graph\u001b[0m \u001b[0;34m=\u001b[0m \u001b[0mcreate_graph\u001b[0m\u001b[0;34m\u001b[0m\u001b[0;34m\u001b[0m\u001b[0m\n\u001b[1;32m    144\u001b[0m \u001b[0;34m\u001b[0m\u001b[0m\n\u001b[0;32m--> 145\u001b[0;31m     Variable._execution_engine.run_backward(\n\u001b[0m\u001b[1;32m    146\u001b[0m         \u001b[0mtensors\u001b[0m\u001b[0;34m,\u001b[0m \u001b[0mgrad_tensors_\u001b[0m\u001b[0;34m,\u001b[0m \u001b[0mretain_graph\u001b[0m\u001b[0;34m,\u001b[0m \u001b[0mcreate_graph\u001b[0m\u001b[0;34m,\u001b[0m \u001b[0minputs\u001b[0m\u001b[0;34m,\u001b[0m\u001b[0;34m\u001b[0m\u001b[0;34m\u001b[0m\u001b[0m\n\u001b[1;32m    147\u001b[0m         allow_unreachable=True, accumulate_grad=True)  # allow_unreachable flag\n",
      "\u001b[0;31mKeyboardInterrupt\u001b[0m: "
     ]
    }
   ],
   "metadata": {}
  },
  {
   "cell_type": "code",
   "execution_count": null,
   "source": [
    "# samples = posterior.sample((1000,), x=x_o, sample_with='mcmc') #, sample_with_mcmc=True\r\n",
    "\r\n",
    "# #posterior.leakage_correction(x_o, num_rejection_samples=1000)\r\n",
    "# log_probability = posterior.log_prob(samples,x=x_o, norm_posterior=False) #, norm_posterior=False\r\n",
    "# log_prob_t = log_probability\r\n",
    "# for i in range(6):\r\n",
    "#     log_prob_t += logds_norm2unif(samples[:,i], params.IM_PARAMETER_BOUNDS[i][0], params.IM_PARAMETER_BOUNDS[i][1])\r\n",
    "# for i in range(6,11):\r\n",
    "#     if i == 6:\r\n",
    "#         m,s=range2logn(params.IM_PARAMETER_BOUNDS[i][0], params.IM_PARAMETER_BOUNDS[i][1], n_sigma=3)\r\n",
    "#     else:\r\n",
    "#         m,s=range2logn(params.IM_PARAMETER_BOUNDS[i][0], params.IM_PARAMETER_BOUNDS[i][1])\r\n",
    "#     log_prob_t += logds_norm2logn(samples[:,i], m, s)\r\n",
    "# plt.hist(log_prob_t.numpy())"
   ],
   "outputs": [],
   "metadata": {}
  },
  {
   "cell_type": "code",
   "execution_count": null,
   "source": [
    "# sample_idx = np.argmax(log_prob_t)\r\n",
    "# samples_t = torch.clone(samples)\r\n",
    "# for i in range(6):\r\n",
    "#     samples_t[:,i] = torch.from_numpy(norm2unif(samples[:,i], params.IM_PARAMETER_BOUNDS[i][0], params.IM_PARAMETER_BOUNDS[i][1]))\r\n",
    "# for i in range(6,11):\r\n",
    "#     if i == 6:\r\n",
    "#         m,s=range2logn(params.IM_PARAMETER_BOUNDS[i][0], params.IM_PARAMETER_BOUNDS[i][1], n_sigma=3)\r\n",
    "#     else:\r\n",
    "#         m,s=range2logn(params.IM_PARAMETER_BOUNDS[i][0], params.IM_PARAMETER_BOUNDS[i][1])\r\n",
    "#     samples_t[:,i] = norm2logn(samples[:,i], m, s)\r\n",
    "# predicted_post = samples[sample_idx]\r\n",
    "# predicted_post"
   ],
   "outputs": [],
   "metadata": {}
  },
  {
   "cell_type": "code",
   "execution_count": null,
   "source": [
    "save_xo = params.IM_SAVE_X0\r\n",
    "# save_xo = 'x_0_traces.pdf'\r\n",
    "fig,ax = plot_LFP_traces(t0,x0_trace,savefig=params.IM_SAVE_X0)\r\n",
    "# save_xo = 'x_0_HTmap.pdf'\r\n",
    "elec_idx = slice(30,-10)\r\n",
    "fig,ax = plot_LFP_heatmap(t0,params.IM_Y_DISTANCE[elec_idx],x0_trace[:,elec_idx],vlim='auto',savefig=params.IM_SAVE_X0)"
   ],
   "outputs": [],
   "metadata": {}
  },
  {
   "cell_type": "code",
   "execution_count": null,
   "source": [
    "# predicted_lfp = passive_model(params.IM_RANDOM_SAMPLE,whole_trace=True)\r\n",
    "predicted_lfp = passive_model(predicted_post,whole_trace=True) if params.ACTIVE_CELL is False else active_model(predicted_post, whole_trace=True)\r\n",
    "\r\n",
    "fig,ax = plot_LFP_traces(sim.t(),predicted_lfp)\r\n",
    "start,end = get_spike_window(predicted_lfp,win_size=params.AM_WINDOW_SIZE,align_at=fst_idx)\r\n",
    "predicted_lfp_win = predicted_lfp[start:end,:]\r\n",
    "\r\n",
    "savefig = paths.PASSIVE_INFERENCE_SAVE_TRACES if params.ACTIVE_CELL is False else paths.ACTIVE_INFERENCE_SAVE_TRACES\r\n",
    "fig,ax = plot_LFP_traces(t0,\r\n",
    "                         predicted_lfp_win,\r\n",
    "                         savefig=savefig)\r\n",
    "\r\n",
    "savefig = paths.PASSIVE_INFERENCE_SAVE_HEATMAPS if params.ACTIVE_CELL is False else paths.ACTIVE_INFERENCE_SAVE_HEATMAPS\r\n",
    "fig,ax = plot_LFP_heatmap(t0,\r\n",
    "                          params.IM_Y_DISTANCE[elec_idx],\r\n",
    "                          predicted_lfp_win[:,elec_idx],\r\n",
    "                          vlim='auto',\r\n",
    "                          savefig=savefig)"
   ],
   "outputs": [],
   "metadata": {}
  },
  {
   "cell_type": "code",
   "execution_count": null,
   "source": [
    "max_corr, max_ind = max_corrcoef(x0_trace,predicted_lfp)\r\n",
    "print(max_corr,max_ind)\r\n",
    "max_corr, max_ind = max_corrcoef(x0_trace,predicted_lfp_win)\r\n",
    "print(max_corr,max_ind)"
   ],
   "outputs": [],
   "metadata": {}
  },
  {
   "cell_type": "code",
   "execution_count": null,
   "source": [
    "hf_file = paths.PASSIVE_INFERENCE_RESULTS_DATA if params.ACTIVE_CELL is False else paths.ACTIVE_INFERENCE_RESULTS_DATA\r\n",
    "hf = h5py.File(hf_file, 'w')\r\n",
    "hf.create_dataset('LFP',data=predicted_lfp)\r\n",
    "hf.create_dataset('samples',data=samples.numpy())\r\n",
    "hf.create_dataset('log_prob',data=log_probability.numpy())\r\n",
    "hf.close()\r\n",
    "\r\n",
    "mat_file = paths.PASSIVE_INFERENCE_RESULTS_MATLAB_DATA if params.ACTIVE_CELL is False else paths.ACTIVE_INFERENCE_RESULTS_MATLAB_DATA\r\n",
    "scipy.io.savemat(mat_file,\r\n",
    "                 {'LFP':predicted_lfp_win[:,elec_idx],'t':t0,'y_dist':params.IM_Y_DISTANCE[elec_idx]})\r\n",
    "\r\n",
    "mat_file = paths.PASSIVE_INFERENCE_RESULTS_X0_MATLAB_DATA if params.ACTIVE_CELL is False else paths.ACTIVE_INFERENCE_RESULTS_X0_MATLAB_DATA\r\n",
    "scipy.io.savemat(mat_file,\r\n",
    "                 {'LFP':x0_trace[:,elec_idx],'t':t0,'y_dist':params.IM_Y_DISTANCE[elec_idx]})"
   ],
   "outputs": [],
   "metadata": {}
  },
  {
   "cell_type": "code",
   "execution_count": null,
   "source": [
    "labels_params = params.IM_GRAPHING_LABELS #= [r'y',r'd',r'$\\theta$',r'h',r'$\\phi$',r'soma radius',r'trunk length',r'trunk radius',r'basal radius',r'tuft radius',r'basal length']\r\n",
    "fig, axes = analysis.pairplot(samples_t,\r\n",
    "                           limits = params.IM_PARAMETER_BOUNDS,\r\n",
    "                           ticks = params.IM_PARAMETER_BOUNDS,\r\n",
    "                           figsize=(12,12),\r\n",
    "                           #points=true_params,\r\n",
    "                           points_offdiag={'markersize': 6},\r\n",
    "                           labels = labels_params,\r\n",
    "                           points_colors='r');"
   ],
   "outputs": [],
   "metadata": {}
  },
  {
   "cell_type": "code",
   "execution_count": null,
   "source": [
    "%matplotlib inline\r\n",
    "\r\n",
    "# labels_params = params.IM_GRAPHING_LABELS\r\n",
    "bounds_ticks = params.IM_PARAMETER_BOUNDS\r\n",
    "bounds_ticks[2] = bounds_ticks[4] = [0,3.14]\r\n",
    "fig, axes = analysis.pairplot(samples_t,\r\n",
    "                           limits = params.IM_PARAMETER_BOUNDS,\r\n",
    "                           ticks = params.IM_PARAMETER_BOUNDS,\r\n",
    "                           figsize=(25,25),\r\n",
    "                           #points=true_params,\r\n",
    "                           points_offdiag={'markersize': 6},\r\n",
    "                           labels = labels_params,\r\n",
    "                           points_colors='r');\r\n",
    "\r\n",
    "# axes[4][4].set_xlabel('\\u03BB',fontsize = 40)\r\n",
    "for i in range(len(params.IM_PARAMETER_BOUNDS)):\r\n",
    "    axes[i][i].tick_params('x',labelsize=15)\r\n",
    "    axes[i][i].xaxis.label.set_fontsize(40)\r\n",
    "\r\n",
    "for i,b in enumerate(params.IM_PARAMETER_BOUNDS):\r\n",
    "    axes[i][i].set_xticklabels([str(b[0]),str(b[1])],fontsize=30)\r\n",
    "\r\n",
    "    \r\n",
    "save_file = paths.PASSIVE_INFERENCE_SAVE_KDE if params.ACTIVE_CELL is False else paths.ACTIVE_INFERENCE_SAVE_KDE\r\n",
    "plt.savefig(save_file,bbox_inches='tight',transparent=True)"
   ],
   "outputs": [],
   "metadata": {}
  },
  {
   "cell_type": "code",
   "execution_count": null,
   "source": [],
   "outputs": [],
   "metadata": {}
  }
 ],
 "metadata": {
  "kernelspec": {
   "display_name": "Python 3",
   "language": "python",
   "name": "python3"
  },
  "language_info": {
   "codemirror_mode": {
    "name": "ipython",
    "version": 3
   },
   "file_extension": ".py",
   "mimetype": "text/x-python",
   "name": "python",
   "nbconvert_exporter": "python",
   "pygments_lexer": "ipython3",
   "version": "3.8.11"
  }
 },
 "nbformat": 4,
 "nbformat_minor": 5
}