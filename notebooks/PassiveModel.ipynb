{
 "cells": [
  {
   "cell_type": "markdown",
   "metadata": {},
   "source": [
    "## PASSIVE MODEL\n",
    "Setup simulation of passive model"
   ]
  },
  {
   "cell_type": "code",
   "execution_count": 1,
   "metadata": {},
   "outputs": [],
   "source": [
    "import os, sys\n",
    "sys.path.append(os.path.split(sys.path[0])[0])\n",
    "\n",
    "#Dependencies\n",
    "import h5py\n",
    "from neuron import h\n",
    "import pandas as pd\n",
    "import numpy as np\n",
    "\n",
    "#Project Imports\n",
    "import config.params as params\n",
    "import config.paths as paths\n",
    "from stylized_module.base.passive_model_soma_injection import *\n",
    "\n",
    "\n",
    "geo_standard = pd.read_csv(paths.GEO_STANDARD,index_col='id')\n",
    "h.tstop = params.PM_TSTOP\n",
    "h.dt = params.PM_DT"
   ]
  },
  {
   "cell_type": "markdown",
   "metadata": {},
   "source": [
    "Load data and determine boundaries"
   ]
  },
  {
   "cell_type": "code",
   "execution_count": 2,
   "metadata": {},
   "outputs": [],
   "source": [
    "hf = h5py.File(paths.SIMULATED_DATA_FILE, 'r')\n",
    "groundtruth_lfp = np.array(hf.get('data'))\n",
    "hf.close()\n",
    "\n",
    "maxIndx = np.argmax(np.absolute(groundtruth_lfp).max(axis=0))  # find maximum absolute value from averaged traces\n",
    "maxTrace = -groundtruth_lfp[params.PM_START_IDX:,maxIndx]\n",
    "x0_trace = groundtruth_lfp[params.PM_START_IDX:params.PM_START_IDX+params.PM_WINDOW_SIZE,:]\n",
    "soma_injection = np.insert(maxTrace,0,0.)\n",
    "soma_injection = np.asarray([s * params.PM_SCALING_FACTOR for s in soma_injection])"
   ]
  },
  {
   "cell_type": "markdown",
   "metadata": {},
   "source": [
    "Create and run simulation"
   ]
  },
  {
   "cell_type": "code",
   "execution_count": 3,
   "metadata": {},
   "outputs": [],
   "source": [
    "sim = Simulation(geo_standard,params.PM_ELECTRODE_POSITION,soma_injection)\n",
    "sim.run()\n",
    "t = sim.t()\n",
    "t0 = t[:params.PM_WINDOW_SIZE]"
   ]
  },
  {
   "cell_type": "markdown",
   "metadata": {},
   "source": [
    "Calculate PM_SCALING_FACTOR"
   ]
  },
  {
   "cell_type": "code",
   "execution_count": 4,
   "metadata": {},
   "outputs": [
    {
     "name": "stdout",
     "output_type": "stream",
     "text": [
      "1085.000000000031\n"
     ]
    }
   ],
   "source": [
    "scaling=(30-(sim.cells[0]._vrest))/(np.max(sim.cells[0].v())-(sim.cells[0]._vrest))\n",
    "print(scaling)"
   ]
  },
  {
   "cell_type": "code",
   "execution_count": null,
   "metadata": {},
   "outputs": [],
   "source": []
  }
 ],
 "metadata": {
  "kernelspec": {
   "display_name": "Python 3",
   "language": "python",
   "name": "python3"
  },
  "language_info": {
   "codemirror_mode": {
    "name": "ipython",
    "version": 3
   },
   "file_extension": ".py",
   "mimetype": "text/x-python",
   "name": "python",
   "nbconvert_exporter": "python",
   "pygments_lexer": "ipython3",
   "version": "3.8.10"
  }
 },
 "nbformat": 4,
 "nbformat_minor": 4
}
