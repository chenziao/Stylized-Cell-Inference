{
 "cells": [
  {
   "cell_type": "markdown",
   "id": "0157b77a-c5e5-4457-aece-f6667525420e",
   "metadata": {},
   "source": [
    "## Get ground truth from active model\n",
    "\\*PLEASE NOTE YOU NEED TO COMPILE THE COMPILED/MECHANISMS FOLDER BEFORE RUNNING\\*"
   ]
  },
  {
   "cell_type": "code",
   "execution_count": 1,
   "id": "780b0a1f-8e5d-4a92-9732-367e72a23dd4",
   "metadata": {},
   "outputs": [],
   "source": [
    "import os, sys\n",
    "sys.path.append(os.path.split(sys.path[0])[0])\n",
    "\n",
    "#Dependencies\n",
    "import h5py\n",
    "from neuron import h\n",
    "import numpy as np\n",
    "import pandas as pd\n",
    "from scipy import signal\n",
    "\n",
    "#Project Imports\n",
    "import config.params as params\n",
    "import config.paths as paths\n",
    "# from stylized_module.base.active_model_synapse_input import *\n",
    "from stylized_module.base.passive_model_soma_injection import *\n",
    "\n",
    "# h.nrn_load_dll(os.path.join(mechanisms_path,'nrnmech.dll'))  # running this line more than once might crash the kernel\n",
    "# h.nrn_load_dll(os.path.join(mechanisms_path,'x86_64/.libs/libnrnmech.so'))  # use this line instead in Linux\n",
    "h.nrn_load_dll(paths.COMPILED_LIBRARY)\n",
    "geo_standard = pd.read_csv(paths.GEO_STANDARD,index_col='id')\n",
    "h.tstop = params.GT_TSTOP\n",
    "h.dt = params.GT_DT"
   ]
  },
  {
   "cell_type": "markdown",
   "id": "3a1c2a0d-2c12-4e0d-96a2-faf6d18cc986",
   "metadata": {},
   "source": [
    "Build the simulation, generate an LFP, filter the LFP, and save it to an h5 file"
   ]
  },
  {
   "cell_type": "code",
   "execution_count": 2,
   "id": "3f264b9f-18fe-4c1c-ba06-ee5c068a50f2",
   "metadata": {},
   "outputs": [],
   "source": [
    "sim = Simulation(\n",
    "    geo_standard,\n",
    "    params.GT_ELECTRODE_POSITION,\n",
    "    params.GT_LOCATION_PARAMETERS,\n",
    "#     gmax=params.GT_GMAX,\n",
    "    scale=params.GT_SCALE)\n",
    "sim.run()\n",
    "lfp = sim.get_lfp().T\n",
    "\n",
    "filt_b,filt_a = signal.butter(params.GT_BUTTERWORTH_ORDER,\n",
    "                              params.GT_CRITICAL_FREQUENCY,\n",
    "                              params.GT_BANDFILTER_TYPE,\n",
    "                              fs=params.GT_FILTER_SAMPLING_RATE)\n",
    "\n",
    "lfp = signal.lfilter(filt_b,filt_a,lfp,axis=0)\n",
    "\n",
    "hf = h5py.File(paths.SIMULATED_DATA_FILE, 'w')\n",
    "hf.create_dataset('data',data=lfp)\n",
    "hf.close()"
   ]
  }
 ],
 "metadata": {
  "kernelspec": {
   "display_name": "Python 3",
   "language": "python",
   "name": "python3"
  },
  "language_info": {
   "codemirror_mode": {
    "name": "ipython",
    "version": 3
   },
   "file_extension": ".py",
   "mimetype": "text/x-python",
   "name": "python",
   "nbconvert_exporter": "python",
   "pygments_lexer": "ipython3",
   "version": "3.8.11"
  }
 },
 "nbformat": 4,
 "nbformat_minor": 5
}
