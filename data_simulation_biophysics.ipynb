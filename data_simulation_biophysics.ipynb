{
 "cells": [
  {
   "cell_type": "code",
   "execution_count": 1,
   "metadata": {},
   "outputs": [],
   "source": [
    "import pandas as pd\n",
    "import numpy as np\n",
    "import matplotlib.pyplot as plt\n",
    "import h5py\n",
    "import json\n",
    "import os\n",
    "from copy import deepcopy\n",
    "from tqdm import tqdm\n",
    "from neuron import h\n",
    "\n",
    "from cell_inference.config import paths, params\n",
    "from cell_inference.cells.simulation import SIMULATION_CLASS\n",
    "from cell_inference.cells.stylizedcell import CellTypes\n",
    "from cell_inference.utils.random_parameter_generator import generate_parameters_from_config\n",
    "from cell_inference.utils.feature_extractors.SummaryStats2D import process_lfp\n",
    "from cell_inference.utils.plotting.plot_results import plot_lfp_traces, plot_lfp_heatmap\n",
    "\n",
    "DATA_PATH = paths.SIMULATED_DATA_PATH"
   ]
  },
  {
   "cell_type": "markdown",
   "metadata": {},
   "source": [
    "## Load prediction and choose cell"
   ]
  },
  {
   "cell_type": "code",
   "execution_count": 2,
   "metadata": {},
   "outputs": [],
   "source": [
    "## In vivo data\n",
    "invivo_name = 'all_cell_LFP2D_Analysis_SensorimotorSpikeWaveforms_NP_SUTempFilter_NPExample_v2'\n",
    "# invivo_name = 'all_cell_LFP2D_Analysis_SensorimotorSpikes_NPUnits_large.h5'\n",
    "\n",
    "## Simulation data\n",
    "TRIAL_NAME_PRED = 'Reduced_Order_stochastic_spkwid_trunkLR4_LactvCa_Loc3_h1_sumstats7' # select trial\n",
    "\n",
    "## Trained model\n",
    "model_name = 'CNN' # select model\n",
    "# model_name = 'FCN'\n",
    "# model_name = 'RF'\n",
    "\n",
    "# stats_set_name = ''\n",
    "# stats_set_name = 'GridStats'\n",
    "stats_set_name = 'FullStats5'\n",
    "\n",
    "isCNN = 'CNN' in model_name\n",
    "if not isCNN and stats_set_name:\n",
    "    model_name += '_' + stats_set_name"
   ]
  },
  {
   "cell_type": "code",
   "execution_count": 3,
   "metadata": {},
   "outputs": [],
   "source": [
    "TRIAL_PRED_PATH = os.path.join(DATA_PATH, TRIAL_NAME_PRED)\n",
    "\n",
    "INVIVO_PATH = os.path.join(paths.INVIVO_DATA_PATH, invivo_name)\n",
    "INVIVO_DATA_PATH = os.path.join(INVIVO_PATH, invivo_name + '.h5')\n",
    "INVIVO_LFP_PATH = os.path.join(INVIVO_PATH, 'lfp_' + invivo_name + '.npz')  # LFP and labels\n",
    "\n",
    "with h5py.File(INVIVO_DATA_PATH,'r') as hf, np.load(INVIVO_LFP_PATH) as INVIVO_LFP:\n",
    "    IDs = hf['ID'][()][INVIVO_LFP['good_indices']]\n",
    "\n",
    "MODEL_PATH = os.path.join(TRIAL_PRED_PATH, model_name)\n",
    "INVIVO_PRED_PATH = os.path.join(MODEL_PATH, invivo_name)\n",
    "PRED_PATH = os.path.join(INVIVO_PRED_PATH, model_name + '_prediction.csv')\n",
    "CORR_PATH = os.path.join(INVIVO_PRED_PATH, model_name + '_correlation.csv')\n",
    "\n",
    "df_pred = pd.read_csv(PRED_PATH, index_col=0)\n",
    "pred_idx = df_pred.index.get_indexer(IDs)\n",
    "df_pred = df_pred.iloc[pred_idx]\n",
    "\n",
    "corr_type = 'Coss'  # 'Log_Coss'\n",
    "df_corr = pd.read_csv(CORR_PATH, index_col='cell id').loc[IDs]\n",
    "df_corr = df_corr.sort_values(by=corr_type)\n",
    "# with pd.option_context('display.max_rows', None, 'display.max_columns', None):\n",
    "#     display(pd.concat((df_corr, df_pred), axis=1))"
   ]
  },
  {
   "cell_type": "markdown",
   "metadata": {},
   "source": [
    "### Choose cell"
   ]
  },
  {
   "cell_type": "code",
   "execution_count": 4,
   "metadata": {},
   "outputs": [],
   "source": [
    "select_ID = 236 # 531"
   ]
  },
  {
   "cell_type": "code",
   "execution_count": 5,
   "metadata": {},
   "outputs": [
    {
     "name": "stdout",
     "output_type": "stream",
     "text": [
      "['y', 'd', 'theta', 'l_t', 'lr_pt', 'r_t', 'rr_dt']\n"
     ]
    }
   ],
   "source": [
    "CONFIG_PRED_PATH = os.path.join(TRIAL_PRED_PATH, 'config.json')  # trial configuration\n",
    "with open(CONFIG_PRED_PATH, 'r') as f:\n",
    "    config_pred_dict = json.load(f)\n",
    "\n",
    "inference_pred_list = config_pred_dict['Trial_Parameters']['inference_list']\n",
    "print(inference_pred_list)"
   ]
  },
  {
   "cell_type": "markdown",
   "metadata": {},
   "source": [
    "## Setup"
   ]
  },
  {
   "cell_type": "code",
   "execution_count": 6,
   "metadata": {},
   "outputs": [],
   "source": [
    "TRIAL_NAME = 'Reduced_Order_stochastic_spkwid_trunkLR4_LactvCa_Loc3_h1_Bio2'\n",
    "TRIAL_PATH = os.path.join(DATA_PATH, TRIAL_NAME)"
   ]
  },
  {
   "cell_type": "code",
   "execution_count": 7,
   "metadata": {},
   "outputs": [],
   "source": [
    "batch_id = 0\n",
    "number_cells = 5  # number of neurons\n",
    "number_locs = 1  # number of locations for each neuron\n",
    "rand_seed = 0  # random seed\n",
    "CONFIG_PATH = None  # load from config file if specified\n",
    "\n",
    "if not 'get_ipython' in globals():\n",
    "    import argparse\n",
    "    parser = argparse.ArgumentParser()\n",
    "    parser.add_argument('batch_id', type=int, nargs='?', default=None, help=\"Batch ID\", metavar='Batch ID')\n",
    "    parser.add_argument('-c', type=int, nargs='?', default=number_cells, help=\"Number of cells\", metavar='# Cells')\n",
    "    parser.add_argument('-l', type=int, nargs='?', default=number_locs, help=\"Number of locations\", metavar='# Locations')\n",
    "    parser.add_argument('-seed', type=int, nargs='?', default=rand_seed, help=\"Random Seed\", metavar='Random Seed')\n",
    "    parser.add_argument('-config', type=str, nargs='?', default=CONFIG_PATH, help=\"Configuration file path\", metavar='Config File')\n",
    "    args = parser.parse_args()\n",
    "    batch_id = args.batch_id\n",
    "    number_cells = args.c\n",
    "    number_locs = args.l\n",
    "    rand_seed = args.seed\n",
    "    CONFIG_PATH = args.config\n",
    "else:\n",
    "    get_ipython().run_line_magic('matplotlib', 'inline')"
   ]
  },
  {
   "cell_type": "code",
   "execution_count": 8,
   "metadata": {},
   "outputs": [],
   "source": [
    "if batch_id is None:\n",
    "    batch_id = 0\n",
    "    batch_suf = ''\n",
    "else:\n",
    "    batch_suf = '_%d' % batch_id"
   ]
  },
  {
   "cell_type": "code",
   "execution_count": 9,
   "metadata": {},
   "outputs": [],
   "source": [
    "# load from config file if specified\n",
    "use_config = CONFIG_PATH is not None\n",
    "if use_config:\n",
    "    if not os.path.isfile(CONFIG_PATH):\n",
    "        CONFIG_PATH = os.path.join(TRIAL_PATH, 'config.json')\n",
    "    with open(CONFIG_PATH, 'r') as f:\n",
    "        config_dict = json.load(f)\n",
    "else:\n",
    "    config_dict = deepcopy(config_pred_dict)\n",
    "\n",
    "tr_p = config_dict['Trial_Parameters']\n",
    "sim_p = config_dict['Simulation_Parameters']\n",
    "\n",
    "if not use_config or 'Prediction_Parameters' not in config_dict:\n",
    "    pred_p = dict(\n",
    "        cell_id = select_ID,\n",
    "        predictions = df_pred.loc[select_ID, inference_pred_list].to_dict(),\n",
    "        correlation = df_corr.loc[select_ID].drop('layer').to_dict()\n",
    "    )\n",
    "\n",
    "    MAG_SCALE_PATH = os.path.join(TRIAL_PRED_PATH, 'magnitude_scale.json')\n",
    "    with open(MAG_SCALE_PATH, 'r') as f:\n",
    "        pred_p.update(json.load(f))\n",
    "\n",
    "    config_dict['Prediction_Parameters'] = pred_p\n",
    "else:\n",
    "    pred_p = config_dict['Prediction_Parameters']"
   ]
  },
  {
   "cell_type": "markdown",
   "metadata": {},
   "source": [
    "#### Trial configurations"
   ]
  },
  {
   "cell_type": "code",
   "execution_count": 10,
   "metadata": {},
   "outputs": [],
   "source": [
    "CONFIG_PATH = os.path.join(TRIAL_PATH, 'config.json')  # trial configuration\n",
    "LFP_PATH = os.path.join(TRIAL_PATH, 'lfp' + batch_suf)  # LFP and labels\n",
    "STATS_PATH = os.path.join(TRIAL_PATH, 'summ_stats' + batch_suf)  # summary statistics\n",
    "NSPK_PATH = os.path.join(TRIAL_PATH, 'nspk' + batch_suf)  # summary statistics\n",
    "MEM_VOLT_PATH = os.path.join(TRIAL_PATH, 'mem_volt' + batch_suf)  # membrane voltage and spike times"
   ]
  },
  {
   "cell_type": "code",
   "execution_count": 11,
   "metadata": {},
   "outputs": [],
   "source": [
    "if use_config:\n",
    "    number_cells = tr_p.get('number_cells', number_cells)\n",
    "    number_locs = tr_p.get('number_locs', number_locs)\n",
    "    number_samples = tr_p.get('number_samples', number_cells * number_locs)\n",
    "    rand_seed = tr_p.get('rand_seed', rand_seed)\n",
    "    inference_list = tr_p['inference_list']\n",
    "    randomized_list = tr_p['randomized_list']\n",
    "else:\n",
    "    number_samples = number_cells * number_locs  # number of samples\n",
    "    inference_list = ['s_nat', 's_kv3.1']  # + ['a_nat', 'a_kv3.1', 'a_m']\n",
    "    randomized_list = ['alpha']  # randomized parameters not to inferred\n",
    "    randomized_list = list(set(config_dict['Trial_Parameters']['randomized_list'])\\\n",
    "        - set(config_dict['Trial_Parameters']['inference_list']) | set(randomized_list))\n",
    "    randomized_list += inference_list  # inference list comes after randomized\n",
    "    # parameters not in the two lists above are fixed at default.\n",
    "tr_p.update({\n",
    "    'number_cells': number_cells, 'number_locs': number_locs, \n",
    "    'number_samples': number_samples, 'rand_seed': rand_seed, 'batch_id': batch_id,\n",
    "    'inference_list': inference_list, 'randomized_list': randomized_list\n",
    "})"
   ]
  },
  {
   "cell_type": "markdown",
   "metadata": {},
   "source": [
    "#### Synapse parameters"
   ]
  },
  {
   "cell_type": "code",
   "execution_count": 12,
   "metadata": {},
   "outputs": [],
   "source": [
    "simulation_class = sim_p.get('simulation_class', 'Simulation_stochastic') # 'Simulation_stochastic' or 'Simulation'\n",
    "tstop = sim_p.get('tstop', getattr(params, 'TSTOP' if simulation_class == 'Simulation' else 'STOCHASTIC_TSTOP'))\n",
    "syn_params = sim_p['syn_params']"
   ]
  },
  {
   "cell_type": "markdown",
   "metadata": {},
   "source": [
    "#### Biophysical parameters"
   ]
  },
  {
   "cell_type": "code",
   "execution_count": 13,
   "metadata": {},
   "outputs": [],
   "source": [
    "# Biophysical parameters\n",
    "filepath = './cell_inference/resources/biophys_parameters/ReducedOrderL5_stochastic.json' # active dendrites\n",
    "# filepath = './cell_inference/resources/biophys_parameters/ReducedOrderL5.json' # higer gNa dendrites\n",
    "\n",
    "# Common parameters\n",
    "biophys_param = [np.nan, 0.0213 * 0.6, 0.0213 * 0.6, 0.693 * 2, 0.000261 * 2,\n",
    "                   np.nan, np.nan, np.nan, np.nan, np.nan,\n",
    "                   np.nan, np.nan, np.nan, np.nan, .6, 2.4]\n",
    "biophys_comm = {}\n",
    "\n",
    "# Whether use parameter interpreter\n",
    "interpret_params = True\n",
    "interpret_type = 3\n",
    "\n",
    "# Read from config\n",
    "filepath = sim_p.get('full_biophys', filepath)\n",
    "biophys_default = sim_p.get('biophys_param', biophys_param)\n",
    "biophys_comm = sim_p.get('biophys_comm', biophys_comm)\n",
    "interpret_params = sim_p.get('interpret_params', interpret_params)\n",
    "interpret_type = sim_p.get('interpret_type', interpret_type)\n",
    "\n",
    "with open(filepath) as f:\n",
    "    full_biophys = json.load(f)"
   ]
  },
  {
   "cell_type": "markdown",
   "metadata": {},
   "source": [
    "### Create configuration dictionary"
   ]
  },
  {
   "cell_type": "code",
   "execution_count": 14,
   "metadata": {},
   "outputs": [],
   "source": [
    "# Update simulation configurations\n",
    "loc_param_default = sim_p['loc_param_default']\n",
    "loc_param_default.update({k: v for k, v in pred_p['predictions'].items() if k in loc_param_default})\n",
    "\n",
    "geo_param_default = sim_p['geo_param_default']\n",
    "geo_param_default.update({k: v for k, v in pred_p['predictions'].items() if k in geo_param_default})\n",
    "\n",
    "bio_param_list = ['s_nat', 'b_nat', 'a_nat', 's_kv3.1', 'b_kv3.1', 'b_ra', 'pt_ra',\n",
    "                    'mt_leak', 'ptf_ca_hva', 'ptf_ca_lva', 'mt_h', 'dt_h', 'ptf_h', 'mdtf_h',\n",
    "                    'nat_tau_sc', 'tau0_Kv3.1', 'a_kv3.1', 'a_m']\n",
    "\n",
    "bio_param_default = {'s_nat': 2.04, 'b_nat': 0.01278, 'a_nat': 0.01278, 's_kv3.1': 1.386, 'b_kv3.1': 0.000522,\n",
    "                     'b_ra': np.nan, 'pt_ra': np.nan, 'mt_leak': np.nan, 'ptf_ca_hva': np.nan, 'ptf_ca_lva': np.nan,\n",
    "                     'mt_h': np.nan, 'dt_h': np.nan, 'ptf_h': np.nan, 'mdtf_h': np.nan,\n",
    "                     'nat_tau_sc': 0.6, 'tau0_Kv3.1': 2.4, 'a_kv3.1': 0.000522, 'a_m': 0.0000675}\n",
    "bio_param_default.update(dict(zip(bio_param_list[:len(biophys_default)], biophys_default)))\n",
    "\n",
    "bio_param_range = {'s_nat': (0., 4.), 'a_nat': (0., 0.02),\n",
    "                    's_kv3.1': (0., 2.0), 'a_kv3.1': (0., 0.02), 'a_m': (0., 0.0005)}\n",
    "bio_param_dist = {'s_nat': 'unif', 'a_nat': 'unif', 's_kv3.1': 'unif', 'a_kv3.1': 'unif', 'a_m': 'unif'}\n",
    "\n",
    "n_sigma = sim_p.get('n_sigma', 3.)  # range parameter for normal type distributions\n",
    "\n",
    "sim_p.update({\n",
    "    'loc_param_default': loc_param_default, 'geo_param_default': geo_param_default, \n",
    "    'bio_param_list': bio_param_list, 'bio_param_default': bio_param_default,\n",
    "    'bio_param_range': bio_param_range, 'bio_param_dist': bio_param_dist,\n",
    "    'n_sigma': n_sigma, 'simulation_class': simulation_class, 'tstop': tstop,\n",
    "    'full_biophys': filepath, 'biophys_param': biophys_default, 'biophys_comm': biophys_comm,\n",
    "    'interpret_params': interpret_params, 'interpret_type': interpret_type,\n",
    "    'syn_params': syn_params\n",
    "})"
   ]
  },
  {
   "cell_type": "markdown",
   "metadata": {},
   "source": [
    "## Generate random samples"
   ]
  },
  {
   "cell_type": "code",
   "execution_count": 33,
   "metadata": {},
   "outputs": [
    {
     "name": "stdout",
     "output_type": "stream",
     "text": [
      "Generator random seed: 0\n",
      "(5, 1, 6)\n",
      "(5, 4)\n",
      "(5, 18)\n",
      "(5, 2)\n"
     ]
    }
   ],
   "source": [
    "labels, rand_param, loc_param, geo_param, biophys_param = generate_parameters_from_config(config_dict)\n",
    "\n",
    "print(loc_param.shape)\n",
    "print(geo_param.shape)\n",
    "print(biophys_param.shape)\n",
    "print(labels.shape)"
   ]
  },
  {
   "cell_type": "code",
   "execution_count": 15,
   "metadata": {},
   "outputs": [],
   "source": [
    "h.load_file('stdrun.hoc')\n",
    "h.nrn_load_dll(paths.COMPILED_LIBRARY_REDUCED_ORDER)\n",
    "h.dt = params.DT\n",
    "h.steps_per_ms = 1 / h.dt\n",
    "h.tstop = tstop\n",
    "\n",
    "geo_standard = pd.read_csv(paths.GEO_REDUCED_ORDER, index_col='id')"
   ]
  },
  {
   "cell_type": "code",
   "execution_count": 16,
   "metadata": {},
   "outputs": [
    {
     "name": "stdout",
     "output_type": "stream",
     "text": [
      "Warning: Not using synaptic input.\n",
      "Simulation run time: 0:03:04.545198\n"
     ]
    }
   ],
   "source": [
    "import time\n",
    "import datetime\n",
    "timer_start = time.time()\n",
    "\n",
    "sim = SIMULATION_CLASS[simulation_class](\n",
    "    cell_type = CellTypes.REDUCED_ORDER,\n",
    "    ncell = number_cells,\n",
    "    geometry = geo_standard,\n",
    "    electrodes = params.ELECTRODE_POSITION,\n",
    "    loc_param = loc_param,\n",
    "    geo_param = geo_param,\n",
    "    biophys = biophys_param,\n",
    "    full_biophys = full_biophys,\n",
    "    biophys_comm = biophys_comm,\n",
    "    interpret_params = interpret_params,\n",
    "    interpret_type = interpret_type,\n",
    "    min_distance = params.MIN_DISTANCE,\n",
    "    record_soma_v = False,\n",
    "    spike_threshold = params.SPIKE_THRESHOLD,\n",
    "    randseed = rand_seed + batch_id,\n",
    "    **syn_params\n",
    ")\n",
    "\n",
    "sim.run_neuron_sim()\n",
    "\n",
    "print('Simulation run time: ' + str(datetime.timedelta(seconds=time.time() - timer_start)))"
   ]
  },
  {
   "cell_type": "markdown",
   "metadata": {},
   "source": [
    "## Get LFPs\n",
    "#### Save what"
   ]
  },
  {
   "cell_type": "code",
   "execution_count": 17,
   "metadata": {},
   "outputs": [],
   "source": [
    "save_lfp = True\n",
    "save_stats = True\n",
    "save_nspk = True\n",
    "cell_idx = 0 # for verification"
   ]
  },
  {
   "cell_type": "markdown",
   "metadata": {},
   "source": [
    "#### Find cells with invalid firing pattern"
   ]
  },
  {
   "cell_type": "code",
   "execution_count": 49,
   "metadata": {},
   "outputs": [],
   "source": [
    "nspk_range = (2, np.inf)\n",
    "fr_range = (0, 30.)\n",
    "\n",
    "nspk_vars = {}\n",
    "if simulation_class == 'Simulation_stochastic':\n",
    "    spk_windows, nspk = sim.get_spk_windows('all')\n",
    "    duration = h.tstop - sim.tstart * h.dt\n",
    "    firing_rate = 1000. * nspk / duration\n",
    "    valid = (nspk >= nspk_range[0]) & (nspk <= nspk_range[1]) \\\n",
    "        & (firing_rate >= fr_range[0]) & (firing_rate <= fr_range[1])\n",
    "    nspk_vars.update(dict(firing_rate=firing_rate, duration=duration))\n",
    "else:\n",
    "    nspk, _ = sim.get_spike_number('all')\n",
    "    valid = nspk == 1\n",
    "nspk_vars.update(y=labels[::number_locs], nspk=nspk, nspk_range=nspk_range, fr_range=fr_range)\n",
    "\n",
    "invalid = np.nonzero(~valid)[0]\n",
    "valid = np.nonzero(valid)[0]\n",
    "invalid_nspk = nspk[invalid]\n",
    "for n in np.unique(invalid_nspk):\n",
    "    print('%d cells fire %d times.' % (np.count_nonzero(invalid_nspk==n), n))"
   ]
  },
  {
   "cell_type": "markdown",
   "metadata": {},
   "source": [
    "#### Save configurations"
   ]
  },
  {
   "cell_type": "code",
   "execution_count": null,
   "metadata": {},
   "outputs": [],
   "source": [
    "if not os.path.exists(DATA_PATH):\n",
    "    os.makedirs(DATA_PATH)\n",
    "    print(\"The new data directory is created!\")\n",
    "\n",
    "if not os.path.exists(TRIAL_PATH):\n",
    "    os.makedirs(TRIAL_PATH)\n",
    "    print(\"The new trial directory is created!\")"
   ]
  },
  {
   "cell_type": "code",
   "execution_count": null,
   "metadata": {},
   "outputs": [],
   "source": [
    "if batch_id == 0:\n",
    "    with open(CONFIG_PATH, 'w') as fout:\n",
    "        json.dump(config_dict, fout, indent=2)"
   ]
  },
  {
   "cell_type": "code",
   "execution_count": null,
   "metadata": {},
   "outputs": [],
   "source": [
    "if not (save_lfp or save_stats):\n",
    "    raise SystemExit('Exit without processing LFP')"
   ]
  },
  {
   "cell_type": "markdown",
   "metadata": {},
   "source": [
    "#### Remove invalid cells "
   ]
  },
  {
   "cell_type": "code",
   "execution_count": 35,
   "metadata": {},
   "outputs": [],
   "source": [
    "invalid_params = {}\n",
    "invalid_params['geo_param'] = geo_param[invalid, :]\n",
    "invalid_params['gmax'] = None if sim.gmax is None else sim.gmax[invalid]\n",
    "\n",
    "invalid_samples = (number_locs * invalid[:, np.newaxis] + np.arange(number_locs)).ravel()\n",
    "number_samples -= invalid_samples.size\n",
    "labels = np.delete(labels, invalid_samples, axis=0)\n",
    "rand_param = np.delete(rand_param, invalid_samples, axis=0)\n",
    "gmax = None if sim.gmax is None else np.repeat(sim.gmax[valid], number_locs)\n",
    "\n",
    "additional_save = {}\n",
    "if simulation_class == 'Simulation_stochastic':\n",
    "    additional_save['firing_rate'] = firing_rate[valid]"
   ]
  },
  {
   "cell_type": "markdown",
   "metadata": {},
   "source": [
    "#### Get LFP for valid cells"
   ]
  },
  {
   "cell_type": "code",
   "execution_count": 36,
   "metadata": {},
   "outputs": [],
   "source": [
    "if simulation_class == 'Simulation_stochastic':\n",
    "    lfp_locs = lambda i: sim.get_eaps_by_windows(index=valid[i], spk_windows=spk_windows[valid[i]], multiple_position=True)\n",
    "else:\n",
    "    timer_start = time.time()\n",
    "    start_idx = int(max(np.ceil(sim.stim.start / h.dt) - params.PK_TR_IDX_IN_WINDOW, 0)) # ignore signal before\n",
    "    lfp = sim.get_lfp(index=valid, t_index=slice(start_idx, None), multiple_position=True) # (cells x locs x channels x time)\n",
    "    lfp = np.moveaxis(lfp, -2, -1) # -> (cells x locs x time x channels)\n",
    "    print('LFP run time: ' + str(datetime.timedelta(seconds=time.time() - timer_start)))\n",
    "    lfp_locs = lambda i: lfp[i]"
   ]
  },
  {
   "cell_type": "markdown",
   "metadata": {},
   "source": [
    "#### Process LFP"
   ]
  },
  {
   "cell_type": "code",
   "execution_count": 37,
   "metadata": {},
   "outputs": [
    {
     "name": "stderr",
     "output_type": "stream",
     "text": [
      "100%|██████████| 5/5 [00:01<00:00,  2.76it/s]"
     ]
    },
    {
     "name": "stdout",
     "output_type": "stream",
     "text": [
      "5 good samples out of 2 samples.\n",
      "Bad case -1: 0 samples.\n",
      "Bad case 0: 5 samples.\n",
      "Bad case 1: 0 samples.\n",
      "Bad case 2: 0 samples.\n",
      "Bad case 3: 0 samples.\n"
     ]
    },
    {
     "name": "stderr",
     "output_type": "stream",
     "text": [
      "\n"
     ]
    }
   ],
   "source": [
    "pad_spike_window = True\n",
    "additional_stats = 7\n",
    "bad_cases = tuple(range(-1 if pad_spike_window else 0, 4 if additional_stats > 1 else 3))\n",
    "if 'y' in inference_list:\n",
    "    y_idx = inference_list.index('y')\n",
    "    ycoord = lambda i: labels[i, y_idx]\n",
    "else:\n",
    "    ycoord = lambda i: None\n",
    "\n",
    "bad_indices = {bad: [] for bad in bad_cases}\n",
    "lfp_list = []\n",
    "yshift = []\n",
    "summ_stats = []\n",
    "good_count = 0\n",
    "coords = None\n",
    "\n",
    "i = 0 # in range(number_samples)\n",
    "for j in tqdm(range(valid.size)):\n",
    "    for lfp_loc in lfp_locs(j):\n",
    "        bad, g_lfp, _, g_coords, _, ys, ss = process_lfp(\n",
    "            lfp_loc, dt=None, pad_spike_window=pad_spike_window, ycoord=ycoord(i),\n",
    "            gauss_filt=True, calc_summ_stats=save_stats, additional_stats=additional_stats,\n",
    "            err_msg=True\n",
    "        )\n",
    "        bad_indices[bad].append(i)\n",
    "        if bad<=0:\n",
    "            if good_count == cell_idx:\n",
    "                coords = g_coords\n",
    "            good_count += 1\n",
    "            lfp_list.append(g_lfp)\n",
    "            yshift.append(ys)\n",
    "            if save_stats:\n",
    "                summ_stats.append(ss)\n",
    "        i += 1\n",
    "\n",
    "t = sim.t()[:params.WINDOW_SIZE]\n",
    "windowed_lfp = np.stack(lfp_list, axis=0)  # (samples x time window x channels)\n",
    "yshift = np.array(yshift)\n",
    "summ_stats = np.array(summ_stats)\n",
    "\n",
    "good_indices = np.sort([i for bad, indices in bad_indices.items() if bad<=0 for i in indices])\n",
    "print('%d good samples out of %d samples.' % (good_count, number_samples))\n",
    "for bad, indices in bad_indices.items():\n",
    "    print('Bad case %d: %d samples.' % (bad, len(indices)))"
   ]
  },
  {
   "cell_type": "markdown",
   "metadata": {},
   "source": [
    "#### Save simulation data"
   ]
  },
  {
   "cell_type": "code",
   "execution_count": null,
   "metadata": {},
   "outputs": [],
   "source": [
    "if save_nspk:\n",
    "    np.savez(NSPK_PATH, **nspk_vars)\n",
    "if save_lfp:\n",
    "    np.savez(LFP_PATH, t=t, x=windowed_lfp, y=labels, ys=yshift, rand_param=rand_param, gmax=gmax,\n",
    "             bad_indices=bad_indices, good_indices=good_indices, invalid_params=invalid_params, **additional_save)\n",
    "if save_stats:\n",
    "    np.savez(STATS_PATH, x=summ_stats, y=labels[good_indices], ys=yshift,\n",
    "             rand_param=rand_param[good_indices], gmax=None if gmax is None else gmax[good_indices])\n",
    "# np.savez(MEM_VOLT_PATH, v=mem_volt, spk=tspk)"
   ]
  },
  {
   "cell_type": "markdown",
   "metadata": {},
   "source": [
    "## Verify LFPs\n",
    "We hand compare the LFP plots generated by our data"
   ]
  },
  {
   "cell_type": "code",
   "execution_count": 40,
   "metadata": {},
   "outputs": [
    {
     "data": {
      "image/png": "[encoded data removed]",
      "text/plain": [
       "<Figure size 432x288 with 2 Axes>"
      ]
     },
     "metadata": {
      "needs_background": "light"
     },
     "output_type": "display_data"
    },
    {
     "data": {
      "image/png": "[encoded data removed]",
      "text/plain": [
       "<Figure size 432x288 with 1 Axes>"
      ]
     },
     "metadata": {
      "needs_background": "light"
     },
     "output_type": "display_data"
    }
   ],
   "source": [
    "ix = 1\n",
    "x_dist = np.unique(coords[:,0])\n",
    "e_idx = coords[:,0]==x_dist[ix]\n",
    "\n",
    "_ = plot_lfp_heatmap(t, coords[e_idx, 1], windowed_lfp[cell_idx][:, e_idx], vlim='auto',\n",
    "                        fontsize=15, labelpad=-10, ticksize=12, tick_length=5, nbins=5)\n",
    "\n",
    "_ = plot_lfp_traces(t, windowed_lfp[cell_idx], fontsize=15, labelpad=-10, ticksize=12, tick_length=5, nbins=5)"
   ]
  },
  {
   "cell_type": "code",
   "execution_count": null,
   "metadata": {},
   "outputs": [],
   "source": []
  }
 ],
 "metadata": {
  "kernelspec": {
   "display_name": "base",
   "language": "python",
   "name": "python3"
  },
  "language_info": {
   "codemirror_mode": {
    "name": "ipython",
    "version": 3
   },
   "file_extension": ".py",
   "mimetype": "text/x-python",
   "name": "python",
   "nbconvert_exporter": "python",
   "pygments_lexer": "ipython3",
   "version": "3.9.12"
  }
 },
 "nbformat": 4,
 "nbformat_minor": 2
}
