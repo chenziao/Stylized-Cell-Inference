{
 "cells": [
  {
   "cell_type": "code",
   "execution_count": 1,
   "metadata": {},
   "outputs": [],
   "source": [
    "%matplotlib inline\n",
    "\n",
    "\n",
    "from neuron import h\n",
    "import pandas as pd\n",
    "import numpy as np\n",
    "import matplotlib.pyplot as plt\n",
    "from scipy import signal\n",
    "import h5py\n",
    "import os\n",
    "\n",
    "from cell_inference.utils.plotting.plot_results import plot_lfp_traces, plot_lfp_heatmap\n",
    "from cell_inference.utils.feature_extractors.SummaryStats2D import calculate_stats, build_lfp_grid\n",
    "from cell_inference.cells.stylizedcell import CellTypes\n",
    "from cell_inference.cells.activecell import ActiveCell\n",
    "from cell_inference.cells.passivecell import PassiveCell\n",
    "from cell_inference.cells.simulation import Simulation\n",
    "from cell_inference.utils.currents.recorder import Recorder\n",
    "from cell_inference.config import paths, params\n",
    "from cell_inference.utils.feature_extractors.parameterprediction import ClassifierTypes, ClassifierBuilder\n",
    "\n",
    "cell_type = CellTypes.ACTIVE\n",
    "\n",
    "h.nrn_load_dll(paths.COMPILED_LIBRARY)\n",
    "geo_standard = pd.read_csv(paths.GEO_STANDARD,index_col='id')\n",
    "h.tstop = params.TSTOP\n",
    "h.dt = params.DT"
   ]
  },
  {
   "cell_type": "code",
   "execution_count": 2,
   "metadata": {},
   "outputs": [
    {
     "name": "stdout",
     "output_type": "stream",
     "text": [
      "(1000, 176, 384)\n",
      "(1000, 3)\n"
     ]
    },
    {
     "data": {
      "application/vnd.jupyter.widget-view+json": {
       "model_id": "206064264c0f435a8558d874efa774c8",
       "version_major": 2,
       "version_minor": 0
      },
      "text/plain": [
       "  0%|          | 0/1000 [00:00<?, ?it/s]"
      ]
     },
     "metadata": {},
     "output_type": "display_data"
    }
   ],
   "source": [
    "from cell_inference.utils.transform.geometry_transformation import hphi2unitsphere\n",
    "from tqdm.notebook import tqdm\n",
    "\n",
    "DATA_PATH = 'cell_inference/resources/simulation_data'\n",
    "TRIAL_PATH = os.path.join(DATA_PATH, 'Ori2_Geo1_params')\n",
    "\n",
    "LFP_PATH = os.path.join(TRIAL_PATH, 'lfp.npz')  # LFP and labels\n",
    "\n",
    "lfp   = np.load(LFP_PATH)['x']\n",
    "print(lfp.shape)\n",
    "labels = np.load(LFP_PATH)['y']\n",
    "print(labels.shape)\n",
    "\n",
    "summ_stats = []\n",
    "for i in tqdm(range(lfp.shape[0])):\n",
    "    g_lfp, _ = build_lfp_grid(lfp[i], params.ELECTRODE_POSITION)\n",
    "    summ_stats.append(calculate_stats(g_lfp))\n",
    "summ_stats = np.array(summ_stats)"
   ]
  },
  {
   "cell_type": "markdown",
   "metadata": {},
   "source": [
    "If the user sends h and phi parameters and wants the model to learn directional vectors for orientation, enable this code block"
   ]
  },
  {
   "cell_type": "code",
   "execution_count": 3,
   "metadata": {},
   "outputs": [],
   "source": [
    "convert_hphi_to_dv = False\n",
    "\n",
    "if convert_hphi_to_dv:\n",
    "#     hphi_labels = labels\n",
    "    dv = hphi2unitsphere(labels)\n",
    "    dvx, dvy, dvz = tuple(np.hsplit(dv, 3))\n",
    "    labels = np.concatenate((dvx, dvy, dvz), axis=1)\n",
    "    print(labels.shape)"
   ]
  },
  {
   "cell_type": "code",
   "execution_count": 4,
   "metadata": {},
   "outputs": [
    {
     "name": "stdout",
     "output_type": "stream",
     "text": [
      "['h', 'phi', 'l_t']\n",
      "[[-0.62199086  0.52436829  0.9870429 ]\n",
      " [ 0.96410846 -0.56190141  0.97290612]\n",
      " [-0.96289368  0.92451588  0.2840063 ]\n",
      " ...\n",
      " [-0.06431852  0.78552483  0.62749283]\n",
      " [-0.1437634   0.48890781  0.49313733]\n",
      " [-0.12099594  0.5503719   0.59639753]]\n"
     ]
    }
   ],
   "source": [
    "import json\n",
    "\n",
    "CONFIG_PATH = os.path.join(TRIAL_PATH, 'config.json')\n",
    "\n",
    "with open(CONFIG_PATH, 'r') as f:\n",
    "    config = json.load(f)\n",
    "\n",
    "inference_list = config['Trial_Parameters']['inference_list']\n",
    "print(inference_list)\n",
    "ranges = config['Simulation_Parameters']['loc_param_range']\n",
    "ranges.update(config['Simulation_Parameters']['geo_param_range'])\n",
    "feature_range = (-1, 1)\n",
    "\n",
    "normalize_labels = True\n",
    "\n",
    "if normalize_labels:\n",
    "    for i in range(labels.shape[1]):\n",
    "        label = labels[:,i]\n",
    "        label_name = inference_list[i]\n",
    "        min_max_range = ranges[label_name]\n",
    "        x_std = (label - min_max_range[0]) / (min_max_range[1] - min_max_range[0])\n",
    "        x_scaled = x_std * (feature_range[1] - feature_range[0]) + feature_range[0]\n",
    "        labels[:,i] = x_scaled\n",
    "    print(labels)"
   ]
  },
  {
   "cell_type": "code",
   "execution_count": 5,
   "metadata": {},
   "outputs": [
    {
     "name": "stdout",
     "output_type": "stream",
     "text": [
      "(1000, 40)\n"
     ]
    }
   ],
   "source": [
    "from cell_inference.utils.feature_extractors.helperfunctions import train_regression, build_dataloader_from_numpy\n",
    "\n",
    "data = summ_stats\n",
    "print(data.shape)\n",
    "\n",
    "train_loader, test_loader = build_dataloader_from_numpy(input_arr=data, labels_arr=labels, batch_size=2)"
   ]
  },
  {
   "cell_type": "code",
   "execution_count": 7,
   "metadata": {},
   "outputs": [
    {
     "name": "stderr",
     "output_type": "stream",
     "text": [
      "  0%|          | 1/300 [00:01<05:22,  1.08s/it]"
     ]
    },
    {
     "name": "stdout",
     "output_type": "stream",
     "text": [
      "Training Loss: 104.62732470966876 Validation Loss: 28.128921166062355\n"
     ]
    },
    {
     "name": "stderr",
     "output_type": "stream",
     "text": [
      "  4%|▎         | 11/300 [00:11<05:11,  1.08s/it]"
     ]
    },
    {
     "name": "stdout",
     "output_type": "stream",
     "text": [
      "Training Loss: 57.477425104007125 Validation Loss: 17.164122181013227\n"
     ]
    },
    {
     "name": "stderr",
     "output_type": "stream",
     "text": [
      "  7%|▋         | 21/300 [00:22<05:01,  1.08s/it]"
     ]
    },
    {
     "name": "stdout",
     "output_type": "stream",
     "text": [
      "Training Loss: 51.106169493403286 Validation Loss: 16.22425980004482\n"
     ]
    },
    {
     "name": "stderr",
     "output_type": "stream",
     "text": [
      " 10%|█         | 31/300 [00:33<04:46,  1.06s/it]"
     ]
    },
    {
     "name": "stdout",
     "output_type": "stream",
     "text": [
      "Training Loss: 49.89556549675763 Validation Loss: 15.237790612271056\n"
     ]
    },
    {
     "name": "stderr",
     "output_type": "stream",
     "text": [
      " 14%|█▎        | 41/300 [00:44<04:37,  1.07s/it]"
     ]
    },
    {
     "name": "stdout",
     "output_type": "stream",
     "text": [
      "Training Loss: 23.38867826666683 Validation Loss: 8.956914077047259\n"
     ]
    },
    {
     "name": "stderr",
     "output_type": "stream",
     "text": [
      " 17%|█▋        | 51/300 [00:53<03:57,  1.05it/s]"
     ]
    },
    {
     "name": "stdout",
     "output_type": "stream",
     "text": [
      "Training Loss: 15.236144537222572 Validation Loss: 7.640734571032226\n"
     ]
    },
    {
     "name": "stderr",
     "output_type": "stream",
     "text": [
      " 20%|██        | 61/300 [01:03<04:05,  1.03s/it]"
     ]
    },
    {
     "name": "stdout",
     "output_type": "stream",
     "text": [
      "Training Loss: 11.486537636839785 Validation Loss: 6.712506651179865\n"
     ]
    },
    {
     "name": "stderr",
     "output_type": "stream",
     "text": [
      " 24%|██▎       | 71/300 [01:14<03:57,  1.04s/it]"
     ]
    },
    {
     "name": "stdout",
     "output_type": "stream",
     "text": [
      "Training Loss: 14.859285397687927 Validation Loss: 6.5169040989130735\n"
     ]
    },
    {
     "name": "stderr",
     "output_type": "stream",
     "text": [
      " 27%|██▋       | 81/300 [01:24<03:33,  1.03it/s]"
     ]
    },
    {
     "name": "stdout",
     "output_type": "stream",
     "text": [
      "Training Loss: 9.820626024040394 Validation Loss: 5.961938603664748\n"
     ]
    },
    {
     "name": "stderr",
     "output_type": "stream",
     "text": [
      " 30%|███       | 91/300 [01:34<03:32,  1.02s/it]"
     ]
    },
    {
     "name": "stdout",
     "output_type": "stream",
     "text": [
      "Training Loss: 9.99426920840051 Validation Loss: 5.898972232360393\n"
     ]
    },
    {
     "name": "stderr",
     "output_type": "stream",
     "text": [
      " 34%|███▎      | 101/300 [01:44<03:24,  1.03s/it]"
     ]
    },
    {
     "name": "stdout",
     "output_type": "stream",
     "text": [
      "Training Loss: 6.694120650005061 Validation Loss: 5.573373288614675\n"
     ]
    },
    {
     "name": "stderr",
     "output_type": "stream",
     "text": [
      " 37%|███▋      | 111/300 [01:55<03:13,  1.02s/it]"
     ]
    },
    {
     "name": "stdout",
     "output_type": "stream",
     "text": [
      "Training Loss: 5.236420969711617 Validation Loss: 5.727886458975263\n"
     ]
    },
    {
     "name": "stderr",
     "output_type": "stream",
     "text": [
      " 40%|████      | 121/300 [02:05<02:59,  1.00s/it]"
     ]
    },
    {
     "name": "stdout",
     "output_type": "stream",
     "text": [
      "Training Loss: 4.5605306418729015 Validation Loss: 5.939799041603692\n"
     ]
    },
    {
     "name": "stderr",
     "output_type": "stream",
     "text": [
      " 44%|████▎     | 131/300 [02:15<02:51,  1.02s/it]"
     ]
    },
    {
     "name": "stdout",
     "output_type": "stream",
     "text": [
      "Training Loss: 4.438884776784107 Validation Loss: 5.88236544164829\n"
     ]
    },
    {
     "name": "stderr",
     "output_type": "stream",
     "text": [
      " 47%|████▋     | 141/300 [02:25<02:41,  1.01s/it]"
     ]
    },
    {
     "name": "stdout",
     "output_type": "stream",
     "text": [
      "Training Loss: 4.387707500893157 Validation Loss: 5.793273344635963\n"
     ]
    },
    {
     "name": "stderr",
     "output_type": "stream",
     "text": [
      " 50%|█████     | 151/300 [02:35<02:32,  1.02s/it]"
     ]
    },
    {
     "name": "stdout",
     "output_type": "stream",
     "text": [
      "Training Loss: 2.5413144853009726 Validation Loss: 5.811145982326707\n"
     ]
    },
    {
     "name": "stderr",
     "output_type": "stream",
     "text": [
      " 54%|█████▎    | 161/300 [02:46<02:21,  1.02s/it]"
     ]
    },
    {
     "name": "stdout",
     "output_type": "stream",
     "text": [
      "Training Loss: 2.1943900718470104 Validation Loss: 5.580292809056118\n"
     ]
    },
    {
     "name": "stderr",
     "output_type": "stream",
     "text": [
      " 57%|█████▋    | 171/300 [02:56<02:12,  1.03s/it]"
     ]
    },
    {
     "name": "stdout",
     "output_type": "stream",
     "text": [
      "Training Loss: 2.521289801079547 Validation Loss: 5.968653333839029\n"
     ]
    },
    {
     "name": "stderr",
     "output_type": "stream",
     "text": [
      " 60%|██████    | 181/300 [03:06<02:00,  1.02s/it]"
     ]
    },
    {
     "name": "stdout",
     "output_type": "stream",
     "text": [
      "Training Loss: 1.6430882713684696 Validation Loss: 6.008242674754001\n"
     ]
    },
    {
     "name": "stderr",
     "output_type": "stream",
     "text": [
      " 64%|██████▎   | 191/300 [03:16<01:49,  1.01s/it]"
     ]
    },
    {
     "name": "stdout",
     "output_type": "stream",
     "text": [
      "Training Loss: 1.2539892649729154 Validation Loss: 5.949619035935029\n"
     ]
    },
    {
     "name": "stderr",
     "output_type": "stream",
     "text": [
      " 67%|██████▋   | 201/300 [03:26<01:38,  1.01it/s]"
     ]
    },
    {
     "name": "stdout",
     "output_type": "stream",
     "text": [
      "Training Loss: 1.0411757713882253 Validation Loss: 6.127594964811578\n"
     ]
    },
    {
     "name": "stderr",
     "output_type": "stream",
     "text": [
      " 70%|███████   | 211/300 [03:36<01:29,  1.01s/it]"
     ]
    },
    {
     "name": "stdout",
     "output_type": "stream",
     "text": [
      "Training Loss: 1.127395412971964 Validation Loss: 6.2033429075963795\n"
     ]
    },
    {
     "name": "stderr",
     "output_type": "stream",
     "text": [
      " 74%|███████▎  | 221/300 [03:46<01:20,  1.02s/it]"
     ]
    },
    {
     "name": "stdout",
     "output_type": "stream",
     "text": [
      "Training Loss: 0.7869018706624047 Validation Loss: 6.132864675251767\n"
     ]
    },
    {
     "name": "stderr",
     "output_type": "stream",
     "text": [
      " 77%|███████▋  | 231/300 [03:56<01:07,  1.03it/s]"
     ]
    },
    {
     "name": "stdout",
     "output_type": "stream",
     "text": [
      "Training Loss: 0.7418474538171722 Validation Loss: 6.132844118634239\n"
     ]
    },
    {
     "name": "stderr",
     "output_type": "stream",
     "text": [
      " 80%|████████  | 241/300 [04:06<01:00,  1.02s/it]"
     ]
    },
    {
     "name": "stdout",
     "output_type": "stream",
     "text": [
      "Training Loss: 0.6510937543207547 Validation Loss: 6.246340751647949\n"
     ]
    },
    {
     "name": "stderr",
     "output_type": "stream",
     "text": [
      " 84%|████████▎ | 251/300 [04:16<00:50,  1.02s/it]"
     ]
    },
    {
     "name": "stdout",
     "output_type": "stream",
     "text": [
      "Training Loss: 0.6239948738202656 Validation Loss: 6.273463794612326\n"
     ]
    },
    {
     "name": "stderr",
     "output_type": "stream",
     "text": [
      " 87%|████████▋ | 261/300 [04:27<00:40,  1.03s/it]"
     ]
    },
    {
     "name": "stdout",
     "output_type": "stream",
     "text": [
      "Training Loss: 0.5479835950018241 Validation Loss: 6.39323002344463\n"
     ]
    },
    {
     "name": "stderr",
     "output_type": "stream",
     "text": [
      " 90%|█████████ | 271/300 [04:37<00:29,  1.02s/it]"
     ]
    },
    {
     "name": "stdout",
     "output_type": "stream",
     "text": [
      "Training Loss: 0.5226826493744738 Validation Loss: 6.311742053134367\n"
     ]
    },
    {
     "name": "stderr",
     "output_type": "stream",
     "text": [
      " 94%|█████████▎| 281/300 [04:47<00:19,  1.03s/it]"
     ]
    },
    {
     "name": "stdout",
     "output_type": "stream",
     "text": [
      "Training Loss: 0.48783637283122516 Validation Loss: 6.336621917085722\n"
     ]
    },
    {
     "name": "stderr",
     "output_type": "stream",
     "text": [
      " 97%|█████████▋| 291/300 [04:57<00:09,  1.02s/it]"
     ]
    },
    {
     "name": "stdout",
     "output_type": "stream",
     "text": [
      "Training Loss: 0.46778032103247824 Validation Loss: 6.156797114759684\n"
     ]
    },
    {
     "name": "stderr",
     "output_type": "stream",
     "text": [
      "100%|██████████| 300/300 [05:06<00:00,  1.02s/it]\n"
     ]
    }
   ],
   "source": [
    "from cell_inference.utils.feature_extractors.fullyconnectednetwork import FullyConnectedNetwork, ActivationTypes\n",
    "from cell_inference.utils.feature_extractors.convolutionalnetwork import ConvolutionalNetwork\n",
    "import torch\n",
    "\n",
    "# model1 = ConvolutionalNetwork(in_channels=1, num_labels=2)\n",
    "# model1 = torch.load('cell_inference/resources/results/pytorch_models/16_23_59__01_04_2022.pt')\n",
    "model1 = FullyConnectedNetwork(in_features=40, out_features=3)\n",
    "\n",
    "device = torch.device(\"cuda:0\" if torch.cuda.is_available() else \"cpu\") #torch.device(\"cpu\")\n",
    "model1.to(device)\n",
    "\n",
    "train_regression(model1, train_loader, test_loader, 300, learning_rate=0.001, decay_rate=0.99, device=device)"
   ]
  },
  {
   "cell_type": "code",
   "execution_count": 8,
   "metadata": {},
   "outputs": [
    {
     "name": "stdout",
     "output_type": "stream",
     "text": [
      "R2: 0.8504270567900796\n",
      "(128, 3)\n",
      "(128, 3)\n"
     ]
    }
   ],
   "source": [
    "from sklearn.metrics import r2_score\n",
    "from cell_inference.utils.transform.geometry_transformation import hphi2unitsphere, unitsphere2hphi, trivarnorm2unitsphere\n",
    "\n",
    "train_loader, test_loader = build_dataloader_from_numpy(input_arr=data, labels_arr=labels, batch_size=128)\n",
    "\n",
    "x, y = next(iter(test_loader))\n",
    "model1.eval()\n",
    "x = x.to(device)\n",
    "output = model1(x)\n",
    "output = output.to(\"cpu\").detach().numpy()\n",
    "y = y.to(\"cpu\").detach().numpy()\n",
    "\n",
    "# h_out, phi_out = tuple(np.hsplit(unitsphere2hphi(trivarnorm2unitsphere(np.hstack((output[:,0], output[:,1], output[:,2])))),2))\n",
    "# h_lab, phi_lab = tuple(np.hsplit(unitsphere2hphi(trivarnorm2unitsphere(np.hstack((y[:,0], y[:,1], y[:,2])))),2))\n",
    "\n",
    "print(\"R2: {}\".format(r2_score(y, output)))\n",
    "\n",
    "# print(\"R2 h: {}\".format(r2_score(h_lab, h_out)))\n",
    "# print(\"R2 phi: {}\".format(r2_score(phi_lab, phi_out)))\n",
    "print(output.shape)\n",
    "print(y.shape)"
   ]
  },
  {
   "cell_type": "code",
   "execution_count": 10,
   "metadata": {},
   "outputs": [
    {
     "data": {
      "application/javascript": [
       "/* Put everything inside the global mpl namespace */\n",
       "/* global mpl */\n",
       "window.mpl = {};\n",
       "\n",
       "mpl.get_websocket_type = function () {\n",
       "    if (typeof WebSocket !== 'undefined') {\n",
       "        return WebSocket;\n",
       "    } else if (typeof MozWebSocket !== 'undefined') {\n",
       "        return MozWebSocket;\n",
       "    } else {\n",
       "        alert(\n",
       "            'Your browser does not have WebSocket support. ' +\n",
       "                'Please try Chrome, Safari or Firefox ≥ 6. ' +\n",
       "                'Firefox 4 and 5 are also supported but you ' +\n",
       "                'have to enable WebSockets in about:config.'\n",
       "        );\n",
       "    }\n",
       "};\n",
       "\n",
       "mpl.figure = function (figure_id, websocket, ondownload, parent_element) {\n",
       "    this.id = figure_id;\n",
       "\n",
       "    this.ws = websocket;\n",
       "\n",
       "    this.supports_binary = this.ws.binaryType !== undefined;\n",
       "\n",
       "    if (!this.supports_binary) {\n",
       "        var warnings = document.getElementById('mpl-warnings');\n",
       "        if (warnings) {\n",
       "            warnings.style.display = 'block';\n",
       "            warnings.textContent =\n",
       "                'This browser does not support binary websocket messages. ' +\n",
       "                'Performance may be slow.';\n",
       "        }\n",
       "    }\n",
       "\n",
       "    this.imageObj = new Image();\n",
       "\n",
       "    this.context = undefined;\n",
       "    this.message = undefined;\n",
       "    this.canvas = undefined;\n",
       "    this.rubberband_canvas = undefined;\n",
       "    this.rubberband_context = undefined;\n",
       "    this.format_dropdown = undefined;\n",
       "\n",
       "    this.image_mode = 'full';\n",
       "\n",
       "    this.root = document.createElement('div');\n",
       "    this.root.setAttribute('style', 'display: inline-block');\n",
       "    this._root_extra_style(this.root);\n",
       "\n",
       "    parent_element.appendChild(this.root);\n",
       "\n",
       "    this._init_header(this);\n",
       "    this._init_canvas(this);\n",
       "    this._init_toolbar(this);\n",
       "\n",
       "    var fig = this;\n",
       "\n",
       "    this.waiting = false;\n",
       "\n",
       "    this.ws.onopen = function () {\n",
       "        fig.send_message('supports_binary', { value: fig.supports_binary });\n",
       "        fig.send_message('send_image_mode', {});\n",
       "        if (fig.ratio !== 1) {\n",
       "            fig.send_message('set_dpi_ratio', { dpi_ratio: fig.ratio });\n",
       "        }\n",
       "        fig.send_message('refresh', {});\n",
       "    };\n",
       "\n",
       "    this.imageObj.onload = function () {\n",
       "        if (fig.image_mode === 'full') {\n",
       "            // Full images could contain transparency (where diff images\n",
       "            // almost always do), so we need to clear the canvas so that\n",
       "            // there is no ghosting.\n",
       "            fig.context.clearRect(0, 0, fig.canvas.width, fig.canvas.height);\n",
       "        }\n",
       "        fig.context.drawImage(fig.imageObj, 0, 0);\n",
       "    };\n",
       "\n",
       "    this.imageObj.onunload = function () {\n",
       "        fig.ws.close();\n",
       "    };\n",
       "\n",
       "    this.ws.onmessage = this._make_on_message_function(this);\n",
       "\n",
       "    this.ondownload = ondownload;\n",
       "};\n",
       "\n",
       "mpl.figure.prototype._init_header = function () {\n",
       "    var titlebar = document.createElement('div');\n",
       "    titlebar.classList =\n",
       "        'ui-dialog-titlebar ui-widget-header ui-corner-all ui-helper-clearfix';\n",
       "    var titletext = document.createElement('div');\n",
       "    titletext.classList = 'ui-dialog-title';\n",
       "    titletext.setAttribute(\n",
       "        'style',\n",
       "        'width: 100%; text-align: center; padding: 3px;'\n",
       "    );\n",
       "    titlebar.appendChild(titletext);\n",
       "    this.root.appendChild(titlebar);\n",
       "    this.header = titletext;\n",
       "};\n",
       "\n",
       "mpl.figure.prototype._canvas_extra_style = function (_canvas_div) {};\n",
       "\n",
       "mpl.figure.prototype._root_extra_style = function (_canvas_div) {};\n",
       "\n",
       "mpl.figure.prototype._init_canvas = function () {\n",
       "    var fig = this;\n",
       "\n",
       "    var canvas_div = (this.canvas_div = document.createElement('div'));\n",
       "    canvas_div.setAttribute(\n",
       "        'style',\n",
       "        'border: 1px solid #ddd;' +\n",
       "            'box-sizing: content-box;' +\n",
       "            'clear: both;' +\n",
       "            'min-height: 1px;' +\n",
       "            'min-width: 1px;' +\n",
       "            'outline: 0;' +\n",
       "            'overflow: hidden;' +\n",
       "            'position: relative;' +\n",
       "            'resize: both;'\n",
       "    );\n",
       "\n",
       "    function on_keyboard_event_closure(name) {\n",
       "        return function (event) {\n",
       "            return fig.key_event(event, name);\n",
       "        };\n",
       "    }\n",
       "\n",
       "    canvas_div.addEventListener(\n",
       "        'keydown',\n",
       "        on_keyboard_event_closure('key_press')\n",
       "    );\n",
       "    canvas_div.addEventListener(\n",
       "        'keyup',\n",
       "        on_keyboard_event_closure('key_release')\n",
       "    );\n",
       "\n",
       "    this._canvas_extra_style(canvas_div);\n",
       "    this.root.appendChild(canvas_div);\n",
       "\n",
       "    var canvas = (this.canvas = document.createElement('canvas'));\n",
       "    canvas.classList.add('mpl-canvas');\n",
       "    canvas.setAttribute('style', 'box-sizing: content-box;');\n",
       "\n",
       "    this.context = canvas.getContext('2d');\n",
       "\n",
       "    var backingStore =\n",
       "        this.context.backingStorePixelRatio ||\n",
       "        this.context.webkitBackingStorePixelRatio ||\n",
       "        this.context.mozBackingStorePixelRatio ||\n",
       "        this.context.msBackingStorePixelRatio ||\n",
       "        this.context.oBackingStorePixelRatio ||\n",
       "        this.context.backingStorePixelRatio ||\n",
       "        1;\n",
       "\n",
       "    this.ratio = (window.devicePixelRatio || 1) / backingStore;\n",
       "\n",
       "    var rubberband_canvas = (this.rubberband_canvas = document.createElement(\n",
       "        'canvas'\n",
       "    ));\n",
       "    rubberband_canvas.setAttribute(\n",
       "        'style',\n",
       "        'box-sizing: content-box; position: absolute; left: 0; top: 0; z-index: 1;'\n",
       "    );\n",
       "\n",
       "    // Apply a ponyfill if ResizeObserver is not implemented by browser.\n",
       "    if (this.ResizeObserver === undefined) {\n",
       "        if (window.ResizeObserver !== undefined) {\n",
       "            this.ResizeObserver = window.ResizeObserver;\n",
       "        } else {\n",
       "            var obs = _JSXTOOLS_RESIZE_OBSERVER({});\n",
       "            this.ResizeObserver = obs.ResizeObserver;\n",
       "        }\n",
       "    }\n",
       "\n",
       "    this.resizeObserverInstance = new this.ResizeObserver(function (entries) {\n",
       "        var nentries = entries.length;\n",
       "        for (var i = 0; i < nentries; i++) {\n",
       "            var entry = entries[i];\n",
       "            var width, height;\n",
       "            if (entry.contentBoxSize) {\n",
       "                if (entry.contentBoxSize instanceof Array) {\n",
       "                    // Chrome 84 implements new version of spec.\n",
       "                    width = entry.contentBoxSize[0].inlineSize;\n",
       "                    height = entry.contentBoxSize[0].blockSize;\n",
       "                } else {\n",
       "                    // Firefox implements old version of spec.\n",
       "                    width = entry.contentBoxSize.inlineSize;\n",
       "                    height = entry.contentBoxSize.blockSize;\n",
       "                }\n",
       "            } else {\n",
       "                // Chrome <84 implements even older version of spec.\n",
       "                width = entry.contentRect.width;\n",
       "                height = entry.contentRect.height;\n",
       "            }\n",
       "\n",
       "            // Keep the size of the canvas and rubber band canvas in sync with\n",
       "            // the canvas container.\n",
       "            if (entry.devicePixelContentBoxSize) {\n",
       "                // Chrome 84 implements new version of spec.\n",
       "                canvas.setAttribute(\n",
       "                    'width',\n",
       "                    entry.devicePixelContentBoxSize[0].inlineSize\n",
       "                );\n",
       "                canvas.setAttribute(\n",
       "                    'height',\n",
       "                    entry.devicePixelContentBoxSize[0].blockSize\n",
       "                );\n",
       "            } else {\n",
       "                canvas.setAttribute('width', width * fig.ratio);\n",
       "                canvas.setAttribute('height', height * fig.ratio);\n",
       "            }\n",
       "            canvas.setAttribute(\n",
       "                'style',\n",
       "                'width: ' + width + 'px; height: ' + height + 'px;'\n",
       "            );\n",
       "\n",
       "            rubberband_canvas.setAttribute('width', width);\n",
       "            rubberband_canvas.setAttribute('height', height);\n",
       "\n",
       "            // And update the size in Python. We ignore the initial 0/0 size\n",
       "            // that occurs as the element is placed into the DOM, which should\n",
       "            // otherwise not happen due to the minimum size styling.\n",
       "            if (fig.ws.readyState == 1 && width != 0 && height != 0) {\n",
       "                fig.request_resize(width, height);\n",
       "            }\n",
       "        }\n",
       "    });\n",
       "    this.resizeObserverInstance.observe(canvas_div);\n",
       "\n",
       "    function on_mouse_event_closure(name) {\n",
       "        return function (event) {\n",
       "            return fig.mouse_event(event, name);\n",
       "        };\n",
       "    }\n",
       "\n",
       "    rubberband_canvas.addEventListener(\n",
       "        'mousedown',\n",
       "        on_mouse_event_closure('button_press')\n",
       "    );\n",
       "    rubberband_canvas.addEventListener(\n",
       "        'mouseup',\n",
       "        on_mouse_event_closure('button_release')\n",
       "    );\n",
       "    // Throttle sequential mouse events to 1 every 20ms.\n",
       "    rubberband_canvas.addEventListener(\n",
       "        'mousemove',\n",
       "        on_mouse_event_closure('motion_notify')\n",
       "    );\n",
       "\n",
       "    rubberband_canvas.addEventListener(\n",
       "        'mouseenter',\n",
       "        on_mouse_event_closure('figure_enter')\n",
       "    );\n",
       "    rubberband_canvas.addEventListener(\n",
       "        'mouseleave',\n",
       "        on_mouse_event_closure('figure_leave')\n",
       "    );\n",
       "\n",
       "    canvas_div.addEventListener('wheel', function (event) {\n",
       "        if (event.deltaY < 0) {\n",
       "            event.step = 1;\n",
       "        } else {\n",
       "            event.step = -1;\n",
       "        }\n",
       "        on_mouse_event_closure('scroll')(event);\n",
       "    });\n",
       "\n",
       "    canvas_div.appendChild(canvas);\n",
       "    canvas_div.appendChild(rubberband_canvas);\n",
       "\n",
       "    this.rubberband_context = rubberband_canvas.getContext('2d');\n",
       "    this.rubberband_context.strokeStyle = '#000000';\n",
       "\n",
       "    this._resize_canvas = function (width, height, forward) {\n",
       "        if (forward) {\n",
       "            canvas_div.style.width = width + 'px';\n",
       "            canvas_div.style.height = height + 'px';\n",
       "        }\n",
       "    };\n",
       "\n",
       "    // Disable right mouse context menu.\n",
       "    this.rubberband_canvas.addEventListener('contextmenu', function (_e) {\n",
       "        event.preventDefault();\n",
       "        return false;\n",
       "    });\n",
       "\n",
       "    function set_focus() {\n",
       "        canvas.focus();\n",
       "        canvas_div.focus();\n",
       "    }\n",
       "\n",
       "    window.setTimeout(set_focus, 100);\n",
       "};\n",
       "\n",
       "mpl.figure.prototype._init_toolbar = function () {\n",
       "    var fig = this;\n",
       "\n",
       "    var toolbar = document.createElement('div');\n",
       "    toolbar.classList = 'mpl-toolbar';\n",
       "    this.root.appendChild(toolbar);\n",
       "\n",
       "    function on_click_closure(name) {\n",
       "        return function (_event) {\n",
       "            return fig.toolbar_button_onclick(name);\n",
       "        };\n",
       "    }\n",
       "\n",
       "    function on_mouseover_closure(tooltip) {\n",
       "        return function (event) {\n",
       "            if (!event.currentTarget.disabled) {\n",
       "                return fig.toolbar_button_onmouseover(tooltip);\n",
       "            }\n",
       "        };\n",
       "    }\n",
       "\n",
       "    fig.buttons = {};\n",
       "    var buttonGroup = document.createElement('div');\n",
       "    buttonGroup.classList = 'mpl-button-group';\n",
       "    for (var toolbar_ind in mpl.toolbar_items) {\n",
       "        var name = mpl.toolbar_items[toolbar_ind][0];\n",
       "        var tooltip = mpl.toolbar_items[toolbar_ind][1];\n",
       "        var image = mpl.toolbar_items[toolbar_ind][2];\n",
       "        var method_name = mpl.toolbar_items[toolbar_ind][3];\n",
       "\n",
       "        if (!name) {\n",
       "            /* Instead of a spacer, we start a new button group. */\n",
       "            if (buttonGroup.hasChildNodes()) {\n",
       "                toolbar.appendChild(buttonGroup);\n",
       "            }\n",
       "            buttonGroup = document.createElement('div');\n",
       "            buttonGroup.classList = 'mpl-button-group';\n",
       "            continue;\n",
       "        }\n",
       "\n",
       "        var button = (fig.buttons[name] = document.createElement('button'));\n",
       "        button.classList = 'mpl-widget';\n",
       "        button.setAttribute('role', 'button');\n",
       "        button.setAttribute('aria-disabled', 'false');\n",
       "        button.addEventListener('click', on_click_closure(method_name));\n",
       "        button.addEventListener('mouseover', on_mouseover_closure(tooltip));\n",
       "\n",
       "        var icon_img = document.createElement('img');\n",
       "        icon_img.src = '_images/' + image + '.png';\n",
       "        icon_img.srcset = '_images/' + image + '_large.png 2x';\n",
       "        icon_img.alt = tooltip;\n",
       "        button.appendChild(icon_img);\n",
       "\n",
       "        buttonGroup.appendChild(button);\n",
       "    }\n",
       "\n",
       "    if (buttonGroup.hasChildNodes()) {\n",
       "        toolbar.appendChild(buttonGroup);\n",
       "    }\n",
       "\n",
       "    var fmt_picker = document.createElement('select');\n",
       "    fmt_picker.classList = 'mpl-widget';\n",
       "    toolbar.appendChild(fmt_picker);\n",
       "    this.format_dropdown = fmt_picker;\n",
       "\n",
       "    for (var ind in mpl.extensions) {\n",
       "        var fmt = mpl.extensions[ind];\n",
       "        var option = document.createElement('option');\n",
       "        option.selected = fmt === mpl.default_extension;\n",
       "        option.innerHTML = fmt;\n",
       "        fmt_picker.appendChild(option);\n",
       "    }\n",
       "\n",
       "    var status_bar = document.createElement('span');\n",
       "    status_bar.classList = 'mpl-message';\n",
       "    toolbar.appendChild(status_bar);\n",
       "    this.message = status_bar;\n",
       "};\n",
       "\n",
       "mpl.figure.prototype.request_resize = function (x_pixels, y_pixels) {\n",
       "    // Request matplotlib to resize the figure. Matplotlib will then trigger a resize in the client,\n",
       "    // which will in turn request a refresh of the image.\n",
       "    this.send_message('resize', { width: x_pixels, height: y_pixels });\n",
       "};\n",
       "\n",
       "mpl.figure.prototype.send_message = function (type, properties) {\n",
       "    properties['type'] = type;\n",
       "    properties['figure_id'] = this.id;\n",
       "    this.ws.send(JSON.stringify(properties));\n",
       "};\n",
       "\n",
       "mpl.figure.prototype.send_draw_message = function () {\n",
       "    if (!this.waiting) {\n",
       "        this.waiting = true;\n",
       "        this.ws.send(JSON.stringify({ type: 'draw', figure_id: this.id }));\n",
       "    }\n",
       "};\n",
       "\n",
       "mpl.figure.prototype.handle_save = function (fig, _msg) {\n",
       "    var format_dropdown = fig.format_dropdown;\n",
       "    var format = format_dropdown.options[format_dropdown.selectedIndex].value;\n",
       "    fig.ondownload(fig, format);\n",
       "};\n",
       "\n",
       "mpl.figure.prototype.handle_resize = function (fig, msg) {\n",
       "    var size = msg['size'];\n",
       "    if (size[0] !== fig.canvas.width || size[1] !== fig.canvas.height) {\n",
       "        fig._resize_canvas(size[0], size[1], msg['forward']);\n",
       "        fig.send_message('refresh', {});\n",
       "    }\n",
       "};\n",
       "\n",
       "mpl.figure.prototype.handle_rubberband = function (fig, msg) {\n",
       "    var x0 = msg['x0'] / fig.ratio;\n",
       "    var y0 = (fig.canvas.height - msg['y0']) / fig.ratio;\n",
       "    var x1 = msg['x1'] / fig.ratio;\n",
       "    var y1 = (fig.canvas.height - msg['y1']) / fig.ratio;\n",
       "    x0 = Math.floor(x0) + 0.5;\n",
       "    y0 = Math.floor(y0) + 0.5;\n",
       "    x1 = Math.floor(x1) + 0.5;\n",
       "    y1 = Math.floor(y1) + 0.5;\n",
       "    var min_x = Math.min(x0, x1);\n",
       "    var min_y = Math.min(y0, y1);\n",
       "    var width = Math.abs(x1 - x0);\n",
       "    var height = Math.abs(y1 - y0);\n",
       "\n",
       "    fig.rubberband_context.clearRect(\n",
       "        0,\n",
       "        0,\n",
       "        fig.canvas.width / fig.ratio,\n",
       "        fig.canvas.height / fig.ratio\n",
       "    );\n",
       "\n",
       "    fig.rubberband_context.strokeRect(min_x, min_y, width, height);\n",
       "};\n",
       "\n",
       "mpl.figure.prototype.handle_figure_label = function (fig, msg) {\n",
       "    // Updates the figure title.\n",
       "    fig.header.textContent = msg['label'];\n",
       "};\n",
       "\n",
       "mpl.figure.prototype.handle_cursor = function (fig, msg) {\n",
       "    var cursor = msg['cursor'];\n",
       "    switch (cursor) {\n",
       "        case 0:\n",
       "            cursor = 'pointer';\n",
       "            break;\n",
       "        case 1:\n",
       "            cursor = 'default';\n",
       "            break;\n",
       "        case 2:\n",
       "            cursor = 'crosshair';\n",
       "            break;\n",
       "        case 3:\n",
       "            cursor = 'move';\n",
       "            break;\n",
       "    }\n",
       "    fig.rubberband_canvas.style.cursor = cursor;\n",
       "};\n",
       "\n",
       "mpl.figure.prototype.handle_message = function (fig, msg) {\n",
       "    fig.message.textContent = msg['message'];\n",
       "};\n",
       "\n",
       "mpl.figure.prototype.handle_draw = function (fig, _msg) {\n",
       "    // Request the server to send over a new figure.\n",
       "    fig.send_draw_message();\n",
       "};\n",
       "\n",
       "mpl.figure.prototype.handle_image_mode = function (fig, msg) {\n",
       "    fig.image_mode = msg['mode'];\n",
       "};\n",
       "\n",
       "mpl.figure.prototype.handle_history_buttons = function (fig, msg) {\n",
       "    for (var key in msg) {\n",
       "        if (!(key in fig.buttons)) {\n",
       "            continue;\n",
       "        }\n",
       "        fig.buttons[key].disabled = !msg[key];\n",
       "        fig.buttons[key].setAttribute('aria-disabled', !msg[key]);\n",
       "    }\n",
       "};\n",
       "\n",
       "mpl.figure.prototype.handle_navigate_mode = function (fig, msg) {\n",
       "    if (msg['mode'] === 'PAN') {\n",
       "        fig.buttons['Pan'].classList.add('active');\n",
       "        fig.buttons['Zoom'].classList.remove('active');\n",
       "    } else if (msg['mode'] === 'ZOOM') {\n",
       "        fig.buttons['Pan'].classList.remove('active');\n",
       "        fig.buttons['Zoom'].classList.add('active');\n",
       "    } else {\n",
       "        fig.buttons['Pan'].classList.remove('active');\n",
       "        fig.buttons['Zoom'].classList.remove('active');\n",
       "    }\n",
       "};\n",
       "\n",
       "mpl.figure.prototype.updated_canvas_event = function () {\n",
       "    // Called whenever the canvas gets updated.\n",
       "    this.send_message('ack', {});\n",
       "};\n",
       "\n",
       "// A function to construct a web socket function for onmessage handling.\n",
       "// Called in the figure constructor.\n",
       "mpl.figure.prototype._make_on_message_function = function (fig) {\n",
       "    return function socket_on_message(evt) {\n",
       "        if (evt.data instanceof Blob) {\n",
       "            /* FIXME: We get \"Resource interpreted as Image but\n",
       "             * transferred with MIME type text/plain:\" errors on\n",
       "             * Chrome.  But how to set the MIME type?  It doesn't seem\n",
       "             * to be part of the websocket stream */\n",
       "            evt.data.type = 'image/png';\n",
       "\n",
       "            /* Free the memory for the previous frames */\n",
       "            if (fig.imageObj.src) {\n",
       "                (window.URL || window.webkitURL).revokeObjectURL(\n",
       "                    fig.imageObj.src\n",
       "                );\n",
       "            }\n",
       "\n",
       "            fig.imageObj.src = (window.URL || window.webkitURL).createObjectURL(\n",
       "                evt.data\n",
       "            );\n",
       "            fig.updated_canvas_event();\n",
       "            fig.waiting = false;\n",
       "            return;\n",
       "        } else if (\n",
       "            typeof evt.data === 'string' &&\n",
       "            evt.data.slice(0, 21) === 'data:image/png;base64'\n",
       "        ) {\n",
       "            fig.imageObj.src = evt.data;\n",
       "            fig.updated_canvas_event();\n",
       "            fig.waiting = false;\n",
       "            return;\n",
       "        }\n",
       "\n",
       "        var msg = JSON.parse(evt.data);\n",
       "        var msg_type = msg['type'];\n",
       "\n",
       "        // Call the  \"handle_{type}\" callback, which takes\n",
       "        // the figure and JSON message as its only arguments.\n",
       "        try {\n",
       "            var callback = fig['handle_' + msg_type];\n",
       "        } catch (e) {\n",
       "            console.log(\n",
       "                \"No handler for the '\" + msg_type + \"' message type: \",\n",
       "                msg\n",
       "            );\n",
       "            return;\n",
       "        }\n",
       "\n",
       "        if (callback) {\n",
       "            try {\n",
       "                // console.log(\"Handling '\" + msg_type + \"' message: \", msg);\n",
       "                callback(fig, msg);\n",
       "            } catch (e) {\n",
       "                console.log(\n",
       "                    \"Exception inside the 'handler_\" + msg_type + \"' callback:\",\n",
       "                    e,\n",
       "                    e.stack,\n",
       "                    msg\n",
       "                );\n",
       "            }\n",
       "        }\n",
       "    };\n",
       "};\n",
       "\n",
       "// from http://stackoverflow.com/questions/1114465/getting-mouse-location-in-canvas\n",
       "mpl.findpos = function (e) {\n",
       "    //this section is from http://www.quirksmode.org/js/events_properties.html\n",
       "    var targ;\n",
       "    if (!e) {\n",
       "        e = window.event;\n",
       "    }\n",
       "    if (e.target) {\n",
       "        targ = e.target;\n",
       "    } else if (e.srcElement) {\n",
       "        targ = e.srcElement;\n",
       "    }\n",
       "    if (targ.nodeType === 3) {\n",
       "        // defeat Safari bug\n",
       "        targ = targ.parentNode;\n",
       "    }\n",
       "\n",
       "    // pageX,Y are the mouse positions relative to the document\n",
       "    var boundingRect = targ.getBoundingClientRect();\n",
       "    var x = e.pageX - (boundingRect.left + document.body.scrollLeft);\n",
       "    var y = e.pageY - (boundingRect.top + document.body.scrollTop);\n",
       "\n",
       "    return { x: x, y: y };\n",
       "};\n",
       "\n",
       "/*\n",
       " * return a copy of an object with only non-object keys\n",
       " * we need this to avoid circular references\n",
       " * http://stackoverflow.com/a/24161582/3208463\n",
       " */\n",
       "function simpleKeys(original) {\n",
       "    return Object.keys(original).reduce(function (obj, key) {\n",
       "        if (typeof original[key] !== 'object') {\n",
       "            obj[key] = original[key];\n",
       "        }\n",
       "        return obj;\n",
       "    }, {});\n",
       "}\n",
       "\n",
       "mpl.figure.prototype.mouse_event = function (event, name) {\n",
       "    var canvas_pos = mpl.findpos(event);\n",
       "\n",
       "    if (name === 'button_press') {\n",
       "        this.canvas.focus();\n",
       "        this.canvas_div.focus();\n",
       "    }\n",
       "\n",
       "    var x = canvas_pos.x * this.ratio;\n",
       "    var y = canvas_pos.y * this.ratio;\n",
       "\n",
       "    this.send_message(name, {\n",
       "        x: x,\n",
       "        y: y,\n",
       "        button: event.button,\n",
       "        step: event.step,\n",
       "        guiEvent: simpleKeys(event),\n",
       "    });\n",
       "\n",
       "    /* This prevents the web browser from automatically changing to\n",
       "     * the text insertion cursor when the button is pressed.  We want\n",
       "     * to control all of the cursor setting manually through the\n",
       "     * 'cursor' event from matplotlib */\n",
       "    event.preventDefault();\n",
       "    return false;\n",
       "};\n",
       "\n",
       "mpl.figure.prototype._key_event_extra = function (_event, _name) {\n",
       "    // Handle any extra behaviour associated with a key event\n",
       "};\n",
       "\n",
       "mpl.figure.prototype.key_event = function (event, name) {\n",
       "    // Prevent repeat events\n",
       "    if (name === 'key_press') {\n",
       "        if (event.which === this._key) {\n",
       "            return;\n",
       "        } else {\n",
       "            this._key = event.which;\n",
       "        }\n",
       "    }\n",
       "    if (name === 'key_release') {\n",
       "        this._key = null;\n",
       "    }\n",
       "\n",
       "    var value = '';\n",
       "    if (event.ctrlKey && event.which !== 17) {\n",
       "        value += 'ctrl+';\n",
       "    }\n",
       "    if (event.altKey && event.which !== 18) {\n",
       "        value += 'alt+';\n",
       "    }\n",
       "    if (event.shiftKey && event.which !== 16) {\n",
       "        value += 'shift+';\n",
       "    }\n",
       "\n",
       "    value += 'k';\n",
       "    value += event.which.toString();\n",
       "\n",
       "    this._key_event_extra(event, name);\n",
       "\n",
       "    this.send_message(name, { key: value, guiEvent: simpleKeys(event) });\n",
       "    return false;\n",
       "};\n",
       "\n",
       "mpl.figure.prototype.toolbar_button_onclick = function (name) {\n",
       "    if (name === 'download') {\n",
       "        this.handle_save(this, null);\n",
       "    } else {\n",
       "        this.send_message('toolbar_button', { name: name });\n",
       "    }\n",
       "};\n",
       "\n",
       "mpl.figure.prototype.toolbar_button_onmouseover = function (tooltip) {\n",
       "    this.message.textContent = tooltip;\n",
       "};\n",
       "\n",
       "///////////////// REMAINING CONTENT GENERATED BY embed_js.py /////////////////\n",
       "// prettier-ignore\n",
       "var _JSXTOOLS_RESIZE_OBSERVER=function(A){var t,i=new WeakMap,n=new WeakMap,a=new WeakMap,r=new WeakMap,o=new Set;function s(e){if(!(this instanceof s))throw new TypeError(\"Constructor requires 'new' operator\");i.set(this,e)}function h(){throw new TypeError(\"Function is not a constructor\")}function c(e,t,i,n){e=0 in arguments?Number(arguments[0]):0,t=1 in arguments?Number(arguments[1]):0,i=2 in arguments?Number(arguments[2]):0,n=3 in arguments?Number(arguments[3]):0,this.right=(this.x=this.left=e)+(this.width=i),this.bottom=(this.y=this.top=t)+(this.height=n),Object.freeze(this)}function d(){t=requestAnimationFrame(d);var s=new WeakMap,p=new Set;o.forEach((function(t){r.get(t).forEach((function(i){var r=t instanceof window.SVGElement,o=a.get(t),d=r?0:parseFloat(o.paddingTop),f=r?0:parseFloat(o.paddingRight),l=r?0:parseFloat(o.paddingBottom),u=r?0:parseFloat(o.paddingLeft),g=r?0:parseFloat(o.borderTopWidth),m=r?0:parseFloat(o.borderRightWidth),w=r?0:parseFloat(o.borderBottomWidth),b=u+f,F=d+l,v=(r?0:parseFloat(o.borderLeftWidth))+m,W=g+w,y=r?0:t.offsetHeight-W-t.clientHeight,E=r?0:t.offsetWidth-v-t.clientWidth,R=b+v,z=F+W,M=r?t.width:parseFloat(o.width)-R-E,O=r?t.height:parseFloat(o.height)-z-y;if(n.has(t)){var k=n.get(t);if(k[0]===M&&k[1]===O)return}n.set(t,[M,O]);var S=Object.create(h.prototype);S.target=t,S.contentRect=new c(u,d,M,O),s.has(i)||(s.set(i,[]),p.add(i)),s.get(i).push(S)}))})),p.forEach((function(e){i.get(e).call(e,s.get(e),e)}))}return s.prototype.observe=function(i){if(i instanceof window.Element){r.has(i)||(r.set(i,new Set),o.add(i),a.set(i,window.getComputedStyle(i)));var n=r.get(i);n.has(this)||n.add(this),cancelAnimationFrame(t),t=requestAnimationFrame(d)}},s.prototype.unobserve=function(i){if(i instanceof window.Element&&r.has(i)){var n=r.get(i);n.has(this)&&(n.delete(this),n.size||(r.delete(i),o.delete(i))),n.size||r.delete(i),o.size||cancelAnimationFrame(t)}},A.DOMRectReadOnly=c,A.ResizeObserver=s,A.ResizeObserverEntry=h,A}; // eslint-disable-line\n",
       "mpl.toolbar_items = [[\"Home\", \"Reset original view\", \"fa fa-home icon-home\", \"home\"], [\"Back\", \"Back to previous view\", \"fa fa-arrow-left icon-arrow-left\", \"back\"], [\"Forward\", \"Forward to next view\", \"fa fa-arrow-right icon-arrow-right\", \"forward\"], [\"\", \"\", \"\", \"\"], [\"Pan\", \"Left button pans, Right button zooms\\nx/y fixes axis, CTRL fixes aspect\", \"fa fa-arrows icon-move\", \"pan\"], [\"Zoom\", \"Zoom to rectangle\\nx/y fixes axis, CTRL fixes aspect\", \"fa fa-square-o icon-check-empty\", \"zoom\"], [\"\", \"\", \"\", \"\"], [\"Download\", \"Download plot\", \"fa fa-floppy-o icon-save\", \"download\"]];\n",
       "\n",
       "mpl.extensions = [\"eps\", \"jpeg\", \"pdf\", \"png\", \"ps\", \"raw\", \"svg\", \"tif\"];\n",
       "\n",
       "mpl.default_extension = \"png\";/* global mpl */\n",
       "\n",
       "var comm_websocket_adapter = function (comm) {\n",
       "    // Create a \"websocket\"-like object which calls the given IPython comm\n",
       "    // object with the appropriate methods. Currently this is a non binary\n",
       "    // socket, so there is still some room for performance tuning.\n",
       "    var ws = {};\n",
       "\n",
       "    ws.close = function () {\n",
       "        comm.close();\n",
       "    };\n",
       "    ws.send = function (m) {\n",
       "        //console.log('sending', m);\n",
       "        comm.send(m);\n",
       "    };\n",
       "    // Register the callback with on_msg.\n",
       "    comm.on_msg(function (msg) {\n",
       "        //console.log('receiving', msg['content']['data'], msg);\n",
       "        // Pass the mpl event to the overridden (by mpl) onmessage function.\n",
       "        ws.onmessage(msg['content']['data']);\n",
       "    });\n",
       "    return ws;\n",
       "};\n",
       "\n",
       "mpl.mpl_figure_comm = function (comm, msg) {\n",
       "    // This is the function which gets called when the mpl process\n",
       "    // starts-up an IPython Comm through the \"matplotlib\" channel.\n",
       "\n",
       "    var id = msg.content.data.id;\n",
       "    // Get hold of the div created by the display call when the Comm\n",
       "    // socket was opened in Python.\n",
       "    var element = document.getElementById(id);\n",
       "    var ws_proxy = comm_websocket_adapter(comm);\n",
       "\n",
       "    function ondownload(figure, _format) {\n",
       "        window.open(figure.canvas.toDataURL());\n",
       "    }\n",
       "\n",
       "    var fig = new mpl.figure(id, ws_proxy, ondownload, element);\n",
       "\n",
       "    // Call onopen now - mpl needs it, as it is assuming we've passed it a real\n",
       "    // web socket which is closed, not our websocket->open comm proxy.\n",
       "    ws_proxy.onopen();\n",
       "\n",
       "    fig.parent_element = element;\n",
       "    fig.cell_info = mpl.find_output_cell(\"<div id='\" + id + \"'></div>\");\n",
       "    if (!fig.cell_info) {\n",
       "        console.error('Failed to find cell for figure', id, fig);\n",
       "        return;\n",
       "    }\n",
       "    fig.cell_info[0].output_area.element.on(\n",
       "        'cleared',\n",
       "        { fig: fig },\n",
       "        fig._remove_fig_handler\n",
       "    );\n",
       "};\n",
       "\n",
       "mpl.figure.prototype.handle_close = function (fig, msg) {\n",
       "    var width = fig.canvas.width / fig.ratio;\n",
       "    fig.cell_info[0].output_area.element.off(\n",
       "        'cleared',\n",
       "        fig._remove_fig_handler\n",
       "    );\n",
       "    fig.resizeObserverInstance.unobserve(fig.canvas_div);\n",
       "\n",
       "    // Update the output cell to use the data from the current canvas.\n",
       "    fig.push_to_output();\n",
       "    var dataURL = fig.canvas.toDataURL();\n",
       "    // Re-enable the keyboard manager in IPython - without this line, in FF,\n",
       "    // the notebook keyboard shortcuts fail.\n",
       "    IPython.keyboard_manager.enable();\n",
       "    fig.parent_element.innerHTML =\n",
       "        '<img src=\"' + dataURL + '\" width=\"' + width + '\">';\n",
       "    fig.close_ws(fig, msg);\n",
       "};\n",
       "\n",
       "mpl.figure.prototype.close_ws = function (fig, msg) {\n",
       "    fig.send_message('closing', msg);\n",
       "    // fig.ws.close()\n",
       "};\n",
       "\n",
       "mpl.figure.prototype.push_to_output = function (_remove_interactive) {\n",
       "    // Turn the data on the canvas into data in the output cell.\n",
       "    var width = this.canvas.width / this.ratio;\n",
       "    var dataURL = this.canvas.toDataURL();\n",
       "    this.cell_info[1]['text/html'] =\n",
       "        '<img src=\"' + dataURL + '\" width=\"' + width + '\">';\n",
       "};\n",
       "\n",
       "mpl.figure.prototype.updated_canvas_event = function () {\n",
       "    // Tell IPython that the notebook contents must change.\n",
       "    IPython.notebook.set_dirty(true);\n",
       "    this.send_message('ack', {});\n",
       "    var fig = this;\n",
       "    // Wait a second, then push the new image to the DOM so\n",
       "    // that it is saved nicely (might be nice to debounce this).\n",
       "    setTimeout(function () {\n",
       "        fig.push_to_output();\n",
       "    }, 1000);\n",
       "};\n",
       "\n",
       "mpl.figure.prototype._init_toolbar = function () {\n",
       "    var fig = this;\n",
       "\n",
       "    var toolbar = document.createElement('div');\n",
       "    toolbar.classList = 'btn-toolbar';\n",
       "    this.root.appendChild(toolbar);\n",
       "\n",
       "    function on_click_closure(name) {\n",
       "        return function (_event) {\n",
       "            return fig.toolbar_button_onclick(name);\n",
       "        };\n",
       "    }\n",
       "\n",
       "    function on_mouseover_closure(tooltip) {\n",
       "        return function (event) {\n",
       "            if (!event.currentTarget.disabled) {\n",
       "                return fig.toolbar_button_onmouseover(tooltip);\n",
       "            }\n",
       "        };\n",
       "    }\n",
       "\n",
       "    fig.buttons = {};\n",
       "    var buttonGroup = document.createElement('div');\n",
       "    buttonGroup.classList = 'btn-group';\n",
       "    var button;\n",
       "    for (var toolbar_ind in mpl.toolbar_items) {\n",
       "        var name = mpl.toolbar_items[toolbar_ind][0];\n",
       "        var tooltip = mpl.toolbar_items[toolbar_ind][1];\n",
       "        var image = mpl.toolbar_items[toolbar_ind][2];\n",
       "        var method_name = mpl.toolbar_items[toolbar_ind][3];\n",
       "\n",
       "        if (!name) {\n",
       "            /* Instead of a spacer, we start a new button group. */\n",
       "            if (buttonGroup.hasChildNodes()) {\n",
       "                toolbar.appendChild(buttonGroup);\n",
       "            }\n",
       "            buttonGroup = document.createElement('div');\n",
       "            buttonGroup.classList = 'btn-group';\n",
       "            continue;\n",
       "        }\n",
       "\n",
       "        button = fig.buttons[name] = document.createElement('button');\n",
       "        button.classList = 'btn btn-default';\n",
       "        button.href = '#';\n",
       "        button.title = name;\n",
       "        button.innerHTML = '<i class=\"fa ' + image + ' fa-lg\"></i>';\n",
       "        button.addEventListener('click', on_click_closure(method_name));\n",
       "        button.addEventListener('mouseover', on_mouseover_closure(tooltip));\n",
       "        buttonGroup.appendChild(button);\n",
       "    }\n",
       "\n",
       "    if (buttonGroup.hasChildNodes()) {\n",
       "        toolbar.appendChild(buttonGroup);\n",
       "    }\n",
       "\n",
       "    // Add the status bar.\n",
       "    var status_bar = document.createElement('span');\n",
       "    status_bar.classList = 'mpl-message pull-right';\n",
       "    toolbar.appendChild(status_bar);\n",
       "    this.message = status_bar;\n",
       "\n",
       "    // Add the close button to the window.\n",
       "    var buttongrp = document.createElement('div');\n",
       "    buttongrp.classList = 'btn-group inline pull-right';\n",
       "    button = document.createElement('button');\n",
       "    button.classList = 'btn btn-mini btn-primary';\n",
       "    button.href = '#';\n",
       "    button.title = 'Stop Interaction';\n",
       "    button.innerHTML = '<i class=\"fa fa-power-off icon-remove icon-large\"></i>';\n",
       "    button.addEventListener('click', function (_evt) {\n",
       "        fig.handle_close(fig, {});\n",
       "    });\n",
       "    button.addEventListener(\n",
       "        'mouseover',\n",
       "        on_mouseover_closure('Stop Interaction')\n",
       "    );\n",
       "    buttongrp.appendChild(button);\n",
       "    var titlebar = this.root.querySelector('.ui-dialog-titlebar');\n",
       "    titlebar.insertBefore(buttongrp, titlebar.firstChild);\n",
       "};\n",
       "\n",
       "mpl.figure.prototype._remove_fig_handler = function (event) {\n",
       "    var fig = event.data.fig;\n",
       "    if (event.target !== this) {\n",
       "        // Ignore bubbled events from children.\n",
       "        return;\n",
       "    }\n",
       "    fig.close_ws(fig, {});\n",
       "};\n",
       "\n",
       "mpl.figure.prototype._root_extra_style = function (el) {\n",
       "    el.style.boxSizing = 'content-box'; // override notebook setting of border-box.\n",
       "};\n",
       "\n",
       "mpl.figure.prototype._canvas_extra_style = function (el) {\n",
       "    // this is important to make the div 'focusable\n",
       "    el.setAttribute('tabindex', 0);\n",
       "    // reach out to IPython and tell the keyboard manager to turn it's self\n",
       "    // off when our div gets focus\n",
       "\n",
       "    // location in version 3\n",
       "    if (IPython.notebook.keyboard_manager) {\n",
       "        IPython.notebook.keyboard_manager.register_events(el);\n",
       "    } else {\n",
       "        // location in version 2\n",
       "        IPython.keyboard_manager.register_events(el);\n",
       "    }\n",
       "};\n",
       "\n",
       "mpl.figure.prototype._key_event_extra = function (event, _name) {\n",
       "    var manager = IPython.notebook.keyboard_manager;\n",
       "    if (!manager) {\n",
       "        manager = IPython.keyboard_manager;\n",
       "    }\n",
       "\n",
       "    // Check for shift+enter\n",
       "    if (event.shiftKey && event.which === 13) {\n",
       "        this.canvas_div.blur();\n",
       "        // select the cell after this one\n",
       "        var index = IPython.notebook.find_cell_index(this.cell_info[0]);\n",
       "        IPython.notebook.select(index + 1);\n",
       "    }\n",
       "};\n",
       "\n",
       "mpl.figure.prototype.handle_save = function (fig, _msg) {\n",
       "    fig.ondownload(fig, null);\n",
       "};\n",
       "\n",
       "mpl.find_output_cell = function (html_output) {\n",
       "    // Return the cell and output element which can be found *uniquely* in the notebook.\n",
       "    // Note - this is a bit hacky, but it is done because the \"notebook_saving.Notebook\"\n",
       "    // IPython event is triggered only after the cells have been serialised, which for\n",
       "    // our purposes (turning an active figure into a static one), is too late.\n",
       "    var cells = IPython.notebook.get_cells();\n",
       "    var ncells = cells.length;\n",
       "    for (var i = 0; i < ncells; i++) {\n",
       "        var cell = cells[i];\n",
       "        if (cell.cell_type === 'code') {\n",
       "            for (var j = 0; j < cell.output_area.outputs.length; j++) {\n",
       "                var data = cell.output_area.outputs[j];\n",
       "                if (data.data) {\n",
       "                    // IPython >= 3 moved mimebundle to data attribute of output\n",
       "                    data = data.data;\n",
       "                }\n",
       "                if (data['text/html'] === html_output) {\n",
       "                    return [cell, data, j];\n",
       "                }\n",
       "            }\n",
       "        }\n",
       "    }\n",
       "};\n",
       "\n",
       "// Register the function which deals with the matplotlib target/channel.\n",
       "// The kernel may be null if the page has been refreshed.\n",
       "if (IPython.notebook.kernel !== null) {\n",
       "    IPython.notebook.kernel.comm_manager.register_target(\n",
       "        'matplotlib',\n",
       "        mpl.mpl_figure_comm\n",
       "    );\n",
       "}\n"
      ],
      "text/plain": [
       "<IPython.core.display.Javascript object>"
      ]
     },
     "metadata": {},
     "output_type": "display_data"
    },
    {
     "data": {
      "text/html": [
       "<img src=\"data:image/png;base64,iVBORw0KGgoAAAANSUhEUgAAA/AAAALQCAYAAAA3hJuMAAAgAElEQVR4Xuy9DbRkVXnnvbsbGsblStTWLDXJtSUfamKyos1A2szSi43CIn4RNEYi0DDQSMQMmdcldpTXHhoGRp0ISoQGhaYnKyZGolFnGQ0tnUyiRkExBqImZrhEXhMNatYwSjf98f6fvqfs6uqqOl9777P3Ob9a61l1b9U5ez/79+yq5/mffc6pFY4HBCAAAQhAAAIQgAAEIAABCEAAAskTWJG8hzgIAQhAAAIQgAAEIAABCEAAAhCAgEPAMwkgAAEIQAACEIAABCAAAQhAAAIZEEDAZxAkXIQABCAAAQhAAAIQgAAEIAABCCDgmQMQgAAEIAABCEAAAhCAAAQgAIEMCCDgMwgSLkIAAhCAAAQgAAEIQAACEIAABBDwzAEIQAACEIAABCAAAQhAAAIQgEAGBBDwGQQJFyEAAQhAAAIQgAAEIAABCEAAAgh45gAEIAABCEAAAhCAAAQgAAEIQCADAgj4DIKEixCAAAQgAAEIQAACEIAABCAAAQQ8cwACEIAABCAAAQhAAAIQgAAEIJABAQR8BkHCRQhAAAIQgAAEIAABCEAAAhCAAAKeOQABCEAAAhCAAAQgAAEIQAACEMiAAAI+gyDhIgQgAAEIQAACEIAABCAAAQhAAAHPHIAABCAAAQhAAAIQgAAEIAABCGRAAAGfQZBwEQIQgAAEIAABCEAAAhCAAAQggIBnDkAAAhCAAAQgAAEIQAACEIAABDIggIDPIEi4CAEIQAACEIAABCAAAQhAAAIQQMAzByAAAQhAAAIQgAAEIAABCEAAAhkQQMBnECRchAAEIAABCEAAAhCAAAQgAAEIIOCZAxCAAAQgAAEIQAACEIAABCAAgQwIIOAzCBIuQgACEIAABCAAAQhAAAIQgAAEEPDMAQhAAAIQgAAEIAABCEAAAhCAQAYEEPAZBAkXIQABCEAAAhCAAAQgAAEIQAACCHjmAAQgAAEIQAACEIAABCAAAQhAIAMCCPgMgoSLEIAABCAAAQhAAAIQgAAEIAABBDxzAAIQgAAEIAABCEAAAhCAAAQgkAEBBHwGQcJFCEAAAhCAAAQgAAEIQAACEIAAAp45AAEIQAACEIAABCAAAQhAAAIQyIAAAj6DIOEiBCAAAQhAAAIQgAAEIAABCEAAAc8cgAAEIAABCEAAAhCAAAQgAAEIZEAAAZ9BkHARAhCAAAQgAAEIQAACEIAABCCAgGcOQAACEIAABCAAAQhAAAIQgAAEMiCAgM8gSLgIAQhAAAIQgAAEIAABCEAAAhBAwDMHIAABCEAAAhCAAAQgAAEIQAACGRBAwGcQJFyEAAQgAAEIQAACEIAABCAAAQgg4JkDEIAABCAAAQhAAAIQgAAEIACBDAgg4DMIEi5CAAIQgAAEIAABCEAAAhCAAAQQ8MwBCEAAAhCAAAQgAAEIQAACEIBABgQQ8BkECRchAAEIQAACEIAABCAAAQhAAAIIeOYABCAAAQhAAAIQgAAEIAABCEAgAwII+AyChIsQgAAEIAABCEAAAhCAAAQgAAEEPHMAAhCAAAQgAAEIQAACEIAABCCQAQEEfAZBwkUIQAACEIAABCAAAQhAAAIQgAACnjkAAQhAAAIQgAAEIAABCEAAAhDIgAACPoMg4SIEIAABCEAAAhCAAAQgAAEIQAABzxyAAAQgAAEIQAACEIAABCAAAQhkQAABn0GQcBECEIAABCAAAQhAAAIQgAAEIICAZw5AAAIQgAAEIAABCEAAAhCAAAQyIICAzyBIuAgBCEAAAhCAAAQgAAEIQAACEEDAMwcgAAEIQAACEIAABCAAAQhAAAIZEEDAZxAkXIQABCAAAQhAAAIQgAAEIAABCCDgmQMQgAAEIAABCEAAAhCAAAQgAIEMCCDgMwgSLkIAAhCAAAQgAAEIQAACEIAABBDwzAEIQAACEIAABCAAAQhAAAIQgEAGBBDwGQQJFyEAAQhAAAIQgAAEIAABCEAAAgh45gAEIAABCEAAAhCAAAQgAAEIQCADAgj4DIKEixCAAAQgAAEIQAACEIAABCAAAQQ8cwACEIAABCAAAQhAAAIQgAAEIJABAQR8BkHCRQhAAAIQgAAEIAABCEAAAhCAAAKeOQABCEAAAhCAAAQgAAEIQAACEMiAAAI+gyDhIgQgAAEIQAACEIAABCAAAQhAAAHPHIAABCAAAQhAAAIQgAAEIAABCGRAAAGfQZBwEQIQgAAEIAABCEAAAhCAAAQggIBnDkAAAhCAAAQgAAEIQAACEIAABDIggIDPIEi4CAEIQAACEIAABCAAAQhAAAIQQMAzByAAAQhAAAIQgAAEIAABCEAAAhkQQMBnECRchAAEIAABCEAAAhCAAAQgAAEIIOCZAxCAAAQgAAEIQAACEIAABCAAgQwIIOAzCBIuQgACEIAABCAAAQhAAAIQgAAEEPDMAQhAAAIQgAAEIAABCEAAAhCAQAYEEPAZBAkXIQABCEAAAhCAAAQgAAEIQAACCHjmAAQgAAEIQAACEIAABCAAAQhAIAMCCPgMgoSLEIAABCAAAQhAAAIQgAAEIAABBDxzAAIQgAAEIAABCEAAAhCAAAQgkAEBBHwGQcJFCEAAAhCAAAQgAAEIQAACEIAAAp45AAEIQAACEIAABCAAAQhAAAIQyIAAAj6DIOEiBCAAAQhAAAIQgAAEIAABCEAAAc8cgAAEIAABCEAAAhCAAAQgAAEIZEAAAZ9BkHARAhCAAAQgAAEIQAACEIAABCCAgGcOQAACEIAABCAAAQhAAAIQgAAEMiCAgM8gSLgIAQhAAAIQgAAEIAABCEAAAhBAwDMHIAABCEAAAhCAAAQgAAEIQAACGRBAwGcQJFyEAAQgAAEIQAACEIAABCAAAQgg4JkDEIAABCAAAQhAAAIQgAAEIACBDAgg4DMIEi5CAAIQgAAEIAABCEAAAhCAAAQQ8AOdA2vWrDmwdu3agY6eYUMAAhBIg8Bdd931r/LkCWl4k5YX5Km04oE3EIDAMAmQp9KLOwI+vZhE8WjdunUH7rzzzih90QkEIAABCEwnsGLFirv0zvHwOZIAeYpZAQEIQKB7AuSp7mMw6QECPr2YRPGIwigKZjqBAAQgMJdAZoXRzRrMi2TflD1zysCsprhWdprse7KNss8X252j5zcXf1+h51vLpgZ5qowQ70MAAhAITyCzPBUeSAI9IOATCEIXLlAYdUGdPiEAAQgcTiCzwui58v4h2Y4ZAt6E++sKAX9iIebt+XEyO+XLzjQ4ILOzDtbJvjNvPpCn+LRAAAIQ6J5AZnmqe2ARPEDAR4CcYhcURilGBZ8gAIGhEciwMFqrGH10hoDfptd3yd5XxPErel4cswuL1ye3mxp28tTQPg2MFwIQSJFAhnkqRYxefULAe8WZT2MURvnECk8hAIH+EsiwMJon4E3YXy37yyJiO/V8aSHgj9WznTpvj8tk35e9fV5kyVP9nfeMDAIQyIdAhnkqH7gNPUXANwSX+24URrlHEP8hAIE+EMiwMAot4DcprmZuYWFh3dLSUh/CzBggAAEIZEsgwzyVLeuqjiPgq5Lq2XYI+J4FlOFAAAJZEsiwMJon4DmFPstZiNMQgAAEZhPIME/1PpwI+N6HePoAEfADDTzDhgAEkiKQYWE0T8D/suBeLLOb2dnN694pO0FmN7GzG9c9u4Bvd6a3m9h9e14wyFNJTVWcgQAEBkogwzzV+0gh4HsfYgT8QEPMsCEAgQwIZFYY2c3pFmWPl/2L7C2yowvMN+jZaorrZKfK7GfkzpXZ3eftcZ7st4u/r9TzLWXhQcCXEeJ9CEAAAuEJZJanwgNJoAcEfAJB6MIFCqMuqNMnBCCQBYFPf1r3Ut8lqbro3Pr1QV2mMJqNlzwVdOrROAQg0HcCnnIZeSq9iYKATy8mUTyiMIqCmU4gAIHcCFjBs2GDc3v2OLd6tXM7dSP1gCKewggBn9tHBH8hAIEMCHjMZeSp9OKNgE8vJlE8QsBHwUwnEIBAbgSuuko/cqZfOdu3z7lVq5zbutW5zZuDjYLCCAEfbHLRMAQgMFwCHnMZeSq9aYSATy8mUTxCwEfBTCcQgEBuBDyuWlQZOoURAr7KPGEbCEAAArUIeMxl5Kla5KNsjICPgjm9ThDw6cUEjyAAgUQIeLpusMpoKIwQ8FXmCdtAAAIQqE3AUy4jT9UmH3wHBHxwxGl2gIBPMy54BQEIDIsAhRECflgzntFCAAK5ESBPpRcxBHx6MYniEQI+CmY6gQAEIDCXAIURAp6PCAQgAIGUCZCn0osOAj69mEx6dLNeeJHsm7JnTnHXYnit7DSZ/e7uRtnny4aFgC8jxPsQgAAEwhOgMELAh59l9AABCECgOQHyVHN2ofZEwIci66/d56qph2Q7Zgh4E+6vKwT8iYWYt+e5DwR8GSHehwAEBkvA03WDVfhRGCHgq8wTtoEABCDQFQHyVFfkZ/eLgE8vJtM8WqsXPzpDwG/T67tk7yt2/IqeF2XfmDc0BHwegcdLCEAgMgGPd+6t4jmFEQK+yjxhGwhAAAJdESBPdUUeAZ8e+XoezRPwJuyvlv1l0eROPV8quxMBXw8yW0MAAhBwHn87twpNCiMEfJV5wjYQgAAEuiJAnuqKPAI+PfL1PPIl4DepWzO3sLCwbmlpqZ4XbA0BCECg7wRYgU8mwpwplkwocAQCEBgwAQR8esHnFPr0YjLNo3kCnlPo84ghXkIAArkQKLsGvuz9GuOkMJoNCwFfYyKxKQQg0G8CHvNOXVDkqbrEwm+PgA/P2EcP8wT8L6uDi2V2Mzu7ed07ZSeUdUphVEaI9yEAAQhMIeB5hZ7CCAHP5wwCEIDAXALjeWfVKufOO8+5s892bv36cnAehD95qhxz7C0Q8LGJ1+/Pbk63KHu87F9kb5EdXTRzg54thtfJTpXZz8idK5t7/bvti4CvHwj2gAAEBkCgrNgZv0Z+5UrnTj7ZuS1bqhVSU/BRGM2eU+SpAXzeGCIEIFBOYDzv2NYrVPofe6xzO3Xbq3ki3tMBZ/JUeYhib4GAj008kf4ojBIJBG5AAALpEKhS7Iy22b3buf37nTMRf8wx5YXUjFFSGCHg0/kA4AkEIJAkgVHeefhh5w4cWHbRVuK3bnVu8+bZLnu6KSt5Kr1ZgYBPLyZRPELAR8FMJxCAQFcEylbSp/lVtdixtm3V/fbbl0V8lUIKAV97JpCnaiNjBwhAIBSBJjll5Eubfcfb2LHDuVtucW7vXudWry4/cFzloHQFXgj4CpAib4KAjww8le4ojFKJBH5AAALeCTQtWursV2fbOQOkMJoNhzzl/ZNBgxCAQBMCbb7v2+w7zde6BwPqbj+lT/JUk0kTdh8EfFi+ybZOYZRsaHAMAhBoS6DqSnrb4ojCqG2k5u5PngqKl8YhAIGqBNrklDb7VvUv8HYI+MCAGzSPgG8ArQ+7UBj1IYqMAQIQmErA94pHQMwURrPhkqcCTjyahgAEqhNok1Pa7Fvdw6BbkqeC4m3UOAK+Ebb8d6Iwyj+GjAACEJhDwMPqeAy+mRVG9msn18p09yT3HtnVE4zeof9PKl57lJ5/RPaY4v99ev5S8ff9en5JGV/yVBkh3ocABKIRaJNTxvc1h3ft0u9LLTb+9ZJoYy46yixPxcbTSX8I+E6wd98phVH3McADCEAgMQJtCrSGQ8moMDLR/lXZC2Rfl31O9irZvTOG/jq9/iyZfrD44OMh2aPrYCJP1aHFthCAQPIEMl2NzyhPJT8FfDmIgPdFMrN2KIwyCxjuQgACYQl0VFhlVBitVwC2yE4pAjH67aKrZgTmU3r9LbI/Q8CHnbq0DgEIZEIg0+vhM8pTmUyE9m4i4NszzLIFBHyWYcNpCIQl0MEKdNgB1Wi9o8Iqo8Lo5aJpp9CfX1A9S88nyi6eQvkpeu0zsh+T2anz9tDvHrm7i2c79f5DZdEhT5UR4n0IQCArAh0dKG7LKKM81Xao2eyPgM8mVH4dpTDyy5PWIJA9gUwLC2/cOxp/RoVRHQF/aSHe7TT60eNH9ccDsuNkn5RtkH1tSvw26TUzt7CwsG5paclbiGkIAhCAQOcEJg+UZ3DgPKM81Xl4YzmAgI9FOrF+EPCJBQR3INA1gY5WoLse9mH9d1BIZVQY1TmF/gvi+lqZnUY/7bFdL35U9oF58SdPJfXpwBkIQMA3gSoHjjvIS5PDzChP+Y5Qsu0h4JMNTVjHKIzC8qV1CGRHoEohkd2gAjnssaDKqDA6SjTtJna2cm4r6XYTuzNl90xQfrr+/1PZU2UHivceq+fvyXbLHi/7tOylslk3wDu4G3kq0PylWQhAIA0Csw6cj3LMmjXOXXKJc3v2OLd6tXPXXOPcgw9Gv4N9RnkqjbhG8AIBHwFyil1QGKUYFXyCQMcEPArT4CPpylfPBzoyK4xOU1xVQR78GbmbZVfKLpfdKftwEfMtej5W9saxOfAc/b1Ntl+2smjjvWVzhDxVRoj3IQCBrAlMyyc2oA06TmqifYVk2n59bZqt1FfnKn312t8m5nfujPYzdJnlqaynRFXnEfBVSfVsOwqjngWU4UBgSAQ8i+ha6DxfakBhNJs+earWzGRjCEAgNIEQB44n2xzPMeOifVzMm5DfutW5zaMfAwk7cPJUWL5NWkfAN6HWg30ojHoQRIYAgT4RqFMYlZ12uLgYbmXC88EDCiMEfJ8+xowFAr0l4Pm7fyanyX5Gp81Pnk5fdQW+Tm6d4RR5Kr1ZjYBPLyZRPELAR8FMJxCAQBUCdQsj295E+iOPOHf00c7t2rXcy+i0w9CnF3ooiEZYKIwQ8FU+ImwDAQh0TMDz2VdzRzMrx4xfG1/lWvi6uRUB3/Ekq949Ar46q15tiYDvVTgZDATyJlC3MLKi5KSTDt3Y5447lkX8ZZfpV8f1s+ORTy9sAx8Bj4BvM3/YFwIQaEmg6gFZT2K4pbe6BajyX9WD1XVzKwK+dXhiNYCAj0U6sX4Q8IkFBHcg0FcCVVYM6hQkxmlaUWIr8lWLmoRYI+AR8AlNR1yBwLAI1M09VcV+SIp1RHnd8SHgQ0bOa9sIeK8482kMAZ9PrPAUAtkSGBUPu/XrYaO76B5zzPS759YpjGYVJXXaSAQqAh4Bn8hUxA0IDI9AHTGcCp26otxDXiRPpRL8Q34g4NOLSRSPEPBRMNMJBIZNYLw4GpHwdXq7h6IkheBQGCHgU5iH+ACBQRKoK4bHIXWZgyL3TZ5K79OBgE8vJlE8QsBHwUwnEBg2gTor8AMlRWGEgB/o1GfYEEiDQBMx3Eb4pzHqWl6Qp2rhirIxAj4K5vQ6QcCnFxM8gkAvCVS5Br6XA682KAojBHy1mcJWEIBAMgTannrf5KBBh4MnT3UIf0bXCPj0YhLFIwR8FMx0AgEI5EYgcmFFYYSAz+0jgr8QGDyBNivwbfbtCDx5qiPwc7pFwKcXkygeIeCjYKYTCEAgJwIdFFYURgj4gwQiHzjK6WOJrxBIkkDTz2zb1fsOYJCnOoBe0iUCPr2YRPEIAR8FM51AAAI5EeigsKIwQsDX+l3nnD5P+AoBCBxJIPSB4qYHFuat9q5YcZfePp5wpkMAAZ9OLKJ6goCPipvOIACBpgRuvNG5225z7owznNu0qWkr1fYLXVhN8QIBj4B3HRw4qvaBYKveEAgg6nrDpouBhIpHoBxGnupikszvEwGfXkyieISAj4KZTiAAgTYETLxfeOGhFrZtiyPid+1ybnHRufXr23hfaV8KIwQ8K/CVPips1JRAIFHX1B32C0gg0MFA8lTAmDVsGgHfEFzuuyHgc48g/kNgAAROOcW5T3zi0EBf+ELnPv7xXg2cwggBf5BAqBW5Xn1aGEwjAoFEXSNf5u3EZ6A90kAHa8hT7UPjuwUEvG+imbSHgM8kULgJgZwI+C7AZq3A++6nQ8YURgj4DqcfXQ+BQCBR5xVdDj56HXDAxgLkR/JUwHg1bBoB3xBc7rsh4HOPIP5DoEMC0wqEUAXY5DXwofrpCCeFEQK+o6lHt0MiEEDUecWXy1kCXgedT2PkqfRihYBPLyZRPELAR8FMJxDoH4FZArpqAda2kKzaTybkKYwQ8JlMVdyEQDgCPTswGw5UNy2Tp7rhPq9XBHx6MYniEQI+CmY6gUD/CMwS0FUKsCrblBHz0UZZHxHfpzBCwEecbnTVFYG2By678jtmv+OMrN+INxONOcwc+yJPpRc1BHx6MYniEQI+CmY6gUD/CMwT0GVFqq/V87J+MqJOYYSAz2i64moTAj076NgEQa194FULV4yNyVMxKNfrAwFfj1dvtkbA9yaUDAQCfgjUEcV1th33jsLsiFhlWBidqkFcK1sle4/s6olBbdT/b5M9ULx+XbGd/XuO7M3F61fo+dZ5k5c85eejTSsdE/B14LLjYUTrfh6vprknmvP97CjDPNXPQIyNCgHf+xBPHyCF0UADz7AhMI3ALGE9KpbWrHHuwQf9/DY6BdhhEcisMDLR/lXZC2Rfl31O9irZvWOD2qi/j5ddPDHVHqf/7yzeO6Dnu2TrZN+Z9aEkT/F11QsCPg5cDul7c14+2rDBuT17nFu92rmdO5enB6faB/+YZJangvNIoQMEfApR6MAHCqMOoNMlBFIlMLniccEFy57ecotzjzzi3P79zq1c6dwxxywXTevXTx/JrCJzSMVnzRhnVhhZ4LfITimGubl4vmps2Bv19zQBb0J/UXZhse02K71l75uFjDxVczKxeboE2nwH+jgAkC6Z6rlkWp66VSfxjAv6Wbkpt/En5m9meSoxemHcQcCH4Zp8qxRGyYcIByEQj8B4gXjUUc4d0AKpCXd7Hn+s0gLs1q3ObR7ptrE366yaUGT9AFxmhdHL5bidQn9+MYCz9HyibHy1faP+N0H/LZmt1v+W7J9kr5cdK7NT5+1xmez7srfPmujkqXhfAfSUMAFOwV8OzmSOOUdX5Nx0k3P79umCnjm5KeHQ5uJaZnkqF6yt/ETAt8KX784URvnGDs8hEITAaIXo/vsPFUXjHZWtwM8qMik+54Yrs8KoioDX9RbuIdluma22v1L2fFlVAb9J25q5hYWFdUtLS0GmO41CIBsCQ1yBnxWcyTvVT55Sz8HhINM6szwVhEFqjSLgU4tIJH8Q8JFA0w0EciMwXizaqsZ55zn3rGeVXwM/bwX+pJMOneZ4xx2zT8EfZ9XmlNOMmGdWGFU5hX6cvl0z/23ZD8s4hT6jeYmriREYyPdhbepwqY2syQ6Z5akmQ8xuHwR8diHz4zAC3g9HWoFALwk0LYqm7WevLS4un5J/9NHLNxwqWyUZ0IpTZoWRrq84eFq87iR18C7zdhO7M2X3jH0OnqS/v1H8f7qeL5X9osxuYmc3rnt28d7n9Ww3sTOBP/VBnurltwuDggAEMiOQWZ7KjG4zdxHwzbhlvxeFUfYhZAAQyINAk1Pom+yTB40jvMywMDpNg7hGZqvrN8uulF0uszvMf1hm17+/RLa3EOcX6fnLxcB1Oof77eJv2093SZz9IE9lOqlxGwIQ6BWBDPNUr/hPGwwCvvchnj5ACqOBBp5hQyA2gSar6U32iT0uT/1RGA1IwDc9s8XTXKOZjAgwV+oHC2b1mVXcgzxVEVTEzRDwEWG36Mru+nutzFY83iO7eqKtjfr/bTI7pdEe1xXbzewSAd8iGuwKgdwIVClsqmzTdNxN2m6yT1P/OtyPwmg2/F7lqQEdlOrw49SPrvswV3x/f5e11wdmCc9e8lR6wUHApxeTSY9MtNs1hy+QfV1m1xzazYDuHdvQBPy0391FwKcfXzyEQFgCVQqbKtuE9XKwrVMYDUTAD+iykMF+mH0NPPe54jufVGkvd2a+5k6gdshTgcC2aBYB3wJepF2r3PUXAR8pGHQDgewIVClsqmyT3cDzcJjCaCACvooIyWPK4qUPAvNWlHOfK23zySSbKu3lzszHnArYBnkqINyGTSPgG4KLuFuV3901AW83DvqWzFbrf0v2T/N87NWpiRGDQVcQyI7AtMLGBmF3g7e7w9sd4Sl+OgsrhdFABLwNs+w04M5mIR1HJVDl+zbnuVJlfLOAz8pXVX7vPRVmqfjhcVKTpzzC9NQUAt4TyIDNVBHwa9T/Q7Ldsgtlr5Q9f4pPm/SamVtYWFi3tLQU0G2ahgAEkiEwXlCYU9OKoR4WHcnwn+MIhdGABHwOExIfwxOosqIc3ouwPTTNJ7PYNG0v7CiPbL3NwYvYvtbojzxVA1akTRHwkUC36KbKKfTjzds18/a7uj88r09W4FtEhF0hkDOBIRSPGcWHwggBn9F0xVUfBHoq8nygyf5ssJ7mV/KUl9nttREEvFecQRo7Sq3aafEbZHaXebuJ3Zmye8Z6e5L+/kbx/+l6vlT2iwj4IPGgUQjkTYDiMan4URgh4JOakDgTh0AuK8pxaBzeS85seppfyVNdfBDm94mATy8m0zw6TS9eI7PV9ZtlV8oul90p+7DMrn9/iWyvzFbfL5J9GQGfR3DxEgLBCUwWRDkXSMFhxe2AwggBH3fG0RsEIBCUQA/zK3kq6Ixp1DgCvhG2/HfiFPr8Y8gIIHCQQFmx0NMVgb5En8IIAd+Xucw4PBEo+0731A3NQKAqAfJUVVLxtkPAx2OdVE8I+KTCgTMQqEdgVOCt0f0rL7nEuT17nFu92rmdO5fvKj/+6Ok1efWApbs1hRECPt3ZiWfRCXDANTpyOiwnQJ4qZxR7CwR8bOKJ9IeATyQQuAGBSQJlqy/jBd4KfYXv379sq3SFzdatzm3efHiLFIRJzzEKIwR80hMU5+ISSPGAa1lOikvoyPw2/pOoXfrS477JU+kFFwGfXkyieISAj4KZTiAwm8C0oqiK2B4v8FauXBbuJuBnrcCbBykXYAOfIxRGCPiBfwQY/jiBKjkgJrHU/EmZVcy4RO6LPBUZeIXuEPAVIPVxEwR8H6PKmLIhMEpRldAAACAASURBVK0oMue3bHHu9tvrrahfo/tbPvigc4uLR54+nw2Q4TpKYYSAH+7sZ+RTCaR0wDXFMwJG0FL2rWdTmzyVXkAR8OnFJIpHCPgomOkEAtMJTBYeF1zg3K23Ord797J4t5X1Y46Zfk27tZhSgUeMWxGgMELAt5pA7AyBkARYgQ9JN5u2yVPphQoBn15MoniEgI+CmU4gcDiBWTefO+cc5266ybl9+5bF+8knL6/GT96QDp69I0BhhIDv3aRmQP0ikPIB45R969EsIE+lF0wEfHoxieIRAj4KZjqBwCECkysZ46e+21YbNsy/mzwse0mAwggB38uJzaAgAIHeECBPpRdKBHx6MYniEQI+CmY6gcAhAmXX67GSMMjZQmGEgE9u4vNdlFxIeu8Qcy7pEJOn0gsPAj69mETxCAEfBTOdQGD2Cvy032yH1+AIUBgh4JOa9Clf85wUKJzxRoA55w1lqIbIU6HINm8XAd+cXdZ7IuCzDh/O50qAVYZcIxfMbwojBHywydWk4bIzhZq0yT4QmJf7uphz5OJac5I8VQtXlI0R8FEwp9cJAj69mOBRTwhQGPQkkHGGQWGEgI8z0yr2wmpoRVANNks1N4T2q2xOlb3fAPXcXWL359v/DtojT3UAvaRLBHx6MYniEQI+CmY6GRoBCoOhRbz1eDMrjE7VgK+VrZK9R3b1BID/rP/Pl+2VfUt2nmyp2EY/seC+VPx9v55fUgaPPFVGKND7oQVdILeTbjbF3GA+7djh3C236BOrj+zq1bN/urQN3Cor7DHnXBV/2oy3h/tmlqd6GIEjh4SAH0SYjxwkhdFAA8+wwxKgMAjLt4etZ1QYmWj/quwFsq/LPid7lezesbCcpL//WvY92UWyRdkri/cf0vOj64SQPFWHFtsmTSC13DA6oPDww84dOLCMbpU+4lu3Ord5s1+UqR28SM0fv7SDtJZRngoy/hQbRcCnGJUIPlEYRYBMF8MjULcwiLnqMLxoZDHijAqj9QK6RXZKAXZU5V81A/Sz9Pp1sl9CwGcxFXEyJIG6uSGkL9b2+AEF+3+F5MCxx4ZZgbf2U8t1qfkTOt4t288oT7UcaT67I+DziZVXTxHwXnHSGAQOEbjxRuduu825M85wbtOm2WRSK+hmeUqhE3R2Z1QYvVwg7BR6O0XeHmfJTpRdPAOQifd/ll1RvG+n1d8ts2c79f5DZWDJU2WEeD8rAr6/S9u0N55/bOX9PF3tcvbZzq2343Q8IHA4gYzy1GBCh4AfTKgPHyiF0UADz7DDEqgjylM7pXIamTrjCUu2t61nVBjVEfCvLoT98/S8uwjej+r5Adlxsk/KNsi+NiWwdtTr4JGvhYWFdUtLo0voezsFGBgE6hPw8d1c9QBA1e3qj4I9MiGQUZ7KhGh7NxHw7Rlm2QICPsuw4XTqBOqIch8FWGgedcYT2peetp9RYVT1FPqTFap3yUy8f3NG2Lbr9Y/KPjAvrOSpnk56htWeQKzv5hzyVHuatFBCIKM8NZhYIuAHE+rDB0phNNDAM+ywBOoWO6mvbNQdT1i6vWw9o8LoKAXAbmJnK+e2km43sTtTds9YYOy6dxPldqr934+9/lj9bTe2s9X4x8t0+2v3Utn4DfCOiC95qpdTnkFVIVCWG2J9N8c6UDCLSRmHKizZpjWBjPJU67Hm0gACPpdIefaTwsgzUJobBoFpxcTka30rOPo2nsRmamaF0WnCd43M7kh/s+xK2eWyO2Uflt0u+znZNwrMo5+Le47+3ybbL1tZtPHeslCQp8oI8X4vCVQV56G/m619+5m5m/VR36dfgQz1M3PzxPsGHS/csyd+372cWM0HlVmeaj7QjPZEwGcULJ+uUhj5pElbgyAwraiygVNgDCL8oQZJYTSbLHkq1Kyj3aQJdL3qbXDG891ROvnm3HPj3+QuBQ5JT5R4zpGn4rGu2hMCviqpnm1HYdSzgDKc8ASmFRPW62WXLa9OhPoN3fAjo4cOCVAYIeA7nH50nSKBqivwIX1PQTynwCEk44zaJk+lFywEfHoxieIRAj4KZjrJlcCsU+UnV9ttfCeddOgUvzvu4Gd4co15R35TGCHgO5p6dJsygdCnx5eNPRXx3DWHMk4DeZ88lV6gEfDpxSSKRwj4KJjpJEcC8wqXade7Ly4698gjzh19tHO7diHgc4x5hz5TGCHgO5x+dA2B2QQQz8yOggB5Kr2pgIBPLyZRPELAR8FMJykSKCtK6pw6WGfbFFngU+cEKIwQ8J1PQhzolkBZTurWO3qHgCNPpTcJEPDpxSSKRwj4KJjpJDUCVU4LHG2z237xSo/Xv965//bfpo+kSnupMcCfpAhQGCHgk5qQOBOXADkkLm96a0SAPNUIW9CdEPBB8abbOAI+3djgWUACVVfML73Uube+9ZAj2/QLWJs2He7YaNVkzRrnHnzQOTuVfv36gM7TdB8JUBgh4LOb16wY+wtZ1Zzkr0dagkBtAuSp2siC74CAD444zQ4Q8GnGBa8CE6i62nHKKc594hOHnDnhBOde9rJDIr1qO4GHQ/P5E6AwQsBnNYv57vMbrlk/T2r3U+GgsF/WtNaYAHmqMbpgOyLgg6FNu2EEfNrxwbuABKqsHt14o3MXXnjICbtB3f79zq1e7dzOncs3q+Pn4wIGaThNUxgh4LOa7TmvGFf57u8iGON+Wf+Tv3bCmV1dRIU+xwiQp9KbDgj49GISxSMEfBTMdJIiARPnt93m3BlnHHla/Li/o+0e9SjnPvKRw3/r3VZGKLJSjG52PlEYIeCzmrS5rsDn4ncqB0hSPdiR1YelP86Sp9KLJQI+vZhE8QgBHwUznaRGYHJlfdq17ZM+zyr8KHBSi26W/ngsjH6lBMAf5waIPJVoxHL87ktFGJeFNIUDDSn4UMaJ96MS8Jinovrd584Q8H2O7pyxURgNNPBDH/aJJzr32c8eomDXtv/1X5dTybFgLR8VWyRAwGNhdEsxnB/R83Nknyz+P0nPn5K9KIHh1nKBPFULFxvPI5CTKO063+RysIMZH42AxzwVzee+d4SA73uEZ4yPwmiggR/6sE8/3bkPfegQBbsx3Qc/OHQqjL9DAgEKI7v74jmybxTDepKet8t0Z8a8HuSpiPHqWjTGGOoQxuiDY04HO9qOlzlRiWCAPFWpXzaaTQABP9DZQWE00MAPfdiWrJ/7XOf27nXuqKOc+4u/4Kffhj4nOh5/gMLo7zSkZ4wNa6X+vmfitY5HXa178lQ1Tq23GpJgaw0rgQZiiM4YfXSNknlfOQIB8lTlvtlwOgEEfPuZ8eySJj7fvgv/LVAY+WdKixkQsIS9Y8eyo2efjXjPIGR9dzFAYXSdmP2U7H0Fu1fq+R9kr8uNJXkqUsQ4ZToSaA/dIDo9QCyaYN5XZhkgT1Xumw0R8KHmwB1Fw8fq+XjZF2V2YOTnZXfK1ofquE27FEZt6LFvlgQofLIMW9+dDlQY6VoRp1NNDj50monL8joR8lSk2c93YyTQHrpBdB4JsenZAsz7yhMyUJ6q3D8bHkmAFXh/s8Lu8PsW2ZeKJp+p5y2yl/vrwl9LFEb+WNJSJALTknSdxE3hEylQdFOHQKDC6CnywVbhb5fpdxDdKtn/qeNXCtuSpyJGoc53aUS36GqCAKLzcCBteTDvK33EAuWpSn2z0XQCCHh/M8OuMfzZieamveavxxYtURi1gMeu8QlMS9LmRZ3fYm+b6OOPmh4HQCBAYXSBsG2SPU72E4WQv8E+LbnhJE/lFrEO/R2SEBvSWMumFAfmywh5eT9AnvLi15AbQcD7i75db/h/Zb9XNPnren607FX+uvDXEoWRP5a0FIHAeJJeqXtynXyyc8cd59xNNzm3b5/WF7XAuHWrc5s3z3eGwidCsOiiDoEAhdHd6l+/j+js9xGfVfhiZ4b9XB2/UtiWPOUxCn3+7uPgrMeJoqZCzJUbb3TuttucO+MMHV6044ueHsTeE8j5zQTIU1H87nMnCHh/0bVr4C+SjV93eL3+f9hfF/5aojDyx5KWIhAYJendu53bv985E/FHH+3cgQPLAn71aud27uSmdBFCQRd+CQQojEy4nyj7QiHg9XMLzm6mavdlyepBnvIUrr6LnKGswoYQ1pNTLMRcMfF+4YWHetq2zb+I37XLucVFagBPXxmTzQTIU4E8HU6zCHi/sf53am5B9hW/zfpvjcLIP1NaDEzACostW3RVry7rNRFvq+4X6GzhBX3k6iTuGEVQYBQ03x8CAQqjt4rOd2X6mYWDd57/Ddm9sjd5onaq2rlWZtfVv0d29US7x+h/+6mHdbIHZXYX/PuKbewUmf8o01E395uyj8/ziTzlKWJ9F7ghRKcn9N6aiTXGEHPllFOc+8QnDqF44Qv1yZ/70feGbW5D1AKVOQfIU5X7ZsPpBBDw/mbGS9TU22RaCnRPlf2C7HKZvd720aZgmto3hVHbkLB/JwTaFjFt9+9k0HTaZwIBCiPL6+fLVCUf/EUUq5RNaOt0ldYPE+1flb1A9nXZ52R2mZgdIBg97ICBrfa/RvZrMrsjvon4n5HZpWZ2ev+TZXaDvZ+WmZif+iBPtY7XcgND+N7rWoyF7j+EsJ42vULMldAr8E0+JiHG2cSPTPYJkKcyGXm6biLg/cXmLjX1fNkumc/rDtsUTDNHR2HkL/C0FJlAm2vpYhVBkZHQXb4EPBdGli/s5qlPD0TEfhZ1i0xLagcfo5tOXDXWnx0wsG10yoyz0/f/WfYE2RuLbUbbjm831V3ylMcohhaYHl3NrqkYYjBGHyPwIeZKm7wdYkJQC9Si6jlP1eqbjacTQMD7mxmfUVO/KBtdd2gt/42s7XWHbQqmmSsuFEb+Ak9LEQm0LWLa7h9xqHQ1DAIBCqM/ETk7df7+AATtZ1HtjDBb4bfHWTK73v7isb7+ttjGVujt8bVimy16tjw5utHre/X3x2QfmOUneSpABGnSP4FYYjCEsPZPI48WqQVqxSlAnqrVPxsfSQAB729WWDGiu2gdXGXQbTYPXt+nu2wdPI2wzaNNwfSvFEZt0LNvcgR8FEoUQcmFdcgOBSiM/kI87Sywz8rsl1FGDx+Xc7XJR1vkSBUBb7eoPnib6oWFhXVLS0tDnh6MPQcCiMEconSkj9QCleMWIE9V7psNpxNAwPubGY9SU3aTILvu0B52euAVsrZ3oW9TME0KeAojf/GmJV8E6iRRCiVf1GknEQIBCqPnzRjan3sYcpszwjiF3kMAaCJRAnXyWKJDmOpWX8eVUwwS8DVAnkpgVHm7gID3Ez+77tBuyHOSn+YOa6VNwcQp9AECQpMeCTQR5BQUHgNAU10TCFQYPVHjspvFWQ6wG83Zdeg+HnZNu93EboPsgaLtM/Vs192PHq/VH/ab86Ob2P2K/v5V2c/Kfr/wy25iZ2es/ZSMm9j5iAxtQMA3gSb52bcPtJcEgUB5Komx5eoEAt5f5KwYsULl3/w1ebClNgXTTFe4ttBzlGiuGQEfp8Q365m9IJAEgQCFkV2f/v/KPimzHG8r8vaLKDd7GvBpaucamR24tjavLNq/U88flh0r+x8yO43/2zK7E/0/Fn3bWWrnyfbKLpHZNfAzH+QpTxGjGQg0IUB+bkKtl/sEyFO95BRzUAh4f7TtxkFWsPyZbPy6Q7sWvu2jTcE0tW8Ko7YhYX8vBDjC7wUjjeRLIEBh9BXReI7MfoPdHmtkn5I9LTdK5KncIoa/vSJAfu5VONsMJkCeauMO+4oAAt7fNDhnRlO3+uvCX0sURv5Y0lJLApwS3xIgu+dMIEBhZGJ9Uban4LJaz7tkJuqzepCnsgoXzvaRAPm5j1GtPaYAeaq2D+xwOAEEvN8ZYYWS/f6uXXdoqyCjAspvLx5aozDyAJEmmhOgKGjOjj17RSBAYbRDgOwadDsrzHLRS2X2k6Zm9vidXACSpxpGiu/XhuDYDQIQmEYgQJ4CdEsCCPiWAMd2t9Pct8nsN2+N61NlF8rmXuPnr/t6LVEY1ePF1h4JcFqeR5g0lTuBAIXRW0qY/JdcmJGnGkSK79cG0NgFAhCYRyBAngJ4SwII+JYAx3b/sv5+kewfitd+Qs//U2Yr8sk9KIySC8lwHOLGOMOJNSMtJUBhNBsReap0+hy5Ad+vDaCxCwQggIDPaw4g4P3Fy36q59+PNWdsPzvxmr/eWrZEYdQS4BB2r3oaZtXtRsxYIRrC7GGMFQkg4BHwFadKtc34fq3Gia0gAIHKBMhTlVFF2xAB7w/19WrqKbL3y+y6w1fI7pfZ78Pb44/9ddW+JQR8e4a9bmFWETgp1psWi3VFf69hM7ghE6AwQsB7n/98vzZHaux22G0k9Dj7bOfWr2/eFntCoCcEyFPpBRIB7y8mt8xpygS9/fZtMg8EfDKhSNORaadhLi46t2GDbs2oezOu1v0ad+7Uva13OXfZZc7t26dfhdbPQm/d6tzmze3HRAHaniEtZEGAwggBn8VETc3Jujmiyva2zfOe59wjjyyP9phjnLvjjmURX2X/1BjhDwQ8ESBPeQLpsRkEvEeYOTWFgM8pWh34Om1lfZpYnybq2xQ7o9WPW3Q8bO/eQwcKWAXpYBLQZQwCHgujN8jft8reJbODxpOP34wxHp99kKd80uxRW+P56aijnDv33Pmr5VXPFLvoIuduuOEQqBUqka+8Uj/KuHjkwWtyUo8mFEMpI+AxT5V1xfsVCSDgK4Lq22YURn2LaIDxVD1dvup2ZS6OiqyHH5b8KPSHz1X9sv55HwIdEPBYGL1Y7n9Eds6MYdzawfBadUmeaoWvvzuPnyFmozShfeyxy2eFTRPWVW/sNyngLf/8r/8V7kyz/kaIkfWMgMc81TMy3Q0HAd8d+057pjDqFH++nZedRmjvb9miOz/o1g/79y8XVhfq1xSvt1tElDzqFmVl7fE+BDIgQGE0O0jkqQwmcBcu1j3YW3UF3raz1Xa7TMzE+7vf7dymTcunz09ePsYKfBeRp8+OCJCnOgI/p1sEfHoxieIRhVEUzMPqZFTk7N69LN5HD7te3k6/Lyt4xoskK57O020juInQsObQAEcboDD6aWF8vWytTOcX/+Dx/Nzwkqdyi1hEf0eXW9188/I9WEb3ZZmVZ8oOPo9cn7Vd1f0jIqArCMQiECBPxXK9t/0g4P2FVnc7cWdMKZou99eFv5YojPyx7GVLTYqVyRX0EZg6p8E36beXAWBQQyEQoDD6otjZhbx3yaRsfvCw/7N6kKeyClc3zpIzuuFOr4MiECBPDYpfiMEi4P1R/VM19W9Tiqb/7q8Lfy1RGPlj2buWmp4uOHljIbuOvcrKSO8AMiAIVCcQoDAyob6uugfpbkmeSjc2jT3rQnB30WdjQOwIgfQIBMhT6Q0yM48Q8P4C9rdq6pn+mgvbEoVRWL7Ztj55Dbutnl9wgXMLC8vXBlY5Dd5Ol7dt7TH6u2y/bIHhOATaEfBYGD2u8MTuNv9N2Qdlup7lB49vt/M0/t7kqfjMg/bY9OBwG6dC9clBgTZRYd/MCHjMU5mNPF13EfD+YnOjmrKf7/mSvybDtURhFI5tli2PX09oP99m17CvXKkraHUJrd2Ijp90yzKsOJ0+AY+F0f/WaO3nG6bldXv9uPRpHO4heSq3iJX4W/Vu8D6HHaLPUAcFfI6btiDgkYDHPOXRq2E3hYBvH38T7FYc2c2Cfkr2jzJb9TC29vrPt+/CfwsURv6ZZtvitDv6mng/+WSV/Kr5b7pp+VT4uqvx2QLBcQjEI0BhNJs1eSrePIzSU5nwDbGqXdZnlYFP+hXioEAVP9gGAh0RIE91BH5Otwj49jF5SkkTS+278N8ChZF/ptm2OO/n22xQo5/PMQHPany2YcbxNAkEKIz0g9juN2T/QWYHkfVD1gdvavdwmgQQ8LnFpZW/8+7yHuqn2tocGJh2AGA8L5bd/b4VLHaGQBoEAuSpNAaWsRcI+IyD18Z1BHwbej3bd/zn30ygv/jFzr3hDYeudx8VP/fff/hq/Natzm3e3DMYDAcCcQkEKIzerxH8H9nvFSM5U8+Pkb0i7sja90aeas8wmxZSXdWe5VebgwLZBAVHIbBMIECeAm1LAgj4lgBz3Z3CKNfIBfL7Rt3C4bWvXb72/Rj9IuLOnUfesM7HqYiB3KdZCORKIEBhdK9Y/MwEj2mvJY+MPJV8iPw5mGp+SdUvf+RpCQKlBALkqdI+2WA+AQT8QGcIhdFAAz9r2OOrDLYKf+GFzl1//ZFbs+rAxIGAVwIBCiNbeb9O9pnC0RP1rKNz7uyWjttd7v9QtlZ2n+xXZd+ZaPMX9L99cfyQzH6D/spiH9tsu+x5Mvu5VXtslN09zyfyVMuI1d296+/3rvufxStVv+rGl+0h0JBAgDzV0BN2GxFAwA90LlAYZRz4EMWEtWk//bZnzzIYW4W/447yn43LGCOuQyAFAgEKo7/TuJ4m0zUvBx/6DUj3FZl+XqLVjVXfqv3tp+iulr1R9ljZpRMMf7ro4+/1/GSZ/Sb9M2TflW2XfVT2garcyVNVSXnYjpVmDxBpAgL9JBAgT/UTVMRRIeAjwk6pKwqjlKJRw5eQRdZFFzm3bZtKfN33ym5YxzXuNQLDphBoRiBAYRTqxqp2EGBR9g3Zk2S7ZHagYN7ji3rz5TIT9NtlCPhm0yT8Xqlegx5+5PQAAQiUEAiQp2DekgACviXAXHdHwGcaubIiq83q/KyDA23azBQzbkMgFoGMCiNbRbeb4dnDagc7fX70/zRcJ+jFW2U/K9PNNQ4K+PUy+5lV3WTj4Cq+/T3zQZ6KNQvVT8iDw7GGQa6KRZp+BkYgozw1mMgg4AcT6sMHSmGUaeDnFVk+CrDJAshHm5mixm0IxCCQWGF0u8b8xCnjflMhxscFuwl4O41+2mO0Qn+O3hxdi2+v/bNstUx3zXRfk10+ZedNes3MLSwsrFtaSvKXWGNMjfh95CyAyVXx5ws9DoZAYnlqMNznDRQBP9BpgIDPNPBWpOzYoTJYdfATVWefrftSrbdFLT3KVuebDDlEm038YB8I9JRARoVR1VPo7QZ2u2T/VTbrevdFvfd62YvmhZU8ldik9yXwfbUzjodcldhkwZ0+EcgoT/UJ+9yxIOAHE+rDB0phlGHgx3+v3X7ubeXKw3/yrekKxLxiqmmbGeLFZQh0QSCjwuht4vOgbHQTO7sr/RsmmNnq+sdkH5FdM/GercDb9fNWd7xD9rDMTqOf+SBPdTEjZ/TpKxf4amfSzVDtJhQCXIFAVwQyylNdIYreLwI+OvI0OqQwSiMOtbwYX2EY7Th5szn7PffbbnPujDN0EurBs1DnP6oUPSFWS8r84n0IDIRARoXRGoXk/TK7q72d124/I2d3pT9e9hrZ+bJXy26R3TMWvo36234u7pOyJ8is7rD/bZ+H5oWZPDWHTuzvZV8r3L7amYYmNpOBfEcxTAhklKcGEywE/GBCffhAKYwyDHyIFfiQxVSGiHEZArEJUBjNJk6emsGmyoFX3xPZV5++2vE9PtqDAARmEiBPpTc5EPDpxSSKRxRGUTD772S0wrBGi2EP6mxW++32KtfAz1qZoJjyHyNahEANAhRGCPga02V5064OvPpa4fbVziS4UO3WDhA7RCVA3IPjJk8FR1y7AwR8bWT92AEB3484HjaKWWK8TKST/Ho4GRhSLgQojBDwtedq2Xd67QYz3mH8oPYllzi3Z49+50C3YtipXyocHdzOeHi4XkKAz0KUKUKeioK5VicI+Fq4+rMxAr4/sTxCxO/a5dz4Cr39f9llzu3b59zkNfM9xcCwIJALAQojBHyjucqB18N/u36Fylm7uasZea7RlMpyp67ORskSVnOnyVPN2YXaEwEfimzi7SLgEw9QG/cmj0hfo5tBszLRhij7QiAYAQojBHywydX3hsfFm/0qiwl3E/ChVuA5aJLejGIFPkpMyFNRMNfqBAFfC1d/NkbAJx7LNoXCtCPSdq28rcSPXzOfOALcg8AQCFAYIeC9zfM2ecObExEbmnawevLeML7cQSj6Ium/naHNe/8ES1skT5Uiir4BAj468jQ6RMCnEYepXrQtFNrunzAaXINA3whQGCHgvczprr73Y4ineX3E6N8CxKnaXqYpjeRJgDyVXtwQ8OnFJIpHCPgomJt1UqVQKCtayt5v5hl7QQACnglQGCHgvUypKnnDS0djjcQ4aBCjjypcUvGjiq9sAwHPBMhTnoF6aA4B7wFijk0g4BOOWlmhUPZ+wkPDNQhA4HACFEYIeC+fiS7yQoyDBjH6qBoADoxXJcV2PSNAnkovoAj49GISxSMEfBTMzTuZVyikVNA0HyF7QgACIkBhhID39kGIKTCtrx07nLvlFuf27g1747gNG/h5OG+ThIYgUJ8Aeao+s9B7IOBDE060fQR8ooGZdGtaQdbFSksmuHATArkRoDBCwOc2Z914DrI7v593nnNnnx3ud9djHpjILhg4DIHwBMhT4RnX7QEBX5dYT7ZHwGcQyHlCnYImgwDiIgTKCVAYIeDLZ0mLLULkihzOAgsx7hZhYFcI5EyAPJVe9BDw6cUkikcI+CiYp3dStbDIoUjqECNdQ6APBCiMEPDB5nGos7VCtesLRF3/quZkX/7RDgQyI0CeSi9gCPj0YhLFIwR8Q8xtE32dwqLOtg2Hw24QgEC3BCiMEPDBZmDIg8Btc2GTQVfts2zc4+2YH1xj3yQa7DMgAuSp9IKNgE8vJlE8QsA3wOxDUJcVFpNuTRYsVQuYBsNjFwhAID4BCiMEfLBZ5yNnBXOuZsN1xlJ2+dm4YD/nHOduusm5ffucs+v5t251bvPmms6xuRcC1DdeMIZohDwVgmq7NhHw7fiF3vtx6uAPZWtl98l+VfadKZ0q87gvFa/fr+eXlDmGgC8jNOX9uuJ7Whd1ipDJ/dvs22C47AIBCIQnQGE0mzF5wIJ4ugAAIABJREFUysP861oU+eq/bv6d1e9kOxdc4Nytt3KXew9TrVUT1Det8IXemTwVmnD99hHw9ZnF3OOt6uzbsqtlb5Q9VnbpFAce0muPruMYhVEdWsW2vhJM04KmbgHTYIjsAgEIxCVAYYSAjzvjIvbmK2eay77amtaOtb9rl3OLi+HupB8Re5ZdUd8kHTbyVHrhQcCnF5Nxj76if5RR3DdkT7IUI3saAr7DoDUV3z5c9lXA+PCFNiAAAS8EKIwQ8F4mUoqN+BZlvvKvr3ZSZJ6rT9Q3SUeOPJVeeBDw6cVk3KPv6p/HFC9YrOz0+dH/49vt1T93y+zZVus/VDYsVuDLCCX6PoVHooHBLQg0I0BhhIBvNnMy2AtRlkGQEnKR+iahYBzuCnkqvdAg4LuPye1y4YlT3HiTXtOFWYcJdhPwdhr95ONH9cIDsuNkn5RtkH1tynab9JqZW1hYWLe0tNT96PEAAhCAwIAJUBjNDj4HmnvwwUCU9SCIDGHoBMhT6c0ABHx6MRn3qOop9OP7bNc/H5V9YN7QKIzSDjzeQQACwyCQUWHU9qaqT1VE/0C2RnaX7CzZHvLUMOY5o4QABPIlkFGeyhdyTc8R8DWBRd78bervQdnoJnZWQL1hwgdbkf+ebLfs8bJPy14qu5fCKHK06A4CEIBATQIZFUZtb6r6fqH5Y5mJ+BtkX5RdT56qOWFS3ZyV9lQjg18QaE0gozzVeqy5NICATztStlJhRc+CzM53t5+Rs7vSHy97jex82XNk22T7ZStl18jeWzYsVuDLCPE+BCAAgfAEMiqMqp4RNu1XUazW+JbMLheze7Wsl22RnTKPMHkq/Pzz0gPXunvBSCMQSJVARnkqVYTe/ULAe0eaR4MURnnECS8hAIF+E8ioMGpzU1U7O+wzsp8sovnjev6Y7JkI+B7Mb993m+8BEoYAgT4RyChP9Qn73LEg4AcT6sMHioCPFHhOK4wEmm4gkCeBxAqjUDdV/bcaAp6breY2lVmBzy1i+AuBWgQSy1O1fO/rxgj4vka2ZFwI+AiBp6iJAJkuIJA3gYwKo6qn0I8HZLv+sZuq3ibjFPq8p+p87zlY3efoMraBE8goTw0mUgj4wYT68IEi4CMEntMKI0CmCwjkTSCjwqjtTVX/qBDyo5vY/Y3+f/e86JGnOp7biPKOA0D3EEiDQEZ5Kg1gEbxAwEeAnGIXgy6MJouSUEVKlRX4UH2nOOnwCQIQOIJARoVR25uqHqfBm3i3X1P5guzVMvv1lJmPQeepeWBi5I0q+YvPMwQgMAgCGeWpQcTDBomAH0yoDx/oYAujyaLkGt20/5JL9GvE+jni1aud27lT90e2GyR7eswrtCiQPEGmGQjkS4DCCAFfa/bGyhucQVYrLJ1tHONgTmeDo+NUCJCnUonEIT8Q8OnFJIpHgxXwk0XJhg3Lon3fPudWrXJu61bnNm+OEgNHgRSHM71AIGECFEYI+FrTM1beiHWgoNbg52w8RCGbW4x8xZp2ohMgT0VHXtohAr4UUT83GKyAj70CP2/6kHz7+eFiVBCoQYDCCAFfY7o4FzNv5CKKYzKpFazAG8c6mBN4GDSfPgHyVHoxQsCnF5MoHg1WwBtdS/Y7dixzPvvs5eddu5xbXPRz+nydoqfOtlFmBp1AAAIxCVAYIeBrz7eqeaPqdrUd8LiDDx+HKmSHeuDC4/SjqWoEyFPVOMXcCgEfk3ZCfQ1GwE8rDkImvfG27ZT8885bPkjg87r6hOYRrkAAAu0IUBgh4NvNoBl7h8xzvhz25aOvdnyNK2Y7Pg6AxPSXvrIkQJ5KL2wI+PRiEsWjQQj4WUm97tH6qgnSttuyxbnbb3du//7lOK7QR+zYY/3fHC/KLJnTSVUmXftJ/xBInACFEQI+yBStm+emORH6e96HjyO/Q/saJEg0CoE8CJCn0osTAj69mETxaBACflZxUOdofZVtR6fk33KLc488cki8jyIZ++Z4oWdQFSahfaB9CPSEAIURAj7IVG77Pd12/yqDitFHFT/YBgIQmEuAPJXeBEHApxeTKB71TsDXPVW+6tH6shWCUQHy8MPOHTiwHLuVK507/njnvvhF5/buDfPzdFFmyYxOyph06Rt9QyAzAhRGCPhgU7ZqnpvmQKzv+TY+BgNHwxCAwDgB8lR68wEBn15MonjUKwE/7yh+2+KgbIVgvMixyI2fMm//+7w5XpSZUaGTMiYVmmATCEBgmQCFEQI+yc8C3/NJhgWnINAFAfJUF9Tn94mATy8mUTzqlYAPvVIw7yDAUG9a1/bASJRZTicQSJ8AhRECPtlZyvd8sqHBMQjEJECeikm7Wl8I+GqcerdVrwR81ysFFDm9+3wwIAjEIkBhhICPNdfoBwIQgEATAuSpJtTC7oOAD8s32dZ7J+DHf9edn2xLdt7hGAQgcDgBCqMEBDwHYflYQgACEJhJgDyV3uRAwKcXkyge9UbAd736HiVadAIBCPSVAIVRxwKeHNLXjxbjggAEPBEgT3kC6bEZBLxHmDk11RsB3+b6d1Zdcpqy+AqBXhKgMOpYwLfJIb2ckQwKAhCAwOEEyFPpzQgEfHoxieJRbwR809WTpvtFiQ6dQAACQyFAYdSxgCcXDOWjxjghAIGGBMhTDcEF3A0BHxBuyk33RsAb5CYr6ay6pDw98Q0CgyFAYdSxgG+aQwYzQxkoBCAwdALkqfRmAAI+vZhE8ahXAr4JMVZdmlBjHwhAwDMBCqMEBLznmNIcBCAAgT4RIE+lF00EfHoxieJRdgL+xhudu+025844w7lNm5oxmlypb7Jy36xn9oIABCAwlQCF0UAFPPmHbwQIQCATAuSp9AKFgE8vJlE8ykrAm3i/8MJDXLZtqy/iWXGPMq/oBAIQqEeAwmiAAp58VO9DwtYQgECnBMhTneKffvA/PZfwKAaBqAK+7UrDiSc699nPHsLywhc69/GP18PENe/1eLE1BCAQhQCF0QAFPPkoymeLTiAAAT8EyFN+OPpshRV4nzQzaiuagK+60jBL5Nvrz3uec488coiuzxX4tgcXMoo5rkIAAukRoDAaoICvmhfTm654BAEIDJAAeSq9oCPg04tJFI+iCfgqKw3zipnx/Y3My17m3Ac/WI/RSKSvWePcgw86t7jo3Pr1ztmp+Rdf7Ny+fc4dc4xzO3cuv84DAhCAQCQCGRVGjxOSP5Stld0n+1XZdyYwnaT/3zH22tP196/JPiTbLtPRWPdvxfsb9Xz3PMzR8lTVWPs84Ouzrar+sx0EIACBBgQyylMNRpfnLgj4POPW2utohVGVlYZ5Ir/K/vNo2P4m2G0F/+ijndu1a1mk2+vPfa5ze/cu771y5fJ19QsLhwR+a8o0AAEIQGA+gYwKo7dqJN+WXS17o+yxskvnjM4E/z/Ifkz2Pdl22UdlH6g6J6LlqSoOtc1FVfpgGwhAAAIJEsgoTyVIL4xLCPgwXJNvtVVhVHfloGz7ssKobP95tC+6yLkbbji0xWte49z11ztnBw3e/Gbn9u9ffm/VqmWz1fjVq1mNT34G4yAE+kEgo8LoKyK+KPuG7EmyXbKnzYmC/VyIrbj/erHNdj3nK+DHDzSvUOlkN1a1XMIDAhCAQM8JZJSneh6JQ8NDwA8m1IcPtLGALxPbTXm2Eenz+pwl4Efj2L17efX9RS9y7iMfWRbwJuS3bnVu8+amo2E/CEAAApUIZFQYfVcDekwxKKsd7PT50f/TxvpJvfg7hWi3903A2zVK+tJ1ul7p4Cq+/T3z0ThPVSJfcyPLGSfpCgHLGfawA72jM7pqNsXmEIAABHIikFGeyglrK18R8K3w5btz48KoyjXtKWEZFV179iwXXHfcceg69/GDBubzhg3OjbbjeviUoogvEOgtgcQKo9sF+olTYL9Jr90qGxfsJuDtNPppD1uh/xvZk2WjO5Daa/9s0lemG5C4r8kun7Kzrdyb6YqmhXVLS0vNYh/ioLAdELabqB44wIHeZlFhLwhAIEMCieWpDAn6dxkB759pFi02FvDTVuBtxLYSMbo5XFUCIQqsaX1X7afqdlXHx3YQgAAESghkVBjVOYX+P2nYPzsS4lMQLOq118t06tPsh9c85eMGpaHOQONTAgEIQCBhAhnlqYQp+nUNAe+XZzatNS6MbISTK9fTbhJXRiJGIYQgL4sC70MAAh0TyKgweptQ6Wc8fnATO7tJ3Rtm4PuMXrdrkHTK0w8etgJv189b3WF3qn9YZqfRz3w0zlN1zhSrmyfqbu9zfnXZt89x0BYEIJAVgYzyVFZc2ziLgG9DL+N9GxdGk2OedY25bTev2KhTYDXhHOMAQRO/2AcCEIDAGIGMCiP9Dqd7v0w/1eHsvHb7GTm7K/3xMt0d1J1fDGutnv9K9uOy4i6hB9+xa+KfILO6w34+zvZ5aN5kaJynqn7/V90uhRmbk68p8MIHCEDAG4GM8pS3MafeEAI+9QgF8q9xYTTpT9lN4mZdUx66GAl9gCBQXGgWAhAYFgEKo9nxbpWnqqxW55QncvJ1WB9hRguB3hMgT6UXYgR8ejGJ4lGrwmjcw1k3iatSbFQpsJrSCH2AoKlf7AcBCEBgjACFUSABX2WW+c4T5LQq1NkGAhDIjAB5Kr2AIeDTi0kUj7wJePN2WtHiuzBqQiVkMdXEH/aBAAQgMEGAwqhDAW9d36gb4t92m3NnnKF73x+8+X2zR4ycR05rFhv2ggAEWhEgT7XCF2RnBHwQrOk36lXAzxouxUb6EwEPIQCBTglQGHUo4H2K7ipnnXU60+gcAhCAQDMC5Klm3ELuhYAPSTfhtqMI+ITHj2sQgAAEUiBAYdShgPcpun0eDEhhYuIDBCAAgYIAeSq9qYCATy8mUTxCwEfBTCcQgAAE5hKgMOpQwPsW3T7OOvPRBp85CEAAAh4JkKc8wvTUFALeE8jcmkHA5xYx/IUABPpIgMKoQwFvXXchmGf16fuAQh8/MIwJAhCIToA8FR15aYcI+FJEnW7wCvW+RfYM2QmyO2d4c6pev1a2SvYe2dVlXiPgywjxPgQgAIHwBCiMOhbwTULcRvTPE+k+T+lvMi72gQAEIDCFAHkqvWmBgE8vJuMemXDfL9sme/0MAW+i/auyF8i+Lvuc7FWye+cNLZqAb1PopB0bvIMABCDQmgCFUSYCfpTL1qxx7pJLnNuzx7nVq53budO59eurz4N5Ip0V+Ooc2RICEIhGgDwVDXXljhDwlVF1uuGuOQLeKoctslMKDzcXz1d1LuApRjqdNHQOAQikT4DCKAMBP57LVqhs2q/j6mardPx861bnNo/SboX5VpYXOehdASKbQAACMQmQp2LSrtYXAr4ap663mifgXy7n7BT68wsnz9LzibKLOxfwnA7Y9byhfwhAIHECFEYZCPjxXLZy5bJwNwHfZAXehotIT/xTiXsQgMA4AfJUevMBAd99TG6XC0+c4sab9NqfFK/7EvCb1J6ZW1hYWLe0tBR29GUrDWF7p3UIQAACyROgMMpAwE/msmuuce7BB51bXKx3+nzysxEHIQABCBxJgDyV3qxAwKcXk2kezRPw6Z5CbyNhpSGPGYaXEIBAJwQojDIQ8OSyTj4bdAoBCKRBgDyVRhzGvUDApxeTugL+KO1gN7HbIHtAZjexO1N2z7yhRbuJXR588RICEIBAJwQojDIR8NPc5AB1J58ZOoUABOISIE/F5V2lNwR8FUrdbXO6un6X7Amy78rultnN6p4ss5+LO61wzZ51Tt/Bn5G7WXZlmcsI+DJCvA8BCEAgPAEKo0wFPJeIhf9w0AMEIJAEAfJUEmE4zAkEfHoxieIRAj4KZjqBAAQgMJcAhVGmAt7XTVpZxecbAgIQSJwAeSq9ACHg04tJFI8Q8FEw0wkEIAABBHzDOZB0nmq7Am/779ihc+Z00ty+fc3vaN+QLbtBAAIQqEoAAV+VVLztEPDxWCfVU9KFUVKkcAYCEIBAOAIURpmuwJvbTVfPR+L/4YedO3BgGUCT35QPNy1pGQIQgMAPCJCn0psMCPj0YhLFIwR8FMx0AgEIQGAuAQqjjAV807k9fvq9tbFCpdixxzq3cyc/S9eUKftBAALBCJCngqFt3DACvjG6vHdEwOcdP7yHAAT6QYDCKLCAb7pKHnJ6jZ9+f5R+SObcc507+2zEe0jmtA0BCDQmQJ5qjC7Yjgj4YGjTbhgBn3Z88A4CEBgGgYwKo1coIltkz5CdILtzRoRO1evXyuxXUezXUq4utnuqnv9AtkZ2l+ws2Z55UW6dp9pepx5yCqZ4YCHkeGkbAhDIlkBGeSpbxnUdR8DXJdaT7VsXRj3hwDAgAAEIdEkgo8LIhPt+2TbZ62cIeBPtX5W9QPZ12edkr5LdK3u/7I9lJuJvkH1Rdv089q3z1Kw7xSOeu5zy9A0BCGRGIKM8lRnZ5u4i4Juzy3rP1oVR1qPHeQhAAAJpEMiwMNo1R8Cv13tbZKcUdDcXz7YK/y3ZE2V7ZZPbTQ1G6zw1bQXeetqwQWv/WvxfvZrrztP4GOAFBCCQMIEM81TCNP24hoD3wzG7VloXRtmNGIchAAEIpEcgw8JonoB/uQjbKfTnF6TtNPkTC1H/GT3/ZPH6j+v5Y7JnzouIlzw1udru6/fb05tKeAQBCEAgCIEM81QQDik1ioBPKRoRffFSGEX0l64gAAEI9JFAYoXR7WJsq+STjzfphT8pXtyl51mn0PsQ8JvUvplbWFhYt7S05DfsKV8X73ektAYBCEDAC4HE8pSXMeXeCAI+9wg29B8B3xAcu0EAAhDwSCDDwmiegE/rFPpZceIaeD8zGI5+ONIKBBInkGGeSpxoe/cQ8O0ZZtkCAj7LsA3LaYrDYcV7oKPNsDCaJ+D1m2gHb2Kni8zdAzK7id2ZsntkfyS7TTa6id3f6O93zwt7tnlqCN9dnMkw0G8shj1EAhnmqd6HCQHf+xBPH2C2hdFA4zW4YVMcDi7kQx1wRoXR6YrRu2RPkH1XdrfMblb3ZJn9XNxpRQzt+RqZ3ZH+ZtmVxevHFeL9cXr+guzVst29E/BD+e7iXgJD/cpi3AMkkFGeGkx0EPCDCfXhA0XADzTwuQyb4jCXSOFnSwIURrMBZpmnhvLdNZQDFS0/3+wOgT4QIE+lF0UEfHoxieJRloVRFDJ0kgQBisMkwoAT4QlQGPVMwA/pu2sIlwqE/wqgBwgkT4A8lV6IEPDpxSSKRwj4KJjppA0BisM29Ng3EwIURj0T8DYcvrsy+fThJgQgUIUAeaoKpbjbIODj8k6mNwR8MqHAEQhAYMAEKIx6KOAHPJ8ZOgQg0D8C5Kn0YoqATy8mUTxCwEfBTCcQgAAE5hKgMELA8xGBAAQgkDIB8lR60UHApxeTKB4h4KNgphMIQAACCPiGc4A81RAcu0EAAhDwSAAB7xGmp6YQ8J5A5tYMhVFuEcNfCECgjwQojFiB7+O8ZkwQgEB/CJCn0oslAj69mETxCAEfBTOdQAACEGAFvuEcIE81BMduEIAABDwSQMB7hOmpKQS8J5C5NUNhlFvE8BcCEOgjAQojVuD7OK8ZEwQg0B8C5Kn0YomATy8mUTxCwEfBTCcQgAAEWIFvOAfIUw3BsRsEIAABjwQQ8B5hemoKAe8JZG7NUBjlFjH8hQAE+kiAwogV+D7Oa8YEAQj0hwB5Kr1YIuDTi0ksj76ljpaKzh6v53+N1XGLfvCzBbwZu8LUL9NceNqoc/G1734+RbF4gt9p2JvWxvNUk0HlMHfwsUlkD98Hhu0Z5pITiHU3sSZP+eHurRUEvDeUWTd0p7w/PoMR4Kf/IMHUL9NceNqoc/EVP/3O0SG1lsPcwcf2MxKG7RnmkhOI9XBi7WekPW0FAd/TwNYcVg5fiLkkl5z8zMlX5mjND3WFzWFaAVKNTXLhWWNI2W+aQ0zwsf00g2F7hrnUA8R6OLH2M9KetoKA72lgaw4rhy/EXJJLTn7m5CtztOaHusLmMK0AqcYmufCsMaTsN80hJvjYfprBsD3DXOoBYj2cWPsZaU9bQcD3NLA1h7VJ299Yc58uNsdP/9Rh6pdpLjxt1Ln4ip9+5+iQWsth7uBj+xkJw/YMc8kJxHo4sfYz0p62goDvaWAZFgQgAAEIQAACEIAABCAAAQj0iwACvl/xZDQQgAAEIAABCEAAAhCAAAQg0FMCCPieBnbKsF6h17bIniE7QWbXEU17nKoXr5Wtkr1HdnWx0VP1/AeyNbK7ZGfJ9gTA9zi1+YeytbL7ZL8q+85EPyfp/3eMvfZ0/f1rsg/JtsueJ/u34v2Ner67Iz+t232yLxX936/nl0Tmad1VYfoL2u562Q8VPl9ZxMH2D8101pwbhe0Y/bFDtk72oOyVsvuKNzfr+T8WPv+mnj8eINajJsv8/M/a8HzZXpn9/NV5stFPNc6aByHcLfNzozp9m+yBovPr9GyfdXucI3tz8fcVer41hINFm2V+2mfcPuv2eJTsR2SPKf6PyfNm9fki2Tdlz5zCw/KofWeeJvuezPh+vgOeAUOVdNOp57Yq379d57QqPtok6DKfVfGxqzxW9l2WQg4r8zGF/FXmo323dpm7yvxLIWeRr5JOV/6cQ8D7Y5l6Sybc98u2yV4vmybgTbR/VfYC2ddln5O9Snav7P2yP5aZiL9B9kWZCT7fj7eqwW/L7MDBG2WPlV06pxNL6v8g+zGZFc/bZR+VfcC3YxPtVfXzIe336Cm+xOJpXVfx9ae13QHZ38ueLLODNDZnvhuY6bw5N8L2G/rj52WvkdmBmtNlJuJ/RvY+mR2QMp9vl9k4rMj0/ajipxXhfy2zeXiRbLHw03yZNQ+68HOjOrWfjbx4onP7LI1uEGRzweaAHTSZPIDmw+cqPMf7eZ3+eZbMDorE5Gl9PbeInx1EmibgTbibf/Z8oszEvD3H5OkjJrm2kXpuq/L9O86+i5xW1ccu81kVH7vIY1W+y7rOYVV87Dp/VfGxy9xVxb8Uchb5KtdMVtNvBHxNYD3YfJfGMEvAr9d7W2SnFOO01U17mJi2FcUnymx1cXI7n1i+osYWZd+QPUlm/j5tTgd2QxNbcf/1Ypvteo4h4Kv6Oa3gsc9dLJ6Gpaqv45jtAM3LZSboQzKdNeeuGnPGVtW3yD4tO0r2z7InyOwAjz1G245vN2fKNHqrip/jDZvYtJXtXypejCXgq/i5UT5NE/B2sG5RdmHhsx3s2yWzgyS+H1X8HO/zU/rnLbI/i8xz5MNa/WHfK9ME/CSn0efNWMbi6Ts+ObZnczXF3Fb3+7eLnFbVxy7zWVUfx+dujDxW5bus6xxWxcdxbl3kryo+dpm7qviXSs4iX+WYwWr6jICvCawHm88rckyw2SlCdhqwPew0eVtJ2iL7jOwni9d/XM8fm1HMtkVkK76j02Rtftrq3+j/aW1/Ui/+jsyKa3tsl9kX7W7ZTpmJPPvb96Oqn3bAw07ht2c7EGKn+T8+Ik8bd1VfR4xsRdtOnf5ZmZ21EZLprDk3vjr8t/LB5qWdFWKPr8nG5+XvFa+/V882L0OcfVHFz/E5ZuLdDjTYaej2mDYPxrf39XcVPzeqMzvoYQeR7Iyb35L9k8zEz7FjPl+mv78ve7sv58baqeLnaPOn6A/7/rGzbEZnV8TiOfJhrf6YJeDtdfts/2WxsX3v2FlDixF5BghRdk3uKubwtLPLusxtdb9/u8hpVX3sMp9V9XE0cWPlsSrfZV3nsCo+jn/gu8hfVXzcKCe7yl1V/EslZ5Gvsktf9R1GwNdnlvIedgqxrZJPPt6kF/6keDGFImeenyYcxwW7CXg7jX7aw1bo/0Zmp08/Umxgr5lwWi2zn8YzsXd5w6D58PNH1bdda3yczAqzDTK7Pt/3AREfvhqm0VkPdi20+Th6zRfTyVBUSYpdFz/mcxU/R2N7tf6wAxB2Zsjo4NG0eWBz0/ejip92HwtbSTPfbLXdLkd4vixVAW9i2MS7naY+esTiOepvrf5AwPuerdXbSz23+fz+DZXTfPgYOp/58HGUs3bpjxh5rMp3btc5rIqPXeevKj52mbuq+Ddi2HXOIl9Vzy3ZbomAzzZ0jR23pGaF+rRVilmnCKV6Cv1/0jhsldhOOZz2WCzGajeg8v1ocjrf9kIE3KbnFE+htxvY2fz4r7JZq9i+mVY5La3r0w9t7lTx07Y7WfYumYl3u+nZtMdoHoQ4U6CqnyO/7Lo+u+fED8tSPYX+C/LttTI7jT42z1F/a4vPLqfQzwhCAi/bd1eKua1Orugqp9XxcRTq0fdYrHxW1cfYeazKd27XOayKj13nr6o+dpW76vjXdc4iXyWQkEK7gIAPTTi99ucVOXZ9sZ1Sa6vEtmpsN7E7U3aP7I9klqhHN7GzVYJ3Bxie3WHU7jQ+uomd3dDnDTP6sRXizbI7xt63FWS7ft7mtt0R9GHZ6Fppn+5W8dPOHLAbmtlKp502b9dwv1RmNwWMxdPGXMVXO2PBTj//iOyaCVAhmc6bcyM3TLz9nGx0E7tf0d/26wR28Ob3ZaOb2Nmpyz8lC3ETuyp+2nWDJsrtdH+7d8DoMW8e+JyT1lYVP0fxtO3thoC2WvCLMvus2Y3rnl04ZXdSt5vYmcD3/ajip/VpvzDxpzL7FQy7sZ49YvIcjXut/pi1Av/Les/OuBjdxO6d+tvmZEyevuOTY3u75PQsAd9lbqvy/Tvi3VVOq+Jj1/msio9d5LEq32Vd57AqPnadv6r42GXuquJfKjmLfJVjBqvpMwK+JrCMN7dC3VYG7eZfdi2ZXZdtN6uz08/tJ6Ss+LSHPZuAs5U5+zkK+zkxe9gp4CberSi1o4t2mnCIa8vtFCm7Q/uCzH6Cy4SaCYjjZSbgRtfnr9XffyWz6/HtOu3Rw05TtzHa3LYx2j52urDvRxU/n6NOtxX+rdSzcbXrtO0Ri6f1VcVXi+ctMjtYM3psLBiGZjptztlT73lEAAAgAElEQVRlD3aWyIdldl32/5BZgWFzwe5E/4+Fk3Z5iN2Z3K7NvERmByFCPcr8tNM/7UCDHUCyx+hnA+fNgxC+lvlp1xDazxkaM+Npd8z/cuGIsfzt4m/77NucCPUo89P63SKz+I8fhIvN027ityizg3D/IrOb6R1dQLFf5LDvGrtm1A7c2AG7c2WjM5xi8gwVp9TbTT23Vfn+NcZrZV3ltCo+dp3PqvjYVR4r+y5LIYeV+ZhC/irzsevcVeZfCjmLfJV6xvLkHwLeE0iagQAEIAABCEAAAhCAAAQgAAEIhCSAgA9Jl7YhAAEIQAACEIAABCAAAQhAAAKeCCDgPYGkGQhAAAIQgAAEIAABCEAAAhCAQEgCCPiQdGkbAhCAAAQgAAEIQAACEIAABCDgiQAC3hNImoEABCAAAQhAAAIQgAAEIAABCIQkgIAPSZe2IQABCEAAAhCAAAQgAAEIQAACnggg4D2BpBkIQKAxgbXac9ZvbDdudMqOG/Wa/Ryh/WY3DwhAAAIQgEATAvcVueRfJ3a2n+f8GdnVTRqds8+i3nu97EWe26U5CEAgUwII+EwDh9sQ6BGBtRpLXQF/lPax3zGv89hYFF0I+DrU2BYCEIAABMYJ3FfkkkkBX4VSk9yFgK9Clm0gMCACCPgBBZuhQiBRAibgPyb7S9lzZA/IXir7/oS/2/X/w7Jnyf5K9ruFPUHP35NdIPuy7MWyN8tWyx6U/brsX2QbZazAJzoJcAsCEIBAQgQsL/2p7C7Zs2X3yM4ucs19er61yDVH6/kVRe6ZlWO26P2fkB0nu1/2m7IbZAvFeC/Rs+W0E2TXyo6VWf47V/YV2aKMFfiEJgeuQKBrAgj4riNA/xCAwFoh+AeZieu7Ze+XfVj2exNotuv/x8tM3O+T7ZS9Rvb3shNlV8meL3us7LuyA7LzZc+Q/T+yjUUfrMAz5yAAAQhAYB6BtXrzf8v+g8zE9c2ye2Vvl90n+++yd8l+Q2YC33LNrByzRe/ZgWVry4T578veLbOD1ibiPy6zPPVDMjsYbWeXnSy7SHaGbFGGgBcEHhCAwDIBBDwzAQIQ6JrAWjnwZ7KfKhy5VM+2qnHFhGPb9f8dMlv5eLTsWzJbnRg9jtEfVgT9nMyKqyfJbBXeirBTZRtlrMB3HW36hwAEIJA+gbVy8S9ko1VyOzhsK+cvk90n+yWZnS1mB4+vlJngnpVjtug9O6D8X4phf1PP/98YAjuL7GkyO/j8TpnlQtve8uDTZYsyBHz6cwYPIRCNAAI+Gmo6ggAEZhBYq9fHr4G3QsUEuhU944/txXYf0LOtVJh4N5E++dilF35HZqv4i0U79rxRhoBnGkIAAhCAQBmBtdrgz2VPKTY0Af862emy+4pcYtfAW06xVfl5OWaL3n+o2M6as/1+TGaXhI0/tuufz8tMxFv/u4pnaxsBPwGLfyEwZAII+CFHn7FDIA0CVqjUFfDm+adk75D9kcy+y35e9kXZF2R2OqNdu3iL7KkyK4A2yhDwacQcLyAAAQikTMDykp29Zfdl+bTsPbK/k9nZXfcVuaSpgLdT6C1Pva0A8At6tsvHPiizS8duk20pcpb5YfkLAZ/ybME3CEQmgICPDJzuIACBIwhYgdJEwJswv15mq/B2quEfyC6X2TXyJuy/I/uk7N8XBdBGPSPgmYAQgAAEIFBGwPKS3cTuTtk6mV3/fpbMrlG/r8glTQW83cvFbsJql3zZXentVH27n8t6mV0i9n9l/1P2apn5sShDwJdFjPchMCACCPgBBZuhQgACEIAABCAAAQiUEjDhXPfnTUsbZQMIQAACPggg4H1QpA0IQAACEIAABCAAgb4QQMD3JZKMAwI9JICA72FQGRIEIAABCEAAAhCAAAQgAAEI9I8AAr5/MWVEEIAABCAAAQhAAAIQgAAEINBDAgj4HgaVIUEAAhCAAAQgAAEIQAACEIBA/wgg4PsXU0YEAQhAAAIQgAAEIAABCEAAAj0kgIDvYVAZEgQgAAEIQAACEIAABCAAAQj0jwACvn8xZUQQgAAEIAABCEAAAhCAAAQg0EMCCPgeBpUhQQACEIAABCAAAQhAAAIQgED/CCDg+xdTRgQBCEAAAhCAAAQgAAEIQAACPSSAgO9hUBkSBCAAAQhAAAIQgAAEIAABCPSPAAK+fzFlRBCAAAQgAAEIQAACEIAABCDQQwII+B4GlSFBAAIQgAAEIAABCEAAAhCAQP8IIOD7F1NGBAEIQAACEIAABCAAAQhAAAI9JICA72FQGRIEIAABCEAAAhCAAAQgAAEI9I8AAr5/MWVEEIAABCAAAQhAAAIQgAAEINBDAgj4HgaVIUEAAhCAAAQgAAEIQAACEIBA/wgg4PsXU0YEAQhAAAIQgAAEIAABCEAAAj0kgIDvYVAZEgQgAAEIQAACEIAABCAAAQj0jwACvn8xZUQQgAAEIAABCEAAAhCAAAQg0EMCCPgeBpUhQQACEIAABCAAAQhAAAIQgED/CCDg+xfTSiNas2bNgbVr11balo0gAAEIQCAMgbvuuutf1fITwrROqxCAAAQgAAEI9I0AAr5vEa04nnXr1h248847K27NZhCAAAQgEILAihUr7lK7x4domzYhAAEIQAACEOgfAQR8/2JaaUQI+EqY2AgCEIBAUAII+KB4aRwCEIAABCDQOwII+N6FtNqAEPDVOLEVBCAAgZAEEPAh6dI2BCAAAQhAoH8EEPD9i2mlESHgK2FiIwhAAAJBCSDgg+KlcQhAAAIQgEDvCCDg0wnpzXLlRbJvyp45xS2L1bWy02Tfk22Ufb7Y7hw9v7n4+wo931o2LAR8GSHehwAEIBCeAAI+PGN6gAAEIAABCPSJAAI+nWg+V648JNsxQ8CbcH9dIeBPLMS8PT9OZnejs5sgHZDZDZHWyb4zb2gI+HQCjycQgMBwCSDghxt7Rg4BCEAAAhBoQgAB34RauH3WqumPzhDw2/T6Ltn7iu6/oufFMbuweH1yu6neIuDDBZGWIQABCFQlgICvSortIAABCEAAAhAwAgj4tObBPAFvwv5q2V8WLu/U86WFgD9Wz3bqvD0uk31f9vZ5Q0PApxV4vIEABIZJAAE/zLgzaghAAAIQgEBTAgj4puTC7BdawG+S22ZuYWFh3dLSUphR0CoEIACBPhL49Kd1HtQunfu06Nz69V5GiID3gpFGIAABCEAAAoMhgIBPK9TzBDyn0KcVK7yBAASGRMDE+4YNzu3Z49zq1c7t1ElQHkQ8An5Ik4ixQgACEIAABNoTQMC3Z+izhXkC/pfV0cUyu5md3bzunbITZHYTO7tx3bMLR+zO9HYTu2/Pc4xT6H2GjbYgAIHeE7jqKl2gpCuU9u1zbtUq57ZudW7z5tbDRsC3RkgDEIAABCAAgUERQMCnE267Od2i7PGyf5G9RXZ04d4NerZYXSc7VWY/I3euzO4+b4/zZL9d/H2lnm8pGxYCvowQ70MAAhAQgdFp82vWOHfJJazAMykgAAEIQAACEOiUAAK+U/zddY6A7449PUMAAgEIBLg+/aB4Hz9t/pprnHvwQa6BDxA+moQABCAAAQhAoBoBBHw1Tr3bCgHfu5AyIAgMl0Cg69NdoNPmxwPFKfTDnbaMHAIQgAAEINCEAAK+CbUe7IOA70EQGQIEILBMIJTQDnVgYCxuCHgmMQQgAAEIQAACdQgg4OvQ6tG2CPgeBZOhQGDoBEIK7RCn5iPghz5jGT8EIAABCECgMQEEfGN0ee+IgM87fngPAQhMEAgstEPxZgU+FFnahQAEIAABCPSTAAK+n3EtHRUCvhQRG0AAAhAITgABHxwxHUAAAhCAAAR6RQAB36twVh8MAr46K7aEAAQgEIoAAj4UWdqFAAQgAAEI9JMAAr6fcS0dFQK+FBEbQAACEAhOAAEfHDEdQAACEIAABHpFAAHfq3BWHwwCvjortoQABCAQigACPhRZ2oUABCAAAQj0kwACvp9xLR0VAr4UERtAAAJDIdDhDfAQ8EOZZIwTAhCAAAQg4IcAAt4Px+xaQcBnFzIchgAEQhAI+RN0FfxFwFeAxCYQgAAEIAABCPyAAAJ+oJMBAT/QwDNsCAyRwLwV9quucu6yy5zbt8+5Vauc27rVuc2bo1FCwEdDTUcQgAAEIACBXhBAwPcijPUHgYCvz4w9IACBDAmUrbCXvR94yAj4wIBpHgIQgAAEINAzAgj4ngW06nAQ8FVJsR0EIJA1gSor7FwDn3WIcR4CEIAABCAwJAII+CFFe2ysCPiBBp5hQ2BoBOatsHco3EdhYAV+aBOS8UIAAhCAAATaEUDAt+OX7d4I+GxDh+MQgEBdAtOEesenziPg6waR7SEAAQhAAAIQMAII+IHOAwT8QAPPsCEAgWUCVU6tj8CKFfgIkOkCAhCAAAQg0CMCCPgeBbPOUBDwdWixLQQg0DsCrMD3LqQMCAIQgAAEIDAEAgj4IUR5yhgR8AMNPMOGAAQOEeAaeGYDBCAAAQhAAAKZEUDAZxYwX+4i4H2RpB0IQKAVgQREdCv/W+7MKfQtAbI7BCAAAQhAYGAEEPDpBPxUuXKtbJXsPbKrJ1x7h/4/qXjtUXr+Edljiv/36flLxd/36/klZcNCwJcR4n0IQCA4ARPvJ+lrbc8e51avdu6OO5xbv/5QtwMQ9wj44LOMDiAAAQhAAAK9IoCATyOcJtq/KnuB7Ouyz8leJbt3hnuv0+vPkp1XvP+Qnh9dZygI+Dq02BYCEAhC4KKLnLvhhkNNv+Y1zl1//fL/iVyjHmTcY40i4EMTpn0IQAACEIBAvwgg4NOIpy05bZGdUrizuXi+aoZ7n9Lrb5H9GQI+jQDiBQQg0IDAPAFvd4l/85ud27/fuZUrnbviCuc2j74aJ/rKeKUeAd9g3rALBCAAAQhAYMAEEPBpBP/lcsNOoT+/cOcsPZ8ou3iKe0/Ra5+R/ZjMTp23x17Z3cWznXr/obJhsQJfRoj3IQCB4ARMeC8uOvfII84dfbRzu3YdOoX+xhudu/DCQy5s2+bcpk1HupT5Sj0CPvgsowMIQAACEIBArwgg4NMIZx0Bf2kh3u00+tHjR/XHA7LjZJ+UbZB9bcrQrPo9WAEvLCysW1paSmP0eAEBCAyXwKzV87IV+NF+9+u2HzfdpMOZOp65Slcjbd06e6U+QcoI+ASDgksQgAAEIACBhAkg4NMITp1T6L8gl18rs9Popz2268WPyj4wb2iswKcReLyAwKAIzBLr016ft7I+vnJvot1sr05Eshvh7dx5+I3wJgEndro9An5QnwAGCwEIQAACEGhNAAHfGqGXBo5SK3YTO1s5t5V0u4ndmbJ7Jlp/uv7/U9lTZQeK9x6r5+/JdsseL9M5qe6lslk3wDu4GwLeS9xoBAIQqEpgliAvE+p2Wr2dZj9+d/rJa+df9jLnTjjhyO0mfUvwdHsEfNUJxHYQgAAEIAABCBgBBHw68+A0uXKNzO5If7PsStnlsjtlHy7c3KLnY2VvHHP7OfpbF4c63enJ6U5PB9t4b9mwEPBlhHgfAhDwSsBOib/ssiNPdZ/1+ryV8tNP150+xm71YQL+gx8sd3dWX+V7BtsCAR8MLQ1DAAIQgAAEekkAAd/LsJYPCgFfzogtIAABjwSmrX5b8zt2OHfLLYefAm+vb9AJSaPfh588LX7e3evnucwKvMeA0hQEIAABCEAAAl0QQMB3QT2BPhHwCQQBFyAwNALjq+ojkb5bV/+sUCp68Yude8Mblk+VL1spt3ZOOumQwL/jjvnXvY9z5hr4oc06xgsBCEAAAhDoFQEEfK/CWX0wCPjqrNgSAhAIQGD8LvPWvP2M3J//+bIQr7JSnpgQb0qIU+ibkmM/CEAAAhCAwDAJIOCHGXduYjfQuDNsCCRDwAT4c5+7fOq8PVbqFh5XXHHoJ+B6ItDLeCPgywjxPgQgAAEIQAAC4wQQ8AOdD6zADzTwDBsCKRG48UbnLr54+cZ2xxxT/hNwKfnuyRcEvCeQNAMBCEAAAhAYCAEE/EACPTlMBPxAA8+wIZAagaor7VW3S218Jf4g4DMLGO5CAAIQgAAEOiaAgO84AF11j4Dvijz9QiAjAqmI5irXxGeEddxVBHymgcNtCEAAAhCAQEcEEPAdge+6WwR81xGgfwgkTiAl0Vx2V/rEUc5zDwGfcfBwHQIQgAAEINABAQR8B9BT6BIBn0IU8AECCRNISTSndDDBc8gQ8J6B0hwEIAABCECg5wQQ8D0P8KzhIeAHGniGDYGqBFITzamczl+VX8XtEPAVQbEZBCAAAQhAAAIHCSDgBzoREPADDTzDhkAdAj0VzXUQhN4WAR+aMO1DAAIQgAAE+kUAAd+veFYeDQK+Mio2hAAEIBCMAAI+GFoahgAEIAABCPSSAAK+l2EtHxQCvpwRW0AAAhUJsFJfEdSRmyHgG6NjRwhAAAIQgMAgCSDgBxl25xDwAw08w4aAbwKpXSvve3yB20PABwZM8xCAAAQgAIGeEUDA9yygVYeDgK9Kiu0gAIG5BFK6W32GoULAZxg0XIYABCAAAQh0SAAB3yH8LrtGwHdJn74h0CMCrMC3CiYCvhU+doYABCAAAQgMjgACfnAhXx4wAn6ggWfYEAhBYHQN/Jo1zj34oHOLi86tX7/cE9fHzyWOgA8xIWkTAhCAAAQg0F8CCPj+xnbuyBDwAw08w4ZAKALTVuKtrw0bnNuzx7nVq53bufOQsA/lR2btIuAzCxjuQgACEIAABDomgIDvOABddY+A74o8/UIgEQLzVs3LXJy2qj7tWnhr57LLnNu3z7lVq5zbutW5zZvLWh/U+wj4QYWbwUIAAhCAAARaE0DAt0aYZwMI+DzjhtcQ8EJgtFq+e7dz+/c7t3Klc8ccU22FfNY176zANwoNAr4RNnaCAAQgAAEIDJYAAj6t0J8qd66VaanKvUd29YR7G/X/22QPFK9fV2xn/54je3Px+hV6vnXe0BDwaQUebyAQlcD4avmoY1shv+AC5xYWlq9ht8euXYdfz26vzbvr/LSVea6BnxtaBHzUmU9nEIAABCAAgewJIODTCaGJ9q/KXiD7uuxzslfJ7h1zcaP+Pl528YTbj9P/dxbvHdDzXbJ1su/MGh4CPp3A4wkEohOYtgJ/9NHOHdDXx+h09xVKD3v3Hnnt+ry7ziPWa4cSAV8bGTtAAAIQgAAEBk0AAZ9O+O2WzVtkpxQujS4UvaqCgDehvyi7sNh2m553yd6HgE8nwHgCgaQITF4Df//9zt1007KAN/FuDxP0065dn7XSzg3raocYAV8bGTtAAAIQgAAEBk0AAZ9O+F8uV+wU+vMLl87S84my8dX2jfrfBP23ZLZa/1uyf5K9XnaszE6dt4fuGuW+L3v7rOGxAp9O4PEEAkkQGF9ZN9FuIv6RR5avj//d33Vu06b5bs47tT6JAabpBAI+zbjgFQQgAAEIQCBVAgj4dCJTRcDrR5bdQzLdeergavsrZc+vIeCtAj9YhS8sLKxbWlpKZ/R4AgEIxCEw7zT38fe+9CUdPtTxQ1uRr3KDu3mn1scZWZa9IOCzDBtOQwACEIAABDojgIDvDP0RHVc5hX58J7tm/tuyH5ZxCn06ccQTCKRLoI7IbrKizjXwtWOPgK+NjB0gAAEIQAACgyaAgE8n/EfJFTstfoPM7jJvN7E7U3bPmItP0t/fKP4/Xc+Xyn5RZjexsxvXPbt47/N6tpvYmcCf+uAU+nQCjycQiEagjiivI/ajDaB/HSHg+xdTRgQBCEAAAhAISQABH5Ju/bZP0y7XyGx1/WbZlbLLZXaH+Q/L7Pr3l8h0a+iD4vwi2ZeLbs7T828Xf9t+t8zrHgFfPzjsAYHaBFJbkR6/+7xd536dfoly3rXtqflfOwDp74CATz9GeAgBCEAAAhBIiQACPqVoRPQFAR8RNl0Nk0CqK9g33ujca1/r3P791a5tH2b0oo0aAR8NNR1BAAIQgAAEekEAAd+LMNYfBAK+PjP2gEAtAnVOV6/VcMuNU/Wr5bBy3R0Bn2vk8BsCEIAABCDQDQEEfDfcO+8VAd95CHCg7wRSXYFP1a++z4cZ40PADzTwDBsCEIAABCDQkAACviG43HdDwOceQfzPgkCq15Cn6lcWQfXrJALeL09agwAEIAABCPSdAAK+7xGeMT4E/EADz7D7QQAB3o84ahQI+N6EkoFAAAIQgAAEohBAwEfBnF4nCPj0YoJHEKhEgFPgK2HKZSMEfC6Rwk8IQAACEIBAGgQQ8GnEIboXCPjoyOkQAn4IcBM6PxwTaQUBn0ggcAMCEIAABCCQCQEEfCaB8u3m/9/enYBNVtV3Hj+hodskahRkgqhNy6PiFhOFaFoz4cXG6KBxSdC4oLQGESUqMQ7a0xB7bBBGE8XAuOCSBh2jqMQtMUbafmVCoqKyuERMiLTRcQuoCTF0N93O72ffkqKo5Z6qu5x77ree5//U+9Z77r3nfE41+qtz7y0CfNWi7A+BhgRYgW8IupnDEOCbceYoCCCAAAII5CJAgM9lJiPHQYCPBKM5AikJcA18SrOxUF8I8AvxsTECCCCAAAK9EyDA927K9w6YAN/TiWfY6QkQxtObkwZ7RIBvEJtDIYAAAgggkIEAAT6DSZxnCAT4edTYBoGKBcqcDk/Arxg9rd0R4NOaD3qDAAIIIIBA6gIE+NRnqKb+EeBrgmW3CMQIzLohXZmAH3M82iYnQIBPbkroEAIIIIAAAkkLEODLTc9LZjR7bbndpNOKAJ/OXNCTHguMC+jmWF4OYWlp7/Ppp4ewe3cIK1aEsHlzCBs29Bgsv6ET4PObU0aEAAIIIIBAnQIE+HK6ryiaHabnX1V9qPj9t/T8GdVx5XaTTisCfDpzQU96LjB8irwp1q0LYefOEFauDOGcc0I45ZRbft+6NYS1a3sOltfwCfB5zSejQQABBBBAoG4BAnyc8KVq/ljVvxeb3UHPf6n6jbjdtN+aAN/+HNADBG4jMO6U+sFKvJ8J79m9aQjw2U0pA0IAAQQQQKBWAQJ8HO81av4g1Y5is1V6vlrllflOPQjwnZouOtsXAa5578tM/3ScBPjeTTkDRgABBBBAYCEBAnwc30Y1f4rqL4rNnqjni1SvittN+60J8O3PAT3oqcCsu8qPnlI/uB6e1fcs3zAE+CynlUEhgAACCCBQmwABPp72Idrkvxab+ZT6K+J30f4WBPj254Ae9FAgZoU9pm0PKXMZMgE+l5lkHAgggAACCDQjQICPd/51bXJv1Z+pDlTdXvW1+N20uwUBvl1/jt5TgVlfGzfMEtO2p5w5DJsAn8MsMgYEEEAAAQSaEyDAx1n7bvRHqHzN+31UB6veq3pE3G7ab02Ab38O6EEPBWJW1WPa9pAylyET4HOZScaBAAIIIIBAMwIE+DjnK9X8warPF8/e2jex843tFn08Rjt4vUpf9hzeqjp7ZIf+LvoTVDervqd6jmp70UZfEh2+UPz8dT0/flZnCPCzhPg7AjUJzLoGfviwo21jtq2p++y2WgECfLWe7A0BBBBAAIHcBQjwcTPs73x/qMoB3tfC/7zq71WLBniH9q+qHqX6hupy1dNUXx7q3lH6+dOqH6mer1pS/W7x9xv17FP5Sz8I8KWpaIhAGgKsyKcxDxX3ggBfMSi7QwABBBBAIHMBAnzcBL9UzX39u4P2WSqvgr9LdW7cbm7Teq1e2aR6dPGXDcWzjzHu4bMAzlMNTt0nwC84AWyOQO0Ci66ec0187VPUxgEI8G2oc0wEEEAAAQS6K0CALz93trq76r6q31T594+pPl5+FxNbHqu/+BR6nyLvxzNVD1P9/oQtHN6/rTqj+LtPq/fp/X72qfcfmNUnVuBnCfF3BBYUGP06uHXrQti5M4SVK0PYujWE2K+FYwV+wQlJc3MCfJrzQq8QQAABBBBIVYAAHzczvs78l+I2KdU6JsAfVwT7I/W8o9j73fT8TdWhqk+olBTCtWOOfKJec4XVq1cfvn374BL6Un2kEQL5CsSsjpdpOxq2jz8+hLe8JYTdul3FCl0xs3lzCBsGJ9qMYZ10DL4jPrv3IAE+uyllQAgggAACCNQqQICP471Azb367WvUq3yUPYX+aB3Up+s7vH93Qge26PWPqN43rYOswFc5feyr0wIxK9uDtjv02ZmD+Hn6z8GJP/lM7NaP0dPdn/vcEC7Qfz7KrMCX6U+ZNp2elP50ngDfn7lmpAgggAACCFQhQICPU/yKmvsa+OtU/6Gy349Vi97Ebl/twzex88q5V9L9AcHTVV8a6p6ve3co96n2/zj0+p31s29s59X4u6h8U70nqIZvgHebURLg4yae1hkLxFxb7rannRbCnj17QfbVP91LL73t6fDjArbbLy/r9pNL00+fL9OfMm0ynrKchkaAz2k2GQsCCCCAAAL1CxDg44wPmdC8inPRj9G+z1H5jvRvV52peqXqs6oPqS5R+fT9bxV9GHxd3MP1+5tVThT7FPt426xhEeBnCfH33gjErGa77ZE6AWbXrr08++if3Bm6FcW40+HPPz+Et+mf4sEHh3DqqeWveS/TnzJtejOB3R4oAb7b80fvEUAAAQQQaFqAAB8v7q+P+3WVV94vU/kr5Tr3IMB3bsrocF0CDsMXXrh378961uyg7WB+8sl7V+FXrRp/Qzrv0yvtPmXeD7fbtm32vgdjLHudfZkV/brc2G8lAgT4ShjZCQIIIIAAAr0RIMDHTfUfqfmTVRcXmz1Rz+9VDe4GH7e3FlsT4FvE59DpCMy7kj0rYPsU940b9TGfP+fT42f0n9ozdVLNtBvXpaNCTxoUIMA3iM2hEEAAAQQQyECAAB83ideo+S+rbio2+1k9++vbDovbTfutCfDtzwE9SECgrmvJF12BT4CGLjQjQIBvxpmjIIAAAgggkIsAAT5uJnUObHiS6gfFZnfSs1fjHxm3m2RAuucAACAASURBVPZbE+DbnwN6kIDAvCvwZbo+7dT8WSv4ZfZPmywECPBZTCODQAABBBBAoDEBAnwc9QfU/FdVH1f53NhHqT6j+kaxmxfF7a691gT49uw5cmICTYfpOj80SIyW7swWIMDPNqIFAggggAACCNwiQICPezccP6O5vye+Ew8CfCemiU7mKFDXafs5WvVgTAT4HkwyQ0QAAQQQQKBCAQJ8hZhd2hUBvkuzRV+TFJh35Z4V+CSns61OEeDbkue4CCCAAAIIdFOAAN/NeVu41wT4hQnZQRsCsaE5tn3ZMS0awuvqV9n+0y4ZAQJ8MlNBRxBAAAEEEOiEAAG+E9NUfScJ8NWbsseaBcqE5uFg7O6sW7f3u9hXrhz/fe2TujwrYHMafM2T3Z/dE+D7M9eMFAEEEEAAgSoECPBVKHZwHwT4Dk5a37s8KzSPBvzjdcuKt7wlhN27Q1ixIoTNm8t9D3vZDwrm/XCg7/PI+G8lQIDnDYEAAggggAACMQIE+BitEO6j5v9ddYhq36FN+Rq5OEdaIzBdYNwK+KxgPRrwn/vcEC7QfSVjVuB9jFNOCeHyy/U9E/qiiWnBf9YqPXOMQAkBAnwJJJoggAACCCCAwE8FCPBxb4ar1PxNqs+ptKz304d/79SDFfhOTVe/OjstqE8LzeO2s9zycghLSyGsXTv7QwO3c+AfPFatCmHbttnb9muGGG2FAgT4CjHZFQIIIIAAAj0QIMDHTbKD+uFxm6TZmgCf5rzQKwnMOlV+GtIiq+I+7saNe1feB4+TTgrhjW9kWhCoTYAAXxstO0YAAQQQQCBLAQJ8uWndv2j2Ij1/V/UXqh1Dm95QbjfptCLApzMX9GREYNap8rFgZUO92w2vwO+3Xwif/CSr77HetI8SIMBHcdEYAQQQQACB3gsQ4Mu9Bb6mZl6WG+fl1w8tt5t0WhHg05kLejJGoGzonoUX+2HA+eeH8IIXhLBnz94713P6/Cxh/r6gAAF+QUA2RwABBBBAoGcCBPi4Cb+dmt80ssm41+L22kJrAnwL6ByyHoFpYT/2dPzY9vWMiL32SIAA36PJZqgIIIAAAghUIECAj0P8vJo/ZGSTca/F7bWF1gT4FtA5ZPUCs1bYR/9+zjkhXH99CAccsPd5cHO7wYcAft13oR/cuX7QvsxN8KofHXvsgQABvgeTzBARQAABBBCoUIAAXw7zIDW7m+qdqqerBm531M++K/19y+0mnVYE+HTmojc9qeq0+GGwMivmPu6FF4bw7W+H8Fd/FcLNN+89RX6ffULwXeYd0seF9tEwv3Ur18P35s3a3EAJ8M1ZcyQEEEAAAQRyECDAl5vF49VsveoI1WeHNvl3/bxFdXG53aTTigCfzlz0oiezVsrnRSiz30Gbm3T1y/Ad5n1Mf8/7unUhOJzv1jdDDn/ve5kPB+btN9shUAgQ4HkrIIAAAggggECMAAE+RiuE31Hz98dtkmZrAnya85Jtr+oMw7NW9oePbeCf0X/2HOQnrcAPVtrLfDiQ7YQxsKYECPBNSXMcBBBAAAEE8hAgwMfN40vGNP+hXvP3w18Zt6uxrR+jV1+v0rJgeKvq7JFWOt836Fzgn3wXvS7gDb+ruq5os0HPv6fSMmLw1919bFp/CPAVzBa7KC/QZhgePva++4bw7GeH8OAHj78GfvRa91kfDpQXoCUCYwUI8LwxEEAAAQQQQCBGgAAfoxXCu9Tcp9F/uNjscXq+WrVG9V7Vq+N2d6vWDu1fVT1K9Q3V5aqnqb481ErfbxUepDpJ9VTVk1QO8fdX/bnqoaqDVZeo7qNymB/7IMAvMFNsOp9Am2F4cB28e/6sZ3Et+3wzyFY1CBDga0BllwgggAACCGQsQICPm9xL1fwY1Y3FZrfX81+qvHLuVXgH6Xkfa7XhJtWjix14Rd2Ps4Z26FV1t9FduYKWEoPuyhUOVL18pO1wu7H9IcDPO01s10mBMmcAtPkBQydR6XQVAgT4KhTZBwIIIIAAAv0RIMDHzfVX1PyXVLuKzXxK+1Uq34X+CpXOy537cay29AcBJxR7eKaeH6b6/aE9frFo4xV6P64t2mzS86dUvku+H29TfVT1vkm9IcDPPU9s2BWB4UC+vBzC6aff9kZ1g7GUCfhdGTf97JQAAb5T00VnEUAAAQQQaF2AAB83BUoAPzlt/YPFZr+l5w+p/kR1vuoZcbu7VesmAvyJOqIrrF69+vDt27cv0F02RSBhgXHf/z78VXGjXwlX5032Emaia+0LEODbnwN6gAACCCCAQJcECPDxs/Wr2uThxWaX6Xn4a+Xi93bLFpxCv4ge2yIwLDAukPsGdV6JH71RnbdjBZ73T0sCBPiW4DksAggggAACHRUgwMdPnG8294sqX4M+eHw9fje32cL7803s9KXU4Zsq38Tu6aovDbU8WT/7FP7BTex+Wz8/RfUAlW+wN7iJnb7UOtxbxU3sKpgYdtGQQJXXoM8TyKs8fkNkHKb7AgT47s8hI0AAAQQQQKBJAQJ8nPYL1fwVqu8U4dh++kLpn9wZvoqHb5B3jsofErxddabqlSqv8vtU/dup3qHytfY3qHwn+n8uDrxRz89R3aw6ReVr4Cc+uAa+iuliH5UJzBO4Zx2cQD5LiL8nIECAT2AS6AICCCCAAAIdEiDAx03WP6m5byzn72Dv9IMA3+npy6/zXIOe35wyolICBPhSTDRCAAEEEEAAgUKAAB/3Vtim5v6edq9yd/pBgO/09OXX+TpW4PNTYkQZChDgM5xUhoQAAggggECNAgT4OFx/PdthKn/3+46hTV8bt5v2WxPg25+DpHoQe7p5bPsyg61jn2WOSxsEWhQgwLeIz6ERQAABBBDooAABPm7SfP37uMf/jNtN+60J8O3PQTI9iF39jm2fzEDpCALpCRDg05sTeoQAAggggEDKAgT4+Wbn57TZj+bbNI2tCPBpzEMSvYi9/nxWe1bSk5hWOtENAQJ8N+aJXiKAAAIIIJCKAAE+bib8Xe0+jf72qtWqX1Y9T/WCuN2035oA3/4cJNOD2BX1ae1j95UMAh1BoB0BAnw77hwVAQQQQACBrgoQ4ONm7tNqfqzKX+nmr3Lz44uqB8btpv3WBPj25yCpHsSumk9qP2t1PqlB0xkE2hcgwLc/B/QAAQQQQACBLgkQ4ONmywHeXyN3xVCAv0o/eyW+Uw8CfKemqzudHV6BX7EihGOOCeGgg0J41rNCWOsTWEo+Yj9QKLlbmiGQmgABPrUZoT8IIIAAAgikLUCAj5uf96m57zh/XhHkX6znI1RPjdtN+60J8O3PQbY9cPi+8EJdbKKrTXbt2jvMVatC2KZvYSwT4mNOwyfoZ/s26svACPB9mWnGiQACCCCAQDUCBPg4x7uo+etVR6ts9zcqh/jr43bTfmsCfPtzkHUPfCr9xo0h/PjHe4f5M/rncuaZIWzYMHvYZU/Djwn6s49KCwRaESDAt8LOQRFAAAEEEOisAAG+s1O3WMcJ8Iv5sfUMAYfrpaUQdu7c27COFfiyQZ/JQiBhAQJ8wpND1xBAAAEEEEhQgABfblLOVbNiKXHsBi8qt5t0WhHg05mLbHsyOJXeA6zjGnhW4LN96/RpYAT4Ps02Y0UAAQQQQGBxAQJ8OcPjZzS7oNxu0mlFgE9nLujJAgJcA78AHpumIECAT2EW6AMCCCCAAALdESDAd2euKu0pAb5STnY2LECo5v2AQGkBAnxpKhoigAACCCCAgAQI8D19GxDgezrxdQ+b09rrFmb/mQkQ4DObUIaDAAIIIIBAzQIE+JqBU909AT7Vmel4v7ixXMcnkO43LUCAb1qc4yGAAAIIINBtAQJ83Pztr+Y3jGxyT/3+tbjdtN+aAN/+HGTZA1bgs5xWBlWfAAG+Plv2jAACCCCAQI4CBPi4Wb1Mzf+b6t+Kze6v54tUD4zbTfutCfDtz0ElPUjxevMU+1QJNjtBoHoBAnz1puwRAQQQQACBnAUI8HGz+1g1P1Xl58NUF6qeoboybjfttybAtz8HC/eA1e6FCdkBAm0LEODbngGOjwACCCCAQLcECPDx8/XEIsTfQc+/o/pq/C7a34IA3/4cLNwDrjdfmJAdINC2AAG+7Rng+AgggAACCHRLgABfbr7OVbMfDzVdp5+vVV1XvPaicrtJpxUBPp25mLsnTa/Ac2r83FPFhghMEiDA895AAAEEEEAAgRgBAnw5reNnNLug3G7GtvKN8d6jWlN8IPAUPX9/pOWv6Pc3qu6o2q06s9jGzbaojlT9sNhmvZ5nntJPgF9gxlLatKlQ3fSHBSkZ0xcEahQgwNeIy64RQAABBBDIUIAA3/6kvlpd8J3tz1a9XHVn1ctGunUf/e4zAP5RdbDqc6r7qX6g2qL6iOp9MUMhwMdo0TZwuj5vAgRuK1DBB2gEeN5YCCCAAAIIIBAjQICP0QrhEWq+SXWIal+V/RysD43bza1aX6PfllTfUt1VtazyDfKmPa7SH49VOdBvURHgF5gANi0hwAp8CSSa9Eqgon8TBPhevWsYLAIIIIAAAgsLEODjCL+i5n+g8gq4T2UfPK6P282tWnsV/U7FK54Pnz4/+H3cbh+qF33K/gNUe1RbVGtVO1RbVV7F989TH6zAzxLi77cRqGC1EVUEshGo6KwUAnw27wgGggACCCCAQCMCBPg45k+r+cPiNvlJ60tUB43ZbqNecxgfDuwO8D6NftxjsELva/I/VTTwa99WrVSdr/LN9V45YfsT9borrF69+vDt27fPMRQ2QQABBBAIrMDzJkAAAQQQQACBFgQI8HHovk59hepi1fAq9+fjdnOr1mVPofcN7JZVr1JNut59SX97qepxs/rDCvwsIf6+kACr9QvxsXFHBCp4n7MC35G5ppsIIIAAAggkIkCAj5uIbWOa+xr4R8bt5latX6PffAr+4CZ2viv9qSP78+r6R1UfVp0z8jevwPv6ec/l61Q3qXwa/dQHAX6WEH+fW6Cilcm5j8+GCHRIgADfocmiqwgggAACCCQgQIBvfxIOUBcuUq1W+Zx2f42c70p/hOok1Qmq41R/pvrSUHfX62d/XdwnVAeqPJf+3dvcOGtYBPhZQvx9boGKrg2e+/hsiECHBAjwHZosuooAAggggEACAgT4uEn4ownNJ11zHrf3BlsT4BvE7tuhWIHv24wz3gUECPAL4LEpAggggAACPRQgwMdN+h8ONb+dfva15v+gek7cbtpvTYBvfw5q7UEF1+bO7N+0YzRx/JkdpAEC6QsQ4NOfI3qIAAIIIIBASgIE+MVmY5U2/5hqabHdNL81Ab5588aO2MQKeBPHaAyMAyHQngABvj17jowAAggggEAXBQjwi82av+7tctW9FttN81sT4Js3r+2Io6vdTVyD3sQxagNjxwikI0CAT2cu6AkCCCCAAAJdECDAx83SF9Tcd533w18n55vH+fr38+J2035rAnz7c1BJD8athHvH69aFsHNnCCv1BQZbt4awdm0lh/vpTliBr9aTvfVWgADf26ln4AgggAACCMwlQICPYztkqPnN+vk7Kj937kGA79yUje/wpJXwJq5Bb+IYmUwTw0BgkgABnvcGAggggAACCMQIEODLa3nF3V/jdt/ym6TbkgCf7txE9YyV8CguGiOQmgABPrUZoT8IIIAAAgikLUCAj5ufD6r5C1Vfj9ssvdYE+PTmZO4esRI+Nx0bItC2AAG+7Rng+AgggAACCHRLgAAfN1+XqvmDVZ9R/cfQpo+P2037rQnw7c8BPUAAAQQI8LwHEEAAAQQQQCBGgAAfoxXCkROafzJuN+23JsC3Pwf0AAEEECDA8x5AAAEEEEAAgRgBAnyMVgj/S81fNrLJuNfi9tpCawJ8C+hdPiSn6Xd59uh7wgIE+IQnh64hgAACCCCQoAABPm5SPq/mDxnZ5Gr9/qC43bTfmgDf/hx0pgfcKK8zU0VHuydAgO/enNFjBBBAAAEE2hQgwJfTf76avUB1qOraoU3uoJ8vUx1XbjfptCLApzMXyfdk0lfVJd9xOohA+gIE+PTniB4igAACCCCQkgABvtxs/IKa3Vl1lurlQ5v8u36+odwu0mpFgE9rPpLuDSvwSU8Pneu2AAG+2/NH7xFAAAEEEGhagADftHgixyPAR0xEStd/t9WXto4bMU00RaCLAgT4Ls4afUYAAQQQQKA9AQJ8e/atHpkAX5I/pdXnlPpSko9mCCAwXYAAzzsEAQQQQAABBGIECPAxWhm1JcCXnMxFrv+uetV6kb6UHC7NEECgWQECfLPeHA0BBBBAAIGuCxDguz6Dc/afAF8Sbt5V73m3m9atOvZZkoFmCCBQjwABvh5X9ooAAggggECuAgT4XGd2xrgI8BETP89Kel2r5fP0JWKoNEUAgWYFCPDNenM0BBBAAAEEui5AgO/6DM7ZfwL8nHBlN2O1vKwU7RDotQABvtfTz+ARQAABBBCIFiDAR5PVssH+2ut7VGtU16meovr+mCPt1mtfKF7/up4fX/x8Tz2/W3WA6nOqZ6p2TuspAb6Webz1TmNXy2PbNzAEDoEAAvUKEODr9WXvCCCAAAII5CZAgE9jRl+tbvj75M9W+Xvm/Z3zLxvTtRv12u3HvH6RXru4CPFv0vNVqjcS4NOY3Nv0YlxQZ8U+0cmiWwjUK0CAr9eXvSOAAAIIIJCbAAE+jRm9Rt1YUn1LdVfVsuqwkgHec/g91UGqm1VrVZtUj+5cgO/DCvSkoO5r5k87LYQ9e0LYZ58QzjhD7wi9JZb1VvDzWk8rDwQQyE2AAJ/bjDIeBBBAAAEE6hUgwNfrW3bvP1DDOxWNPSc+fX7w+/A+HNCvLIK6V+s/oLqL6lOqexUN76Hnj6oeOO3gyZ1C35cV6Ek3tzv//BCe97xbpuzUU0M491xdCKErIVauDGHrVkJ82X9NtEOgQwIE+A5NFl1FAAEEEEAgAQECfHOTcIkO5VXy0cdGvXDBSGB3gPdp9KOPu+mFb6oOVX1CtU71Q1XZAH+i2rrC6tWrD9++fXtzo591pLru2j7ruE3/vewK/NFH7w3tu3XbgxUrQti8OYQNG6b3tg9nMDQ9XxwPgZoFCPA1A7N7BBBAAAEEMhMgwKcxoWVPoR/u7Rb98hHV+1XdP4W+LyvwnsEy18Cfc04Ip5xSfgW+T35p/JulFwhUIkCAr4SRnSCAAAIIINAbAQJ8GlP9GnXjetXgJna+K73Oob7VwyvyP1LtUPm0+b9XPUH1ZdV7iyDvO9H7JnZXq94wbWjJnULvzvZ9BXl0/DEeqZzBENPnNP7t0QsEWhUgwLfKz8ERQAABBBDonAABPo0p89e/+U7yq1U+r91fI+e70h+hOkl1gurhqjerdJezoLucBS3RhrcV3fcp9Q7vDv5XqI5TOehPfCQZ4Ae97XIIbKvvKazAp9CHNP490wsESgsQ4EtT0RABBBBAAAEEJECA7+nbINkA3+UQ2Hbf2/rwYPBvKJWzAHr6b5phd1OAAN/NeaPXCCCAAAIItCVAgG9LvuXjJhvgY0NgVaG1iv3E9r3l90Dlh2/7A4zKB8QOEahfgABfvzFHQAABBBBAICcBAnxOsxkxlmQDfEwIjGk7zcZf4XbyyXu/g33VqnJf2VbmRnRVfPVbFR8sRLwvFm7atf4uPGB2gMBiAgT4xfzYGgEEEEAAgb4JEOD7NuPFeJMN8O5f2RBYxYq3j3XkkSHs2rVXZh/dXuCMM6Z/Zdu0Dw7K9r3M+66qDyjKHIs2CCDQigABvhV2DooAAggggEBnBQjwnZ26xTqedIAvO7QqAq4/BDjttL2r737su28Il14awtq1k3tRxQcHZcbY1HHK9IU2CCBQiwABvhZWdooAAggggEC2AgT4bKd2+sCyCPAe4qIr3oMPAXbopv0rVoRw3nkhnHjidLwqPjgo875r6jhl+kIbBBCoRYAAXwsrO0UAAQQQQCBbAQJ8tlPbkwBfxfzN8yHAPNvM09emjjNP39gGAQQWFiDAL0zIDhBAAAEEEOiVAAG+V9N9y2CzWYHv6fwxbAQQyEOAAJ/HPDIKBBBAAAEEmhIgwDclndhxCPCJTQjdQQCBXgoQ4Hs57QwaAQQQQACBuQUI8HPTdXtDAny354/eI4BAHgIE+DzmkVEggAACCCDQlAABvinpxI5DgE9sQugOAgj0UoAA38tpZ9AIIIAAAgjMLUCAn5uu2xtWFuC5yVq33wj0HgEEWhUgwLfKz8ERQAABBBDonAABvnNTVk2HKwnwsV9zlmPYz3FM1bzF2AsCCJQQIMCXQKIJAggggAACCPxUgADf0zdDJQH+rLNCOP30EHbv3vsd6ps3h7Bhw3jR2LDfhXnJcUxdcKePCGQkQIDPaDIZCgIIIIAAAg0IEOAbQE7xEJUE+JgAGxP2UwQb16ccx9QVe/qJQCYCBPhMJpJhIIAAAggg0JAAAb4h6NQOU0mA96DKnkIeE/arxCrbv3mO2daY5ukr2yCAQJICBPgkp4VOIYAAAgggkKwAAT7Zqam3Y5UF+Jhu1hmmx/WjiYDd9JhivGmLAALJCxDgk58iOogAAggggEBSAgT4pKajuc60EuDrHN64IM0p7nWKs28EEKhAgABfASK7QAABBBBAoEcCBPgeTfbwUCsJ8FWtPi+6n0kr7X79qKNC2LkzhJUrQ9i2LYS1a3s64wwbAQRSFCDApzgr9AkBBBBAAIF0BQjw6c5NrT1bOMBXdXp6FfuZtNLufS8thbBrVwj77RfC8nK7AX7RDypqfUewcwQQaEOAAN+GOsdEAAEEEECguwIE+Pbnbn914T2qNarrVE9RfX+kW1pGDq8beu2++vmpqg+otqiOVP2w+Pt6PV85a1gLB/iqTk+vYj+TPgSoYt+zIMv+vYoPKsoei3YIINAZAQJ8Z6aKjiKAAAIIIJCEAAG+/Wl4tbpwg+ps1ctVd1a9bEq3HPj/SXV31Y9UW1QfUb0vZigLB/iqAmmV+/EKu1fcB6fJV7XvGNhJbVP6MKGK8bAPBBCoRIAAXwkjO0EAAQQQQKA3AgT49qf6GnVBqTN8S3VXlVJoOGxKt07U37zi/oyizRY9Nx/gffCqTgkvu5+y7Ybx5tmmjvdESh8m1DE+9okAAnMJEODnYmMjBBBAAAEEeitAgG9/6n+gLtyp6Ibnw6fPD34f17tP6MXXFqHdf3eA953Zdqi2qryK75+nPhZegZ91gKr/nkMATuXDhKrnhv0hgMDcAgT4uenYEAEEEEAAgV4KEOCbmfZLdJiDxhxqo167QDUc2B3gfRr9uIdX6K9WHazSndl+8vBr31bpNuvhfNW1qldO2N6r966wevXqw7dv397M6Ks4CqegV6HIPhBAIDEBAnxiE0J3EEAAAQQQSFyAAN/+BMWcQv9idfcBgxA+putLeu2lqsfNGhYr8LOE+DsCCCBQvwABvn5jjoAAAggggEBOAgT49mfzNerC9arBTex8k7pTJ3TrU3p9g0pfaP7Th1fgff2859J3qr9J5dPopz46F+A9Gk5BnzWt/B0BBDomQIDv2ITRXQQQQAABBFoWIMC3PAE6/AGqi1SrVT6n3V8j57vSH6E6SXVC0cU1er5MdQ/VnqFu+5r4A1WeS399nLe5cdawOhngZw2KvyOAAAIdEyDAd2zC6C4CCCCAAAItCxDgW56Atg5PgG9LnuMigAACtwgQ4Hk3IIAAAggggECMAAE+Riujto0F+LZPe2/7+Bm9ZxgKAghUL0CAr96UPSKAAAIIIJCzAAE+59mdMrZGAnzsV79VHbZjj9/T9wLDRgCB9gQI8O3Zc2QEEEAAAQS6KECA7+KsVdDnRgJ8zFe/1RG2Y45fgSm7QAABBGIFCPCxYrRHAAEEEECg3wIE+J7OfyMBPiaU1xG2Y47f0/cBw0YAgXYFCPDt+nN0BBBAAAEEuiZAgO/ajFXU30YCvPta9rT4usJ22eNX5MpuEEAAgRgBAnyMFm0RQAABBBBAgADf0/dAYwE+xrfOsF3nvmPGSFsEEEBgSIAAz9sBAQQQQAABBGIECPAxWhm1TTLA1+Vb1+p+Xf1lvwgg0BsBAnxvppqBIoAAAgggUIkAAb4Sxu7tZOEA36UV7eHr6/fZJ4Sjjw5h06YQ1q7t3sTRYwQQyEqAAJ/VdDIYBBBAAAEEahcgwNdOnOYBFgrwda9oV/3hwKC/O3aEsGdPCA7xq1aFsHUrIT7Ntye9QqA3AgT43kw1A0UAAQQQQKASAQJ8JYzd28lCAb6OO8YPCOv6cMD79ar7JZfsDfErVoSweXMIGzZ0b/LoMQIIZCNAgM9mKhkIAggggAACjQgQ4BthTu8gCwX4ukK2mbr44UB600uPEECgIwIE+I5MFN1EAAEEEEAgEQECfCIT0XQ3Fgrw7mzVp7kPAOr8cKDOfjc9gRwPAQSyECDAZzGNDAIBBBBAAIHGBAjwjVGndaCFA3ydw6nrw4E6+8y+EUAAgTkECPBzoLEJAggggAACPRYgwPd08pMO8D2dE4aNAAL9EyDA92/OGTECCCCAAAKLCBDgF9Hr8LZJBnhW3jv8jqLrCCAwjwABfh41tkEAAQQQQKC/AgT4ns59cgG+7mvfezrPDBsBBNIWIMCnPT/0DgEEEEAAgdQECPCpzUhD/UkuwNd59/mGTDkMAgggECtAgI8Voz0CCCCAAAL9FiDA93T+kwvwrMD39J3IsBHotwABvt/zz+gRQAABBBCIFSDAx4pl0r6RAB97TXts+0zmgmEggEB/BQjw/Z17Ro4AAggggMA8AgT4edSq3+bJ2uUm1f1UD1V9dsIhHqPXX69aoXqr6uyi3T31/G7VAarPqZ6p2jmtm7UHeIfxo45SL9SNlStD2LYthLVrq5djjwgggECHBQjwHZ48uo4AAggggEALAgT4FtDHHNLBfY/qzaqXTgjwDu1fVT1K9Q3V5aqnqb6sukh1scoh/k2qq1RvjybY0AAAFitJREFUnDa02gP885+vnrgrxeOkk9SjqV1KYyboBQIIINCgAAG+QWwOhQACCCCAQAYCBPi0JnFZ3ZkU4L18vUn16KLLG4pnr8J/T3WQ6mbVaLuxIyTApzXx9AYBBPopQIDv57wzagQQQAABBOYVIMDPK1fPdtMC/LE6pE+hP6E4tE+Tf1gR6j+l53sVr99Dzx9VPXBaF2sP8D6FfmkphF27QthvvxCWNTROoa/nXcNeEUCgswIE+M5OHR1HAAEEEECgFQECfHPsl+hQXiUffWzUCx8sXlTKnbgCX0WAP1H7d4XVq1cfvn379vlGX/Zmc2XbzdcLtkIAAQQ6L0CA7/wUMgAEEEAAAQQaFSDAN8o982DTAnwap9DzdW8zJ5EGCCCAQFkBAnxZKdohgAACCCCAgAUI8Gm9D6YF+H3VVd/Ebp3qmyrfxO7pqi+p3qt6v2pwE7ur9fMbpg1t7lPozzorhNNPD2H3bt0LX/fV27w5hA2Dy/HTwqQ3CCCAQOoCBPjUZ4j+IYAAAgggkJYAAT6N+XiSunGu6kDVD1RXqnyzuoNV/rq4Y4pu+vkcle9I/3bVmcXrhxbhfX89X6E6TrVj2tDmDvCswKfxjqEXCCCQhQABPotpZBAIIIAAAgg0JkCAb4w6rQPNHeA9DK5tT2sy6Q0CCHRWgADf2amj4wgggAACCLQiQIBvhb39gy4U4NvvPj1AAAEEshAgwGcxjQwCAQQQQACBxgQI8I1Rp3UgAnxa80FvEECgnwIE+H7OO6NGAAEEEEBgXgEC/LxyHd+OAN/xCaT7CCCQhQABPotpZBAIIIAAAgg0JkCAb4w6rQMR4NOaD3qDAAL9FCDA93PeGTUCCCCAAALzChDg55Xr+HYE+I5PIN1HAIEsBAjwWUwjg0AAAQQQQKAxAQJ8Y9RpHYgAn9Z80BsEEOinAAG+n/POqBFAAAEEEJhXgAA/r1zHtyPAd3wC6T4CCGQhQIDPYhoZBAIIIIAAAo0JEOAbo07rQAT4tOaD3iCAQD8FCPD9nHdGjQACCCCAwLwCBPh55bq/3fc0hO0LDOMu2vZfF9i+iU1T72Pq/fMc0cdq3qmpO6bev5zfi4docAdW8zZjLwgggAACCCCQuwABPvcZrm98n9Wuj6hv95XsOfU+pt4/TwJ9rOStmLwj89yPea5mlOwFAQQQQAABBFoTIMC3Rt/5A/N/+BefQgwXN+RDBgyrEahmL134N13NSNkLAggggAACCLQiQIBvhT2Lg3bh/6im3sfU+0c4ru6faupznXr/eC9W915kTwgggAACCCDQYQECfIcnr+Wun6jjn99yH2YdPvU+pt4/+9LHWe+ycn9P3TH1/vFeLPc+oxUCCCCAAAIIZC5AgM98ghkeAggggAACCCCAAAIIIIBAHgIE+DzmkVEggAACCCCAAAIIIIAAAghkLkCAz3yCFxzek7X9JtX9VA9V+TrZcY/H6MXXq1ao3qo6u2h0Tz2/W3WA6nOqZ6p2Ltin4c331y/vUa1RXad6iur7I/s/Sr+/bui1++rnp6o+oNqiOlL1w+Lv6/V8ZYX9867K9NHtdqu+UBz763p+fPFz3YZl+/gravhG1R2Lvp5Z2Hv7uhwnva8GU7RKP1yoOlx1vep3VdcVf9yg598r+voiPX+s4nkd7G5WH1+ihieoblb5qxufoxp8feOkOa+6q7P6uF4HfI3qm8WBz9Oz/x37cbzqtOLnM/R8QdWdK/Y3q4/+N+x/y378nOq/qO5U/N6E49t1rMepvqt64BgD/2+p/xt4jOpHKpt+vmHDmqaG3SKAAAIIIIBASgIE+JRmI72+OLjvUb1Z9VLVuADv0P5V1aNU31Bdrnqa6suqi1QXqxzi36S6SuUQWNXj1drRDSp/YPBy1Z1VL5uyc4fpf1LdXeX/k71F9RHV+6rq0Jj9lO3jjdr29mO2r9vQhyzTx/uo3Y9V/6g6WOUPZPz++EFNjtPeVwOmF+iHB6lOUvlDmSepHOLvr/pzlT90cl8vUbn/DnpVPsr00aHz0yq/356vWir66H5MmvOm+7heB/RXQv7+yIH972VwczvPvefcH5aMfki2aH/LOA4f44X65cEqfxjSlONvFPPlD4zGBXgHd/fLzw9TOcz7uSnDReeA7RFAAAEEEECgIwIE+I5MVMvdXNbxJwX4tfrbJtWjiz565dMPh2qvOB6k8urjaLsqhnSNdrKk+pbqrir387ApO/aNurzi/oyizRY91x3gy/ZxXJjzv8+6DU1Rto/DtP4w5liVA30djpPeV2cNdcKr6ptUf6/aV/Vt1YEqf5jjx6DtcLspb4/oP5Xp4/BOHTq9uv2I4sUmAnyZPq5Xf8YFeH8Qt6R6XtFff5C3rPKHI1U+yvRx+Hh/p19eofp4g44+1BqV/3sxLsCP2gz+TdmvCcMq54N9IYAAAggggEDCAgT4hCcnoa75/7RPCvAOcT791acJ++HT5L3ytEn1KdW9itfvoeePTvg/v/MO1au/g9No/V72yuDg93H7/IRefK3K/yfcjy0qh4cdqq0qBz//XOWjbB/9IYdP3/ezP/zwKf53acDQYy3bx4GLV7Z9KvUDVD5Dow7HSe+r4VXiL+rYfu/5zA8/rlUNv/feWbz+Nj37vVf1mRZl+jj8XnJ494cMPhXdj3FzPty+ip/L9HG9DuQPO/xhkc+m+QPVv6j8b/52Q/09XT//p+qPq+jY0D7K9HHQ/BD94P+u+CyawRkVTTj6+GtUkwK8X/e/278tOur/nvhsoKWGDCueEnaHAAIIIIAAAqkKEOBTnZnm+uXTi71KPvrYqBc+WLy4rOe2Avy0/jlEDgd2B3ifRj/u4RX6q1U+pXpX0cCvOVCtVPkr8RwAXzkHfRV9vJuO62uQD1X5g4Z1Kl+bX9WHIFX00TSDMx18bbT7NnitCsdh+jKhrksB/jgNzh8++AyQwYdE4+bc78EqH2UcfY8Knw3gfnm13ZchPFKVYoB3KHZ49+nqg0cTjj7WGhUBvsp3J/tCAAEEEEAAgWgBAnw0WS83WC7+z/y4a+C7cgr9izUGrxj7NPpxj6VijL5RVZWPeU5P31IEhffrOaVT6H0DO78XXqWatJpdlWOZ06q7cgr90fI6V+Xw7pugjXsM5rzqswTKOA73x9ej+74Sv6BK8RT6K9Svk1U+jb5JRx9rTfHvklPoq/wvJPtCAAEEEEAAgSgBAnwUV28bL2vkk1bgfe2xT7v1irFXkH0Tu6ervqR6r8ohdHATO6+Av6FCRd8523cfH9zEzjeMOnXC/r1a7Ovztw393avJvn7e/w58l+ubVIPrp6vqZpk++qwB3+TMK6A+bd7XdD9B5RsB1m3ocZbpo89S8GnoH1adM4JTh+O099Xg8A5yv6Qa3MTut/Wzv4nAH9S8SzW4iZ1PZ763quqb2JXpo697dyj3qf6+X8DgMW3Oq3rveT9l+jiYP7f3jQC9yv1rKv978o3rHlJ0yHdV903sHPCrfJTpo4/nb5D4a5W/mcE31fOjKUcfa41q0gr8Y/U3n2ExuIndn+pnv/+aMqxyPtgXAggggAACCCQsQIBPeHIS6Jr/z7xXDn1jMF8n7Wu0fbM6n4bur5ny/1n1w88OdV6989ct+SvG/PDp4A7v/j+xXjnzacRVXmPuU399l/bVKn81l8Obw4VvyOVQN7guf41+vkzl6/B9zfbg4VPVPTb/O/DYvI1PJa7yUaaPD9cBfRMs920flS193bYfdRv6GGX66Ln7M5U/mBk81hdudTmOe1/5EgefCfIhla/PfofKIdnz7jvR/3PROV8C4ruU+/roU1T+8KGOx6w++tIFf8jgD4r8GHxF4LQ5r7qfs/ro69/9tYW2sqPvlv+VohM2/B/Fz/537fdAHY9ZffQxN6k858MfsjXl6Bv3Lan8Adt3VL6J3n4FhL9hw/8N8T0O/EGNP4x7tmpwxlJThnXMC/tEAAEEEEAAgcQECPCJTQjdQQABBBBAAAEEEEAAAQQQQGCcAAGe9wUCCCCAAAIIIIAAAggggAACHRAgwHdgkugiAggggAACCCCAAAIIIIAAAgR43gMIIIAAAggggAACCCCAAAIIdECAAN+BSaKLCCCAAAIIIIAAAggggAACCBDgeQ8ggAACCCCAAAIIIIAAAggg0AEBAnwHJokuItCCwJ10zKer3lDhsddrX/6KP39f9qRHmTbzdMn7/RvV/ys2vq7oy7/Os7OS26xRu0nfG15yFzRDAAEEEEAAAQQQQOAWAQI87wYEEBgnMC187qsN/J3hsQ+H6LYC/LKO/VLV4Lu5ryv6UjbAzzNmAnzsO4T2CCCAAAIIIIAAAlMFCPC8QRBAYJzAu/XiE1TXqD6u+kvVZtX3VfdV/aZqeHXZ4fj2qk2qZdWnVUepvJL/e6r/q1qvGgT4x+rn01S/pRoO0cNtDtTf3qRaXXTwFD1fVhzDrx1a/O0cPf9p0eZ0PR+n+p7qX1SfU12n2qL6puo/VWtV/6C6oDj+fnp+suorxT4GT+7Lb6s8rhWqY1Tnqh6o8jabVB9UrVG9Q/XzxYY+w+DvitdZgR9B5VcEEEAAAQQQQACB+QUI8PPbsSUCOQs4lA6HzyX97hDv8Pq1MeF0NMA7OP+hyqH3JaqjVetVDvBbi9cer2d/IDD8GLRxCH6Xyqfw/63Kgf1jqvupNqn8AYI/ILiDyh8yHKT6FdVbVL+mcsD+vOrNqj9WLatGV+D/RK85kL9A9RDVCWP6coZee5DqBtWrVF9WvVPlDyY+o3qw6seqPaqbVPdW/bnK41yjIsCPoPIrAggggAACCCCAwPwCBPj57dgSgZwFRsPnkgb7CpVDsx+jfx8N8BvVxqvlv1g830vP61Wnqv5N5QDu59GH2wxW6b+rnwfXrLudV+QPU/lYu1RnFht7Nf1RqmNVd1a5n368tth+UoB/hP7uVfmHFfvyhwzDD/flSNWzixd9+v3tVIPLB/bXz48ujnGenv0Bwm7VfVQ/p1qjIsCPoPIrAggggAACCCCAwPwCBPj57dgSgZwFRsPnkgbr4Py4YtB317NvCnf/4nefDu/rxDeplou2Drx3UfnZ+1uv+h2VT30/vnh91NBtBgHep9b7OF7ZHn74GDeqHMz9+KLK/XqiKibA+zg+hp+9r6WR4wz3xX/yWQW+sZ9X/Ef749Ps/eHEPir31xZrVAT4ESx+RQABBBBAAAEEEJhfgAA/vx1bIpCzwAEanE9BP6QY5JKehwO8T1H/lsor4g7Tn1T9tWqTarloOy7AOyx7tfpila87/9II4nr9PgjwPoX+CtVrijZe4b6yOMa4AO8Vep8y/3CVA7T7f77K4fzDKq/Ibyv2dV1xnJgA71Po76h6ocqnzfv0effvdapvqHxKvlfr367yf1vXqAjwBThPCCCAAAIIIIAAAosLEOAXN2QPCOQq4ADt678/qvL178MB3mN+kerFKp+G/s+q61SbVMtF20kB3te3O/z+H5VvYnftEOB6/TwI8F69/98qX/fuQH6p6qTiGOMC/OD4XiX/jsqn4PtDBV8X75V/B/Dhm9jFrsD/rLb3DfP8AYFX2n0vAK/8+7r396sc6n28k1VekV+jIsAPTS4/IoAAAggggAACCCwmQIBfzI+tEUAgLQEHZ4d7X4PuwH+iyivxPBBAAAEEEEAAAQQQ6LwAAb7zU8gAEEBgSMBnDfi6fN9szl8TdxY6CCCAAAIIIIAAAgjkIkCAz2UmGQcCCCCAAAIIIIAAAggggEDWAgT4rKeXwSGAAAIIIIAAAggggAACCOQiQIDPZSYZBwIIIIAAAggggAACCCCAQNYCBPisp5fBIYAAAggggAACCCCAAAII5CJAgM9lJhkHAggggAACCCCAAAIIIIBA1gIE+Kynl8EhgAACCCCAAAIIIIAAAgjkIkCAz2UmGQcCCCCAAAIIIIAAAggggEDWAgT4rKeXwSGAAAIIIIAAAggggAACCOQiQIDPZSYZBwIIIIAAAggggAACCCCAQNYCBPisp5fBIYAAAggggAACCCCAAAII5CJAgM9lJhkHAggggAACCCCAAAIIIIBA1gIE+Kynl8EhgAACCCCAAAIIIIAAAgjkIkCAz2UmGQcCCCCAAAIIIIAAAggggEDWAgT4rKeXwSGAAAIIIIAAAggggAACCOQiQIDPZSYZBwIIIIAAAggggAACCCCAQNYCBPisp5fBIYAAAggggAACCCCAAAII5CJAgM9lJhkHAggggAACCCCAAAIIIIBA1gIE+Kynl8EhgAACCCCAAAIIIIAAAgjkIkCAz2UmGQcCCCCAAAIIIIAAAggggEDWAgT4rKeXwSGAAAIIIIAAAggggAACCOQiQIDPZSYZBwIIIIAAAggggAACCCCAQNYCBPisp5fBIYAAAggggAACCCCAAAII5CJAgM9lJhkHAggggAACCCCAAAIIIIBA1gIE+Kynl8EhgAACCCCAAAIIIIAAAgjkIkCAz2UmGQcCCCCAAAIIIIAAAggggEDWAgT4rKeXwSGAAAIIIIAAAggggAACCOQiQIDPZSYZBwIIIIAAAggggAACCCCAQNYCBPisp5fBIYAAAggggAACCCCAAAII5CJAgM9lJhkHAggggAACCCCAAAIIIIBA1gIE+Kynl8EhgAACCCCAAAIIIIAAAgjkIkCAz2UmGQcCCCCAAAIIIIAAAggggEDWAgT4rKeXwSGAAAIIIIAAAggggAACCOQiQIDPZSYZBwIIIIAAAggggAACCCCAQNYCBPisp5fBIYAAAggggAACCCCAAAII5CJAgM9lJhkHAggggAACCCCAAAIIIIBA1gIE+Kynl8EhgAACCCCAAAIIIIAAAgjkIkCAz2UmGQcCCCCAAAIIIIAAAggggEDWAgT4rKeXwSGAAAIIIIAAAggggAACCOQiQIDPZSYZBwIIIIAAAggggAACCCCAQNYCBPisp5fBIYAAAggggAACCCCAAAII5CJAgM9lJhkHAggggAACCCCAAAIIIIBA1gIE+Kynl8EhgAACCCCAAAIIIIAAAgjkIkCAz2UmGQcCCCCAAAIIIIAAAggggEDWAgT4rKeXwSGAAAIIIIAAAggggAACCOQiQIDPZSYZBwIIIIAAAggggAACCCCAQNYCBPisp5fBIYAAAggggAACCCCAAAII5CJAgM9lJhkHAggggAACCCCAAAIIIIBA1gIE+Kynl8EhgAACCCCAAAIIIIAAAgjkIkCAz2UmGQcCCCCAAAIIIIAAAggggEDWAgT4rKeXwSGAAAIIIIAAAggggAACCOQiQIDPZSYZBwIIIIAAAggggAACCCCAQNYCBPisp5fBIYAAAggggAACCCCAAAII5CJAgM9lJhkHAggggAACCCCAAAIIIIBA1gIE+Kynl8EhgAACCCCAAAIIIIAAAgjkIkCAz2UmGQcCCCCAAAIIIIAAAggggEDWAgT4rKeXwSGAAAIIIIAAAggggAACCOQiQIDPZSYZBwIIIIAAAggggAACCCCAQNYCBPisp5fBIYAAAggggAACCCCAAAII5CJAgM9lJhkHAggggAACCCCAAAIIIIBA1gL/HwkbXILPQM+/AAAAAElFTkSuQmCC\" width=\"1008\">"
      ],
      "text/plain": [
       "<IPython.core.display.HTML object>"
      ]
     },
     "metadata": {},
     "output_type": "display_data"
    }
   ],
   "source": [
    "%matplotlib notebook\n",
    "\n",
    "idx = 0\n",
    "\n",
    "plt.figure(figsize=(14, 10))\n",
    "\n",
    "# ax_d = plt.subplot(221)\n",
    "# ax_d.scatter(y[:,0], output[:,0], c='red', marker='.')\n",
    "# ax_d.set_xlabel('d real')\n",
    "# ax_d.set_ylabel('d pred')\n",
    "\n",
    "# ax_t = plt.subplot(222)\n",
    "# ax_t.scatter(y[:,1], output[:,1], c='red', marker='.')\n",
    "# ax_t.set_xlabel('theta real')\n",
    "# ax_t.set_ylabel('theta pred')\n",
    "\n",
    "ax_h = plt.subplot(221)\n",
    "ax_h.scatter(y[:,0], output[:,0], c='red', marker='.')\n",
    "ax_h.set_xlabel('h real')\n",
    "ax_h.set_ylabel('h pred')\n",
    "\n",
    "ax_p = plt.subplot(222)\n",
    "ax_p.scatter(y[:,1], output[:,1], c='red', marker='.')\n",
    "ax_p.set_xlabel('phi real')\n",
    "ax_p.set_ylabel('phi pred')\n",
    "\n",
    "ax_lt = plt.subplot(223)\n",
    "ax_lt.scatter(y[:,2], output[:,2], c='red', marker='.')\n",
    "ax_lt.set_xlabel('trunk length real')\n",
    "ax_lt.set_ylabel('trunk length pred')\n",
    "\n",
    "\n",
    "plt.show()"
   ]
  },
  {
   "cell_type": "code",
   "execution_count": null,
   "metadata": {},
   "outputs": [],
   "source": [
    "%matplotlib notebook\n",
    "\n",
    "idx = 0#[0, 1, 2, 3, 4, 5]\n",
    "\n",
    "plt.figure(figsize=(8, 8))\n",
    "ax = plt.axes(projection='3d')\n",
    "ax.scatter3D(y[idx,0], y[idx,1], y[idx,2], c='green', marker='.')\n",
    "ax.scatter3D(output[idx,0], output[idx,1], output[idx,2], c='red', marker='^')\n",
    "ax.set_xlabel('x')\n",
    "ax.set_ylabel('y')\n",
    "ax.set_zlabel('z')\n",
    "# plt.show()"
   ]
  },
  {
   "cell_type": "code",
   "execution_count": null,
   "metadata": {},
   "outputs": [],
   "source": []
  }
 ],
 "metadata": {
  "kernelspec": {
   "display_name": "Python 3",
   "language": "python",
   "name": "python3"
  },
  "language_info": {
   "codemirror_mode": {
    "name": "ipython",
    "version": 3
   },
   "file_extension": ".py",
   "mimetype": "text/x-python",
   "name": "python",
   "nbconvert_exporter": "python",
   "pygments_lexer": "ipython3",
   "version": "3.8.10"
  }
 },
 "nbformat": 4,
 "nbformat_minor": 4
}
