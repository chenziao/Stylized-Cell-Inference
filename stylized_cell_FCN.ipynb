{
 "cells": [
  {
   "cell_type": "code",
   "execution_count": 1,
   "metadata": {},
   "outputs": [],
   "source": [
    "%matplotlib inline\n",
    "\n",
    "\n",
    "from neuron import h\n",
    "import pandas as pd\n",
    "import numpy as np\n",
    "import matplotlib.pyplot as plt\n",
    "from scipy import signal\n",
    "import h5py\n",
    "import os\n",
    "\n",
    "from cell_inference.utils.plotting.plot_results import plot_lfp_traces, plot_lfp_heatmap\n",
    "from cell_inference.utils.feature_extractors.SummaryStats2D import calculate_stats, build_lfp_grid\n",
    "from cell_inference.cells.stylizedcell import CellTypes\n",
    "from cell_inference.cells.activecell import ActiveCell\n",
    "from cell_inference.cells.passivecell import PassiveCell\n",
    "from cell_inference.cells.simulation import Simulation\n",
    "from cell_inference.utils.currents.recorder import Recorder\n",
    "from cell_inference.config import paths, params\n",
    "from cell_inference.utils.feature_extractors.parameterprediction import ClassifierTypes, ClassifierBuilder\n",
    "\n",
    "cell_type = CellTypes.ACTIVE\n",
    "\n",
    "h.nrn_load_dll(paths.COMPILED_LIBRARY)\n",
    "geo_standard = pd.read_csv(paths.GEO_STANDARD,index_col='id')\n",
    "h.tstop = params.TSTOP\n",
    "h.dt = params.DT"
   ]
  },
  {
   "cell_type": "code",
   "execution_count": 16,
   "metadata": {},
   "outputs": [
    {
     "name": "stdout",
     "output_type": "stream",
     "text": [
      "(1000, 176, 384)\n",
      "(1000, 7)\n"
     ]
    }
   ],
   "source": [
    "from cell_inference.utils.transform.geometry_transformation import hphi2unitsphere\n",
    "\n",
    "\n",
    "DATA_PATH = 'cell_inference/resources/simulation_data'\n",
    "TRIAL_PATH = os.path.join(DATA_PATH, 'Loc2Alt_Ori2_Geo3_params')\n",
    "\n",
    "LFP_PATH = os.path.join(TRIAL_PATH, 'lfp.npz')  # LFP and labels\n",
    "\n",
    "lfp   = np.load(LFP_PATH)['x']\n",
    "print(lfp.shape)\n",
    "labels = np.load(LFP_PATH)['y']\n",
    "print(labels.shape)"
   ]
  },
  {
   "cell_type": "code",
   "execution_count": 4,
   "metadata": {},
   "outputs": [
    {
     "name": "stdout",
     "output_type": "stream",
     "text": [
      "(176, 384)\n"
     ]
    },
    {
     "data": {
      "application/vnd.jupyter.widget-view+json": {
       "model_id": "15147c928c1f4c02a68c68992acbfff4",
       "version_major": 2,
       "version_minor": 0
      },
      "text/plain": [
       "  0%|          | 0/1000 [00:00<?, ?it/s]"
      ]
     },
     "metadata": {},
     "output_type": "display_data"
    }
   ],
   "source": [
    "from tqdm.notebook import tqdm\n",
    "\n",
    "summ_stats = []\n",
    "for i in tqdm(range(lfp.shape[0])):\n",
    "    g_lfp, _ = build_lfp_grid(lfp[i], params.ELECTRODE_POSITION)\n",
    "    summ_stats.append(calculate_stats(g_lfp))\n",
    "summ_stats = np.array(summ_stats)"
   ]
  },
  {
   "cell_type": "markdown",
   "metadata": {},
   "source": [
    "If the user sends h and phi parameters and wants the model to learn directional vectors for orientation, enable this code block"
   ]
  },
  {
   "cell_type": "code",
   "execution_count": 5,
   "metadata": {},
   "outputs": [],
   "source": [
    "convert_hphi_to_dv = False\n",
    "\n",
    "if convert_hphi_to_dv:\n",
    "#     hphi_labels = labels\n",
    "    dv = hphi2unitsphere(labels)\n",
    "    dvx, dvy, dvz = tuple(np.hsplit(dv, 3))\n",
    "    labels = np.concatenate((dvx, dvy, dvz), axis=1)\n",
    "    print(labels.shape)"
   ]
  },
  {
   "cell_type": "code",
   "execution_count": 6,
   "metadata": {},
   "outputs": [
    {
     "name": "stdout",
     "output_type": "stream",
     "text": [
      "['d', 'theta', 'h', 'phi', 'r_s', 'l_t', 'r_t']\n",
      "[[-0.54532796  0.19950308  0.2467447  ...  0.78257079 -0.95830196\n",
      "   0.01884223]\n",
      " [-0.36648332 -0.83769703 -0.33564824 ... -0.10318346 -0.03745967\n",
      "  -0.99991956]\n",
      " [ 0.59473091  0.05853246 -0.31366349 ... -0.15249521  0.96449401\n",
      "  -0.76405391]\n",
      " ...\n",
      " [-0.26264348 -0.37940062  0.95769607 ...  0.23478598  0.82764779\n",
      "  -0.75374182]\n",
      " [-0.01424659 -0.12016722  0.92645932 ... -0.40433452  0.83934002\n",
      "   0.84983729]\n",
      " [-0.1353533  -0.07019125  0.14896279 ...  0.81742647 -0.38685954\n",
      "  -0.7928324 ]]\n"
     ]
    }
   ],
   "source": [
    "import json\n",
    "\n",
    "CONFIG_PATH = os.path.join(TRIAL_PATH, 'config.json')\n",
    "\n",
    "with open(CONFIG_PATH, 'r') as f:\n",
    "    config = json.load(f)\n",
    "\n",
    "inference_list = config['Trial_Parameters']['inference_list']\n",
    "print(inference_list)\n",
    "ranges = config['Simulation_Parameters']['loc_param_range']\n",
    "ranges.update(config['Simulation_Parameters']['geo_param_range'])\n",
    "feature_range = (-1, 1)\n",
    "\n",
    "normalize_labels = True\n",
    "\n",
    "if normalize_labels:\n",
    "    for i in range(labels.shape[1]):\n",
    "        label = labels[:,i]\n",
    "        label_name = inference_list[i]\n",
    "        min_max_range = ranges[label_name]\n",
    "        x_std = (label - min_max_range[0]) / (min_max_range[1] - min_max_range[0])\n",
    "        x_scaled = x_std * (feature_range[1] - feature_range[0]) + feature_range[0]\n",
    "        labels[:,i] = x_scaled\n",
    "    print(labels)"
   ]
  },
  {
   "cell_type": "code",
   "execution_count": 7,
   "metadata": {},
   "outputs": [
    {
     "name": "stdout",
     "output_type": "stream",
     "text": [
      "(1000, 40)\n"
     ]
    }
   ],
   "source": [
    "from cell_inference.utils.feature_extractors.helperfunctions import train_regression, build_dataloader_from_numpy\n",
    "\n",
    "data = summ_stats\n",
    "print(data.shape)\n",
    "\n",
    "train_loader, test_loader = build_dataloader_from_numpy(input_arr=data, labels_arr=labels, batch_size=2)"
   ]
  },
  {
   "cell_type": "code",
   "execution_count": 8,
   "metadata": {},
   "outputs": [
    {
     "name": "stderr",
     "output_type": "stream",
     "text": [
      "  0%|          | 1/300 [00:01<05:08,  1.03s/it]"
     ]
    },
    {
     "name": "stdout",
     "output_type": "stream",
     "text": [
      "Training Loss: 112.86969737708569 Validation Loss: 32.90155690163374\n"
     ]
    },
    {
     "name": "stderr",
     "output_type": "stream",
     "text": [
      "  4%|▎         | 11/300 [00:11<04:59,  1.04s/it]"
     ]
    },
    {
     "name": "stdout",
     "output_type": "stream",
     "text": [
      "Training Loss: 78.33764422312379 Validation Loss: 26.248621359467506\n"
     ]
    },
    {
     "name": "stderr",
     "output_type": "stream",
     "text": [
      "  7%|▋         | 21/300 [00:22<05:04,  1.09s/it]"
     ]
    },
    {
     "name": "stdout",
     "output_type": "stream",
     "text": [
      "Training Loss: 73.52916959673166 Validation Loss: 25.15835350751877\n"
     ]
    },
    {
     "name": "stderr",
     "output_type": "stream",
     "text": [
      " 10%|█         | 31/300 [00:32<04:38,  1.03s/it]"
     ]
    },
    {
     "name": "stdout",
     "output_type": "stream",
     "text": [
      "Training Loss: 70.81279527023435 Validation Loss: 24.881021454930305\n"
     ]
    },
    {
     "name": "stderr",
     "output_type": "stream",
     "text": [
      " 14%|█▎        | 41/300 [00:43<04:27,  1.03s/it]"
     ]
    },
    {
     "name": "stdout",
     "output_type": "stream",
     "text": [
      "Training Loss: 67.86957212164998 Validation Loss: 25.5251176469028\n"
     ]
    },
    {
     "name": "stderr",
     "output_type": "stream",
     "text": [
      " 17%|█▋        | 51/300 [00:53<04:17,  1.03s/it]"
     ]
    },
    {
     "name": "stdout",
     "output_type": "stream",
     "text": [
      "Training Loss: 64.34736001119018 Validation Loss: 24.506762705743313\n"
     ]
    },
    {
     "name": "stderr",
     "output_type": "stream",
     "text": [
      " 20%|██        | 61/300 [01:04<04:13,  1.06s/it]"
     ]
    },
    {
     "name": "stdout",
     "output_type": "stream",
     "text": [
      "Training Loss: 59.83728286251426 Validation Loss: 24.877759277820587\n"
     ]
    },
    {
     "name": "stderr",
     "output_type": "stream",
     "text": [
      " 24%|██▎       | 71/300 [01:14<04:09,  1.09s/it]"
     ]
    },
    {
     "name": "stdout",
     "output_type": "stream",
     "text": [
      "Training Loss: 57.04662850499153 Validation Loss: 25.38460334390402\n"
     ]
    },
    {
     "name": "stderr",
     "output_type": "stream",
     "text": [
      " 27%|██▋       | 81/300 [01:25<03:51,  1.06s/it]"
     ]
    },
    {
     "name": "stdout",
     "output_type": "stream",
     "text": [
      "Training Loss: 52.00948543101549 Validation Loss: 24.36718699336052\n"
     ]
    },
    {
     "name": "stderr",
     "output_type": "stream",
     "text": [
      " 30%|███       | 91/300 [01:35<03:33,  1.02s/it]"
     ]
    },
    {
     "name": "stdout",
     "output_type": "stream",
     "text": [
      "Training Loss: 48.227452674880624 Validation Loss: 25.423563580960035\n"
     ]
    },
    {
     "name": "stderr",
     "output_type": "stream",
     "text": [
      " 34%|███▎      | 101/300 [01:45<03:20,  1.01s/it]"
     ]
    },
    {
     "name": "stdout",
     "output_type": "stream",
     "text": [
      "Training Loss: 44.975688157603145 Validation Loss: 25.82240054756403\n"
     ]
    },
    {
     "name": "stderr",
     "output_type": "stream",
     "text": [
      " 37%|███▋      | 111/300 [01:56<03:11,  1.01s/it]"
     ]
    },
    {
     "name": "stdout",
     "output_type": "stream",
     "text": [
      "Training Loss: 42.442045168951154 Validation Loss: 25.94643910974264\n"
     ]
    },
    {
     "name": "stderr",
     "output_type": "stream",
     "text": [
      " 40%|████      | 121/300 [02:06<03:02,  1.02s/it]"
     ]
    },
    {
     "name": "stdout",
     "output_type": "stream",
     "text": [
      "Training Loss: 39.880206579342484 Validation Loss: 26.092028837651014\n"
     ]
    },
    {
     "name": "stderr",
     "output_type": "stream",
     "text": [
      " 44%|████▎     | 131/300 [02:16<02:54,  1.03s/it]"
     ]
    },
    {
     "name": "stdout",
     "output_type": "stream",
     "text": [
      "Training Loss: 37.39035248942673 Validation Loss: 26.794819854199886\n"
     ]
    },
    {
     "name": "stderr",
     "output_type": "stream",
     "text": [
      " 47%|████▋     | 141/300 [02:26<02:41,  1.01s/it]"
     ]
    },
    {
     "name": "stdout",
     "output_type": "stream",
     "text": [
      "Training Loss: 34.84782778099179 Validation Loss: 28.003407664597034\n"
     ]
    },
    {
     "name": "stderr",
     "output_type": "stream",
     "text": [
      " 50%|█████     | 151/300 [02:35<02:09,  1.15it/s]"
     ]
    },
    {
     "name": "stdout",
     "output_type": "stream",
     "text": [
      "Training Loss: 31.904186440166086 Validation Loss: 28.50016114488244\n"
     ]
    },
    {
     "name": "stderr",
     "output_type": "stream",
     "text": [
      " 54%|█████▎    | 161/300 [02:45<02:22,  1.02s/it]"
     ]
    },
    {
     "name": "stdout",
     "output_type": "stream",
     "text": [
      "Training Loss: 30.68414680287242 Validation Loss: 29.881136260926723\n"
     ]
    },
    {
     "name": "stderr",
     "output_type": "stream",
     "text": [
      " 57%|█████▋    | 171/300 [02:55<02:12,  1.03s/it]"
     ]
    },
    {
     "name": "stdout",
     "output_type": "stream",
     "text": [
      "Training Loss: 28.92535956390202 Validation Loss: 29.70195423811674\n"
     ]
    },
    {
     "name": "stderr",
     "output_type": "stream",
     "text": [
      " 60%|██████    | 181/300 [03:04<01:54,  1.04it/s]"
     ]
    },
    {
     "name": "stdout",
     "output_type": "stream",
     "text": [
      "Training Loss: 27.910869394429028 Validation Loss: 29.831974919885397\n"
     ]
    },
    {
     "name": "stderr",
     "output_type": "stream",
     "text": [
      " 64%|██████▎   | 191/300 [03:15<01:52,  1.03s/it]"
     ]
    },
    {
     "name": "stdout",
     "output_type": "stream",
     "text": [
      "Training Loss: 27.113879179582 Validation Loss: 30.11562156677246\n"
     ]
    },
    {
     "name": "stderr",
     "output_type": "stream",
     "text": [
      " 67%|██████▋   | 201/300 [03:25<01:45,  1.06s/it]"
     ]
    },
    {
     "name": "stdout",
     "output_type": "stream",
     "text": [
      "Training Loss: 26.143643870484084 Validation Loss: 31.377828430384398\n"
     ]
    },
    {
     "name": "stderr",
     "output_type": "stream",
     "text": [
      " 70%|███████   | 211/300 [03:36<01:32,  1.03s/it]"
     ]
    },
    {
     "name": "stdout",
     "output_type": "stream",
     "text": [
      "Training Loss: 25.192148018162698 Validation Loss: 32.265374194830656\n"
     ]
    },
    {
     "name": "stderr",
     "output_type": "stream",
     "text": [
      " 74%|███████▎  | 221/300 [03:46<01:20,  1.02s/it]"
     ]
    },
    {
     "name": "stdout",
     "output_type": "stream",
     "text": [
      "Training Loss: 24.897140613757074 Validation Loss: 32.8164181150496\n"
     ]
    },
    {
     "name": "stderr",
     "output_type": "stream",
     "text": [
      " 77%|███████▋  | 231/300 [03:56<01:11,  1.04s/it]"
     ]
    },
    {
     "name": "stdout",
     "output_type": "stream",
     "text": [
      "Training Loss: 23.858546786941588 Validation Loss: 33.30674006044865\n"
     ]
    },
    {
     "name": "stderr",
     "output_type": "stream",
     "text": [
      " 80%|████████  | 241/300 [04:07<01:01,  1.04s/it]"
     ]
    },
    {
     "name": "stdout",
     "output_type": "stream",
     "text": [
      "Training Loss: 23.240597241558135 Validation Loss: 33.49196795746684\n"
     ]
    },
    {
     "name": "stderr",
     "output_type": "stream",
     "text": [
      " 84%|████████▎ | 251/300 [04:17<00:50,  1.02s/it]"
     ]
    },
    {
     "name": "stdout",
     "output_type": "stream",
     "text": [
      "Training Loss: 22.84481112891808 Validation Loss: 33.57844043895602\n"
     ]
    },
    {
     "name": "stderr",
     "output_type": "stream",
     "text": [
      " 87%|████████▋ | 261/300 [04:27<00:39,  1.02s/it]"
     ]
    },
    {
     "name": "stdout",
     "output_type": "stream",
     "text": [
      "Training Loss: 22.214221626054496 Validation Loss: 34.333542075008154\n"
     ]
    },
    {
     "name": "stderr",
     "output_type": "stream",
     "text": [
      " 90%|█████████ | 271/300 [04:38<00:29,  1.03s/it]"
     ]
    },
    {
     "name": "stdout",
     "output_type": "stream",
     "text": [
      "Training Loss: 21.624424184206873 Validation Loss: 34.713188380002975\n"
     ]
    },
    {
     "name": "stderr",
     "output_type": "stream",
     "text": [
      " 94%|█████████▎| 281/300 [04:48<00:18,  1.00it/s]"
     ]
    },
    {
     "name": "stdout",
     "output_type": "stream",
     "text": [
      "Training Loss: 21.202450924087316 Validation Loss: 35.41948712617159\n"
     ]
    },
    {
     "name": "stderr",
     "output_type": "stream",
     "text": [
      " 97%|█████████▋| 291/300 [04:58<00:09,  1.02s/it]"
     ]
    },
    {
     "name": "stdout",
     "output_type": "stream",
     "text": [
      "Training Loss: 21.06149589177221 Validation Loss: 35.76483312249184\n"
     ]
    },
    {
     "name": "stderr",
     "output_type": "stream",
     "text": [
      "100%|██████████| 300/300 [05:07<00:00,  1.02s/it]\n"
     ]
    }
   ],
   "source": [
    "from cell_inference.utils.feature_extractors.fullyconnectednetwork import FullyConnectedNetwork, ActivationTypes\n",
    "from cell_inference.utils.feature_extractors.convolutionalnetwork import ConvolutionalNetwork\n",
    "import torch\n",
    "\n",
    "# model1 = ConvolutionalNetwork(in_channels=1, num_labels=2)\n",
    "# model1 = torch.load('cell_inference/resources/results/pytorch_models/16_23_59__01_04_2022.pt')\n",
    "model1 = FullyConnectedNetwork(in_features=40, out_features=7)\n",
    "\n",
    "device = torch.device(\"cuda:0\" if torch.cuda.is_available() else \"cpu\") #torch.device(\"cpu\")\n",
    "model1.to(device)\n",
    "\n",
    "train_regression(model1, train_loader, test_loader, 300, learning_rate=0.001, decay_rate=0.99, device=device)"
   ]
  },
  {
   "cell_type": "code",
   "execution_count": 9,
   "metadata": {},
   "outputs": [
    {
     "name": "stdout",
     "output_type": "stream",
     "text": [
      "R2: -0.08978619349289499\n",
      "(128, 7)\n",
      "(128, 7)\n"
     ]
    }
   ],
   "source": [
    "from sklearn.metrics import r2_score\n",
    "from cell_inference.utils.transform.geometry_transformation import hphi2unitsphere, unitsphere2hphi, trivarnorm2unitsphere\n",
    "\n",
    "train_loader, test_loader = build_dataloader_from_numpy(input_arr=data, labels_arr=labels, batch_size=128)\n",
    "\n",
    "x, y = next(iter(test_loader))\n",
    "model1.eval()\n",
    "x = x.to(device)\n",
    "output = model1(x)\n",
    "output = output.to(\"cpu\").detach().numpy()\n",
    "y = y.to(\"cpu\").detach().numpy()\n",
    "\n",
    "# h_out, phi_out = tuple(np.hsplit(unitsphere2hphi(trivarnorm2unitsphere(np.hstack((output[:,0], output[:,1], output[:,2])))),2))\n",
    "# h_lab, phi_lab = tuple(np.hsplit(unitsphere2hphi(trivarnorm2unitsphere(np.hstack((y[:,0], y[:,1], y[:,2])))),2))\n",
    "\n",
    "print(\"R2: {}\".format(r2_score(y, output)))\n",
    "\n",
    "# print(\"R2 h: {}\".format(r2_score(h_lab, h_out)))\n",
    "# print(\"R2 phi: {}\".format(r2_score(phi_lab, phi_out)))\n",
    "print(output.shape)\n",
    "print(y.shape)"
   ]
  },
  {
   "cell_type": "code",
   "execution_count": 10,
   "metadata": {},
   "outputs": [],
   "source": [
    "if normalize_labels:\n",
    "    for i in range(y.shape[1]):\n",
    "        old_y = y[:,i]\n",
    "        old_out = output[:,i]\n",
    "        label_name = inference_list[i]\n",
    "        min_max_range = ranges[label_name]\n",
    "        org_y = (((old_y - feature_range[0]) / (feature_range[1] - feature_range[0])) \n",
    "                    * (min_max_range[1] - min_max_range[0]) + min_max_range[0])\n",
    "        \n",
    "        org_out = (((old_out - feature_range[0]) / (feature_range[1] - feature_range[0])) \n",
    "                    * (min_max_range[1] - min_max_range[0]) + min_max_range[0])\n",
    "        y[:,i] = org_y\n",
    "        output[:,i] = org_out"
   ]
  },
  {
   "cell_type": "code",
   "execution_count": 12,
   "metadata": {},
   "outputs": [
    {
     "data": {
      "application/javascript": [
       "/* Put everything inside the global mpl namespace */\n",
       "/* global mpl */\n",
       "window.mpl = {};\n",
       "\n",
       "mpl.get_websocket_type = function () {\n",
       "    if (typeof WebSocket !== 'undefined') {\n",
       "        return WebSocket;\n",
       "    } else if (typeof MozWebSocket !== 'undefined') {\n",
       "        return MozWebSocket;\n",
       "    } else {\n",
       "        alert(\n",
       "            'Your browser does not have WebSocket support. ' +\n",
       "                'Please try Chrome, Safari or Firefox ≥ 6. ' +\n",
       "                'Firefox 4 and 5 are also supported but you ' +\n",
       "                'have to enable WebSockets in about:config.'\n",
       "        );\n",
       "    }\n",
       "};\n",
       "\n",
       "mpl.figure = function (figure_id, websocket, ondownload, parent_element) {\n",
       "    this.id = figure_id;\n",
       "\n",
       "    this.ws = websocket;\n",
       "\n",
       "    this.supports_binary = this.ws.binaryType !== undefined;\n",
       "\n",
       "    if (!this.supports_binary) {\n",
       "        var warnings = document.getElementById('mpl-warnings');\n",
       "        if (warnings) {\n",
       "            warnings.style.display = 'block';\n",
       "            warnings.textContent =\n",
       "                'This browser does not support binary websocket messages. ' +\n",
       "                'Performance may be slow.';\n",
       "        }\n",
       "    }\n",
       "\n",
       "    this.imageObj = new Image();\n",
       "\n",
       "    this.context = undefined;\n",
       "    this.message = undefined;\n",
       "    this.canvas = undefined;\n",
       "    this.rubberband_canvas = undefined;\n",
       "    this.rubberband_context = undefined;\n",
       "    this.format_dropdown = undefined;\n",
       "\n",
       "    this.image_mode = 'full';\n",
       "\n",
       "    this.root = document.createElement('div');\n",
       "    this.root.setAttribute('style', 'display: inline-block');\n",
       "    this._root_extra_style(this.root);\n",
       "\n",
       "    parent_element.appendChild(this.root);\n",
       "\n",
       "    this._init_header(this);\n",
       "    this._init_canvas(this);\n",
       "    this._init_toolbar(this);\n",
       "\n",
       "    var fig = this;\n",
       "\n",
       "    this.waiting = false;\n",
       "\n",
       "    this.ws.onopen = function () {\n",
       "        fig.send_message('supports_binary', { value: fig.supports_binary });\n",
       "        fig.send_message('send_image_mode', {});\n",
       "        if (fig.ratio !== 1) {\n",
       "            fig.send_message('set_dpi_ratio', { dpi_ratio: fig.ratio });\n",
       "        }\n",
       "        fig.send_message('refresh', {});\n",
       "    };\n",
       "\n",
       "    this.imageObj.onload = function () {\n",
       "        if (fig.image_mode === 'full') {\n",
       "            // Full images could contain transparency (where diff images\n",
       "            // almost always do), so we need to clear the canvas so that\n",
       "            // there is no ghosting.\n",
       "            fig.context.clearRect(0, 0, fig.canvas.width, fig.canvas.height);\n",
       "        }\n",
       "        fig.context.drawImage(fig.imageObj, 0, 0);\n",
       "    };\n",
       "\n",
       "    this.imageObj.onunload = function () {\n",
       "        fig.ws.close();\n",
       "    };\n",
       "\n",
       "    this.ws.onmessage = this._make_on_message_function(this);\n",
       "\n",
       "    this.ondownload = ondownload;\n",
       "};\n",
       "\n",
       "mpl.figure.prototype._init_header = function () {\n",
       "    var titlebar = document.createElement('div');\n",
       "    titlebar.classList =\n",
       "        'ui-dialog-titlebar ui-widget-header ui-corner-all ui-helper-clearfix';\n",
       "    var titletext = document.createElement('div');\n",
       "    titletext.classList = 'ui-dialog-title';\n",
       "    titletext.setAttribute(\n",
       "        'style',\n",
       "        'width: 100%; text-align: center; padding: 3px;'\n",
       "    );\n",
       "    titlebar.appendChild(titletext);\n",
       "    this.root.appendChild(titlebar);\n",
       "    this.header = titletext;\n",
       "};\n",
       "\n",
       "mpl.figure.prototype._canvas_extra_style = function (_canvas_div) {};\n",
       "\n",
       "mpl.figure.prototype._root_extra_style = function (_canvas_div) {};\n",
       "\n",
       "mpl.figure.prototype._init_canvas = function () {\n",
       "    var fig = this;\n",
       "\n",
       "    var canvas_div = (this.canvas_div = document.createElement('div'));\n",
       "    canvas_div.setAttribute(\n",
       "        'style',\n",
       "        'border: 1px solid #ddd;' +\n",
       "            'box-sizing: content-box;' +\n",
       "            'clear: both;' +\n",
       "            'min-height: 1px;' +\n",
       "            'min-width: 1px;' +\n",
       "            'outline: 0;' +\n",
       "            'overflow: hidden;' +\n",
       "            'position: relative;' +\n",
       "            'resize: both;'\n",
       "    );\n",
       "\n",
       "    function on_keyboard_event_closure(name) {\n",
       "        return function (event) {\n",
       "            return fig.key_event(event, name);\n",
       "        };\n",
       "    }\n",
       "\n",
       "    canvas_div.addEventListener(\n",
       "        'keydown',\n",
       "        on_keyboard_event_closure('key_press')\n",
       "    );\n",
       "    canvas_div.addEventListener(\n",
       "        'keyup',\n",
       "        on_keyboard_event_closure('key_release')\n",
       "    );\n",
       "\n",
       "    this._canvas_extra_style(canvas_div);\n",
       "    this.root.appendChild(canvas_div);\n",
       "\n",
       "    var canvas = (this.canvas = document.createElement('canvas'));\n",
       "    canvas.classList.add('mpl-canvas');\n",
       "    canvas.setAttribute('style', 'box-sizing: content-box;');\n",
       "\n",
       "    this.context = canvas.getContext('2d');\n",
       "\n",
       "    var backingStore =\n",
       "        this.context.backingStorePixelRatio ||\n",
       "        this.context.webkitBackingStorePixelRatio ||\n",
       "        this.context.mozBackingStorePixelRatio ||\n",
       "        this.context.msBackingStorePixelRatio ||\n",
       "        this.context.oBackingStorePixelRatio ||\n",
       "        this.context.backingStorePixelRatio ||\n",
       "        1;\n",
       "\n",
       "    this.ratio = (window.devicePixelRatio || 1) / backingStore;\n",
       "\n",
       "    var rubberband_canvas = (this.rubberband_canvas = document.createElement(\n",
       "        'canvas'\n",
       "    ));\n",
       "    rubberband_canvas.setAttribute(\n",
       "        'style',\n",
       "        'box-sizing: content-box; position: absolute; left: 0; top: 0; z-index: 1;'\n",
       "    );\n",
       "\n",
       "    // Apply a ponyfill if ResizeObserver is not implemented by browser.\n",
       "    if (this.ResizeObserver === undefined) {\n",
       "        if (window.ResizeObserver !== undefined) {\n",
       "            this.ResizeObserver = window.ResizeObserver;\n",
       "        } else {\n",
       "            var obs = _JSXTOOLS_RESIZE_OBSERVER({});\n",
       "            this.ResizeObserver = obs.ResizeObserver;\n",
       "        }\n",
       "    }\n",
       "\n",
       "    this.resizeObserverInstance = new this.ResizeObserver(function (entries) {\n",
       "        var nentries = entries.length;\n",
       "        for (var i = 0; i < nentries; i++) {\n",
       "            var entry = entries[i];\n",
       "            var width, height;\n",
       "            if (entry.contentBoxSize) {\n",
       "                if (entry.contentBoxSize instanceof Array) {\n",
       "                    // Chrome 84 implements new version of spec.\n",
       "                    width = entry.contentBoxSize[0].inlineSize;\n",
       "                    height = entry.contentBoxSize[0].blockSize;\n",
       "                } else {\n",
       "                    // Firefox implements old version of spec.\n",
       "                    width = entry.contentBoxSize.inlineSize;\n",
       "                    height = entry.contentBoxSize.blockSize;\n",
       "                }\n",
       "            } else {\n",
       "                // Chrome <84 implements even older version of spec.\n",
       "                width = entry.contentRect.width;\n",
       "                height = entry.contentRect.height;\n",
       "            }\n",
       "\n",
       "            // Keep the size of the canvas and rubber band canvas in sync with\n",
       "            // the canvas container.\n",
       "            if (entry.devicePixelContentBoxSize) {\n",
       "                // Chrome 84 implements new version of spec.\n",
       "                canvas.setAttribute(\n",
       "                    'width',\n",
       "                    entry.devicePixelContentBoxSize[0].inlineSize\n",
       "                );\n",
       "                canvas.setAttribute(\n",
       "                    'height',\n",
       "                    entry.devicePixelContentBoxSize[0].blockSize\n",
       "                );\n",
       "            } else {\n",
       "                canvas.setAttribute('width', width * fig.ratio);\n",
       "                canvas.setAttribute('height', height * fig.ratio);\n",
       "            }\n",
       "            canvas.setAttribute(\n",
       "                'style',\n",
       "                'width: ' + width + 'px; height: ' + height + 'px;'\n",
       "            );\n",
       "\n",
       "            rubberband_canvas.setAttribute('width', width);\n",
       "            rubberband_canvas.setAttribute('height', height);\n",
       "\n",
       "            // And update the size in Python. We ignore the initial 0/0 size\n",
       "            // that occurs as the element is placed into the DOM, which should\n",
       "            // otherwise not happen due to the minimum size styling.\n",
       "            if (fig.ws.readyState == 1 && width != 0 && height != 0) {\n",
       "                fig.request_resize(width, height);\n",
       "            }\n",
       "        }\n",
       "    });\n",
       "    this.resizeObserverInstance.observe(canvas_div);\n",
       "\n",
       "    function on_mouse_event_closure(name) {\n",
       "        return function (event) {\n",
       "            return fig.mouse_event(event, name);\n",
       "        };\n",
       "    }\n",
       "\n",
       "    rubberband_canvas.addEventListener(\n",
       "        'mousedown',\n",
       "        on_mouse_event_closure('button_press')\n",
       "    );\n",
       "    rubberband_canvas.addEventListener(\n",
       "        'mouseup',\n",
       "        on_mouse_event_closure('button_release')\n",
       "    );\n",
       "    // Throttle sequential mouse events to 1 every 20ms.\n",
       "    rubberband_canvas.addEventListener(\n",
       "        'mousemove',\n",
       "        on_mouse_event_closure('motion_notify')\n",
       "    );\n",
       "\n",
       "    rubberband_canvas.addEventListener(\n",
       "        'mouseenter',\n",
       "        on_mouse_event_closure('figure_enter')\n",
       "    );\n",
       "    rubberband_canvas.addEventListener(\n",
       "        'mouseleave',\n",
       "        on_mouse_event_closure('figure_leave')\n",
       "    );\n",
       "\n",
       "    canvas_div.addEventListener('wheel', function (event) {\n",
       "        if (event.deltaY < 0) {\n",
       "            event.step = 1;\n",
       "        } else {\n",
       "            event.step = -1;\n",
       "        }\n",
       "        on_mouse_event_closure('scroll')(event);\n",
       "    });\n",
       "\n",
       "    canvas_div.appendChild(canvas);\n",
       "    canvas_div.appendChild(rubberband_canvas);\n",
       "\n",
       "    this.rubberband_context = rubberband_canvas.getContext('2d');\n",
       "    this.rubberband_context.strokeStyle = '#000000';\n",
       "\n",
       "    this._resize_canvas = function (width, height, forward) {\n",
       "        if (forward) {\n",
       "            canvas_div.style.width = width + 'px';\n",
       "            canvas_div.style.height = height + 'px';\n",
       "        }\n",
       "    };\n",
       "\n",
       "    // Disable right mouse context menu.\n",
       "    this.rubberband_canvas.addEventListener('contextmenu', function (_e) {\n",
       "        event.preventDefault();\n",
       "        return false;\n",
       "    });\n",
       "\n",
       "    function set_focus() {\n",
       "        canvas.focus();\n",
       "        canvas_div.focus();\n",
       "    }\n",
       "\n",
       "    window.setTimeout(set_focus, 100);\n",
       "};\n",
       "\n",
       "mpl.figure.prototype._init_toolbar = function () {\n",
       "    var fig = this;\n",
       "\n",
       "    var toolbar = document.createElement('div');\n",
       "    toolbar.classList = 'mpl-toolbar';\n",
       "    this.root.appendChild(toolbar);\n",
       "\n",
       "    function on_click_closure(name) {\n",
       "        return function (_event) {\n",
       "            return fig.toolbar_button_onclick(name);\n",
       "        };\n",
       "    }\n",
       "\n",
       "    function on_mouseover_closure(tooltip) {\n",
       "        return function (event) {\n",
       "            if (!event.currentTarget.disabled) {\n",
       "                return fig.toolbar_button_onmouseover(tooltip);\n",
       "            }\n",
       "        };\n",
       "    }\n",
       "\n",
       "    fig.buttons = {};\n",
       "    var buttonGroup = document.createElement('div');\n",
       "    buttonGroup.classList = 'mpl-button-group';\n",
       "    for (var toolbar_ind in mpl.toolbar_items) {\n",
       "        var name = mpl.toolbar_items[toolbar_ind][0];\n",
       "        var tooltip = mpl.toolbar_items[toolbar_ind][1];\n",
       "        var image = mpl.toolbar_items[toolbar_ind][2];\n",
       "        var method_name = mpl.toolbar_items[toolbar_ind][3];\n",
       "\n",
       "        if (!name) {\n",
       "            /* Instead of a spacer, we start a new button group. */\n",
       "            if (buttonGroup.hasChildNodes()) {\n",
       "                toolbar.appendChild(buttonGroup);\n",
       "            }\n",
       "            buttonGroup = document.createElement('div');\n",
       "            buttonGroup.classList = 'mpl-button-group';\n",
       "            continue;\n",
       "        }\n",
       "\n",
       "        var button = (fig.buttons[name] = document.createElement('button'));\n",
       "        button.classList = 'mpl-widget';\n",
       "        button.setAttribute('role', 'button');\n",
       "        button.setAttribute('aria-disabled', 'false');\n",
       "        button.addEventListener('click', on_click_closure(method_name));\n",
       "        button.addEventListener('mouseover', on_mouseover_closure(tooltip));\n",
       "\n",
       "        var icon_img = document.createElement('img');\n",
       "        icon_img.src = '_images/' + image + '.png';\n",
       "        icon_img.srcset = '_images/' + image + '_large.png 2x';\n",
       "        icon_img.alt = tooltip;\n",
       "        button.appendChild(icon_img);\n",
       "\n",
       "        buttonGroup.appendChild(button);\n",
       "    }\n",
       "\n",
       "    if (buttonGroup.hasChildNodes()) {\n",
       "        toolbar.appendChild(buttonGroup);\n",
       "    }\n",
       "\n",
       "    var fmt_picker = document.createElement('select');\n",
       "    fmt_picker.classList = 'mpl-widget';\n",
       "    toolbar.appendChild(fmt_picker);\n",
       "    this.format_dropdown = fmt_picker;\n",
       "\n",
       "    for (var ind in mpl.extensions) {\n",
       "        var fmt = mpl.extensions[ind];\n",
       "        var option = document.createElement('option');\n",
       "        option.selected = fmt === mpl.default_extension;\n",
       "        option.innerHTML = fmt;\n",
       "        fmt_picker.appendChild(option);\n",
       "    }\n",
       "\n",
       "    var status_bar = document.createElement('span');\n",
       "    status_bar.classList = 'mpl-message';\n",
       "    toolbar.appendChild(status_bar);\n",
       "    this.message = status_bar;\n",
       "};\n",
       "\n",
       "mpl.figure.prototype.request_resize = function (x_pixels, y_pixels) {\n",
       "    // Request matplotlib to resize the figure. Matplotlib will then trigger a resize in the client,\n",
       "    // which will in turn request a refresh of the image.\n",
       "    this.send_message('resize', { width: x_pixels, height: y_pixels });\n",
       "};\n",
       "\n",
       "mpl.figure.prototype.send_message = function (type, properties) {\n",
       "    properties['type'] = type;\n",
       "    properties['figure_id'] = this.id;\n",
       "    this.ws.send(JSON.stringify(properties));\n",
       "};\n",
       "\n",
       "mpl.figure.prototype.send_draw_message = function () {\n",
       "    if (!this.waiting) {\n",
       "        this.waiting = true;\n",
       "        this.ws.send(JSON.stringify({ type: 'draw', figure_id: this.id }));\n",
       "    }\n",
       "};\n",
       "\n",
       "mpl.figure.prototype.handle_save = function (fig, _msg) {\n",
       "    var format_dropdown = fig.format_dropdown;\n",
       "    var format = format_dropdown.options[format_dropdown.selectedIndex].value;\n",
       "    fig.ondownload(fig, format);\n",
       "};\n",
       "\n",
       "mpl.figure.prototype.handle_resize = function (fig, msg) {\n",
       "    var size = msg['size'];\n",
       "    if (size[0] !== fig.canvas.width || size[1] !== fig.canvas.height) {\n",
       "        fig._resize_canvas(size[0], size[1], msg['forward']);\n",
       "        fig.send_message('refresh', {});\n",
       "    }\n",
       "};\n",
       "\n",
       "mpl.figure.prototype.handle_rubberband = function (fig, msg) {\n",
       "    var x0 = msg['x0'] / fig.ratio;\n",
       "    var y0 = (fig.canvas.height - msg['y0']) / fig.ratio;\n",
       "    var x1 = msg['x1'] / fig.ratio;\n",
       "    var y1 = (fig.canvas.height - msg['y1']) / fig.ratio;\n",
       "    x0 = Math.floor(x0) + 0.5;\n",
       "    y0 = Math.floor(y0) + 0.5;\n",
       "    x1 = Math.floor(x1) + 0.5;\n",
       "    y1 = Math.floor(y1) + 0.5;\n",
       "    var min_x = Math.min(x0, x1);\n",
       "    var min_y = Math.min(y0, y1);\n",
       "    var width = Math.abs(x1 - x0);\n",
       "    var height = Math.abs(y1 - y0);\n",
       "\n",
       "    fig.rubberband_context.clearRect(\n",
       "        0,\n",
       "        0,\n",
       "        fig.canvas.width / fig.ratio,\n",
       "        fig.canvas.height / fig.ratio\n",
       "    );\n",
       "\n",
       "    fig.rubberband_context.strokeRect(min_x, min_y, width, height);\n",
       "};\n",
       "\n",
       "mpl.figure.prototype.handle_figure_label = function (fig, msg) {\n",
       "    // Updates the figure title.\n",
       "    fig.header.textContent = msg['label'];\n",
       "};\n",
       "\n",
       "mpl.figure.prototype.handle_cursor = function (fig, msg) {\n",
       "    var cursor = msg['cursor'];\n",
       "    switch (cursor) {\n",
       "        case 0:\n",
       "            cursor = 'pointer';\n",
       "            break;\n",
       "        case 1:\n",
       "            cursor = 'default';\n",
       "            break;\n",
       "        case 2:\n",
       "            cursor = 'crosshair';\n",
       "            break;\n",
       "        case 3:\n",
       "            cursor = 'move';\n",
       "            break;\n",
       "    }\n",
       "    fig.rubberband_canvas.style.cursor = cursor;\n",
       "};\n",
       "\n",
       "mpl.figure.prototype.handle_message = function (fig, msg) {\n",
       "    fig.message.textContent = msg['message'];\n",
       "};\n",
       "\n",
       "mpl.figure.prototype.handle_draw = function (fig, _msg) {\n",
       "    // Request the server to send over a new figure.\n",
       "    fig.send_draw_message();\n",
       "};\n",
       "\n",
       "mpl.figure.prototype.handle_image_mode = function (fig, msg) {\n",
       "    fig.image_mode = msg['mode'];\n",
       "};\n",
       "\n",
       "mpl.figure.prototype.handle_history_buttons = function (fig, msg) {\n",
       "    for (var key in msg) {\n",
       "        if (!(key in fig.buttons)) {\n",
       "            continue;\n",
       "        }\n",
       "        fig.buttons[key].disabled = !msg[key];\n",
       "        fig.buttons[key].setAttribute('aria-disabled', !msg[key]);\n",
       "    }\n",
       "};\n",
       "\n",
       "mpl.figure.prototype.handle_navigate_mode = function (fig, msg) {\n",
       "    if (msg['mode'] === 'PAN') {\n",
       "        fig.buttons['Pan'].classList.add('active');\n",
       "        fig.buttons['Zoom'].classList.remove('active');\n",
       "    } else if (msg['mode'] === 'ZOOM') {\n",
       "        fig.buttons['Pan'].classList.remove('active');\n",
       "        fig.buttons['Zoom'].classList.add('active');\n",
       "    } else {\n",
       "        fig.buttons['Pan'].classList.remove('active');\n",
       "        fig.buttons['Zoom'].classList.remove('active');\n",
       "    }\n",
       "};\n",
       "\n",
       "mpl.figure.prototype.updated_canvas_event = function () {\n",
       "    // Called whenever the canvas gets updated.\n",
       "    this.send_message('ack', {});\n",
       "};\n",
       "\n",
       "// A function to construct a web socket function for onmessage handling.\n",
       "// Called in the figure constructor.\n",
       "mpl.figure.prototype._make_on_message_function = function (fig) {\n",
       "    return function socket_on_message(evt) {\n",
       "        if (evt.data instanceof Blob) {\n",
       "            /* FIXME: We get \"Resource interpreted as Image but\n",
       "             * transferred with MIME type text/plain:\" errors on\n",
       "             * Chrome.  But how to set the MIME type?  It doesn't seem\n",
       "             * to be part of the websocket stream */\n",
       "            evt.data.type = 'image/png';\n",
       "\n",
       "            /* Free the memory for the previous frames */\n",
       "            if (fig.imageObj.src) {\n",
       "                (window.URL || window.webkitURL).revokeObjectURL(\n",
       "                    fig.imageObj.src\n",
       "                );\n",
       "            }\n",
       "\n",
       "            fig.imageObj.src = (window.URL || window.webkitURL).createObjectURL(\n",
       "                evt.data\n",
       "            );\n",
       "            fig.updated_canvas_event();\n",
       "            fig.waiting = false;\n",
       "            return;\n",
       "        } else if (\n",
       "            typeof evt.data === 'string' &&\n",
       "            evt.data.slice(0, 21) === 'data:image/png;base64'\n",
       "        ) {\n",
       "            fig.imageObj.src = evt.data;\n",
       "            fig.updated_canvas_event();\n",
       "            fig.waiting = false;\n",
       "            return;\n",
       "        }\n",
       "\n",
       "        var msg = JSON.parse(evt.data);\n",
       "        var msg_type = msg['type'];\n",
       "\n",
       "        // Call the  \"handle_{type}\" callback, which takes\n",
       "        // the figure and JSON message as its only arguments.\n",
       "        try {\n",
       "            var callback = fig['handle_' + msg_type];\n",
       "        } catch (e) {\n",
       "            console.log(\n",
       "                \"No handler for the '\" + msg_type + \"' message type: \",\n",
       "                msg\n",
       "            );\n",
       "            return;\n",
       "        }\n",
       "\n",
       "        if (callback) {\n",
       "            try {\n",
       "                // console.log(\"Handling '\" + msg_type + \"' message: \", msg);\n",
       "                callback(fig, msg);\n",
       "            } catch (e) {\n",
       "                console.log(\n",
       "                    \"Exception inside the 'handler_\" + msg_type + \"' callback:\",\n",
       "                    e,\n",
       "                    e.stack,\n",
       "                    msg\n",
       "                );\n",
       "            }\n",
       "        }\n",
       "    };\n",
       "};\n",
       "\n",
       "// from http://stackoverflow.com/questions/1114465/getting-mouse-location-in-canvas\n",
       "mpl.findpos = function (e) {\n",
       "    //this section is from http://www.quirksmode.org/js/events_properties.html\n",
       "    var targ;\n",
       "    if (!e) {\n",
       "        e = window.event;\n",
       "    }\n",
       "    if (e.target) {\n",
       "        targ = e.target;\n",
       "    } else if (e.srcElement) {\n",
       "        targ = e.srcElement;\n",
       "    }\n",
       "    if (targ.nodeType === 3) {\n",
       "        // defeat Safari bug\n",
       "        targ = targ.parentNode;\n",
       "    }\n",
       "\n",
       "    // pageX,Y are the mouse positions relative to the document\n",
       "    var boundingRect = targ.getBoundingClientRect();\n",
       "    var x = e.pageX - (boundingRect.left + document.body.scrollLeft);\n",
       "    var y = e.pageY - (boundingRect.top + document.body.scrollTop);\n",
       "\n",
       "    return { x: x, y: y };\n",
       "};\n",
       "\n",
       "/*\n",
       " * return a copy of an object with only non-object keys\n",
       " * we need this to avoid circular references\n",
       " * http://stackoverflow.com/a/24161582/3208463\n",
       " */\n",
       "function simpleKeys(original) {\n",
       "    return Object.keys(original).reduce(function (obj, key) {\n",
       "        if (typeof original[key] !== 'object') {\n",
       "            obj[key] = original[key];\n",
       "        }\n",
       "        return obj;\n",
       "    }, {});\n",
       "}\n",
       "\n",
       "mpl.figure.prototype.mouse_event = function (event, name) {\n",
       "    var canvas_pos = mpl.findpos(event);\n",
       "\n",
       "    if (name === 'button_press') {\n",
       "        this.canvas.focus();\n",
       "        this.canvas_div.focus();\n",
       "    }\n",
       "\n",
       "    var x = canvas_pos.x * this.ratio;\n",
       "    var y = canvas_pos.y * this.ratio;\n",
       "\n",
       "    this.send_message(name, {\n",
       "        x: x,\n",
       "        y: y,\n",
       "        button: event.button,\n",
       "        step: event.step,\n",
       "        guiEvent: simpleKeys(event),\n",
       "    });\n",
       "\n",
       "    /* This prevents the web browser from automatically changing to\n",
       "     * the text insertion cursor when the button is pressed.  We want\n",
       "     * to control all of the cursor setting manually through the\n",
       "     * 'cursor' event from matplotlib */\n",
       "    event.preventDefault();\n",
       "    return false;\n",
       "};\n",
       "\n",
       "mpl.figure.prototype._key_event_extra = function (_event, _name) {\n",
       "    // Handle any extra behaviour associated with a key event\n",
       "};\n",
       "\n",
       "mpl.figure.prototype.key_event = function (event, name) {\n",
       "    // Prevent repeat events\n",
       "    if (name === 'key_press') {\n",
       "        if (event.which === this._key) {\n",
       "            return;\n",
       "        } else {\n",
       "            this._key = event.which;\n",
       "        }\n",
       "    }\n",
       "    if (name === 'key_release') {\n",
       "        this._key = null;\n",
       "    }\n",
       "\n",
       "    var value = '';\n",
       "    if (event.ctrlKey && event.which !== 17) {\n",
       "        value += 'ctrl+';\n",
       "    }\n",
       "    if (event.altKey && event.which !== 18) {\n",
       "        value += 'alt+';\n",
       "    }\n",
       "    if (event.shiftKey && event.which !== 16) {\n",
       "        value += 'shift+';\n",
       "    }\n",
       "\n",
       "    value += 'k';\n",
       "    value += event.which.toString();\n",
       "\n",
       "    this._key_event_extra(event, name);\n",
       "\n",
       "    this.send_message(name, { key: value, guiEvent: simpleKeys(event) });\n",
       "    return false;\n",
       "};\n",
       "\n",
       "mpl.figure.prototype.toolbar_button_onclick = function (name) {\n",
       "    if (name === 'download') {\n",
       "        this.handle_save(this, null);\n",
       "    } else {\n",
       "        this.send_message('toolbar_button', { name: name });\n",
       "    }\n",
       "};\n",
       "\n",
       "mpl.figure.prototype.toolbar_button_onmouseover = function (tooltip) {\n",
       "    this.message.textContent = tooltip;\n",
       "};\n",
       "\n",
       "///////////////// REMAINING CONTENT GENERATED BY embed_js.py /////////////////\n",
       "// prettier-ignore\n",
       "var _JSXTOOLS_RESIZE_OBSERVER=function(A){var t,i=new WeakMap,n=new WeakMap,a=new WeakMap,r=new WeakMap,o=new Set;function s(e){if(!(this instanceof s))throw new TypeError(\"Constructor requires 'new' operator\");i.set(this,e)}function h(){throw new TypeError(\"Function is not a constructor\")}function c(e,t,i,n){e=0 in arguments?Number(arguments[0]):0,t=1 in arguments?Number(arguments[1]):0,i=2 in arguments?Number(arguments[2]):0,n=3 in arguments?Number(arguments[3]):0,this.right=(this.x=this.left=e)+(this.width=i),this.bottom=(this.y=this.top=t)+(this.height=n),Object.freeze(this)}function d(){t=requestAnimationFrame(d);var s=new WeakMap,p=new Set;o.forEach((function(t){r.get(t).forEach((function(i){var r=t instanceof window.SVGElement,o=a.get(t),d=r?0:parseFloat(o.paddingTop),f=r?0:parseFloat(o.paddingRight),l=r?0:parseFloat(o.paddingBottom),u=r?0:parseFloat(o.paddingLeft),g=r?0:parseFloat(o.borderTopWidth),m=r?0:parseFloat(o.borderRightWidth),w=r?0:parseFloat(o.borderBottomWidth),b=u+f,F=d+l,v=(r?0:parseFloat(o.borderLeftWidth))+m,W=g+w,y=r?0:t.offsetHeight-W-t.clientHeight,E=r?0:t.offsetWidth-v-t.clientWidth,R=b+v,z=F+W,M=r?t.width:parseFloat(o.width)-R-E,O=r?t.height:parseFloat(o.height)-z-y;if(n.has(t)){var k=n.get(t);if(k[0]===M&&k[1]===O)return}n.set(t,[M,O]);var S=Object.create(h.prototype);S.target=t,S.contentRect=new c(u,d,M,O),s.has(i)||(s.set(i,[]),p.add(i)),s.get(i).push(S)}))})),p.forEach((function(e){i.get(e).call(e,s.get(e),e)}))}return s.prototype.observe=function(i){if(i instanceof window.Element){r.has(i)||(r.set(i,new Set),o.add(i),a.set(i,window.getComputedStyle(i)));var n=r.get(i);n.has(this)||n.add(this),cancelAnimationFrame(t),t=requestAnimationFrame(d)}},s.prototype.unobserve=function(i){if(i instanceof window.Element&&r.has(i)){var n=r.get(i);n.has(this)&&(n.delete(this),n.size||(r.delete(i),o.delete(i))),n.size||r.delete(i),o.size||cancelAnimationFrame(t)}},A.DOMRectReadOnly=c,A.ResizeObserver=s,A.ResizeObserverEntry=h,A}; // eslint-disable-line\n",
       "mpl.toolbar_items = [[\"Home\", \"Reset original view\", \"fa fa-home icon-home\", \"home\"], [\"Back\", \"Back to previous view\", \"fa fa-arrow-left icon-arrow-left\", \"back\"], [\"Forward\", \"Forward to next view\", \"fa fa-arrow-right icon-arrow-right\", \"forward\"], [\"\", \"\", \"\", \"\"], [\"Pan\", \"Left button pans, Right button zooms\\nx/y fixes axis, CTRL fixes aspect\", \"fa fa-arrows icon-move\", \"pan\"], [\"Zoom\", \"Zoom to rectangle\\nx/y fixes axis, CTRL fixes aspect\", \"fa fa-square-o icon-check-empty\", \"zoom\"], [\"\", \"\", \"\", \"\"], [\"Download\", \"Download plot\", \"fa fa-floppy-o icon-save\", \"download\"]];\n",
       "\n",
       "mpl.extensions = [\"eps\", \"jpeg\", \"pdf\", \"png\", \"ps\", \"raw\", \"svg\", \"tif\"];\n",
       "\n",
       "mpl.default_extension = \"png\";/* global mpl */\n",
       "\n",
       "var comm_websocket_adapter = function (comm) {\n",
       "    // Create a \"websocket\"-like object which calls the given IPython comm\n",
       "    // object with the appropriate methods. Currently this is a non binary\n",
       "    // socket, so there is still some room for performance tuning.\n",
       "    var ws = {};\n",
       "\n",
       "    ws.close = function () {\n",
       "        comm.close();\n",
       "    };\n",
       "    ws.send = function (m) {\n",
       "        //console.log('sending', m);\n",
       "        comm.send(m);\n",
       "    };\n",
       "    // Register the callback with on_msg.\n",
       "    comm.on_msg(function (msg) {\n",
       "        //console.log('receiving', msg['content']['data'], msg);\n",
       "        // Pass the mpl event to the overridden (by mpl) onmessage function.\n",
       "        ws.onmessage(msg['content']['data']);\n",
       "    });\n",
       "    return ws;\n",
       "};\n",
       "\n",
       "mpl.mpl_figure_comm = function (comm, msg) {\n",
       "    // This is the function which gets called when the mpl process\n",
       "    // starts-up an IPython Comm through the \"matplotlib\" channel.\n",
       "\n",
       "    var id = msg.content.data.id;\n",
       "    // Get hold of the div created by the display call when the Comm\n",
       "    // socket was opened in Python.\n",
       "    var element = document.getElementById(id);\n",
       "    var ws_proxy = comm_websocket_adapter(comm);\n",
       "\n",
       "    function ondownload(figure, _format) {\n",
       "        window.open(figure.canvas.toDataURL());\n",
       "    }\n",
       "\n",
       "    var fig = new mpl.figure(id, ws_proxy, ondownload, element);\n",
       "\n",
       "    // Call onopen now - mpl needs it, as it is assuming we've passed it a real\n",
       "    // web socket which is closed, not our websocket->open comm proxy.\n",
       "    ws_proxy.onopen();\n",
       "\n",
       "    fig.parent_element = element;\n",
       "    fig.cell_info = mpl.find_output_cell(\"<div id='\" + id + \"'></div>\");\n",
       "    if (!fig.cell_info) {\n",
       "        console.error('Failed to find cell for figure', id, fig);\n",
       "        return;\n",
       "    }\n",
       "    fig.cell_info[0].output_area.element.on(\n",
       "        'cleared',\n",
       "        { fig: fig },\n",
       "        fig._remove_fig_handler\n",
       "    );\n",
       "};\n",
       "\n",
       "mpl.figure.prototype.handle_close = function (fig, msg) {\n",
       "    var width = fig.canvas.width / fig.ratio;\n",
       "    fig.cell_info[0].output_area.element.off(\n",
       "        'cleared',\n",
       "        fig._remove_fig_handler\n",
       "    );\n",
       "    fig.resizeObserverInstance.unobserve(fig.canvas_div);\n",
       "\n",
       "    // Update the output cell to use the data from the current canvas.\n",
       "    fig.push_to_output();\n",
       "    var dataURL = fig.canvas.toDataURL();\n",
       "    // Re-enable the keyboard manager in IPython - without this line, in FF,\n",
       "    // the notebook keyboard shortcuts fail.\n",
       "    IPython.keyboard_manager.enable();\n",
       "    fig.parent_element.innerHTML =\n",
       "        '<img src=\"' + dataURL + '\" width=\"' + width + '\">';\n",
       "    fig.close_ws(fig, msg);\n",
       "};\n",
       "\n",
       "mpl.figure.prototype.close_ws = function (fig, msg) {\n",
       "    fig.send_message('closing', msg);\n",
       "    // fig.ws.close()\n",
       "};\n",
       "\n",
       "mpl.figure.prototype.push_to_output = function (_remove_interactive) {\n",
       "    // Turn the data on the canvas into data in the output cell.\n",
       "    var width = this.canvas.width / this.ratio;\n",
       "    var dataURL = this.canvas.toDataURL();\n",
       "    this.cell_info[1]['text/html'] =\n",
       "        '<img src=\"' + dataURL + '\" width=\"' + width + '\">';\n",
       "};\n",
       "\n",
       "mpl.figure.prototype.updated_canvas_event = function () {\n",
       "    // Tell IPython that the notebook contents must change.\n",
       "    IPython.notebook.set_dirty(true);\n",
       "    this.send_message('ack', {});\n",
       "    var fig = this;\n",
       "    // Wait a second, then push the new image to the DOM so\n",
       "    // that it is saved nicely (might be nice to debounce this).\n",
       "    setTimeout(function () {\n",
       "        fig.push_to_output();\n",
       "    }, 1000);\n",
       "};\n",
       "\n",
       "mpl.figure.prototype._init_toolbar = function () {\n",
       "    var fig = this;\n",
       "\n",
       "    var toolbar = document.createElement('div');\n",
       "    toolbar.classList = 'btn-toolbar';\n",
       "    this.root.appendChild(toolbar);\n",
       "\n",
       "    function on_click_closure(name) {\n",
       "        return function (_event) {\n",
       "            return fig.toolbar_button_onclick(name);\n",
       "        };\n",
       "    }\n",
       "\n",
       "    function on_mouseover_closure(tooltip) {\n",
       "        return function (event) {\n",
       "            if (!event.currentTarget.disabled) {\n",
       "                return fig.toolbar_button_onmouseover(tooltip);\n",
       "            }\n",
       "        };\n",
       "    }\n",
       "\n",
       "    fig.buttons = {};\n",
       "    var buttonGroup = document.createElement('div');\n",
       "    buttonGroup.classList = 'btn-group';\n",
       "    var button;\n",
       "    for (var toolbar_ind in mpl.toolbar_items) {\n",
       "        var name = mpl.toolbar_items[toolbar_ind][0];\n",
       "        var tooltip = mpl.toolbar_items[toolbar_ind][1];\n",
       "        var image = mpl.toolbar_items[toolbar_ind][2];\n",
       "        var method_name = mpl.toolbar_items[toolbar_ind][3];\n",
       "\n",
       "        if (!name) {\n",
       "            /* Instead of a spacer, we start a new button group. */\n",
       "            if (buttonGroup.hasChildNodes()) {\n",
       "                toolbar.appendChild(buttonGroup);\n",
       "            }\n",
       "            buttonGroup = document.createElement('div');\n",
       "            buttonGroup.classList = 'btn-group';\n",
       "            continue;\n",
       "        }\n",
       "\n",
       "        button = fig.buttons[name] = document.createElement('button');\n",
       "        button.classList = 'btn btn-default';\n",
       "        button.href = '#';\n",
       "        button.title = name;\n",
       "        button.innerHTML = '<i class=\"fa ' + image + ' fa-lg\"></i>';\n",
       "        button.addEventListener('click', on_click_closure(method_name));\n",
       "        button.addEventListener('mouseover', on_mouseover_closure(tooltip));\n",
       "        buttonGroup.appendChild(button);\n",
       "    }\n",
       "\n",
       "    if (buttonGroup.hasChildNodes()) {\n",
       "        toolbar.appendChild(buttonGroup);\n",
       "    }\n",
       "\n",
       "    // Add the status bar.\n",
       "    var status_bar = document.createElement('span');\n",
       "    status_bar.classList = 'mpl-message pull-right';\n",
       "    toolbar.appendChild(status_bar);\n",
       "    this.message = status_bar;\n",
       "\n",
       "    // Add the close button to the window.\n",
       "    var buttongrp = document.createElement('div');\n",
       "    buttongrp.classList = 'btn-group inline pull-right';\n",
       "    button = document.createElement('button');\n",
       "    button.classList = 'btn btn-mini btn-primary';\n",
       "    button.href = '#';\n",
       "    button.title = 'Stop Interaction';\n",
       "    button.innerHTML = '<i class=\"fa fa-power-off icon-remove icon-large\"></i>';\n",
       "    button.addEventListener('click', function (_evt) {\n",
       "        fig.handle_close(fig, {});\n",
       "    });\n",
       "    button.addEventListener(\n",
       "        'mouseover',\n",
       "        on_mouseover_closure('Stop Interaction')\n",
       "    );\n",
       "    buttongrp.appendChild(button);\n",
       "    var titlebar = this.root.querySelector('.ui-dialog-titlebar');\n",
       "    titlebar.insertBefore(buttongrp, titlebar.firstChild);\n",
       "};\n",
       "\n",
       "mpl.figure.prototype._remove_fig_handler = function (event) {\n",
       "    var fig = event.data.fig;\n",
       "    if (event.target !== this) {\n",
       "        // Ignore bubbled events from children.\n",
       "        return;\n",
       "    }\n",
       "    fig.close_ws(fig, {});\n",
       "};\n",
       "\n",
       "mpl.figure.prototype._root_extra_style = function (el) {\n",
       "    el.style.boxSizing = 'content-box'; // override notebook setting of border-box.\n",
       "};\n",
       "\n",
       "mpl.figure.prototype._canvas_extra_style = function (el) {\n",
       "    // this is important to make the div 'focusable\n",
       "    el.setAttribute('tabindex', 0);\n",
       "    // reach out to IPython and tell the keyboard manager to turn it's self\n",
       "    // off when our div gets focus\n",
       "\n",
       "    // location in version 3\n",
       "    if (IPython.notebook.keyboard_manager) {\n",
       "        IPython.notebook.keyboard_manager.register_events(el);\n",
       "    } else {\n",
       "        // location in version 2\n",
       "        IPython.keyboard_manager.register_events(el);\n",
       "    }\n",
       "};\n",
       "\n",
       "mpl.figure.prototype._key_event_extra = function (event, _name) {\n",
       "    var manager = IPython.notebook.keyboard_manager;\n",
       "    if (!manager) {\n",
       "        manager = IPython.keyboard_manager;\n",
       "    }\n",
       "\n",
       "    // Check for shift+enter\n",
       "    if (event.shiftKey && event.which === 13) {\n",
       "        this.canvas_div.blur();\n",
       "        // select the cell after this one\n",
       "        var index = IPython.notebook.find_cell_index(this.cell_info[0]);\n",
       "        IPython.notebook.select(index + 1);\n",
       "    }\n",
       "};\n",
       "\n",
       "mpl.figure.prototype.handle_save = function (fig, _msg) {\n",
       "    fig.ondownload(fig, null);\n",
       "};\n",
       "\n",
       "mpl.find_output_cell = function (html_output) {\n",
       "    // Return the cell and output element which can be found *uniquely* in the notebook.\n",
       "    // Note - this is a bit hacky, but it is done because the \"notebook_saving.Notebook\"\n",
       "    // IPython event is triggered only after the cells have been serialised, which for\n",
       "    // our purposes (turning an active figure into a static one), is too late.\n",
       "    var cells = IPython.notebook.get_cells();\n",
       "    var ncells = cells.length;\n",
       "    for (var i = 0; i < ncells; i++) {\n",
       "        var cell = cells[i];\n",
       "        if (cell.cell_type === 'code') {\n",
       "            for (var j = 0; j < cell.output_area.outputs.length; j++) {\n",
       "                var data = cell.output_area.outputs[j];\n",
       "                if (data.data) {\n",
       "                    // IPython >= 3 moved mimebundle to data attribute of output\n",
       "                    data = data.data;\n",
       "                }\n",
       "                if (data['text/html'] === html_output) {\n",
       "                    return [cell, data, j];\n",
       "                }\n",
       "            }\n",
       "        }\n",
       "    }\n",
       "};\n",
       "\n",
       "// Register the function which deals with the matplotlib target/channel.\n",
       "// The kernel may be null if the page has been refreshed.\n",
       "if (IPython.notebook.kernel !== null) {\n",
       "    IPython.notebook.kernel.comm_manager.register_target(\n",
       "        'matplotlib',\n",
       "        mpl.mpl_figure_comm\n",
       "    );\n",
       "}\n"
      ],
      "text/plain": [
       "<IPython.core.display.Javascript object>"
      ]
     },
     "metadata": {},
     "output_type": "display_data"
    },
    {
     "data": {
      "text/html": [
       "<img src=\"data:image/png;base64,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\" width=\"936\">"
      ],
      "text/plain": [
       "<IPython.core.display.HTML object>"
      ]
     },
     "metadata": {},
     "output_type": "display_data"
    }
   ],
   "source": [
    "%matplotlib notebook\n",
    "\n",
    "idx = 0\n",
    "\n",
    "plt.figure(figsize=(13, 18))\n",
    "\n",
    "ax_d = plt.subplot(421)\n",
    "ax_d.scatter(y[:,0], output[:,0], c='red', marker='.')\n",
    "ax_d.set_xlabel('d real')\n",
    "ax_d.set_ylabel('d pred')\n",
    "\n",
    "ax_t = plt.subplot(422)\n",
    "ax_t.scatter(y[:,1], output[:,1], c='red', marker='.')\n",
    "ax_t.set_xlabel('theta real')\n",
    "ax_t.set_ylabel('theta pred')\n",
    "\n",
    "ax_h = plt.subplot(423)\n",
    "ax_h.scatter(y[:,2], output[:,2], c='red', marker='.')\n",
    "ax_h.set_xlabel('h real')\n",
    "ax_h.set_ylabel('h pred')\n",
    "\n",
    "ax_p = plt.subplot(424)\n",
    "ax_p.scatter(y[:,3], output[:,3], c='red', marker='.')\n",
    "ax_p.set_xlabel('phi real')\n",
    "ax_p.set_ylabel('phi pred')\n",
    "\n",
    "ax_lt = plt.subplot(425)\n",
    "ax_lt.scatter(y[:,4], output[:,4], c='red', marker='.')\n",
    "ax_lt.set_xlabel('soma radius real')\n",
    "ax_lt.set_ylabel('soma radius pred')\n",
    "\n",
    "ax_lt = plt.subplot(426)\n",
    "ax_lt.scatter(y[:,5], output[:,5], c='red', marker='.')\n",
    "ax_lt.set_xlabel('trunk length real')\n",
    "ax_lt.set_ylabel('trunk length pred')\n",
    "\n",
    "ax_lt = plt.subplot(427)\n",
    "ax_lt.scatter(y[:,6], output[:,6], c='red', marker='.')\n",
    "ax_lt.set_xlabel('trunk radius real')\n",
    "ax_lt.set_ylabel('trunk radius pred')\n",
    "\n",
    "\n",
    "plt.show()"
   ]
  },
  {
   "cell_type": "code",
   "execution_count": 64,
   "metadata": {},
   "outputs": [
    {
     "name": "stdout",
     "output_type": "stream",
     "text": [
      "Keys: <KeysViewHDF5 ['coord', 'data', 'fs', 'grid']>\n",
      "(384, 2)\n",
      "(121, 384)\n"
     ]
    }
   ],
   "source": [
    "DATA_PATH = 'cell_inference/resources/invivo'\n",
    "\n",
    "INVIVO_PATH = os.path.join(DATA_PATH, 'cell377LFP2D.h5')\n",
    "\n",
    "with h5py.File(INVIVO_PATH, \"r\") as f:\n",
    "    # List all groups\n",
    "    print(\"Keys: %s\" % f.keys())\n",
    "    print(f['coord'][:].shape)\n",
    "    print(f['data'][:].shape)\n",
    "    a_group_key = list(f.keys())[0]\n",
    "\n",
    "    # Get the data\n",
    "    test_data = f['data'][:]"
   ]
  },
  {
   "cell_type": "code",
   "execution_count": 65,
   "metadata": {},
   "outputs": [
    {
     "name": "stdout",
     "output_type": "stream",
     "text": [
      "(384, 2)\n",
      "(384,)\n",
      "(40,)\n",
      "torch.Size([1, 40])\n",
      "[[ 275.9035       0.8141686    0.5374603  -12.04729     15.851087\n",
      "  1911.1051       1.1375659]]\n"
     ]
    }
   ],
   "source": [
    "np.set_printoptions(suppress=True)\n",
    "\n",
    "print(params.ELECTRODE_POSITION[:, :2].shape)\n",
    "print(test_data[i, :].shape)\n",
    "\n",
    "# g_lfp, _ = build_lfp_grid(test_data, params.ELECTRODE_POSITION)\n",
    "summ_stats = np.array(calculate_stats(test_data))\n",
    "print(summ_stats.shape)\n",
    "\n",
    "model1.eval()\n",
    "summ_stats = torch.Tensor(np.expand_dims(summ_stats, axis=0))\n",
    "print(summ_stats.shape)\n",
    "summ_stats_tensor = summ_stats.to(device)\n",
    "pred = model1(summ_stats_tensor)\n",
    "pred = pred.to(\"cpu\").detach().numpy()\n",
    "\n",
    "if normalize_labels:\n",
    "    for i in range(pred.shape[1]):\n",
    "        old_pred = pred[:,i]\n",
    "        label_name = inference_list[i]\n",
    "        min_max_range = ranges[label_name]\n",
    "        org_pred = (((old_pred - feature_range[0]) / (feature_range[1] - feature_range[0])) \n",
    "                    * (min_max_range[1] - min_max_range[0]) + min_max_range[0])\n",
    "        pred[:,i] = org_pred\n",
    "print(pred)"
   ]
  },
  {
   "cell_type": "code",
   "execution_count": 66,
   "metadata": {},
   "outputs": [
    {
     "name": "stdout",
     "output_type": "stream",
     "text": [
      "(121, 384)\n",
      "(384,)\n",
      "(95,)\n",
      "(121,)\n"
     ]
    },
    {
     "data": {
      "image/png": "[encoded data removed]",
      "text/plain": [
       "<Figure size 432x288 with 2 Axes>"
      ]
     },
     "metadata": {
      "needs_background": "light"
     },
     "output_type": "display_data"
    }
   ],
   "source": [
    "%matplotlib inline\n",
    "\n",
    "cell_idx = 0\n",
    "\n",
    "t = np.arange(test_data.shape[0])\n",
    "print(test_data.shape)\n",
    "\n",
    "ix = 1\n",
    "ylim = [-1900,1900]\n",
    "x_dist = np.unique(params.ELECTRODE_POSITION[:,0])\n",
    "e_idx = ((params.ELECTRODE_POSITION[:,0]==x_dist[ix]) & \n",
    "         (params.ELECTRODE_POSITION[:,1]>=ylim[0]) & \n",
    "         (params.ELECTRODE_POSITION[:,1]<=ylim[1]))\n",
    "\n",
    "print(e_idx.shape)\n",
    "print(params.ELECTRODE_POSITION[e_idx, 1].shape)\n",
    "print(t.shape)\n",
    "\n",
    "_ = plot_lfp_heatmap(t,\n",
    "                     params.ELECTRODE_POSITION[e_idx, 1],\n",
    "                     test_data[:,e_idx], vlim='auto',\n",
    "                     fontsize=15,labelpad=0,ticksize=10,nbins=5)"
   ]
  },
  {
   "cell_type": "code",
   "execution_count": null,
   "metadata": {},
   "outputs": [],
   "source": []
  }
 ],
 "metadata": {
  "kernelspec": {
   "display_name": "Python 3",
   "language": "python",
   "name": "python3"
  },
  "language_info": {
   "codemirror_mode": {
    "name": "ipython",
    "version": 3
   },
   "file_extension": ".py",
   "mimetype": "text/x-python",
   "name": "python",
   "nbconvert_exporter": "python",
   "pygments_lexer": "ipython3",
   "version": "3.8.10"
  }
 },
 "nbformat": 4,
 "nbformat_minor": 4
}
