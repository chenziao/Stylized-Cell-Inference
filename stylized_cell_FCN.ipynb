{
 "cells": [
  {
   "cell_type": "code",
   "execution_count": 1,
   "metadata": {},
   "outputs": [],
   "source": [
    "%matplotlib inline\n",
    "\n",
    "\n",
    "from neuron import h\n",
    "import pandas as pd\n",
    "import numpy as np\n",
    "import matplotlib.pyplot as plt\n",
    "from scipy import signal\n",
    "import h5py\n",
    "import os\n",
    "\n",
    "from cell_inference.utils.plotting.plot_results import plot_lfp_traces, plot_lfp_heatmap\n",
    "from cell_inference.utils.feature_extractors.SummaryStats2D import calculate_stats, build_lfp_grid\n",
    "from cell_inference.cells.stylizedcell import CellTypes\n",
    "from cell_inference.cells.activecell import ActiveCell\n",
    "from cell_inference.cells.passivecell import PassiveCell\n",
    "from cell_inference.cells.simulation import Simulation\n",
    "from cell_inference.utils.currents.recorder import Recorder\n",
    "from cell_inference.config import paths, params\n",
    "from cell_inference.utils.feature_extractors.parameterprediction import ClassifierTypes, ClassifierBuilder\n",
    "\n",
    "cell_type = CellTypes.ACTIVE\n",
    "\n",
    "h.nrn_load_dll(paths.COMPILED_LIBRARY)\n",
    "geo_standard = pd.read_csv(paths.GEO_STANDARD,index_col='id')\n",
    "h.tstop = params.TSTOP\n",
    "h.dt = params.DT"
   ]
  },
  {
   "cell_type": "code",
   "execution_count": 2,
   "metadata": {},
   "outputs": [
    {
     "name": "stdout",
     "output_type": "stream",
     "text": [
      "(5000, 176, 384)\n",
      "(5000, 8)\n"
     ]
    }
   ],
   "source": [
    "from cell_inference.utils.transform.geometry_transformation import hphi2unitsphere\n",
    "\n",
    "\n",
    "DATA_PATH = 'cell_inference/resources/simulation_data'\n",
    "TRIAL_PATH = os.path.join(DATA_PATH, '5000s_Loc1y2Alt_Ori2_Geo3_params')\n",
    "\n",
    "LFP_PATH = os.path.join(TRIAL_PATH, 'lfp.npz')  # LFP and labels\n",
    "\n",
    "lfp   = np.load(LFP_PATH)['x']\n",
    "print(lfp.shape)\n",
    "labels = np.load(LFP_PATH)['y']\n",
    "print(labels.shape)"
   ]
  },
  {
   "cell_type": "code",
   "execution_count": 3,
   "metadata": {},
   "outputs": [
    {
     "data": {
      "application/vnd.jupyter.widget-view+json": {
       "model_id": "0f66d0f412d54075813d471c45eeb3e3",
       "version_major": 2,
       "version_minor": 0
      },
      "text/plain": [
       "  0%|          | 0/5000 [00:00<?, ?it/s]"
      ]
     },
     "metadata": {},
     "output_type": "display_data"
    }
   ],
   "source": [
    "from tqdm.notebook import tqdm\n",
    "\n",
    "summ_stats = []\n",
    "for i in tqdm(range(lfp.shape[0])):\n",
    "    g_lfp, _ = build_lfp_grid(lfp[i], params.ELECTRODE_POSITION)\n",
    "    summ_stats.append(calculate_stats(g_lfp))\n",
    "summ_stats = np.array(summ_stats)"
   ]
  },
  {
   "cell_type": "markdown",
   "metadata": {},
   "source": [
    "If the user sends h and phi parameters and wants the model to learn directional vectors for orientation, enable this code block"
   ]
  },
  {
   "cell_type": "code",
   "execution_count": 4,
   "metadata": {},
   "outputs": [],
   "source": [
    "convert_hphi_to_dv = False\n",
    "\n",
    "if convert_hphi_to_dv:\n",
    "#     hphi_labels = labels\n",
    "    dv = hphi2unitsphere(labels)\n",
    "    dvx, dvy, dvz = tuple(np.hsplit(dv, 3))\n",
    "    labels = np.concatenate((dvx, dvy, dvz), axis=1)\n",
    "    print(labels.shape)"
   ]
  },
  {
   "cell_type": "code",
   "execution_count": 5,
   "metadata": {},
   "outputs": [
    {
     "name": "stdout",
     "output_type": "stream",
     "text": [
      "['y', 'd', 'theta', 'h', 'phi', 'r_s', 'l_t', 'r_t']\n",
      "[[-0.28243172 -0.54532796  0.26417643 ...  0.33010416 -0.40066101\n",
      "   0.90986501]\n",
      " [ 0.00373346 -0.36648332 -0.11219416 ... -0.44178461  0.96102158\n",
      "   0.3522956 ]\n",
      " [ 0.23562039  0.59473091 -0.17367867 ... -0.86911191 -0.52298181\n",
      "  -0.95374107]\n",
      " ...\n",
      " [-0.95748326  0.36562874  0.12357903 ...  0.84211417 -0.05363294\n",
      "   0.21249587]\n",
      " [ 0.14642616  0.25605996  0.30858309 ... -0.29179869 -0.47761528\n",
      "   0.65440072]\n",
      " [ 0.10138561 -0.86443862  0.28912198 ... -0.71510536  0.48503193\n",
      "   0.79542243]]\n"
     ]
    }
   ],
   "source": [
    "import json\n",
    "\n",
    "CONFIG_PATH = os.path.join(TRIAL_PATH, 'config.json')\n",
    "\n",
    "with open(CONFIG_PATH, 'r') as f:\n",
    "    config = json.load(f)\n",
    "\n",
    "inference_list = config['Trial_Parameters']['inference_list']\n",
    "print(inference_list)\n",
    "ranges = config['Simulation_Parameters']['loc_param_range']\n",
    "ranges.update(config['Simulation_Parameters']['geo_param_range'])\n",
    "feature_range = (-1, 1)\n",
    "\n",
    "normalize_labels = True\n",
    "\n",
    "if normalize_labels:\n",
    "    for i in range(labels.shape[1]):\n",
    "        label = labels[:,i]\n",
    "        label_name = inference_list[i]\n",
    "        min_max_range = ranges[label_name]\n",
    "        x_std = (label - min_max_range[0]) / (min_max_range[1] - min_max_range[0])\n",
    "        x_scaled = x_std * (feature_range[1] - feature_range[0]) + feature_range[0]\n",
    "        labels[:,i] = x_scaled\n",
    "    print(labels)"
   ]
  },
  {
   "cell_type": "code",
   "execution_count": 6,
   "metadata": {},
   "outputs": [
    {
     "name": "stdout",
     "output_type": "stream",
     "text": [
      "(5000, 40)\n"
     ]
    }
   ],
   "source": [
    "from cell_inference.utils.feature_extractors.helperfunctions import train_regression, build_dataloader_from_numpy\n",
    "\n",
    "data = summ_stats\n",
    "print(data.shape)\n",
    "\n",
    "train_loader, test_loader = build_dataloader_from_numpy(input_arr=data, labels_arr=labels, batch_size=2)"
   ]
  },
  {
   "cell_type": "code",
   "execution_count": 8,
   "metadata": {},
   "outputs": [
    {
     "name": "stderr",
     "output_type": "stream",
     "text": [
      "  0%|          | 1/300 [00:03<15:17,  3.07s/it]"
     ]
    },
    {
     "name": "stdout",
     "output_type": "stream",
     "text": [
      "Training Loss: 493.78280640393496 Validation Loss: 152.07158990204334\n"
     ]
    },
    {
     "name": "stderr",
     "output_type": "stream",
     "text": [
      "  4%|▎         | 11/300 [00:33<14:47,  3.07s/it]"
     ]
    },
    {
     "name": "stdout",
     "output_type": "stream",
     "text": [
      "Training Loss: 339.83198561146855 Validation Loss: 117.57191783562303\n"
     ]
    },
    {
     "name": "stderr",
     "output_type": "stream",
     "text": [
      "  7%|▋         | 21/300 [01:05<15:28,  3.33s/it]"
     ]
    },
    {
     "name": "stdout",
     "output_type": "stream",
     "text": [
      "Training Loss: 325.3527965322137 Validation Loss: 117.09131883829832\n"
     ]
    },
    {
     "name": "stderr",
     "output_type": "stream",
     "text": [
      " 10%|█         | 31/300 [01:35<13:33,  3.02s/it]"
     ]
    },
    {
     "name": "stdout",
     "output_type": "stream",
     "text": [
      "Training Loss: 313.9931891039014 Validation Loss: 124.59817473590374\n"
     ]
    },
    {
     "name": "stderr",
     "output_type": "stream",
     "text": [
      " 14%|█▎        | 41/300 [02:10<16:14,  3.76s/it]"
     ]
    },
    {
     "name": "stdout",
     "output_type": "stream",
     "text": [
      "Training Loss: 287.99857709929347 Validation Loss: 118.87399642169476\n"
     ]
    },
    {
     "name": "stderr",
     "output_type": "stream",
     "text": [
      " 17%|█▋        | 51/300 [02:46<15:00,  3.62s/it]"
     ]
    },
    {
     "name": "stdout",
     "output_type": "stream",
     "text": [
      "Training Loss: 248.1579733788967 Validation Loss: 99.40374791994691\n"
     ]
    },
    {
     "name": "stderr",
     "output_type": "stream",
     "text": [
      " 20%|██        | 61/300 [03:23<14:27,  3.63s/it]"
     ]
    },
    {
     "name": "stdout",
     "output_type": "stream",
     "text": [
      "Training Loss: 221.51863724645227 Validation Loss: 95.97448242083192\n"
     ]
    },
    {
     "name": "stderr",
     "output_type": "stream",
     "text": [
      " 24%|██▎       | 71/300 [03:59<13:52,  3.64s/it]"
     ]
    },
    {
     "name": "stdout",
     "output_type": "stream",
     "text": [
      "Training Loss: 203.6010807864368 Validation Loss: 95.28932149335742\n"
     ]
    },
    {
     "name": "stderr",
     "output_type": "stream",
     "text": [
      " 27%|██▋       | 81/300 [04:35<13:16,  3.64s/it]"
     ]
    },
    {
     "name": "stdout",
     "output_type": "stream",
     "text": [
      "Training Loss: 190.69603830762208 Validation Loss: 93.74051998369396\n"
     ]
    },
    {
     "name": "stderr",
     "output_type": "stream",
     "text": [
      " 30%|███       | 91/300 [05:12<12:40,  3.64s/it]"
     ]
    },
    {
     "name": "stdout",
     "output_type": "stream",
     "text": [
      "Training Loss: 181.66244296729565 Validation Loss: 92.32882366329432\n"
     ]
    },
    {
     "name": "stderr",
     "output_type": "stream",
     "text": [
      " 34%|███▎      | 101/300 [05:48<12:03,  3.63s/it]"
     ]
    },
    {
     "name": "stdout",
     "output_type": "stream",
     "text": [
      "Training Loss: 172.57836583070457 Validation Loss: 94.57711174152792\n"
     ]
    },
    {
     "name": "stderr",
     "output_type": "stream",
     "text": [
      " 37%|███▋      | 111/300 [06:24<11:25,  3.63s/it]"
     ]
    },
    {
     "name": "stdout",
     "output_type": "stream",
     "text": [
      "Training Loss: 165.08849208801985 Validation Loss: 95.32831658236682\n"
     ]
    },
    {
     "name": "stderr",
     "output_type": "stream",
     "text": [
      " 40%|████      | 121/300 [07:01<10:49,  3.63s/it]"
     ]
    },
    {
     "name": "stdout",
     "output_type": "stream",
     "text": [
      "Training Loss: 161.64042673725635 Validation Loss: 96.05959295108914\n"
     ]
    },
    {
     "name": "stderr",
     "output_type": "stream",
     "text": [
      " 44%|████▎     | 131/300 [07:37<10:12,  3.62s/it]"
     ]
    },
    {
     "name": "stdout",
     "output_type": "stream",
     "text": [
      "Training Loss: 155.47731913812459 Validation Loss: 93.99815835058689\n"
     ]
    },
    {
     "name": "stderr",
     "output_type": "stream",
     "text": [
      " 47%|████▋     | 141/300 [08:13<09:36,  3.63s/it]"
     ]
    },
    {
     "name": "stdout",
     "output_type": "stream",
     "text": [
      "Training Loss: 149.63679371587932 Validation Loss: 98.31963284127414\n"
     ]
    },
    {
     "name": "stderr",
     "output_type": "stream",
     "text": [
      " 50%|█████     | 151/300 [08:49<08:59,  3.62s/it]"
     ]
    },
    {
     "name": "stdout",
     "output_type": "stream",
     "text": [
      "Training Loss: 144.05389625858516 Validation Loss: 96.90787822753191\n"
     ]
    },
    {
     "name": "stderr",
     "output_type": "stream",
     "text": [
      " 54%|█████▎    | 161/300 [09:25<08:23,  3.62s/it]"
     ]
    },
    {
     "name": "stdout",
     "output_type": "stream",
     "text": [
      "Training Loss: 142.03825497534126 Validation Loss: 98.24951703287661\n"
     ]
    },
    {
     "name": "stderr",
     "output_type": "stream",
     "text": [
      " 57%|█████▋    | 171/300 [10:02<07:47,  3.62s/it]"
     ]
    },
    {
     "name": "stdout",
     "output_type": "stream",
     "text": [
      "Training Loss: 136.9552348246798 Validation Loss: 100.07264092192054\n"
     ]
    },
    {
     "name": "stderr",
     "output_type": "stream",
     "text": [
      " 60%|██████    | 181/300 [10:38<07:11,  3.62s/it]"
     ]
    },
    {
     "name": "stdout",
     "output_type": "stream",
     "text": [
      "Training Loss: 133.28599653858691 Validation Loss: 99.78094321768731\n"
     ]
    },
    {
     "name": "stderr",
     "output_type": "stream",
     "text": [
      " 64%|██████▎   | 191/300 [11:14<06:34,  3.62s/it]"
     ]
    },
    {
     "name": "stdout",
     "output_type": "stream",
     "text": [
      "Training Loss: 130.9008293664083 Validation Loss: 101.22797579318285\n"
     ]
    },
    {
     "name": "stderr",
     "output_type": "stream",
     "text": [
      " 67%|██████▋   | 201/300 [11:50<05:58,  3.62s/it]"
     ]
    },
    {
     "name": "stdout",
     "output_type": "stream",
     "text": [
      "Training Loss: 127.59803843917325 Validation Loss: 101.98573792167008\n"
     ]
    },
    {
     "name": "stderr",
     "output_type": "stream",
     "text": [
      " 70%|███████   | 211/300 [12:27<05:22,  3.62s/it]"
     ]
    },
    {
     "name": "stdout",
     "output_type": "stream",
     "text": [
      "Training Loss: 124.61944305896759 Validation Loss: 103.0106167178601\n"
     ]
    },
    {
     "name": "stderr",
     "output_type": "stream",
     "text": [
      " 74%|███████▎  | 221/300 [13:03<04:46,  3.63s/it]"
     ]
    },
    {
     "name": "stdout",
     "output_type": "stream",
     "text": [
      "Training Loss: 122.35625647101551 Validation Loss: 103.81220130994916\n"
     ]
    },
    {
     "name": "stderr",
     "output_type": "stream",
     "text": [
      " 77%|███████▋  | 231/300 [13:39<04:10,  3.62s/it]"
     ]
    },
    {
     "name": "stdout",
     "output_type": "stream",
     "text": [
      "Training Loss: 120.92538237478584 Validation Loss: 103.21553475037217\n"
     ]
    },
    {
     "name": "stderr",
     "output_type": "stream",
     "text": [
      " 80%|████████  | 241/300 [14:15<03:33,  3.62s/it]"
     ]
    },
    {
     "name": "stdout",
     "output_type": "stream",
     "text": [
      "Training Loss: 119.19466742873192 Validation Loss: 104.76378415711224\n"
     ]
    },
    {
     "name": "stderr",
     "output_type": "stream",
     "text": [
      " 84%|████████▎ | 251/300 [14:52<02:57,  3.62s/it]"
     ]
    },
    {
     "name": "stdout",
     "output_type": "stream",
     "text": [
      "Training Loss: 117.17593406373635 Validation Loss: 107.74020978994668\n"
     ]
    },
    {
     "name": "stderr",
     "output_type": "stream",
     "text": [
      " 87%|████████▋ | 261/300 [15:28<02:21,  3.62s/it]"
     ]
    },
    {
     "name": "stdout",
     "output_type": "stream",
     "text": [
      "Training Loss: 115.97001906344667 Validation Loss: 108.90067847073078\n"
     ]
    },
    {
     "name": "stderr",
     "output_type": "stream",
     "text": [
      " 90%|█████████ | 271/300 [16:04<01:45,  3.62s/it]"
     ]
    },
    {
     "name": "stdout",
     "output_type": "stream",
     "text": [
      "Training Loss: 115.09067381406203 Validation Loss: 109.40038907900453\n"
     ]
    },
    {
     "name": "stderr",
     "output_type": "stream",
     "text": [
      " 94%|█████████▎| 281/300 [16:40<01:08,  3.62s/it]"
     ]
    },
    {
     "name": "stdout",
     "output_type": "stream",
     "text": [
      "Training Loss: 113.84353364724666 Validation Loss: 111.24586057662964\n"
     ]
    },
    {
     "name": "stderr",
     "output_type": "stream",
     "text": [
      " 97%|█████████▋| 291/300 [17:16<00:32,  3.62s/it]"
     ]
    },
    {
     "name": "stdout",
     "output_type": "stream",
     "text": [
      "Training Loss: 113.41110838856548 Validation Loss: 113.04684608988464\n"
     ]
    },
    {
     "name": "stderr",
     "output_type": "stream",
     "text": [
      "100%|██████████| 300/300 [17:49<00:00,  3.57s/it]\n"
     ]
    }
   ],
   "source": [
    "from cell_inference.utils.feature_extractors.fullyconnectednetwork import FullyConnectedNetwork, ActivationTypes\n",
    "from cell_inference.utils.feature_extractors.convolutionalnetwork import ConvolutionalNetwork\n",
    "import torch\n",
    "\n",
    "# model1 = ConvolutionalNetwork(in_channels=1, num_labels=2)\n",
    "# model1 = torch.load('cell_inference/resources/results/pytorch_models/16_23_59__01_04_2022.pt')\n",
    "model1 = FullyConnectedNetwork(in_features=40, out_features=8)\n",
    "\n",
    "device = torch.device(\"cpu\") #torch.device(\"cuda:0\" if torch.cuda.is_available() else \"cpu\")\n",
    "model1.to(device)\n",
    "\n",
    "train_regression(model1, train_loader, test_loader, 300, learning_rate=0.001, decay_rate=0.99, device=device)"
   ]
  },
  {
   "cell_type": "code",
   "execution_count": 9,
   "metadata": {},
   "outputs": [
    {
     "name": "stdout",
     "output_type": "stream",
     "text": [
      "R2: 0.4141127915660744\n",
      "(128, 8)\n",
      "(128, 8)\n"
     ]
    }
   ],
   "source": [
    "from sklearn.metrics import r2_score\n",
    "from cell_inference.utils.transform.geometry_transformation import hphi2unitsphere, unitsphere2hphi, trivarnorm2unitsphere\n",
    "\n",
    "train_loader, test_loader = build_dataloader_from_numpy(input_arr=data, labels_arr=labels, batch_size=128)\n",
    "\n",
    "x, y = next(iter(test_loader))\n",
    "model1.eval()\n",
    "x = x.to(device)\n",
    "output = model1(x)\n",
    "output = output.to(\"cpu\").detach().numpy()\n",
    "y = y.to(\"cpu\").detach().numpy()\n",
    "\n",
    "# h_out, phi_out = tuple(np.hsplit(unitsphere2hphi(trivarnorm2unitsphere(np.hstack((output[:,0], output[:,1], output[:,2])))),2))\n",
    "# h_lab, phi_lab = tuple(np.hsplit(unitsphere2hphi(trivarnorm2unitsphere(np.hstack((y[:,0], y[:,1], y[:,2])))),2))\n",
    "\n",
    "print(\"R2: {}\".format(r2_score(y, output)))\n",
    "\n",
    "# print(\"R2 h: {}\".format(r2_score(h_lab, h_out)))\n",
    "# print(\"R2 phi: {}\".format(r2_score(phi_lab, phi_out)))\n",
    "print(output.shape)\n",
    "print(y.shape)"
   ]
  },
  {
   "cell_type": "code",
   "execution_count": 10,
   "metadata": {},
   "outputs": [],
   "source": [
    "if normalize_labels:\n",
    "    for i in range(y.shape[1]):\n",
    "        old_y = y[:,i]\n",
    "        old_out = output[:,i]\n",
    "        label_name = inference_list[i]\n",
    "        min_max_range = ranges[label_name]\n",
    "        org_y = (((old_y - feature_range[0]) / (feature_range[1] - feature_range[0])) \n",
    "                    * (min_max_range[1] - min_max_range[0]) + min_max_range[0])\n",
    "        \n",
    "        org_out = (((old_out - feature_range[0]) / (feature_range[1] - feature_range[0])) \n",
    "                    * (min_max_range[1] - min_max_range[0]) + min_max_range[0])\n",
    "        y[:,i] = org_y\n",
    "        output[:,i] = org_out"
   ]
  },
  {
   "cell_type": "code",
   "execution_count": 12,
   "metadata": {},
   "outputs": [
    {
     "data": {
      "application/javascript": [
       "/* Put everything inside the global mpl namespace */\n",
       "/* global mpl */\n",
       "window.mpl = {};\n",
       "\n",
       "mpl.get_websocket_type = function () {\n",
       "    if (typeof WebSocket !== 'undefined') {\n",
       "        return WebSocket;\n",
       "    } else if (typeof MozWebSocket !== 'undefined') {\n",
       "        return MozWebSocket;\n",
       "    } else {\n",
       "        alert(\n",
       "            'Your browser does not have WebSocket support. ' +\n",
       "                'Please try Chrome, Safari or Firefox ≥ 6. ' +\n",
       "                'Firefox 4 and 5 are also supported but you ' +\n",
       "                'have to enable WebSockets in about:config.'\n",
       "        );\n",
       "    }\n",
       "};\n",
       "\n",
       "mpl.figure = function (figure_id, websocket, ondownload, parent_element) {\n",
       "    this.id = figure_id;\n",
       "\n",
       "    this.ws = websocket;\n",
       "\n",
       "    this.supports_binary = this.ws.binaryType !== undefined;\n",
       "\n",
       "    if (!this.supports_binary) {\n",
       "        var warnings = document.getElementById('mpl-warnings');\n",
       "        if (warnings) {\n",
       "            warnings.style.display = 'block';\n",
       "            warnings.textContent =\n",
       "                'This browser does not support binary websocket messages. ' +\n",
       "                'Performance may be slow.';\n",
       "        }\n",
       "    }\n",
       "\n",
       "    this.imageObj = new Image();\n",
       "\n",
       "    this.context = undefined;\n",
       "    this.message = undefined;\n",
       "    this.canvas = undefined;\n",
       "    this.rubberband_canvas = undefined;\n",
       "    this.rubberband_context = undefined;\n",
       "    this.format_dropdown = undefined;\n",
       "\n",
       "    this.image_mode = 'full';\n",
       "\n",
       "    this.root = document.createElement('div');\n",
       "    this.root.setAttribute('style', 'display: inline-block');\n",
       "    this._root_extra_style(this.root);\n",
       "\n",
       "    parent_element.appendChild(this.root);\n",
       "\n",
       "    this._init_header(this);\n",
       "    this._init_canvas(this);\n",
       "    this._init_toolbar(this);\n",
       "\n",
       "    var fig = this;\n",
       "\n",
       "    this.waiting = false;\n",
       "\n",
       "    this.ws.onopen = function () {\n",
       "        fig.send_message('supports_binary', { value: fig.supports_binary });\n",
       "        fig.send_message('send_image_mode', {});\n",
       "        if (fig.ratio !== 1) {\n",
       "            fig.send_message('set_dpi_ratio', { dpi_ratio: fig.ratio });\n",
       "        }\n",
       "        fig.send_message('refresh', {});\n",
       "    };\n",
       "\n",
       "    this.imageObj.onload = function () {\n",
       "        if (fig.image_mode === 'full') {\n",
       "            // Full images could contain transparency (where diff images\n",
       "            // almost always do), so we need to clear the canvas so that\n",
       "            // there is no ghosting.\n",
       "            fig.context.clearRect(0, 0, fig.canvas.width, fig.canvas.height);\n",
       "        }\n",
       "        fig.context.drawImage(fig.imageObj, 0, 0);\n",
       "    };\n",
       "\n",
       "    this.imageObj.onunload = function () {\n",
       "        fig.ws.close();\n",
       "    };\n",
       "\n",
       "    this.ws.onmessage = this._make_on_message_function(this);\n",
       "\n",
       "    this.ondownload = ondownload;\n",
       "};\n",
       "\n",
       "mpl.figure.prototype._init_header = function () {\n",
       "    var titlebar = document.createElement('div');\n",
       "    titlebar.classList =\n",
       "        'ui-dialog-titlebar ui-widget-header ui-corner-all ui-helper-clearfix';\n",
       "    var titletext = document.createElement('div');\n",
       "    titletext.classList = 'ui-dialog-title';\n",
       "    titletext.setAttribute(\n",
       "        'style',\n",
       "        'width: 100%; text-align: center; padding: 3px;'\n",
       "    );\n",
       "    titlebar.appendChild(titletext);\n",
       "    this.root.appendChild(titlebar);\n",
       "    this.header = titletext;\n",
       "};\n",
       "\n",
       "mpl.figure.prototype._canvas_extra_style = function (_canvas_div) {};\n",
       "\n",
       "mpl.figure.prototype._root_extra_style = function (_canvas_div) {};\n",
       "\n",
       "mpl.figure.prototype._init_canvas = function () {\n",
       "    var fig = this;\n",
       "\n",
       "    var canvas_div = (this.canvas_div = document.createElement('div'));\n",
       "    canvas_div.setAttribute(\n",
       "        'style',\n",
       "        'border: 1px solid #ddd;' +\n",
       "            'box-sizing: content-box;' +\n",
       "            'clear: both;' +\n",
       "            'min-height: 1px;' +\n",
       "            'min-width: 1px;' +\n",
       "            'outline: 0;' +\n",
       "            'overflow: hidden;' +\n",
       "            'position: relative;' +\n",
       "            'resize: both;'\n",
       "    );\n",
       "\n",
       "    function on_keyboard_event_closure(name) {\n",
       "        return function (event) {\n",
       "            return fig.key_event(event, name);\n",
       "        };\n",
       "    }\n",
       "\n",
       "    canvas_div.addEventListener(\n",
       "        'keydown',\n",
       "        on_keyboard_event_closure('key_press')\n",
       "    );\n",
       "    canvas_div.addEventListener(\n",
       "        'keyup',\n",
       "        on_keyboard_event_closure('key_release')\n",
       "    );\n",
       "\n",
       "    this._canvas_extra_style(canvas_div);\n",
       "    this.root.appendChild(canvas_div);\n",
       "\n",
       "    var canvas = (this.canvas = document.createElement('canvas'));\n",
       "    canvas.classList.add('mpl-canvas');\n",
       "    canvas.setAttribute('style', 'box-sizing: content-box;');\n",
       "\n",
       "    this.context = canvas.getContext('2d');\n",
       "\n",
       "    var backingStore =\n",
       "        this.context.backingStorePixelRatio ||\n",
       "        this.context.webkitBackingStorePixelRatio ||\n",
       "        this.context.mozBackingStorePixelRatio ||\n",
       "        this.context.msBackingStorePixelRatio ||\n",
       "        this.context.oBackingStorePixelRatio ||\n",
       "        this.context.backingStorePixelRatio ||\n",
       "        1;\n",
       "\n",
       "    this.ratio = (window.devicePixelRatio || 1) / backingStore;\n",
       "\n",
       "    var rubberband_canvas = (this.rubberband_canvas = document.createElement(\n",
       "        'canvas'\n",
       "    ));\n",
       "    rubberband_canvas.setAttribute(\n",
       "        'style',\n",
       "        'box-sizing: content-box; position: absolute; left: 0; top: 0; z-index: 1;'\n",
       "    );\n",
       "\n",
       "    // Apply a ponyfill if ResizeObserver is not implemented by browser.\n",
       "    if (this.ResizeObserver === undefined) {\n",
       "        if (window.ResizeObserver !== undefined) {\n",
       "            this.ResizeObserver = window.ResizeObserver;\n",
       "        } else {\n",
       "            var obs = _JSXTOOLS_RESIZE_OBSERVER({});\n",
       "            this.ResizeObserver = obs.ResizeObserver;\n",
       "        }\n",
       "    }\n",
       "\n",
       "    this.resizeObserverInstance = new this.ResizeObserver(function (entries) {\n",
       "        var nentries = entries.length;\n",
       "        for (var i = 0; i < nentries; i++) {\n",
       "            var entry = entries[i];\n",
       "            var width, height;\n",
       "            if (entry.contentBoxSize) {\n",
       "                if (entry.contentBoxSize instanceof Array) {\n",
       "                    // Chrome 84 implements new version of spec.\n",
       "                    width = entry.contentBoxSize[0].inlineSize;\n",
       "                    height = entry.contentBoxSize[0].blockSize;\n",
       "                } else {\n",
       "                    // Firefox implements old version of spec.\n",
       "                    width = entry.contentBoxSize.inlineSize;\n",
       "                    height = entry.contentBoxSize.blockSize;\n",
       "                }\n",
       "            } else {\n",
       "                // Chrome <84 implements even older version of spec.\n",
       "                width = entry.contentRect.width;\n",
       "                height = entry.contentRect.height;\n",
       "            }\n",
       "\n",
       "            // Keep the size of the canvas and rubber band canvas in sync with\n",
       "            // the canvas container.\n",
       "            if (entry.devicePixelContentBoxSize) {\n",
       "                // Chrome 84 implements new version of spec.\n",
       "                canvas.setAttribute(\n",
       "                    'width',\n",
       "                    entry.devicePixelContentBoxSize[0].inlineSize\n",
       "                );\n",
       "                canvas.setAttribute(\n",
       "                    'height',\n",
       "                    entry.devicePixelContentBoxSize[0].blockSize\n",
       "                );\n",
       "            } else {\n",
       "                canvas.setAttribute('width', width * fig.ratio);\n",
       "                canvas.setAttribute('height', height * fig.ratio);\n",
       "            }\n",
       "            canvas.setAttribute(\n",
       "                'style',\n",
       "                'width: ' + width + 'px; height: ' + height + 'px;'\n",
       "            );\n",
       "\n",
       "            rubberband_canvas.setAttribute('width', width);\n",
       "            rubberband_canvas.setAttribute('height', height);\n",
       "\n",
       "            // And update the size in Python. We ignore the initial 0/0 size\n",
       "            // that occurs as the element is placed into the DOM, which should\n",
       "            // otherwise not happen due to the minimum size styling.\n",
       "            if (fig.ws.readyState == 1 && width != 0 && height != 0) {\n",
       "                fig.request_resize(width, height);\n",
       "            }\n",
       "        }\n",
       "    });\n",
       "    this.resizeObserverInstance.observe(canvas_div);\n",
       "\n",
       "    function on_mouse_event_closure(name) {\n",
       "        return function (event) {\n",
       "            return fig.mouse_event(event, name);\n",
       "        };\n",
       "    }\n",
       "\n",
       "    rubberband_canvas.addEventListener(\n",
       "        'mousedown',\n",
       "        on_mouse_event_closure('button_press')\n",
       "    );\n",
       "    rubberband_canvas.addEventListener(\n",
       "        'mouseup',\n",
       "        on_mouse_event_closure('button_release')\n",
       "    );\n",
       "    // Throttle sequential mouse events to 1 every 20ms.\n",
       "    rubberband_canvas.addEventListener(\n",
       "        'mousemove',\n",
       "        on_mouse_event_closure('motion_notify')\n",
       "    );\n",
       "\n",
       "    rubberband_canvas.addEventListener(\n",
       "        'mouseenter',\n",
       "        on_mouse_event_closure('figure_enter')\n",
       "    );\n",
       "    rubberband_canvas.addEventListener(\n",
       "        'mouseleave',\n",
       "        on_mouse_event_closure('figure_leave')\n",
       "    );\n",
       "\n",
       "    canvas_div.addEventListener('wheel', function (event) {\n",
       "        if (event.deltaY < 0) {\n",
       "            event.step = 1;\n",
       "        } else {\n",
       "            event.step = -1;\n",
       "        }\n",
       "        on_mouse_event_closure('scroll')(event);\n",
       "    });\n",
       "\n",
       "    canvas_div.appendChild(canvas);\n",
       "    canvas_div.appendChild(rubberband_canvas);\n",
       "\n",
       "    this.rubberband_context = rubberband_canvas.getContext('2d');\n",
       "    this.rubberband_context.strokeStyle = '#000000';\n",
       "\n",
       "    this._resize_canvas = function (width, height, forward) {\n",
       "        if (forward) {\n",
       "            canvas_div.style.width = width + 'px';\n",
       "            canvas_div.style.height = height + 'px';\n",
       "        }\n",
       "    };\n",
       "\n",
       "    // Disable right mouse context menu.\n",
       "    this.rubberband_canvas.addEventListener('contextmenu', function (_e) {\n",
       "        event.preventDefault();\n",
       "        return false;\n",
       "    });\n",
       "\n",
       "    function set_focus() {\n",
       "        canvas.focus();\n",
       "        canvas_div.focus();\n",
       "    }\n",
       "\n",
       "    window.setTimeout(set_focus, 100);\n",
       "};\n",
       "\n",
       "mpl.figure.prototype._init_toolbar = function () {\n",
       "    var fig = this;\n",
       "\n",
       "    var toolbar = document.createElement('div');\n",
       "    toolbar.classList = 'mpl-toolbar';\n",
       "    this.root.appendChild(toolbar);\n",
       "\n",
       "    function on_click_closure(name) {\n",
       "        return function (_event) {\n",
       "            return fig.toolbar_button_onclick(name);\n",
       "        };\n",
       "    }\n",
       "\n",
       "    function on_mouseover_closure(tooltip) {\n",
       "        return function (event) {\n",
       "            if (!event.currentTarget.disabled) {\n",
       "                return fig.toolbar_button_onmouseover(tooltip);\n",
       "            }\n",
       "        };\n",
       "    }\n",
       "\n",
       "    fig.buttons = {};\n",
       "    var buttonGroup = document.createElement('div');\n",
       "    buttonGroup.classList = 'mpl-button-group';\n",
       "    for (var toolbar_ind in mpl.toolbar_items) {\n",
       "        var name = mpl.toolbar_items[toolbar_ind][0];\n",
       "        var tooltip = mpl.toolbar_items[toolbar_ind][1];\n",
       "        var image = mpl.toolbar_items[toolbar_ind][2];\n",
       "        var method_name = mpl.toolbar_items[toolbar_ind][3];\n",
       "\n",
       "        if (!name) {\n",
       "            /* Instead of a spacer, we start a new button group. */\n",
       "            if (buttonGroup.hasChildNodes()) {\n",
       "                toolbar.appendChild(buttonGroup);\n",
       "            }\n",
       "            buttonGroup = document.createElement('div');\n",
       "            buttonGroup.classList = 'mpl-button-group';\n",
       "            continue;\n",
       "        }\n",
       "\n",
       "        var button = (fig.buttons[name] = document.createElement('button'));\n",
       "        button.classList = 'mpl-widget';\n",
       "        button.setAttribute('role', 'button');\n",
       "        button.setAttribute('aria-disabled', 'false');\n",
       "        button.addEventListener('click', on_click_closure(method_name));\n",
       "        button.addEventListener('mouseover', on_mouseover_closure(tooltip));\n",
       "\n",
       "        var icon_img = document.createElement('img');\n",
       "        icon_img.src = '_images/' + image + '.png';\n",
       "        icon_img.srcset = '_images/' + image + '_large.png 2x';\n",
       "        icon_img.alt = tooltip;\n",
       "        button.appendChild(icon_img);\n",
       "\n",
       "        buttonGroup.appendChild(button);\n",
       "    }\n",
       "\n",
       "    if (buttonGroup.hasChildNodes()) {\n",
       "        toolbar.appendChild(buttonGroup);\n",
       "    }\n",
       "\n",
       "    var fmt_picker = document.createElement('select');\n",
       "    fmt_picker.classList = 'mpl-widget';\n",
       "    toolbar.appendChild(fmt_picker);\n",
       "    this.format_dropdown = fmt_picker;\n",
       "\n",
       "    for (var ind in mpl.extensions) {\n",
       "        var fmt = mpl.extensions[ind];\n",
       "        var option = document.createElement('option');\n",
       "        option.selected = fmt === mpl.default_extension;\n",
       "        option.innerHTML = fmt;\n",
       "        fmt_picker.appendChild(option);\n",
       "    }\n",
       "\n",
       "    var status_bar = document.createElement('span');\n",
       "    status_bar.classList = 'mpl-message';\n",
       "    toolbar.appendChild(status_bar);\n",
       "    this.message = status_bar;\n",
       "};\n",
       "\n",
       "mpl.figure.prototype.request_resize = function (x_pixels, y_pixels) {\n",
       "    // Request matplotlib to resize the figure. Matplotlib will then trigger a resize in the client,\n",
       "    // which will in turn request a refresh of the image.\n",
       "    this.send_message('resize', { width: x_pixels, height: y_pixels });\n",
       "};\n",
       "\n",
       "mpl.figure.prototype.send_message = function (type, properties) {\n",
       "    properties['type'] = type;\n",
       "    properties['figure_id'] = this.id;\n",
       "    this.ws.send(JSON.stringify(properties));\n",
       "};\n",
       "\n",
       "mpl.figure.prototype.send_draw_message = function () {\n",
       "    if (!this.waiting) {\n",
       "        this.waiting = true;\n",
       "        this.ws.send(JSON.stringify({ type: 'draw', figure_id: this.id }));\n",
       "    }\n",
       "};\n",
       "\n",
       "mpl.figure.prototype.handle_save = function (fig, _msg) {\n",
       "    var format_dropdown = fig.format_dropdown;\n",
       "    var format = format_dropdown.options[format_dropdown.selectedIndex].value;\n",
       "    fig.ondownload(fig, format);\n",
       "};\n",
       "\n",
       "mpl.figure.prototype.handle_resize = function (fig, msg) {\n",
       "    var size = msg['size'];\n",
       "    if (size[0] !== fig.canvas.width || size[1] !== fig.canvas.height) {\n",
       "        fig._resize_canvas(size[0], size[1], msg['forward']);\n",
       "        fig.send_message('refresh', {});\n",
       "    }\n",
       "};\n",
       "\n",
       "mpl.figure.prototype.handle_rubberband = function (fig, msg) {\n",
       "    var x0 = msg['x0'] / fig.ratio;\n",
       "    var y0 = (fig.canvas.height - msg['y0']) / fig.ratio;\n",
       "    var x1 = msg['x1'] / fig.ratio;\n",
       "    var y1 = (fig.canvas.height - msg['y1']) / fig.ratio;\n",
       "    x0 = Math.floor(x0) + 0.5;\n",
       "    y0 = Math.floor(y0) + 0.5;\n",
       "    x1 = Math.floor(x1) + 0.5;\n",
       "    y1 = Math.floor(y1) + 0.5;\n",
       "    var min_x = Math.min(x0, x1);\n",
       "    var min_y = Math.min(y0, y1);\n",
       "    var width = Math.abs(x1 - x0);\n",
       "    var height = Math.abs(y1 - y0);\n",
       "\n",
       "    fig.rubberband_context.clearRect(\n",
       "        0,\n",
       "        0,\n",
       "        fig.canvas.width / fig.ratio,\n",
       "        fig.canvas.height / fig.ratio\n",
       "    );\n",
       "\n",
       "    fig.rubberband_context.strokeRect(min_x, min_y, width, height);\n",
       "};\n",
       "\n",
       "mpl.figure.prototype.handle_figure_label = function (fig, msg) {\n",
       "    // Updates the figure title.\n",
       "    fig.header.textContent = msg['label'];\n",
       "};\n",
       "\n",
       "mpl.figure.prototype.handle_cursor = function (fig, msg) {\n",
       "    var cursor = msg['cursor'];\n",
       "    switch (cursor) {\n",
       "        case 0:\n",
       "            cursor = 'pointer';\n",
       "            break;\n",
       "        case 1:\n",
       "            cursor = 'default';\n",
       "            break;\n",
       "        case 2:\n",
       "            cursor = 'crosshair';\n",
       "            break;\n",
       "        case 3:\n",
       "            cursor = 'move';\n",
       "            break;\n",
       "    }\n",
       "    fig.rubberband_canvas.style.cursor = cursor;\n",
       "};\n",
       "\n",
       "mpl.figure.prototype.handle_message = function (fig, msg) {\n",
       "    fig.message.textContent = msg['message'];\n",
       "};\n",
       "\n",
       "mpl.figure.prototype.handle_draw = function (fig, _msg) {\n",
       "    // Request the server to send over a new figure.\n",
       "    fig.send_draw_message();\n",
       "};\n",
       "\n",
       "mpl.figure.prototype.handle_image_mode = function (fig, msg) {\n",
       "    fig.image_mode = msg['mode'];\n",
       "};\n",
       "\n",
       "mpl.figure.prototype.handle_history_buttons = function (fig, msg) {\n",
       "    for (var key in msg) {\n",
       "        if (!(key in fig.buttons)) {\n",
       "            continue;\n",
       "        }\n",
       "        fig.buttons[key].disabled = !msg[key];\n",
       "        fig.buttons[key].setAttribute('aria-disabled', !msg[key]);\n",
       "    }\n",
       "};\n",
       "\n",
       "mpl.figure.prototype.handle_navigate_mode = function (fig, msg) {\n",
       "    if (msg['mode'] === 'PAN') {\n",
       "        fig.buttons['Pan'].classList.add('active');\n",
       "        fig.buttons['Zoom'].classList.remove('active');\n",
       "    } else if (msg['mode'] === 'ZOOM') {\n",
       "        fig.buttons['Pan'].classList.remove('active');\n",
       "        fig.buttons['Zoom'].classList.add('active');\n",
       "    } else {\n",
       "        fig.buttons['Pan'].classList.remove('active');\n",
       "        fig.buttons['Zoom'].classList.remove('active');\n",
       "    }\n",
       "};\n",
       "\n",
       "mpl.figure.prototype.updated_canvas_event = function () {\n",
       "    // Called whenever the canvas gets updated.\n",
       "    this.send_message('ack', {});\n",
       "};\n",
       "\n",
       "// A function to construct a web socket function for onmessage handling.\n",
       "// Called in the figure constructor.\n",
       "mpl.figure.prototype._make_on_message_function = function (fig) {\n",
       "    return function socket_on_message(evt) {\n",
       "        if (evt.data instanceof Blob) {\n",
       "            /* FIXME: We get \"Resource interpreted as Image but\n",
       "             * transferred with MIME type text/plain:\" errors on\n",
       "             * Chrome.  But how to set the MIME type?  It doesn't seem\n",
       "             * to be part of the websocket stream */\n",
       "            evt.data.type = 'image/png';\n",
       "\n",
       "            /* Free the memory for the previous frames */\n",
       "            if (fig.imageObj.src) {\n",
       "                (window.URL || window.webkitURL).revokeObjectURL(\n",
       "                    fig.imageObj.src\n",
       "                );\n",
       "            }\n",
       "\n",
       "            fig.imageObj.src = (window.URL || window.webkitURL).createObjectURL(\n",
       "                evt.data\n",
       "            );\n",
       "            fig.updated_canvas_event();\n",
       "            fig.waiting = false;\n",
       "            return;\n",
       "        } else if (\n",
       "            typeof evt.data === 'string' &&\n",
       "            evt.data.slice(0, 21) === 'data:image/png;base64'\n",
       "        ) {\n",
       "            fig.imageObj.src = evt.data;\n",
       "            fig.updated_canvas_event();\n",
       "            fig.waiting = false;\n",
       "            return;\n",
       "        }\n",
       "\n",
       "        var msg = JSON.parse(evt.data);\n",
       "        var msg_type = msg['type'];\n",
       "\n",
       "        // Call the  \"handle_{type}\" callback, which takes\n",
       "        // the figure and JSON message as its only arguments.\n",
       "        try {\n",
       "            var callback = fig['handle_' + msg_type];\n",
       "        } catch (e) {\n",
       "            console.log(\n",
       "                \"No handler for the '\" + msg_type + \"' message type: \",\n",
       "                msg\n",
       "            );\n",
       "            return;\n",
       "        }\n",
       "\n",
       "        if (callback) {\n",
       "            try {\n",
       "                // console.log(\"Handling '\" + msg_type + \"' message: \", msg);\n",
       "                callback(fig, msg);\n",
       "            } catch (e) {\n",
       "                console.log(\n",
       "                    \"Exception inside the 'handler_\" + msg_type + \"' callback:\",\n",
       "                    e,\n",
       "                    e.stack,\n",
       "                    msg\n",
       "                );\n",
       "            }\n",
       "        }\n",
       "    };\n",
       "};\n",
       "\n",
       "// from http://stackoverflow.com/questions/1114465/getting-mouse-location-in-canvas\n",
       "mpl.findpos = function (e) {\n",
       "    //this section is from http://www.quirksmode.org/js/events_properties.html\n",
       "    var targ;\n",
       "    if (!e) {\n",
       "        e = window.event;\n",
       "    }\n",
       "    if (e.target) {\n",
       "        targ = e.target;\n",
       "    } else if (e.srcElement) {\n",
       "        targ = e.srcElement;\n",
       "    }\n",
       "    if (targ.nodeType === 3) {\n",
       "        // defeat Safari bug\n",
       "        targ = targ.parentNode;\n",
       "    }\n",
       "\n",
       "    // pageX,Y are the mouse positions relative to the document\n",
       "    var boundingRect = targ.getBoundingClientRect();\n",
       "    var x = e.pageX - (boundingRect.left + document.body.scrollLeft);\n",
       "    var y = e.pageY - (boundingRect.top + document.body.scrollTop);\n",
       "\n",
       "    return { x: x, y: y };\n",
       "};\n",
       "\n",
       "/*\n",
       " * return a copy of an object with only non-object keys\n",
       " * we need this to avoid circular references\n",
       " * http://stackoverflow.com/a/24161582/3208463\n",
       " */\n",
       "function simpleKeys(original) {\n",
       "    return Object.keys(original).reduce(function (obj, key) {\n",
       "        if (typeof original[key] !== 'object') {\n",
       "            obj[key] = original[key];\n",
       "        }\n",
       "        return obj;\n",
       "    }, {});\n",
       "}\n",
       "\n",
       "mpl.figure.prototype.mouse_event = function (event, name) {\n",
       "    var canvas_pos = mpl.findpos(event);\n",
       "\n",
       "    if (name === 'button_press') {\n",
       "        this.canvas.focus();\n",
       "        this.canvas_div.focus();\n",
       "    }\n",
       "\n",
       "    var x = canvas_pos.x * this.ratio;\n",
       "    var y = canvas_pos.y * this.ratio;\n",
       "\n",
       "    this.send_message(name, {\n",
       "        x: x,\n",
       "        y: y,\n",
       "        button: event.button,\n",
       "        step: event.step,\n",
       "        guiEvent: simpleKeys(event),\n",
       "    });\n",
       "\n",
       "    /* This prevents the web browser from automatically changing to\n",
       "     * the text insertion cursor when the button is pressed.  We want\n",
       "     * to control all of the cursor setting manually through the\n",
       "     * 'cursor' event from matplotlib */\n",
       "    event.preventDefault();\n",
       "    return false;\n",
       "};\n",
       "\n",
       "mpl.figure.prototype._key_event_extra = function (_event, _name) {\n",
       "    // Handle any extra behaviour associated with a key event\n",
       "};\n",
       "\n",
       "mpl.figure.prototype.key_event = function (event, name) {\n",
       "    // Prevent repeat events\n",
       "    if (name === 'key_press') {\n",
       "        if (event.which === this._key) {\n",
       "            return;\n",
       "        } else {\n",
       "            this._key = event.which;\n",
       "        }\n",
       "    }\n",
       "    if (name === 'key_release') {\n",
       "        this._key = null;\n",
       "    }\n",
       "\n",
       "    var value = '';\n",
       "    if (event.ctrlKey && event.which !== 17) {\n",
       "        value += 'ctrl+';\n",
       "    }\n",
       "    if (event.altKey && event.which !== 18) {\n",
       "        value += 'alt+';\n",
       "    }\n",
       "    if (event.shiftKey && event.which !== 16) {\n",
       "        value += 'shift+';\n",
       "    }\n",
       "\n",
       "    value += 'k';\n",
       "    value += event.which.toString();\n",
       "\n",
       "    this._key_event_extra(event, name);\n",
       "\n",
       "    this.send_message(name, { key: value, guiEvent: simpleKeys(event) });\n",
       "    return false;\n",
       "};\n",
       "\n",
       "mpl.figure.prototype.toolbar_button_onclick = function (name) {\n",
       "    if (name === 'download') {\n",
       "        this.handle_save(this, null);\n",
       "    } else {\n",
       "        this.send_message('toolbar_button', { name: name });\n",
       "    }\n",
       "};\n",
       "\n",
       "mpl.figure.prototype.toolbar_button_onmouseover = function (tooltip) {\n",
       "    this.message.textContent = tooltip;\n",
       "};\n",
       "\n",
       "///////////////// REMAINING CONTENT GENERATED BY embed_js.py /////////////////\n",
       "// prettier-ignore\n",
       "var _JSXTOOLS_RESIZE_OBSERVER=function(A){var t,i=new WeakMap,n=new WeakMap,a=new WeakMap,r=new WeakMap,o=new Set;function s(e){if(!(this instanceof s))throw new TypeError(\"Constructor requires 'new' operator\");i.set(this,e)}function h(){throw new TypeError(\"Function is not a constructor\")}function c(e,t,i,n){e=0 in arguments?Number(arguments[0]):0,t=1 in arguments?Number(arguments[1]):0,i=2 in arguments?Number(arguments[2]):0,n=3 in arguments?Number(arguments[3]):0,this.right=(this.x=this.left=e)+(this.width=i),this.bottom=(this.y=this.top=t)+(this.height=n),Object.freeze(this)}function d(){t=requestAnimationFrame(d);var s=new WeakMap,p=new Set;o.forEach((function(t){r.get(t).forEach((function(i){var r=t instanceof window.SVGElement,o=a.get(t),d=r?0:parseFloat(o.paddingTop),f=r?0:parseFloat(o.paddingRight),l=r?0:parseFloat(o.paddingBottom),u=r?0:parseFloat(o.paddingLeft),g=r?0:parseFloat(o.borderTopWidth),m=r?0:parseFloat(o.borderRightWidth),w=r?0:parseFloat(o.borderBottomWidth),b=u+f,F=d+l,v=(r?0:parseFloat(o.borderLeftWidth))+m,W=g+w,y=r?0:t.offsetHeight-W-t.clientHeight,E=r?0:t.offsetWidth-v-t.clientWidth,R=b+v,z=F+W,M=r?t.width:parseFloat(o.width)-R-E,O=r?t.height:parseFloat(o.height)-z-y;if(n.has(t)){var k=n.get(t);if(k[0]===M&&k[1]===O)return}n.set(t,[M,O]);var S=Object.create(h.prototype);S.target=t,S.contentRect=new c(u,d,M,O),s.has(i)||(s.set(i,[]),p.add(i)),s.get(i).push(S)}))})),p.forEach((function(e){i.get(e).call(e,s.get(e),e)}))}return s.prototype.observe=function(i){if(i instanceof window.Element){r.has(i)||(r.set(i,new Set),o.add(i),a.set(i,window.getComputedStyle(i)));var n=r.get(i);n.has(this)||n.add(this),cancelAnimationFrame(t),t=requestAnimationFrame(d)}},s.prototype.unobserve=function(i){if(i instanceof window.Element&&r.has(i)){var n=r.get(i);n.has(this)&&(n.delete(this),n.size||(r.delete(i),o.delete(i))),n.size||r.delete(i),o.size||cancelAnimationFrame(t)}},A.DOMRectReadOnly=c,A.ResizeObserver=s,A.ResizeObserverEntry=h,A}; // eslint-disable-line\n",
       "mpl.toolbar_items = [[\"Home\", \"Reset original view\", \"fa fa-home icon-home\", \"home\"], [\"Back\", \"Back to previous view\", \"fa fa-arrow-left icon-arrow-left\", \"back\"], [\"Forward\", \"Forward to next view\", \"fa fa-arrow-right icon-arrow-right\", \"forward\"], [\"\", \"\", \"\", \"\"], [\"Pan\", \"Left button pans, Right button zooms\\nx/y fixes axis, CTRL fixes aspect\", \"fa fa-arrows icon-move\", \"pan\"], [\"Zoom\", \"Zoom to rectangle\\nx/y fixes axis, CTRL fixes aspect\", \"fa fa-square-o icon-check-empty\", \"zoom\"], [\"\", \"\", \"\", \"\"], [\"Download\", \"Download plot\", \"fa fa-floppy-o icon-save\", \"download\"]];\n",
       "\n",
       "mpl.extensions = [\"eps\", \"jpeg\", \"pdf\", \"png\", \"ps\", \"raw\", \"svg\", \"tif\"];\n",
       "\n",
       "mpl.default_extension = \"png\";/* global mpl */\n",
       "\n",
       "var comm_websocket_adapter = function (comm) {\n",
       "    // Create a \"websocket\"-like object which calls the given IPython comm\n",
       "    // object with the appropriate methods. Currently this is a non binary\n",
       "    // socket, so there is still some room for performance tuning.\n",
       "    var ws = {};\n",
       "\n",
       "    ws.close = function () {\n",
       "        comm.close();\n",
       "    };\n",
       "    ws.send = function (m) {\n",
       "        //console.log('sending', m);\n",
       "        comm.send(m);\n",
       "    };\n",
       "    // Register the callback with on_msg.\n",
       "    comm.on_msg(function (msg) {\n",
       "        //console.log('receiving', msg['content']['data'], msg);\n",
       "        // Pass the mpl event to the overridden (by mpl) onmessage function.\n",
       "        ws.onmessage(msg['content']['data']);\n",
       "    });\n",
       "    return ws;\n",
       "};\n",
       "\n",
       "mpl.mpl_figure_comm = function (comm, msg) {\n",
       "    // This is the function which gets called when the mpl process\n",
       "    // starts-up an IPython Comm through the \"matplotlib\" channel.\n",
       "\n",
       "    var id = msg.content.data.id;\n",
       "    // Get hold of the div created by the display call when the Comm\n",
       "    // socket was opened in Python.\n",
       "    var element = document.getElementById(id);\n",
       "    var ws_proxy = comm_websocket_adapter(comm);\n",
       "\n",
       "    function ondownload(figure, _format) {\n",
       "        window.open(figure.canvas.toDataURL());\n",
       "    }\n",
       "\n",
       "    var fig = new mpl.figure(id, ws_proxy, ondownload, element);\n",
       "\n",
       "    // Call onopen now - mpl needs it, as it is assuming we've passed it a real\n",
       "    // web socket which is closed, not our websocket->open comm proxy.\n",
       "    ws_proxy.onopen();\n",
       "\n",
       "    fig.parent_element = element;\n",
       "    fig.cell_info = mpl.find_output_cell(\"<div id='\" + id + \"'></div>\");\n",
       "    if (!fig.cell_info) {\n",
       "        console.error('Failed to find cell for figure', id, fig);\n",
       "        return;\n",
       "    }\n",
       "    fig.cell_info[0].output_area.element.on(\n",
       "        'cleared',\n",
       "        { fig: fig },\n",
       "        fig._remove_fig_handler\n",
       "    );\n",
       "};\n",
       "\n",
       "mpl.figure.prototype.handle_close = function (fig, msg) {\n",
       "    var width = fig.canvas.width / fig.ratio;\n",
       "    fig.cell_info[0].output_area.element.off(\n",
       "        'cleared',\n",
       "        fig._remove_fig_handler\n",
       "    );\n",
       "    fig.resizeObserverInstance.unobserve(fig.canvas_div);\n",
       "\n",
       "    // Update the output cell to use the data from the current canvas.\n",
       "    fig.push_to_output();\n",
       "    var dataURL = fig.canvas.toDataURL();\n",
       "    // Re-enable the keyboard manager in IPython - without this line, in FF,\n",
       "    // the notebook keyboard shortcuts fail.\n",
       "    IPython.keyboard_manager.enable();\n",
       "    fig.parent_element.innerHTML =\n",
       "        '<img src=\"' + dataURL + '\" width=\"' + width + '\">';\n",
       "    fig.close_ws(fig, msg);\n",
       "};\n",
       "\n",
       "mpl.figure.prototype.close_ws = function (fig, msg) {\n",
       "    fig.send_message('closing', msg);\n",
       "    // fig.ws.close()\n",
       "};\n",
       "\n",
       "mpl.figure.prototype.push_to_output = function (_remove_interactive) {\n",
       "    // Turn the data on the canvas into data in the output cell.\n",
       "    var width = this.canvas.width / this.ratio;\n",
       "    var dataURL = this.canvas.toDataURL();\n",
       "    this.cell_info[1]['text/html'] =\n",
       "        '<img src=\"' + dataURL + '\" width=\"' + width + '\">';\n",
       "};\n",
       "\n",
       "mpl.figure.prototype.updated_canvas_event = function () {\n",
       "    // Tell IPython that the notebook contents must change.\n",
       "    IPython.notebook.set_dirty(true);\n",
       "    this.send_message('ack', {});\n",
       "    var fig = this;\n",
       "    // Wait a second, then push the new image to the DOM so\n",
       "    // that it is saved nicely (might be nice to debounce this).\n",
       "    setTimeout(function () {\n",
       "        fig.push_to_output();\n",
       "    }, 1000);\n",
       "};\n",
       "\n",
       "mpl.figure.prototype._init_toolbar = function () {\n",
       "    var fig = this;\n",
       "\n",
       "    var toolbar = document.createElement('div');\n",
       "    toolbar.classList = 'btn-toolbar';\n",
       "    this.root.appendChild(toolbar);\n",
       "\n",
       "    function on_click_closure(name) {\n",
       "        return function (_event) {\n",
       "            return fig.toolbar_button_onclick(name);\n",
       "        };\n",
       "    }\n",
       "\n",
       "    function on_mouseover_closure(tooltip) {\n",
       "        return function (event) {\n",
       "            if (!event.currentTarget.disabled) {\n",
       "                return fig.toolbar_button_onmouseover(tooltip);\n",
       "            }\n",
       "        };\n",
       "    }\n",
       "\n",
       "    fig.buttons = {};\n",
       "    var buttonGroup = document.createElement('div');\n",
       "    buttonGroup.classList = 'btn-group';\n",
       "    var button;\n",
       "    for (var toolbar_ind in mpl.toolbar_items) {\n",
       "        var name = mpl.toolbar_items[toolbar_ind][0];\n",
       "        var tooltip = mpl.toolbar_items[toolbar_ind][1];\n",
       "        var image = mpl.toolbar_items[toolbar_ind][2];\n",
       "        var method_name = mpl.toolbar_items[toolbar_ind][3];\n",
       "\n",
       "        if (!name) {\n",
       "            /* Instead of a spacer, we start a new button group. */\n",
       "            if (buttonGroup.hasChildNodes()) {\n",
       "                toolbar.appendChild(buttonGroup);\n",
       "            }\n",
       "            buttonGroup = document.createElement('div');\n",
       "            buttonGroup.classList = 'btn-group';\n",
       "            continue;\n",
       "        }\n",
       "\n",
       "        button = fig.buttons[name] = document.createElement('button');\n",
       "        button.classList = 'btn btn-default';\n",
       "        button.href = '#';\n",
       "        button.title = name;\n",
       "        button.innerHTML = '<i class=\"fa ' + image + ' fa-lg\"></i>';\n",
       "        button.addEventListener('click', on_click_closure(method_name));\n",
       "        button.addEventListener('mouseover', on_mouseover_closure(tooltip));\n",
       "        buttonGroup.appendChild(button);\n",
       "    }\n",
       "\n",
       "    if (buttonGroup.hasChildNodes()) {\n",
       "        toolbar.appendChild(buttonGroup);\n",
       "    }\n",
       "\n",
       "    // Add the status bar.\n",
       "    var status_bar = document.createElement('span');\n",
       "    status_bar.classList = 'mpl-message pull-right';\n",
       "    toolbar.appendChild(status_bar);\n",
       "    this.message = status_bar;\n",
       "\n",
       "    // Add the close button to the window.\n",
       "    var buttongrp = document.createElement('div');\n",
       "    buttongrp.classList = 'btn-group inline pull-right';\n",
       "    button = document.createElement('button');\n",
       "    button.classList = 'btn btn-mini btn-primary';\n",
       "    button.href = '#';\n",
       "    button.title = 'Stop Interaction';\n",
       "    button.innerHTML = '<i class=\"fa fa-power-off icon-remove icon-large\"></i>';\n",
       "    button.addEventListener('click', function (_evt) {\n",
       "        fig.handle_close(fig, {});\n",
       "    });\n",
       "    button.addEventListener(\n",
       "        'mouseover',\n",
       "        on_mouseover_closure('Stop Interaction')\n",
       "    );\n",
       "    buttongrp.appendChild(button);\n",
       "    var titlebar = this.root.querySelector('.ui-dialog-titlebar');\n",
       "    titlebar.insertBefore(buttongrp, titlebar.firstChild);\n",
       "};\n",
       "\n",
       "mpl.figure.prototype._remove_fig_handler = function (event) {\n",
       "    var fig = event.data.fig;\n",
       "    if (event.target !== this) {\n",
       "        // Ignore bubbled events from children.\n",
       "        return;\n",
       "    }\n",
       "    fig.close_ws(fig, {});\n",
       "};\n",
       "\n",
       "mpl.figure.prototype._root_extra_style = function (el) {\n",
       "    el.style.boxSizing = 'content-box'; // override notebook setting of border-box.\n",
       "};\n",
       "\n",
       "mpl.figure.prototype._canvas_extra_style = function (el) {\n",
       "    // this is important to make the div 'focusable\n",
       "    el.setAttribute('tabindex', 0);\n",
       "    // reach out to IPython and tell the keyboard manager to turn it's self\n",
       "    // off when our div gets focus\n",
       "\n",
       "    // location in version 3\n",
       "    if (IPython.notebook.keyboard_manager) {\n",
       "        IPython.notebook.keyboard_manager.register_events(el);\n",
       "    } else {\n",
       "        // location in version 2\n",
       "        IPython.keyboard_manager.register_events(el);\n",
       "    }\n",
       "};\n",
       "\n",
       "mpl.figure.prototype._key_event_extra = function (event, _name) {\n",
       "    var manager = IPython.notebook.keyboard_manager;\n",
       "    if (!manager) {\n",
       "        manager = IPython.keyboard_manager;\n",
       "    }\n",
       "\n",
       "    // Check for shift+enter\n",
       "    if (event.shiftKey && event.which === 13) {\n",
       "        this.canvas_div.blur();\n",
       "        // select the cell after this one\n",
       "        var index = IPython.notebook.find_cell_index(this.cell_info[0]);\n",
       "        IPython.notebook.select(index + 1);\n",
       "    }\n",
       "};\n",
       "\n",
       "mpl.figure.prototype.handle_save = function (fig, _msg) {\n",
       "    fig.ondownload(fig, null);\n",
       "};\n",
       "\n",
       "mpl.find_output_cell = function (html_output) {\n",
       "    // Return the cell and output element which can be found *uniquely* in the notebook.\n",
       "    // Note - this is a bit hacky, but it is done because the \"notebook_saving.Notebook\"\n",
       "    // IPython event is triggered only after the cells have been serialised, which for\n",
       "    // our purposes (turning an active figure into a static one), is too late.\n",
       "    var cells = IPython.notebook.get_cells();\n",
       "    var ncells = cells.length;\n",
       "    for (var i = 0; i < ncells; i++) {\n",
       "        var cell = cells[i];\n",
       "        if (cell.cell_type === 'code') {\n",
       "            for (var j = 0; j < cell.output_area.outputs.length; j++) {\n",
       "                var data = cell.output_area.outputs[j];\n",
       "                if (data.data) {\n",
       "                    // IPython >= 3 moved mimebundle to data attribute of output\n",
       "                    data = data.data;\n",
       "                }\n",
       "                if (data['text/html'] === html_output) {\n",
       "                    return [cell, data, j];\n",
       "                }\n",
       "            }\n",
       "        }\n",
       "    }\n",
       "};\n",
       "\n",
       "// Register the function which deals with the matplotlib target/channel.\n",
       "// The kernel may be null if the page has been refreshed.\n",
       "if (IPython.notebook.kernel !== null) {\n",
       "    IPython.notebook.kernel.comm_manager.register_target(\n",
       "        'matplotlib',\n",
       "        mpl.mpl_figure_comm\n",
       "    );\n",
       "}\n"
      ],
      "text/plain": [
       "<IPython.core.display.Javascript object>"
      ]
     },
     "metadata": {},
     "output_type": "display_data"
    },
    {
     "data": {
      "text/html": [
       "<img src=\"data:image/png;base64,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\" width=\"936\">"
      ],
      "text/plain": [
       "<IPython.core.display.HTML object>"
      ]
     },
     "metadata": {},
     "output_type": "display_data"
    }
   ],
   "source": [
    "%matplotlib notebook\n",
    "\n",
    "idx = 0\n",
    "\n",
    "plt.figure(figsize=(13, 18))\n",
    "\n",
    "ax_y = plt.subplot(421)\n",
    "ax_y.scatter(y[:,0], output[:,0], c='red', marker='.')\n",
    "ax_y.set_xlabel('y real')\n",
    "ax_y.set_ylabel('y pred')\n",
    "\n",
    "ax_d = plt.subplot(422)\n",
    "ax_d.scatter(y[:,1], output[:,1], c='red', marker='.')\n",
    "ax_d.set_xlabel('d real')\n",
    "ax_d.set_ylabel('d pred')\n",
    "\n",
    "ax_t = plt.subplot(423)\n",
    "ax_t.scatter(y[:,2], output[:,2], c='red', marker='.')\n",
    "ax_t.set_xlabel('theta real')\n",
    "ax_t.set_ylabel('theta pred')\n",
    "\n",
    "ax_h = plt.subplot(424)\n",
    "ax_h.scatter(y[:,3], output[:,3], c='red', marker='.')\n",
    "ax_h.set_xlabel('h real')\n",
    "ax_h.set_ylabel('h pred')\n",
    "\n",
    "ax_p = plt.subplot(425)\n",
    "ax_p.scatter(y[:,4], output[:,4], c='red', marker='.')\n",
    "ax_p.set_xlabel('phi real')\n",
    "ax_p.set_ylabel('phi pred')\n",
    "\n",
    "ax_lt = plt.subplot(426)\n",
    "ax_lt.scatter(y[:,5], output[:,5], c='red', marker='.')\n",
    "ax_lt.set_xlabel('soma radius real')\n",
    "ax_lt.set_ylabel('soma radius pred')\n",
    "\n",
    "ax_lt = plt.subplot(427)\n",
    "ax_lt.scatter(y[:,6], output[:,6], c='red', marker='.')\n",
    "ax_lt.set_xlabel('trunk length real')\n",
    "ax_lt.set_ylabel('trunk length pred')\n",
    "\n",
    "ax_lt = plt.subplot(428)\n",
    "ax_lt.scatter(y[:,7], output[:,7], c='red', marker='.')\n",
    "ax_lt.set_xlabel('trunk radius real')\n",
    "ax_lt.set_ylabel('trunk radius pred')\n",
    "\n",
    "\n",
    "plt.show()"
   ]
  },
  {
   "cell_type": "code",
   "execution_count": 13,
   "metadata": {},
   "outputs": [
    {
     "ename": "FileNotFoundError",
     "evalue": "[Errno 2] Unable to open file (unable to open file: name = 'cell_inference/resources/invivo/cell377LFP2D.h5', errno = 2, error message = 'No such file or directory', flags = 0, o_flags = 0)",
     "output_type": "error",
     "traceback": [
      "\u001b[0;31m---------------------------------------------------------------------------\u001b[0m",
      "\u001b[0;31mFileNotFoundError\u001b[0m                         Traceback (most recent call last)",
      "\u001b[0;32m<ipython-input-13-46a936cc8229>\u001b[0m in \u001b[0;36m<module>\u001b[0;34m\u001b[0m\n\u001b[1;32m      3\u001b[0m \u001b[0mINVIVO_PATH\u001b[0m \u001b[0;34m=\u001b[0m \u001b[0mos\u001b[0m\u001b[0;34m.\u001b[0m\u001b[0mpath\u001b[0m\u001b[0;34m.\u001b[0m\u001b[0mjoin\u001b[0m\u001b[0;34m(\u001b[0m\u001b[0mDATA_PATH\u001b[0m\u001b[0;34m,\u001b[0m \u001b[0;34m'cell377LFP2D.h5'\u001b[0m\u001b[0;34m)\u001b[0m\u001b[0;34m\u001b[0m\u001b[0;34m\u001b[0m\u001b[0m\n\u001b[1;32m      4\u001b[0m \u001b[0;34m\u001b[0m\u001b[0m\n\u001b[0;32m----> 5\u001b[0;31m \u001b[0;32mwith\u001b[0m \u001b[0mh5py\u001b[0m\u001b[0;34m.\u001b[0m\u001b[0mFile\u001b[0m\u001b[0;34m(\u001b[0m\u001b[0mINVIVO_PATH\u001b[0m\u001b[0;34m,\u001b[0m \u001b[0;34m\"r\"\u001b[0m\u001b[0;34m)\u001b[0m \u001b[0;32mas\u001b[0m \u001b[0mf\u001b[0m\u001b[0;34m:\u001b[0m\u001b[0;34m\u001b[0m\u001b[0;34m\u001b[0m\u001b[0m\n\u001b[0m\u001b[1;32m      6\u001b[0m     \u001b[0;31m# List all groups\u001b[0m\u001b[0;34m\u001b[0m\u001b[0;34m\u001b[0m\u001b[0;34m\u001b[0m\u001b[0m\n\u001b[1;32m      7\u001b[0m     \u001b[0mprint\u001b[0m\u001b[0;34m(\u001b[0m\u001b[0;34m\"Keys: %s\"\u001b[0m \u001b[0;34m%\u001b[0m \u001b[0mf\u001b[0m\u001b[0;34m.\u001b[0m\u001b[0mkeys\u001b[0m\u001b[0;34m(\u001b[0m\u001b[0;34m)\u001b[0m\u001b[0;34m)\u001b[0m\u001b[0;34m\u001b[0m\u001b[0;34m\u001b[0m\u001b[0m\n",
      "\u001b[0;32m~/envs/stylized-cell/lib64/python3.8/site-packages/h5py/_hl/files.py\u001b[0m in \u001b[0;36m__init__\u001b[0;34m(self, name, mode, driver, libver, userblock_size, swmr, rdcc_nslots, rdcc_nbytes, rdcc_w0, track_order, fs_strategy, fs_persist, fs_threshold, **kwds)\u001b[0m\n\u001b[1;32m    442\u001b[0m             \u001b[0;32mwith\u001b[0m \u001b[0mphil\u001b[0m\u001b[0;34m:\u001b[0m\u001b[0;34m\u001b[0m\u001b[0;34m\u001b[0m\u001b[0m\n\u001b[1;32m    443\u001b[0m                 \u001b[0mfapl\u001b[0m \u001b[0;34m=\u001b[0m \u001b[0mmake_fapl\u001b[0m\u001b[0;34m(\u001b[0m\u001b[0mdriver\u001b[0m\u001b[0;34m,\u001b[0m \u001b[0mlibver\u001b[0m\u001b[0;34m,\u001b[0m \u001b[0mrdcc_nslots\u001b[0m\u001b[0;34m,\u001b[0m \u001b[0mrdcc_nbytes\u001b[0m\u001b[0;34m,\u001b[0m \u001b[0mrdcc_w0\u001b[0m\u001b[0;34m,\u001b[0m \u001b[0;34m**\u001b[0m\u001b[0mkwds\u001b[0m\u001b[0;34m)\u001b[0m\u001b[0;34m\u001b[0m\u001b[0;34m\u001b[0m\u001b[0m\n\u001b[0;32m--> 444\u001b[0;31m                 fid = make_fid(name, mode, userblock_size,\n\u001b[0m\u001b[1;32m    445\u001b[0m                                fapl, fcpl=make_fcpl(track_order=track_order, fs_strategy=fs_strategy,\n\u001b[1;32m    446\u001b[0m                                fs_persist=fs_persist, fs_threshold=fs_threshold),\n",
      "\u001b[0;32m~/envs/stylized-cell/lib64/python3.8/site-packages/h5py/_hl/files.py\u001b[0m in \u001b[0;36mmake_fid\u001b[0;34m(name, mode, userblock_size, fapl, fcpl, swmr)\u001b[0m\n\u001b[1;32m    197\u001b[0m         \u001b[0;32mif\u001b[0m \u001b[0mswmr\u001b[0m \u001b[0;32mand\u001b[0m \u001b[0mswmr_support\u001b[0m\u001b[0;34m:\u001b[0m\u001b[0;34m\u001b[0m\u001b[0;34m\u001b[0m\u001b[0m\n\u001b[1;32m    198\u001b[0m             \u001b[0mflags\u001b[0m \u001b[0;34m|=\u001b[0m \u001b[0mh5f\u001b[0m\u001b[0;34m.\u001b[0m\u001b[0mACC_SWMR_READ\u001b[0m\u001b[0;34m\u001b[0m\u001b[0;34m\u001b[0m\u001b[0m\n\u001b[0;32m--> 199\u001b[0;31m         \u001b[0mfid\u001b[0m \u001b[0;34m=\u001b[0m \u001b[0mh5f\u001b[0m\u001b[0;34m.\u001b[0m\u001b[0mopen\u001b[0m\u001b[0;34m(\u001b[0m\u001b[0mname\u001b[0m\u001b[0;34m,\u001b[0m \u001b[0mflags\u001b[0m\u001b[0;34m,\u001b[0m \u001b[0mfapl\u001b[0m\u001b[0;34m=\u001b[0m\u001b[0mfapl\u001b[0m\u001b[0;34m)\u001b[0m\u001b[0;34m\u001b[0m\u001b[0;34m\u001b[0m\u001b[0m\n\u001b[0m\u001b[1;32m    200\u001b[0m     \u001b[0;32melif\u001b[0m \u001b[0mmode\u001b[0m \u001b[0;34m==\u001b[0m \u001b[0;34m'r+'\u001b[0m\u001b[0;34m:\u001b[0m\u001b[0;34m\u001b[0m\u001b[0;34m\u001b[0m\u001b[0m\n\u001b[1;32m    201\u001b[0m         \u001b[0mfid\u001b[0m \u001b[0;34m=\u001b[0m \u001b[0mh5f\u001b[0m\u001b[0;34m.\u001b[0m\u001b[0mopen\u001b[0m\u001b[0;34m(\u001b[0m\u001b[0mname\u001b[0m\u001b[0;34m,\u001b[0m \u001b[0mh5f\u001b[0m\u001b[0;34m.\u001b[0m\u001b[0mACC_RDWR\u001b[0m\u001b[0;34m,\u001b[0m \u001b[0mfapl\u001b[0m\u001b[0;34m=\u001b[0m\u001b[0mfapl\u001b[0m\u001b[0;34m)\u001b[0m\u001b[0;34m\u001b[0m\u001b[0;34m\u001b[0m\u001b[0m\n",
      "\u001b[0;32mh5py/_objects.pyx\u001b[0m in \u001b[0;36mh5py._objects.with_phil.wrapper\u001b[0;34m()\u001b[0m\n",
      "\u001b[0;32mh5py/_objects.pyx\u001b[0m in \u001b[0;36mh5py._objects.with_phil.wrapper\u001b[0;34m()\u001b[0m\n",
      "\u001b[0;32mh5py/h5f.pyx\u001b[0m in \u001b[0;36mh5py.h5f.open\u001b[0;34m()\u001b[0m\n",
      "\u001b[0;31mFileNotFoundError\u001b[0m: [Errno 2] Unable to open file (unable to open file: name = 'cell_inference/resources/invivo/cell377LFP2D.h5', errno = 2, error message = 'No such file or directory', flags = 0, o_flags = 0)"
     ]
    }
   ],
   "source": [
    "DATA_PATH = 'cell_inference/resources/invivo'\n",
    "\n",
    "INVIVO_PATH = os.path.join(DATA_PATH, 'cell377LFP2D.h5')\n",
    "\n",
    "with h5py.File(INVIVO_PATH, \"r\") as f:\n",
    "    # List all groups\n",
    "    print(\"Keys: %s\" % f.keys())\n",
    "    print(f['coord'][:].shape)\n",
    "    print(f['data'][:].shape)\n",
    "    a_group_key = list(f.keys())[0]\n",
    "\n",
    "    # Get the data\n",
    "    test_data = f['data'][:]"
   ]
  },
  {
   "cell_type": "code",
   "execution_count": null,
   "metadata": {},
   "outputs": [],
   "source": [
    "np.set_printoptions(suppress=True)\n",
    "\n",
    "print(params.ELECTRODE_POSITION[:, :2].shape)\n",
    "print(test_data[i, :].shape)\n",
    "\n",
    "# g_lfp, _ = build_lfp_grid(test_data, params.ELECTRODE_POSITION)\n",
    "summ_stats = np.array(calculate_stats(test_data))\n",
    "print(summ_stats.shape)\n",
    "\n",
    "model1.eval()\n",
    "summ_stats = torch.Tensor(np.expand_dims(summ_stats, axis=0))\n",
    "print(summ_stats.shape)\n",
    "summ_stats_tensor = summ_stats.to(device)\n",
    "pred = model1(summ_stats_tensor)\n",
    "pred = pred.to(\"cpu\").detach().numpy()\n",
    "\n",
    "if normalize_labels:\n",
    "    for i in range(pred.shape[1]):\n",
    "        old_pred = pred[:,i]\n",
    "        label_name = inference_list[i]\n",
    "        min_max_range = ranges[label_name]\n",
    "        org_pred = (((old_pred - feature_range[0]) / (feature_range[1] - feature_range[0])) \n",
    "                    * (min_max_range[1] - min_max_range[0]) + min_max_range[0])\n",
    "        pred[:,i] = org_pred\n",
    "print(pred)"
   ]
  },
  {
   "cell_type": "code",
   "execution_count": null,
   "metadata": {},
   "outputs": [],
   "source": [
    "%matplotlib inline\n",
    "\n",
    "cell_idx = 0\n",
    "\n",
    "t = np.arange(test_data.shape[0])\n",
    "print(test_data.shape)\n",
    "\n",
    "ix = 1\n",
    "ylim = [-1900,1900]\n",
    "x_dist = np.unique(params.ELECTRODE_POSITION[:,0])\n",
    "e_idx = ((params.ELECTRODE_POSITION[:,0]==x_dist[ix]) & \n",
    "         (params.ELECTRODE_POSITION[:,1]>=ylim[0]) & \n",
    "         (params.ELECTRODE_POSITION[:,1]<=ylim[1]))\n",
    "\n",
    "print(e_idx.shape)\n",
    "print(params.ELECTRODE_POSITION[e_idx, 1].shape)\n",
    "print(t.shape)\n",
    "\n",
    "_ = plot_lfp_heatmap(t,\n",
    "                     params.ELECTRODE_POSITION[e_idx, 1],\n",
    "                     test_data[:,e_idx], vlim='auto',\n",
    "                     fontsize=15,labelpad=0,ticksize=10,nbins=5)"
   ]
  },
  {
   "cell_type": "code",
   "execution_count": null,
   "metadata": {},
   "outputs": [],
   "source": []
  }
 ],
 "metadata": {
  "kernelspec": {
   "display_name": "Python 3",
   "language": "python",
   "name": "python3"
  },
  "language_info": {
   "codemirror_mode": {
    "name": "ipython",
    "version": 3
   },
   "file_extension": ".py",
   "mimetype": "text/x-python",
   "name": "python",
   "nbconvert_exporter": "python",
   "pygments_lexer": "ipython3",
   "version": "3.8.11"
  }
 },
 "nbformat": 4,
 "nbformat_minor": 4
}
