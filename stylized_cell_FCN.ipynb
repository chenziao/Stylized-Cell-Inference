{
 "cells": [
  {
   "cell_type": "code",
   "execution_count": 1,
   "metadata": {},
   "outputs": [],
   "source": [
    "%matplotlib inline\n",
    "\n",
    "\n",
    "from neuron import h\n",
    "import pandas as pd\n",
    "import numpy as np\n",
    "import matplotlib.pyplot as plt\n",
    "from scipy import signal\n",
    "import h5py\n",
    "import os\n",
    "\n",
    "from cell_inference.utils.plotting.plot_results import plot_lfp_traces, plot_lfp_heatmap\n",
    "from cell_inference.utils.feature_extractors.SummaryStats2D import calculate_stats, build_lfp_grid\n",
    "from cell_inference.cells.stylizedcell import CellTypes\n",
    "from cell_inference.cells.activecell import ActiveCell\n",
    "from cell_inference.cells.passivecell import PassiveCell\n",
    "from cell_inference.cells.simulation import Simulation\n",
    "from cell_inference.utils.currents.recorder import Recorder\n",
    "from cell_inference.config import paths, params\n",
    "from cell_inference.utils.feature_extractors.parameterprediction import ClassifierTypes, ClassifierBuilder\n",
    "\n",
    "cell_type = CellTypes.ACTIVE\n",
    "\n",
    "h.nrn_load_dll(paths.COMPILED_LIBRARY)\n",
    "geo_standard = pd.read_csv(paths.GEO_STANDARD,index_col='id')\n",
    "h.tstop = params.TSTOP\n",
    "h.dt = params.DT"
   ]
  },
  {
   "cell_type": "code",
   "execution_count": 2,
   "metadata": {},
   "outputs": [
    {
     "name": "stdout",
     "output_type": "stream",
     "text": [
      "Keys: <KeysViewHDF5 ['coord', 'data', 'fs', 'grid']>\n",
      "(384, 2)\n",
      "(121, 384)\n"
     ]
    }
   ],
   "source": [
    "DATA_PATH = 'cell_inference/resources'\n",
    "\n",
    "INVIVO_PATH = os.path.join(DATA_PATH, 'cell360LFP2D.h5')\n",
    "\n",
    "with h5py.File(INVIVO_PATH, \"r\") as f:\n",
    "    # List all groups\n",
    "    print(\"Keys: %s\" % f.keys())\n",
    "    print(f['coord'][:].shape)\n",
    "    print(f['data'][:].shape)\n",
    "    a_group_key = list(f.keys())[0]\n",
    "\n",
    "    # Get the data\n",
    "    test_data = f['data'][:]"
   ]
  },
  {
   "cell_type": "code",
   "execution_count": 3,
   "metadata": {},
   "outputs": [
    {
     "name": "stdout",
     "output_type": "stream",
     "text": [
      "(1000, 176, 384)\n",
      "(1000, 7)\n"
     ]
    }
   ],
   "source": [
    "from cell_inference.utils.transform.geometry_transformation import hphi2unitsphere\n",
    "\n",
    "\n",
    "DATA_PATH = 'cell_inference/resources/simulation_data'\n",
    "TRIAL_PATH = os.path.join(DATA_PATH, 'Loc2Alt_Ori2_Geo3_params')\n",
    "\n",
    "LFP_PATH = os.path.join(TRIAL_PATH, 'lfp.npz')  # LFP and labels\n",
    "\n",
    "lfp   = np.load(LFP_PATH)['x']\n",
    "print(lfp.shape)\n",
    "labels = np.load(LFP_PATH)['y']\n",
    "print(labels.shape)"
   ]
  },
  {
   "cell_type": "code",
   "execution_count": 4,
   "metadata": {},
   "outputs": [
    {
     "data": {
      "application/vnd.jupyter.widget-view+json": {
       "model_id": "27fd2de554b54268bc069f4c56210901",
       "version_major": 2,
       "version_minor": 0
      },
      "text/plain": [
       "  0%|          | 0/1000 [00:00<?, ?it/s]"
      ]
     },
     "metadata": {},
     "output_type": "display_data"
    }
   ],
   "source": [
    "from tqdm.notebook import tqdm\n",
    "\n",
    "summ_stats = []\n",
    "for i in tqdm(range(lfp.shape[0])):\n",
    "    g_lfp, _ = build_lfp_grid(lfp[i], params.ELECTRODE_POSITION)\n",
    "    summ_stats.append(calculate_stats(g_lfp))\n",
    "summ_stats = np.array(summ_stats)"
   ]
  },
  {
   "cell_type": "markdown",
   "metadata": {},
   "source": [
    "If the user sends h and phi parameters and wants the model to learn directional vectors for orientation, enable this code block"
   ]
  },
  {
   "cell_type": "code",
   "execution_count": 5,
   "metadata": {},
   "outputs": [],
   "source": [
    "convert_hphi_to_dv = False\n",
    "\n",
    "if convert_hphi_to_dv:\n",
    "#     hphi_labels = labels\n",
    "    dv = hphi2unitsphere(labels)\n",
    "    dvx, dvy, dvz = tuple(np.hsplit(dv, 3))\n",
    "    labels = np.concatenate((dvx, dvy, dvz), axis=1)\n",
    "    print(labels.shape)"
   ]
  },
  {
   "cell_type": "code",
   "execution_count": 6,
   "metadata": {},
   "outputs": [
    {
     "name": "stdout",
     "output_type": "stream",
     "text": [
      "['d', 'theta', 'h', 'phi', 'r_s', 'l_t', 'r_t']\n",
      "[[-0.54532796  0.19950308  0.2467447  ...  0.78257079 -0.95830196\n",
      "   0.01884223]\n",
      " [-0.36648332 -0.83769703 -0.33564824 ... -0.10318346 -0.03745967\n",
      "  -0.99991956]\n",
      " [ 0.59473091  0.05853246 -0.31366349 ... -0.15249521  0.96449401\n",
      "  -0.76405391]\n",
      " ...\n",
      " [-0.26264348 -0.37940062  0.95769607 ...  0.23478598  0.82764779\n",
      "  -0.75374182]\n",
      " [-0.01424659 -0.12016722  0.92645932 ... -0.40433452  0.83934002\n",
      "   0.84983729]\n",
      " [-0.1353533  -0.07019125  0.14896279 ...  0.81742647 -0.38685954\n",
      "  -0.7928324 ]]\n"
     ]
    }
   ],
   "source": [
    "import json\n",
    "\n",
    "CONFIG_PATH = os.path.join(TRIAL_PATH, 'config.json')\n",
    "\n",
    "with open(CONFIG_PATH, 'r') as f:\n",
    "    config = json.load(f)\n",
    "\n",
    "inference_list = config['Trial_Parameters']['inference_list']\n",
    "print(inference_list)\n",
    "ranges = config['Simulation_Parameters']['loc_param_range']\n",
    "ranges.update(config['Simulation_Parameters']['geo_param_range'])\n",
    "feature_range = (-1, 1)\n",
    "\n",
    "normalize_labels = True\n",
    "\n",
    "if normalize_labels:\n",
    "    for i in range(labels.shape[1]):\n",
    "        label = labels[:,i]\n",
    "        label_name = inference_list[i]\n",
    "        min_max_range = ranges[label_name]\n",
    "        x_std = (label - min_max_range[0]) / (min_max_range[1] - min_max_range[0])\n",
    "        x_scaled = x_std * (feature_range[1] - feature_range[0]) + feature_range[0]\n",
    "        labels[:,i] = x_scaled\n",
    "    print(labels)"
   ]
  },
  {
   "cell_type": "code",
   "execution_count": 7,
   "metadata": {},
   "outputs": [
    {
     "name": "stdout",
     "output_type": "stream",
     "text": [
      "(1000, 40)\n"
     ]
    }
   ],
   "source": [
    "from cell_inference.utils.feature_extractors.helperfunctions import train_regression, build_dataloader_from_numpy\n",
    "\n",
    "data = summ_stats\n",
    "print(data.shape)\n",
    "\n",
    "train_loader, test_loader = build_dataloader_from_numpy(input_arr=data, labels_arr=labels, batch_size=2)"
   ]
  },
  {
   "cell_type": "code",
   "execution_count": 9,
   "metadata": {},
   "outputs": [
    {
     "name": "stderr",
     "output_type": "stream",
     "text": [
      "  0%|          | 1/300 [00:01<05:22,  1.08s/it]"
     ]
    },
    {
     "name": "stdout",
     "output_type": "stream",
     "text": [
      "Training Loss: 114.41624193638563 Validation Loss: 33.24349159002304\n"
     ]
    },
    {
     "name": "stderr",
     "output_type": "stream",
     "text": [
      "  4%|▎         | 11/300 [00:10<04:37,  1.04it/s]"
     ]
    },
    {
     "name": "stdout",
     "output_type": "stream",
     "text": [
      "Training Loss: 82.15329130366445 Validation Loss: 28.67697463929653\n"
     ]
    },
    {
     "name": "stderr",
     "output_type": "stream",
     "text": [
      "  7%|▋         | 21/300 [00:21<04:54,  1.06s/it]"
     ]
    },
    {
     "name": "stdout",
     "output_type": "stream",
     "text": [
      "Training Loss: 75.39998754113913 Validation Loss: 27.08014841750264\n"
     ]
    },
    {
     "name": "stderr",
     "output_type": "stream",
     "text": [
      " 10%|█         | 31/300 [00:31<04:43,  1.06s/it]"
     ]
    },
    {
     "name": "stdout",
     "output_type": "stream",
     "text": [
      "Training Loss: 72.24378610774875 Validation Loss: 26.44069292396307\n"
     ]
    },
    {
     "name": "stderr",
     "output_type": "stream",
     "text": [
      " 14%|█▎        | 41/300 [00:42<04:32,  1.05s/it]"
     ]
    },
    {
     "name": "stdout",
     "output_type": "stream",
     "text": [
      "Training Loss: 68.28142442554235 Validation Loss: 24.583733085542917\n"
     ]
    },
    {
     "name": "stderr",
     "output_type": "stream",
     "text": [
      " 17%|█▋        | 51/300 [00:52<04:20,  1.05s/it]"
     ]
    },
    {
     "name": "stdout",
     "output_type": "stream",
     "text": [
      "Training Loss: 64.36759581230581 Validation Loss: 25.076638370752335\n"
     ]
    },
    {
     "name": "stderr",
     "output_type": "stream",
     "text": [
      " 20%|██        | 61/300 [01:03<04:09,  1.05s/it]"
     ]
    },
    {
     "name": "stdout",
     "output_type": "stream",
     "text": [
      "Training Loss: 59.68377788737416 Validation Loss: 25.94939248636365\n"
     ]
    },
    {
     "name": "stderr",
     "output_type": "stream",
     "text": [
      " 24%|██▎       | 71/300 [01:13<03:56,  1.03s/it]"
     ]
    },
    {
     "name": "stdout",
     "output_type": "stream",
     "text": [
      "Training Loss: 56.58977506496012 Validation Loss: 25.82813824340701\n"
     ]
    },
    {
     "name": "stderr",
     "output_type": "stream",
     "text": [
      " 27%|██▋       | 81/300 [01:24<03:48,  1.04s/it]"
     ]
    },
    {
     "name": "stdout",
     "output_type": "stream",
     "text": [
      "Training Loss: 51.455382796004415 Validation Loss: 26.68223064020276\n"
     ]
    },
    {
     "name": "stderr",
     "output_type": "stream",
     "text": [
      " 30%|███       | 91/300 [01:34<03:37,  1.04s/it]"
     ]
    },
    {
     "name": "stdout",
     "output_type": "stream",
     "text": [
      "Training Loss: 46.67700807377696 Validation Loss: 27.656899508088827\n"
     ]
    },
    {
     "name": "stderr",
     "output_type": "stream",
     "text": [
      " 34%|███▎      | 101/300 [01:44<03:26,  1.04s/it]"
     ]
    },
    {
     "name": "stdout",
     "output_type": "stream",
     "text": [
      "Training Loss: 44.302351934835315 Validation Loss: 27.813732232898474\n"
     ]
    },
    {
     "name": "stderr",
     "output_type": "stream",
     "text": [
      " 37%|███▋      | 111/300 [01:55<03:14,  1.03s/it]"
     ]
    },
    {
     "name": "stdout",
     "output_type": "stream",
     "text": [
      "Training Loss: 40.32392924744636 Validation Loss: 30.524087119847536\n"
     ]
    },
    {
     "name": "stderr",
     "output_type": "stream",
     "text": [
      " 40%|████      | 121/300 [02:05<03:07,  1.05s/it]"
     ]
    },
    {
     "name": "stdout",
     "output_type": "stream",
     "text": [
      "Training Loss: 36.74038746021688 Validation Loss: 30.416901268064976\n"
     ]
    },
    {
     "name": "stderr",
     "output_type": "stream",
     "text": [
      " 44%|████▎     | 131/300 [02:16<02:58,  1.06s/it]"
     ]
    },
    {
     "name": "stdout",
     "output_type": "stream",
     "text": [
      "Training Loss: 34.707035375759006 Validation Loss: 31.000651590526104\n"
     ]
    },
    {
     "name": "stderr",
     "output_type": "stream",
     "text": [
      " 47%|████▋     | 141/300 [02:26<02:45,  1.04s/it]"
     ]
    },
    {
     "name": "stdout",
     "output_type": "stream",
     "text": [
      "Training Loss: 31.732625972479582 Validation Loss: 30.940159637480974\n"
     ]
    },
    {
     "name": "stderr",
     "output_type": "stream",
     "text": [
      " 50%|█████     | 151/300 [02:36<02:35,  1.04s/it]"
     ]
    },
    {
     "name": "stdout",
     "output_type": "stream",
     "text": [
      "Training Loss: 30.482187471352518 Validation Loss: 32.545838698744774\n"
     ]
    },
    {
     "name": "stderr",
     "output_type": "stream",
     "text": [
      " 54%|█████▎    | 161/300 [02:47<02:25,  1.05s/it]"
     ]
    },
    {
     "name": "stdout",
     "output_type": "stream",
     "text": [
      "Training Loss: 28.282874051481485 Validation Loss: 32.269419737160206\n"
     ]
    },
    {
     "name": "stderr",
     "output_type": "stream",
     "text": [
      " 57%|█████▋    | 171/300 [02:56<01:49,  1.18it/s]"
     ]
    },
    {
     "name": "stdout",
     "output_type": "stream",
     "text": [
      "Training Loss: 25.4885006477125 Validation Loss: 32.173833057284355\n"
     ]
    },
    {
     "name": "stderr",
     "output_type": "stream",
     "text": [
      " 60%|██████    | 181/300 [03:06<02:03,  1.04s/it]"
     ]
    },
    {
     "name": "stdout",
     "output_type": "stream",
     "text": [
      "Training Loss: 24.379982461221516 Validation Loss: 32.450664054602385\n"
     ]
    },
    {
     "name": "stderr",
     "output_type": "stream",
     "text": [
      " 64%|██████▎   | 191/300 [03:17<01:54,  1.05s/it]"
     ]
    },
    {
     "name": "stdout",
     "output_type": "stream",
     "text": [
      "Training Loss: 23.340553218498826 Validation Loss: 32.483091093599796\n"
     ]
    },
    {
     "name": "stderr",
     "output_type": "stream",
     "text": [
      " 67%|██████▋   | 201/300 [03:27<01:44,  1.05s/it]"
     ]
    },
    {
     "name": "stdout",
     "output_type": "stream",
     "text": [
      "Training Loss: 22.404509426560253 Validation Loss: 32.79126674309373\n"
     ]
    },
    {
     "name": "stderr",
     "output_type": "stream",
     "text": [
      " 70%|███████   | 211/300 [03:38<01:32,  1.04s/it]"
     ]
    },
    {
     "name": "stdout",
     "output_type": "stream",
     "text": [
      "Training Loss: 21.452656720299274 Validation Loss: 33.95448221638799\n"
     ]
    },
    {
     "name": "stderr",
     "output_type": "stream",
     "text": [
      " 74%|███████▎  | 221/300 [03:48<01:18,  1.00it/s]"
     ]
    },
    {
     "name": "stdout",
     "output_type": "stream",
     "text": [
      "Training Loss: 20.49138362519443 Validation Loss: 34.24891447648406\n"
     ]
    },
    {
     "name": "stderr",
     "output_type": "stream",
     "text": [
      " 77%|███████▋  | 231/300 [03:58<01:08,  1.01it/s]"
     ]
    },
    {
     "name": "stdout",
     "output_type": "stream",
     "text": [
      "Training Loss: 20.14617098448798 Validation Loss: 34.60361314564943\n"
     ]
    },
    {
     "name": "stderr",
     "output_type": "stream",
     "text": [
      " 80%|████████  | 241/300 [04:08<01:01,  1.04s/it]"
     ]
    },
    {
     "name": "stdout",
     "output_type": "stream",
     "text": [
      "Training Loss: 19.049984693992883 Validation Loss: 35.40913190692663\n"
     ]
    },
    {
     "name": "stderr",
     "output_type": "stream",
     "text": [
      " 84%|████████▎ | 251/300 [04:17<00:45,  1.07it/s]"
     ]
    },
    {
     "name": "stdout",
     "output_type": "stream",
     "text": [
      "Training Loss: 18.347711177542806 Validation Loss: 35.97819411382079\n"
     ]
    },
    {
     "name": "stderr",
     "output_type": "stream",
     "text": [
      " 87%|████████▋ | 261/300 [04:27<00:40,  1.04s/it]"
     ]
    },
    {
     "name": "stdout",
     "output_type": "stream",
     "text": [
      "Training Loss: 17.89214912801981 Validation Loss: 37.01179990917444\n"
     ]
    },
    {
     "name": "stderr",
     "output_type": "stream",
     "text": [
      " 90%|█████████ | 271/300 [04:38<00:30,  1.05s/it]"
     ]
    },
    {
     "name": "stdout",
     "output_type": "stream",
     "text": [
      "Training Loss: 17.264203139115125 Validation Loss: 37.64806641638279\n"
     ]
    },
    {
     "name": "stderr",
     "output_type": "stream",
     "text": [
      " 94%|█████████▎| 281/300 [04:48<00:19,  1.05s/it]"
     ]
    },
    {
     "name": "stdout",
     "output_type": "stream",
     "text": [
      "Training Loss: 16.69395810365677 Validation Loss: 37.79980757832527\n"
     ]
    },
    {
     "name": "stderr",
     "output_type": "stream",
     "text": [
      " 97%|█████████▋| 291/300 [04:59<00:09,  1.05s/it]"
     ]
    },
    {
     "name": "stdout",
     "output_type": "stream",
     "text": [
      "Training Loss: 16.291610831627622 Validation Loss: 38.07270870357752\n"
     ]
    },
    {
     "name": "stderr",
     "output_type": "stream",
     "text": [
      "100%|██████████| 300/300 [05:08<00:00,  1.03s/it]\n"
     ]
    }
   ],
   "source": [
    "from cell_inference.utils.feature_extractors.fullyconnectednetwork import FullyConnectedNetwork, ActivationTypes\n",
    "from cell_inference.utils.feature_extractors.convolutionalnetwork import ConvolutionalNetwork\n",
    "import torch\n",
    "\n",
    "# model1 = ConvolutionalNetwork(in_channels=1, num_labels=2)\n",
    "# model1 = torch.load('cell_inference/resources/results/pytorch_models/16_23_59__01_04_2022.pt')\n",
    "model1 = FullyConnectedNetwork(in_features=40, out_features=7)\n",
    "\n",
    "device = torch.device(\"cuda:0\" if torch.cuda.is_available() else \"cpu\") #torch.device(\"cpu\")\n",
    "model1.to(device)\n",
    "\n",
    "train_regression(model1, train_loader, test_loader, 300, learning_rate=0.001, decay_rate=0.99, device=device)"
   ]
  },
  {
   "cell_type": "code",
   "execution_count": 10,
   "metadata": {},
   "outputs": [
    {
     "name": "stdout",
     "output_type": "stream",
     "text": [
      "R2: -0.11584565604865413\n",
      "(128, 7)\n",
      "(128, 7)\n"
     ]
    }
   ],
   "source": [
    "from sklearn.metrics import r2_score\n",
    "from cell_inference.utils.transform.geometry_transformation import hphi2unitsphere, unitsphere2hphi, trivarnorm2unitsphere\n",
    "\n",
    "train_loader, test_loader = build_dataloader_from_numpy(input_arr=data, labels_arr=labels, batch_size=128)\n",
    "\n",
    "x, y = next(iter(test_loader))\n",
    "model1.eval()\n",
    "x = x.to(device)\n",
    "output = model1(x)\n",
    "output = output.to(\"cpu\").detach().numpy()\n",
    "y = y.to(\"cpu\").detach().numpy()\n",
    "\n",
    "# h_out, phi_out = tuple(np.hsplit(unitsphere2hphi(trivarnorm2unitsphere(np.hstack((output[:,0], output[:,1], output[:,2])))),2))\n",
    "# h_lab, phi_lab = tuple(np.hsplit(unitsphere2hphi(trivarnorm2unitsphere(np.hstack((y[:,0], y[:,1], y[:,2])))),2))\n",
    "\n",
    "print(\"R2: {}\".format(r2_score(y, output)))\n",
    "\n",
    "# print(\"R2 h: {}\".format(r2_score(h_lab, h_out)))\n",
    "# print(\"R2 phi: {}\".format(r2_score(phi_lab, phi_out)))\n",
    "print(output.shape)\n",
    "print(y.shape)"
   ]
  },
  {
   "cell_type": "code",
   "execution_count": 11,
   "metadata": {},
   "outputs": [],
   "source": [
    "if normalize_labels:\n",
    "    for i in range(y.shape[1]):\n",
    "        old_y = y[:,i]\n",
    "        old_out = output[:,i]\n",
    "        label_name = inference_list[i]\n",
    "        min_max_range = ranges[label_name]\n",
    "        org_y = (((old_y - feature_range[0]) / (feature_range[1] - feature_range[0])) \n",
    "                    * (min_max_range[1] - min_max_range[0]) + min_max_range[0])\n",
    "        \n",
    "        org_out = (((old_out - feature_range[0]) / (feature_range[1] - feature_range[0])) \n",
    "                    * (min_max_range[1] - min_max_range[0]) + min_max_range[0])\n",
    "        y[:,i] = org_y\n",
    "        output[:,i] = org_out"
   ]
  },
  {
   "cell_type": "code",
   "execution_count": 12,
   "metadata": {},
   "outputs": [
    {
     "data": {
      "application/javascript": [
       "/* Put everything inside the global mpl namespace */\n",
       "/* global mpl */\n",
       "window.mpl = {};\n",
       "\n",
       "mpl.get_websocket_type = function () {\n",
       "    if (typeof WebSocket !== 'undefined') {\n",
       "        return WebSocket;\n",
       "    } else if (typeof MozWebSocket !== 'undefined') {\n",
       "        return MozWebSocket;\n",
       "    } else {\n",
       "        alert(\n",
       "            'Your browser does not have WebSocket support. ' +\n",
       "                'Please try Chrome, Safari or Firefox ≥ 6. ' +\n",
       "                'Firefox 4 and 5 are also supported but you ' +\n",
       "                'have to enable WebSockets in about:config.'\n",
       "        );\n",
       "    }\n",
       "};\n",
       "\n",
       "mpl.figure = function (figure_id, websocket, ondownload, parent_element) {\n",
       "    this.id = figure_id;\n",
       "\n",
       "    this.ws = websocket;\n",
       "\n",
       "    this.supports_binary = this.ws.binaryType !== undefined;\n",
       "\n",
       "    if (!this.supports_binary) {\n",
       "        var warnings = document.getElementById('mpl-warnings');\n",
       "        if (warnings) {\n",
       "            warnings.style.display = 'block';\n",
       "            warnings.textContent =\n",
       "                'This browser does not support binary websocket messages. ' +\n",
       "                'Performance may be slow.';\n",
       "        }\n",
       "    }\n",
       "\n",
       "    this.imageObj = new Image();\n",
       "\n",
       "    this.context = undefined;\n",
       "    this.message = undefined;\n",
       "    this.canvas = undefined;\n",
       "    this.rubberband_canvas = undefined;\n",
       "    this.rubberband_context = undefined;\n",
       "    this.format_dropdown = undefined;\n",
       "\n",
       "    this.image_mode = 'full';\n",
       "\n",
       "    this.root = document.createElement('div');\n",
       "    this.root.setAttribute('style', 'display: inline-block');\n",
       "    this._root_extra_style(this.root);\n",
       "\n",
       "    parent_element.appendChild(this.root);\n",
       "\n",
       "    this._init_header(this);\n",
       "    this._init_canvas(this);\n",
       "    this._init_toolbar(this);\n",
       "\n",
       "    var fig = this;\n",
       "\n",
       "    this.waiting = false;\n",
       "\n",
       "    this.ws.onopen = function () {\n",
       "        fig.send_message('supports_binary', { value: fig.supports_binary });\n",
       "        fig.send_message('send_image_mode', {});\n",
       "        if (fig.ratio !== 1) {\n",
       "            fig.send_message('set_dpi_ratio', { dpi_ratio: fig.ratio });\n",
       "        }\n",
       "        fig.send_message('refresh', {});\n",
       "    };\n",
       "\n",
       "    this.imageObj.onload = function () {\n",
       "        if (fig.image_mode === 'full') {\n",
       "            // Full images could contain transparency (where diff images\n",
       "            // almost always do), so we need to clear the canvas so that\n",
       "            // there is no ghosting.\n",
       "            fig.context.clearRect(0, 0, fig.canvas.width, fig.canvas.height);\n",
       "        }\n",
       "        fig.context.drawImage(fig.imageObj, 0, 0);\n",
       "    };\n",
       "\n",
       "    this.imageObj.onunload = function () {\n",
       "        fig.ws.close();\n",
       "    };\n",
       "\n",
       "    this.ws.onmessage = this._make_on_message_function(this);\n",
       "\n",
       "    this.ondownload = ondownload;\n",
       "};\n",
       "\n",
       "mpl.figure.prototype._init_header = function () {\n",
       "    var titlebar = document.createElement('div');\n",
       "    titlebar.classList =\n",
       "        'ui-dialog-titlebar ui-widget-header ui-corner-all ui-helper-clearfix';\n",
       "    var titletext = document.createElement('div');\n",
       "    titletext.classList = 'ui-dialog-title';\n",
       "    titletext.setAttribute(\n",
       "        'style',\n",
       "        'width: 100%; text-align: center; padding: 3px;'\n",
       "    );\n",
       "    titlebar.appendChild(titletext);\n",
       "    this.root.appendChild(titlebar);\n",
       "    this.header = titletext;\n",
       "};\n",
       "\n",
       "mpl.figure.prototype._canvas_extra_style = function (_canvas_div) {};\n",
       "\n",
       "mpl.figure.prototype._root_extra_style = function (_canvas_div) {};\n",
       "\n",
       "mpl.figure.prototype._init_canvas = function () {\n",
       "    var fig = this;\n",
       "\n",
       "    var canvas_div = (this.canvas_div = document.createElement('div'));\n",
       "    canvas_div.setAttribute(\n",
       "        'style',\n",
       "        'border: 1px solid #ddd;' +\n",
       "            'box-sizing: content-box;' +\n",
       "            'clear: both;' +\n",
       "            'min-height: 1px;' +\n",
       "            'min-width: 1px;' +\n",
       "            'outline: 0;' +\n",
       "            'overflow: hidden;' +\n",
       "            'position: relative;' +\n",
       "            'resize: both;'\n",
       "    );\n",
       "\n",
       "    function on_keyboard_event_closure(name) {\n",
       "        return function (event) {\n",
       "            return fig.key_event(event, name);\n",
       "        };\n",
       "    }\n",
       "\n",
       "    canvas_div.addEventListener(\n",
       "        'keydown',\n",
       "        on_keyboard_event_closure('key_press')\n",
       "    );\n",
       "    canvas_div.addEventListener(\n",
       "        'keyup',\n",
       "        on_keyboard_event_closure('key_release')\n",
       "    );\n",
       "\n",
       "    this._canvas_extra_style(canvas_div);\n",
       "    this.root.appendChild(canvas_div);\n",
       "\n",
       "    var canvas = (this.canvas = document.createElement('canvas'));\n",
       "    canvas.classList.add('mpl-canvas');\n",
       "    canvas.setAttribute('style', 'box-sizing: content-box;');\n",
       "\n",
       "    this.context = canvas.getContext('2d');\n",
       "\n",
       "    var backingStore =\n",
       "        this.context.backingStorePixelRatio ||\n",
       "        this.context.webkitBackingStorePixelRatio ||\n",
       "        this.context.mozBackingStorePixelRatio ||\n",
       "        this.context.msBackingStorePixelRatio ||\n",
       "        this.context.oBackingStorePixelRatio ||\n",
       "        this.context.backingStorePixelRatio ||\n",
       "        1;\n",
       "\n",
       "    this.ratio = (window.devicePixelRatio || 1) / backingStore;\n",
       "\n",
       "    var rubberband_canvas = (this.rubberband_canvas = document.createElement(\n",
       "        'canvas'\n",
       "    ));\n",
       "    rubberband_canvas.setAttribute(\n",
       "        'style',\n",
       "        'box-sizing: content-box; position: absolute; left: 0; top: 0; z-index: 1;'\n",
       "    );\n",
       "\n",
       "    // Apply a ponyfill if ResizeObserver is not implemented by browser.\n",
       "    if (this.ResizeObserver === undefined) {\n",
       "        if (window.ResizeObserver !== undefined) {\n",
       "            this.ResizeObserver = window.ResizeObserver;\n",
       "        } else {\n",
       "            var obs = _JSXTOOLS_RESIZE_OBSERVER({});\n",
       "            this.ResizeObserver = obs.ResizeObserver;\n",
       "        }\n",
       "    }\n",
       "\n",
       "    this.resizeObserverInstance = new this.ResizeObserver(function (entries) {\n",
       "        var nentries = entries.length;\n",
       "        for (var i = 0; i < nentries; i++) {\n",
       "            var entry = entries[i];\n",
       "            var width, height;\n",
       "            if (entry.contentBoxSize) {\n",
       "                if (entry.contentBoxSize instanceof Array) {\n",
       "                    // Chrome 84 implements new version of spec.\n",
       "                    width = entry.contentBoxSize[0].inlineSize;\n",
       "                    height = entry.contentBoxSize[0].blockSize;\n",
       "                } else {\n",
       "                    // Firefox implements old version of spec.\n",
       "                    width = entry.contentBoxSize.inlineSize;\n",
       "                    height = entry.contentBoxSize.blockSize;\n",
       "                }\n",
       "            } else {\n",
       "                // Chrome <84 implements even older version of spec.\n",
       "                width = entry.contentRect.width;\n",
       "                height = entry.contentRect.height;\n",
       "            }\n",
       "\n",
       "            // Keep the size of the canvas and rubber band canvas in sync with\n",
       "            // the canvas container.\n",
       "            if (entry.devicePixelContentBoxSize) {\n",
       "                // Chrome 84 implements new version of spec.\n",
       "                canvas.setAttribute(\n",
       "                    'width',\n",
       "                    entry.devicePixelContentBoxSize[0].inlineSize\n",
       "                );\n",
       "                canvas.setAttribute(\n",
       "                    'height',\n",
       "                    entry.devicePixelContentBoxSize[0].blockSize\n",
       "                );\n",
       "            } else {\n",
       "                canvas.setAttribute('width', width * fig.ratio);\n",
       "                canvas.setAttribute('height', height * fig.ratio);\n",
       "            }\n",
       "            canvas.setAttribute(\n",
       "                'style',\n",
       "                'width: ' + width + 'px; height: ' + height + 'px;'\n",
       "            );\n",
       "\n",
       "            rubberband_canvas.setAttribute('width', width);\n",
       "            rubberband_canvas.setAttribute('height', height);\n",
       "\n",
       "            // And update the size in Python. We ignore the initial 0/0 size\n",
       "            // that occurs as the element is placed into the DOM, which should\n",
       "            // otherwise not happen due to the minimum size styling.\n",
       "            if (fig.ws.readyState == 1 && width != 0 && height != 0) {\n",
       "                fig.request_resize(width, height);\n",
       "            }\n",
       "        }\n",
       "    });\n",
       "    this.resizeObserverInstance.observe(canvas_div);\n",
       "\n",
       "    function on_mouse_event_closure(name) {\n",
       "        return function (event) {\n",
       "            return fig.mouse_event(event, name);\n",
       "        };\n",
       "    }\n",
       "\n",
       "    rubberband_canvas.addEventListener(\n",
       "        'mousedown',\n",
       "        on_mouse_event_closure('button_press')\n",
       "    );\n",
       "    rubberband_canvas.addEventListener(\n",
       "        'mouseup',\n",
       "        on_mouse_event_closure('button_release')\n",
       "    );\n",
       "    // Throttle sequential mouse events to 1 every 20ms.\n",
       "    rubberband_canvas.addEventListener(\n",
       "        'mousemove',\n",
       "        on_mouse_event_closure('motion_notify')\n",
       "    );\n",
       "\n",
       "    rubberband_canvas.addEventListener(\n",
       "        'mouseenter',\n",
       "        on_mouse_event_closure('figure_enter')\n",
       "    );\n",
       "    rubberband_canvas.addEventListener(\n",
       "        'mouseleave',\n",
       "        on_mouse_event_closure('figure_leave')\n",
       "    );\n",
       "\n",
       "    canvas_div.addEventListener('wheel', function (event) {\n",
       "        if (event.deltaY < 0) {\n",
       "            event.step = 1;\n",
       "        } else {\n",
       "            event.step = -1;\n",
       "        }\n",
       "        on_mouse_event_closure('scroll')(event);\n",
       "    });\n",
       "\n",
       "    canvas_div.appendChild(canvas);\n",
       "    canvas_div.appendChild(rubberband_canvas);\n",
       "\n",
       "    this.rubberband_context = rubberband_canvas.getContext('2d');\n",
       "    this.rubberband_context.strokeStyle = '#000000';\n",
       "\n",
       "    this._resize_canvas = function (width, height, forward) {\n",
       "        if (forward) {\n",
       "            canvas_div.style.width = width + 'px';\n",
       "            canvas_div.style.height = height + 'px';\n",
       "        }\n",
       "    };\n",
       "\n",
       "    // Disable right mouse context menu.\n",
       "    this.rubberband_canvas.addEventListener('contextmenu', function (_e) {\n",
       "        event.preventDefault();\n",
       "        return false;\n",
       "    });\n",
       "\n",
       "    function set_focus() {\n",
       "        canvas.focus();\n",
       "        canvas_div.focus();\n",
       "    }\n",
       "\n",
       "    window.setTimeout(set_focus, 100);\n",
       "};\n",
       "\n",
       "mpl.figure.prototype._init_toolbar = function () {\n",
       "    var fig = this;\n",
       "\n",
       "    var toolbar = document.createElement('div');\n",
       "    toolbar.classList = 'mpl-toolbar';\n",
       "    this.root.appendChild(toolbar);\n",
       "\n",
       "    function on_click_closure(name) {\n",
       "        return function (_event) {\n",
       "            return fig.toolbar_button_onclick(name);\n",
       "        };\n",
       "    }\n",
       "\n",
       "    function on_mouseover_closure(tooltip) {\n",
       "        return function (event) {\n",
       "            if (!event.currentTarget.disabled) {\n",
       "                return fig.toolbar_button_onmouseover(tooltip);\n",
       "            }\n",
       "        };\n",
       "    }\n",
       "\n",
       "    fig.buttons = {};\n",
       "    var buttonGroup = document.createElement('div');\n",
       "    buttonGroup.classList = 'mpl-button-group';\n",
       "    for (var toolbar_ind in mpl.toolbar_items) {\n",
       "        var name = mpl.toolbar_items[toolbar_ind][0];\n",
       "        var tooltip = mpl.toolbar_items[toolbar_ind][1];\n",
       "        var image = mpl.toolbar_items[toolbar_ind][2];\n",
       "        var method_name = mpl.toolbar_items[toolbar_ind][3];\n",
       "\n",
       "        if (!name) {\n",
       "            /* Instead of a spacer, we start a new button group. */\n",
       "            if (buttonGroup.hasChildNodes()) {\n",
       "                toolbar.appendChild(buttonGroup);\n",
       "            }\n",
       "            buttonGroup = document.createElement('div');\n",
       "            buttonGroup.classList = 'mpl-button-group';\n",
       "            continue;\n",
       "        }\n",
       "\n",
       "        var button = (fig.buttons[name] = document.createElement('button'));\n",
       "        button.classList = 'mpl-widget';\n",
       "        button.setAttribute('role', 'button');\n",
       "        button.setAttribute('aria-disabled', 'false');\n",
       "        button.addEventListener('click', on_click_closure(method_name));\n",
       "        button.addEventListener('mouseover', on_mouseover_closure(tooltip));\n",
       "\n",
       "        var icon_img = document.createElement('img');\n",
       "        icon_img.src = '_images/' + image + '.png';\n",
       "        icon_img.srcset = '_images/' + image + '_large.png 2x';\n",
       "        icon_img.alt = tooltip;\n",
       "        button.appendChild(icon_img);\n",
       "\n",
       "        buttonGroup.appendChild(button);\n",
       "    }\n",
       "\n",
       "    if (buttonGroup.hasChildNodes()) {\n",
       "        toolbar.appendChild(buttonGroup);\n",
       "    }\n",
       "\n",
       "    var fmt_picker = document.createElement('select');\n",
       "    fmt_picker.classList = 'mpl-widget';\n",
       "    toolbar.appendChild(fmt_picker);\n",
       "    this.format_dropdown = fmt_picker;\n",
       "\n",
       "    for (var ind in mpl.extensions) {\n",
       "        var fmt = mpl.extensions[ind];\n",
       "        var option = document.createElement('option');\n",
       "        option.selected = fmt === mpl.default_extension;\n",
       "        option.innerHTML = fmt;\n",
       "        fmt_picker.appendChild(option);\n",
       "    }\n",
       "\n",
       "    var status_bar = document.createElement('span');\n",
       "    status_bar.classList = 'mpl-message';\n",
       "    toolbar.appendChild(status_bar);\n",
       "    this.message = status_bar;\n",
       "};\n",
       "\n",
       "mpl.figure.prototype.request_resize = function (x_pixels, y_pixels) {\n",
       "    // Request matplotlib to resize the figure. Matplotlib will then trigger a resize in the client,\n",
       "    // which will in turn request a refresh of the image.\n",
       "    this.send_message('resize', { width: x_pixels, height: y_pixels });\n",
       "};\n",
       "\n",
       "mpl.figure.prototype.send_message = function (type, properties) {\n",
       "    properties['type'] = type;\n",
       "    properties['figure_id'] = this.id;\n",
       "    this.ws.send(JSON.stringify(properties));\n",
       "};\n",
       "\n",
       "mpl.figure.prototype.send_draw_message = function () {\n",
       "    if (!this.waiting) {\n",
       "        this.waiting = true;\n",
       "        this.ws.send(JSON.stringify({ type: 'draw', figure_id: this.id }));\n",
       "    }\n",
       "};\n",
       "\n",
       "mpl.figure.prototype.handle_save = function (fig, _msg) {\n",
       "    var format_dropdown = fig.format_dropdown;\n",
       "    var format = format_dropdown.options[format_dropdown.selectedIndex].value;\n",
       "    fig.ondownload(fig, format);\n",
       "};\n",
       "\n",
       "mpl.figure.prototype.handle_resize = function (fig, msg) {\n",
       "    var size = msg['size'];\n",
       "    if (size[0] !== fig.canvas.width || size[1] !== fig.canvas.height) {\n",
       "        fig._resize_canvas(size[0], size[1], msg['forward']);\n",
       "        fig.send_message('refresh', {});\n",
       "    }\n",
       "};\n",
       "\n",
       "mpl.figure.prototype.handle_rubberband = function (fig, msg) {\n",
       "    var x0 = msg['x0'] / fig.ratio;\n",
       "    var y0 = (fig.canvas.height - msg['y0']) / fig.ratio;\n",
       "    var x1 = msg['x1'] / fig.ratio;\n",
       "    var y1 = (fig.canvas.height - msg['y1']) / fig.ratio;\n",
       "    x0 = Math.floor(x0) + 0.5;\n",
       "    y0 = Math.floor(y0) + 0.5;\n",
       "    x1 = Math.floor(x1) + 0.5;\n",
       "    y1 = Math.floor(y1) + 0.5;\n",
       "    var min_x = Math.min(x0, x1);\n",
       "    var min_y = Math.min(y0, y1);\n",
       "    var width = Math.abs(x1 - x0);\n",
       "    var height = Math.abs(y1 - y0);\n",
       "\n",
       "    fig.rubberband_context.clearRect(\n",
       "        0,\n",
       "        0,\n",
       "        fig.canvas.width / fig.ratio,\n",
       "        fig.canvas.height / fig.ratio\n",
       "    );\n",
       "\n",
       "    fig.rubberband_context.strokeRect(min_x, min_y, width, height);\n",
       "};\n",
       "\n",
       "mpl.figure.prototype.handle_figure_label = function (fig, msg) {\n",
       "    // Updates the figure title.\n",
       "    fig.header.textContent = msg['label'];\n",
       "};\n",
       "\n",
       "mpl.figure.prototype.handle_cursor = function (fig, msg) {\n",
       "    var cursor = msg['cursor'];\n",
       "    switch (cursor) {\n",
       "        case 0:\n",
       "            cursor = 'pointer';\n",
       "            break;\n",
       "        case 1:\n",
       "            cursor = 'default';\n",
       "            break;\n",
       "        case 2:\n",
       "            cursor = 'crosshair';\n",
       "            break;\n",
       "        case 3:\n",
       "            cursor = 'move';\n",
       "            break;\n",
       "    }\n",
       "    fig.rubberband_canvas.style.cursor = cursor;\n",
       "};\n",
       "\n",
       "mpl.figure.prototype.handle_message = function (fig, msg) {\n",
       "    fig.message.textContent = msg['message'];\n",
       "};\n",
       "\n",
       "mpl.figure.prototype.handle_draw = function (fig, _msg) {\n",
       "    // Request the server to send over a new figure.\n",
       "    fig.send_draw_message();\n",
       "};\n",
       "\n",
       "mpl.figure.prototype.handle_image_mode = function (fig, msg) {\n",
       "    fig.image_mode = msg['mode'];\n",
       "};\n",
       "\n",
       "mpl.figure.prototype.handle_history_buttons = function (fig, msg) {\n",
       "    for (var key in msg) {\n",
       "        if (!(key in fig.buttons)) {\n",
       "            continue;\n",
       "        }\n",
       "        fig.buttons[key].disabled = !msg[key];\n",
       "        fig.buttons[key].setAttribute('aria-disabled', !msg[key]);\n",
       "    }\n",
       "};\n",
       "\n",
       "mpl.figure.prototype.handle_navigate_mode = function (fig, msg) {\n",
       "    if (msg['mode'] === 'PAN') {\n",
       "        fig.buttons['Pan'].classList.add('active');\n",
       "        fig.buttons['Zoom'].classList.remove('active');\n",
       "    } else if (msg['mode'] === 'ZOOM') {\n",
       "        fig.buttons['Pan'].classList.remove('active');\n",
       "        fig.buttons['Zoom'].classList.add('active');\n",
       "    } else {\n",
       "        fig.buttons['Pan'].classList.remove('active');\n",
       "        fig.buttons['Zoom'].classList.remove('active');\n",
       "    }\n",
       "};\n",
       "\n",
       "mpl.figure.prototype.updated_canvas_event = function () {\n",
       "    // Called whenever the canvas gets updated.\n",
       "    this.send_message('ack', {});\n",
       "};\n",
       "\n",
       "// A function to construct a web socket function for onmessage handling.\n",
       "// Called in the figure constructor.\n",
       "mpl.figure.prototype._make_on_message_function = function (fig) {\n",
       "    return function socket_on_message(evt) {\n",
       "        if (evt.data instanceof Blob) {\n",
       "            /* FIXME: We get \"Resource interpreted as Image but\n",
       "             * transferred with MIME type text/plain:\" errors on\n",
       "             * Chrome.  But how to set the MIME type?  It doesn't seem\n",
       "             * to be part of the websocket stream */\n",
       "            evt.data.type = 'image/png';\n",
       "\n",
       "            /* Free the memory for the previous frames */\n",
       "            if (fig.imageObj.src) {\n",
       "                (window.URL || window.webkitURL).revokeObjectURL(\n",
       "                    fig.imageObj.src\n",
       "                );\n",
       "            }\n",
       "\n",
       "            fig.imageObj.src = (window.URL || window.webkitURL).createObjectURL(\n",
       "                evt.data\n",
       "            );\n",
       "            fig.updated_canvas_event();\n",
       "            fig.waiting = false;\n",
       "            return;\n",
       "        } else if (\n",
       "            typeof evt.data === 'string' &&\n",
       "            evt.data.slice(0, 21) === 'data:image/png;base64'\n",
       "        ) {\n",
       "            fig.imageObj.src = evt.data;\n",
       "            fig.updated_canvas_event();\n",
       "            fig.waiting = false;\n",
       "            return;\n",
       "        }\n",
       "\n",
       "        var msg = JSON.parse(evt.data);\n",
       "        var msg_type = msg['type'];\n",
       "\n",
       "        // Call the  \"handle_{type}\" callback, which takes\n",
       "        // the figure and JSON message as its only arguments.\n",
       "        try {\n",
       "            var callback = fig['handle_' + msg_type];\n",
       "        } catch (e) {\n",
       "            console.log(\n",
       "                \"No handler for the '\" + msg_type + \"' message type: \",\n",
       "                msg\n",
       "            );\n",
       "            return;\n",
       "        }\n",
       "\n",
       "        if (callback) {\n",
       "            try {\n",
       "                // console.log(\"Handling '\" + msg_type + \"' message: \", msg);\n",
       "                callback(fig, msg);\n",
       "            } catch (e) {\n",
       "                console.log(\n",
       "                    \"Exception inside the 'handler_\" + msg_type + \"' callback:\",\n",
       "                    e,\n",
       "                    e.stack,\n",
       "                    msg\n",
       "                );\n",
       "            }\n",
       "        }\n",
       "    };\n",
       "};\n",
       "\n",
       "// from http://stackoverflow.com/questions/1114465/getting-mouse-location-in-canvas\n",
       "mpl.findpos = function (e) {\n",
       "    //this section is from http://www.quirksmode.org/js/events_properties.html\n",
       "    var targ;\n",
       "    if (!e) {\n",
       "        e = window.event;\n",
       "    }\n",
       "    if (e.target) {\n",
       "        targ = e.target;\n",
       "    } else if (e.srcElement) {\n",
       "        targ = e.srcElement;\n",
       "    }\n",
       "    if (targ.nodeType === 3) {\n",
       "        // defeat Safari bug\n",
       "        targ = targ.parentNode;\n",
       "    }\n",
       "\n",
       "    // pageX,Y are the mouse positions relative to the document\n",
       "    var boundingRect = targ.getBoundingClientRect();\n",
       "    var x = e.pageX - (boundingRect.left + document.body.scrollLeft);\n",
       "    var y = e.pageY - (boundingRect.top + document.body.scrollTop);\n",
       "\n",
       "    return { x: x, y: y };\n",
       "};\n",
       "\n",
       "/*\n",
       " * return a copy of an object with only non-object keys\n",
       " * we need this to avoid circular references\n",
       " * http://stackoverflow.com/a/24161582/3208463\n",
       " */\n",
       "function simpleKeys(original) {\n",
       "    return Object.keys(original).reduce(function (obj, key) {\n",
       "        if (typeof original[key] !== 'object') {\n",
       "            obj[key] = original[key];\n",
       "        }\n",
       "        return obj;\n",
       "    }, {});\n",
       "}\n",
       "\n",
       "mpl.figure.prototype.mouse_event = function (event, name) {\n",
       "    var canvas_pos = mpl.findpos(event);\n",
       "\n",
       "    if (name === 'button_press') {\n",
       "        this.canvas.focus();\n",
       "        this.canvas_div.focus();\n",
       "    }\n",
       "\n",
       "    var x = canvas_pos.x * this.ratio;\n",
       "    var y = canvas_pos.y * this.ratio;\n",
       "\n",
       "    this.send_message(name, {\n",
       "        x: x,\n",
       "        y: y,\n",
       "        button: event.button,\n",
       "        step: event.step,\n",
       "        guiEvent: simpleKeys(event),\n",
       "    });\n",
       "\n",
       "    /* This prevents the web browser from automatically changing to\n",
       "     * the text insertion cursor when the button is pressed.  We want\n",
       "     * to control all of the cursor setting manually through the\n",
       "     * 'cursor' event from matplotlib */\n",
       "    event.preventDefault();\n",
       "    return false;\n",
       "};\n",
       "\n",
       "mpl.figure.prototype._key_event_extra = function (_event, _name) {\n",
       "    // Handle any extra behaviour associated with a key event\n",
       "};\n",
       "\n",
       "mpl.figure.prototype.key_event = function (event, name) {\n",
       "    // Prevent repeat events\n",
       "    if (name === 'key_press') {\n",
       "        if (event.which === this._key) {\n",
       "            return;\n",
       "        } else {\n",
       "            this._key = event.which;\n",
       "        }\n",
       "    }\n",
       "    if (name === 'key_release') {\n",
       "        this._key = null;\n",
       "    }\n",
       "\n",
       "    var value = '';\n",
       "    if (event.ctrlKey && event.which !== 17) {\n",
       "        value += 'ctrl+';\n",
       "    }\n",
       "    if (event.altKey && event.which !== 18) {\n",
       "        value += 'alt+';\n",
       "    }\n",
       "    if (event.shiftKey && event.which !== 16) {\n",
       "        value += 'shift+';\n",
       "    }\n",
       "\n",
       "    value += 'k';\n",
       "    value += event.which.toString();\n",
       "\n",
       "    this._key_event_extra(event, name);\n",
       "\n",
       "    this.send_message(name, { key: value, guiEvent: simpleKeys(event) });\n",
       "    return false;\n",
       "};\n",
       "\n",
       "mpl.figure.prototype.toolbar_button_onclick = function (name) {\n",
       "    if (name === 'download') {\n",
       "        this.handle_save(this, null);\n",
       "    } else {\n",
       "        this.send_message('toolbar_button', { name: name });\n",
       "    }\n",
       "};\n",
       "\n",
       "mpl.figure.prototype.toolbar_button_onmouseover = function (tooltip) {\n",
       "    this.message.textContent = tooltip;\n",
       "};\n",
       "\n",
       "///////////////// REMAINING CONTENT GENERATED BY embed_js.py /////////////////\n",
       "// prettier-ignore\n",
       "var _JSXTOOLS_RESIZE_OBSERVER=function(A){var t,i=new WeakMap,n=new WeakMap,a=new WeakMap,r=new WeakMap,o=new Set;function s(e){if(!(this instanceof s))throw new TypeError(\"Constructor requires 'new' operator\");i.set(this,e)}function h(){throw new TypeError(\"Function is not a constructor\")}function c(e,t,i,n){e=0 in arguments?Number(arguments[0]):0,t=1 in arguments?Number(arguments[1]):0,i=2 in arguments?Number(arguments[2]):0,n=3 in arguments?Number(arguments[3]):0,this.right=(this.x=this.left=e)+(this.width=i),this.bottom=(this.y=this.top=t)+(this.height=n),Object.freeze(this)}function d(){t=requestAnimationFrame(d);var s=new WeakMap,p=new Set;o.forEach((function(t){r.get(t).forEach((function(i){var r=t instanceof window.SVGElement,o=a.get(t),d=r?0:parseFloat(o.paddingTop),f=r?0:parseFloat(o.paddingRight),l=r?0:parseFloat(o.paddingBottom),u=r?0:parseFloat(o.paddingLeft),g=r?0:parseFloat(o.borderTopWidth),m=r?0:parseFloat(o.borderRightWidth),w=r?0:parseFloat(o.borderBottomWidth),b=u+f,F=d+l,v=(r?0:parseFloat(o.borderLeftWidth))+m,W=g+w,y=r?0:t.offsetHeight-W-t.clientHeight,E=r?0:t.offsetWidth-v-t.clientWidth,R=b+v,z=F+W,M=r?t.width:parseFloat(o.width)-R-E,O=r?t.height:parseFloat(o.height)-z-y;if(n.has(t)){var k=n.get(t);if(k[0]===M&&k[1]===O)return}n.set(t,[M,O]);var S=Object.create(h.prototype);S.target=t,S.contentRect=new c(u,d,M,O),s.has(i)||(s.set(i,[]),p.add(i)),s.get(i).push(S)}))})),p.forEach((function(e){i.get(e).call(e,s.get(e),e)}))}return s.prototype.observe=function(i){if(i instanceof window.Element){r.has(i)||(r.set(i,new Set),o.add(i),a.set(i,window.getComputedStyle(i)));var n=r.get(i);n.has(this)||n.add(this),cancelAnimationFrame(t),t=requestAnimationFrame(d)}},s.prototype.unobserve=function(i){if(i instanceof window.Element&&r.has(i)){var n=r.get(i);n.has(this)&&(n.delete(this),n.size||(r.delete(i),o.delete(i))),n.size||r.delete(i),o.size||cancelAnimationFrame(t)}},A.DOMRectReadOnly=c,A.ResizeObserver=s,A.ResizeObserverEntry=h,A}; // eslint-disable-line\n",
       "mpl.toolbar_items = [[\"Home\", \"Reset original view\", \"fa fa-home icon-home\", \"home\"], [\"Back\", \"Back to previous view\", \"fa fa-arrow-left icon-arrow-left\", \"back\"], [\"Forward\", \"Forward to next view\", \"fa fa-arrow-right icon-arrow-right\", \"forward\"], [\"\", \"\", \"\", \"\"], [\"Pan\", \"Left button pans, Right button zooms\\nx/y fixes axis, CTRL fixes aspect\", \"fa fa-arrows icon-move\", \"pan\"], [\"Zoom\", \"Zoom to rectangle\\nx/y fixes axis, CTRL fixes aspect\", \"fa fa-square-o icon-check-empty\", \"zoom\"], [\"\", \"\", \"\", \"\"], [\"Download\", \"Download plot\", \"fa fa-floppy-o icon-save\", \"download\"]];\n",
       "\n",
       "mpl.extensions = [\"eps\", \"jpeg\", \"pdf\", \"png\", \"ps\", \"raw\", \"svg\", \"tif\"];\n",
       "\n",
       "mpl.default_extension = \"png\";/* global mpl */\n",
       "\n",
       "var comm_websocket_adapter = function (comm) {\n",
       "    // Create a \"websocket\"-like object which calls the given IPython comm\n",
       "    // object with the appropriate methods. Currently this is a non binary\n",
       "    // socket, so there is still some room for performance tuning.\n",
       "    var ws = {};\n",
       "\n",
       "    ws.close = function () {\n",
       "        comm.close();\n",
       "    };\n",
       "    ws.send = function (m) {\n",
       "        //console.log('sending', m);\n",
       "        comm.send(m);\n",
       "    };\n",
       "    // Register the callback with on_msg.\n",
       "    comm.on_msg(function (msg) {\n",
       "        //console.log('receiving', msg['content']['data'], msg);\n",
       "        // Pass the mpl event to the overridden (by mpl) onmessage function.\n",
       "        ws.onmessage(msg['content']['data']);\n",
       "    });\n",
       "    return ws;\n",
       "};\n",
       "\n",
       "mpl.mpl_figure_comm = function (comm, msg) {\n",
       "    // This is the function which gets called when the mpl process\n",
       "    // starts-up an IPython Comm through the \"matplotlib\" channel.\n",
       "\n",
       "    var id = msg.content.data.id;\n",
       "    // Get hold of the div created by the display call when the Comm\n",
       "    // socket was opened in Python.\n",
       "    var element = document.getElementById(id);\n",
       "    var ws_proxy = comm_websocket_adapter(comm);\n",
       "\n",
       "    function ondownload(figure, _format) {\n",
       "        window.open(figure.canvas.toDataURL());\n",
       "    }\n",
       "\n",
       "    var fig = new mpl.figure(id, ws_proxy, ondownload, element);\n",
       "\n",
       "    // Call onopen now - mpl needs it, as it is assuming we've passed it a real\n",
       "    // web socket which is closed, not our websocket->open comm proxy.\n",
       "    ws_proxy.onopen();\n",
       "\n",
       "    fig.parent_element = element;\n",
       "    fig.cell_info = mpl.find_output_cell(\"<div id='\" + id + \"'></div>\");\n",
       "    if (!fig.cell_info) {\n",
       "        console.error('Failed to find cell for figure', id, fig);\n",
       "        return;\n",
       "    }\n",
       "    fig.cell_info[0].output_area.element.on(\n",
       "        'cleared',\n",
       "        { fig: fig },\n",
       "        fig._remove_fig_handler\n",
       "    );\n",
       "};\n",
       "\n",
       "mpl.figure.prototype.handle_close = function (fig, msg) {\n",
       "    var width = fig.canvas.width / fig.ratio;\n",
       "    fig.cell_info[0].output_area.element.off(\n",
       "        'cleared',\n",
       "        fig._remove_fig_handler\n",
       "    );\n",
       "    fig.resizeObserverInstance.unobserve(fig.canvas_div);\n",
       "\n",
       "    // Update the output cell to use the data from the current canvas.\n",
       "    fig.push_to_output();\n",
       "    var dataURL = fig.canvas.toDataURL();\n",
       "    // Re-enable the keyboard manager in IPython - without this line, in FF,\n",
       "    // the notebook keyboard shortcuts fail.\n",
       "    IPython.keyboard_manager.enable();\n",
       "    fig.parent_element.innerHTML =\n",
       "        '<img src=\"' + dataURL + '\" width=\"' + width + '\">';\n",
       "    fig.close_ws(fig, msg);\n",
       "};\n",
       "\n",
       "mpl.figure.prototype.close_ws = function (fig, msg) {\n",
       "    fig.send_message('closing', msg);\n",
       "    // fig.ws.close()\n",
       "};\n",
       "\n",
       "mpl.figure.prototype.push_to_output = function (_remove_interactive) {\n",
       "    // Turn the data on the canvas into data in the output cell.\n",
       "    var width = this.canvas.width / this.ratio;\n",
       "    var dataURL = this.canvas.toDataURL();\n",
       "    this.cell_info[1]['text/html'] =\n",
       "        '<img src=\"' + dataURL + '\" width=\"' + width + '\">';\n",
       "};\n",
       "\n",
       "mpl.figure.prototype.updated_canvas_event = function () {\n",
       "    // Tell IPython that the notebook contents must change.\n",
       "    IPython.notebook.set_dirty(true);\n",
       "    this.send_message('ack', {});\n",
       "    var fig = this;\n",
       "    // Wait a second, then push the new image to the DOM so\n",
       "    // that it is saved nicely (might be nice to debounce this).\n",
       "    setTimeout(function () {\n",
       "        fig.push_to_output();\n",
       "    }, 1000);\n",
       "};\n",
       "\n",
       "mpl.figure.prototype._init_toolbar = function () {\n",
       "    var fig = this;\n",
       "\n",
       "    var toolbar = document.createElement('div');\n",
       "    toolbar.classList = 'btn-toolbar';\n",
       "    this.root.appendChild(toolbar);\n",
       "\n",
       "    function on_click_closure(name) {\n",
       "        return function (_event) {\n",
       "            return fig.toolbar_button_onclick(name);\n",
       "        };\n",
       "    }\n",
       "\n",
       "    function on_mouseover_closure(tooltip) {\n",
       "        return function (event) {\n",
       "            if (!event.currentTarget.disabled) {\n",
       "                return fig.toolbar_button_onmouseover(tooltip);\n",
       "            }\n",
       "        };\n",
       "    }\n",
       "\n",
       "    fig.buttons = {};\n",
       "    var buttonGroup = document.createElement('div');\n",
       "    buttonGroup.classList = 'btn-group';\n",
       "    var button;\n",
       "    for (var toolbar_ind in mpl.toolbar_items) {\n",
       "        var name = mpl.toolbar_items[toolbar_ind][0];\n",
       "        var tooltip = mpl.toolbar_items[toolbar_ind][1];\n",
       "        var image = mpl.toolbar_items[toolbar_ind][2];\n",
       "        var method_name = mpl.toolbar_items[toolbar_ind][3];\n",
       "\n",
       "        if (!name) {\n",
       "            /* Instead of a spacer, we start a new button group. */\n",
       "            if (buttonGroup.hasChildNodes()) {\n",
       "                toolbar.appendChild(buttonGroup);\n",
       "            }\n",
       "            buttonGroup = document.createElement('div');\n",
       "            buttonGroup.classList = 'btn-group';\n",
       "            continue;\n",
       "        }\n",
       "\n",
       "        button = fig.buttons[name] = document.createElement('button');\n",
       "        button.classList = 'btn btn-default';\n",
       "        button.href = '#';\n",
       "        button.title = name;\n",
       "        button.innerHTML = '<i class=\"fa ' + image + ' fa-lg\"></i>';\n",
       "        button.addEventListener('click', on_click_closure(method_name));\n",
       "        button.addEventListener('mouseover', on_mouseover_closure(tooltip));\n",
       "        buttonGroup.appendChild(button);\n",
       "    }\n",
       "\n",
       "    if (buttonGroup.hasChildNodes()) {\n",
       "        toolbar.appendChild(buttonGroup);\n",
       "    }\n",
       "\n",
       "    // Add the status bar.\n",
       "    var status_bar = document.createElement('span');\n",
       "    status_bar.classList = 'mpl-message pull-right';\n",
       "    toolbar.appendChild(status_bar);\n",
       "    this.message = status_bar;\n",
       "\n",
       "    // Add the close button to the window.\n",
       "    var buttongrp = document.createElement('div');\n",
       "    buttongrp.classList = 'btn-group inline pull-right';\n",
       "    button = document.createElement('button');\n",
       "    button.classList = 'btn btn-mini btn-primary';\n",
       "    button.href = '#';\n",
       "    button.title = 'Stop Interaction';\n",
       "    button.innerHTML = '<i class=\"fa fa-power-off icon-remove icon-large\"></i>';\n",
       "    button.addEventListener('click', function (_evt) {\n",
       "        fig.handle_close(fig, {});\n",
       "    });\n",
       "    button.addEventListener(\n",
       "        'mouseover',\n",
       "        on_mouseover_closure('Stop Interaction')\n",
       "    );\n",
       "    buttongrp.appendChild(button);\n",
       "    var titlebar = this.root.querySelector('.ui-dialog-titlebar');\n",
       "    titlebar.insertBefore(buttongrp, titlebar.firstChild);\n",
       "};\n",
       "\n",
       "mpl.figure.prototype._remove_fig_handler = function (event) {\n",
       "    var fig = event.data.fig;\n",
       "    if (event.target !== this) {\n",
       "        // Ignore bubbled events from children.\n",
       "        return;\n",
       "    }\n",
       "    fig.close_ws(fig, {});\n",
       "};\n",
       "\n",
       "mpl.figure.prototype._root_extra_style = function (el) {\n",
       "    el.style.boxSizing = 'content-box'; // override notebook setting of border-box.\n",
       "};\n",
       "\n",
       "mpl.figure.prototype._canvas_extra_style = function (el) {\n",
       "    // this is important to make the div 'focusable\n",
       "    el.setAttribute('tabindex', 0);\n",
       "    // reach out to IPython and tell the keyboard manager to turn it's self\n",
       "    // off when our div gets focus\n",
       "\n",
       "    // location in version 3\n",
       "    if (IPython.notebook.keyboard_manager) {\n",
       "        IPython.notebook.keyboard_manager.register_events(el);\n",
       "    } else {\n",
       "        // location in version 2\n",
       "        IPython.keyboard_manager.register_events(el);\n",
       "    }\n",
       "};\n",
       "\n",
       "mpl.figure.prototype._key_event_extra = function (event, _name) {\n",
       "    var manager = IPython.notebook.keyboard_manager;\n",
       "    if (!manager) {\n",
       "        manager = IPython.keyboard_manager;\n",
       "    }\n",
       "\n",
       "    // Check for shift+enter\n",
       "    if (event.shiftKey && event.which === 13) {\n",
       "        this.canvas_div.blur();\n",
       "        // select the cell after this one\n",
       "        var index = IPython.notebook.find_cell_index(this.cell_info[0]);\n",
       "        IPython.notebook.select(index + 1);\n",
       "    }\n",
       "};\n",
       "\n",
       "mpl.figure.prototype.handle_save = function (fig, _msg) {\n",
       "    fig.ondownload(fig, null);\n",
       "};\n",
       "\n",
       "mpl.find_output_cell = function (html_output) {\n",
       "    // Return the cell and output element which can be found *uniquely* in the notebook.\n",
       "    // Note - this is a bit hacky, but it is done because the \"notebook_saving.Notebook\"\n",
       "    // IPython event is triggered only after the cells have been serialised, which for\n",
       "    // our purposes (turning an active figure into a static one), is too late.\n",
       "    var cells = IPython.notebook.get_cells();\n",
       "    var ncells = cells.length;\n",
       "    for (var i = 0; i < ncells; i++) {\n",
       "        var cell = cells[i];\n",
       "        if (cell.cell_type === 'code') {\n",
       "            for (var j = 0; j < cell.output_area.outputs.length; j++) {\n",
       "                var data = cell.output_area.outputs[j];\n",
       "                if (data.data) {\n",
       "                    // IPython >= 3 moved mimebundle to data attribute of output\n",
       "                    data = data.data;\n",
       "                }\n",
       "                if (data['text/html'] === html_output) {\n",
       "                    return [cell, data, j];\n",
       "                }\n",
       "            }\n",
       "        }\n",
       "    }\n",
       "};\n",
       "\n",
       "// Register the function which deals with the matplotlib target/channel.\n",
       "// The kernel may be null if the page has been refreshed.\n",
       "if (IPython.notebook.kernel !== null) {\n",
       "    IPython.notebook.kernel.comm_manager.register_target(\n",
       "        'matplotlib',\n",
       "        mpl.mpl_figure_comm\n",
       "    );\n",
       "}\n"
      ],
      "text/plain": [
       "<IPython.core.display.Javascript object>"
      ]
     },
     "metadata": {},
     "output_type": "display_data"
    },
    {
     "data": {
      "text/html": [
       "<img src=\"data:image/png;base64,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\" width=\"936\">"
      ],
      "text/plain": [
       "<IPython.core.display.HTML object>"
      ]
     },
     "metadata": {},
     "output_type": "display_data"
    }
   ],
   "source": [
    "%matplotlib notebook\n",
    "\n",
    "idx = 0\n",
    "\n",
    "plt.figure(figsize=(13, 18))\n",
    "\n",
    "ax_d = plt.subplot(421)\n",
    "ax_d.scatter(y[:,0], output[:,0], c='red', marker='.')\n",
    "ax_d.set_xlabel('d real')\n",
    "ax_d.set_ylabel('d pred')\n",
    "\n",
    "ax_t = plt.subplot(422)\n",
    "ax_t.scatter(y[:,1], output[:,1], c='red', marker='.')\n",
    "ax_t.set_xlabel('theta real')\n",
    "ax_t.set_ylabel('theta pred')\n",
    "\n",
    "ax_h = plt.subplot(423)\n",
    "ax_h.scatter(y[:,2], output[:,2], c='red', marker='.')\n",
    "ax_h.set_xlabel('h real')\n",
    "ax_h.set_ylabel('h pred')\n",
    "\n",
    "ax_p = plt.subplot(424)\n",
    "ax_p.scatter(y[:,3], output[:,3], c='red', marker='.')\n",
    "ax_p.set_xlabel('phi real')\n",
    "ax_p.set_ylabel('phi pred')\n",
    "\n",
    "ax_lt = plt.subplot(425)\n",
    "ax_lt.scatter(y[:,4], output[:,4], c='red', marker='.')\n",
    "ax_lt.set_xlabel('soma radius real')\n",
    "ax_lt.set_ylabel('soma radius pred')\n",
    "\n",
    "ax_lt = plt.subplot(426)\n",
    "ax_lt.scatter(y[:,5], output[:,5], c='red', marker='.')\n",
    "ax_lt.set_xlabel('trunk length real')\n",
    "ax_lt.set_ylabel('trunk length pred')\n",
    "\n",
    "ax_lt = plt.subplot(427)\n",
    "ax_lt.scatter(y[:,6], output[:,6], c='red', marker='.')\n",
    "ax_lt.set_xlabel('trunk radius real')\n",
    "ax_lt.set_ylabel('trunk radius pred')\n",
    "\n",
    "\n",
    "plt.show()"
   ]
  },
  {
   "cell_type": "code",
   "execution_count": null,
   "metadata": {},
   "outputs": [],
   "source": [
    "%matplotlib notebook\n",
    "\n",
    "idx = 0#[0, 1, 2, 3, 4, 5]\n",
    "\n",
    "plt.figure(figsize=(8, 8))\n",
    "ax = plt.axes(projection='3d')\n",
    "ax.scatter3D(y[idx,0], y[idx,1], y[idx,2], c='green', marker='.')\n",
    "ax.scatter3D(output[idx,0], output[idx,1], output[idx,2], c='red', marker='^')\n",
    "ax.set_xlabel('x')\n",
    "ax.set_ylabel('y')\n",
    "ax.set_zlabel('z')\n",
    "# plt.show()"
   ]
  },
  {
   "cell_type": "code",
   "execution_count": null,
   "metadata": {},
   "outputs": [],
   "source": []
  }
 ],
 "metadata": {
  "kernelspec": {
   "display_name": "Python 3",
   "language": "python",
   "name": "python3"
  },
  "language_info": {
   "codemirror_mode": {
    "name": "ipython",
    "version": 3
   },
   "file_extension": ".py",
   "mimetype": "text/x-python",
   "name": "python",
   "nbconvert_exporter": "python",
   "pygments_lexer": "ipython3",
   "version": "3.8.10"
  }
 },
 "nbformat": 4,
 "nbformat_minor": 4
}
