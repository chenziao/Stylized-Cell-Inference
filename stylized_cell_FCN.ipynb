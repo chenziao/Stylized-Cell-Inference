{
 "cells": [
  {
   "cell_type": "code",
   "execution_count": 1,
   "metadata": {},
   "outputs": [],
   "source": [
    "import pandas as pd\n",
    "import numpy as np\n",
    "import matplotlib.pyplot as plt\n",
    "from scipy import signal\n",
    "import h5py\n",
    "import json\n",
    "import os\n",
    "\n",
    "from cell_inference.config import paths, params\n",
    "from cell_inference.utils.plotting.plot_results import plot_lfp_traces, plot_lfp_heatmap\n",
    "from cell_inference.utils.feature_extractors.SummaryStats2D import calculate_stats, build_lfp_grid\n",
    "from cell_inference.utils.feature_extractors.parameterprediction import ClassifierTypes, ClassifierBuilder\n",
    "\n",
    "%matplotlib inline"
   ]
  },
  {
   "cell_type": "markdown",
   "metadata": {},
   "source": [
    "## Load simulation data"
   ]
  },
  {
   "cell_type": "code",
   "execution_count": 2,
   "metadata": {},
   "outputs": [
    {
     "name": "stdout",
     "output_type": "stream",
     "text": [
      "['y', 'd', 'theta', 'h', 'phi']\n"
     ]
    },
    {
     "data": {
      "text/html": [
       "<div>\n",
       "<style scoped>\n",
       "    .dataframe tbody tr th:only-of-type {\n",
       "        vertical-align: middle;\n",
       "    }\n",
       "\n",
       "    .dataframe tbody tr th {\n",
       "        vertical-align: top;\n",
       "    }\n",
       "\n",
       "    .dataframe thead th {\n",
       "        text-align: right;\n",
       "    }\n",
       "</style>\n",
       "<table border=\"1\" class=\"dataframe\">\n",
       "  <thead>\n",
       "    <tr style=\"text-align: right;\">\n",
       "      <th></th>\n",
       "      <th>y</th>\n",
       "      <th>d</th>\n",
       "      <th>theta</th>\n",
       "      <th>h</th>\n",
       "      <th>phi</th>\n",
       "    </tr>\n",
       "  </thead>\n",
       "  <tbody>\n",
       "    <tr>\n",
       "      <th>5800</th>\n",
       "      <td>-156.663834</td>\n",
       "      <td>190.756733</td>\n",
       "      <td>0.058864</td>\n",
       "      <td>-0.967159</td>\n",
       "      <td>2.118687</td>\n",
       "    </tr>\n",
       "    <tr>\n",
       "      <th>5305</th>\n",
       "      <td>-150.761216</td>\n",
       "      <td>183.347261</td>\n",
       "      <td>-0.043687</td>\n",
       "      <td>-0.991439</td>\n",
       "      <td>-2.537946</td>\n",
       "    </tr>\n",
       "    <tr>\n",
       "      <th>593</th>\n",
       "      <td>-150.403880</td>\n",
       "      <td>188.252553</td>\n",
       "      <td>-0.347951</td>\n",
       "      <td>-0.751045</td>\n",
       "      <td>-2.030110</td>\n",
       "    </tr>\n",
       "    <tr>\n",
       "      <th>5257</th>\n",
       "      <td>-146.829250</td>\n",
       "      <td>179.169166</td>\n",
       "      <td>-0.076148</td>\n",
       "      <td>-0.991636</td>\n",
       "      <td>2.387392</td>\n",
       "    </tr>\n",
       "    <tr>\n",
       "      <th>1117</th>\n",
       "      <td>-145.124170</td>\n",
       "      <td>195.795708</td>\n",
       "      <td>-0.152879</td>\n",
       "      <td>-0.944600</td>\n",
       "      <td>-2.627912</td>\n",
       "    </tr>\n",
       "    <tr>\n",
       "      <th>...</th>\n",
       "      <td>...</td>\n",
       "      <td>...</td>\n",
       "      <td>...</td>\n",
       "      <td>...</td>\n",
       "      <td>...</td>\n",
       "    </tr>\n",
       "    <tr>\n",
       "      <th>34</th>\n",
       "      <td>136.914160</td>\n",
       "      <td>174.899237</td>\n",
       "      <td>0.188002</td>\n",
       "      <td>0.971356</td>\n",
       "      <td>2.227632</td>\n",
       "    </tr>\n",
       "    <tr>\n",
       "      <th>3599</th>\n",
       "      <td>141.933148</td>\n",
       "      <td>189.717501</td>\n",
       "      <td>-0.377533</td>\n",
       "      <td>0.708085</td>\n",
       "      <td>-2.134145</td>\n",
       "    </tr>\n",
       "    <tr>\n",
       "      <th>1900</th>\n",
       "      <td>143.942632</td>\n",
       "      <td>193.243665</td>\n",
       "      <td>0.238725</td>\n",
       "      <td>0.967190</td>\n",
       "      <td>-2.975081</td>\n",
       "    </tr>\n",
       "    <tr>\n",
       "      <th>3546</th>\n",
       "      <td>145.390511</td>\n",
       "      <td>188.388047</td>\n",
       "      <td>-0.015920</td>\n",
       "      <td>0.990473</td>\n",
       "      <td>-2.917282</td>\n",
       "    </tr>\n",
       "    <tr>\n",
       "      <th>1381</th>\n",
       "      <td>150.699779</td>\n",
       "      <td>195.121920</td>\n",
       "      <td>0.105586</td>\n",
       "      <td>0.987017</td>\n",
       "      <td>-2.747364</td>\n",
       "    </tr>\n",
       "  </tbody>\n",
       "</table>\n",
       "<p>5945 rows × 5 columns</p>\n",
       "</div>"
      ],
      "text/plain": [
       "               y           d     theta         h       phi\n",
       "5800 -156.663834  190.756733  0.058864 -0.967159  2.118687\n",
       "5305 -150.761216  183.347261 -0.043687 -0.991439 -2.537946\n",
       "593  -150.403880  188.252553 -0.347951 -0.751045 -2.030110\n",
       "5257 -146.829250  179.169166 -0.076148 -0.991636  2.387392\n",
       "1117 -145.124170  195.795708 -0.152879 -0.944600 -2.627912\n",
       "...          ...         ...       ...       ...       ...\n",
       "34    136.914160  174.899237  0.188002  0.971356  2.227632\n",
       "3599  141.933148  189.717501 -0.377533  0.708085 -2.134145\n",
       "1900  143.942632  193.243665  0.238725  0.967190 -2.975081\n",
       "3546  145.390511  188.388047 -0.015920  0.990473 -2.917282\n",
       "1381  150.699779  195.121920  0.105586  0.987017 -2.747364\n",
       "\n",
       "[5945 rows x 5 columns]"
      ]
     },
     "metadata": {},
     "output_type": "display_data"
    }
   ],
   "source": [
    "DATA_PATH = 'cell_inference/resources/simulation_data'\n",
    "TRIAL_PATH = os.path.join(DATA_PATH, 'neuronal_model_491766131_tuned_Loc5')\n",
    "\n",
    "CONFIG_PATH = os.path.join(TRIAL_PATH, 'config.json')  # trial configuration\n",
    "LFP_PATH = os.path.join(TRIAL_PATH, 'lfp.npz')  # LFP and labels\n",
    "STATS_PATH = os.path.join(TRIAL_PATH, 'summ_stats.npz')  # summary statistics\n",
    "\n",
    "with open(CONFIG_PATH, 'r') as f:\n",
    "    config_dict = json.load(f)\n",
    "\n",
    "inference_list = config_dict['Trial_Parameters']['inference_list']\n",
    "print(inference_list)\n",
    "\n",
    "STATS = np.load(STATS_PATH)\n",
    "summ_stats = STATS['x']\n",
    "labels = STATS['y']\n",
    "df_la = pd.DataFrame(labels, columns=inference_list)\n",
    "has_yshift = 'y' in inference_list and STATS['ys'].size != 0\n",
    "if has_yshift:\n",
    "    ys_idx = inference_list.index('y')\n",
    "    labels[:,ys_idx] = STATS['ys']\n",
    "    df_la.sort_values(by='y',inplace=True)\n",
    "\n",
    "with pd.option_context('display.max_rows',10):\n",
    "    display(df_la)"
   ]
  },
  {
   "cell_type": "markdown",
   "metadata": {},
   "source": [
    "### Normalizing labels"
   ]
  },
  {
   "cell_type": "markdown",
   "metadata": {},
   "source": [
    "#### Set bounds for y shift"
   ]
  },
  {
   "cell_type": "code",
   "execution_count": 3,
   "metadata": {},
   "outputs": [
    {
     "name": "stdout",
     "output_type": "stream",
     "text": [
      "{\"x\": [-50, 50], \"y\": [-1400, 1400], \"z\": [20.0, 200.0], \"alpha\": [0, 3.141592653589793], \"h\": [-1.0, 1.0], \"phi\": [-3.141592653589793, 3.141592653589793], \"d\": [20.0, 200.0], \"theta\": [-1.0471975511965976, 1.0471975511965976], \"r_s\": [5.0, 12.0], \"l_t\": [20.0, 800.0], \"r_t\": [0.2, 0.8], \"r_d\": [0.1, 0.5], \"r_tu\": [0.05, 0.4], \"l_d\": [100.0, 300.0], \"r_a\": [0.1, 0.5], \"r_o\": [0.1, 0.5], \"l_o\": [10.0, 150]}\n"
     ]
    },
    {
     "data": {
      "text/html": [
       "<div>\n",
       "<style scoped>\n",
       "    .dataframe tbody tr th:only-of-type {\n",
       "        vertical-align: middle;\n",
       "    }\n",
       "\n",
       "    .dataframe tbody tr th {\n",
       "        vertical-align: top;\n",
       "    }\n",
       "\n",
       "    .dataframe thead th {\n",
       "        text-align: right;\n",
       "    }\n",
       "</style>\n",
       "<table border=\"1\" class=\"dataframe\">\n",
       "  <thead>\n",
       "    <tr style=\"text-align: right;\">\n",
       "      <th></th>\n",
       "      <th>y</th>\n",
       "      <th>d</th>\n",
       "      <th>theta</th>\n",
       "      <th>h</th>\n",
       "      <th>phi</th>\n",
       "    </tr>\n",
       "  </thead>\n",
       "  <tbody>\n",
       "    <tr>\n",
       "      <th>5257</th>\n",
       "      <td>-146.829250</td>\n",
       "      <td>179.169166</td>\n",
       "      <td>-0.076148</td>\n",
       "      <td>-0.991636</td>\n",
       "      <td>2.387392</td>\n",
       "    </tr>\n",
       "    <tr>\n",
       "      <th>1117</th>\n",
       "      <td>-145.124170</td>\n",
       "      <td>195.795708</td>\n",
       "      <td>-0.152879</td>\n",
       "      <td>-0.944600</td>\n",
       "      <td>-2.627912</td>\n",
       "    </tr>\n",
       "    <tr>\n",
       "      <th>3182</th>\n",
       "      <td>-143.376419</td>\n",
       "      <td>159.567036</td>\n",
       "      <td>-0.147402</td>\n",
       "      <td>-0.980878</td>\n",
       "      <td>-2.079992</td>\n",
       "    </tr>\n",
       "    <tr>\n",
       "      <th>1546</th>\n",
       "      <td>-141.343453</td>\n",
       "      <td>163.594114</td>\n",
       "      <td>0.067867</td>\n",
       "      <td>-0.925183</td>\n",
       "      <td>2.013953</td>\n",
       "    </tr>\n",
       "    <tr>\n",
       "      <th>3751</th>\n",
       "      <td>-139.621181</td>\n",
       "      <td>165.082371</td>\n",
       "      <td>-0.587879</td>\n",
       "      <td>-0.878355</td>\n",
       "      <td>1.433035</td>\n",
       "    </tr>\n",
       "    <tr>\n",
       "      <th>...</th>\n",
       "      <td>...</td>\n",
       "      <td>...</td>\n",
       "      <td>...</td>\n",
       "      <td>...</td>\n",
       "      <td>...</td>\n",
       "    </tr>\n",
       "    <tr>\n",
       "      <th>2910</th>\n",
       "      <td>135.915803</td>\n",
       "      <td>198.762469</td>\n",
       "      <td>0.506645</td>\n",
       "      <td>0.943772</td>\n",
       "      <td>-2.974768</td>\n",
       "    </tr>\n",
       "    <tr>\n",
       "      <th>34</th>\n",
       "      <td>136.914160</td>\n",
       "      <td>174.899237</td>\n",
       "      <td>0.188002</td>\n",
       "      <td>0.971356</td>\n",
       "      <td>2.227632</td>\n",
       "    </tr>\n",
       "    <tr>\n",
       "      <th>3599</th>\n",
       "      <td>141.933148</td>\n",
       "      <td>189.717501</td>\n",
       "      <td>-0.377533</td>\n",
       "      <td>0.708085</td>\n",
       "      <td>-2.134145</td>\n",
       "    </tr>\n",
       "    <tr>\n",
       "      <th>1900</th>\n",
       "      <td>143.942632</td>\n",
       "      <td>193.243665</td>\n",
       "      <td>0.238725</td>\n",
       "      <td>0.967190</td>\n",
       "      <td>-2.975081</td>\n",
       "    </tr>\n",
       "    <tr>\n",
       "      <th>3546</th>\n",
       "      <td>145.390511</td>\n",
       "      <td>188.388047</td>\n",
       "      <td>-0.015920</td>\n",
       "      <td>0.990473</td>\n",
       "      <td>-2.917282</td>\n",
       "    </tr>\n",
       "  </tbody>\n",
       "</table>\n",
       "<p>5941 rows × 5 columns</p>\n",
       "</div>"
      ],
      "text/plain": [
       "               y           d     theta         h       phi\n",
       "5257 -146.829250  179.169166 -0.076148 -0.991636  2.387392\n",
       "1117 -145.124170  195.795708 -0.152879 -0.944600 -2.627912\n",
       "3182 -143.376419  159.567036 -0.147402 -0.980878 -2.079992\n",
       "1546 -141.343453  163.594114  0.067867 -0.925183  2.013953\n",
       "3751 -139.621181  165.082371 -0.587879 -0.878355  1.433035\n",
       "...          ...         ...       ...       ...       ...\n",
       "2910  135.915803  198.762469  0.506645  0.943772 -2.974768\n",
       "34    136.914160  174.899237  0.188002  0.971356  2.227632\n",
       "3599  141.933148  189.717501 -0.377533  0.708085 -2.134145\n",
       "1900  143.942632  193.243665  0.238725  0.967190 -2.975081\n",
       "3546  145.390511  188.388047 -0.015920  0.990473 -2.917282\n",
       "\n",
       "[5941 rows x 5 columns]"
      ]
     },
     "metadata": {},
     "output_type": "display_data"
    }
   ],
   "source": [
    "ranges = config_dict['Simulation_Parameters']['loc_param_range']\n",
    "ranges.update(config_dict['Simulation_Parameters']['geo_param_range'])\n",
    "print(json.dumps(ranges))\n",
    "\n",
    "if has_yshift:\n",
    "    ranges['y'] = [-150, 150]\n",
    "    df_la_idx = df_la[df_la['y'].between(*ranges['y'])].index.values\n",
    "    labels = labels[df_la_idx,:]\n",
    "    summ_stats = summ_stats[df_la_idx,:]\n",
    "    with pd.option_context('display.max_rows',10):\n",
    "        display(df_la.loc[df_la_idx])"
   ]
  },
  {
   "cell_type": "markdown",
   "metadata": {},
   "source": [
    "#### Normalization"
   ]
  },
  {
   "cell_type": "code",
   "execution_count": 4,
   "metadata": {},
   "outputs": [
    {
     "data": {
      "text/html": [
       "<div>\n",
       "<style scoped>\n",
       "    .dataframe tbody tr th:only-of-type {\n",
       "        vertical-align: middle;\n",
       "    }\n",
       "\n",
       "    .dataframe tbody tr th {\n",
       "        vertical-align: top;\n",
       "    }\n",
       "\n",
       "    .dataframe thead th {\n",
       "        text-align: right;\n",
       "    }\n",
       "</style>\n",
       "<table border=\"1\" class=\"dataframe\">\n",
       "  <thead>\n",
       "    <tr style=\"text-align: right;\">\n",
       "      <th></th>\n",
       "      <th>y</th>\n",
       "      <th>d</th>\n",
       "      <th>theta</th>\n",
       "      <th>h</th>\n",
       "      <th>phi</th>\n",
       "    </tr>\n",
       "  </thead>\n",
       "  <tbody>\n",
       "    <tr>\n",
       "      <th>0</th>\n",
       "      <td>-0.978862</td>\n",
       "      <td>0.768546</td>\n",
       "      <td>-0.072716</td>\n",
       "      <td>-0.991636</td>\n",
       "      <td>0.759931</td>\n",
       "    </tr>\n",
       "    <tr>\n",
       "      <th>1</th>\n",
       "      <td>-0.967494</td>\n",
       "      <td>0.953286</td>\n",
       "      <td>-0.145989</td>\n",
       "      <td>-0.944600</td>\n",
       "      <td>-0.836490</td>\n",
       "    </tr>\n",
       "    <tr>\n",
       "      <th>2</th>\n",
       "      <td>-0.955843</td>\n",
       "      <td>0.550745</td>\n",
       "      <td>-0.140758</td>\n",
       "      <td>-0.980878</td>\n",
       "      <td>-0.662082</td>\n",
       "    </tr>\n",
       "    <tr>\n",
       "      <th>3</th>\n",
       "      <td>-0.942290</td>\n",
       "      <td>0.595490</td>\n",
       "      <td>0.064808</td>\n",
       "      <td>-0.925183</td>\n",
       "      <td>0.641061</td>\n",
       "    </tr>\n",
       "    <tr>\n",
       "      <th>4</th>\n",
       "      <td>-0.930808</td>\n",
       "      <td>0.612026</td>\n",
       "      <td>-0.561383</td>\n",
       "      <td>-0.878355</td>\n",
       "      <td>0.456149</td>\n",
       "    </tr>\n",
       "    <tr>\n",
       "      <th>...</th>\n",
       "      <td>...</td>\n",
       "      <td>...</td>\n",
       "      <td>...</td>\n",
       "      <td>...</td>\n",
       "      <td>...</td>\n",
       "    </tr>\n",
       "    <tr>\n",
       "      <th>5936</th>\n",
       "      <td>0.906105</td>\n",
       "      <td>0.986250</td>\n",
       "      <td>0.483810</td>\n",
       "      <td>0.943772</td>\n",
       "      <td>-0.946898</td>\n",
       "    </tr>\n",
       "    <tr>\n",
       "      <th>5937</th>\n",
       "      <td>0.912761</td>\n",
       "      <td>0.721103</td>\n",
       "      <td>0.179529</td>\n",
       "      <td>0.971356</td>\n",
       "      <td>0.709077</td>\n",
       "    </tr>\n",
       "    <tr>\n",
       "      <th>5938</th>\n",
       "      <td>0.946221</td>\n",
       "      <td>0.885750</td>\n",
       "      <td>-0.360517</td>\n",
       "      <td>0.708085</td>\n",
       "      <td>-0.679319</td>\n",
       "    </tr>\n",
       "    <tr>\n",
       "      <th>5939</th>\n",
       "      <td>0.959618</td>\n",
       "      <td>0.924930</td>\n",
       "      <td>0.227966</td>\n",
       "      <td>0.967190</td>\n",
       "      <td>-0.946998</td>\n",
       "    </tr>\n",
       "    <tr>\n",
       "      <th>5940</th>\n",
       "      <td>0.969270</td>\n",
       "      <td>0.870978</td>\n",
       "      <td>-0.015202</td>\n",
       "      <td>0.990473</td>\n",
       "      <td>-0.928600</td>\n",
       "    </tr>\n",
       "  </tbody>\n",
       "</table>\n",
       "<p>5941 rows × 5 columns</p>\n",
       "</div>"
      ],
      "text/plain": [
       "             y         d     theta         h       phi\n",
       "0    -0.978862  0.768546 -0.072716 -0.991636  0.759931\n",
       "1    -0.967494  0.953286 -0.145989 -0.944600 -0.836490\n",
       "2    -0.955843  0.550745 -0.140758 -0.980878 -0.662082\n",
       "3    -0.942290  0.595490  0.064808 -0.925183  0.641061\n",
       "4    -0.930808  0.612026 -0.561383 -0.878355  0.456149\n",
       "...        ...       ...       ...       ...       ...\n",
       "5936  0.906105  0.986250  0.483810  0.943772 -0.946898\n",
       "5937  0.912761  0.721103  0.179529  0.971356  0.709077\n",
       "5938  0.946221  0.885750 -0.360517  0.708085 -0.679319\n",
       "5939  0.959618  0.924930  0.227966  0.967190 -0.946998\n",
       "5940  0.969270  0.870978 -0.015202  0.990473 -0.928600\n",
       "\n",
       "[5941 rows x 5 columns]"
      ]
     },
     "metadata": {},
     "output_type": "display_data"
    }
   ],
   "source": [
    "feature_range = (-1, 1)\n",
    "norm_scale = lambda x, r: (x - r[0]) / (r[1] - r[0]) * (feature_range[1] - feature_range[0]) + feature_range[0]\n",
    "org_scale = lambda x, r: (x - feature_range[0]) / (feature_range[1] - feature_range[0]) *  (r[1] - r[0]) + r[0]\n",
    "\n",
    "for i, lb in enumerate(inference_list):\n",
    "    labels[:,i] = norm_scale(labels[:,i], ranges[lb])\n",
    "\n",
    "df_la = pd.DataFrame(labels, columns=inference_list)\n",
    "with pd.option_context('display.max_rows',10):\n",
    "    display(df_la)"
   ]
  },
  {
   "cell_type": "markdown",
   "metadata": {},
   "source": [
    "## Build model"
   ]
  },
  {
   "cell_type": "code",
   "execution_count": 5,
   "metadata": {},
   "outputs": [],
   "source": [
    "import torch\n",
    "from cell_inference.utils.feature_extractors.fullyconnectednetwork import FullyConnectedNetwork, ActivationTypes\n",
    "# from cell_inference.utils.feature_extractors.convolutionalnetwork import ConvolutionalNetwork\n",
    "\n",
    "isTrain = False\n",
    "model_name = 'FCN_batch256.pth'\n",
    "MODEL_PATH = os.path.join(TRIAL_PATH,model_name)\n",
    "\n",
    "model = FullyConnectedNetwork(in_features=summ_stats.shape[1], out_features=labels.shape[1])"
   ]
  },
  {
   "cell_type": "markdown",
   "metadata": {},
   "source": [
    "## Train model"
   ]
  },
  {
   "cell_type": "code",
   "execution_count": 6,
   "metadata": {},
   "outputs": [
    {
     "name": "stderr",
     "output_type": "stream",
     "text": [
      "  2%|▊                                         | 2/100 [00:00<00:24,  4.01it/s]"
     ]
    },
    {
     "name": "stdout",
     "output_type": "stream",
     "text": [
      "Training Loss: 4.332773849368095 Validation Loss: 1.2245681881904602\n"
     ]
    },
    {
     "name": "stderr",
     "output_type": "stream",
     "text": [
      " 12%|████▉                                    | 12/100 [00:02<00:16,  5.39it/s]"
     ]
    },
    {
     "name": "stdout",
     "output_type": "stream",
     "text": [
      "Training Loss: 2.0067669600248337 Validation Loss: 0.6507765501737595\n"
     ]
    },
    {
     "name": "stderr",
     "output_type": "stream",
     "text": [
      " 21%|████████▌                                | 21/100 [00:04<00:15,  4.95it/s]"
     ]
    },
    {
     "name": "stdout",
     "output_type": "stream",
     "text": [
      "Training Loss: 1.2496157810091972 Validation Loss: 0.3971368819475174\n"
     ]
    },
    {
     "name": "stderr",
     "output_type": "stream",
     "text": [
      " 32%|█████████████                            | 32/100 [00:06<00:14,  4.80it/s]"
     ]
    },
    {
     "name": "stdout",
     "output_type": "stream",
     "text": [
      "Training Loss: 0.9814120642840862 Validation Loss: 0.3175266645848751\n"
     ]
    },
    {
     "name": "stderr",
     "output_type": "stream",
     "text": [
      " 42%|█████████████████▏                       | 42/100 [00:08<00:11,  4.84it/s]"
     ]
    },
    {
     "name": "stdout",
     "output_type": "stream",
     "text": [
      "Training Loss: 0.8349983356893063 Validation Loss: 0.2874029166996479\n"
     ]
    },
    {
     "name": "stderr",
     "output_type": "stream",
     "text": [
      " 52%|█████████████████████▎                   | 52/100 [00:10<00:09,  5.09it/s]"
     ]
    },
    {
     "name": "stdout",
     "output_type": "stream",
     "text": [
      "Training Loss: 0.7934087254106998 Validation Loss: 0.27162666618824005\n"
     ]
    },
    {
     "name": "stderr",
     "output_type": "stream",
     "text": [
      " 62%|█████████████████████████▍               | 62/100 [00:12<00:07,  5.34it/s]"
     ]
    },
    {
     "name": "stdout",
     "output_type": "stream",
     "text": [
      "Training Loss: 0.7530759610235691 Validation Loss: 0.26514144614338875\n"
     ]
    },
    {
     "name": "stderr",
     "output_type": "stream",
     "text": [
      " 72%|█████████████████████████████▌           | 72/100 [00:14<00:05,  5.02it/s]"
     ]
    },
    {
     "name": "stdout",
     "output_type": "stream",
     "text": [
      "Training Loss: 0.7409721240401268 Validation Loss: 0.2573844976723194\n"
     ]
    },
    {
     "name": "stderr",
     "output_type": "stream",
     "text": [
      " 81%|█████████████████████████████████▏       | 81/100 [00:16<00:03,  4.77it/s]"
     ]
    },
    {
     "name": "stdout",
     "output_type": "stream",
     "text": [
      "Training Loss: 0.7290316931903362 Validation Loss: 0.25294435396790504\n"
     ]
    },
    {
     "name": "stderr",
     "output_type": "stream",
     "text": [
      " 92%|█████████████████████████████████████▋   | 92/100 [00:18<00:01,  5.09it/s]"
     ]
    },
    {
     "name": "stdout",
     "output_type": "stream",
     "text": [
      "Training Loss: 0.7079171650111675 Validation Loss: 0.2492808774113655\n"
     ]
    },
    {
     "name": "stderr",
     "output_type": "stream",
     "text": [
      "100%|████████████████████████████████████████| 100/100 [00:20<00:00,  4.88it/s]\n"
     ]
    }
   ],
   "source": [
    "from cell_inference.utils.feature_extractors.helperfunctions import train_regression, build_dataloader_from_numpy\n",
    "\n",
    "train_loader, test_loader = build_dataloader_from_numpy(input_arr=summ_stats, labels_arr=labels, batch_size=256, shuffle=True)\n",
    "if isTrain:\n",
    "    history = train_regression(model, train_loader, test_loader, epochs=100, learning_rate=0.001, decay_rate=0.98)\n",
    "    model.eval()\n",
    "    torch.save(model.state_dict(), MODEL_PATH)"
   ]
  },
  {
   "cell_type": "code",
   "execution_count": 22,
   "metadata": {},
   "outputs": [
    {
     "data": {
      "image/png": "[encoded data removed]",
      "text/plain": [
       "<Figure size 432x288 with 1 Axes>"
      ]
     },
     "metadata": {
      "needs_background": "light"
     },
     "output_type": "display_data"
    }
   ],
   "source": [
    "isTrain = False\n",
    "if not isTrain:\n",
    "    LOSS_PATH = 'cell_inference/resources/results/pytorch_losses'\n",
    "    loss_file = '23_53_30__07_23_2022.csv' # select data\n",
    "    history = pd.read_csv(os.path.join(LOSS_PATH, loss_file)).to_dict(orient='list')\n",
    "plt.figure()\n",
    "plt.plot(history['Epochs'],history['Training_Loss'],label='Training Loss')\n",
    "plt.plot(history['Epochs'],history['Validation_Loss'],label='Validation Loss')\n",
    "plt.legend()\n",
    "plt.xlabel('Epochs')\n",
    "plt.ylabel('MSE')\n",
    "plt.show()"
   ]
  },
  {
   "cell_type": "markdown",
   "metadata": {},
   "source": [
    "## Evaluate model"
   ]
  },
  {
   "cell_type": "code",
   "execution_count": 8,
   "metadata": {},
   "outputs": [],
   "source": [
    "if not isTrain:\n",
    "    model.load_state_dict(torch.load(MODEL_PATH))"
   ]
  },
  {
   "cell_type": "markdown",
   "metadata": {},
   "source": [
    "### Perform on stylized model"
   ]
  },
  {
   "cell_type": "code",
   "execution_count": 9,
   "metadata": {},
   "outputs": [
    {
     "name": "stdout",
     "output_type": "stream",
     "text": [
      "R2 Score y-shift:   0.796\n",
      "R2 Score d:         0.884\n",
      "R2 Score theta:     0.608\n",
      "R2 Score h:         0.953\n",
      "R2 Score phi:       0.705\n"
     ]
    },
    {
     "data": {
      "text/html": [
       "<div>\n",
       "<style scoped>\n",
       "    .dataframe tbody tr th:only-of-type {\n",
       "        vertical-align: middle;\n",
       "    }\n",
       "\n",
       "    .dataframe tbody tr th {\n",
       "        vertical-align: top;\n",
       "    }\n",
       "\n",
       "    .dataframe thead th {\n",
       "        text-align: right;\n",
       "    }\n",
       "</style>\n",
       "<table border=\"1\" class=\"dataframe\">\n",
       "  <thead>\n",
       "    <tr style=\"text-align: right;\">\n",
       "      <th></th>\n",
       "      <th>y</th>\n",
       "      <th>d</th>\n",
       "      <th>theta</th>\n",
       "      <th>h</th>\n",
       "      <th>phi</th>\n",
       "    </tr>\n",
       "  </thead>\n",
       "  <tbody>\n",
       "    <tr>\n",
       "      <th>1049</th>\n",
       "      <td>-138.501419</td>\n",
       "      <td>149.839340</td>\n",
       "      <td>0.226634</td>\n",
       "      <td>-0.977319</td>\n",
       "      <td>2.434027</td>\n",
       "    </tr>\n",
       "    <tr>\n",
       "      <th>281</th>\n",
       "      <td>-131.680740</td>\n",
       "      <td>170.764893</td>\n",
       "      <td>0.109130</td>\n",
       "      <td>-0.689485</td>\n",
       "      <td>-1.729779</td>\n",
       "    </tr>\n",
       "    <tr>\n",
       "      <th>25</th>\n",
       "      <td>-121.431793</td>\n",
       "      <td>147.027939</td>\n",
       "      <td>-0.401925</td>\n",
       "      <td>-0.814868</td>\n",
       "      <td>-2.176504</td>\n",
       "    </tr>\n",
       "    <tr>\n",
       "      <th>691</th>\n",
       "      <td>-120.187935</td>\n",
       "      <td>185.403137</td>\n",
       "      <td>0.209738</td>\n",
       "      <td>-0.883111</td>\n",
       "      <td>-1.972412</td>\n",
       "    </tr>\n",
       "    <tr>\n",
       "      <th>571</th>\n",
       "      <td>-118.702057</td>\n",
       "      <td>176.861771</td>\n",
       "      <td>-0.261789</td>\n",
       "      <td>-0.930237</td>\n",
       "      <td>-2.860183</td>\n",
       "    </tr>\n",
       "    <tr>\n",
       "      <th>...</th>\n",
       "      <td>...</td>\n",
       "      <td>...</td>\n",
       "      <td>...</td>\n",
       "      <td>...</td>\n",
       "      <td>...</td>\n",
       "    </tr>\n",
       "    <tr>\n",
       "      <th>548</th>\n",
       "      <td>118.711639</td>\n",
       "      <td>189.463150</td>\n",
       "      <td>-0.008118</td>\n",
       "      <td>0.929276</td>\n",
       "      <td>2.702790</td>\n",
       "    </tr>\n",
       "    <tr>\n",
       "      <th>1273</th>\n",
       "      <td>124.702576</td>\n",
       "      <td>196.424835</td>\n",
       "      <td>-0.750519</td>\n",
       "      <td>0.756713</td>\n",
       "      <td>-2.579612</td>\n",
       "    </tr>\n",
       "    <tr>\n",
       "      <th>915</th>\n",
       "      <td>124.791321</td>\n",
       "      <td>186.205276</td>\n",
       "      <td>0.138423</td>\n",
       "      <td>0.953101</td>\n",
       "      <td>-2.381077</td>\n",
       "    </tr>\n",
       "    <tr>\n",
       "      <th>820</th>\n",
       "      <td>125.756958</td>\n",
       "      <td>192.992157</td>\n",
       "      <td>0.468582</td>\n",
       "      <td>0.818772</td>\n",
       "      <td>2.160643</td>\n",
       "    </tr>\n",
       "    <tr>\n",
       "      <th>1290</th>\n",
       "      <td>135.915802</td>\n",
       "      <td>198.762466</td>\n",
       "      <td>0.506645</td>\n",
       "      <td>0.943772</td>\n",
       "      <td>-2.974768</td>\n",
       "    </tr>\n",
       "  </tbody>\n",
       "</table>\n",
       "<p>1486 rows × 5 columns</p>\n",
       "</div>"
      ],
      "text/plain": [
       "               y           d     theta         h       phi\n",
       "1049 -138.501419  149.839340  0.226634 -0.977319  2.434027\n",
       "281  -131.680740  170.764893  0.109130 -0.689485 -1.729779\n",
       "25   -121.431793  147.027939 -0.401925 -0.814868 -2.176504\n",
       "691  -120.187935  185.403137  0.209738 -0.883111 -1.972412\n",
       "571  -118.702057  176.861771 -0.261789 -0.930237 -2.860183\n",
       "...          ...         ...       ...       ...       ...\n",
       "548   118.711639  189.463150 -0.008118  0.929276  2.702790\n",
       "1273  124.702576  196.424835 -0.750519  0.756713 -2.579612\n",
       "915   124.791321  186.205276  0.138423  0.953101 -2.381077\n",
       "820   125.756958  192.992157  0.468582  0.818772  2.160643\n",
       "1290  135.915802  198.762466  0.506645  0.943772 -2.974768\n",
       "\n",
       "[1486 rows x 5 columns]"
      ]
     },
     "metadata": {},
     "output_type": "display_data"
    }
   ],
   "source": [
    "from sklearn.metrics import r2_score\n",
    "from cell_inference.utils.transform.geometry_transformation import hphi2unitsphere, unitsphere2hphi, trivarnorm2unitsphere\n",
    "from cell_inference.utils.metrics.corrcoef import corrcoef\n",
    "\n",
    "device = torch.device(\"cpu\")\n",
    "model.eval()\n",
    "\n",
    "y = []\n",
    "output = []\n",
    "for X, Y in test_loader:\n",
    "    y.append(Y.to(\"cpu\").detach().numpy())\n",
    "    output.append(model(X.to(device)).to(\"cpu\").detach().numpy())\n",
    "y = np.concatenate(y, axis=0)\n",
    "output = np.concatenate(output, axis=0)\n",
    "\n",
    "# print(\"R2: {}\".format(r2_score(y, output)))\n",
    "for i, p in enumerate(inference_list):\n",
    "    if has_yshift and i == ys_idx:\n",
    "        p = 'y-shift'\n",
    "    print('R2 Score {:10} {:.3f}'.format(p+':', r2_score(y[:,i], output[:,i])))\n",
    "\n",
    "# back to original scale\n",
    "for i, lb in enumerate(inference_list):\n",
    "    y[:,i] = org_scale(y[:,i], ranges[lb])\n",
    "    output[:,i] = org_scale(output[:,i], ranges[lb])\n",
    "\n",
    "df_la = pd.DataFrame(y, columns=inference_list).sort_values(by='y')\n",
    "display(df_la)"
   ]
  },
  {
   "cell_type": "code",
   "execution_count": 10,
   "metadata": {},
   "outputs": [
    {
     "name": "stdout",
     "output_type": "stream",
     "text": [
      "Stylized Cell Testing Data: Ground Truth VS Predicted\n"
     ]
    },
    {
     "data": {
      "image/png": "[encoded data removed]",
      "text/plain": [
       "<Figure size 864x576 with 5 Axes>"
      ]
     },
     "metadata": {
      "needs_background": "light"
     },
     "output_type": "display_data"
    }
   ],
   "source": [
    "nlb = len(inference_list)\n",
    "nrows = int(np.ceil(nlb/3))\n",
    "\n",
    "fontsize = 15\n",
    "labelsize = 12\n",
    "print(\"Stylized Cell Testing Data: Ground Truth VS Predicted\")\n",
    "\n",
    "plt.figure(figsize=(12, 4 * nrows))\n",
    "for i, lb in enumerate(inference_list):\n",
    "    ax = plt.subplot(nrows, 3, i+1)\n",
    "    ax.scatter(y[:,i], output[:,i], c='red', marker='.')\n",
    "    m, b = np.polyfit(y[:,i], output[:,i], 1)\n",
    "    ax.plot(y[:,i], m * y[:,i] + b, label='y = %.2gx + %.2g' % (m,b))\n",
    "    ax.set_xlabel(lb + ' actual', fontsize=fontsize)\n",
    "    ax.set_ylabel(lb + ' predicted', fontsize=fontsize)\n",
    "    ax.tick_params(labelsize=labelsize)\n",
    "    ax.legend(loc=2, fontsize=labelsize)\n",
    "plt.tight_layout()\n",
    "plt.show()"
   ]
  },
  {
   "cell_type": "markdown",
   "metadata": {},
   "source": [
    "### Perform on detailed model (Random cases)"
   ]
  },
  {
   "cell_type": "code",
   "execution_count": 11,
   "metadata": {},
   "outputs": [],
   "source": [
    "LFP_PATH = os.path.join(TRIAL_PATH, 'lfp_detailed.npz')  # LFP and labels\n",
    "STATS_PATH = os.path.join(TRIAL_PATH, 'summ_stats_detailed.npz')  # summary statistics"
   ]
  },
  {
   "cell_type": "markdown",
   "metadata": {},
   "source": [
    "#### Ground truth"
   ]
  },
  {
   "cell_type": "code",
   "execution_count": 12,
   "metadata": {},
   "outputs": [],
   "source": [
    "STATS = np.load(STATS_PATH)\n",
    "summ_stats_test = STATS['x']\n",
    "labels_true = STATS['y']\n",
    "if has_yshift:\n",
    "    labels_true[:, ys_idx] = STATS['ys']\n",
    "\n",
    "df_la_true = pd.DataFrame(labels_true, columns=inference_list)"
   ]
  },
  {
   "cell_type": "markdown",
   "metadata": {},
   "source": [
    "#### Prediction"
   ]
  },
  {
   "cell_type": "code",
   "execution_count": 13,
   "metadata": {},
   "outputs": [
    {
     "name": "stdout",
     "output_type": "stream",
     "text": [
      "R2 Score y-shift:   0.076\n",
      "R2 Score d:         -0.287\n",
      "R2 Score theta:     0.512\n",
      "R2 Score h:         0.699\n",
      "R2 Score phi:       0.471\n"
     ]
    }
   ],
   "source": [
    "device = torch.device(\"cpu\")\n",
    "model.eval()\n",
    "\n",
    "labels_pred = model(torch.Tensor(summ_stats_test).to(device)).to(\"cpu\").detach().numpy()\n",
    "\n",
    "# back to original scale\n",
    "for i, lb in enumerate(inference_list):\n",
    "    labels_pred[:,i] = org_scale(labels_pred[:,i], ranges[lb])\n",
    "\n",
    "df_la_pred = pd.DataFrame(labels_pred, columns=inference_list)\n",
    "\n",
    "for i, p in enumerate(inference_list):\n",
    "    if has_yshift and i == ys_idx:\n",
    "        p = 'y-shift'\n",
    "    print('R2 Score {:10} {:.3f}'.format(p+':', r2_score(labels_true[:,i], labels_pred[:,i])))"
   ]
  },
  {
   "cell_type": "code",
   "execution_count": 14,
   "metadata": {},
   "outputs": [
    {
     "name": "stdout",
     "output_type": "stream",
     "text": [
      "Detailed Cell Testing Data: Ground Truth VS Predicted\n"
     ]
    },
    {
     "data": {
      "image/png": "[encoded data removed]",
      "text/plain": [
       "<Figure size 864x576 with 5 Axes>"
      ]
     },
     "metadata": {
      "needs_background": "light"
     },
     "output_type": "display_data"
    }
   ],
   "source": [
    "nlb = len(inference_list)\n",
    "nrows = int(np.ceil(nlb/3))\n",
    "\n",
    "fontsize = 15\n",
    "labelsize = 12\n",
    "print(\"Detailed Cell Testing Data: Ground Truth VS Predicted\")\n",
    "\n",
    "plt.figure(figsize=(12, 4 * nrows))\n",
    "for i, lb in enumerate(inference_list):\n",
    "    ax = plt.subplot(nrows, 3, i+1)\n",
    "    ax.scatter(labels_true[:,i], labels_pred[:,i], c='red', marker='.')\n",
    "    m, b = np.polyfit(labels_true[:,i], labels_pred[:,i], 1)\n",
    "    ax.plot(labels_true[:,i], m * labels_true[:,i] + b, label='y = %.2gx + %.2g' % (m,b))\n",
    "    ax.set_xlabel(lb + ' actual', fontsize=fontsize)\n",
    "    ax.set_ylabel(lb + ' predicted', fontsize=fontsize)\n",
    "    ax.tick_params(labelsize=labelsize)\n",
    "    ax.legend(loc=2, fontsize=labelsize)\n",
    "plt.tight_layout()\n",
    "plt.show()"
   ]
  },
  {
   "cell_type": "markdown",
   "metadata": {},
   "source": [
    "### Perform on detailed model (Selected cases)"
   ]
  },
  {
   "cell_type": "code",
   "execution_count": 15,
   "metadata": {},
   "outputs": [],
   "source": [
    "import os\n",
    "\n",
    "DATA_PATH = 'cell_inference/resources/detailed'  # '/home/matt/data/InVivoLFPs/detailed_cell_simulation/without_basal_dendrite'\n",
    "COORDS_PATH = os.path.join('cell_inference/resources', 'Electrode2D.h5')\n",
    "\n",
    "# model_name = 'neuronal_model_496930324'\n",
    "model_name = 'neuronal_model_491766131'\n",
    "detailed_cells = [\n",
    "    os.path.join(DATA_PATH, model_name+'_h0.0.h5'),\n",
    "    os.path.join(DATA_PATH, model_name+'_h0.7071.h5'),\n",
    "    os.path.join(DATA_PATH, model_name+'_h1.0.h5')\n",
    "]"
   ]
  },
  {
   "cell_type": "markdown",
   "metadata": {},
   "source": [
    "#### Ground truth"
   ]
  },
  {
   "cell_type": "code",
   "execution_count": 16,
   "metadata": {},
   "outputs": [],
   "source": [
    "from cell_inference.utils.transform.geometry_transformation import pol2cart, cart2pol\n",
    "\n",
    "loc_param = [0., 350., 80., np.pi/4, 1.0, 0.]\n",
    "loc_params = np.tile(loc_param,(len(detailed_cells),1)) \n",
    "loc_params[:,4] = [0.0, 0.7071, 1.0]\n",
    "\n",
    "labels_true = loc_params[:,[1,0,2,4,5]]\n",
    "labels_true[:,1], labels_true[:,2] = cart2pol(labels_true[:,1], labels_true[:,2])"
   ]
  },
  {
   "cell_type": "code",
   "execution_count": 17,
   "metadata": {},
   "outputs": [
    {
     "name": "stdout",
     "output_type": "stream",
     "text": [
      "0 bad samples.\n"
     ]
    }
   ],
   "source": [
    "import h5py\n",
    "from cell_inference.utils.feature_extractors.SummaryStats2D import build_lfp_grid, get_y_window, calculate_stats\n",
    "from cell_inference.utils.spike_window import first_pk_tr, get_spike_window\n",
    "\n",
    "pk_tr_idx_in_window = 24  # 24*0.025=0.6 ms\n",
    "lfp_list = []\n",
    "tt = []\n",
    "\n",
    "summ_stats_test = []\n",
    "bad_indices = []\n",
    "yshift = []\n",
    "\n",
    "amp_scale = 1.\n",
    "for i, sample in enumerate(detailed_cells):\n",
    "    with h5py.File(sample, \"r\") as f:\n",
    "        lfp = f['data'][:].reshape((-1, 384)) * amp_scale\n",
    "        dt = f.attrs['dt']\n",
    "\n",
    "    start, end = get_spike_window(lfp, win_size=params.WINDOW_SIZE, align_at=pk_tr_idx_in_window)\n",
    "    lfp_list.append(lfp[start:end,:])\n",
    "    tt.append(np.arange(lfp.shape[0])[start:end] * dt)\n",
    "    \n",
    "    try:\n",
    "        g_lfp, _, y_c = build_lfp_grid(lfp_list[i], params.ELECTRODE_POSITION[:, :2], y_window_size=960.0)\n",
    "    except ValueError:\n",
    "        bad_indices.append(i)\n",
    "        continue\n",
    "    summ_stats_test.append(calculate_stats(g_lfp))\n",
    "    if has_yshift:\n",
    "        yshift.append(y_c - labels_true[i, ys_idx])\n",
    "\n",
    "summ_stats_test = np.array(summ_stats_test)\n",
    "labels_true = np.delete(labels_true, bad_indices, axis=0)\n",
    "if has_yshift:\n",
    "    labels_true[:, ys_idx] = np.array(yshift)\n",
    "print('%d bad samples.' % len(bad_indices))\n",
    "\n",
    "df_la_true = pd.DataFrame(labels_true, columns=inference_list)"
   ]
  },
  {
   "cell_type": "markdown",
   "metadata": {},
   "source": [
    "#### Prediction"
   ]
  },
  {
   "cell_type": "code",
   "execution_count": 18,
   "metadata": {},
   "outputs": [],
   "source": [
    "device = torch.device(\"cpu\")\n",
    "model.eval()\n",
    "\n",
    "labels_pred = model(torch.Tensor(summ_stats_test).to(device)).to(\"cpu\").detach().numpy()\n",
    "\n",
    "# back to original scale\n",
    "for i, lb in enumerate(inference_list):\n",
    "    labels_pred[:,i] = org_scale(labels_pred[:,i], ranges[lb])\n",
    "\n",
    "df_la_pred = pd.DataFrame(labels_pred, columns=inference_list)"
   ]
  },
  {
   "cell_type": "code",
   "execution_count": 19,
   "metadata": {},
   "outputs": [
    {
     "data": {
      "text/html": [
       "<div>\n",
       "<style scoped>\n",
       "    .dataframe tbody tr th:only-of-type {\n",
       "        vertical-align: middle;\n",
       "    }\n",
       "\n",
       "    .dataframe tbody tr th {\n",
       "        vertical-align: top;\n",
       "    }\n",
       "\n",
       "    .dataframe thead th {\n",
       "        text-align: right;\n",
       "    }\n",
       "</style>\n",
       "<table border=\"1\" class=\"dataframe\">\n",
       "  <thead>\n",
       "    <tr style=\"text-align: right;\">\n",
       "      <th></th>\n",
       "      <th>y true</th>\n",
       "      <th>y pred</th>\n",
       "      <th>d true</th>\n",
       "      <th>d pred</th>\n",
       "      <th>theta true</th>\n",
       "      <th>theta pred</th>\n",
       "      <th>theta true (degree)</th>\n",
       "      <th>theta pred (degree)</th>\n",
       "      <th>h true</th>\n",
       "      <th>h pred</th>\n",
       "      <th>h true (degree)</th>\n",
       "      <th>h pred (degree)</th>\n",
       "      <th>phi true</th>\n",
       "      <th>phi pred</th>\n",
       "      <th>phi true (degree)</th>\n",
       "      <th>phi pred (degree)</th>\n",
       "    </tr>\n",
       "  </thead>\n",
       "  <tbody>\n",
       "    <tr>\n",
       "      <th>0</th>\n",
       "      <td>0</td>\n",
       "      <td>2.955</td>\n",
       "      <td>80</td>\n",
       "      <td>55.42</td>\n",
       "      <td>0</td>\n",
       "      <td>-0.1654</td>\n",
       "      <td>0</td>\n",
       "      <td>-9.478</td>\n",
       "      <td>0</td>\n",
       "      <td>0.08211</td>\n",
       "      <td>0</td>\n",
       "      <td>4.71</td>\n",
       "      <td>0</td>\n",
       "      <td>-1.004</td>\n",
       "      <td>0</td>\n",
       "      <td>-57.55</td>\n",
       "    </tr>\n",
       "    <tr>\n",
       "      <th>1</th>\n",
       "      <td>-20</td>\n",
       "      <td>-27.88</td>\n",
       "      <td>80</td>\n",
       "      <td>52.46</td>\n",
       "      <td>0</td>\n",
       "      <td>-0.0009493</td>\n",
       "      <td>0</td>\n",
       "      <td>-0.05439</td>\n",
       "      <td>0.7071</td>\n",
       "      <td>0.4358</td>\n",
       "      <td>45</td>\n",
       "      <td>25.84</td>\n",
       "      <td>0</td>\n",
       "      <td>-0.903</td>\n",
       "      <td>0</td>\n",
       "      <td>-51.74</td>\n",
       "    </tr>\n",
       "    <tr>\n",
       "      <th>2</th>\n",
       "      <td>-40</td>\n",
       "      <td>-41.22</td>\n",
       "      <td>80</td>\n",
       "      <td>52.47</td>\n",
       "      <td>0</td>\n",
       "      <td>0.02789</td>\n",
       "      <td>0</td>\n",
       "      <td>1.598</td>\n",
       "      <td>1</td>\n",
       "      <td>0.6856</td>\n",
       "      <td>90</td>\n",
       "      <td>43.29</td>\n",
       "      <td>0</td>\n",
       "      <td>-0.1247</td>\n",
       "      <td>0</td>\n",
       "      <td>-7.146</td>\n",
       "    </tr>\n",
       "  </tbody>\n",
       "</table>\n",
       "</div>"
      ],
      "text/plain": [
       "   y true  y pred  d true  d pred  theta true  theta pred  \\\n",
       "0       0   2.955      80   55.42           0     -0.1654   \n",
       "1     -20  -27.88      80   52.46           0  -0.0009493   \n",
       "2     -40  -41.22      80   52.47           0     0.02789   \n",
       "\n",
       "   theta true (degree)  theta pred (degree)  h true  h pred  h true (degree)  \\\n",
       "0                    0               -9.478       0 0.08211                0   \n",
       "1                    0             -0.05439  0.7071  0.4358               45   \n",
       "2                    0                1.598       1  0.6856               90   \n",
       "\n",
       "   h pred (degree)  phi true  phi pred  phi true (degree)  phi pred (degree)  \n",
       "0             4.71         0    -1.004                  0             -57.55  \n",
       "1            25.84         0    -0.903                  0             -51.74  \n",
       "2            43.29         0   -0.1247                  0             -7.146  "
      ]
     },
     "metadata": {},
     "output_type": "display_data"
    }
   ],
   "source": [
    "df_comp = {}\n",
    "for c1, c2 in zip(df_la_true.columns, df_la_pred.columns):\n",
    "    df_comp[c1+' true'] = df_la_true[c1]\n",
    "    df_comp[c1+' pred'] = df_la_pred[c2]\n",
    "df_comp = pd.DataFrame(df_comp)\n",
    "\n",
    "# rad to degree\n",
    "rad2deg = lambda x: 180 / np.pi * x\n",
    "\n",
    "for p in ['theta', 'h', 'phi']:\n",
    "    idx = df_comp.columns.get_loc(p + ' pred') + 1\n",
    "    for d in [' pred', ' true']:\n",
    "        val = df_comp[p + d]\n",
    "        if p == 'h':\n",
    "            val = np.pi/2 - np.arccos(val)\n",
    "        df_comp.insert(idx, p + d + ' (degree)', rad2deg(val))\n",
    "\n",
    "with pd.option_context('display.float_format', '{:.4g}'.format, 'max_columns', None):\n",
    "    display(df_comp)"
   ]
  },
  {
   "cell_type": "code",
   "execution_count": null,
   "metadata": {},
   "outputs": [],
   "source": []
  }
 ],
 "metadata": {
  "kernelspec": {
   "display_name": "Python 3 (ipykernel)",
   "language": "python",
   "name": "python3"
  },
  "language_info": {
   "codemirror_mode": {
    "name": "ipython",
    "version": 3
   },
   "file_extension": ".py",
   "mimetype": "text/x-python",
   "name": "python",
   "nbconvert_exporter": "python",
   "pygments_lexer": "ipython3",
   "version": "3.7.4"
  }
 },
 "nbformat": 4,
 "nbformat_minor": 4
}
