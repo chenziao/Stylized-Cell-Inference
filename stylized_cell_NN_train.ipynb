{
 "cells": [
  {
   "cell_type": "code",
   "execution_count": 1,
   "metadata": {},
   "outputs": [],
   "source": [
    "import pandas as pd\n",
    "import numpy as np\n",
    "import matplotlib.pyplot as plt\n",
    "from scipy import signal\n",
    "import h5py\n",
    "import json\n",
    "import os\n",
    "import __main__\n",
    "\n",
    "from cell_inference.config import paths, params\n",
    "from cell_inference.utils.transform.geometry_transformation import hphi2unitsphere, unitsphere2hphi, trivarnorm2unitsphere\n",
    "from cell_inference.utils.transform.data_transform import log_moulus_nfold\n",
    "from cell_inference.utils.plotting.plot_results import plot_lfp_traces, plot_lfp_heatmap\n",
    "from cell_inference.utils.feature_extractors.SummaryStats2D import calculate_stats, build_lfp_grid, GRID_SHAPE\n",
    "from cell_inference.utils.feature_extractors.parameterprediction import ClassifierTypes, ClassifierBuilder\n",
    "from cell_inference.utils.data_manager import NpzFilesCollector\n",
    "\n",
    "%matplotlib inline\n",
    "\n",
    "isCNN = True\n",
    "isTrain = True\n",
    "epochs = 100\n",
    "TRIAL_NAME = 'Reduced_Order_stochastic_spkwid_trunkLR4_LactvCa_Loc3_h1'\n",
    "\n",
    "if not hasattr(__main__, 'get_ipython'):\n",
    "    import argparse\n",
    "    parser = argparse.ArgumentParser()\n",
    "    parser.add_argument('--train', action='store_true', help=\"Train model\")\n",
    "    parser.add_argument('--test', action='store_false', dest='train', help=\"Test model only\")\n",
    "    parser.set_defaults(train=True)\n",
    "    parser.add_argument('--cnn', action='store_true', help=\"Train with CNN\")\n",
    "    parser.add_argument('--fcn', action='store_false', dest='cnn', help=\"Train with FCN\")\n",
    "    parser.set_defaults(cnn=True)\n",
    "    parser.add_argument('-e', type=int, nargs='?', default=epochs, help=\"Epochs of train\", metavar='Epochs')\n",
    "    parser.add_argument('-trial', type=str, nargs='?', default=TRIAL_NAME, help=\"Trial name\", metavar='Trial')\n",
    "    args = parser.parse_args()\n",
    "    isTrain = args.train\n",
    "    isCNN = args.cnn\n",
    "    epochs = args.e\n",
    "    TRIAL_NAME = args.trial"
   ]
  },
  {
   "cell_type": "markdown",
   "metadata": {},
   "source": [
    "## Load simulation data"
   ]
  },
  {
   "cell_type": "code",
   "execution_count": 2,
   "metadata": {},
   "outputs": [
    {
     "name": "stdout",
     "output_type": "stream",
     "text": [
      "['y', 'd', 'theta', 'l_t', 'lr_pt', 'r_t', 'rr_dt']\n"
     ]
    }
   ],
   "source": [
    "DATA_PATH = paths.SIMULATED_DATA_PATH\n",
    "TRIAL_PATH = os.path.join(DATA_PATH, TRIAL_NAME)\n",
    "\n",
    "CONFIG_PATH = os.path.join(TRIAL_PATH, 'config.json')  # trial configuration\n",
    "LFP_PATH = os.path.join(TRIAL_PATH, 'lfp.npz')  # LFP and labels\n",
    "STATS_PATH = os.path.join(TRIAL_PATH, 'summ_stats.npz')  # summary statistics\n",
    "\n",
    "if isCNN:\n",
    "    try:\n",
    "        LFP = np.load(LFP_PATH)\n",
    "    except:\n",
    "        LFP = NpzFilesCollector(LFP_PATH)\n",
    "    with LFP:\n",
    "        lfp = LFP['x'] * 1000 # convert to uV\n",
    "        labels = LFP['y'][LFP['good_indices']]\n",
    "        ys = LFP['ys']\n",
    "else:\n",
    "    try:\n",
    "        STATS = np.load(STATS_PATH)\n",
    "    except:\n",
    "        STATS = NpzFilesCollector(STATS_PATH)\n",
    "    with STATS:\n",
    "        summ_stats = STATS['x']\n",
    "        labels = STATS['y']\n",
    "        ys = STATS['ys']\n",
    "\n",
    "with open(CONFIG_PATH, 'r') as f:\n",
    "    config_dict = json.load(f)\n",
    "\n",
    "inference_list = config_dict['Trial_Parameters']['inference_list']\n",
    "ranges = config_dict['Simulation_Parameters']['loc_param_range']\n",
    "ranges.update(config_dict['Simulation_Parameters']['geo_param_range'])\n",
    "\n",
    "print(inference_list)"
   ]
  },
  {
   "cell_type": "markdown",
   "metadata": {},
   "source": [
    "### Transform labels"
   ]
  },
  {
   "cell_type": "markdown",
   "metadata": {},
   "source": [
    "#### Orientation"
   ]
  },
  {
   "cell_type": "code",
   "execution_count": 3,
   "metadata": {},
   "outputs": [],
   "source": [
    "check_orient = 'h' in inference_list and 'phi' in inference_list\n",
    "if check_orient:\n",
    "    orient_idx0 = [inference_list.index(x) for x in ['h', 'phi']]\n",
    "    orient_idx2 = orient_idx0.copy()\n",
    "\n",
    "direction_vec = True # represent orientation by vector on unit sphere\n",
    "direction_vec = direction_vec and check_orient\n",
    "\n",
    "label_list = inference_list.copy()\n",
    "if direction_vec:\n",
    "    dv = hphi2unitsphere(labels[:, orient_idx0])\n",
    "    labels = np.hstack([np.delete(labels, orient_idx0, axis=1), dv])\n",
    "    \n",
    "    orient_idx1 = list(range(len(inference_list) - 2, len(inference_list) + 1))\n",
    "    orient_idx2 = [orient_idx1[1], len(inference_list) + 1]\n",
    "    label_list.remove('h')\n",
    "    label_list.remove('phi')\n",
    "    label_list += ['vx', 'vy', 'vz']\n",
    "    for i in orient_idx1:\n",
    "        ranges[label_list[i]] = [-1., 1.]\n",
    "\n",
    "display_list = label_list.copy()\n",
    "if direction_vec:\n",
    "    display_list[orient_idx1[1]] = 'vy / h'\n",
    "    display_list.append('phi')"
   ]
  },
  {
   "cell_type": "markdown",
   "metadata": {},
   "source": [
    "#### y shift"
   ]
  },
  {
   "cell_type": "code",
   "execution_count": 4,
   "metadata": {},
   "outputs": [
    {
     "data": {
      "text/html": [
       "<div>\n",
       "<style scoped>\n",
       "    .dataframe tbody tr th:only-of-type {\n",
       "        vertical-align: middle;\n",
       "    }\n",
       "\n",
       "    .dataframe tbody tr th {\n",
       "        vertical-align: top;\n",
       "    }\n",
       "\n",
       "    .dataframe thead th {\n",
       "        text-align: right;\n",
       "    }\n",
       "</style>\n",
       "<table border=\"1\" class=\"dataframe\">\n",
       "  <thead>\n",
       "    <tr style=\"text-align: right;\">\n",
       "      <th></th>\n",
       "      <th>ys</th>\n",
       "      <th>d</th>\n",
       "      <th>theta</th>\n",
       "      <th>l_t</th>\n",
       "      <th>lr_pt</th>\n",
       "      <th>r_t</th>\n",
       "      <th>rr_dt</th>\n",
       "    </tr>\n",
       "  </thead>\n",
       "  <tbody>\n",
       "    <tr>\n",
       "      <th>3</th>\n",
       "      <td>5.755159</td>\n",
       "      <td>52.479145</td>\n",
       "      <td>0.014425</td>\n",
       "      <td>695.607342</td>\n",
       "      <td>0.159487</td>\n",
       "      <td>0.536712</td>\n",
       "      <td>0.658876</td>\n",
       "    </tr>\n",
       "    <tr>\n",
       "      <th>2</th>\n",
       "      <td>10.046336</td>\n",
       "      <td>56.146029</td>\n",
       "      <td>-0.217564</td>\n",
       "      <td>695.607342</td>\n",
       "      <td>0.159487</td>\n",
       "      <td>0.536712</td>\n",
       "      <td>0.658876</td>\n",
       "    </tr>\n",
       "    <tr>\n",
       "      <th>1</th>\n",
       "      <td>30.866634</td>\n",
       "      <td>90.468007</td>\n",
       "      <td>-0.441715</td>\n",
       "      <td>1049.496815</td>\n",
       "      <td>0.118905</td>\n",
       "      <td>0.431152</td>\n",
       "      <td>0.668250</td>\n",
       "    </tr>\n",
       "    <tr>\n",
       "      <th>0</th>\n",
       "      <td>40.094641</td>\n",
       "      <td>145.544253</td>\n",
       "      <td>-0.245650</td>\n",
       "      <td>1049.496815</td>\n",
       "      <td>0.118905</td>\n",
       "      <td>0.431152</td>\n",
       "      <td>0.668250</td>\n",
       "    </tr>\n",
       "  </tbody>\n",
       "</table>\n",
       "</div>"
      ],
      "text/plain": [
       "          ys           d     theta          l_t     lr_pt       r_t     rr_dt\n",
       "3   5.755159   52.479145  0.014425   695.607342  0.159487  0.536712  0.658876\n",
       "2  10.046336   56.146029 -0.217564   695.607342  0.159487  0.536712  0.658876\n",
       "1  30.866634   90.468007 -0.441715  1049.496815  0.118905  0.431152  0.668250\n",
       "0  40.094641  145.544253 -0.245650  1049.496815  0.118905  0.431152  0.668250"
      ]
     },
     "metadata": {},
     "output_type": "display_data"
    }
   ],
   "source": [
    "has_yshift = 'y' in label_list and ys.size != 0\n",
    "if has_yshift:\n",
    "    ys_idx = label_list.index('y')\n",
    "    labels[:,ys_idx] = ys\n",
    "    label_list[ys_idx] = 'ys'\n",
    "    display_list[display_list.index('y')] = 'y-shift'\n",
    "\n",
    "df_la = pd.DataFrame(labels, columns=label_list)\n",
    "df_la.sort_values(by=df_la.columns[0],inplace=True)\n",
    "\n",
    "with pd.option_context('display.max_rows',10):\n",
    "    display(df_la)"
   ]
  },
  {
   "cell_type": "markdown",
   "metadata": {},
   "source": [
    "### Normalizing labels"
   ]
  },
  {
   "cell_type": "markdown",
   "metadata": {},
   "source": [
    "#### Set bounds for y shift"
   ]
  },
  {
   "cell_type": "code",
   "execution_count": 5,
   "metadata": {},
   "outputs": [
    {
     "name": "stdout",
     "output_type": "stream",
     "text": [
      "0.00% outside bounds.\n",
      "{\"x\": [-50, 50], \"y\": [-750.0, 750.0], \"z\": [50.0, 200.0], \"alpha\": [0, 3.141592653589793], \"h\": [0.7071, 1.0], \"phi\": [-3.141592653589793, 3.141592653589793], \"d\": [50.0, 200.0], \"theta\": [-1.0471975511965976, 1.0471975511965976], \"l_t\": [100.0, 1200.0], \"lr_pt\": [0.02, 0.35], \"r_t\": [0.4, 1.5], \"rr_dt\": [0.4, 0.8], \"ys\": [-150, 150]}\n"
     ]
    }
   ],
   "source": [
    "if has_yshift:\n",
    "    ranges['ys'] = [-150, 150] # set bound for normalization\n",
    "    df_la_idx = df_la[df_la['ys'].between(*ranges['ys'])].index.values\n",
    "    print(\"%.2f%% outside bounds.\" % (100 - 100* len(df_la_idx) / len(df_la.index)))\n",
    "\n",
    "print(json.dumps(ranges))"
   ]
  },
  {
   "cell_type": "markdown",
   "metadata": {},
   "source": [
    "#### Normalization"
   ]
  },
  {
   "cell_type": "code",
   "execution_count": 6,
   "metadata": {},
   "outputs": [
    {
     "data": {
      "text/html": [
       "<div>\n",
       "<style scoped>\n",
       "    .dataframe tbody tr th:only-of-type {\n",
       "        vertical-align: middle;\n",
       "    }\n",
       "\n",
       "    .dataframe tbody tr th {\n",
       "        vertical-align: top;\n",
       "    }\n",
       "\n",
       "    .dataframe thead th {\n",
       "        text-align: right;\n",
       "    }\n",
       "</style>\n",
       "<table border=\"1\" class=\"dataframe\">\n",
       "  <thead>\n",
       "    <tr style=\"text-align: right;\">\n",
       "      <th></th>\n",
       "      <th>ys</th>\n",
       "      <th>d</th>\n",
       "      <th>theta</th>\n",
       "      <th>l_t</th>\n",
       "      <th>lr_pt</th>\n",
       "      <th>r_t</th>\n",
       "      <th>rr_dt</th>\n",
       "    </tr>\n",
       "  </thead>\n",
       "  <tbody>\n",
       "    <tr>\n",
       "      <th>0</th>\n",
       "      <td>0.267298</td>\n",
       "      <td>0.273923</td>\n",
       "      <td>-0.234578</td>\n",
       "      <td>0.726358</td>\n",
       "      <td>-0.400576</td>\n",
       "      <td>-0.943361</td>\n",
       "      <td>0.341249</td>\n",
       "    </tr>\n",
       "    <tr>\n",
       "      <th>1</th>\n",
       "      <td>0.205778</td>\n",
       "      <td>-0.460427</td>\n",
       "      <td>-0.421807</td>\n",
       "      <td>0.726358</td>\n",
       "      <td>-0.400576</td>\n",
       "      <td>-0.943361</td>\n",
       "      <td>0.341249</td>\n",
       "    </tr>\n",
       "    <tr>\n",
       "      <th>2</th>\n",
       "      <td>0.066976</td>\n",
       "      <td>-0.918053</td>\n",
       "      <td>-0.207758</td>\n",
       "      <td>0.082922</td>\n",
       "      <td>-0.154626</td>\n",
       "      <td>-0.751433</td>\n",
       "      <td>0.294379</td>\n",
       "    </tr>\n",
       "    <tr>\n",
       "      <th>3</th>\n",
       "      <td>0.038368</td>\n",
       "      <td>-0.966945</td>\n",
       "      <td>0.013775</td>\n",
       "      <td>0.082922</td>\n",
       "      <td>-0.154626</td>\n",
       "      <td>-0.751433</td>\n",
       "      <td>0.294379</td>\n",
       "    </tr>\n",
       "  </tbody>\n",
       "</table>\n",
       "</div>"
      ],
      "text/plain": [
       "         ys         d     theta       l_t     lr_pt       r_t     rr_dt\n",
       "0  0.267298  0.273923 -0.234578  0.726358 -0.400576 -0.943361  0.341249\n",
       "1  0.205778 -0.460427 -0.421807  0.726358 -0.400576 -0.943361  0.341249\n",
       "2  0.066976 -0.918053 -0.207758  0.082922 -0.154626 -0.751433  0.294379\n",
       "3  0.038368 -0.966945  0.013775  0.082922 -0.154626 -0.751433  0.294379"
      ]
     },
     "metadata": {},
     "output_type": "display_data"
    }
   ],
   "source": [
    "feature_range = (-1, 1)\n",
    "norm_scale = lambda x, r: (x - r[0]) / (r[1] - r[0]) * (feature_range[1] - feature_range[0]) + feature_range[0]\n",
    "org_scale = lambda x, r: (x - feature_range[0]) / (feature_range[1] - feature_range[0]) *  (r[1] - r[0]) + r[0]\n",
    "\n",
    "for i, lb in enumerate(label_list):\n",
    "    labels[:,i] = norm_scale(labels[:,i], ranges[lb])\n",
    "\n",
    "df_la = pd.DataFrame(labels, columns=label_list)\n",
    "with pd.option_context('display.max_rows',10):\n",
    "    display(df_la)"
   ]
  },
  {
   "cell_type": "markdown",
   "metadata": {},
   "source": [
    "## Build model"
   ]
  },
  {
   "cell_type": "code",
   "execution_count": 7,
   "metadata": {},
   "outputs": [],
   "source": [
    "if isCNN:\n",
    "    n_fold = 30\n",
    "    max_logmod = np.ceil(np.log2(n_fold))  # max value after transform\n",
    "    n_fold = 2**max_logmod - 1\n",
    "    \n",
    "    lfp_trans = np.empty_like(lfp)\n",
    "    for i in range(lfp.shape[0]):\n",
    "        lfp_trans[i] = log_moulus_nfold(lfp[i], n_fold)\n",
    "    \n",
    "    lfp_trans = np.stack((lfp, lfp_trans), axis=1)\n",
    "    lfp_trans = lfp_trans.reshape(lfp_trans.shape[:3] + (GRID_SHAPE[0], -1))"
   ]
  },
  {
   "cell_type": "code",
   "execution_count": 8,
   "metadata": {},
   "outputs": [
    {
     "name": "stdout",
     "output_type": "stream",
     "text": [
      "The new model directory is created!\n"
     ]
    }
   ],
   "source": [
    "import torch\n",
    "\n",
    "batch_size = 256\n",
    "model_name = '_batch' + str(batch_size)\n",
    "rand_seed = 0\n",
    "torch.manual_seed(rand_seed)\n",
    "\n",
    "if isCNN:\n",
    "    from cell_inference.utils.feature_extractors.convolutionalnetwork import ConvolutionalNetwork, ActivationTypes\n",
    "    model_name = 'CNN' + model_name\n",
    "    num_filters = [8, 16, 16, 32, 32, 64, 64, 64, 32, 8]\n",
    "    model = ConvolutionalNetwork(in_channels=lfp_trans.shape[1], out_features=len(label_list), num_filters=num_filters)\n",
    "else:\n",
    "    from cell_inference.utils.feature_extractors.fullyconnectednetwork import FullyConnectedNetwork, ActivationTypes\n",
    "    model_name = 'FCN' + model_name\n",
    "    model = FullyConnectedNetwork(in_features=summ_stats.shape[1], out_features=len(label_list))\n",
    "\n",
    "if direction_vec:\n",
    "    model_name += '_dv'\n",
    "MODEL_PATH = os.path.join(TRIAL_PATH, model_name)\n",
    "if isTrain and not os.path.exists(MODEL_PATH):\n",
    "    os.makedirs(MODEL_PATH)\n",
    "    print(\"The new model directory is created!\")\n",
    "\n",
    "PARAM_PATH = os.path.join(MODEL_PATH, model_name + '.pth')\n",
    "SAVE_PATH = os.path.join(MODEL_PATH, model_name + '.txt')"
   ]
  },
  {
   "cell_type": "markdown",
   "metadata": {},
   "source": [
    "## Train model"
   ]
  },
  {
   "cell_type": "code",
   "execution_count": 9,
   "metadata": {},
   "outputs": [
    {
     "name": "stderr",
     "output_type": "stream",
     "text": [
      " 10%|████▎                                      | 1/10 [00:00<00:04,  1.89it/s]"
     ]
    },
    {
     "name": "stdout",
     "output_type": "stream",
     "text": [
      "Training Loss: 0.10794568061828613 Validation Loss: 0.27686306834220886\n"
     ]
    },
    {
     "name": "stderr",
     "output_type": "stream",
     "text": [
      "100%|██████████████████████████████████████████| 10/10 [00:03<00:00,  2.67it/s]\n"
     ]
    }
   ],
   "source": [
    "from cell_inference.utils.feature_extractors.helperfunctions import train_model, build_dataloader_from_numpy\n",
    "\n",
    "if isCNN:\n",
    "    train_size = 0.8 if isTrain else 0.\n",
    "    train_loader, test_loader = build_dataloader_from_numpy(\n",
    "        input_arr=lfp_trans, label_arr=labels, batch_size=batch_size, train_size=train_size, shuffle=True\n",
    "    )\n",
    "else:\n",
    "    train_loader, test_loader = build_dataloader_from_numpy(input_arr=summ_stats, label_arr=labels, batch_size=batch_size, shuffle=True)\n",
    "\n",
    "if isTrain:\n",
    "    history, files = train_model(model, train_loader, test_loader, epochs=epochs, learning_rate=0.001, decay_rate=0.98)\n",
    "    model.eval()\n",
    "    torch.save(model.state_dict(), PARAM_PATH)\n",
    "    with open(SAVE_PATH, 'w') as f:\n",
    "        f.writelines(s + '\\n' for s in files)"
   ]
  },
  {
   "cell_type": "code",
   "execution_count": 10,
   "metadata": {},
   "outputs": [
    {
     "data": {
      "image/png": "[encoded data removed]",
      "text/plain": [
       "<Figure size 432x288 with 1 Axes>"
      ]
     },
     "metadata": {
      "needs_background": "light"
     },
     "output_type": "display_data"
    }
   ],
   "source": [
    "if not isTrain:\n",
    "    with open(SAVE_PATH, 'r') as f:\n",
    "        loss_file = f.read().splitlines()[1]\n",
    "        loss_file = loss_file.split(os.path.sep)[-1].split('/')[-1]\n",
    "        loss_file = os.path.join(paths.LOSSES_ROOT, loss_file)\n",
    "    history = pd.read_csv(loss_file).to_dict(orient='list')\n",
    "plt.figure()\n",
    "plt.plot(history['Epochs'],history['Training_Loss'],label='Training Loss')\n",
    "plt.plot(history['Epochs'],history['Validation_Loss'],label='Validation Loss')\n",
    "plt.legend()\n",
    "plt.xlabel('Epochs')\n",
    "plt.ylabel('MSE')\n",
    "plt.show()"
   ]
  },
  {
   "cell_type": "markdown",
   "metadata": {},
   "source": [
    "## Evaluate model"
   ]
  },
  {
   "cell_type": "markdown",
   "metadata": {},
   "source": [
    "### Perform on stylized model"
   ]
  },
  {
   "cell_type": "code",
   "execution_count": 11,
   "metadata": {},
   "outputs": [
    {
     "name": "stdout",
     "output_type": "stream",
     "text": [
      "R2 Score:\n",
      "y-shift,   nan\n",
      "d,         nan\n",
      "theta,     nan\n",
      "l_t,       nan\n",
      "lr_pt,     nan\n",
      "r_t,       nan\n",
      "rr_dt,     nan\n"
     ]
    },
    {
     "name": "stderr",
     "output_type": "stream",
     "text": [
      "E:\\Users\\lenovo\\anaconda3\\lib\\site-packages\\sklearn\\metrics\\_regression.py:796: UndefinedMetricWarning: R^2 score is not well-defined with less than two samples.\n",
      "  warnings.warn(msg, UndefinedMetricWarning)\n",
      "E:\\Users\\lenovo\\anaconda3\\lib\\site-packages\\sklearn\\metrics\\_regression.py:796: UndefinedMetricWarning: R^2 score is not well-defined with less than two samples.\n",
      "  warnings.warn(msg, UndefinedMetricWarning)\n",
      "E:\\Users\\lenovo\\anaconda3\\lib\\site-packages\\sklearn\\metrics\\_regression.py:796: UndefinedMetricWarning: R^2 score is not well-defined with less than two samples.\n",
      "  warnings.warn(msg, UndefinedMetricWarning)\n",
      "E:\\Users\\lenovo\\anaconda3\\lib\\site-packages\\sklearn\\metrics\\_regression.py:796: UndefinedMetricWarning: R^2 score is not well-defined with less than two samples.\n",
      "  warnings.warn(msg, UndefinedMetricWarning)\n",
      "E:\\Users\\lenovo\\anaconda3\\lib\\site-packages\\sklearn\\metrics\\_regression.py:796: UndefinedMetricWarning: R^2 score is not well-defined with less than two samples.\n",
      "  warnings.warn(msg, UndefinedMetricWarning)\n",
      "E:\\Users\\lenovo\\anaconda3\\lib\\site-packages\\sklearn\\metrics\\_regression.py:796: UndefinedMetricWarning: R^2 score is not well-defined with less than two samples.\n",
      "  warnings.warn(msg, UndefinedMetricWarning)\n",
      "E:\\Users\\lenovo\\anaconda3\\lib\\site-packages\\sklearn\\metrics\\_regression.py:796: UndefinedMetricWarning: R^2 score is not well-defined with less than two samples.\n",
      "  warnings.warn(msg, UndefinedMetricWarning)\n"
     ]
    }
   ],
   "source": [
    "from sklearn.metrics import r2_score\n",
    "from cell_inference.utils.metrics.corrcoef import corrcoef\n",
    "\n",
    "device = torch.device('cpu')\n",
    "if not isTrain:\n",
    "    model.load_state_dict(torch.load(PARAM_PATH, map_location=torch.device('cpu')))\n",
    "model.to(device)\n",
    "model.eval()\n",
    "\n",
    "y = []\n",
    "output = []\n",
    "for X, Y in test_loader:\n",
    "    y.append(Y.to(\"cpu\").detach().numpy())\n",
    "    output.append(model(X.to(device)).to(\"cpu\").detach().numpy())\n",
    "y = np.concatenate(y, axis=0)\n",
    "output = np.concatenate(output, axis=0)\n",
    "\n",
    "# back to original scale\n",
    "for i, lb in enumerate(label_list):\n",
    "    y[:, i] = org_scale(y[:, i], ranges[lb])\n",
    "    output[:, i] = org_scale(output[:, i], ranges[lb])\n",
    "\n",
    "# transform orientation variables\n",
    "if direction_vec:\n",
    "    output[:, orient_idx1] = trivarnorm2unitsphere(output[:, orient_idx1])\n",
    "    y = np.hstack([y, unitsphere2hphi(y[:, orient_idx1])[:, [1]]])\n",
    "    output = np.hstack([output, unitsphere2hphi(output[:, orient_idx1])[:, [1]]])\n",
    "\n",
    "# print(\"R2: {}\".format(r2_score(y, output)))\n",
    "print('R2 Score:')\n",
    "for i, p in enumerate(display_list):\n",
    "    print('{:10} {:.3f}'.format(p+',', r2_score(y[:, i], output[:, i])))"
   ]
  },
  {
   "cell_type": "code",
   "execution_count": 12,
   "metadata": {},
   "outputs": [
    {
     "name": "stdout",
     "output_type": "stream",
     "text": [
      "Stylized Cell Testing Data: Ground Truth VS Predicted\n"
     ]
    },
    {
     "name": "stderr",
     "output_type": "stream",
     "text": [
      "E:\\Users\\lenovo\\anaconda3\\lib\\site-packages\\IPython\\core\\interactiveshell.py:3369: RankWarning: Polyfit may be poorly conditioned\n",
      "  exec(code_obj, self.user_global_ns, self.user_ns)\n",
      "E:\\Users\\lenovo\\anaconda3\\lib\\site-packages\\IPython\\core\\interactiveshell.py:3369: RankWarning: Polyfit may be poorly conditioned\n",
      "  exec(code_obj, self.user_global_ns, self.user_ns)\n",
      "E:\\Users\\lenovo\\anaconda3\\lib\\site-packages\\IPython\\core\\interactiveshell.py:3369: RankWarning: Polyfit may be poorly conditioned\n",
      "  exec(code_obj, self.user_global_ns, self.user_ns)\n",
      "E:\\Users\\lenovo\\anaconda3\\lib\\site-packages\\IPython\\core\\interactiveshell.py:3369: RankWarning: Polyfit may be poorly conditioned\n",
      "  exec(code_obj, self.user_global_ns, self.user_ns)\n",
      "E:\\Users\\lenovo\\anaconda3\\lib\\site-packages\\IPython\\core\\interactiveshell.py:3369: RankWarning: Polyfit may be poorly conditioned\n",
      "  exec(code_obj, self.user_global_ns, self.user_ns)\n",
      "E:\\Users\\lenovo\\anaconda3\\lib\\site-packages\\IPython\\core\\interactiveshell.py:3369: RankWarning: Polyfit may be poorly conditioned\n",
      "  exec(code_obj, self.user_global_ns, self.user_ns)\n",
      "E:\\Users\\lenovo\\anaconda3\\lib\\site-packages\\IPython\\core\\interactiveshell.py:3369: RankWarning: Polyfit may be poorly conditioned\n",
      "  exec(code_obj, self.user_global_ns, self.user_ns)\n"
     ]
    },
    {
     "data": {
      "image/png": "[encoded data removed]",
      "text/plain": [
       "<Figure size 864x864 with 7 Axes>"
      ]
     },
     "metadata": {
      "needs_background": "light"
     },
     "output_type": "display_data"
    }
   ],
   "source": [
    "nlb = len(display_list)\n",
    "nrows = int(np.ceil(nlb/3))\n",
    "\n",
    "fontsize = 15\n",
    "labelsize = 12\n",
    "print(\"Stylized Cell Testing Data: Ground Truth VS Predicted\")\n",
    "\n",
    "fig = plt.figure(figsize=(12, 4 * nrows))\n",
    "for i, lb in enumerate(display_list):\n",
    "    ax = plt.subplot(nrows, 3, i+1)\n",
    "    ax.scatter(y[:, i], output[:, i], c='red', marker='.')\n",
    "    m, b = np.polyfit(y[:, i], output[:, i], 1)\n",
    "    yl = np.array([np.amin(y[:, i]), np.amax(y[:, i])])\n",
    "    ax.plot(yl, yl, color='gray', label='exact')\n",
    "    ax.plot(yl, m * yl + b, label='y = %.2gx + %.2g' % (m,b))\n",
    "    ax.set_xlabel(lb + ' actual', fontsize=fontsize)\n",
    "    ax.set_ylabel(lb + ' predicted', fontsize=fontsize)\n",
    "    ax.tick_params(labelsize=labelsize)\n",
    "    ax.legend(loc=2, fontsize=labelsize)\n",
    "plt.tight_layout()\n",
    "plt.show()\n",
    "\n",
    "fig.savefig(os.path.join(MODEL_PATH, 'test_result.pdf'))"
   ]
  },
  {
   "cell_type": "markdown",
   "metadata": {},
   "source": [
    "#### Check prediction on orientation"
   ]
  },
  {
   "cell_type": "code",
   "execution_count": 13,
   "metadata": {},
   "outputs": [],
   "source": [
    "if check_orient:\n",
    "    def cosine_similarity(hphi1, hphi2):\n",
    "        np.clip(hphi1[:,0], -1, 1, out=hphi1[:,0])\n",
    "        np.clip(hphi2[:,0], -1, 1, out=hphi2[:,0])\n",
    "        x1 = hphi2unitsphere(hphi1)\n",
    "        x2 = hphi2unitsphere(hphi2)\n",
    "        return np.sum(x1 * x2, axis=1)\n",
    "\n",
    "    bins = 30\n",
    "    angle = np.arccos(cosine_similarity(y[:, orient_idx2], output[:, orient_idx2]))\n",
    "    weights = 1 / np.sin(np.fmax(angle, np.pi / bins / 8))\n",
    "    angle *= 180 / np.pi\n",
    "    h_err = 180 / np.pi * (np.arccos(output[:, orient_idx2[0]]) - np.arccos(y[:, orient_idx2[0]]))\n",
    "    phi_err = 180 / np.pi * (output[:, orient_idx2[1]] - y[:, orient_idx2[1]])\n",
    "    phi_err = np.mod(phi_err + 180, 360) - 180\n",
    "    h_angle = 90 - 180 / np.pi * np.arccos(y[:, orient_idx2[0]])\n",
    "\n",
    "    # angle error vs. h angle\n",
    "    fig1 = plt.figure(figsize=(10, 8))\n",
    "    # h error\n",
    "    plt.subplot(311)\n",
    "    plt.axhline(0, color='k')\n",
    "    plt.plot(h_angle, h_err, 'r.')\n",
    "    plt.xlim([-90, 90])\n",
    "    plt.ylim([-90, 90])\n",
    "    plt.ylabel('h error (deg)')\n",
    "    # phi error\n",
    "    plt.subplot(312)\n",
    "    plt.axhline(0, color='k')\n",
    "    plt.plot(h_angle, phi_err, 'r.')\n",
    "    plt.xlim([-90, 90])\n",
    "    plt.ylim([-90, 90])\n",
    "    plt.ylabel('phi error (deg)')\n",
    "    # angle error vs. h angle\n",
    "    plt.subplot(313)\n",
    "    plt.plot(h_angle, angle, 'r.')\n",
    "    plt.xlim([-90, 90])\n",
    "    plt.ylim([0, 90])\n",
    "    plt.xlabel('true h angle (deg)')\n",
    "    plt.ylabel('angle error (deg)')\n",
    "\n",
    "    # angle error vs. trunk length\n",
    "    try:\n",
    "        l_t_idx = display_list.index('l_t')\n",
    "    except:\n",
    "        l_t_idx = None\n",
    "    if l_t_idx is not None:\n",
    "        l_t = y[:, l_t_idx]\n",
    "        fig2 = plt.figure(figsize=(10, 8))\n",
    "        # h error\n",
    "        plt.subplot(311)\n",
    "        plt.axhline(0, color='k')\n",
    "        plt.plot(l_t, h_err, 'r.')\n",
    "        plt.ylim([-90, 90])\n",
    "        plt.ylabel('h error (deg)')\n",
    "        # phi error\n",
    "        plt.subplot(312)\n",
    "        plt.axhline(0, color='k')\n",
    "        plt.plot(l_t, phi_err, 'r.')\n",
    "        plt.ylim([-90, 90])\n",
    "        plt.ylabel('phi error (deg)')\n",
    "        # angle error\n",
    "        plt.subplot(313)\n",
    "        plt.plot(l_t, angle, 'r.')\n",
    "        plt.ylim([0, 90])\n",
    "        plt.xlabel('true trunk length')\n",
    "        plt.ylabel('angle error (deg)')\n",
    "        \n",
    "        fig2.savefig(os.path.join(MODEL_PATH, 'angle_error_vs_trunk_length.png'))\n",
    "\n",
    "    # angle error distribution\n",
    "    fig3 = plt.figure(figsize=(10, 6))\n",
    "    plt.subplot(211)\n",
    "    _ = plt.hist(angle, bins=bins, range=(0, 90))\n",
    "    plt.xlim([0, 90])\n",
    "    plt.ylabel('count')\n",
    "    plt.subplot(212)\n",
    "    _ = plt.hist(angle, bins=bins, range=(0, 90), density=True, weights=weights)\n",
    "    plt.xlim([0, 90])\n",
    "    plt.ylabel('density') # probability density of angle error per area on the unit sphere\n",
    "    plt.xlabel('Angle error (deg)')\n",
    "\n",
    "    plt.show()\n",
    "\n",
    "    print(\"RMSE of angle: %.1f\" % np.mean(angle ** 2) ** .5)\n",
    "\n",
    "    fig1.savefig(os.path.join(MODEL_PATH, 'angle_error_vs_h.png'))\n",
    "    fig3.savefig(os.path.join(MODEL_PATH, 'angle_error_distribution.png'))"
   ]
  },
  {
   "cell_type": "code",
   "execution_count": null,
   "metadata": {},
   "outputs": [],
   "source": []
  }
 ],
 "metadata": {
  "kernelspec": {
   "display_name": "Python 3 (ipykernel)",
   "language": "python",
   "name": "python3"
  },
  "language_info": {
   "codemirror_mode": {
    "name": "ipython",
    "version": 3
   },
   "file_extension": ".py",
   "mimetype": "text/x-python",
   "name": "python",
   "nbconvert_exporter": "python",
   "pygments_lexer": "ipython3",
   "version": "3.9.12"
  }
 },
 "nbformat": 4,
 "nbformat_minor": 4
}
