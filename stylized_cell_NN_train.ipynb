{
 "cells": [
  {
   "cell_type": "code",
   "execution_count": 1,
   "metadata": {},
   "outputs": [],
   "source": [
    "import pandas as pd\n",
    "import numpy as np\n",
    "import matplotlib.pyplot as plt\n",
    "from scipy import signal\n",
    "import h5py\n",
    "import json\n",
    "import os\n",
    "\n",
    "from cell_inference.config import paths, params\n",
    "from cell_inference.utils.transform.geometry_transformation import hphi2unitsphere, unitsphere2hphi, trivarnorm2unitsphere\n",
    "from cell_inference.utils.plotting.plot_results import plot_lfp_traces, plot_lfp_heatmap\n",
    "from cell_inference.utils.feature_extractors.SummaryStats2D import calculate_stats, build_lfp_grid, GRID_SHAPE\n",
    "from cell_inference.utils.feature_extractors.parameterprediction import ClassifierTypes, ClassifierBuilder\n",
    "\n",
    "%matplotlib inline\n",
    "\n",
    "isCNN = True"
   ]
  },
  {
   "cell_type": "markdown",
   "metadata": {},
   "source": [
    "## Load simulation data"
   ]
  },
  {
   "cell_type": "code",
   "execution_count": 2,
   "metadata": {},
   "outputs": [
    {
     "name": "stdout",
     "output_type": "stream",
     "text": [
      "['y', 'd', 'theta', 'h', 'phi', 'l_t', 'r_t']\n"
     ]
    }
   ],
   "source": [
    "DATA_PATH = 'cell_inference/resources/simulation_data'\n",
    "TRIAL_PATH = os.path.join(DATA_PATH, 'Reduced_Order_trunkLR_Loc5_restrict_h')\n",
    "\n",
    "CONFIG_PATH = os.path.join(TRIAL_PATH, 'config.json')  # trial configuration\n",
    "LFP_PATH = os.path.join(TRIAL_PATH, 'lfp.npz')  # LFP and labels\n",
    "STATS_PATH = os.path.join(TRIAL_PATH, 'summ_stats.npz')  # summary statistics\n",
    "\n",
    "if isCNN:\n",
    "    LFP = np.load(LFP_PATH)\n",
    "    lfp = LFP['x'] * 1000 # convert to uV\n",
    "    labels = LFP['y'][LFP['good_indices']]\n",
    "    ys = LFP['ys']\n",
    "else:\n",
    "    STATS = np.load(STATS_PATH)\n",
    "    summ_stats = STATS['x']\n",
    "    labels = STATS['y']\n",
    "    ys = STATS['ys']\n",
    "\n",
    "with open(CONFIG_PATH, 'r') as f:\n",
    "    config_dict = json.load(f)\n",
    "\n",
    "inference_list = config_dict['Trial_Parameters']['inference_list']\n",
    "ranges = config_dict['Simulation_Parameters']['loc_param_range']\n",
    "ranges.update(config_dict['Simulation_Parameters']['geo_param_range'])\n",
    "\n",
    "print(inference_list)"
   ]
  },
  {
   "cell_type": "markdown",
   "metadata": {},
   "source": [
    "### Transform labels"
   ]
  },
  {
   "cell_type": "markdown",
   "metadata": {},
   "source": [
    "#### Orientation"
   ]
  },
  {
   "cell_type": "code",
   "execution_count": 3,
   "metadata": {},
   "outputs": [],
   "source": [
    "check_orient = 'h' in inference_list and 'phi' in inference_list\n",
    "if check_orient:\n",
    "    orient_idx0 = [inference_list.index(x) for x in ['h', 'phi']]\n",
    "    orient_idx2 = orient_idx0.copy()\n",
    "\n",
    "direction_vec = True # represent orientation by vector on unit sphere\n",
    "direction_vec = direction_vec and check_orient\n",
    "\n",
    "label_list = inference_list.copy()\n",
    "if direction_vec:\n",
    "    dv = hphi2unitsphere(labels[:, orient_idx0])\n",
    "    labels = np.hstack([np.delete(labels, orient_idx0, axis=1), dv])\n",
    "    \n",
    "    orient_idx1 = list(range(len(inference_list) - 2, len(inference_list) + 1))\n",
    "    orient_idx2 = [orient_idx1[1], len(inference_list) + 1]\n",
    "    label_list.remove('h')\n",
    "    label_list.remove('phi')\n",
    "    label_list += ['vx', 'vy', 'vz']\n",
    "    for i in orient_idx1:\n",
    "        ranges[label_list[i]] = [-1., 1.]\n",
    "\n",
    "display_list = label_list.copy()\n",
    "if direction_vec:\n",
    "    display_list[orient_idx1[1]] = 'vy / h'\n",
    "    display_list.append('phi')"
   ]
  },
  {
   "cell_type": "markdown",
   "metadata": {},
   "source": [
    "#### y shift"
   ]
  },
  {
   "cell_type": "code",
   "execution_count": 4,
   "metadata": {},
   "outputs": [
    {
     "data": {
      "text/html": [
       "<div>\n",
       "<style scoped>\n",
       "    .dataframe tbody tr th:only-of-type {\n",
       "        vertical-align: middle;\n",
       "    }\n",
       "\n",
       "    .dataframe tbody tr th {\n",
       "        vertical-align: top;\n",
       "    }\n",
       "\n",
       "    .dataframe thead th {\n",
       "        text-align: right;\n",
       "    }\n",
       "</style>\n",
       "<table border=\"1\" class=\"dataframe\">\n",
       "  <thead>\n",
       "    <tr style=\"text-align: right;\">\n",
       "      <th></th>\n",
       "      <th>ys</th>\n",
       "      <th>d</th>\n",
       "      <th>theta</th>\n",
       "      <th>l_t</th>\n",
       "      <th>r_t</th>\n",
       "      <th>vx</th>\n",
       "      <th>vy</th>\n",
       "      <th>vz</th>\n",
       "    </tr>\n",
       "  </thead>\n",
       "  <tbody>\n",
       "    <tr>\n",
       "      <th>25</th>\n",
       "      <td>-112.610401</td>\n",
       "      <td>172.366461</td>\n",
       "      <td>0.275835</td>\n",
       "      <td>723.459190</td>\n",
       "      <td>0.649866</td>\n",
       "      <td>-0.356384</td>\n",
       "      <td>0.840901</td>\n",
       "      <td>0.407278</td>\n",
       "    </tr>\n",
       "    <tr>\n",
       "      <th>29</th>\n",
       "      <td>-88.444283</td>\n",
       "      <td>139.785202</td>\n",
       "      <td>-0.474718</td>\n",
       "      <td>745.990295</td>\n",
       "      <td>0.662554</td>\n",
       "      <td>-0.351211</td>\n",
       "      <td>0.927592</td>\n",
       "      <td>0.127374</td>\n",
       "    </tr>\n",
       "    <tr>\n",
       "      <th>40</th>\n",
       "      <td>-72.943267</td>\n",
       "      <td>117.766806</td>\n",
       "      <td>-0.429103</td>\n",
       "      <td>253.045924</td>\n",
       "      <td>0.573460</td>\n",
       "      <td>0.012580</td>\n",
       "      <td>0.924420</td>\n",
       "      <td>0.381169</td>\n",
       "    </tr>\n",
       "    <tr>\n",
       "      <th>9</th>\n",
       "      <td>-50.195885</td>\n",
       "      <td>191.270430</td>\n",
       "      <td>-0.689492</td>\n",
       "      <td>777.967804</td>\n",
       "      <td>0.957890</td>\n",
       "      <td>0.527136</td>\n",
       "      <td>0.841643</td>\n",
       "      <td>0.117323</td>\n",
       "    </tr>\n",
       "    <tr>\n",
       "      <th>13</th>\n",
       "      <td>-36.680606</td>\n",
       "      <td>64.384690</td>\n",
       "      <td>-0.055319</td>\n",
       "      <td>819.323043</td>\n",
       "      <td>0.897852</td>\n",
       "      <td>0.056879</td>\n",
       "      <td>0.805846</td>\n",
       "      <td>0.589386</td>\n",
       "    </tr>\n",
       "    <tr>\n",
       "      <th>...</th>\n",
       "      <td>...</td>\n",
       "      <td>...</td>\n",
       "      <td>...</td>\n",
       "      <td>...</td>\n",
       "      <td>...</td>\n",
       "      <td>...</td>\n",
       "      <td>...</td>\n",
       "      <td>...</td>\n",
       "    </tr>\n",
       "    <tr>\n",
       "      <th>5</th>\n",
       "      <td>182.031445</td>\n",
       "      <td>99.922089</td>\n",
       "      <td>0.089805</td>\n",
       "      <td>583.398757</td>\n",
       "      <td>1.229552</td>\n",
       "      <td>0.041702</td>\n",
       "      <td>0.959881</td>\n",
       "      <td>-0.277288</td>\n",
       "    </tr>\n",
       "    <tr>\n",
       "      <th>31</th>\n",
       "      <td>184.935562</td>\n",
       "      <td>140.243186</td>\n",
       "      <td>0.614977</td>\n",
       "      <td>376.851810</td>\n",
       "      <td>1.308594</td>\n",
       "      <td>-0.321077</td>\n",
       "      <td>0.944009</td>\n",
       "      <td>-0.075869</td>\n",
       "    </tr>\n",
       "    <tr>\n",
       "      <th>30</th>\n",
       "      <td>185.431808</td>\n",
       "      <td>178.211286</td>\n",
       "      <td>0.077985</td>\n",
       "      <td>376.851810</td>\n",
       "      <td>1.308594</td>\n",
       "      <td>0.605993</td>\n",
       "      <td>0.730020</td>\n",
       "      <td>-0.315978</td>\n",
       "    </tr>\n",
       "    <tr>\n",
       "      <th>37</th>\n",
       "      <td>210.843836</td>\n",
       "      <td>190.650944</td>\n",
       "      <td>-0.184658</td>\n",
       "      <td>435.751068</td>\n",
       "      <td>0.917356</td>\n",
       "      <td>-0.394024</td>\n",
       "      <td>0.832547</td>\n",
       "      <td>-0.389372</td>\n",
       "    </tr>\n",
       "    <tr>\n",
       "      <th>11</th>\n",
       "      <td>232.550833</td>\n",
       "      <td>192.332173</td>\n",
       "      <td>-0.401102</td>\n",
       "      <td>490.609307</td>\n",
       "      <td>1.242290</td>\n",
       "      <td>0.196483</td>\n",
       "      <td>0.947958</td>\n",
       "      <td>-0.250538</td>\n",
       "    </tr>\n",
       "  </tbody>\n",
       "</table>\n",
       "<p>60 rows × 8 columns</p>\n",
       "</div>"
      ],
      "text/plain": [
       "            ys           d     theta         l_t       r_t        vx  \\\n",
       "25 -112.610401  172.366461  0.275835  723.459190  0.649866 -0.356384   \n",
       "29  -88.444283  139.785202 -0.474718  745.990295  0.662554 -0.351211   \n",
       "40  -72.943267  117.766806 -0.429103  253.045924  0.573460  0.012580   \n",
       "9   -50.195885  191.270430 -0.689492  777.967804  0.957890  0.527136   \n",
       "13  -36.680606   64.384690 -0.055319  819.323043  0.897852  0.056879   \n",
       "..         ...         ...       ...         ...       ...       ...   \n",
       "5   182.031445   99.922089  0.089805  583.398757  1.229552  0.041702   \n",
       "31  184.935562  140.243186  0.614977  376.851810  1.308594 -0.321077   \n",
       "30  185.431808  178.211286  0.077985  376.851810  1.308594  0.605993   \n",
       "37  210.843836  190.650944 -0.184658  435.751068  0.917356 -0.394024   \n",
       "11  232.550833  192.332173 -0.401102  490.609307  1.242290  0.196483   \n",
       "\n",
       "          vy        vz  \n",
       "25  0.840901  0.407278  \n",
       "29  0.927592  0.127374  \n",
       "40  0.924420  0.381169  \n",
       "9   0.841643  0.117323  \n",
       "13  0.805846  0.589386  \n",
       "..       ...       ...  \n",
       "5   0.959881 -0.277288  \n",
       "31  0.944009 -0.075869  \n",
       "30  0.730020 -0.315978  \n",
       "37  0.832547 -0.389372  \n",
       "11  0.947958 -0.250538  \n",
       "\n",
       "[60 rows x 8 columns]"
      ]
     },
     "metadata": {},
     "output_type": "display_data"
    }
   ],
   "source": [
    "has_yshift = 'y' in label_list and ys.size != 0\n",
    "if has_yshift:\n",
    "    ys_idx = label_list.index('y')\n",
    "    labels[:,ys_idx] = ys\n",
    "    label_list[ys_idx] = 'ys'\n",
    "    display_list[display_list.index('y')] = 'y-shift'\n",
    "\n",
    "df_la = pd.DataFrame(labels, columns=label_list)\n",
    "df_la.sort_values(by=df_la.columns[0],inplace=True)\n",
    "\n",
    "with pd.option_context('display.max_rows',10):\n",
    "    display(df_la)"
   ]
  },
  {
   "cell_type": "markdown",
   "metadata": {},
   "source": [
    "### Normalizing labels"
   ]
  },
  {
   "cell_type": "markdown",
   "metadata": {},
   "source": [
    "#### Set bounds for y shift"
   ]
  },
  {
   "cell_type": "code",
   "execution_count": 5,
   "metadata": {},
   "outputs": [
    {
     "name": "stdout",
     "output_type": "stream",
     "text": [
      "11.67% outside bounds.\n",
      "{\"x\": [-50, 50], \"y\": [-750.0, 750.0], \"z\": [50.0, 200.0], \"alpha\": [0, 3.141592653589793], \"h\": [0.7071, 1.0], \"phi\": [-3.141592653589793, 3.141592653589793], \"d\": [50.0, 200.0], \"theta\": [-1.0471975511965976, 1.0471975511965976], \"l_t\": [200.0, 1000.0], \"r_t\": [0.5, 1.5], \"vx\": [-1.0, 1.0], \"vy\": [-1.0, 1.0], \"vz\": [-1.0, 1.0], \"ys\": [-150, 150]}\n"
     ]
    }
   ],
   "source": [
    "if has_yshift:\n",
    "    ranges['ys'] = [-150, 150] # set bound for normalization\n",
    "    df_la_idx = df_la[df_la['ys'].between(*ranges['ys'])].index.values\n",
    "    print(\"%.2f%% outside bounds.\" % (100 - 100* len(df_la_idx) / len(df_la.index)))\n",
    "\n",
    "print(json.dumps(ranges))"
   ]
  },
  {
   "cell_type": "markdown",
   "metadata": {},
   "source": [
    "#### Normalization"
   ]
  },
  {
   "cell_type": "code",
   "execution_count": 6,
   "metadata": {},
   "outputs": [
    {
     "data": {
      "text/html": [
       "<div>\n",
       "<style scoped>\n",
       "    .dataframe tbody tr th:only-of-type {\n",
       "        vertical-align: middle;\n",
       "    }\n",
       "\n",
       "    .dataframe tbody tr th {\n",
       "        vertical-align: top;\n",
       "    }\n",
       "\n",
       "    .dataframe thead th {\n",
       "        text-align: right;\n",
       "    }\n",
       "</style>\n",
       "<table border=\"1\" class=\"dataframe\">\n",
       "  <thead>\n",
       "    <tr style=\"text-align: right;\">\n",
       "      <th></th>\n",
       "      <th>ys</th>\n",
       "      <th>d</th>\n",
       "      <th>theta</th>\n",
       "      <th>l_t</th>\n",
       "      <th>r_t</th>\n",
       "      <th>vx</th>\n",
       "      <th>vy</th>\n",
       "      <th>vz</th>\n",
       "    </tr>\n",
       "  </thead>\n",
       "  <tbody>\n",
       "    <tr>\n",
       "      <th>0</th>\n",
       "      <td>0.114343</td>\n",
       "      <td>-0.545328</td>\n",
       "      <td>-0.270629</td>\n",
       "      <td>0.454525</td>\n",
       "      <td>-0.307821</td>\n",
       "      <td>-0.166690</td>\n",
       "      <td>0.985160</td>\n",
       "      <td>-0.040925</td>\n",
       "    </tr>\n",
       "    <tr>\n",
       "      <th>1</th>\n",
       "      <td>0.091014</td>\n",
       "      <td>-0.366483</td>\n",
       "      <td>-0.008513</td>\n",
       "      <td>0.454525</td>\n",
       "      <td>-0.307821</td>\n",
       "      <td>0.238548</td>\n",
       "      <td>0.949284</td>\n",
       "      <td>-0.204829</td>\n",
       "    </tr>\n",
       "    <tr>\n",
       "      <th>2</th>\n",
       "      <td>1.209329</td>\n",
       "      <td>0.594731</td>\n",
       "      <td>0.386062</td>\n",
       "      <td>-0.903558</td>\n",
       "      <td>0.813223</td>\n",
       "      <td>-0.148521</td>\n",
       "      <td>0.904710</td>\n",
       "      <td>-0.399300</td>\n",
       "    </tr>\n",
       "    <tr>\n",
       "      <th>3</th>\n",
       "      <td>0.194208</td>\n",
       "      <td>0.352509</td>\n",
       "      <td>0.100174</td>\n",
       "      <td>-0.903558</td>\n",
       "      <td>0.813223</td>\n",
       "      <td>-0.438478</td>\n",
       "      <td>0.762747</td>\n",
       "      <td>0.475345</td>\n",
       "    </tr>\n",
       "    <tr>\n",
       "      <th>4</th>\n",
       "      <td>0.105717</td>\n",
       "      <td>-0.217781</td>\n",
       "      <td>0.017686</td>\n",
       "      <td>-0.041503</td>\n",
       "      <td>0.459104</td>\n",
       "      <td>-0.368991</td>\n",
       "      <td>0.769644</td>\n",
       "      <td>0.521051</td>\n",
       "    </tr>\n",
       "    <tr>\n",
       "      <th>...</th>\n",
       "      <td>...</td>\n",
       "      <td>...</td>\n",
       "      <td>...</td>\n",
       "      <td>...</td>\n",
       "      <td>...</td>\n",
       "      <td>...</td>\n",
       "      <td>...</td>\n",
       "      <td>...</td>\n",
       "    </tr>\n",
       "    <tr>\n",
       "      <th>55</th>\n",
       "      <td>0.155811</td>\n",
       "      <td>-0.118226</td>\n",
       "      <td>-0.016775</td>\n",
       "      <td>-0.424807</td>\n",
       "      <td>-0.664328</td>\n",
       "      <td>0.636650</td>\n",
       "      <td>0.763412</td>\n",
       "      <td>-0.108990</td>\n",
       "    </tr>\n",
       "    <tr>\n",
       "      <th>56</th>\n",
       "      <td>0.118088</td>\n",
       "      <td>-0.699595</td>\n",
       "      <td>0.096439</td>\n",
       "      <td>0.332120</td>\n",
       "      <td>0.626694</td>\n",
       "      <td>-0.293966</td>\n",
       "      <td>0.747165</td>\n",
       "      <td>0.596094</td>\n",
       "    </tr>\n",
       "    <tr>\n",
       "      <th>57</th>\n",
       "      <td>-0.011811</td>\n",
       "      <td>-0.564142</td>\n",
       "      <td>0.059769</td>\n",
       "      <td>0.332120</td>\n",
       "      <td>0.626694</td>\n",
       "      <td>0.171653</td>\n",
       "      <td>0.983415</td>\n",
       "      <td>-0.058563</td>\n",
       "    </tr>\n",
       "    <tr>\n",
       "      <th>58</th>\n",
       "      <td>0.101459</td>\n",
       "      <td>-0.051334</td>\n",
       "      <td>0.465827</td>\n",
       "      <td>-0.673888</td>\n",
       "      <td>-0.512355</td>\n",
       "      <td>-0.582047</td>\n",
       "      <td>0.755184</td>\n",
       "      <td>-0.301526</td>\n",
       "    </tr>\n",
       "    <tr>\n",
       "      <th>59</th>\n",
       "      <td>0.054035</td>\n",
       "      <td>-0.047262</td>\n",
       "      <td>0.097349</td>\n",
       "      <td>-0.673888</td>\n",
       "      <td>-0.512355</td>\n",
       "      <td>0.193067</td>\n",
       "      <td>0.942109</td>\n",
       "      <td>-0.274145</td>\n",
       "    </tr>\n",
       "  </tbody>\n",
       "</table>\n",
       "<p>60 rows × 8 columns</p>\n",
       "</div>"
      ],
      "text/plain": [
       "          ys         d     theta       l_t       r_t        vx        vy  \\\n",
       "0   0.114343 -0.545328 -0.270629  0.454525 -0.307821 -0.166690  0.985160   \n",
       "1   0.091014 -0.366483 -0.008513  0.454525 -0.307821  0.238548  0.949284   \n",
       "2   1.209329  0.594731  0.386062 -0.903558  0.813223 -0.148521  0.904710   \n",
       "3   0.194208  0.352509  0.100174 -0.903558  0.813223 -0.438478  0.762747   \n",
       "4   0.105717 -0.217781  0.017686 -0.041503  0.459104 -0.368991  0.769644   \n",
       "..       ...       ...       ...       ...       ...       ...       ...   \n",
       "55  0.155811 -0.118226 -0.016775 -0.424807 -0.664328  0.636650  0.763412   \n",
       "56  0.118088 -0.699595  0.096439  0.332120  0.626694 -0.293966  0.747165   \n",
       "57 -0.011811 -0.564142  0.059769  0.332120  0.626694  0.171653  0.983415   \n",
       "58  0.101459 -0.051334  0.465827 -0.673888 -0.512355 -0.582047  0.755184   \n",
       "59  0.054035 -0.047262  0.097349 -0.673888 -0.512355  0.193067  0.942109   \n",
       "\n",
       "          vz  \n",
       "0  -0.040925  \n",
       "1  -0.204829  \n",
       "2  -0.399300  \n",
       "3   0.475345  \n",
       "4   0.521051  \n",
       "..       ...  \n",
       "55 -0.108990  \n",
       "56  0.596094  \n",
       "57 -0.058563  \n",
       "58 -0.301526  \n",
       "59 -0.274145  \n",
       "\n",
       "[60 rows x 8 columns]"
      ]
     },
     "metadata": {},
     "output_type": "display_data"
    }
   ],
   "source": [
    "feature_range = (-1, 1)\n",
    "norm_scale = lambda x, r: (x - r[0]) / (r[1] - r[0]) * (feature_range[1] - feature_range[0]) + feature_range[0]\n",
    "org_scale = lambda x, r: (x - feature_range[0]) / (feature_range[1] - feature_range[0]) *  (r[1] - r[0]) + r[0]\n",
    "\n",
    "for i, lb in enumerate(label_list):\n",
    "    labels[:,i] = norm_scale(labels[:,i], ranges[lb])\n",
    "\n",
    "df_la = pd.DataFrame(labels, columns=label_list)\n",
    "with pd.option_context('display.max_rows',10):\n",
    "    display(df_la)"
   ]
  },
  {
   "cell_type": "markdown",
   "metadata": {},
   "source": [
    "## Build model"
   ]
  },
  {
   "cell_type": "code",
   "execution_count": 7,
   "metadata": {},
   "outputs": [],
   "source": [
    "if isCNN:\n",
    "    from cell_inference.utils.transform.data_transform import log_modulus\n",
    "    \n",
    "    n_fold = 30\n",
    "    max_logmod = np.ceil(np.log2(n_fold))  # max value after transform\n",
    "    n_fold = 2**max_logmod - 1\n",
    "    \n",
    "    lfp_trans = np.empty_like(lfp)\n",
    "    for i in range(lfp.shape[0]):\n",
    "        ref_mag = np.amax(np.abs(lfp[i])) / n_fold\n",
    "        lfp_trans[i] = log_modulus(lfp[i], ref_mag)\n",
    "    \n",
    "    lfp_trans = np.stack((lfp, lfp_trans), axis=1)\n",
    "    lfp_trans = lfp_trans.reshape(lfp_trans.shape[:3] + (GRID_SHAPE[0], -1))"
   ]
  },
  {
   "cell_type": "code",
   "execution_count": 8,
   "metadata": {},
   "outputs": [],
   "source": [
    "import torch\n",
    "\n",
    "isTrain = False\n",
    "batch_size = 256\n",
    "model_name = '_batch' + str(batch_size)\n",
    "\n",
    "if isCNN:\n",
    "    from cell_inference.utils.feature_extractors.convolutionalnetwork import ConvolutionalNetwork, ActivationTypes\n",
    "    model_name = 'CNN' + model_name\n",
    "    num_filters = [8, 16, 16, 32, 32, 64, 64, 64, 32, 8]\n",
    "    model = ConvolutionalNetwork(in_channels=lfp_trans.shape[1], out_features=len(label_list), num_filters=num_filters)\n",
    "else:\n",
    "    from cell_inference.utils.feature_extractors.fullyconnectednetwork import FullyConnectedNetwork, ActivationTypes\n",
    "    model_name = 'FCN' + model_name\n",
    "    model = FullyConnectedNetwork(in_features=summ_stats.shape[1], out_features=len(label_list))\n",
    "\n",
    "if direction_vec:\n",
    "    model_name += '_dv'\n",
    "MODEL_PATH = os.path.join(TRIAL_PATH, model_name + '.pth')\n",
    "SAVE_PATH = os.path.join(TRIAL_PATH, model_name + '.txt')"
   ]
  },
  {
   "cell_type": "markdown",
   "metadata": {},
   "source": [
    "## Train model"
   ]
  },
  {
   "cell_type": "code",
   "execution_count": 9,
   "metadata": {},
   "outputs": [],
   "source": [
    "from cell_inference.utils.feature_extractors.helperfunctions import train_regression, build_dataloader_from_numpy\n",
    "\n",
    "if isCNN:\n",
    "    train_size = 0.8 if isTrain else 0.\n",
    "    train_loader, test_loader = build_dataloader_from_numpy(\n",
    "        input_arr=lfp_trans, labels_arr=labels, batch_size=batch_size, train_size=train_size, shuffle=True\n",
    "    )\n",
    "else:\n",
    "    train_loader, test_loader = build_dataloader_from_numpy(input_arr=summ_stats, labels_arr=labels, batch_size=batch_size, shuffle=True)\n",
    "\n",
    "if isTrain:\n",
    "    history, files = train_regression(model, train_loader, test_loader, epochs=100, learning_rate=0.001, decay_rate=0.98)\n",
    "    model.eval()\n",
    "    torch.save(model.state_dict(), MODEL_PATH)\n",
    "    with open(SAVE_PATH, 'w') as f:\n",
    "        f.writelines(s + '\\n' for s in files)"
   ]
  },
  {
   "cell_type": "code",
   "execution_count": 10,
   "metadata": {},
   "outputs": [
    {
     "data": {
      "image/png": "[encoded data removed]",
      "text/plain": [
       "<Figure size 432x288 with 1 Axes>"
      ]
     },
     "metadata": {
      "needs_background": "light"
     },
     "output_type": "display_data"
    }
   ],
   "source": [
    "if not isTrain:\n",
    "    with open(SAVE_PATH, 'r') as f:\n",
    "        loss_file = f.read().splitlines()[1]\n",
    "        loss_file = loss_file.split(os.path.sep)[-1].split('/')[-1]\n",
    "        loss_file = os.path.join(paths.LOSSES_ROOT, loss_file)\n",
    "    history = pd.read_csv(loss_file).to_dict(orient='list')\n",
    "plt.figure()\n",
    "plt.plot(history['Epochs'],history['Training_Loss'],label='Training Loss')\n",
    "plt.plot(history['Epochs'],history['Validation_Loss'],label='Validation Loss')\n",
    "plt.legend()\n",
    "plt.xlabel('Epochs')\n",
    "plt.ylabel('MSE')\n",
    "plt.show()"
   ]
  },
  {
   "cell_type": "markdown",
   "metadata": {},
   "source": [
    "## Evaluate model"
   ]
  },
  {
   "cell_type": "markdown",
   "metadata": {},
   "source": [
    "### Perform on stylized model"
   ]
  },
  {
   "cell_type": "code",
   "execution_count": 11,
   "metadata": {},
   "outputs": [
    {
     "name": "stdout",
     "output_type": "stream",
     "text": [
      "R2 Score:\n",
      "y-shift,   0.995\n",
      "d,         0.994\n",
      "theta,     0.970\n",
      "l_t,       0.986\n",
      "r_t,       0.992\n",
      "vx,        0.993\n",
      "vy / h,    0.945\n",
      "vz,        0.981\n",
      "phi,       0.997\n"
     ]
    }
   ],
   "source": [
    "from sklearn.metrics import r2_score\n",
    "from cell_inference.utils.metrics.corrcoef import corrcoef\n",
    "\n",
    "device = torch.device('cpu')\n",
    "if not isTrain:\n",
    "    model.load_state_dict(torch.load(MODEL_PATH, map_location=torch.device('cpu')))\n",
    "model.to(device)\n",
    "model.eval()\n",
    "\n",
    "y = []\n",
    "output = []\n",
    "for X, Y in test_loader:\n",
    "    y.append(Y.to(\"cpu\").detach().numpy())\n",
    "    output.append(model(X.to(device)).to(\"cpu\").detach().numpy())\n",
    "y = np.concatenate(y, axis=0)\n",
    "output = np.concatenate(output, axis=0)\n",
    "\n",
    "# back to original scale\n",
    "for i, lb in enumerate(label_list):\n",
    "    y[:, i] = org_scale(y[:, i], ranges[lb])\n",
    "    output[:, i] = org_scale(output[:, i], ranges[lb])\n",
    "\n",
    "# transform orientation variables\n",
    "if direction_vec:\n",
    "    output[:, orient_idx1] = trivarnorm2unitsphere(output[:, orient_idx1])\n",
    "    y = np.hstack([y, unitsphere2hphi(y[:, orient_idx1])[:, [1]]])\n",
    "    output = np.hstack([output, unitsphere2hphi(output[:, orient_idx1])[:, [1]]])\n",
    "\n",
    "# print(\"R2: {}\".format(r2_score(y, output)))\n",
    "print('R2 Score:')\n",
    "for i, p in enumerate(display_list):\n",
    "    print('{:10} {:.3f}'.format(p+',', r2_score(y[:, i], output[:, i])))"
   ]
  },
  {
   "cell_type": "code",
   "execution_count": 12,
   "metadata": {},
   "outputs": [
    {
     "name": "stdout",
     "output_type": "stream",
     "text": [
      "Stylized Cell Testing Data: Ground Truth VS Predicted\n"
     ]
    },
    {
     "data": {
      "image/png": "[encoded data removed]",
      "text/plain": [
       "<Figure size 864x864 with 9 Axes>"
      ]
     },
     "metadata": {
      "needs_background": "light"
     },
     "output_type": "display_data"
    }
   ],
   "source": [
    "nlb = len(display_list)\n",
    "nrows = int(np.ceil(nlb/3))\n",
    "\n",
    "fontsize = 15\n",
    "labelsize = 12\n",
    "print(\"Stylized Cell Testing Data: Ground Truth VS Predicted\")\n",
    "\n",
    "plt.figure(figsize=(12, 4 * nrows))\n",
    "for i, lb in enumerate(display_list):\n",
    "    ax = plt.subplot(nrows, 3, i+1)\n",
    "    ax.scatter(y[:, i], output[:, i], c='red', marker='.')\n",
    "    m, b = np.polyfit(y[:, i], output[:, i], 1)\n",
    "    ax.plot(y[:, i], m * y[:, i] + b, label='y = %.2gx + %.2g' % (m,b))\n",
    "    ax.set_xlabel(lb + ' actual', fontsize=fontsize)\n",
    "    ax.set_ylabel(lb + ' predicted', fontsize=fontsize)\n",
    "    ax.tick_params(labelsize=labelsize)\n",
    "    ax.legend(loc=2, fontsize=labelsize)\n",
    "plt.tight_layout()\n",
    "plt.show()"
   ]
  },
  {
   "cell_type": "markdown",
   "metadata": {},
   "source": [
    "#### Check prediction on orientation"
   ]
  },
  {
   "cell_type": "code",
   "execution_count": 13,
   "metadata": {},
   "outputs": [
    {
     "data": {
      "image/png": "[encoded data removed]",
      "text/plain": [
       "<Figure size 720x432 with 2 Axes>"
      ]
     },
     "metadata": {
      "needs_background": "light"
     },
     "output_type": "display_data"
    },
    {
     "data": {
      "image/png": "[encoded data removed]",
      "text/plain": [
       "<Figure size 720x432 with 2 Axes>"
      ]
     },
     "metadata": {
      "needs_background": "light"
     },
     "output_type": "display_data"
    },
    {
     "name": "stdout",
     "output_type": "stream",
     "text": [
      "RMSE of angle: 3.4\n"
     ]
    }
   ],
   "source": [
    "if check_orient:\n",
    "    def cosine_similarity(hphi1, hphi2):\n",
    "        np.clip(hphi1[:,0], -1, 1, out=hphi1[:,0])\n",
    "        np.clip(hphi2[:,0], -1, 1, out=hphi2[:,0])\n",
    "        x1 = hphi2unitsphere(hphi1)\n",
    "        x2 = hphi2unitsphere(hphi2)\n",
    "        return np.sum(x1 * x2, axis=1)\n",
    "\n",
    "    bins = 60\n",
    "    angle = np.arccos(cosine_similarity(y[:, orient_idx2], output[:, orient_idx2]))\n",
    "    weights = 1 / np.sin(np.fmax(angle, np.pi / bins / 4))\n",
    "    angle *= 180 / np.pi\n",
    "    phi_err = 180 / np.pi * (output[:, orient_idx2[1]] - y[:, orient_idx2[1]])\n",
    "    phi_err = np.mod(phi_err + 180, 360) - 180\n",
    "    h_angle = 90 - 180 / np.pi * np.arccos(y[:, orient_idx2[0]])\n",
    "\n",
    "    plt.figure(figsize=(10,6))\n",
    "    # phi error vs. h angle\n",
    "    plt.subplot(211)\n",
    "    plt.plot(h_angle, phi_err, 'r.')\n",
    "    plt.xlim([-90, 90])\n",
    "    plt.ylim([-180, 180])\n",
    "    plt.ylabel('phi error (deg)')\n",
    "    # angle error vs. h angle\n",
    "    plt.subplot(212)\n",
    "    plt.plot(h_angle, angle, 'r.')\n",
    "    plt.xlim([-90, 90])\n",
    "    plt.ylim([0, 180])\n",
    "    plt.xlabel('true h angle (deg)')\n",
    "    plt.ylabel('angle error (deg)')\n",
    "\n",
    "    # angle error distribution\n",
    "    plt.figure(figsize=(10,6))\n",
    "    plt.subplot(211)\n",
    "    _ = plt.hist(angle, bins=bins, range=(0, 180))\n",
    "    plt.xlim([0, 180])\n",
    "    plt.ylabel('count')\n",
    "    plt.subplot(212)\n",
    "    _ = plt.hist(angle, bins=bins, range=(0, 180), density=True, weights=weights)\n",
    "    plt.xlim([0, 180])\n",
    "    plt.ylabel('density') # probability density of angle error per area on the unit sphere\n",
    "    plt.xlabel('Angle error (deg)')\n",
    "\n",
    "    plt.show()\n",
    "\n",
    "    print(\"RMSE of angle: %.1f\" % np.mean(angle ** 2) ** .5)"
   ]
  },
  {
   "cell_type": "markdown",
   "metadata": {},
   "source": [
    "### Perform on detailed model (Random cases)"
   ]
  },
  {
   "cell_type": "code",
   "execution_count": 15,
   "metadata": {},
   "outputs": [],
   "source": [
    "LFP_PATH = os.path.join(TRIAL_PATH, 'lfp_detailed.npz')  # LFP and labels\n",
    "STATS_PATH = os.path.join(TRIAL_PATH, 'summ_stats_detailed.npz')  # summary statistics\n",
    "# STATS_PATH = os.path.join(TRIAL_PATH, 'summ_stats_detailed_strch.npz')  # summary statistics"
   ]
  },
  {
   "cell_type": "markdown",
   "metadata": {},
   "source": [
    "#### Ground truth"
   ]
  },
  {
   "cell_type": "code",
   "execution_count": 16,
   "metadata": {},
   "outputs": [
    {
     "ename": "FileNotFoundError",
     "evalue": "[Errno 2] No such file or directory: 'cell_inference/resources/simulation_data\\\\Reduced_Order_trunkLR_Loc5_restrict_h\\\\summ_stats_detailed.npz'",
     "output_type": "error",
     "traceback": [
      "\u001b[1;31m---------------------------------------------------------------------------\u001b[0m",
      "\u001b[1;31mFileNotFoundError\u001b[0m                         Traceback (most recent call last)",
      "Input \u001b[1;32mIn [16]\u001b[0m, in \u001b[0;36m<cell line: 1>\u001b[1;34m()\u001b[0m\n\u001b[1;32m----> 1\u001b[0m STATS \u001b[38;5;241m=\u001b[39m \u001b[43mnp\u001b[49m\u001b[38;5;241;43m.\u001b[39;49m\u001b[43mload\u001b[49m\u001b[43m(\u001b[49m\u001b[43mSTATS_PATH\u001b[49m\u001b[43m)\u001b[49m\n\u001b[0;32m      2\u001b[0m summ_stats_test \u001b[38;5;241m=\u001b[39m STATS[\u001b[38;5;124m'\u001b[39m\u001b[38;5;124mx\u001b[39m\u001b[38;5;124m'\u001b[39m]\n\u001b[0;32m      3\u001b[0m labels_true \u001b[38;5;241m=\u001b[39m STATS[\u001b[38;5;124m'\u001b[39m\u001b[38;5;124my\u001b[39m\u001b[38;5;124m'\u001b[39m]\n",
      "File \u001b[1;32mE:\\Users\\lenovo\\anaconda3\\lib\\site-packages\\numpy\\lib\\npyio.py:417\u001b[0m, in \u001b[0;36mload\u001b[1;34m(file, mmap_mode, allow_pickle, fix_imports, encoding)\u001b[0m\n\u001b[0;32m    415\u001b[0m     own_fid \u001b[38;5;241m=\u001b[39m \u001b[38;5;28;01mFalse\u001b[39;00m\n\u001b[0;32m    416\u001b[0m \u001b[38;5;28;01melse\u001b[39;00m:\n\u001b[1;32m--> 417\u001b[0m     fid \u001b[38;5;241m=\u001b[39m stack\u001b[38;5;241m.\u001b[39menter_context(\u001b[38;5;28;43mopen\u001b[39;49m\u001b[43m(\u001b[49m\u001b[43mos_fspath\u001b[49m\u001b[43m(\u001b[49m\u001b[43mfile\u001b[49m\u001b[43m)\u001b[49m\u001b[43m,\u001b[49m\u001b[43m \u001b[49m\u001b[38;5;124;43m\"\u001b[39;49m\u001b[38;5;124;43mrb\u001b[39;49m\u001b[38;5;124;43m\"\u001b[39;49m\u001b[43m)\u001b[49m)\n\u001b[0;32m    418\u001b[0m     own_fid \u001b[38;5;241m=\u001b[39m \u001b[38;5;28;01mTrue\u001b[39;00m\n\u001b[0;32m    420\u001b[0m \u001b[38;5;66;03m# Code to distinguish from NumPy binary files and pickles.\u001b[39;00m\n",
      "\u001b[1;31mFileNotFoundError\u001b[0m: [Errno 2] No such file or directory: 'cell_inference/resources/simulation_data\\\\Reduced_Order_trunkLR_Loc5_restrict_h\\\\summ_stats_detailed.npz'"
     ]
    }
   ],
   "source": [
    "STATS = np.load(STATS_PATH)\n",
    "summ_stats_test = STATS['x']\n",
    "labels_true = STATS['y']\n",
    "if direction_vec:\n",
    "    dv = hphi2unitsphere(labels_true[:, orient_idx0])\n",
    "    labels_true = np.hstack([np.delete(labels_true, orient_idx0, axis=1), dv, labels_true[:, [orient_idx0[1]]]])\n",
    "if has_yshift:\n",
    "    labels_true[:, ys_idx] = ys"
   ]
  },
  {
   "cell_type": "markdown",
   "metadata": {},
   "source": [
    "#### Prediction"
   ]
  },
  {
   "cell_type": "code",
   "execution_count": null,
   "metadata": {},
   "outputs": [],
   "source": [
    "device = torch.device(\"cpu\")\n",
    "model.eval()\n",
    "\n",
    "labels_pred = model(torch.Tensor(summ_stats_test).to(device)).to(\"cpu\").detach().numpy()\n",
    "\n",
    "# back to original scale\n",
    "for i, lb in enumerate(label_list):\n",
    "    labels_pred[:, i] = org_scale(labels_pred[:, i], ranges[lb])\n",
    "\n",
    "# transform orientation variables\n",
    "if direction_vec:\n",
    "    labels_pred[:, orient_idx1] = trivarnorm2unitsphere(labels_pred[:, orient_idx1])\n",
    "    labels_pred = np.hstack([labels_pred, unitsphere2hphi(labels_pred[:, orient_idx1])[:, [1]]])\n",
    "\n",
    "print('R2 Score:')\n",
    "for i, p in enumerate(display_list):\n",
    "    print('{:10} {:.3f}'.format(p+',', r2_score(labels_true[:, i], labels_pred[:, i])))"
   ]
  },
  {
   "cell_type": "code",
   "execution_count": null,
   "metadata": {},
   "outputs": [],
   "source": [
    "nlb = len(display_list)\n",
    "nrows = int(np.ceil(nlb/3))\n",
    "\n",
    "fontsize = 15\n",
    "labelsize = 12\n",
    "print(\"Detailed Cell Testing Data: Ground Truth VS Predicted\")\n",
    "\n",
    "plt.figure(figsize=(12, 4 * nrows))\n",
    "for i, lb in enumerate(display_list):\n",
    "    ax = plt.subplot(nrows, 3, i+1)\n",
    "    ax.scatter(labels_true[:, i], labels_pred[:, i], c='red', marker='.')\n",
    "    m, b = np.polyfit(labels_true[:, i], labels_pred[:, i], 1)\n",
    "    ax.plot(labels_true[:, i], m * labels_true[:, i] + b, label='y = %.2gx + %.2g' % (m,b))\n",
    "    ax.set_xlabel(lb + ' actual', fontsize=fontsize)\n",
    "    ax.set_ylabel(lb + ' predicted', fontsize=fontsize)\n",
    "    ax.tick_params(labelsize=labelsize)\n",
    "    ax.legend(loc=2, fontsize=labelsize)\n",
    "plt.tight_layout()\n",
    "plt.show()"
   ]
  },
  {
   "cell_type": "markdown",
   "metadata": {},
   "source": [
    "#### Check prediction on orientation"
   ]
  },
  {
   "cell_type": "code",
   "execution_count": null,
   "metadata": {},
   "outputs": [],
   "source": [
    "if check_orient:\n",
    "    bins = 30\n",
    "    angle = np.arccos(cosine_similarity(labels_true[:, orient_idx2], labels_pred[:, orient_idx2]))\n",
    "    weights = 1 / np.sin(np.fmax(angle, np.pi / bins / 4))\n",
    "    angle *= 180 / np.pi\n",
    "    phi_err = 180 / np.pi * (labels_pred[:, orient_idx2[1]] - labels_true[:, orient_idx2[1]])\n",
    "    phi_err = np.mod(phi_err + 180, 360) - 180\n",
    "    h_angle = 90 - 180 / np.pi * np.arccos(labels_true[:, orient_idx2[0]])\n",
    "\n",
    "    plt.figure(figsize=(10,6))\n",
    "    # phi error vs. h angle\n",
    "    plt.subplot(211)\n",
    "    plt.plot(h_angle, phi_err, 'r.')\n",
    "    plt.xlim([-90, 90])\n",
    "    plt.ylim([-180, 180])\n",
    "    plt.ylabel('phi error (deg)')\n",
    "    # angle error vs. h angle\n",
    "    plt.subplot(212)\n",
    "    plt.plot(h_angle, angle, 'r.')\n",
    "    plt.xlim([-90, 90])\n",
    "    plt.ylim([0, 180])\n",
    "    plt.xlabel('true h angle (deg)')\n",
    "    plt.ylabel('angle error (deg)')\n",
    "\n",
    "    # angle error distribution\n",
    "    plt.figure(figsize=(10,6))\n",
    "    plt.subplot(211)\n",
    "    _ = plt.hist(angle, bins=bins, range=(0, 180))\n",
    "    plt.xlim([0, 180])\n",
    "    plt.ylabel('count')\n",
    "    plt.subplot(212)\n",
    "    _ = plt.hist(angle, bins=bins, range=(0, 180), density=True, weights=weights)\n",
    "    plt.xlim([0, 180])\n",
    "    plt.ylabel('density') # probability density of angle error per area on the unit sphere\n",
    "    plt.xlabel('Angle error (deg)')\n",
    "\n",
    "    plt.show()\n",
    "\n",
    "    print(\"RMSE of angle: %.1f\" % np.mean(angle ** 2) ** .5)"
   ]
  },
  {
   "cell_type": "code",
   "execution_count": null,
   "metadata": {},
   "outputs": [],
   "source": []
  }
 ],
 "metadata": {
  "kernelspec": {
   "display_name": "Python 3 (ipykernel)",
   "language": "python",
   "name": "python3"
  },
  "language_info": {
   "codemirror_mode": {
    "name": "ipython",
    "version": 3
   },
   "file_extension": ".py",
   "mimetype": "text/x-python",
   "name": "python",
   "nbconvert_exporter": "python",
   "pygments_lexer": "ipython3",
   "version": "3.9.12"
  }
 },
 "nbformat": 4,
 "nbformat_minor": 4
}
