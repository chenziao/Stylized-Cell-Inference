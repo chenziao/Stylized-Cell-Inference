{
 "cells": [
  {
   "cell_type": "code",
   "execution_count": 1,
   "id": "c3ba3b1a",
   "metadata": {},
   "outputs": [],
   "source": [
    "import numpy as np\n",
    "import matplotlib.pyplot as plt\n",
    "from scipy.interpolate import griddata\n",
    "\n",
    "from cell_inference.config import paths, params"
   ]
  },
  {
   "cell_type": "code",
   "execution_count": 2,
   "id": "c1b0cbfe",
   "metadata": {},
   "outputs": [],
   "source": [
    "from scipy.spatial import qhull\n",
    "\n",
    "def interp_weights(points, xi):\n",
    "    \"\"\"Calculate the indices of the vertices of the enclosing simplex and the weights for the interpolation\"\"\"\n",
    "    points = np.asarray(points)\n",
    "    d = points.shape[1]\n",
    "    tri = qhull.Delaunay(points)\n",
    "    simplex = tri.find_simplex(xi)\n",
    "    vertices = np.take(tri.simplices, simplex, axis=0)\n",
    "    temp = np.take(tri.transform, simplex, axis=0)\n",
    "    delta = xi - temp[:, d]\n",
    "    bary = np.einsum('njk,nk->nj', temp[:, :d, :], delta)\n",
    "    weights = np.hstack((bary, 1 - bary.sum(axis=1, keepdims=True)))\n",
    "    return vertices, weights\n",
    "\n",
    "def interpolate(values, vertices, weights, fill_value=None):\n",
    "    \"\"\"Calculate interpolation values\"\"\"\n",
    "    vi = np.einsum('nj,nj->n', np.take(values, vertices), weights)\n",
    "    if fill_value is not None:\n",
    "        vi[np.any(weights < 0, axis=1)] = fill_value\n",
    "    return vi"
   ]
  },
  {
   "cell_type": "code",
   "execution_count": 3,
   "id": "51c7993a",
   "metadata": {},
   "outputs": [
    {
     "name": "stdout",
     "output_type": "stream",
     "text": [
      "(384, 2)\n",
      "(192, 2)\n"
     ]
    }
   ],
   "source": [
    "elec_pos = params.ELECTRODE_POSITION[:, :2]\n",
    "elec_grid = params.ELECTRODE_GRID\n",
    "xx, yy = np.meshgrid(elec_grid[0], elec_grid[1], indexing='ij')\n",
    "grid = np.column_stack((xx.ravel(), yy.ravel()))\n",
    "grid = grid[(grid[:, 1]>=-params.Y_WINDOW_SIZE/2) & (grid[:, 1]<=params.Y_WINDOW_SIZE/2) ,:]\n",
    "\n",
    "print(elec_pos.shape)\n",
    "print(grid.shape)"
   ]
  },
  {
   "cell_type": "code",
   "execution_count": 4,
   "id": "3b46e854",
   "metadata": {},
   "outputs": [],
   "source": [
    "f = np.random.randn(params.WINDOW_SIZE, elec_pos.shape[0])"
   ]
  },
  {
   "cell_type": "code",
   "execution_count": 5,
   "id": "6f015b8c",
   "metadata": {},
   "outputs": [],
   "source": [
    "vtx, wts = interp_weights(elec_pos, grid)"
   ]
  },
  {
   "cell_type": "code",
   "execution_count": 6,
   "id": "d558d480",
   "metadata": {},
   "outputs": [
    {
     "data": {
      "text/plain": [
       "True"
      ]
     },
     "execution_count": 6,
     "metadata": {},
     "output_type": "execute_result"
    }
   ],
   "source": [
    "np.allclose(interpolate(f[0, :], vtx, wts), griddata(elec_pos, f[0, :], grid))"
   ]
  },
  {
   "cell_type": "code",
   "execution_count": 7,
   "id": "34c097bb",
   "metadata": {},
   "outputs": [
    {
     "name": "stdout",
     "output_type": "stream",
     "text": [
      "1.87 s ± 68 ms per loop (mean ± std. dev. of 7 runs, 1 loop each)\n"
     ]
    }
   ],
   "source": [
    "%timeit for i in range(params.WINDOW_SIZE): griddata(elec_pos, f[i, :], grid)"
   ]
  },
  {
   "cell_type": "code",
   "execution_count": 8,
   "id": "4579b56b",
   "metadata": {},
   "outputs": [
    {
     "name": "stdout",
     "output_type": "stream",
     "text": [
      "12 ms ± 571 µs per loop (mean ± std. dev. of 7 runs, 10 loops each)\n"
     ]
    }
   ],
   "source": [
    "%timeit interp_weights(elec_pos, grid)"
   ]
  },
  {
   "cell_type": "code",
   "execution_count": 9,
   "id": "b8729b43",
   "metadata": {},
   "outputs": [
    {
     "name": "stdout",
     "output_type": "stream",
     "text": [
      "3.48 ms ± 391 µs per loop (mean ± std. dev. of 7 runs, 100 loops each)\n"
     ]
    }
   ],
   "source": [
    "%timeit for i in range(params.WINDOW_SIZE): interpolate(f[i, :], vtx, wts)"
   ]
  },
  {
   "cell_type": "code",
   "execution_count": null,
   "id": "546ee4f1",
   "metadata": {},
   "outputs": [],
   "source": []
  }
 ],
 "metadata": {
  "kernelspec": {
   "display_name": "Python 3 (ipykernel)",
   "language": "python",
   "name": "python3"
  },
  "language_info": {
   "codemirror_mode": {
    "name": "ipython",
    "version": 3
   },
   "file_extension": ".py",
   "mimetype": "text/x-python",
   "name": "python",
   "nbconvert_exporter": "python",
   "pygments_lexer": "ipython3",
   "version": "3.9.12"
  }
 },
 "nbformat": 4,
 "nbformat_minor": 5
}
