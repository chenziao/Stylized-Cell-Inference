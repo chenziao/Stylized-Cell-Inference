{
 "cells": [
  {
   "cell_type": "code",
   "execution_count": 1,
   "metadata": {},
   "outputs": [],
   "source": [
    "import json\n",
    "import os\n",
    "\n",
    "from cell_inference.config import paths\n",
    "\n",
    "DATA_PATH = paths.SIMULATED_DATA_PATH"
   ]
  },
  {
   "cell_type": "code",
   "execution_count": 2,
   "metadata": {},
   "outputs": [],
   "source": [
    "config_files = [os.path.join(DATA_PATH, d, 'config.json') for d in os.listdir(DATA_PATH)]\n",
    "\n",
    "syn_params_keys = {'stim_param', 'gmax_mapping', 'gmax', 'syn_sec', 'syn_loc',\n",
    "    'tstart', 'point_conductance_division', 'dens_params', 'cnst_params', 'has_nmda', 'lornomal_gfluct'}\n",
    "\n",
    "for file in config_files:\n",
    "    with open(file, 'r') as f:\n",
    "        config_dict = json.load(f)\n",
    "    # Collect synaptic parameters into a dict\n",
    "    sim_p = config_dict['Simulation_Parameters']\n",
    "    keys = [k for k in sim_p if k in syn_params_keys]\n",
    "    sim_p['syn_params'] = {k: sim_p.pop(k) for k in keys}\n",
    "    with open(file, 'w') as f:\n",
    "        json.dump(config_dict, f, indent=2)"
   ]
  },
  {
   "cell_type": "code",
   "execution_count": null,
   "metadata": {},
   "outputs": [],
   "source": []
  }
 ],
 "metadata": {
  "kernelspec": {
   "display_name": "base",
   "language": "python",
   "name": "python3"
  },
  "language_info": {
   "codemirror_mode": {
    "name": "ipython",
    "version": 3
   },
   "file_extension": ".py",
   "mimetype": "text/x-python",
   "name": "python",
   "nbconvert_exporter": "python",
   "pygments_lexer": "ipython3",
   "version": "3.9.12"
  }
 },
 "nbformat": 4,
 "nbformat_minor": 2
}
