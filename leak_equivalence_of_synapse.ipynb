{
 "cells": [
  {
   "cell_type": "code",
   "execution_count": 1,
   "id": "fd62ca0c",
   "metadata": {},
   "outputs": [],
   "source": [
    "import numpy as np\n",
    "import pandas as pd\n",
    "import json\n",
    "import matplotlib.pyplot as plt\n",
    "from cell_inference.config import params, paths"
   ]
  },
  {
   "cell_type": "code",
   "execution_count": 2,
   "id": "ab941a72",
   "metadata": {},
   "outputs": [],
   "source": [
    "geo_file = 'cell_inference/resources/geom_parameters_reduced_order_L5_full.csv'\n",
    "select_sec = [8, 9, 10]\n",
    "geo_standard = pd.read_csv(geo_file, index_col='id')\n",
    "sec_df = geo_standard.loc[select_sec]"
   ]
  },
  {
   "cell_type": "code",
   "execution_count": 3,
   "id": "14c66f7b",
   "metadata": {},
   "outputs": [],
   "source": [
    "# Biophysical parameters\n",
    "filepath = './cell_inference/resources/biophys_parameters/ReducedOrderL5.json'\n",
    "with open(filepath) as f:\n",
    "    biophys_param = json.load(f)\n",
    "\n",
    "section_type = 'apic'\n",
    "for genome in biophys_param['genome']:\n",
    "    if genome['section']==section_type and genome['name']=='g_pas':\n",
    "        gl = float(genome['value'])\n",
    "    if genome['section']==section_type and genome['name']=='e_pas':\n",
    "        el = float(genome['value'])"
   ]
  },
  {
   "cell_type": "code",
   "execution_count": 4,
   "id": "6c16655d",
   "metadata": {},
   "outputs": [],
   "source": [
    "# total membrane area (um2)\n",
    "area = np.sum(2 * np.pi * sec_df['L'].values * sec_df['R'].values)"
   ]
  },
  {
   "cell_type": "code",
   "execution_count": 5,
   "id": "029ddc79",
   "metadata": {},
   "outputs": [
    {
     "name": "stdout",
     "output_type": "stream",
     "text": [
      "Number of synapses (exc, inh)\n",
      "[ 121.8 1293.6  243.6] [23.1 46.2 46.2]\n",
      "Inter spike interval (ms)\n",
      "[425.91251757 425.91251757 425.91251757] [854.7008547 854.7008547 854.7008547]\n"
     ]
    }
   ],
   "source": [
    "# total number of synapses\n",
    "n_exc = sec_df['exc_dens'].values * sec_df['L'].values\n",
    "n_inh = sec_df['inh_dens'].values * sec_df['L'].values\n",
    "print('Number of synapses (exc, inh)')\n",
    "print(n_exc, n_inh)\n",
    "# average firing interval (ms)\n",
    "intvl_exc = 1000 / (sec_df['excFRmean'].values * sec_df['excP_0mean'].values)\n",
    "intvl_inh = 1000/ (sec_df['inhFRmean'].values * sec_df['inhP_0mean'].values)\n",
    "print('Inter spike interval (ms)')\n",
    "print(intvl_exc, intvl_inh)"
   ]
  },
  {
   "cell_type": "code",
   "execution_count": 6,
   "id": "7c1c07c6",
   "metadata": {},
   "outputs": [],
   "source": [
    "# average proportion of synapse maximal conductance gbar\n",
    "# alpha: 1/rise time constant, beta: 1/decay time constant, Cdur: on duration, intvl: time interval between events. (ms)\n",
    "def R_avg(a, b, C, T):\n",
    "    if C <= T:\n",
    "        R = a / (a + b) * ( C + (a / b + np.exp(-C * (a + b))) * (1 - np.exp((C - T) * b)) / (a + b) ) / T \n",
    "    else:\n",
    "        R = a / (a + b)\n",
    "    return R"
   ]
  },
  {
   "cell_type": "code",
   "execution_count": 7,
   "id": "5ab6fbda",
   "metadata": {},
   "outputs": [
    {
     "name": "stdout",
     "output_type": "stream",
     "text": [
      "Average proportion of synapse maximal conductance\n",
      "[0.30440868 0.30440868 0.30440868] [0.01600919 0.01600919 0.01600919] [0.01848307 0.01848307 0.01848307]\n",
      "Total leak conductance (uS)\n",
      "0.0005878492630039106\n",
      "Synapse conductances (uS)\n",
      "[0.050501400597287215, 0.005311849501554243, 0.0021347945067452185]\n"
     ]
    }
   ],
   "source": [
    "# single synapse conductance (uS), r - average proportion\n",
    "r_nmda = np.array([R_avg(.2659, 0.008, 16.7650, intvl) for intvl in intvl_exc])\n",
    "r_ampa = np.array([R_avg(1.52, 0.14, 0.7254, intvl) for intvl in intvl_exc])\n",
    "r_gaba = np.array([R_avg(3.8142, 0.1429, 1.4210, intvl) for intvl in intvl_exc])\n",
    "# g_bar * weight * proportion\n",
    "g_nmda = .5e-3 * 0.2 * r_nmda\n",
    "g_ampa = 1e-3 * 0.2 * r_ampa\n",
    "g_gaba = 1e-3 * 1 * r_gaba\n",
    "print('Average proportion of synapse maximal conductance')\n",
    "print(r_nmda, r_ampa, r_gaba)\n",
    "\n",
    "# total synapse conductance (uS)\n",
    "g_nmda = np.sum(n_exc * g_nmda)\n",
    "g_ampa = np.sum(n_exc * g_ampa)\n",
    "g_gaba = np.sum(n_inh * g_gaba)\n",
    "\n",
    "print('Total leak conductance (uS)')\n",
    "g_leak = gl * area * 1e-2  # S/cm2 * um2 -> uS => * 1e-2\n",
    "print(g_leak)\n",
    "\n",
    "print('Synapse conductances (uS)')\n",
    "g_list = [g_nmda, g_ampa, g_gaba]\n",
    "print(g_list)"
   ]
  },
  {
   "cell_type": "code",
   "execution_count": 8,
   "id": "01e9bb9e",
   "metadata": {},
   "outputs": [],
   "source": [
    "# calculated equivalent conductance and reversal potential\n",
    "# list of g and e\n",
    "def equiv_g_e(g, e):\n",
    "    G = np.sum(g)\n",
    "    E = np.dot(g, e) / G\n",
    "    return G, E"
   ]
  },
  {
   "cell_type": "code",
   "execution_count": 9,
   "id": "e646eabc",
   "metadata": {},
   "outputs": [
    {
     "name": "stdout",
     "output_type": "stream",
     "text": [
      "Total synapse conductance (uS)\n",
      "0.057948044605586675\n",
      "Total synapse conductance (S/cm2), Reveral potential (mV)\n",
      "0.005806148007786734 -2.7629851722460965\n",
      "Leak conductance (S/cm2), Reveral potential (mV)\n",
      "0.0005878492630039106 -72.0\n",
      "Equivalent conductance (S/cm2), Equivalent reveral potential (mV)\n",
      "0.005865048007786733 -3.4583009084413447\n"
     ]
    }
   ],
   "source": [
    "# calculated equivalent conductance and reversal potential\n",
    "e_list = [0., 0., -75.]  # reversal potential (mV)\n",
    "g_syn, e_syn = equiv_g_e(g_list, e_list)\n",
    "print('Total synapse conductance (uS)')\n",
    "print(g_syn)\n",
    "\n",
    "g_syn = g_syn / area * 1e2  # uS / um2 -> S/cm2\n",
    "print('Total synapse conductance (S/cm2), Reveral potential (mV)')\n",
    "print(g_syn, e_syn)\n",
    "\n",
    "g_tot, e_tot = equiv_g_e((g_syn, gl), (e_syn, el))\n",
    "print('Leak conductance (S/cm2), Reveral potential (mV)')\n",
    "print(g_leak, el)\n",
    "print('Equivalent conductance (S/cm2), Equivalent reveral potential (mV)')\n",
    "print(g_tot, e_tot)"
   ]
  },
  {
   "cell_type": "code",
   "execution_count": 10,
   "id": "aad52e8a",
   "metadata": {},
   "outputs": [],
   "source": [
    "gs_syn = np.logspace(np.log10(gl/100), np.log10(g_syn), 100)\n",
    "gs, es = np.hsplit(np.array([equiv_g_e((g, gl), (e_syn, el)) for g in gs_syn]), 2)"
   ]
  },
  {
   "cell_type": "code",
   "execution_count": 11,
   "id": "7eb02b40",
   "metadata": {},
   "outputs": [
    {
     "data": {
      "image/png": "[encoded data removed]",
      "text/plain": [
       "<Figure size 432x288 with 1 Axes>"
      ]
     },
     "metadata": {
      "needs_background": "light"
     },
     "output_type": "display_data"
    },
    {
     "data": {
      "image/png": "[encoded data removed]",
      "text/plain": [
       "<Figure size 432x288 with 1 Axes>"
      ]
     },
     "metadata": {
      "needs_background": "light"
     },
     "output_type": "display_data"
    }
   ],
   "source": [
    "plt.figure()\n",
    "plt.plot(gs_syn, gs_syn, 'grey')\n",
    "plt.axvline(x=gl, color='g', label='leak')\n",
    "plt.axvline(x=g_syn, color='r', label='synapse')\n",
    "plt.axhline(y=gl, color='g')\n",
    "plt.axhline(y=g_syn, color='r')\n",
    "plt.plot(gs_syn, gs, 'b', label='total')\n",
    "plt.xscale('log')\n",
    "plt.yscale('log')\n",
    "plt.xlabel('g_syn')\n",
    "plt.ylabel('g_tot')\n",
    "plt.legend()\n",
    "\n",
    "plt.figure()\n",
    "plt.axvline(x=gl, color='g', label='leak')\n",
    "plt.axvline(x=g_syn, color='r', label='synapse')\n",
    "plt.axhline(y=el, color='g')\n",
    "plt.axhline(y=e_syn, color='r')\n",
    "plt.plot(gs_syn, es, 'b', label='total')\n",
    "plt.xscale('log')\n",
    "plt.xlabel('g_syn')\n",
    "plt.ylabel('e_tot')\n",
    "plt.legend()\n",
    "\n",
    "plt.show()"
   ]
  },
  {
   "cell_type": "code",
   "execution_count": null,
   "id": "e8c30b05",
   "metadata": {},
   "outputs": [],
   "source": []
  }
 ],
 "metadata": {
  "kernelspec": {
   "display_name": "Python 3 (ipykernel)",
   "language": "python",
   "name": "python3"
  },
  "language_info": {
   "codemirror_mode": {
    "name": "ipython",
    "version": 3
   },
   "file_extension": ".py",
   "mimetype": "text/x-python",
   "name": "python",
   "nbconvert_exporter": "python",
   "pygments_lexer": "ipython3",
   "version": "3.9.12"
  }
 },
 "nbformat": 4,
 "nbformat_minor": 5
}
