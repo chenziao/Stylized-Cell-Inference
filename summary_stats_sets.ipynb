{
 "cells": [
  {
   "cell_type": "code",
   "execution_count": 1,
   "metadata": {},
   "outputs": [],
   "source": [
    "import numpy as np\n",
    "import os\n",
    "\n",
    "from cell_inference.config import paths, params\n",
    "from cell_inference.utils.feature_extractors.SummaryStats2D import scaled_stats_indices\n",
    "\n",
    "TRIAL_NAME = 'Reduced_Order_stochastic_spkwid_trunkLR4_LactvCa_Loc3_h1_sumstats7'"
   ]
  },
  {
   "cell_type": "code",
   "execution_count": 2,
   "metadata": {},
   "outputs": [],
   "source": [
    "DATA_PATH = paths.SIMULATED_DATA_PATH\n",
    "TRIAL_PATH = os.path.join(DATA_PATH, TRIAL_NAME)\n",
    "\n",
    "summ_stats_names = params.SUMM_STATS_NAMES\n",
    "\n",
    "def summ_stats_num(additional_stats=7, range=False):\n",
    "    n = scaled_stats_indices(boolean=True, additional_stats=additional_stats).size\n",
    "    if range:\n",
    "        n = (summ_stats_num(additional_stats=additional_stats - 1), n)\n",
    "    return n"
   ]
  },
  {
   "cell_type": "code",
   "execution_count": 3,
   "metadata": {},
   "outputs": [
    {
     "name": "stdout",
     "output_type": "stream",
     "text": [
      "['t_tr_max_idx_y' 't_tr_max_val' 't_tr_min_idx_y' 't_tr_min_val'\n",
      " 't_pk_max_idx_y' 't_pk_max_val' 't_pk_min_idx_y' 't_pk_min_val' 'tr_l_w1'\n",
      " 'tr_l_w2' 'tr_l_y1' 'tr_r_w1' 'tr_r_w2' 'tr_r_y1' 'pk_l_w1' 'pk_l_w2'\n",
      " 'pk_l_y1' 'pk_r_w1' 'pk_r_w2' 'pk_r_y1' 'tr_l_t1' 'tr_l_t2' 'tr_r_t1'\n",
      " 'tr_r_t2' 'pk_l_t1' 'pk_l_t2' 'pk_r_t1' 'pk_r_t2' 'tr_l_tprop'\n",
      " 'tr_r_tprop' 'pk_l_tprop' 'pk_r_tprop']\n"
     ]
    }
   ],
   "source": [
    "# Select summary statistics\n",
    "stats_set_name = 'TrPkStats'\n",
    "\n",
    "filter_id = [slice(8, 24), slice(56, 68), slice(72, 84)] # tr/pk time stats, decay and propagation fit\n",
    "tr_pk_time_ids = np.array([11, 12, 14, 15, 19, 20, 22, 23]) # tr/pk time stats\n",
    "filter_id[0] = tr_pk_time_ids\n",
    "summ_stats_id = np.arange(summ_stats_names.size)\n",
    "summ_stats_id = np.concatenate([summ_stats_id[idx] for idx in filter_id])\n",
    "\n",
    "np.savetxt(os.path.join(TRIAL_PATH, stats_set_name + '_id.txt'), summ_stats_id, fmt='%d')\n",
    "\n",
    "print(summ_stats_names[summ_stats_id])"
   ]
  },
  {
   "cell_type": "code",
   "execution_count": 4,
   "metadata": {},
   "outputs": [
    {
     "name": "stdout",
     "output_type": "stream",
     "text": [
      "['linear_avg_t1_y1' 'linear_stdev_t1_y1' 'linear_avg_t1_y2'\n",
      " 'linear_stdev_t1_y2' 'linear_avg_t1_y3' 'linear_stdev_t1_y3'\n",
      " 'linear_avg_t1_y4' 'linear_stdev_t1_y4' 'linear_avg_t2_y1'\n",
      " 'linear_stdev_t2_y1' 'linear_avg_t2_y2' 'linear_stdev_t2_y2'\n",
      " 'linear_avg_t2_y3' 'linear_stdev_t2_y3' 'linear_avg_t2_y4'\n",
      " 'linear_stdev_t2_y4' 'linear_avg_t3_y1' 'linear_stdev_t3_y1'\n",
      " 'linear_avg_t3_y2' 'linear_stdev_t3_y2' 'linear_avg_t3_y3'\n",
      " 'linear_stdev_t3_y3' 'linear_avg_t3_y4' 'linear_stdev_t3_y4'\n",
      " 'linear_avg_t4_y1' 'linear_stdev_t4_y1' 'linear_avg_t4_y2'\n",
      " 'linear_stdev_t4_y2' 'linear_avg_t4_y3' 'linear_stdev_t4_y3'\n",
      " 'linear_avg_t4_y4' 'linear_stdev_t4_y4' 'log_avg_t1_y1' 'log_stdev_t1_y1'\n",
      " 'log_avg_t1_y2' 'log_stdev_t1_y2' 'log_avg_t1_y3' 'log_stdev_t1_y3'\n",
      " 'log_avg_t1_y4' 'log_stdev_t1_y4' 'log_avg_t2_y1' 'log_stdev_t2_y1'\n",
      " 'log_avg_t2_y2' 'log_stdev_t2_y2' 'log_avg_t2_y3' 'log_stdev_t2_y3'\n",
      " 'log_avg_t2_y4' 'log_stdev_t2_y4' 'log_avg_t3_y1' 'log_stdev_t3_y1'\n",
      " 'log_avg_t3_y2' 'log_stdev_t3_y2' 'log_avg_t3_y3' 'log_stdev_t3_y3'\n",
      " 'log_avg_t3_y4' 'log_stdev_t3_y4' 'log_avg_t4_y1' 'log_stdev_t4_y1'\n",
      " 'log_avg_t4_y2' 'log_stdev_t4_y2' 'log_avg_t4_y3' 'log_stdev_t4_y3'\n",
      " 'log_avg_t4_y4' 'log_stdev_t4_y4']\n"
     ]
    }
   ],
   "source": [
    "stats_set_name = 'GridStats'\n",
    "\n",
    "summ_stats_id = np.arange(*summ_stats_num(7, True))\n",
    "\n",
    "np.savetxt(os.path.join(TRIAL_PATH, stats_set_name + '_id.txt'), summ_stats_id, fmt='%d')\n",
    "\n",
    "print(summ_stats_names[summ_stats_id])"
   ]
  },
  {
   "cell_type": "code",
   "execution_count": 5,
   "metadata": {},
   "outputs": [
    {
     "name": "stdout",
     "output_type": "stream",
     "text": [
      "['avg_mean' 'avg_std' 'avg_max_idx_x' 'avg_max_idx_y' 'avg_max_val'\n",
      " 'avg_min_idx_x' 'avg_min_idx_y' 'avg_min_val' 't_tr_mean' 't_tr_std'\n",
      " 't_tr_max_idx_x' 't_tr_max_idx_y' 't_tr_max_val' 't_tr_min_idx_x'\n",
      " 't_tr_min_idx_y' 't_tr_min_val' 't_pk_mean' 't_pk_std' 't_pk_max_idx_x'\n",
      " 't_pk_max_idx_y' 't_pk_max_val' 't_pk_min_idx_x' 't_pk_min_idx_y'\n",
      " 't_pk_min_val' 'stdev_mean' 'stdev_std' 'stdev_max_idx_x'\n",
      " 'stdev_max_idx_y' 'stdev_max_val' 'tr_mean' 'tr_std' 'tr_max_idx_x'\n",
      " 'tr_max_idx_y' 'tr_max_val' 'pk_mean' 'pk_std' 'pk_max_idx_x'\n",
      " 'pk_max_idx_y' 'pk_max_val' 't0' 't1' 't2' 't0_half_l_idx_y'\n",
      " 't0_half_r_idx_y' 't2_half_l_idx_y' 't2_half_r_idx_y' 't1_max_idx_y'\n",
      " 't1_min_idx_y' 'tr_lambda_l' 'tr_lambda_r' 'tr_slope_l' 'tr_slope_r'\n",
      " 'pk_lambda_l' 'pk_lambda_r' 'pk_slope_l' 'pk_slope_r' 'tr_l_w1' 'tr_l_w2'\n",
      " 'tr_l_y1' 'tr_r_w1' 'tr_r_w2' 'tr_r_y1' 'pk_l_w1' 'pk_l_w2' 'pk_l_y1'\n",
      " 'pk_r_w1' 'pk_r_w2' 'pk_r_y1' 'tr_l_avg_mag' 'tr_r_avg_mag'\n",
      " 'pk_l_avg_mag' 'pk_r_avg_mag' 'tr_l_t1' 'tr_l_t2' 'tr_r_t1' 'tr_r_t2'\n",
      " 'pk_l_t1' 'pk_l_t2' 'pk_r_t1' 'pk_r_t2' 'tr_l_tprop' 'tr_r_tprop'\n",
      " 'pk_l_tprop' 'pk_r_tprop' 'log_avg_mean' 'log_avg_std' 'log_stdev_mean'\n",
      " 'log_stdev_std' 'log_tr_mean' 'log_tr_std' 'log_pk_mean' 'log_pk_std']\n"
     ]
    }
   ],
   "source": [
    "additional_stats = 5\n",
    "stats_set_name = f'FullStats{additional_stats:d}'\n",
    "\n",
    "summ_stats_id = np.arange(summ_stats_num(additional_stats))\n",
    "\n",
    "np.savetxt(os.path.join(TRIAL_PATH, stats_set_name + '_id.txt'), summ_stats_id, fmt='%d')\n",
    "\n",
    "print(summ_stats_names[summ_stats_id])"
   ]
  },
  {
   "cell_type": "code",
   "execution_count": null,
   "metadata": {},
   "outputs": [],
   "source": []
  }
 ],
 "metadata": {
  "kernelspec": {
   "display_name": "Python 3 (ipykernel)",
   "language": "python",
   "name": "python3"
  },
  "language_info": {
   "codemirror_mode": {
    "name": "ipython",
    "version": 3
   },
   "file_extension": ".py",
   "mimetype": "text/x-python",
   "name": "python",
   "nbconvert_exporter": "python",
   "pygments_lexer": "ipython3",
   "version": "3.9.12"
  }
 },
 "nbformat": 4,
 "nbformat_minor": 2
}
