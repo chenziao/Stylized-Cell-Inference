{
 "cells": [
  {
   "cell_type": "code",
   "execution_count": 1,
   "id": "af2c3a90",
   "metadata": {},
   "outputs": [],
   "source": [
    "import numpy as np\n",
    "from scipy.stats import norm\n",
    "\n",
    "import matplotlib.pyplot as plt"
   ]
  },
  {
   "cell_type": "markdown",
   "id": "ca68cb2a",
   "metadata": {},
   "source": [
    "Transform normal distributed variables to follow uniform [a,b] distribution"
   ]
  },
  {
   "cell_type": "code",
   "execution_count": 2,
   "id": "e11db1ba",
   "metadata": {},
   "outputs": [],
   "source": [
    "def norm2unif(x,a,b):\n",
    "    \"\"\"Transform normal distributed variables to follow uniform [a,b] distribution\"\"\"\n",
    "    y = a+(b-a)*norm.cdf(np.asarray(x))\n",
    "    return y"
   ]
  },
  {
   "cell_type": "code",
   "execution_count": 3,
   "id": "066486b8",
   "metadata": {
    "scrolled": true
   },
   "outputs": [
    {
     "data": {
      "image/png": "[encoded data removed]",
      "text/plain": [
       "<Figure size 432x288 with 2 Axes>"
      ]
     },
     "metadata": {
      "needs_background": "light"
     },
     "output_type": "display_data"
    }
   ],
   "source": [
    "# test\n",
    "x = np.random.normal(size=1000)\n",
    "y = norm2unif(x,5,10) # transform\n",
    "\n",
    "plt.subplot(211)\n",
    "plt.hist(x,20,density=True)\n",
    "plt.xlabel('normal')\n",
    "plt.subplot(212)\n",
    "plt.hist(y,20,density=True)\n",
    "plt.xlabel('transformed')\n",
    "plt.show()"
   ]
  },
  {
   "cell_type": "markdown",
   "id": "a0af2c10",
   "metadata": {},
   "source": [
    "Get the lognormal parameters given bounds [a,b] in linear scale that corresponds to n_sigma"
   ]
  },
  {
   "cell_type": "code",
   "execution_count": 4,
   "id": "fc5c7afc",
   "metadata": {},
   "outputs": [],
   "source": [
    "def range2logn(a,b,n_sigma=2):\n",
    "    \"\"\"Get the lognormal parameters given range [a,b] in linear scale that corresponds to n_sigma\"\"\"\n",
    "    A = np.log(a)\n",
    "    B = np.log(b)\n",
    "    mu = (A+B)/2\n",
    "    sigma = (B-A)/n_sigma/2\n",
    "    return mu, sigma"
   ]
  },
  {
   "cell_type": "code",
   "execution_count": 5,
   "id": "15af96c1",
   "metadata": {},
   "outputs": [
    {
     "data": {
      "image/png": "[encoded data removed]",
      "text/plain": [
       "<Figure size 432x288 with 2 Axes>"
      ]
     },
     "metadata": {
      "needs_background": "light"
     },
     "output_type": "display_data"
    }
   ],
   "source": [
    "bound = [6,18]\n",
    "logn_param = range2logn(bound[0],bound[1])\n",
    "x = np.random.normal(logn_param[0],logn_param[1],size=1000)\n",
    "y = np.exp(x) # transform\n",
    "\n",
    "plt.subplot(211)\n",
    "plt.hist(x,20,density=True)\n",
    "plt.xlabel('normal')\n",
    "plt.subplot(212)\n",
    "plt.hist(y,20,density=True)\n",
    "plt.xlabel('transformed')\n",
    "plt.show()"
   ]
  },
  {
   "cell_type": "code",
   "execution_count": null,
   "id": "02c122d8",
   "metadata": {},
   "outputs": [],
   "source": []
  }
 ],
 "metadata": {
  "kernelspec": {
   "display_name": "Python 3 (ipykernel)",
   "language": "python",
   "name": "python3"
  },
  "language_info": {
   "codemirror_mode": {
    "name": "ipython",
    "version": 3
   },
   "file_extension": ".py",
   "mimetype": "text/x-python",
   "name": "python",
   "nbconvert_exporter": "python",
   "pygments_lexer": "ipython3",
   "version": "3.7.4"
  }
 },
 "nbformat": 4,
 "nbformat_minor": 5
}
