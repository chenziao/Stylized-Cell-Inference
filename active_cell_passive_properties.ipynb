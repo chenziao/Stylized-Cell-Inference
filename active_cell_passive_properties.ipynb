{
 "cells": [
  {
   "cell_type": "markdown",
   "id": "9c9026ec",
   "metadata": {},
   "source": [
    "### Setup"
   ]
  },
  {
   "cell_type": "code",
   "execution_count": 1,
   "id": "66e57c2c",
   "metadata": {},
   "outputs": [],
   "source": [
    "from neuron import h\n",
    "from cell_inference.config import params, paths\n",
    "import pandas as pd\n",
    "\n",
    "h.load_file('stdrun.hoc')\n",
    "h.nrn_load_dll(paths.COMPILED_LIBRARY)\n",
    "geo_standard = pd.read_csv(paths.GEO_STANDARD_AXON, index_col='id')\n",
    "h.dt = params.DT\n",
    "\n",
    "h.tstop = 200."
   ]
  },
  {
   "cell_type": "markdown",
   "id": "44c2f464",
   "metadata": {},
   "source": [
    "### Setup smiulation parameters"
   ]
  },
  {
   "cell_type": "code",
   "execution_count": 2,
   "id": "639164ad",
   "metadata": {},
   "outputs": [],
   "source": [
    "import numpy as np\n",
    "import json\n",
    "\n",
    "# Biophysical parameters\n",
    "filepath = \"./cell_inference/resources/fit_parameters.json\"\n",
    "f = open(filepath)\n",
    "biophys_param = json.load(f)\n",
    "f.close()"
   ]
  },
  {
   "cell_type": "code",
   "execution_count": 3,
   "id": "4667a206",
   "metadata": {},
   "outputs": [],
   "source": [
    "# (soma,dend,apic,axon) [0.00051532, 0.000170972, 0.004506, 0.00951182]\n",
    "# biophys = np.array([0.00051532, 0.000170972, 0.004506, 0.00951182])*0.7\n",
    "biophys = np.array([0.00035, 0.00012, 0.003, 0.0065])\n",
    "# (soma r,trunk l,trunk r,basal r,tuft r,dend l,axon r), bounds([3,12],[20,800],[0.6,2.5],[0.1,0.8],[0.1,0.8],[100,300])\n",
    "geo_param = [7., 400., .32, .25, .25, 200., .28] # [8., 400., 1.25, .28, .28, 200., .28]\n",
    "loc_param = [0., 350., 80., 1, 1.0,   0.]  # position (x,y,z,alpha,h,phi)"
   ]
  },
  {
   "cell_type": "code",
   "execution_count": 4,
   "id": "aacde5c3",
   "metadata": {},
   "outputs": [
    {
     "name": "stdout",
     "output_type": "stream",
     "text": [
      "[[0.00035 0.00012 0.003   0.0065 ]\n",
      " [0.00035 0.00012 0.003   0.0065 ]]\n"
     ]
    }
   ],
   "source": [
    "ncell = 1\n",
    "biophys = np.tile(biophys,(ncell,1)) \n",
    "# biophys[:,0] = np.linspace(0.00035,0.00045,ncell)\n",
    "biophys = np.append(biophys,biophys[[0],:],axis=0)\n",
    "print(biophys)"
   ]
  },
  {
   "cell_type": "code",
   "execution_count": 5,
   "id": "1c9c874a",
   "metadata": {},
   "outputs": [
    {
     "name": "stdout",
     "output_type": "stream",
     "text": [
      "[[7.0e+00 4.0e+02 3.2e-01 2.5e-01 2.5e-01 2.0e+02 2.8e-01]\n",
      " [7.0e+00 4.0e+02 3.2e-01 2.5e-01 2.5e-01 2.0e+02 2.8e-01]]\n"
     ]
    }
   ],
   "source": [
    "geo_param = np.tile(geo_param,(ncell,1))\n",
    "# geo_param[:,6] = np.linspace(.25,.31,ncell)\n",
    "geo_param = np.append(geo_param,geo_param[[0],:],axis=0)\n",
    "print(geo_param)"
   ]
  },
  {
   "cell_type": "code",
   "execution_count": 6,
   "id": "a02871b5",
   "metadata": {},
   "outputs": [],
   "source": [
    "gmax = [0.]*ncell + [0.05]\n",
    "ncell += 1"
   ]
  },
  {
   "cell_type": "code",
   "execution_count": 7,
   "id": "e358f9da",
   "metadata": {
    "scrolled": false
   },
   "outputs": [],
   "source": [
    "from cell_inference.cells.simulation import Simulation\n",
    "from cell_inference.cells.stylizedcell import CellTypes\n",
    "\n",
    "sim = Simulation(geometry = geo_standard,\n",
    "                 full_biophys = biophys_param,\n",
    "                 cell_type = CellTypes.ACTIVE_AXON,\n",
    "                 biophys = biophys,\n",
    "                 loc_param = loc_param,\n",
    "                 geo_param = geo_param,\n",
    "                 gmax = gmax,\n",
    "                 stim_param = {'start': 5.},\n",
    "                 scale = 1.,\n",
    "                 ncell = ncell)"
   ]
  },
  {
   "cell_type": "markdown",
   "id": "2d28001e",
   "metadata": {},
   "source": [
    "#### Add current injection"
   ]
  },
  {
   "cell_type": "code",
   "execution_count": 8,
   "id": "b73303d9",
   "metadata": {},
   "outputs": [],
   "source": [
    "for cell in sim.cells[:-1]:\n",
    "    cell.add_injection(sec_index=0, pulse=True, amp=-0.010, delay=50.0, dur=150.0)"
   ]
  },
  {
   "cell_type": "markdown",
   "id": "ab93968b",
   "metadata": {},
   "source": [
    "#### Record axial current"
   ]
  },
  {
   "cell_type": "code",
   "execution_count": 9,
   "id": "f71b6cb7",
   "metadata": {},
   "outputs": [],
   "source": [
    "from cell_inference.utils.currents.somaaxialcurrent import Soma_Axial_Current\n",
    "\n",
    "axial_current = Soma_Axial_Current(sim.cells[-1].soma,single_seg=True)"
   ]
  },
  {
   "cell_type": "markdown",
   "id": "3fe37709",
   "metadata": {},
   "source": [
    "### Simulation results"
   ]
  },
  {
   "cell_type": "code",
   "execution_count": 10,
   "id": "3a35e87d",
   "metadata": {},
   "outputs": [],
   "source": [
    "sim.run_neuron_sim()\n",
    "# lfp = sim.get_lfp().T\n",
    "t = sim.t()\n",
    "v = sim.v('all')"
   ]
  },
  {
   "cell_type": "markdown",
   "id": "c34a436d",
   "metadata": {},
   "source": [
    "#### Membrane voltage"
   ]
  },
  {
   "cell_type": "code",
   "execution_count": 11,
   "id": "c52d384c",
   "metadata": {},
   "outputs": [
    {
     "data": {
      "image/png": "[encoded data removed]",
      "text/plain": [
       "<Figure size 432x432 with 2 Axes>"
      ]
     },
     "metadata": {
      "needs_background": "light"
     },
     "output_type": "display_data"
    }
   ],
   "source": [
    "import matplotlib.pyplot as plt\n",
    "%matplotlib inline\n",
    "\n",
    "plt.figure(figsize=(6,6))\n",
    "plt.subplot(211)\n",
    "plt.plot(t,v[0],label='Current Injection')\n",
    "plt.ylabel('membrane potential (mV)');\n",
    "plt.legend(loc=1)\n",
    "plt.subplot(212)\n",
    "plt.plot(t,v[-1],label='Synaptic Input')\n",
    "plt.ylabel('membrane potential (mV)');\n",
    "plt.legend(loc=1)\n",
    "plt.xlabel('time (ms)')\n",
    "plt.show()"
   ]
  },
  {
   "cell_type": "markdown",
   "id": "03bd9a80",
   "metadata": {},
   "source": [
    "#### Calculate passive properties"
   ]
  },
  {
   "cell_type": "code",
   "execution_count": 12,
   "id": "ad8c20a7",
   "metadata": {},
   "outputs": [
    {
     "name": "stdout",
     "output_type": "stream",
     "text": [
      "(-76.92851439012182, 80.34651690416013, 3.2750000000007446)\n"
     ]
    },
    {
     "data": {
      "image/png": "[encoded data removed]",
      "text/plain": [
       "<Figure size 432x216 with 1 Axes>"
      ]
     },
     "metadata": {
      "needs_background": "light"
     },
     "output_type": "display_data"
    }
   ],
   "source": [
    "from cell_inference.utils.metrics.measure_passive_properties import measure_passive_properties\n",
    "%matplotlib inline\n",
    "\n",
    "plt.figure(figsize=(6,3*(ncell-1)))\n",
    "for i in range(ncell-1):\n",
    "    plt.subplot(ncell-1,1,i+1)\n",
    "    Vrest, Rin, Tau = measure_passive_properties(v[i],t,sim.cells[i].injection[0].pp_obj,ax=plt.gca())\n",
    "    print((Vrest, Rin, Tau))"
   ]
  },
  {
   "cell_type": "code",
   "execution_count": 13,
   "id": "14d0ae76",
   "metadata": {},
   "outputs": [
    {
     "data": {
      "text/plain": [
       "(-76.92851439012182, 80.34651690416013, 3.2750000000007446)"
      ]
     },
     "execution_count": 13,
     "metadata": {},
     "output_type": "execute_result"
    }
   ],
   "source": [
    "Vrest, Rin, Tau"
   ]
  },
  {
   "cell_type": "markdown",
   "id": "30265e86",
   "metadata": {},
   "source": [
    "#### Axial currents"
   ]
  },
  {
   "cell_type": "code",
   "execution_count": 14,
   "id": "535039a3",
   "metadata": {},
   "outputs": [
    {
     "data": {
      "image/png": "[encoded data removed]",
      "text/plain": [
       "<Figure size 432x288 with 1 Axes>"
      ]
     },
     "metadata": {
      "needs_background": "light"
     },
     "output_type": "display_data"
    }
   ],
   "source": [
    "dend_types = axial_current.dend_type\n",
    "\n",
    "plt.figure()\n",
    "ac = axial_current.get_current()\n",
    "for dend_type in dend_types:\n",
    "    plt.plot(t,ac[dend_type].ravel(),label=dend_type)\n",
    "plt.ylabel('nA')\n",
    "plt.legend()\n",
    "plt.title('Axial current from soma')\n",
    "plt.xlabel('time (ms)')\n",
    "plt.xlim([0,30])\n",
    "plt.show()"
   ]
  },
  {
   "cell_type": "code",
   "execution_count": null,
   "id": "fdd85440",
   "metadata": {},
   "outputs": [],
   "source": []
  }
 ],
 "metadata": {
  "kernelspec": {
   "display_name": "Python 3 (ipykernel)",
   "language": "python",
   "name": "python3"
  },
  "language_info": {
   "codemirror_mode": {
    "name": "ipython",
    "version": 3
   },
   "file_extension": ".py",
   "mimetype": "text/x-python",
   "name": "python",
   "nbconvert_exporter": "python",
   "pygments_lexer": "ipython3",
   "version": "3.7.4"
  }
 },
 "nbformat": 4,
 "nbformat_minor": 5
}
