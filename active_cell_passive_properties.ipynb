{
 "cells": [
  {
   "cell_type": "markdown",
   "id": "9c9026ec",
   "metadata": {},
   "source": [
    "### Setup"
   ]
  },
  {
   "cell_type": "code",
   "execution_count": 1,
   "id": "66e57c2c",
   "metadata": {},
   "outputs": [],
   "source": [
    "from neuron import h\n",
    "from cell_inference.config import params, paths\n",
    "import pandas as pd\n",
    "\n",
    "h.load_file('stdrun.hoc')\n",
    "h.nrn_load_dll(paths.COMPILED_LIBRARY)\n",
    "geo_standard = pd.read_csv(paths.GEO_STANDARD_AXON, index_col='id')\n",
    "h.dt = params.DT\n",
    "\n",
    "h.tstop = 200."
   ]
  },
  {
   "cell_type": "code",
   "execution_count": 2,
   "id": "639164ad",
   "metadata": {},
   "outputs": [],
   "source": [
    "import json\n",
    "\n",
    "filepath = \"./cell_inference/resources/fit_parameters.json\"\n",
    "f = open(filepath)\n",
    "biophys_param = json.load(f)\n",
    "f.close()"
   ]
  },
  {
   "cell_type": "markdown",
   "id": "44c2f464",
   "metadata": {},
   "source": [
    "### Setup smiulation parameters"
   ]
  },
  {
   "cell_type": "code",
   "execution_count": 3,
   "id": "4667a206",
   "metadata": {},
   "outputs": [],
   "source": [
    "loc_param = [0., 350., 80., 1, 1.0,   0.]  # position (x,y,z,alpha,h,phi)\n",
    "geo_param = [8., 400., 1.25, .28, .28, 200.]  # (soma r,trunk l,trunk r,basal r,tuft r,dend l), bounds([3,12],[20,800],[0.6,2.5],[0.1,0.8],[0.1,0.8],[100,300])"
   ]
  },
  {
   "cell_type": "code",
   "execution_count": 4,
   "id": "e358f9da",
   "metadata": {
    "scrolled": false
   },
   "outputs": [],
   "source": [
    "from cell_inference.cells.simulation import Simulation\n",
    "from cell_inference.cells.stylizedcell import CellTypes\n",
    "\n",
    "sim = Simulation(geometry = geo_standard,\n",
    "                 full_biophys = biophys_param,\n",
    "                 electrodes = params.ELECTRODE_POSITION,\n",
    "                 cell_type = CellTypes.ACTIVE_AXON,\n",
    "                 loc_param = loc_param,\n",
    "                 geo_param = geo_param,\n",
    "                 gmax = 0.,\n",
    "                 scale = 1.,\n",
    "                 ncell = 1)"
   ]
  },
  {
   "cell_type": "markdown",
   "id": "2d28001e",
   "metadata": {},
   "source": [
    "#### Add current injection"
   ]
  },
  {
   "cell_type": "code",
   "execution_count": 5,
   "id": "b73303d9",
   "metadata": {},
   "outputs": [],
   "source": [
    "sim.cells[0].add_injection(sec_index=0, pulse=True, amp=-0.010, delay=50.0, dur=150.0)"
   ]
  },
  {
   "cell_type": "markdown",
   "id": "3fe37709",
   "metadata": {},
   "source": [
    "### Simulation results"
   ]
  },
  {
   "cell_type": "code",
   "execution_count": 6,
   "id": "3a35e87d",
   "metadata": {},
   "outputs": [],
   "source": [
    "sim.run_neuron_sim()\n",
    "# lfp = sim.get_lfp().T\n",
    "t = sim.t()\n",
    "v = sim.v()"
   ]
  },
  {
   "cell_type": "markdown",
   "id": "c34a436d",
   "metadata": {},
   "source": [
    "#### Membrane voltage"
   ]
  },
  {
   "cell_type": "code",
   "execution_count": 7,
   "id": "c52d384c",
   "metadata": {},
   "outputs": [
    {
     "data": {
      "image/png": "[encoded data removed]",
      "text/plain": [
       "<Figure size 432x288 with 1 Axes>"
      ]
     },
     "metadata": {
      "needs_background": "light"
     },
     "output_type": "display_data"
    }
   ],
   "source": [
    "import matplotlib.pyplot as plt\n",
    "%matplotlib inline\n",
    "\n",
    "plt.figure()\n",
    "plt.plot(t,v)\n",
    "plt.show()"
   ]
  },
  {
   "cell_type": "markdown",
   "id": "03bd9a80",
   "metadata": {},
   "source": [
    "#### Calculate passive properties"
   ]
  },
  {
   "cell_type": "code",
   "execution_count": 8,
   "id": "ad8c20a7",
   "metadata": {},
   "outputs": [
    {
     "data": {
      "image/png": "[encoded data removed]",
      "text/plain": [
       "<Figure size 432x288 with 1 Axes>"
      ]
     },
     "metadata": {
      "needs_background": "light"
     },
     "output_type": "display_data"
    }
   ],
   "source": [
    "from cell_inference.utils.metrics.measure_passive_properties import measure_passive_properties\n",
    "%matplotlib inline\n",
    "\n",
    "plt.figure()\n",
    "Vrest, Rin, Tau = measure_passive_properties(v,t,sim.cells[0].injection[0].pp_obj,ax=plt.gca())"
   ]
  },
  {
   "cell_type": "code",
   "execution_count": 9,
   "id": "14d0ae76",
   "metadata": {},
   "outputs": [
    {
     "data": {
      "text/plain": [
       "(-80.33001182103993, 22.577414005812102, 1.7750000000004036)"
      ]
     },
     "execution_count": 9,
     "metadata": {},
     "output_type": "execute_result"
    }
   ],
   "source": [
    "Vrest, Rin, Tau"
   ]
  },
  {
   "cell_type": "code",
   "execution_count": null,
   "id": "535039a3",
   "metadata": {},
   "outputs": [],
   "source": []
  },
  {
   "cell_type": "code",
   "execution_count": null,
   "id": "c7a80cd1",
   "metadata": {},
   "outputs": [],
   "source": []
  }
 ],
 "metadata": {
  "kernelspec": {
   "display_name": "Python 3 (ipykernel)",
   "language": "python",
   "name": "python3"
  },
  "language_info": {
   "codemirror_mode": {
    "name": "ipython",
    "version": 3
   },
   "file_extension": ".py",
   "mimetype": "text/x-python",
   "name": "python",
   "nbconvert_exporter": "python",
   "pygments_lexer": "ipython3",
   "version": "3.7.4"
  }
 },
 "nbformat": 4,
 "nbformat_minor": 5
}
