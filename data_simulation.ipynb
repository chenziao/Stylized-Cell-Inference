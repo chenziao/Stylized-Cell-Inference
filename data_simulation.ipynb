{
 "cells": [
  {
   "cell_type": "code",
   "execution_count": 1,
   "id": "inner-advance",
   "metadata": {},
   "outputs": [],
   "source": [
    "from neuron import h\n",
    "import pandas as pd\n",
    "import numpy as np\n",
    "import matplotlib.pyplot as plt\n",
    "import h5py\n",
    "import json\n",
    "from scipy import signal\n",
    "from scipy.interpolate import LinearNDInterpolator\n",
    "from typing import Union, List, Tuple, Dict\n",
    "import os\n",
    "\n",
    "from cell_inference.config import paths, params\n",
    "from cell_inference.cells.simulation import Simulation\n",
    "from cell_inference.cells.stylizedcell import CellTypes\n",
    "from cell_inference.utils.transform.distribution_transformation import range2norm, range2logn\n",
    "from cell_inference.utils.transform.geometry_transformation import pol2cart, cart2pol\n",
    "from cell_inference.utils.spike_window import first_pk_tr, get_spike_window\n",
    "from cell_inference.utils.plotting.plot_results import plot_lfp_traces, plot_lfp_heatmap\n",
    "from cell_inference.utils.feature_extractors.SummaryStats2D import calculate_stats, build_lfp_grid\n",
    "from cell_inference.utils.feature_extractors.parameterprediction import ClassifierTypes, ClassifierBuilder\n",
    "\n",
    "\n",
    "h.load_file('stdrun.hoc')\n",
    "h.nrn_load_dll(paths.COMPILED_LIBRARY)\n",
    "geo_standard = pd.read_csv(paths.GEO_STANDARD, index_col='id')\n",
    "h.tstop = params.TSTOP\n",
    "h.dt = params.DT"
   ]
  },
  {
   "cell_type": "markdown",
   "id": "8c3678f5",
   "metadata": {},
   "source": [
    "### Set up configuration"
   ]
  },
  {
   "cell_type": "markdown",
   "id": "4d98ca07",
   "metadata": {},
   "source": [
    "Simulation configurations"
   ]
  },
  {
   "cell_type": "code",
   "execution_count": 2,
   "id": "05f4b36d",
   "metadata": {},
   "outputs": [],
   "source": [
    "loc_param_list = ['x','y','z','alpha','h','phi']\n",
    "geo_param_list = ['r_s', 'l_t', 'r_t', 'r_d', 'r_tu','l_d']\n",
    "\n",
    "loc_param_default = {'x': 0., 'y': 0., 'z': 50., \n",
    "                     'alpha': np.pi/4, 'h': 1., 'phi': 0.}\n",
    "loc_param_default['d'], loc_param_default['theta'] = cart2pol(loc_param_default['x'], loc_param_default['z'])\n",
    "geo_param_default = {'r_s': 8., 'l_t': 600., 'r_t': 1.25, \n",
    "                     'r_d': .28, 'r_tu': .28, 'l_d': 200.}\n",
    "\n",
    "loc_param_range = {'x': (-50, 50), 'y': (-1400, 1400), 'z': (20., 200.), \n",
    "                   'alpha': (0, np.pi), 'h': (-1., 1.) ,'phi': (-np.pi, np.pi), \n",
    "                   'd': (20., 200.), 'theta': (-np.pi/3, np.pi/3)}\n",
    "geo_param_range = {'r_s': (7., 12.), 'l_t': (20., 800.), 'r_t': (.6, 1.8), \n",
    "                   'r_d': (.1, .8), 'r_tu': (.1, .8), 'l_d': (100., 300.)}\n",
    "\n",
    "loc_param_dist = {'x': 'unif', 'y': 'unif', 'z': 'unif', \n",
    "                     'alpha': 'unif', 'h': 'unif','phi': 'unif', 'd': 'unif', 'theta': 'norm'}\n",
    "geo_param_dist = {'r_s': 'unif', 'l_t': 'unif', 'r_t': 'unif', \n",
    "                     'r_d': 'logn', 'r_tu': 'logn', 'l_d': 'unif'}"
   ]
  },
  {
   "cell_type": "markdown",
   "id": "1b1d2e29",
   "metadata": {},
   "source": [
    "Trial configurations"
   ]
  },
  {
   "cell_type": "code",
   "execution_count": 3,
   "id": "932f7ba3",
   "metadata": {},
   "outputs": [],
   "source": [
    "number_samples = 5000\n",
    "rand_seed = 12345\n",
    "\n",
    "inference_list = ['y', 'd', 'theta', 'h', 'phi', 'r_s', 'l_t', 'r_t']  # can use d, theta instead of x, z to represent location\n",
    "randomized_list = ['alpha']  # randomized parameters not to inferred\n",
    "randomized_list += inference_list\n",
    "# parameters not in the two lists above are fixed at default."
   ]
  },
  {
   "cell_type": "markdown",
   "id": "644905c2",
   "metadata": {},
   "source": [
    "Load gmax mapping file"
   ]
  },
  {
   "cell_type": "code",
   "execution_count": 4,
   "id": "49a9e567",
   "metadata": {},
   "outputs": [],
   "source": [
    "gmax_mapping = h5py.File(paths.GMAX_MAPPING, 'r')\n",
    "\n",
    "geo_list = [geo_param_list[idx] for idx in gmax_mapping['settings/geo_index']]\n",
    "for i, key in enumerate(geo_list):\n",
    "    geo_range = gmax_mapping['settings/geo_range'][i,:].copy()\n",
    "    geo_range[0] = max(geo_param_range[key][0], geo_range[0])\n",
    "    geo_range[1] = min(geo_param_range[key][1], geo_range[1])\n",
    "    geo_param_range[key] = tuple(geo_range) \n",
    "\n",
    "squared_soma_radius = gmax_mapping['mapping'].attrs['squared_soma_radius']\n",
    "\n",
    "# Use linear interpolation\n",
    "gmax_interp = LinearNDInterpolator(gmax_mapping['mapping/geometry'][()], gmax_mapping['mapping/gmax'][()])\n",
    "\n",
    "gmax_mapping.close()\n",
    "\n",
    "# # Use linear regression\n",
    "# clf = ClassifierBuilder()\n",
    "# clf.load_clf(paths.RESOURCES_ROOT + \"gmax_lin_reg_classifier.joblib\")\n",
    "\n",
    "def pred_gmax(geo_samples: Dict):\n",
    "    geo = []\n",
    "    for key in geo_list:\n",
    "        if squared_soma_radius and key == 'r_s':\n",
    "            geo.append(geo_samples[key]**2)\n",
    "        else:\n",
    "            geo.append(geo_samples[key])\n",
    "    gmax = gmax_interp(np.column_stack(geo))\n",
    "#     gmax = clf.predict(np.column_stack(geo))\n",
    "    return gmax"
   ]
  },
  {
   "cell_type": "markdown",
   "id": "7a23c294",
   "metadata": {},
   "source": [
    "Create configuration dictionary"
   ]
  },
  {
   "cell_type": "code",
   "execution_count": 5,
   "id": "2d7fca60",
   "metadata": {},
   "outputs": [],
   "source": [
    "config_dict = { \n",
    "    'Trial_Parameters': {'number_samples': number_samples, 'rand_seed': rand_seed, \n",
    "                         'inference_list': inference_list, 'randomized_list': randomized_list}, \n",
    "    'Simulation_Parameters': {'loc_param_list': loc_param_list, 'geo_param_list': geo_param_list, \n",
    "                              'loc_param_default': loc_param_default, 'geo_param_default': geo_param_default, \n",
    "                              'loc_param_range': loc_param_range, 'geo_param_range': geo_param_range, \n",
    "                              'loc_param_dist': loc_param_dist, 'geo_param_dist': geo_param_dist}\n",
    "}"
   ]
  },
  {
   "cell_type": "markdown",
   "id": "0b73f274",
   "metadata": {},
   "source": [
    "### Generate random samples"
   ]
  },
  {
   "cell_type": "code",
   "execution_count": 6,
   "id": "e2355df5",
   "metadata": {},
   "outputs": [],
   "source": [
    "rng = np.random.default_rng(rand_seed)\n",
    "\n",
    "def generator_dist(p_range: Union[List[float],Tuple[float],np.ndarray], dist_type: str, rng: np.random.Generator):\n",
    "    if dist_type == 'unif':\n",
    "        def generator(size=None):\n",
    "            return rng.uniform(low=p_range[0], high=p_range[1], size=size)\n",
    "    if dist_type == 'norm':\n",
    "        mu, sigma = range2norm(p_range[0], p_range[1], n_sigma=3)\n",
    "        def generator(size=None):\n",
    "            return rng.normal(loc=mu, scale=sigma, size=size)\n",
    "    if dist_type == 'logn':\n",
    "        mu, sigma = range2logn(p_range[0], p_range[1], n_sigma=3)\n",
    "        def generator(size=None):\n",
    "            return rng.lognormal(mean=mu, sigma=sigma, size=size)\n",
    "    return generator\n",
    "\n",
    "def generate_parameters(num: int, param_keys: List[str], param_default: List[float], \n",
    "                        param_range: List[Union[List[float],Tuple[float],np.ndarray]], param_dist: List[str]):\n",
    "    array_size = num\n",
    "    param_array = {}\n",
    "    for key in param_keys:\n",
    "        if key in randomized_list:\n",
    "            generator = generator_dist(param_range[key], param_dist[key], rng)\n",
    "            param_array[key] = generator(size=array_size)\n",
    "        else:\n",
    "            param_array[key] = np.full(array_size, param_default[key])\n",
    "    return param_array"
   ]
  },
  {
   "cell_type": "markdown",
   "id": "e36a85db",
   "metadata": {},
   "source": [
    "Location parameters"
   ]
  },
  {
   "cell_type": "code",
   "execution_count": 7,
   "id": "18536ad5",
   "metadata": {},
   "outputs": [],
   "source": [
    "loc_param_gen = loc_param_list.copy()\n",
    "if 'd' in randomized_list and 'theta' in randomized_list:\n",
    "    loc_param_gen[loc_param_gen.index('x')] = 'd'\n",
    "    loc_param_gen[loc_param_gen.index('z')] = 'theta'\n",
    "\n",
    "loc_param_samples = generate_parameters(number_samples, loc_param_gen, loc_param_default, loc_param_range, loc_param_dist)\n",
    "\n",
    "if 'd' in randomized_list and 'theta' in randomized_list:\n",
    "    loc_param_samples['x'], loc_param_samples['z'] = pol2cart(loc_param_samples['d'],loc_param_samples['theta'])\n",
    "\n",
    "loc_param = np.column_stack([loc_param_samples[key] for key in loc_param_list])"
   ]
  },
  {
   "cell_type": "markdown",
   "id": "04a24cde",
   "metadata": {},
   "source": [
    "Geometery parameters"
   ]
  },
  {
   "cell_type": "code",
   "execution_count": 8,
   "id": "debb9077",
   "metadata": {},
   "outputs": [],
   "source": [
    "geo_param_samples = generate_parameters(number_samples, geo_param_list, geo_param_default, geo_param_range, geo_param_dist)\n",
    "\n",
    "geo_param = np.column_stack([geo_param_samples[key] for key in geo_param_list])\n",
    "\n",
    "gmax = pred_gmax(geo_param_samples)"
   ]
  },
  {
   "cell_type": "markdown",
   "id": "981b461f",
   "metadata": {},
   "source": [
    "Get parameters to be inferred as labels"
   ]
  },
  {
   "cell_type": "code",
   "execution_count": 9,
   "id": "understanding-optimization",
   "metadata": {},
   "outputs": [
    {
     "name": "stdout",
     "output_type": "stream",
     "text": [
      "(5000, 6)\n",
      "(5000, 6)\n",
      "(5000, 8)\n"
     ]
    }
   ],
   "source": [
    "samples = {**geo_param_samples, **loc_param_samples}\n",
    "labels = np.column_stack([ samples[key] for key in inference_list ])\n",
    "rand_param = np.column_stack([ samples[key] for key in randomized_list[:-len(inference_list)] ])\n",
    "\n",
    "np.set_printoptions(suppress=True)\n",
    "print(loc_param.shape)\n",
    "print(geo_param.shape)\n",
    "print(labels.shape)"
   ]
  },
  {
   "cell_type": "markdown",
   "id": "c0b5fc33",
   "metadata": {},
   "source": [
    "### Create simulation and run"
   ]
  },
  {
   "cell_type": "code",
   "execution_count": 10,
   "id": "5aa9bd7d",
   "metadata": {},
   "outputs": [],
   "source": [
    "sim = Simulation(geometry = geo_standard, \n",
    "                 electrodes = params.ELECTRODE_POSITION, \n",
    "                 cell_type = CellTypes.ACTIVE, \n",
    "                 loc_param = loc_param, \n",
    "                 geo_param = geo_param,\n",
    "                 spike_threshold = -30, \n",
    "                 gmax = gmax, \n",
    "                 scale = 1., \n",
    "                 ncell = number_samples)\n",
    "\n",
    "sim.run_neuron_sim()"
   ]
  },
  {
   "cell_type": "markdown",
   "id": "38c2456c",
   "metadata": {},
   "source": [
    "Check invalid spiking cases"
   ]
  },
  {
   "cell_type": "code",
   "execution_count": 11,
   "id": "soviet-responsibility",
   "metadata": {},
   "outputs": [],
   "source": [
    "from matplotlib.figure import Figure\n",
    "from matplotlib.axes import Axes\n",
    "\n",
    "%matplotlib inline\n",
    "\n",
    "def plot_v(sim: Simulation, cell_idx: np.ndarray = None,\n",
    "           figsize: Union[List[float],Tuple[float]] = (6,2)) -> Tuple[Figure, Axes]:\n",
    "    if cell_idx is None:\n",
    "        cell_idx = np.arange(sim.ncell)\n",
    "    elif cell_idx.size == 0:\n",
    "        return\n",
    "    t = sim.t()\n",
    "    fig, axs = plt.subplots(nrows=cell_idx.size, ncols=1)\n",
    "    fig.set_size_inches(figsize[0],figsize[1]*cell_idx.size)\n",
    "    axs = np.asarray(axs).ravel()\n",
    "    for i, ax in enumerate(axs):\n",
    "        ax.plot(t, sim.v(cell_idx[i]), label=\"cell %d\" % (cell_idx[i]))\n",
    "        ax.set_ylabel('Vm (mV)')\n",
    "        ax.legend(loc=1)\n",
    "    axs[0].set_title('Membrane Voltage vs Time')\n",
    "    axs[-1].set_xlabel('Time (ms)')\n",
    "    plt.show()\n",
    "    return fig, axs\n",
    "\n",
    "def invalid_index(sim):\n",
    "    # index of valid spiking cells\n",
    "    nspk, tspk = sim.get_spike_number('all')\n",
    "    invalid = np.nonzero(nspk != 1)[0]\n",
    "    return invalid, tspk"
   ]
  },
  {
   "cell_type": "code",
   "execution_count": 12,
   "id": "2fad6520",
   "metadata": {},
   "outputs": [
    {
     "name": "stdout",
     "output_type": "stream",
     "text": [
      "Number of invalid samples: 0 out of 5000\n"
     ]
    }
   ],
   "source": [
    "invalid_idx, tspk = invalid_index(sim)\n",
    "print(\"Number of invalid samples: %d out of %d\" % (invalid_idx.size, number_samples))\n",
    "\n",
    "_ = plot_v(sim, cell_idx=invalid_idx)\n",
    "\n",
    "mem_volt = sim.v('all')"
   ]
  },
  {
   "cell_type": "markdown",
   "id": "c3bc9ba4",
   "metadata": {},
   "source": [
    "### Get LFPs"
   ]
  },
  {
   "cell_type": "markdown",
   "id": "cd8adbe1",
   "metadata": {},
   "source": [
    "Reshape LFP array. Filter each channel. Get window of spike for each sample."
   ]
  },
  {
   "cell_type": "code",
   "execution_count": 13,
   "id": "received-spectacular",
   "metadata": {},
   "outputs": [],
   "source": [
    "lfp = sim.get_lfp('all').transpose((0,2,1))  # (cells x channels x time) -> (cells x time x channels)\n",
    "\n",
    "filt_b, filt_a = signal.butter(params.BUTTERWORTH_ORDER,\n",
    "                              params.FILTER_CRITICAL_FREQUENCY,\n",
    "                              params.BANDFILTER_TYPE,\n",
    "                              fs=params.FILTER_SAMPLING_RATE)\n",
    "\n",
    "filtered_lfp = signal.lfilter(filt_b,filt_a,lfp,axis=1)  # filter along time axis\n",
    "\n",
    "pk_tr_idx_in_window = 16  # 16*0.025=0.4 ms\n",
    "lfp_list = []\n",
    "for i in range(number_samples):\n",
    "#     filtered_lfp[i] /= np.max(np.abs(filtered_lfp[i]))\n",
    "    fst_idx = first_pk_tr(filtered_lfp[i])\n",
    "    start, end = get_spike_window(filtered_lfp[i], win_size=params.WINDOW_SIZE, align_at=pk_tr_idx_in_window)\n",
    "    lfp_list.append(filtered_lfp[i,start:end,:])\n",
    "\n",
    "t = sim.t()[:params.WINDOW_SIZE]\n",
    "windowed_lfp = np.stack(lfp_list, axis=0)  # (samples x time window x channels)"
   ]
  },
  {
   "cell_type": "markdown",
   "id": "8b5fbb7b",
   "metadata": {},
   "source": [
    "### Save configurations and simulation data"
   ]
  },
  {
   "cell_type": "code",
   "execution_count": 14,
   "id": "12d4c2c7",
   "metadata": {},
   "outputs": [
    {
     "name": "stdout",
     "output_type": "stream",
     "text": [
      "The new data directory is created!\n",
      "The new trial directory is created!\n"
     ]
    }
   ],
   "source": [
    "DATA_PATH = 'cell_inference/resources/simulation_data'\n",
    "TRIAL_PATH = os.path.join(DATA_PATH, '5000s_Loc1y2Alt_Ori2_Geo3_params')\n",
    "\n",
    "TRIAL_CONFIG_PATH = os.path.join(TRIAL_PATH, 'config.json')  # trial configuration\n",
    "LFP_PATH = os.path.join(TRIAL_PATH, 'lfp')  # LFP and labels\n",
    "MEM_VOLT_PATH = os.path.join(TRIAL_PATH, 'mem_volt')  # membrane voltage and spike times\n",
    "\n",
    "if not os.path.exists(DATA_PATH):\n",
    "    os.makedirs(DATA_PATH)\n",
    "    print(\"The new data directory is created!\")\n",
    "\n",
    "if not os.path.exists(TRIAL_PATH):\n",
    "    os.makedirs(TRIAL_PATH)\n",
    "    print(\"The new trial directory is created!\")"
   ]
  },
  {
   "cell_type": "code",
   "execution_count": 15,
   "id": "5c80e756",
   "metadata": {},
   "outputs": [],
   "source": [
    "np.savez(LFP_PATH, t=t, x=windowed_lfp, y=labels, rand_param=rand_param, gmax=gmax)\n",
    "np.savez(MEM_VOLT_PATH, v=mem_volt, spk=tspk)\n",
    "with open(TRIAL_CONFIG_PATH, 'w') as fout:\n",
    "    json.dump(config_dict, fout, indent=2)"
   ]
  },
  {
   "cell_type": "markdown",
   "id": "pacific-marine",
   "metadata": {},
   "source": [
    "### Verify LFPs\n",
    "\n",
    "We hand compare the LFP plots generated by our data"
   ]
  },
  {
   "cell_type": "code",
   "execution_count": 16,
   "id": "suburban-webster",
   "metadata": {},
   "outputs": [
    {
     "data": {
      "image/png": "[encoded data removed]",
      "text/plain": [
       "<Figure size 432x288 with 2 Axes>"
      ]
     },
     "metadata": {
      "needs_background": "light"
     },
     "output_type": "display_data"
    },
    {
     "data": {
      "image/png": "[encoded data removed]",
      "text/plain": [
       "<Figure size 432x288 with 1 Axes>"
      ]
     },
     "metadata": {
      "needs_background": "light"
     },
     "output_type": "display_data"
    }
   ],
   "source": [
    "%matplotlib inline\n",
    "\n",
    "cell_idx = 0\n",
    "\n",
    "ix = 1\n",
    "ylim = [-1900,1900]\n",
    "x_dist = np.unique(params.ELECTRODE_POSITION[:,0])\n",
    "e_idx = ((params.ELECTRODE_POSITION[:,0]==x_dist[ix]) & \n",
    "         (params.ELECTRODE_POSITION[:,1]>=ylim[0]) & \n",
    "         (params.ELECTRODE_POSITION[:,1]<=ylim[1]))\n",
    "\n",
    "_ = plot_lfp_heatmap(t,params.ELECTRODE_POSITION[e_idx, 1],\n",
    "                              windowed_lfp[cell_idx][:,e_idx], vlim='auto',\n",
    "                              fontsize=15,labelpad=0,ticksize=10,nbins=5)\n",
    "\n",
    "_ = plot_lfp_traces(sim.t(), lfp[cell_idx])"
   ]
  },
  {
   "cell_type": "code",
   "execution_count": null,
   "id": "finnish-antigua",
   "metadata": {},
   "outputs": [],
   "source": []
  },
  {
   "cell_type": "code",
   "execution_count": null,
   "id": "appropriate-dining",
   "metadata": {},
   "outputs": [],
   "source": []
  },
  {
   "cell_type": "code",
   "execution_count": null,
   "id": "bulgarian-tonight",
   "metadata": {},
   "outputs": [],
   "source": []
  }
 ],
 "metadata": {
  "kernelspec": {
   "display_name": "Python 3",
   "language": "python",
   "name": "python3"
  },
  "language_info": {
   "codemirror_mode": {
    "name": "ipython",
    "version": 3
   },
   "file_extension": ".py",
   "mimetype": "text/x-python",
   "name": "python",
   "nbconvert_exporter": "python",
   "pygments_lexer": "ipython3",
   "version": "3.8.11"
  }
 },
 "nbformat": 4,
 "nbformat_minor": 5
}
