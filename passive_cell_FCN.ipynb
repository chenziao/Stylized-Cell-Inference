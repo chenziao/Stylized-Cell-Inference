{
 "cells": [
  {
   "cell_type": "code",
   "execution_count": 1,
   "metadata": {},
   "outputs": [],
   "source": [
    "%matplotlib inline\n",
    "\n",
    "\n",
    "from neuron import h\n",
    "import pandas as pd\n",
    "import numpy as np\n",
    "import matplotlib.pyplot as plt\n",
    "from scipy import signal\n",
    "import h5py\n",
    "\n",
    "from cell_inference.utils.plotting.plot_results import plot_lfp_traces, plot_lfp_heatmap\n",
    "from cell_inference.utils.feature_extractors.SummaryStats2D import calculate_stats, build_lfp_grid\n",
    "# from stylized_module.base.active_model_synapse_input import *\n",
    "from cell_inference.cells.stylizedcell import CellTypes\n",
    "from cell_inference.cells.activecell import ActiveCell\n",
    "from cell_inference.cells.passivecell import PassiveCell\n",
    "from cell_inference.cells.simulation import Simulation\n",
    "from cell_inference.utils.currents.recorder import Recorder\n",
    "from cell_inference.config import paths, params\n",
    "\n",
    "cell_type = CellTypes.PASSIVE\n",
    "\n",
    "h.nrn_load_dll(paths.COMPILED_LIBRARY)\n",
    "geo_standard = pd.read_csv(paths.GEO_STANDARD,index_col='id')\n",
    "h.tstop = params.TSTOP\n",
    "h.dt = params.DT"
   ]
  },
  {
   "cell_type": "code",
   "execution_count": 2,
   "metadata": {},
   "outputs": [
    {
     "name": "stdout",
     "output_type": "stream",
     "text": [
      "(1000, 6)\n",
      "(1000, 6)\n",
      "(1000, 1)\n"
     ]
    }
   ],
   "source": [
    "rng = np.random.default_rng(12345)\n",
    "#            x, y, z,  alpha, h,   phi\n",
    "loc_param = [0, 0, 50, 0,     1.0, 0.0]\n",
    "#           [r_s, l_t, r_t, r_d, r_tu, l_d] -> [6.0, 400.0, 0.5, 0.5, 0.5, 200.0]\n",
    "geo_param = [6.0,400.0,0.5,0.5,0.5,200.0]\n",
    "\n",
    "inf_list = ['l_t']\n",
    "number_samples = 1000\n",
    "\n",
    "xs = np.full((number_samples,1), 0.) if 'xs' not in inf_list else rng.uniform(low=-50, high=50, size=(number_samples,1))\n",
    "ys = np.full((number_samples,1), 0.) if 'ys' not in inf_list else rng.uniform(low=-2000, high=5000, size=(number_samples,1))\n",
    "zs = np.full((number_samples,1), 50.) if 'zs' not in inf_list else rng.uniform(low=-50, high=50, size=(number_samples,1))\n",
    "alphas = np.full((number_samples,1), 0.) if 'alphas' not in inf_list else rng.uniform(low=-(np.pi / 3), high=(np.pi / 3), size=(number_samples,1))\n",
    "hs = np.full((number_samples,1), 1.) if 'hs' not in inf_list else rng.uniform(low=-1., high=1., size=(number_samples,1))\n",
    "phis = np.full((number_samples,1), 0.) if 'phis' not in inf_list else rng.uniform(low=0, high=np.pi, size=(number_samples,1))\n",
    "loc_param = np.concatenate((xs, ys, zs, alphas, hs, phis), axis=1)\n",
    "\n",
    "r_s = np.full((number_samples,1), 6.0) if 'r_s' not in inf_list else rng.normal(loc=((np.log(3) + np.log(12)) / 2), scale=((np.log(12) - np.log(3)) / 6), size=(number_samples,1))\n",
    "l_t = np.full((number_samples,1), 400.0) if 'l_t' not in inf_list else rng.uniform(low=20., high=800., size=(number_samples,1))\n",
    "r_t = np.full((number_samples,1), 0.5) if 'r_t' not in inf_list else rng.normal(loc=((np.log(0.2) + np.log(1.0)) / 2), scale=((np.log(1.0) - np.log(0.2)) / 4), size=(number_samples,1))\n",
    "r_d = np.full((number_samples,1), 0.5) if 'r_d' not in inf_list else rng.normal(loc=((np.log(0.2) + np.log(1.0)) / 2), scale=((np.log(1.0) - np.log(0.2)) / 4), size=(number_samples,1))\n",
    "r_tu = np.full((number_samples,1), 0.5) if 'r_tu' not in inf_list else rng.normal(loc=((np.log(0.2) + np.log(1.0)) / 2), scale=((np.log(1.0) - np.log(0.2)) / 4), size=(number_samples,1))\n",
    "l_d = np.full((number_samples,1), 200.0) if 'l_d' not in inf_list else rng.normal(loc=((np.log(100) + np.log(300)) / 2), scale=((np.log(300) - np.log(100)) / 4), size=(number_samples,1))\n",
    "geo_param = np.concatenate((r_s, l_t, r_t, r_d, r_tu, l_d), axis=1)\n",
    "\n",
    "labels = l_t#np.concatenate((loc_param, geo_param), axis=1)\n",
    "np.set_printoptions(suppress=True)\n",
    "print(loc_param.shape)\n",
    "print(geo_param.shape)\n",
    "print(labels.shape)"
   ]
  },
  {
   "cell_type": "code",
   "execution_count": 3,
   "metadata": {},
   "outputs": [],
   "source": [
    "hf = h5py.File(paths.INVIVO_DATA_FILE, 'r')\n",
    "groundtruth_lfp = np.array(hf.get('data'))\n",
    "hf.close()\n",
    "\n",
    "if cell_type == CellTypes.ACTIVE:\n",
    "    sim = Simulation(geometry = geo_standard, \n",
    "                     electrodes = params.ELECTRODE_POSITION, \n",
    "                     cell_type = CellTypes.ACTIVE, \n",
    "                     loc_param = loc_param, \n",
    "                     geo_param = geo_param, \n",
    "                     gmax = .5, \n",
    "                     scale = 1., \n",
    "                     ncell = ncell)\n",
    "# sim = Simulation(geo_standard,params.ELECTRODE_POSITION,loc_param,geo_param=geo_param,gmax=.001,scale=1000, ncell=ncell)  # gmax 0.001 -0.012\n",
    "else:\n",
    "    maxIndx = np.argmax(np.absolute(groundtruth_lfp).max(axis=0))  # find maximum absolute value from averaged traces\n",
    "    maxTrace = -groundtruth_lfp[params.START_IDX:,maxIndx]\n",
    "    soma_injection = np.insert(maxTrace,0,0.)\n",
    "    soma_injection = np.asarray([s * params.SOMA_INJECT_SCALING_FACTOR for s in soma_injection])\n",
    "    sim = Simulation(geometry = geo_standard,\n",
    "                     electrodes = params.ELECTRODE_POSITION,\n",
    "                     cell_type = CellTypes.PASSIVE, \n",
    "                     loc_param = loc_param,\n",
    "                     geo_param = geo_param,\n",
    "                     soma_injection = soma_injection,\n",
    "                     ncell = number_samples) \n",
    "sec_list = sim.cells[0].all\n",
    "dend_v = Recorder([sec_list[5](0.1),sec_list[5](0.5),sec_list[5](0.9),sec_list[6](0.5)])"
   ]
  },
  {
   "cell_type": "code",
   "execution_count": 4,
   "metadata": {},
   "outputs": [],
   "source": [
    "lfp_list = []\n",
    "sim.run_neuron_sim()\n",
    "for i in range(number_samples):\n",
    "    lfp_list.append(sim.get_lfp(i).T)\n",
    "    lfp_list[-1] /= np.max(np.abs(lfp_list[-1]))\n",
    "    \n",
    "t = sim.t()\n",
    "# print(len(t))\n",
    "# print(np.stack(lfp_list, axis=-1).shape)"
   ]
  },
  {
   "cell_type": "code",
   "execution_count": 5,
   "metadata": {},
   "outputs": [
    {
     "name": "stdout",
     "output_type": "stream",
     "text": [
      "(1000, 801)\n"
     ]
    }
   ],
   "source": [
    "params.IM_Y_DISTANCE[240]\n",
    "data = np.transpose(np.squeeze(np.stack(lfp_list, axis=-1)[:,240,:]))\n",
    "print(data.shape)"
   ]
  },
  {
   "cell_type": "code",
   "execution_count": 6,
   "metadata": {},
   "outputs": [
    {
     "name": "stdout",
     "output_type": "stream",
     "text": [
      "(1000, 801)\n"
     ]
    }
   ],
   "source": [
    "from cell_inference.utils.feature_extractors.helperfunctions import train_regression, build_dataloader_from_numpy\n",
    "train_loader, test_loader = build_dataloader_from_numpy(input_arr=data, labels_arr=labels, batch_size=32)"
   ]
  },
  {
   "cell_type": "code",
   "execution_count": 7,
   "metadata": {},
   "outputs": [
    {
     "name": "stderr",
     "output_type": "stream",
     "text": [
      "  4%|▍         | 2/50 [00:00<00:03, 14.08it/s]"
     ]
    },
    {
     "name": "stdout",
     "output_type": "stream",
     "text": [
      "Training Loss: 2473670.654296875 Validation Loss: 261442.953125\n"
     ]
    },
    {
     "name": "stderr",
     "output_type": "stream",
     "text": [
      " 28%|██▊       | 14/50 [00:00<00:02, 15.34it/s]"
     ]
    },
    {
     "name": "stdout",
     "output_type": "stream",
     "text": [
      "Training Loss: 42252.71807861328 Validation Loss: 22243.795043945312\n"
     ]
    },
    {
     "name": "stderr",
     "output_type": "stream",
     "text": [
      " 48%|████▊     | 24/50 [00:01<00:01, 15.41it/s]"
     ]
    },
    {
     "name": "stdout",
     "output_type": "stream",
     "text": [
      "Training Loss: 33548.18994140625 Validation Loss: 10088.457092285156\n"
     ]
    },
    {
     "name": "stderr",
     "output_type": "stream",
     "text": [
      " 64%|██████▍   | 32/50 [00:02<00:01, 13.60it/s]"
     ]
    },
    {
     "name": "stdout",
     "output_type": "stream",
     "text": [
      "Training Loss: 27815.496215820312 Validation Loss: 8253.702514648438\n"
     ]
    },
    {
     "name": "stderr",
     "output_type": "stream",
     "text": [
      " 84%|████████▍ | 42/50 [00:02<00:00, 13.93it/s]"
     ]
    },
    {
     "name": "stdout",
     "output_type": "stream",
     "text": [
      "Training Loss: 28000.87744140625 Validation Loss: 8016.5672607421875\n"
     ]
    },
    {
     "name": "stderr",
     "output_type": "stream",
     "text": [
      "100%|██████████| 50/50 [00:03<00:00, 14.61it/s]\n"
     ]
    }
   ],
   "source": [
    "from cell_inference.utils.feature_extractors.fullyconnectednetwork import FullyConnectedNetwork, ActivationTypes\n",
    "import torch\n",
    "\n",
    "model1 = FullyConnectedNetwork(in_features=801, out_features=1)\n",
    "\n",
    "device = torch.device(\"cpu\") #torch.device(\"cuda:0\" if torch.cuda.is_available() else \"cpu\")\n",
    "model1.to(device)\n",
    "\n",
    "train_regression(model1, train_loader, test_loader, 50, learning_rate=0.05, device=device)"
   ]
  },
  {
   "cell_type": "code",
   "execution_count": 8,
   "metadata": {},
   "outputs": [
    {
     "name": "stdout",
     "output_type": "stream",
     "text": [
      "R2: 0.9714606345938461\n"
     ]
    }
   ],
   "source": [
    "from sklearn.metrics import r2_score\n",
    "x, y = next(iter(test_loader))\n",
    "model1.eval()\n",
    "x = x.to(device)\n",
    "output = model1(x)\n",
    "output = output.to(\"cpu\")\n",
    "y = y.to(\"cpu\")\n",
    "print(\"R2: {}\".format(r2_score(y.cpu().detach().numpy(), output.cpu().detach().numpy())))\n",
    "# print(output)\n",
    "# print(y)"
   ]
  },
  {
   "cell_type": "code",
   "execution_count": null,
   "metadata": {},
   "outputs": [],
   "source": []
  },
  {
   "cell_type": "code",
   "execution_count": null,
   "metadata": {},
   "outputs": [],
   "source": []
  }
 ],
 "metadata": {
  "kernelspec": {
   "display_name": "Python 3",
   "language": "python",
   "name": "python3"
  },
  "language_info": {
   "codemirror_mode": {
    "name": "ipython",
    "version": 3
   },
   "file_extension": ".py",
   "mimetype": "text/x-python",
   "name": "python",
   "nbconvert_exporter": "python",
   "pygments_lexer": "ipython3",
   "version": "3.8.11"
  }
 },
 "nbformat": 4,
 "nbformat_minor": 4
}
