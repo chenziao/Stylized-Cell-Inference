{
 "cells": [
  {
   "cell_type": "markdown",
   "metadata": {
    "pycharm": {
     "name": "#%% md\n"
    }
   },
   "source": [
    "## Initial Imports\n",
    "Loading Neuron files is annoying and will bug out if loaded twice, so it is loaded at the top to guarantee it will only run once."
   ]
  },
  {
   "cell_type": "code",
   "execution_count": 1,
   "metadata": {
    "pycharm": {
     "name": "#%%\n"
    }
   },
   "outputs": [],
   "source": [
    "from neuron import h\n",
    "from cell_inference.config import params, paths\n",
    "import pandas as pd\n",
    "\n",
    "h.load_file('stdrun.hoc')\n",
    "h.nrn_load_dll(paths.COMPILED_LIBRARY)\n",
    "geo_standard = pd.read_csv(paths.GEO_STANDARD, index_col='id')\n",
    "h.tstop = params.TSTOP\n",
    "h.dt = params.DT"
   ]
  },
  {
   "cell_type": "markdown",
   "metadata": {},
   "source": [
    "## Detailed Cell\n",
    "First we generate the LFP heatmap and summary stats for the Detailed Cell Example. We have the detailed cell parameters specified and run via bmtk in another repository (detailed-single-cell). Therefore, we simply load the .h5 file containing the recorded LFP and generate summary stats from it to compare directly with the stylized model.\n",
    "\n",
    "The detailed cell parameters are (Parameters marked with ^ are estimations, will be confirmed later):\n",
    "\n",
    "| Model Number | $y$   | $d$  | $\\theta$        | $h$                       | $\\varphi$ | $r_s$ | $\\ell_t$ | $r_t$ | $\\ell_d$ |\n",
    "|--------------|-------|------|-----------------|---------------------------|-----------|-------|----------|-------|----------|\n",
    "| 497229089    | 350.0 | 80.0 | $\\frac{\\pi}{2}$ | 0.0, $\\frac{\\pi}{4}$, 1.0 | 0.0       | 8.0^  | 200.0^   | 1.25^ | 200.0^   |\n",
    "| 496930324    | 350.0 | 80.0 | $\\frac{\\pi}{2}$ | 0.0, $\\frac{\\pi}{4}$, 1.0 | 0.0       | 8.0^  | 400.0^   | 1.25^ | 200.0^   |"
   ]
  },
  {
   "cell_type": "code",
   "execution_count": 2,
   "metadata": {
    "pycharm": {
     "name": "#%%\n"
    }
   },
   "outputs": [
    {
     "data": {
      "text/plain": "   Summary Stat 0  Summary Stat 1  Summary Stat 2  Summary Stat 3  \\\n0       -0.000040        0.000107             3.0            31.0   \n1       -0.000007        0.000068             2.0            30.0   \n2        0.000032        0.000068             1.0            23.0   \n3        0.000003        0.000011             2.0            26.0   \n4        0.000006        0.000019             1.0            24.0   \n5        0.000011        0.000021             2.0            24.0   \n\n   Summary Stat 4  Summary Stat 5  Summary Stat 6  Summary Stat 7  \\\n0        0.000021             0.0            24.0       -0.000606   \n1        0.000139             0.0            24.0       -0.000240   \n2        0.000234             0.0            16.0       -0.000043   \n3        0.000033             0.0            24.0       -0.000059   \n4        0.000069             0.0            19.0       -0.000033   \n5        0.000085             0.0            14.0       -0.000005   \n\n   Summary Stat 8  Summary Stat 9  ...  Summary Stat 30  Summary Stat 31  \\\n0      -35.433673       84.729947  ...         0.001144             16.0   \n1      -27.755102       82.903935  ...         0.000505             16.0   \n2      -23.729592       63.358660  ...         0.000847             16.0   \n3       37.811224       41.020777  ...         0.000282             16.0   \n4       51.433673       49.333214  ...         0.000364             16.0   \n5       20.005102       78.931222  ...         0.000463             16.0   \n\n   Summary Stat 32  Summary Stat 33  Summary Stat 34  Summary Stat 35  \\\n0             56.0            130.0             22.0             28.0   \n1             42.0            117.0             21.0             27.0   \n2             34.0             68.0             20.0             27.0   \n3             33.0             78.0             21.0             25.0   \n4             42.0             79.0             21.0             28.0   \n5             38.0             78.0             21.0             27.0   \n\n   Summary Stat 36  Summary Stat 37  Summary Stat 38  Summary Stat 39  \n0             22.0             26.0             33.0             27.0  \n1             21.0             26.0             31.0             26.0  \n2             20.0             28.0             22.0             27.0  \n3             22.0             26.0             32.0             22.0  \n4             21.0             28.0             26.0             21.0  \n5             21.0             28.0             25.0             21.0  \n\n[6 rows x 40 columns]",
      "text/html": "<div>\n<style scoped>\n    .dataframe tbody tr th:only-of-type {\n        vertical-align: middle;\n    }\n\n    .dataframe tbody tr th {\n        vertical-align: top;\n    }\n\n    .dataframe thead th {\n        text-align: right;\n    }\n</style>\n<table border=\"1\" class=\"dataframe\">\n  <thead>\n    <tr style=\"text-align: right;\">\n      <th></th>\n      <th>Summary Stat 0</th>\n      <th>Summary Stat 1</th>\n      <th>Summary Stat 2</th>\n      <th>Summary Stat 3</th>\n      <th>Summary Stat 4</th>\n      <th>Summary Stat 5</th>\n      <th>Summary Stat 6</th>\n      <th>Summary Stat 7</th>\n      <th>Summary Stat 8</th>\n      <th>Summary Stat 9</th>\n      <th>...</th>\n      <th>Summary Stat 30</th>\n      <th>Summary Stat 31</th>\n      <th>Summary Stat 32</th>\n      <th>Summary Stat 33</th>\n      <th>Summary Stat 34</th>\n      <th>Summary Stat 35</th>\n      <th>Summary Stat 36</th>\n      <th>Summary Stat 37</th>\n      <th>Summary Stat 38</th>\n      <th>Summary Stat 39</th>\n    </tr>\n  </thead>\n  <tbody>\n    <tr>\n      <th>0</th>\n      <td>-0.000040</td>\n      <td>0.000107</td>\n      <td>3.0</td>\n      <td>31.0</td>\n      <td>0.000021</td>\n      <td>0.0</td>\n      <td>24.0</td>\n      <td>-0.000606</td>\n      <td>-35.433673</td>\n      <td>84.729947</td>\n      <td>...</td>\n      <td>0.001144</td>\n      <td>16.0</td>\n      <td>56.0</td>\n      <td>130.0</td>\n      <td>22.0</td>\n      <td>28.0</td>\n      <td>22.0</td>\n      <td>26.0</td>\n      <td>33.0</td>\n      <td>27.0</td>\n    </tr>\n    <tr>\n      <th>1</th>\n      <td>-0.000007</td>\n      <td>0.000068</td>\n      <td>2.0</td>\n      <td>30.0</td>\n      <td>0.000139</td>\n      <td>0.0</td>\n      <td>24.0</td>\n      <td>-0.000240</td>\n      <td>-27.755102</td>\n      <td>82.903935</td>\n      <td>...</td>\n      <td>0.000505</td>\n      <td>16.0</td>\n      <td>42.0</td>\n      <td>117.0</td>\n      <td>21.0</td>\n      <td>27.0</td>\n      <td>21.0</td>\n      <td>26.0</td>\n      <td>31.0</td>\n      <td>26.0</td>\n    </tr>\n    <tr>\n      <th>2</th>\n      <td>0.000032</td>\n      <td>0.000068</td>\n      <td>1.0</td>\n      <td>23.0</td>\n      <td>0.000234</td>\n      <td>0.0</td>\n      <td>16.0</td>\n      <td>-0.000043</td>\n      <td>-23.729592</td>\n      <td>63.358660</td>\n      <td>...</td>\n      <td>0.000847</td>\n      <td>16.0</td>\n      <td>34.0</td>\n      <td>68.0</td>\n      <td>20.0</td>\n      <td>27.0</td>\n      <td>20.0</td>\n      <td>28.0</td>\n      <td>22.0</td>\n      <td>27.0</td>\n    </tr>\n    <tr>\n      <th>3</th>\n      <td>0.000003</td>\n      <td>0.000011</td>\n      <td>2.0</td>\n      <td>26.0</td>\n      <td>0.000033</td>\n      <td>0.0</td>\n      <td>24.0</td>\n      <td>-0.000059</td>\n      <td>37.811224</td>\n      <td>41.020777</td>\n      <td>...</td>\n      <td>0.000282</td>\n      <td>16.0</td>\n      <td>33.0</td>\n      <td>78.0</td>\n      <td>21.0</td>\n      <td>25.0</td>\n      <td>22.0</td>\n      <td>26.0</td>\n      <td>32.0</td>\n      <td>22.0</td>\n    </tr>\n    <tr>\n      <th>4</th>\n      <td>0.000006</td>\n      <td>0.000019</td>\n      <td>1.0</td>\n      <td>24.0</td>\n      <td>0.000069</td>\n      <td>0.0</td>\n      <td>19.0</td>\n      <td>-0.000033</td>\n      <td>51.433673</td>\n      <td>49.333214</td>\n      <td>...</td>\n      <td>0.000364</td>\n      <td>16.0</td>\n      <td>42.0</td>\n      <td>79.0</td>\n      <td>21.0</td>\n      <td>28.0</td>\n      <td>21.0</td>\n      <td>28.0</td>\n      <td>26.0</td>\n      <td>21.0</td>\n    </tr>\n    <tr>\n      <th>5</th>\n      <td>0.000011</td>\n      <td>0.000021</td>\n      <td>2.0</td>\n      <td>24.0</td>\n      <td>0.000085</td>\n      <td>0.0</td>\n      <td>14.0</td>\n      <td>-0.000005</td>\n      <td>20.005102</td>\n      <td>78.931222</td>\n      <td>...</td>\n      <td>0.000463</td>\n      <td>16.0</td>\n      <td>38.0</td>\n      <td>78.0</td>\n      <td>21.0</td>\n      <td>27.0</td>\n      <td>21.0</td>\n      <td>28.0</td>\n      <td>25.0</td>\n      <td>21.0</td>\n    </tr>\n  </tbody>\n</table>\n<p>6 rows × 40 columns</p>\n</div>"
     },
     "execution_count": 2,
     "metadata": {},
     "output_type": "execute_result"
    }
   ],
   "source": [
    "from cell_inference.utils.feature_extractors.SummaryStats2D import build_lfp_grid, calculate_stats\n",
    "from cell_inference.utils.spike_window import first_pk_tr, get_spike_window\n",
    "import os\n",
    "import h5py\n",
    "import numpy as np\n",
    "\n",
    "DATA_PATH = 'cell_inference/resources/invivo'\n",
    "COORDS_PATH = os.path.join('cell_inference/resources', 'Electrode2D.h5')\n",
    "\n",
    "detailed_cells = [\n",
    "    os.path.join(DATA_PATH, 'neuronal_model_497229089_h0.0.h5'),\n",
    "    os.path.join(DATA_PATH, 'neuronal_model_497229089_h0.7071.h5'),\n",
    "    os.path.join(DATA_PATH, 'neuronal_model_497229089_h1.0.h5'),\n",
    "    os.path.join(DATA_PATH, 'neuronal_model_496930324_h0.0.h5'),\n",
    "    os.path.join(DATA_PATH, 'neuronal_model_496930324_h0.7071.h5'),\n",
    "    os.path.join(DATA_PATH, 'neuronal_model_496930324_h1.0.h5')\n",
    "]\n",
    "\n",
    "pk_tr_idx_in_window = 16  # 16*0.025=0.4 ms\n",
    "data = []\n",
    "bad_indices = []\n",
    "summ_stats = []\n",
    "y_pos = []\n",
    "coordinates = []\n",
    "\n",
    "for i, sample in enumerate(detailed_cells):\n",
    "    with h5py.File(sample, \"r\") as f:\n",
    "        #     c = f['coord'][:]\n",
    "        lfp = f['data'][:].reshape((-1, 384))\n",
    "\n",
    "    fst_idx = first_pk_tr(lfp)\n",
    "    start, end = get_spike_window(lfp, win_size=params.WINDOW_SIZE, align_at=pk_tr_idx_in_window)\n",
    "    try:\n",
    "        g_lfp, g_coords, y_i = build_lfp_grid(lfp[start:end,:], params.ELECTRODE_POSITION[:, :2], y_window_size=960.0)\n",
    "    except ValueError:\n",
    "        bad_indices.append(i)\n",
    "        continue\n",
    "    summ_stats.append(calculate_stats(g_lfp))\n",
    "    y_pos.append(y_i)\n",
    "    coordinates.append(g_coords)\n",
    "    data.append(pd.DataFrame(data=g_lfp, columns=list(['Condensed Channel {}'.format(i) for i in range(196)])))  # time x channels\n",
    "\n",
    "# ids = np.delete(ids, bad_indices, axis=0)\n",
    "coordinates = np.stack(coordinates, axis=0)\n",
    "summ_stats = pd.DataFrame(data=np.array(summ_stats), columns=list(['Summary Stat {}'.format(i) for i in range(40)]))\n",
    "y_pos = np.stack(y_pos, axis=0)\n",
    "summ_stats"
   ]
  },
  {
   "cell_type": "markdown",
   "metadata": {
    "pycharm": {
     "name": "#%% md\n"
    }
   },
   "source": [
    "## Stylized Cell\n",
    "Next we rebuild and simulate the stylized cell model. The parameters are set to the same as the detailed model."
   ]
  },
  {
   "cell_type": "code",
   "execution_count": 3,
   "metadata": {
    "pycharm": {
     "name": "#%%\n"
    }
   },
   "outputs": [],
   "source": [
    "from scipy.interpolate import LinearNDInterpolator\n",
    "from cell_inference.utils.transform.geometry_transformation import cart2pol\n",
    "from typing import Dict\n",
    "\n",
    "loc_param_list = ['x','y','z','alpha','h','phi']\n",
    "geo_param_list = ['r_s', 'l_t', 'r_t', 'r_d', 'r_tu','l_d']\n",
    "\n",
    "loc_param_default = {'x': 0., 'y': 350., 'z': 80.,\n",
    "                     'alpha': np.pi / 4, 'h': 1., 'phi': 0.,\n",
    "                     'd': (cart2pol(0, 50))[0], 'theta': (cart2pol(0, 50))[1]\n",
    "                     }\n",
    "\n",
    "geo_param_default = {'r_s': 8., 'l_t': 200., 'r_t': 1.25,\n",
    "                     'r_d': .28, 'r_tu': .28, 'l_d': 200.\n",
    "                     }\n",
    "\n",
    "gmax_mapping = h5py.File(paths.GMAX_MAPPING, 'r')\n",
    "\n",
    "geo_list = [geo_param_list[idx] for idx in gmax_mapping['settings/geo_index']]\n",
    "squared_soma_radius = gmax_mapping['mapping'].attrs['squared_soma_radius']\n",
    "\n",
    "# Use linear interpolation\n",
    "gmax_interp = LinearNDInterpolator(gmax_mapping['mapping/geometry'][()], gmax_mapping['mapping/gmax'][()])\n",
    "\n",
    "gmax_mapping.close()\n",
    "\n",
    "def pred_gmax(geo_samples: Dict):\n",
    "    geo = []\n",
    "    for key in geo_list:\n",
    "        if squared_soma_radius and key == 'r_s':\n",
    "            geo.append(geo_samples[key]**2)\n",
    "        else:\n",
    "            geo.append(geo_samples[key])\n",
    "    gmax = gmax_interp(np.column_stack(geo))\n",
    "    #     gmax = clf.predict(np.column_stack(geo))\n",
    "    return gmax\n",
    "\n",
    "gmax = pred_gmax(geo_param_default)\n",
    "\n",
    "# loc_params = np.array([[0., 350., 80., np.pi / 4, 0.0000,0.],\n",
    "#                        [0., 350., 80., np.pi / 4, 0.7071,0.],\n",
    "#                        [0., 350., 80., np.pi / 4, 1.0000,0.],\n",
    "#                        [0., 350., 80., np.pi / 4, 0.0000,0.],\n",
    "#                        [0., 350., 80., np.pi / 4, 0.7071,0.],\n",
    "#                        [0., 350., 80., np.pi / 4, 1.0000,0.]])\n",
    "\n",
    "\n",
    "\"\"\"\n",
    " |\n",
    "-o-\n",
    " |\n",
    " _\n",
    "\"\"\"\n",
    "\n",
    "# Plot morphology and find position where cell touches electrode 4.11.22\n",
    "loc_params = np.array([[0., 350., 150., 0.00000000, 0.7071,0.],\n",
    "                       [0., 350., 150., np.pi / 12, 0.7071,0.],\n",
    "                       [0., 350., 150., np.pi / 10, 0.7071,0.],\n",
    "                       [0., 350., 150., np.pi /  8, 0.7071,0.],\n",
    "                       [0., 350., 150., np.pi /  6, 0.7071,0.],\n",
    "                       [0., 350., 150., np.pi /  4, 0.7071,0.]])\n",
    "\n",
    "geo_params = np.array([[8., 200., 1.25, 1.28, .28, 200.],\n",
    "                       [8., 200., 1.25, 1.28, .28, 200.],\n",
    "                       [8., 200., 1.25, 1.28, .28, 200.],\n",
    "                       [8., 400., 1.25, 1.28, .28, 200.],\n",
    "                       [8., 400., 1.25, 1.28, .28, 200.],\n",
    "                       [8., 400., 1.25, 1.28, .28, 200.]])\n",
    "\n",
    "# loc_params = np.tile(np.fromiter(loc_param_default.values(), dtype=float), (6,1))\n",
    "# geo_params = np.tile(np.fromiter(geo_param_default.values(), dtype=float), (6,1))\n",
    "gmax = np.tile(gmax, (6,1))"
   ]
  },
  {
   "cell_type": "code",
   "execution_count": 4,
   "metadata": {
    "pycharm": {
     "name": "#%%\n"
    }
   },
   "outputs": [
    {
     "name": "stderr",
     "output_type": "stream",
     "text": [
      "/home/matt/PycharmProjects/Stylized-Cell-Inference/cell_inference/cells/activecell.py:103: UserWarning: Error: NaV not found in <cell_inference.cells.activecell.ActiveCell object at 0x7f8985e2bc70>.soma\n",
      "  warnings.warn(\"Error: {} not found in {}\".format(entry[1], sec))\n",
      "/home/matt/PycharmProjects/Stylized-Cell-Inference/cell_inference/cells/activecell.py:103: UserWarning: Error: NaV not found in <cell_inference.cells.activecell.ActiveCell object at 0x7f8985e2bc70>.basal\n",
      "  warnings.warn(\"Error: {} not found in {}\".format(entry[1], sec))\n",
      "/home/matt/PycharmProjects/Stylized-Cell-Inference/cell_inference/cells/activecell.py:103: UserWarning: Error: NaV not found in <cell_inference.cells.activecell.ActiveCell object at 0x7f8985e2bc70>.apical\n",
      "  warnings.warn(\"Error: {} not found in {}\".format(entry[1], sec))\n",
      "/home/matt/PycharmProjects/Stylized-Cell-Inference/cell_inference/cells/activecell.py:103: UserWarning: Error: NaV not found in <cell_inference.cells.activecell.ActiveCell object at 0x7f8985e2bc70>.trunk\n",
      "  warnings.warn(\"Error: {} not found in {}\".format(entry[1], sec))\n",
      "/home/matt/PycharmProjects/Stylized-Cell-Inference/cell_inference/cells/activecell.py:103: UserWarning: Error: NaV not found in <cell_inference.cells.activecell.ActiveCell object at 0x7f8985e2bc70>.tuft\n",
      "  warnings.warn(\"Error: {} not found in {}\".format(entry[1], sec))\n",
      "/home/matt/PycharmProjects/Stylized-Cell-Inference/cell_inference/cells/activecell.py:103: UserWarning: Error: Kv3 not found in <cell_inference.cells.activecell.ActiveCell object at 0x7f8985e2bc70>.soma\n",
      "  warnings.warn(\"Error: {} not found in {}\".format(entry[1], sec))\n"
     ]
    },
    {
     "ename": "IndexError",
     "evalue": "index 7 is out of bounds for axis 0 with size 7",
     "output_type": "error",
     "traceback": [
      "\u001B[0;31m---------------------------------------------------------------------------\u001B[0m",
      "\u001B[0;31mIndexError\u001B[0m                                Traceback (most recent call last)",
      "\u001B[0;32m<ipython-input-4-6a9a167a39e5>\u001B[0m in \u001B[0;36m<module>\u001B[0;34m\u001B[0m\n\u001B[1;32m      2\u001B[0m \u001B[0;32mfrom\u001B[0m \u001B[0mcell_inference\u001B[0m\u001B[0;34m.\u001B[0m\u001B[0mcells\u001B[0m\u001B[0;34m.\u001B[0m\u001B[0mstylizedcell\u001B[0m \u001B[0;32mimport\u001B[0m \u001B[0mCellTypes\u001B[0m\u001B[0;34m\u001B[0m\u001B[0;34m\u001B[0m\u001B[0m\n\u001B[1;32m      3\u001B[0m \u001B[0;34m\u001B[0m\u001B[0m\n\u001B[0;32m----> 4\u001B[0;31m sim = Simulation(geometry = geo_standard,\n\u001B[0m\u001B[1;32m      5\u001B[0m                  \u001B[0melectrodes\u001B[0m \u001B[0;34m=\u001B[0m \u001B[0mparams\u001B[0m\u001B[0;34m.\u001B[0m\u001B[0mELECTRODE_POSITION\u001B[0m\u001B[0;34m,\u001B[0m\u001B[0;34m\u001B[0m\u001B[0;34m\u001B[0m\u001B[0m\n\u001B[1;32m      6\u001B[0m                  \u001B[0mcell_type\u001B[0m \u001B[0;34m=\u001B[0m \u001B[0mCellTypes\u001B[0m\u001B[0;34m.\u001B[0m\u001B[0mACTIVE\u001B[0m\u001B[0;34m,\u001B[0m\u001B[0;34m\u001B[0m\u001B[0;34m\u001B[0m\u001B[0m\n",
      "\u001B[0;32m~/PycharmProjects/Stylized-Cell-Inference/cell_inference/cells/simulation.py\u001B[0m in \u001B[0;36m__init__\u001B[0;34m(self, geometry, cell_type, electrodes, loc_param, geo_param, biophys, spike_threshold, gmax, soma_injection, scale, ncell)\u001B[0m\n\u001B[1;32m     83\u001B[0m             \u001B[0mself\u001B[0m\u001B[0;34m.\u001B[0m\u001B[0mstim\u001B[0m \u001B[0;34m=\u001B[0m \u001B[0mself\u001B[0m\u001B[0;34m.\u001B[0m\u001B[0m__create_netstim\u001B[0m\u001B[0;34m(\u001B[0m\u001B[0;34m)\u001B[0m\u001B[0;34m\u001B[0m\u001B[0;34m\u001B[0m\u001B[0m\n\u001B[1;32m     84\u001B[0m \u001B[0;34m\u001B[0m\u001B[0m\n\u001B[0;32m---> 85\u001B[0;31m         \u001B[0mself\u001B[0m\u001B[0;34m.\u001B[0m\u001B[0m__create_cells\u001B[0m\u001B[0;34m(\u001B[0m\u001B[0mcell_type\u001B[0m\u001B[0;34m=\u001B[0m\u001B[0mcell_type\u001B[0m\u001B[0;34m)\u001B[0m  \u001B[0;31m# create cell objects with properties set up\u001B[0m\u001B[0;34m\u001B[0m\u001B[0;34m\u001B[0m\u001B[0m\n\u001B[0m\u001B[1;32m     86\u001B[0m         \u001B[0mself\u001B[0m\u001B[0;34m.\u001B[0m\u001B[0mt_vec\u001B[0m \u001B[0;34m=\u001B[0m \u001B[0mh\u001B[0m\u001B[0;34m.\u001B[0m\u001B[0mVector\u001B[0m\u001B[0;34m(\u001B[0m\u001B[0mround\u001B[0m\u001B[0;34m(\u001B[0m\u001B[0mh\u001B[0m\u001B[0;34m.\u001B[0m\u001B[0mtstop\u001B[0m \u001B[0;34m/\u001B[0m \u001B[0mh\u001B[0m\u001B[0;34m.\u001B[0m\u001B[0mdt\u001B[0m\u001B[0;34m)\u001B[0m \u001B[0;34m+\u001B[0m \u001B[0;36m1\u001B[0m\u001B[0;34m)\u001B[0m\u001B[0;34m.\u001B[0m\u001B[0mrecord\u001B[0m\u001B[0;34m(\u001B[0m\u001B[0mh\u001B[0m\u001B[0;34m.\u001B[0m\u001B[0m_ref_t\u001B[0m\u001B[0;34m)\u001B[0m  \u001B[0;31m# record time\u001B[0m\u001B[0;34m\u001B[0m\u001B[0;34m\u001B[0m\u001B[0m\n\u001B[1;32m     87\u001B[0m         \u001B[0mself\u001B[0m\u001B[0;34m.\u001B[0m\u001B[0mspike_threshold\u001B[0m \u001B[0;34m=\u001B[0m \u001B[0;32mNone\u001B[0m\u001B[0;34m\u001B[0m\u001B[0;34m\u001B[0m\u001B[0m\n",
      "\u001B[0;32m~/PycharmProjects/Stylized-Cell-Inference/cell_inference/cells/simulation.py\u001B[0m in \u001B[0;36m__create_cells\u001B[0;34m(self, min_dist, cell_type)\u001B[0m\n\u001B[1;32m    108\u001B[0m             \u001B[0mgeometry\u001B[0m \u001B[0;34m=\u001B[0m \u001B[0mself\u001B[0m\u001B[0;34m.\u001B[0m\u001B[0mset_geometry\u001B[0m\u001B[0;34m(\u001B[0m\u001B[0mself\u001B[0m\u001B[0;34m.\u001B[0m\u001B[0mgeometry\u001B[0m\u001B[0;34m,\u001B[0m \u001B[0mself\u001B[0m\u001B[0;34m.\u001B[0m\u001B[0mgeo_param\u001B[0m\u001B[0;34m[\u001B[0m\u001B[0mi\u001B[0m\u001B[0;34m,\u001B[0m \u001B[0;34m:\u001B[0m\u001B[0;34m]\u001B[0m\u001B[0;34m)\u001B[0m\u001B[0;34m\u001B[0m\u001B[0;34m\u001B[0m\u001B[0m\n\u001B[1;32m    109\u001B[0m             \u001B[0;32mif\u001B[0m \u001B[0mcell_type\u001B[0m \u001B[0;34m==\u001B[0m \u001B[0mCellTypes\u001B[0m\u001B[0;34m.\u001B[0m\u001B[0mACTIVE\u001B[0m\u001B[0;34m:\u001B[0m\u001B[0;34m\u001B[0m\u001B[0;34m\u001B[0m\u001B[0m\n\u001B[0;32m--> 110\u001B[0;31m                 \u001B[0mself\u001B[0m\u001B[0;34m.\u001B[0m\u001B[0mcells\u001B[0m\u001B[0;34m.\u001B[0m\u001B[0mappend\u001B[0m\u001B[0;34m(\u001B[0m\u001B[0mActiveCell\u001B[0m\u001B[0;34m(\u001B[0m\u001B[0mgeometry\u001B[0m\u001B[0;34m=\u001B[0m\u001B[0mgeometry\u001B[0m\u001B[0;34m,\u001B[0m \u001B[0mbiophys\u001B[0m\u001B[0;34m=\u001B[0m\u001B[0mself\u001B[0m\u001B[0;34m.\u001B[0m\u001B[0mbiophys\u001B[0m\u001B[0;34m[\u001B[0m\u001B[0mi\u001B[0m\u001B[0;34m,\u001B[0m \u001B[0;34m:\u001B[0m\u001B[0;34m]\u001B[0m\u001B[0;34m)\u001B[0m\u001B[0;34m)\u001B[0m\u001B[0;34m\u001B[0m\u001B[0;34m\u001B[0m\u001B[0m\n\u001B[0m\u001B[1;32m    111\u001B[0m             \u001B[0;32melse\u001B[0m\u001B[0;34m:\u001B[0m\u001B[0;34m\u001B[0m\u001B[0;34m\u001B[0m\u001B[0m\n\u001B[1;32m    112\u001B[0m                 \u001B[0mself\u001B[0m\u001B[0;34m.\u001B[0m\u001B[0mcells\u001B[0m\u001B[0;34m.\u001B[0m\u001B[0mappend\u001B[0m\u001B[0;34m(\u001B[0m\u001B[0mPassiveCell\u001B[0m\u001B[0;34m(\u001B[0m\u001B[0mgeometry\u001B[0m\u001B[0;34m=\u001B[0m\u001B[0mgeometry\u001B[0m\u001B[0;34m)\u001B[0m\u001B[0;34m)\u001B[0m\u001B[0;34m\u001B[0m\u001B[0;34m\u001B[0m\u001B[0m\n",
      "\u001B[0;32m~/PycharmProjects/Stylized-Cell-Inference/cell_inference/cells/activecell.py\u001B[0m in \u001B[0;36m__init__\u001B[0;34m(self, geometry, biophys, **kwargs)\u001B[0m\n\u001B[1;32m     36\u001B[0m         ]\n\u001B[1;32m     37\u001B[0m \u001B[0;34m\u001B[0m\u001B[0m\n\u001B[0;32m---> 38\u001B[0;31m         \u001B[0msuper\u001B[0m\u001B[0;34m(\u001B[0m\u001B[0mActiveCell\u001B[0m\u001B[0;34m,\u001B[0m \u001B[0mself\u001B[0m\u001B[0;34m)\u001B[0m\u001B[0;34m.\u001B[0m\u001B[0m__init__\u001B[0m\u001B[0;34m(\u001B[0m\u001B[0mgeometry\u001B[0m\u001B[0;34m,\u001B[0m \u001B[0;34m**\u001B[0m\u001B[0mkwargs\u001B[0m\u001B[0;34m)\u001B[0m\u001B[0;34m\u001B[0m\u001B[0;34m\u001B[0m\u001B[0m\n\u001B[0m\u001B[1;32m     39\u001B[0m         \u001B[0mself\u001B[0m\u001B[0;34m.\u001B[0m\u001B[0mv_rec\u001B[0m \u001B[0;34m=\u001B[0m \u001B[0mself\u001B[0m\u001B[0;34m.\u001B[0m\u001B[0m__record_soma_v\u001B[0m\u001B[0;34m(\u001B[0m\u001B[0;34m)\u001B[0m\u001B[0;34m\u001B[0m\u001B[0;34m\u001B[0m\u001B[0m\n\u001B[1;32m     40\u001B[0m \u001B[0;34m\u001B[0m\u001B[0m\n",
      "\u001B[0;32m~/PycharmProjects/Stylized-Cell-Inference/cell_inference/cells/stylizedcell.py\u001B[0m in \u001B[0;36m__init__\u001B[0;34m(self, geometry, dl, vrest, nbranch, record_spike)\u001B[0m\n\u001B[1;32m     49\u001B[0m         \u001B[0mself\u001B[0m\u001B[0;34m.\u001B[0m\u001B[0msoma\u001B[0m \u001B[0;34m=\u001B[0m \u001B[0;32mNone\u001B[0m\u001B[0;34m\u001B[0m\u001B[0;34m\u001B[0m\u001B[0m\n\u001B[1;32m     50\u001B[0m         \u001B[0mself\u001B[0m\u001B[0;34m.\u001B[0m\u001B[0mset_geometry\u001B[0m\u001B[0;34m(\u001B[0m\u001B[0mgeometry\u001B[0m\u001B[0;34m)\u001B[0m\u001B[0;34m\u001B[0m\u001B[0;34m\u001B[0m\u001B[0m\n\u001B[0;32m---> 51\u001B[0;31m         \u001B[0mself\u001B[0m\u001B[0;34m.\u001B[0m\u001B[0m__setup_all\u001B[0m\u001B[0;34m(\u001B[0m\u001B[0;34m)\u001B[0m\u001B[0;34m\u001B[0m\u001B[0;34m\u001B[0m\u001B[0m\n\u001B[0m\u001B[1;32m     52\u001B[0m         \u001B[0mself\u001B[0m\u001B[0;34m.\u001B[0m\u001B[0mseg_coords\u001B[0m \u001B[0;34m=\u001B[0m \u001B[0mself\u001B[0m\u001B[0;34m.\u001B[0m\u001B[0m__calc_seg_coords\u001B[0m\u001B[0;34m(\u001B[0m\u001B[0;34m)\u001B[0m\u001B[0;34m\u001B[0m\u001B[0;34m\u001B[0m\u001B[0m\n\u001B[1;32m     53\u001B[0m \u001B[0;34m\u001B[0m\u001B[0m\n",
      "\u001B[0;32m~/PycharmProjects/Stylized-Cell-Inference/cell_inference/cells/stylizedcell.py\u001B[0m in \u001B[0;36m__setup_all\u001B[0;34m(self)\u001B[0m\n\u001B[1;32m     70\u001B[0m         \u001B[0;32mif\u001B[0m \u001B[0mself\u001B[0m\u001B[0;34m.\u001B[0m\u001B[0mgeometry\u001B[0m \u001B[0;32mis\u001B[0m \u001B[0;32mnot\u001B[0m \u001B[0;32mNone\u001B[0m\u001B[0;34m:\u001B[0m\u001B[0;34m\u001B[0m\u001B[0;34m\u001B[0m\u001B[0m\n\u001B[1;32m     71\u001B[0m             \u001B[0mself\u001B[0m\u001B[0;34m.\u001B[0m\u001B[0m__create_morphology\u001B[0m\u001B[0;34m(\u001B[0m\u001B[0;34m)\u001B[0m\u001B[0;34m\u001B[0m\u001B[0;34m\u001B[0m\u001B[0m\n\u001B[0;32m---> 72\u001B[0;31m             \u001B[0mself\u001B[0m\u001B[0;34m.\u001B[0m\u001B[0mset_channels\u001B[0m\u001B[0;34m(\u001B[0m\u001B[0;34m)\u001B[0m\u001B[0;34m\u001B[0m\u001B[0;34m\u001B[0m\u001B[0m\n\u001B[0m\u001B[1;32m     73\u001B[0m             \u001B[0;32mif\u001B[0m \u001B[0mself\u001B[0m\u001B[0;34m.\u001B[0m\u001B[0m_record_spike\u001B[0m\u001B[0;34m:\u001B[0m\u001B[0;34m\u001B[0m\u001B[0;34m\u001B[0m\u001B[0m\n\u001B[1;32m     74\u001B[0m                 \u001B[0mself\u001B[0m\u001B[0;34m.\u001B[0m\u001B[0mset_spike_recorder\u001B[0m\u001B[0;34m(\u001B[0m\u001B[0;34m)\u001B[0m\u001B[0;34m\u001B[0m\u001B[0;34m\u001B[0m\u001B[0m\n",
      "\u001B[0;32m~/PycharmProjects/Stylized-Cell-Inference/cell_inference/cells/activecell.py\u001B[0m in \u001B[0;36mset_channels\u001B[0;34m(self)\u001B[0m\n\u001B[1;32m     99\u001B[0m             \u001B[0;32mfor\u001B[0m \u001B[0msec\u001B[0m \u001B[0;32min\u001B[0m \u001B[0mself\u001B[0m\u001B[0;34m.\u001B[0m\u001B[0mget_sec_by_id\u001B[0m\u001B[0;34m(\u001B[0m\u001B[0mself\u001B[0m\u001B[0;34m.\u001B[0m\u001B[0mgrp_ids\u001B[0m\u001B[0;34m[\u001B[0m\u001B[0mentry\u001B[0m\u001B[0;34m[\u001B[0m\u001B[0;36m0\u001B[0m\u001B[0;34m]\u001B[0m\u001B[0;34m]\u001B[0m\u001B[0;34m)\u001B[0m\u001B[0;34m:\u001B[0m\u001B[0;34m\u001B[0m\u001B[0;34m\u001B[0m\u001B[0m\n\u001B[1;32m    100\u001B[0m                 \u001B[0;32mtry\u001B[0m\u001B[0;34m:\u001B[0m\u001B[0;34m\u001B[0m\u001B[0;34m\u001B[0m\u001B[0m\n\u001B[0;32m--> 101\u001B[0;31m                     \u001B[0msetattr\u001B[0m\u001B[0;34m(\u001B[0m\u001B[0msec\u001B[0m\u001B[0;34m,\u001B[0m \u001B[0mentry\u001B[0m\u001B[0;34m[\u001B[0m\u001B[0;36m1\u001B[0m\u001B[0;34m]\u001B[0m\u001B[0;34m,\u001B[0m \u001B[0mself\u001B[0m\u001B[0;34m.\u001B[0m\u001B[0mbiophys\u001B[0m\u001B[0;34m[\u001B[0m\u001B[0mi\u001B[0m\u001B[0;34m]\u001B[0m\u001B[0;34m)\u001B[0m\u001B[0;34m\u001B[0m\u001B[0;34m\u001B[0m\u001B[0m\n\u001B[0m\u001B[1;32m    102\u001B[0m                 \u001B[0;32mexcept\u001B[0m \u001B[0mAttributeError\u001B[0m\u001B[0;34m:\u001B[0m\u001B[0;34m\u001B[0m\u001B[0;34m\u001B[0m\u001B[0m\n\u001B[1;32m    103\u001B[0m                     \u001B[0mwarnings\u001B[0m\u001B[0;34m.\u001B[0m\u001B[0mwarn\u001B[0m\u001B[0;34m(\u001B[0m\u001B[0;34m\"Error: {} not found in {}\"\u001B[0m\u001B[0;34m.\u001B[0m\u001B[0mformat\u001B[0m\u001B[0;34m(\u001B[0m\u001B[0mentry\u001B[0m\u001B[0;34m[\u001B[0m\u001B[0;36m1\u001B[0m\u001B[0;34m]\u001B[0m\u001B[0;34m,\u001B[0m \u001B[0msec\u001B[0m\u001B[0;34m)\u001B[0m\u001B[0;34m)\u001B[0m\u001B[0;34m\u001B[0m\u001B[0;34m\u001B[0m\u001B[0m\n",
      "\u001B[0;31mIndexError\u001B[0m: index 7 is out of bounds for axis 0 with size 7"
     ]
    }
   ],
   "source": [
    "from cell_inference.cells.simulation import Simulation\n",
    "from cell_inference.cells.stylizedcell import CellTypes\n",
    "\n",
    "sim = Simulation(geometry = geo_standard,\n",
    "                 electrodes = params.ELECTRODE_POSITION,\n",
    "                 cell_type = CellTypes.ACTIVE,\n",
    "                 loc_param = loc_params,\n",
    "                 geo_param = geo_params,\n",
    "                 spike_threshold = -30,\n",
    "                 gmax = gmax,\n",
    "                 scale = 1.,\n",
    "                 ncell = 6)\n",
    "\n",
    "sim.run_neuron_sim()"
   ]
  },
  {
   "cell_type": "code",
   "execution_count": null,
   "metadata": {
    "pycharm": {
     "name": "#%%\n"
    }
   },
   "outputs": [],
   "source": [
    "from matplotlib.figure import Figure\n",
    "from matplotlib.axes import Axes\n",
    "from typing import Union, List, Tuple\n",
    "\n",
    "%matplotlib inline\n",
    "\n",
    "def plot_v(sim: Simulation, cell_idx: np.ndarray = None,\n",
    "           figsize: Union[List[float],Tuple[float]] = (6,2)) -> Tuple[Figure, Axes]:\n",
    "    if cell_idx is None:\n",
    "        cell_idx = np.arange(sim.ncell)\n",
    "    elif cell_idx.size == 0:\n",
    "        return\n",
    "    t = sim.t()\n",
    "    fig, axs = plt.subplots(nrows=cell_idx.size, ncols=1)\n",
    "    fig.set_size_inches(figsize[0],figsize[1]*cell_idx.size)\n",
    "    axs = np.asarray(axs).ravel()\n",
    "    for i, ax in enumerate(axs):\n",
    "        ax.plot(t, sim.v(cell_idx[i]), label=\"cell %d\" % (cell_idx[i]))\n",
    "        ax.set_ylabel('Vm (mV)')\n",
    "        ax.legend(loc=1)\n",
    "    axs[0].set_title('Membrane Voltage vs Time')\n",
    "    axs[-1].set_xlabel('Time (ms)')\n",
    "    plt.show()\n",
    "    return fig, axs\n",
    "\n",
    "def invalid_index(sim):\n",
    "    # index of valid spiking cells\n",
    "    nspk, tspk = sim.get_spike_number('all')\n",
    "    invalid = np.nonzero(nspk != 1)[0]\n",
    "    return invalid, tspk\n",
    "\n",
    "invalid_idx, tspk = invalid_index(sim)\n",
    "print(\"Number of invalid samples: %d out of %d\" % (invalid_idx.size, 6))\n",
    "\n",
    "_ = plot_v(sim, cell_idx=invalid_idx)\n",
    "\n",
    "mem_volt = sim.v('all')"
   ]
  },
  {
   "cell_type": "code",
   "execution_count": null,
   "metadata": {
    "pycharm": {
     "name": "#%%\n"
    }
   },
   "outputs": [],
   "source": [
    "from scipy import signal\n",
    "\n",
    "lfp = sim.get_lfp('all').transpose((0,2,1))  # (cells x channels x time) -> (cells x time x channels)\n",
    "\n",
    "filt_b, filt_a = signal.butter(params.BUTTERWORTH_ORDER,\n",
    "                               params.FILTER_CRITICAL_FREQUENCY,\n",
    "                               params.BANDFILTER_TYPE,\n",
    "                               fs=params.FILTER_SAMPLING_RATE)\n",
    "\n",
    "filtered_lfp = signal.lfilter(filt_b,filt_a,lfp,axis=1)  # filter along time axis\n",
    "\n",
    "pk_tr_idx_in_window = 16  # 16*0.025=0.4 ms\n",
    "lfp_list = []\n",
    "for i in range(6):\n",
    "    #     filtered_lfp[i] /= np.max(np.abs(filtered_lfp[i]))\n",
    "    fst_idx = first_pk_tr(filtered_lfp[i])\n",
    "    start, end = get_spike_window(filtered_lfp[i], win_size=params.WINDOW_SIZE, align_at=pk_tr_idx_in_window)\n",
    "    lfp_list.append(filtered_lfp[i,start:end,:])\n",
    "\n",
    "windowed_lfp = np.stack(lfp_list, axis=0)  # (samples x time window x channels)\n",
    "print(windowed_lfp.shape)"
   ]
  },
  {
   "cell_type": "code",
   "execution_count": null,
   "metadata": {
    "pycharm": {
     "name": "#%%\n"
    }
   },
   "outputs": [],
   "source": [
    "sty_data = []\n",
    "sty_bad_indices = []\n",
    "sty_summ_stats = []\n",
    "sty_y_pos = []\n",
    "sty_coordinates = []\n",
    "\n",
    "for i, j in enumerate(range(windowed_lfp.shape[0])):\n",
    "\n",
    "    try:\n",
    "        g_lfp, g_coords, y_i = build_lfp_grid(np.squeeze(windowed_lfp[j,:,:]), params.ELECTRODE_POSITION[:, :2], y_window_size=960.0)\n",
    "    except ValueError:\n",
    "        bad_indices.append(i)\n",
    "        continue\n",
    "    sty_summ_stats.append(calculate_stats(g_lfp))\n",
    "    sty_y_pos.append(y_i)\n",
    "    sty_coordinates.append(g_coords)\n",
    "    sty_data.append(pd.DataFrame(data=g_lfp, columns=list(['Condensed Channel {}'.format(i) for i in range(196)])))  # time x channels\n",
    "\n",
    "# ids = np.delete(ids, bad_indices, axis=0)\n",
    "sty_coordinates = np.stack(sty_coordinates, axis=0)\n",
    "print(sty_coordinates.shape)\n",
    "sty_summ_stats = pd.DataFrame(data=np.array(sty_summ_stats), columns=list(['Summary Stat {}'.format(i) for i in range(40)]))\n",
    "sty_y_pos = np.stack(sty_y_pos, axis=0)\n",
    "sty_summ_stats"
   ]
  },
  {
   "cell_type": "markdown",
   "metadata": {
    "pycharm": {
     "name": "#%% md\n"
    }
   },
   "source": [
    "## Plotting and Comparison\n",
    "Now we can plot and comare the parameters between the detailed and stylized cells."
   ]
  },
  {
   "cell_type": "code",
   "execution_count": null,
   "metadata": {
    "pycharm": {
     "name": "#%%\n"
    }
   },
   "outputs": [],
   "source": [
    "t = np.arange(pk_tr_idx_in_window, data[0].to_numpy().shape[0]+pk_tr_idx_in_window)\n",
    "\n",
    "ix = 1\n",
    "ylim = [-1900,1900]\n",
    "x_dist = np.unique(g_coords[:,0])\n",
    "e_idx = ((g_coords[:,0]==x_dist[ix]) &\n",
    "         (g_coords[:,1]>=ylim[0]) &\n",
    "         (g_coords[:,1]<=ylim[1]))"
   ]
  },
  {
   "cell_type": "code",
   "execution_count": null,
   "metadata": {
    "pycharm": {
     "name": "#%%\n"
    }
   },
   "outputs": [],
   "source": [
    "%matplotlib inline\n",
    "import matplotlib.pyplot as plt\n",
    "from importlib import reload\n",
    "import cell_inference.utils.plotting.plot_results\n",
    "reload(cell_inference.utils.plotting.plot_results)\n",
    "from cell_inference.utils.plotting.plot_results import plot_lfp_heatmap\n",
    "from cell_inference.utils.plotting.plot_results import plot_lfp_traces\n",
    "\n",
    "\n",
    "for j, df in enumerate(data):\n",
    "    #     In Vivo Plot\n",
    "    fig, ax = plot_lfp_heatmap(t=t,\n",
    "                               elec_d=coordinates[j, e_idx, 1],\n",
    "                               lfp=df.to_numpy()[:,e_idx],\n",
    "                               vlim='auto',\n",
    "                               fontsize=18, labelpad=0, ticksize=15, nbins=5\n",
    "                               )\n",
    "\n",
    "    fig, ax = plot_lfp_traces(t, df.to_numpy()[:,e_idx], fontsize=18)\n",
    "\n",
    "\n",
    "    plt.tight_layout()\n",
    "\n",
    "    # plt.savefig('lfp_heatmaps/' + 'detailed_groundtruth' + '.jpg')\n",
    "#     if i == 22:\n",
    "#         break\n",
    "plt.show()"
   ]
  },
  {
   "cell_type": "code",
   "execution_count": null,
   "metadata": {
    "pycharm": {
     "name": "#%%\n"
    },
    "scrolled": false
   },
   "outputs": [],
   "source": [
    "%matplotlib inline\n",
    "\n",
    "for j, df in enumerate(sty_data):\n",
    "    #     if i < 20:\n",
    "    #         continue\n",
    "    fig=plt.figure(figsize=(15,4))\n",
    "    #     In Vivo Plot\n",
    "    fig, ax = plot_lfp_heatmap(t=t,\n",
    "                               elec_d=sty_coordinates[j, e_idx, 1],\n",
    "                               lfp=df.to_numpy()[:,e_idx],\n",
    "                               vlim='auto',\n",
    "                               fontsize=18, labelpad=0, ticksize=15, nbins=5\n",
    "                               )\n",
    "\n",
    "    fig, ax = plot_lfp_traces(t, df.to_numpy()[:,e_idx], fontsize=18)\n",
    "\n",
    "    plt.tight_layout()\n",
    "\n",
    "    # plt.savefig('lfp_heatmaps/' + 'detailed_groundtruth' + '.jpg')\n",
    "#     if i == 22:\n",
    "#         break\n",
    "plt.show()"
   ]
  },
  {
   "cell_type": "code",
   "execution_count": null,
   "metadata": {
    "pycharm": {
     "name": "#%%\n"
    }
   },
   "outputs": [],
   "source": [
    "%matplotlib notebook\n",
    "from cell_inference.utils.plotting.plot_morphology import plot_morphology\n",
    "\n",
    "plot_morphology(sim, figsize=(10,10))"
   ]
  },
  {
   "cell_type": "code",
   "execution_count": null,
   "metadata": {
    "pycharm": {
     "name": "#%%\n"
    }
   },
   "outputs": [],
   "source": [
    "display(summ_stats)\n",
    "display(sty_summ_stats)"
   ]
  },
  {
   "cell_type": "code",
   "execution_count": null,
   "metadata": {
    "pycharm": {
     "name": "#%%\n"
    }
   },
   "outputs": [],
   "source": []
  }
 ],
 "metadata": {
  "kernelspec": {
   "display_name": "Python 3",
   "language": "python",
   "name": "python3"
  },
  "language_info": {
   "codemirror_mode": {
    "name": "ipython",
    "version": 3
   },
   "file_extension": ".py",
   "mimetype": "text/x-python",
   "name": "python",
   "nbconvert_exporter": "python",
   "pygments_lexer": "ipython3",
   "version": "3.8.10"
  }
 },
 "nbformat": 4,
 "nbformat_minor": 1
}