{
 "cells": [
  {
   "cell_type": "code",
   "execution_count": 1,
   "metadata": {},
   "outputs": [],
   "source": [
    "import numpy as np\n",
    "from scipy.stats import norm\n",
    "\n",
    "import matplotlib.pyplot as plt\n",
    "%matplotlib inline"
   ]
  },
  {
   "cell_type": "markdown",
   "metadata": {},
   "source": [
    "Transform normal distributed variables to follow uniform [a,b] distribution"
   ]
  },
  {
   "cell_type": "code",
   "execution_count": 2,
   "metadata": {},
   "outputs": [],
   "source": [
    "def norm2unif(x,a,b):\n",
    "    \"\"\"Transform normal distributed variables to follow uniform [a,b] distribution\"\"\"\n",
    "    y = a+(b-a)*norm.cdf(np.asarray(x))\n",
    "    return y"
   ]
  },
  {
   "cell_type": "code",
   "execution_count": 3,
   "metadata": {
    "scrolled": false
   },
   "outputs": [
    {
     "data": {
      "image/png": "[encoded data removed]",
      "text/plain": [
       "<Figure size 432x360 with 2 Axes>"
      ]
     },
     "metadata": {
      "needs_background": "light"
     },
     "output_type": "display_data"
    }
   ],
   "source": [
    "# test\n",
    "x = np.random.normal(size=1000)\n",
    "y = norm2unif(x,5,10) # transform\n",
    "\n",
    "plt.figure(figsize=(6,5))\n",
    "plt.subplot(211)\n",
    "plt.hist(x,20,density=True)\n",
    "plt.xlabel('normal')\n",
    "plt.subplot(212)\n",
    "plt.hist(y,20,density=True)\n",
    "plt.xlabel('transformed')\n",
    "plt.show()"
   ]
  },
  {
   "cell_type": "markdown",
   "metadata": {},
   "source": [
    "Get the lognormal parameters given bounds [a,b] in linear scale that corresponds to n_sigma"
   ]
  },
  {
   "cell_type": "code",
   "execution_count": 4,
   "metadata": {},
   "outputs": [],
   "source": [
    "def range2logn(a,b,n_sigma=2):\n",
    "    \"\"\"Get the lognormal parameters given range [a,b] in linear scale that corresponds to n_sigma\"\"\"\n",
    "    A = np.log(a)\n",
    "    B = np.log(b)\n",
    "    mu = (A+B)/2\n",
    "    sigma = (B-A)/n_sigma/2\n",
    "    return mu, sigma"
   ]
  },
  {
   "cell_type": "code",
   "execution_count": 5,
   "metadata": {},
   "outputs": [],
   "source": [
    "bound = [6,18]\n",
    "logn_param = range2logn(bound[0],bound[1])"
   ]
  },
  {
   "cell_type": "code",
   "execution_count": 6,
   "metadata": {},
   "outputs": [],
   "source": [
    "def norm2logn(x,mu,sigma):\n",
    "    \"\"\"Transform normal distributed variables to follow lognormal (mu,sigma) distribution\"\"\"\n",
    "    y = np.exp(mu+sigma*x)\n",
    "    return y"
   ]
  },
  {
   "cell_type": "code",
   "execution_count": 7,
   "metadata": {},
   "outputs": [
    {
     "data": {
      "image/png": "[encoded data removed]",
      "text/plain": [
       "<Figure size 432x432 with 3 Axes>"
      ]
     },
     "metadata": {
      "needs_background": "light"
     },
     "output_type": "display_data"
    }
   ],
   "source": [
    "y = norm2logn(x,logn_param[0],logn_param[1]) # transform\n",
    "# equivalently\n",
    "xx = np.random.normal(logn_param[0],logn_param[1],size=1000)\n",
    "yy = np.exp(xx) # transform\n",
    "\n",
    "plt.figure(figsize=(6,6))\n",
    "plt.subplot(311)\n",
    "plt.hist(x,20,density=True)\n",
    "plt.xlabel('normal')\n",
    "plt.subplot(312)\n",
    "_,bins,_ = plt.hist(y,20,density=True)\n",
    "plt.xlabel('transformed')\n",
    "plt.subplot(313)\n",
    "plt.hist(yy,bins,density=True)\n",
    "plt.xlabel('transformed')\n",
    "plt.show()"
   ]
  },
  {
   "cell_type": "code",
   "execution_count": null,
   "metadata": {},
   "outputs": [],
   "source": []
  }
 ],
 "metadata": {
  "kernelspec": {
   "display_name": "Python 3",
   "language": "python",
   "name": "python3"
  },
  "language_info": {
   "codemirror_mode": {
    "name": "ipython",
    "version": 3
   },
   "file_extension": ".py",
   "mimetype": "text/x-python",
   "name": "python",
   "nbconvert_exporter": "python",
   "pygments_lexer": "ipython3",
   "version": "3.7.4"
  }
 },
 "nbformat": 4,
 "nbformat_minor": 5
}
