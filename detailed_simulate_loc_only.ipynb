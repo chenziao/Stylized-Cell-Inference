{
 "cells": [
  {
   "cell_type": "code",
   "execution_count": 1,
   "id": "66db73a3",
   "metadata": {},
   "outputs": [],
   "source": [
    "import numpy as np\n",
    "import matplotlib.pyplot as plt\n",
    "import h5py\n",
    "import json\n",
    "import os\n",
    "from scipy import signal\n",
    "from typing import Union, List, Tuple, Dict\n",
    "from tqdm import tqdm\n",
    "\n",
    "from cell_inference.config import paths, params\n",
    "from cell_inference.utils.transform.distribution_transformation import range2norm, range2logn\n",
    "from cell_inference.utils.transform.geometry_transformation import pol2cart, cart2pol\n",
    "from cell_inference.utils.spike_window import first_pk_tr, get_spike_window\n",
    "from cell_inference.utils.plotting.plot_results import plot_lfp_traces, plot_lfp_heatmap\n",
    "from cell_inference.utils.feature_extractors.SummaryStats2D import calculate_stats, build_lfp_grid"
   ]
  },
  {
   "cell_type": "markdown",
   "id": "09699ad6",
   "metadata": {},
   "source": [
    "## Detailed Cell"
   ]
  },
  {
   "cell_type": "code",
   "execution_count": 2,
   "id": "1e5058b6",
   "metadata": {},
   "outputs": [],
   "source": [
    "DATA_PATH = 'cell_inference/resources/detailed'  # '/home/matt/data/InVivoLFPs/detailed_cell_simulation/without_basal_dendrite'\n",
    "COORDS_PATH = os.path.join('cell_inference/resources', 'Electrode2D.h5')\n",
    "\n",
    "# model_name = 'neuronal_model_496930324'\n",
    "model_name = ['neuronal_model_491766131']\n",
    "detailed_cells_im = []\n",
    "for name in model_name:\n",
    "    detailed_cells_im.append(os.path.join(DATA_PATH, name + '_Im.h5'))"
   ]
  },
  {
   "cell_type": "markdown",
   "id": "063a31ab",
   "metadata": {},
   "source": [
    "## Load configuration"
   ]
  },
  {
   "cell_type": "code",
   "execution_count": 3,
   "id": "8cddd8b3",
   "metadata": {},
   "outputs": [],
   "source": [
    "DATA_PATH = 'cell_inference/resources/simulation_data'\n",
    "TRIAL_PATH = os.path.join(DATA_PATH, model_name[0]+'_Loc5')\n",
    "\n",
    "CONFIG_PATH = os.path.join(TRIAL_PATH, 'config.json')  # trial configuration\n",
    "LFP_PATH = os.path.join(TRIAL_PATH, 'lfp_detailed')  # LFP and labels\n",
    "STATS_PATH = os.path.join(TRIAL_PATH, 'summ_stats_detailed')  # summary statistics\n",
    "\n",
    "if not os.path.exists(DATA_PATH):\n",
    "    raise FileNotFoundError(DATA_PATH + \" not found.\")\n",
    "\n",
    "if not os.path.exists(TRIAL_PATH):\n",
    "    raise FileNotFoundError(TRIAL_PATH + \" not found.\")"
   ]
  },
  {
   "cell_type": "code",
   "execution_count": 4,
   "id": "e7189ffd",
   "metadata": {},
   "outputs": [],
   "source": [
    "with open(CONFIG_PATH, 'r') as f:\n",
    "    config_dict = json.load(f)\n",
    "\n",
    "loc_param_list = ['x','y','z','d','theta','alpha','h','phi']\n",
    "inference_list = [x for x in config_dict['Trial_Parameters']['inference_list'] if x in loc_param_list]\n",
    "randomized_list = [x for x in config_dict['Trial_Parameters']['randomized_list'] if x in loc_param_list]\n",
    "\n",
    "loc_param_list = config_dict['Simulation_Parameters']['loc_param_list']\n",
    "loc_param_default = config_dict['Simulation_Parameters']['loc_param_default']\n",
    "loc_param_range = config_dict['Simulation_Parameters']['loc_param_range']\n",
    "loc_param_dist = config_dict['Simulation_Parameters']['loc_param_dist']"
   ]
  },
  {
   "cell_type": "markdown",
   "id": "d337396d",
   "metadata": {},
   "source": [
    "## Set up configuration"
   ]
  },
  {
   "cell_type": "code",
   "execution_count": 5,
   "id": "f86da347",
   "metadata": {},
   "outputs": [],
   "source": [
    "number_cells = len(model_name)\n",
    "number_locs = 100\n",
    "number_samples = number_cells * number_locs\n",
    "rand_seed = config_dict['Trial_Parameters']['rand_seed']"
   ]
  },
  {
   "cell_type": "markdown",
   "id": "c1a232a4",
   "metadata": {},
   "source": [
    "### Create configuration dictionary"
   ]
  },
  {
   "cell_type": "code",
   "execution_count": 6,
   "id": "3f13b52b",
   "metadata": {},
   "outputs": [],
   "source": [
    "rng = np.random.default_rng(rand_seed)\n",
    "\n",
    "def generator_dist(p_range: Union[List[float],Tuple[float],np.ndarray], dist_type: str, rng: np.random.Generator):\n",
    "    if dist_type == 'unif':\n",
    "        def generator(size=None):\n",
    "            return rng.uniform(low=p_range[0], high=p_range[1], size=size)\n",
    "    if dist_type == 'norm':\n",
    "        mu, sigma = range2norm(p_range[0], p_range[1], n_sigma=3)\n",
    "        def generator(size=None):\n",
    "            return rng.normal(loc=mu, scale=sigma, size=size)\n",
    "    if dist_type == 'logn':\n",
    "        mu, sigma = range2logn(p_range[0], p_range[1], n_sigma=3)\n",
    "        def generator(size=None):\n",
    "            return rng.lognormal(mean=mu, sigma=sigma, size=size)\n",
    "    return generator\n",
    "\n",
    "def generate_parameters(num: int, param_keys: List[str], param_default: List[float], \n",
    "                        param_range: List[Union[List[float],Tuple[float],np.ndarray]], param_dist: List[str]):\n",
    "    array_size = num\n",
    "    param_array = {}\n",
    "    for key in param_keys:\n",
    "        if key in randomized_list:\n",
    "            generator = generator_dist(param_range[key], param_dist[key], rng)\n",
    "            param_array[key] = generator(size=array_size)\n",
    "        else:\n",
    "            param_array[key] = np.full(array_size, param_default[key])\n",
    "    return param_array"
   ]
  },
  {
   "cell_type": "markdown",
   "id": "99f77ffe",
   "metadata": {},
   "source": [
    "#### Location parameters"
   ]
  },
  {
   "cell_type": "code",
   "execution_count": 7,
   "id": "82cccf9e",
   "metadata": {},
   "outputs": [],
   "source": [
    "loc_param_gen = loc_param_list.copy()\n",
    "if 'd' in randomized_list and 'theta' in randomized_list:\n",
    "    loc_param_gen[loc_param_gen.index('x')] = 'd'\n",
    "    loc_param_gen[loc_param_gen.index('z')] = 'theta'\n",
    "\n",
    "loc_param_samples = generate_parameters(number_samples, loc_param_gen, loc_param_default, loc_param_range, loc_param_dist)\n",
    "\n",
    "if 'd' in randomized_list and 'theta' in randomized_list:\n",
    "    loc_param_samples['x'], loc_param_samples['z'] = pol2cart(loc_param_samples['d'],loc_param_samples['theta'])\n",
    "\n",
    "loc_param = np.column_stack([loc_param_samples[key] for key in loc_param_list])\n",
    "\n",
    "# reshape into ncell-by-nloc-by-2-by-3\n",
    "loc_param = loc_param.reshape(number_cells, number_locs, 2, 3)"
   ]
  },
  {
   "cell_type": "markdown",
   "id": "2015539f",
   "metadata": {},
   "source": [
    "### Get parameters to be inferred as labels"
   ]
  },
  {
   "cell_type": "code",
   "execution_count": 8,
   "id": "a68eecdd",
   "metadata": {},
   "outputs": [
    {
     "name": "stdout",
     "output_type": "stream",
     "text": [
      "(1, 100, 2, 3)\n",
      "(100, 5)\n"
     ]
    }
   ],
   "source": [
    "labels = np.column_stack([ loc_param_samples[key] for key in inference_list ]) # TODO: add geometry labels\n",
    "rand_param = np.column_stack([ loc_param_samples[key] for key in randomized_list[:-len(inference_list)] ])\n",
    "\n",
    "np.set_printoptions(suppress=True)\n",
    "print(loc_param.shape)\n",
    "print(labels.shape)"
   ]
  },
  {
   "cell_type": "markdown",
   "id": "bcbb9d25",
   "metadata": {},
   "source": [
    "## Simulate LFP"
   ]
  },
  {
   "cell_type": "code",
   "execution_count": 9,
   "id": "600f2516",
   "metadata": {},
   "outputs": [],
   "source": [
    "from cell_inference.utils.currents.ecp import EcpMod, EcpCell\n",
    "\n",
    "Ecp_list = []\n",
    "for file in detailed_cells_im:\n",
    "    Ecp_list.append(EcpMod(EcpCell(file=file), params.ELECTRODE_POSITION, min_distance=10.0, ecp_cell=True))"
   ]
  },
  {
   "cell_type": "code",
   "execution_count": 10,
   "id": "184178ff",
   "metadata": {},
   "outputs": [],
   "source": [
    "lfp = []\n",
    "for i, ecp in enumerate(Ecp_list):\n",
    "    lfp.append(ecp.calc_ecps(move_cell=loc_param[i], move_elec=True))\n",
    "lfp = np.stack(lfp, axis=0) # (cells x locs x channels x time)\n",
    "lfp = lfp.reshape((-1,)+lfp.shape[-2:]).transpose((0,2,1)) # -> (samples x channels x time) -> (samples x time x channels)\n",
    "\n",
    "with h5py.File(file, 'r') as f:\n",
    "    dt = f.attrs['dt']\n",
    "    t = np.arange(lfp.shape[1])*dt"
   ]
  },
  {
   "cell_type": "markdown",
   "id": "85f83909",
   "metadata": {},
   "source": [
    "## Get LFPs\n",
    "#### Save what"
   ]
  },
  {
   "cell_type": "code",
   "execution_count": 11,
   "id": "43c34079",
   "metadata": {},
   "outputs": [],
   "source": [
    "save_lfp = False\n",
    "save_stats = True"
   ]
  },
  {
   "cell_type": "markdown",
   "id": "4ef5fa7c",
   "metadata": {},
   "source": [
    "#### Filter each channel. Get window of spike for each sample."
   ]
  },
  {
   "cell_type": "code",
   "execution_count": 12,
   "id": "e76dc0d7",
   "metadata": {},
   "outputs": [
    {
     "name": "stderr",
     "output_type": "stream",
     "text": [
      "100%|███████████████████████████████████████| 100/100 [00:00<00:00, 820.11it/s]"
     ]
    },
    {
     "name": "stdout",
     "output_type": "stream",
     "text": [
      "0 bad samples.\n"
     ]
    },
    {
     "name": "stderr",
     "output_type": "stream",
     "text": [
      "\n"
     ]
    }
   ],
   "source": [
    "filt_b, filt_a = signal.butter(params.BUTTERWORTH_ORDER,\n",
    "                               params.FILTER_CRITICAL_FREQUENCY,\n",
    "                               params.BANDFILTER_TYPE,\n",
    "                               fs=params.FILTER_SAMPLING_RATE)\n",
    "\n",
    "filtered_lfp = signal.lfilter(filt_b,filt_a,lfp,axis=1)  # filter along time axis\n",
    "\n",
    "pk_tr_idx_in_window = 24  # 24*0.025=0.6 ms\n",
    "lfp_list = []\n",
    "bad_indices = []\n",
    "for i in tqdm(range(number_samples)):\n",
    "#     filtered_lfp[i] /= np.max(np.abs(filtered_lfp[i]))\n",
    "    try:\n",
    "        start, end = get_spike_window(filtered_lfp[i], win_size=params.WINDOW_SIZE, align_at=pk_tr_idx_in_window)\n",
    "        lfp_list.append(filtered_lfp[i,start:end,:])\n",
    "    except ValueError:\n",
    "        bad_indices.append(i)\n",
    "\n",
    "t = t[:params.WINDOW_SIZE]\n",
    "windowed_lfp = np.stack(lfp_list, axis=0)  # (samples x time window x channels)\n",
    "labels = np.delete(labels, bad_indices, axis=0)\n",
    "print('%d bad samples.' % len(bad_indices))"
   ]
  },
  {
   "cell_type": "code",
   "execution_count": 13,
   "id": "de1fcd84",
   "metadata": {},
   "outputs": [
    {
     "name": "stderr",
     "output_type": "stream",
     "text": [
      "100%|████████████████████████████████████████| 100/100 [08:17<00:00,  4.97s/it]"
     ]
    },
    {
     "name": "stdout",
     "output_type": "stream",
     "text": [
      "1 bad samples.\n"
     ]
    },
    {
     "name": "stderr",
     "output_type": "stream",
     "text": [
      "\n"
     ]
    }
   ],
   "source": [
    "if save_stats:\n",
    "    y_idx = inference_list.index('y') if 'y' in inference_list else None\n",
    "    summ_stats = []\n",
    "    bad_indices = []\n",
    "    yshift = []\n",
    "    for i in tqdm(range(windowed_lfp.shape[0])):\n",
    "        try:\n",
    "            g_lfp, _, y_c = build_lfp_grid(windowed_lfp[i], params.ELECTRODE_POSITION[:, :2], y_window_size=960.0)\n",
    "        except ValueError:\n",
    "            bad_indices.append(i)\n",
    "            continue\n",
    "        summ_stats.append(calculate_stats(g_lfp))\n",
    "        if y_idx is not None:\n",
    "            yshift.append(y_c - labels[i, y_idx])\n",
    "\n",
    "    summ_stats = np.array(summ_stats)\n",
    "    yshift = np.array(yshift)\n",
    "    print('%d bad samples.' % len(bad_indices))"
   ]
  },
  {
   "cell_type": "markdown",
   "id": "811fe0d9",
   "metadata": {},
   "source": [
    "## Save configurations and simulation data"
   ]
  },
  {
   "cell_type": "code",
   "execution_count": 14,
   "id": "f35b0e9e",
   "metadata": {},
   "outputs": [],
   "source": [
    "if save_lfp:\n",
    "    np.savez(LFP_PATH, t=t, x=windowed_lfp, y=labels, rand_param=rand_param, gmax=None)\n",
    "if save_stats:\n",
    "    np.savez(STATS_PATH, t=t, x=summ_stats, y=np.delete(labels, bad_indices, axis=0),\n",
    "         rand_param=rand_param, gmax=None, ys=yshift, bad_indices=bad_indices)\n",
    "# np.savez(MEM_VOLT_PATH, v=mem_volt, spk=tspk)"
   ]
  },
  {
   "cell_type": "markdown",
   "id": "1bb0960c",
   "metadata": {},
   "source": [
    "## Verify LFPs\n",
    "We hand compare the LFP plots generated by our data"
   ]
  },
  {
   "cell_type": "code",
   "execution_count": 15,
   "id": "cc3ddb99",
   "metadata": {},
   "outputs": [
    {
     "data": {
      "image/png": "[encoded data removed]",
      "text/plain": [
       "<Figure size 432x288 with 2 Axes>"
      ]
     },
     "metadata": {
      "needs_background": "light"
     },
     "output_type": "display_data"
    },
    {
     "data": {
      "image/png": "[encoded data removed]",
      "text/plain": [
       "<Figure size 432x288 with 1 Axes>"
      ]
     },
     "metadata": {
      "needs_background": "light"
     },
     "output_type": "display_data"
    }
   ],
   "source": [
    "%matplotlib inline\n",
    "\n",
    "cell_idx = 0\n",
    "\n",
    "ix = 1\n",
    "ylim = [-1900,1900]\n",
    "x_dist = np.unique(params.ELECTRODE_POSITION[:,0])\n",
    "e_idx = ((params.ELECTRODE_POSITION[:,0]==x_dist[ix]) & \n",
    "         (params.ELECTRODE_POSITION[:,1]>=ylim[0]) & \n",
    "         (params.ELECTRODE_POSITION[:,1]<=ylim[1]))\n",
    "\n",
    "_ = plot_lfp_heatmap(t, params.ELECTRODE_POSITION[e_idx, 1],\n",
    "                              windowed_lfp[cell_idx][:,e_idx], vlim='auto',\n",
    "                              fontsize=18, labelpad=0, ticksize=15, nbins=5)\n",
    "\n",
    "_ = plot_lfp_traces(t, windowed_lfp[cell_idx], fontsize=18)"
   ]
  },
  {
   "cell_type": "code",
   "execution_count": null,
   "id": "9e1a9194",
   "metadata": {},
   "outputs": [],
   "source": []
  }
 ],
 "metadata": {
  "kernelspec": {
   "display_name": "Python 3 (ipykernel)",
   "language": "python",
   "name": "python3"
  },
  "language_info": {
   "codemirror_mode": {
    "name": "ipython",
    "version": 3
   },
   "file_extension": ".py",
   "mimetype": "text/x-python",
   "name": "python",
   "nbconvert_exporter": "python",
   "pygments_lexer": "ipython3",
   "version": "3.7.4"
  }
 },
 "nbformat": 4,
 "nbformat_minor": 5
}
