{
 "cells": [
  {
   "cell_type": "code",
   "execution_count": 1,
   "id": "5bd22147",
   "metadata": {},
   "outputs": [],
   "source": [
    "import numpy as np\n",
    "import h5py\n",
    "import os\n",
    "from tqdm import tqdm\n",
    "\n",
    "from cell_inference.config import paths, params\n",
    "from cell_inference.utils.feature_extractors.SummaryStats2D import process_lfp\n",
    "\n",
    "invivo_name = 'all_cell_LFP2D_Analysis_SensorimotorSpikeWaveforms_NP_SUTempFilter_NPExample'\n",
    "# invivo_name = 'all_cell_LFP2D_Analysis_SensorimotorSpikes_NPUnits_large.h5'\n",
    "\n",
    "INVIVO_PATH = 'cell_inference/resources/invivo'\n",
    "DATA_PATH = os.path.join(INVIVO_PATH, invivo_name + '.h5')\n",
    "LFP_PATH = os.path.join(INVIVO_PATH, 'lfp_' + invivo_name)  # LFP and labels\n",
    "STATS_PATH = os.path.join(INVIVO_PATH, 'summ_stats_' + invivo_name)  # summary statistics\n",
    "\n",
    "save_lfp = True\n",
    "save_stats = True"
   ]
  },
  {
   "cell_type": "code",
   "execution_count": 2,
   "id": "19a20dc9",
   "metadata": {},
   "outputs": [],
   "source": [
    "with h5py.File(DATA_PATH,'r') as hf:\n",
    "    elec_pos = hf['coord'][()]\n",
    "    lfp = hf['data'][()].transpose((0,2,1)) # (samples x channels x time) -> (samples x time x channels)\n",
    "    if 'layer' in hf:\n",
    "        layer_type = {i[0]: name for name, i in hf['layer'].attrs.items()}\n",
    "        layer = np.array([layer_type[i] for i in hf['layer']])\n",
    "    else:\n",
    "        layer = np.full(lfp.shape[0], 'N/A')"
   ]
  },
  {
   "cell_type": "code",
   "execution_count": 3,
   "id": "258de228",
   "metadata": {},
   "outputs": [
    {
     "name": "stderr",
     "output_type": "stream",
     "text": [
      "100%|████████████████████████████████████████| 198/198 [00:03<00:00, 52.93it/s]"
     ]
    },
    {
     "name": "stdout",
     "output_type": "stream",
     "text": [
      "198 good samples out of 198 samples.\n",
      "Bad case 0 bad: 198 samples.\n",
      "Bad case 1 bad: 0 samples.\n",
      "Bad case 2 bad: 0 samples.\n"
     ]
    },
    {
     "name": "stderr",
     "output_type": "stream",
     "text": [
      "\n"
     ]
    }
   ],
   "source": [
    "pad_spike_window = False\n",
    "bad_cases = tuple(range(-1,3)) if pad_spike_window else tuple(range(3))\n",
    "\n",
    "bad_indices = {bad: [] for bad in bad_cases}\n",
    "lfp_list = []\n",
    "ycenter = []\n",
    "summ_stats = []\n",
    "\n",
    "for i in tqdm(range(lfp.shape[0])):\n",
    "    bad, g_lfp, _, _, y_c, _, ss = process_lfp(lfp[i], coord=elec_pos, dt=None, calc_summ_stats=save_stats, err_msg=True)\n",
    "    bad_indices[bad].append(i)\n",
    "    if bad<=0:\n",
    "        lfp_list.append(g_lfp)\n",
    "        ycenter.append(y_c)\n",
    "        if save_stats:\n",
    "            summ_stats.append(ss)\n",
    "\n",
    "t = params.DT * np.arange(params.WINDOW_SIZE)\n",
    "windowed_lfp = np.stack(lfp_list, axis=0)  # (samples x time window x channels)\n",
    "ycenter = np.array(ycenter)\n",
    "summ_stats = np.array(summ_stats)\n",
    "\n",
    "bad_idx = np.array([i for bad, indices in bad_indices.items() if bad>0 for i in indices])\n",
    "good_indices = np.sort([i for bad, indices in bad_indices.items() if bad<=0 for i in indices])\n",
    "print('%d good samples out of %d samples.' % (good_indices.size, lfp.shape[0]))\n",
    "for bad, indices in bad_indices.items():\n",
    "    print('Bad case %d bad: %d samples.' % (bad, len(indices)))"
   ]
  },
  {
   "cell_type": "code",
   "execution_count": 4,
   "id": "ea289f3d",
   "metadata": {},
   "outputs": [],
   "source": [
    "if save_lfp:\n",
    "    np.savez(LFP_PATH, t=t, x=windowed_lfp, yc=ycenter, layer=layer,\n",
    "             bad_indices=bad_indices, good_indices=good_indices)\n",
    "if save_stats:\n",
    "    np.savez(STATS_PATH, x=summ_stats, yc=ycenter, layer=layer[good_indices])"
   ]
  },
  {
   "cell_type": "code",
   "execution_count": null,
   "id": "4c30fada",
   "metadata": {},
   "outputs": [],
   "source": []
  }
 ],
 "metadata": {
  "kernelspec": {
   "display_name": "Python 3 (ipykernel)",
   "language": "python",
   "name": "python3"
  },
  "language_info": {
   "codemirror_mode": {
    "name": "ipython",
    "version": 3
   },
   "file_extension": ".py",
   "mimetype": "text/x-python",
   "name": "python",
   "nbconvert_exporter": "python",
   "pygments_lexer": "ipython3",
   "version": "3.9.12"
  }
 },
 "nbformat": 4,
 "nbformat_minor": 5
}
