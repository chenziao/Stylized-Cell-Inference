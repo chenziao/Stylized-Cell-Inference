{
 "cells": [
  {
   "cell_type": "markdown",
   "id": "ec1e1788",
   "metadata": {},
   "source": [
    "## Setup"
   ]
  },
  {
   "cell_type": "code",
   "execution_count": 1,
   "id": "bca811ec",
   "metadata": {},
   "outputs": [],
   "source": [
    "from neuron import h\n",
    "import pandas as pd\n",
    "import numpy as np\n",
    "import matplotlib.pyplot as plt\n",
    "import h5py\n",
    "import json\n",
    "import os\n",
    "from scipy import signal\n",
    "from typing import Union, List, Tuple, Dict\n",
    "from tqdm import tqdm\n",
    "\n",
    "from cell_inference.config import paths, params\n",
    "from cell_inference.cells.simulation import Simulation\n",
    "from cell_inference.cells.stylizedcell import CellTypes\n",
    "from cell_inference.utils.random_parameter_generator import Random_Parameter_Generator\n",
    "from cell_inference.utils.transform.geometry_transformation import pol2cart, cart2pol\n",
    "from cell_inference.utils.spike_window import first_pk_tr, get_spike_window\n",
    "from cell_inference.utils.plotting.plot_results import plot_lfp_traces, plot_lfp_heatmap\n",
    "from cell_inference.utils.feature_extractors.SummaryStats2D import calculate_stats, build_lfp_grid\n",
    "\n",
    "h.load_file('stdrun.hoc')\n",
    "h.nrn_load_dll(paths.COMPILED_LIBRARY)\n",
    "h.tstop = params.TSTOP\n",
    "h.dt = params.DT\n",
    "h.steps_per_ms = 1/h.dt\n",
    "\n",
    "geo_standard = pd.read_csv(paths.GEO_STANDARD_OBLIQUE, index_col='id')"
   ]
  },
  {
   "cell_type": "markdown",
   "id": "5dca8b33",
   "metadata": {},
   "source": [
    "## Set up configuration"
   ]
  },
  {
   "cell_type": "markdown",
   "id": "782c0bc7",
   "metadata": {},
   "source": [
    "#### Set batch"
   ]
  },
  {
   "cell_type": "code",
   "execution_count": 2,
   "id": "ea235e99",
   "metadata": {},
   "outputs": [],
   "source": [
    "batchid = None\n",
    "if batchid is None:\n",
    "    batchid = 0\n",
    "    batch_suf = ''\n",
    "else:\n",
    "    batch_suf = '_%d' % batchid"
   ]
  },
  {
   "cell_type": "markdown",
   "id": "9652146d",
   "metadata": {},
   "source": [
    "#### Trial configurations"
   ]
  },
  {
   "cell_type": "code",
   "execution_count": 3,
   "id": "ab7dd012",
   "metadata": {},
   "outputs": [],
   "source": [
    "number_cells = 1\n",
    "number_locs = 10\n",
    "number_samples = number_cells * number_locs\n",
    "rand_seed = 12345\n",
    "\n",
    "inference_list = ['y', 'd', 'theta', 'h', 'phi']  # can use d, theta instead of x, z to represent location\n",
    "randomized_list = ['alpha']  # randomized parameters not to inferred\n",
    "randomized_list += inference_list\n",
    "# parameters not in the two lists above are fixed at default."
   ]
  },
  {
   "cell_type": "markdown",
   "id": "23c103c5",
   "metadata": {},
   "source": [
    "#### Simulation configurations"
   ]
  },
  {
   "cell_type": "code",
   "execution_count": 4,
   "id": "e68b558a",
   "metadata": {},
   "outputs": [],
   "source": [
    "loc_param_list = ['x','y','z','alpha','h','phi']\n",
    "geo_param_list = ['r_s', 'l_t', 'r_t', 'r_d', 'r_tu', 'l_d', 'r_a', 'r_o', 'l_o']\n",
    "\n",
    "loc_param_default = {'x': 0., 'y': 0., 'z': 50., \n",
    "                     'alpha': np.pi/4, 'h': 1., 'phi': 0.}\n",
    "loc_param_default['d'], loc_param_default['theta'] = cart2pol(loc_param_default['x'], loc_param_default['z'])\n",
    "geo_param_default = {'r_s': 7., 'l_t': 450., 'r_t': .6, \n",
    "                     'r_d': .35, 'r_tu': .1, 'l_d': 150.,\n",
    "                     'r_a': .15, 'r_o': .25, 'l_o': 100.}\n",
    "\n",
    "loc_param_range = {'x': (-50, 50), 'y': (-1200, 1200), 'z': (50., 200.), \n",
    "                   'alpha': (0, np.pi), 'h': (.9, 1.) ,'phi': (-np.pi, np.pi), \n",
    "                   'd': (50., 200.), 'theta': (-np.pi/3, np.pi/3)}\n",
    "geo_param_range = {'r_s': (5., 12.), 'l_t': (20., 800.), 'r_t': (.2, .8), \n",
    "                   'r_d': (.1, .5), 'r_tu': (.05, .4), 'l_d': (100., 300.),\n",
    "                   'r_a': (.1, .5), 'r_o': (.1, .5), 'l_o': (10., 150)}\n",
    "\n",
    "loc_param_dist = {'x': 'unif', 'y': 'unif', 'z': 'unif', \n",
    "                  'alpha': 'unif', 'h': 'unif','phi': 'unif', 'd': 'unif', 'theta': 'norm'}\n",
    "geo_param_dist = {'r_s': 'unif', 'l_t': 'unif', 'r_t': 'unif',\n",
    "                  'r_d': 'logn', 'r_tu': 'logn', 'l_d': 'unif',\n",
    "                  'r_a': 'logn', 'r_o': 'logn', 'l_o': 'unif'}\n"
   ]
  },
  {
   "cell_type": "markdown",
   "id": "94dfaa6f",
   "metadata": {},
   "source": [
    "#### Synapse parameters"
   ]
  },
  {
   "cell_type": "code",
   "execution_count": 5,
   "id": "2ab7d2f6",
   "metadata": {},
   "outputs": [],
   "source": [
    "# Fixed gmax, not using gmax mapping file\n",
    "gmax = 0.02"
   ]
  },
  {
   "cell_type": "markdown",
   "id": "82300506",
   "metadata": {},
   "source": [
    "#### Fixed biophysical parameters"
   ]
  },
  {
   "cell_type": "code",
   "execution_count": 6,
   "id": "d9ee3554",
   "metadata": {},
   "outputs": [],
   "source": [
    "# Biophysical parameters\n",
    "model_name = 'neuronal_model_491766131'\n",
    "filepath = './cell_inference/resources/biophys_parameters/'+model_name+'.json'\n",
    "with open(filepath) as f:\n",
    "    full_biophys = json.load(f)\n",
    "\n",
    "# common parameters\n",
    "biophys_param = [200, 50, 120] # Ra: basal, trunk, tuft\n",
    "biophys_comm = {}"
   ]
  },
  {
   "cell_type": "markdown",
   "id": "85a1bfcd",
   "metadata": {},
   "source": [
    "### Create configuration dictionary"
   ]
  },
  {
   "cell_type": "code",
   "execution_count": 7,
   "id": "a4c372b8",
   "metadata": {},
   "outputs": [],
   "source": [
    "config_dict = { \n",
    "    'Trial_Parameters': {'number_cells': number_cells, 'number_locs': number_locs, \n",
    "                         'number_samples': number_samples, 'rand_seed': rand_seed, \n",
    "                         'inference_list': inference_list, 'randomized_list': randomized_list}, \n",
    "    'Simulation_Parameters': {'loc_param_list': loc_param_list, 'geo_param_list': geo_param_list, \n",
    "                              'loc_param_default': loc_param_default, 'geo_param_default': geo_param_default, \n",
    "                              'loc_param_range': loc_param_range, 'geo_param_range': geo_param_range, \n",
    "                              'loc_param_dist': loc_param_dist, 'geo_param_dist': geo_param_dist,\n",
    "                              'stim_param': params.STIM_PARAM, 'gmax': gmax, 'gmax_mapping': None,\n",
    "                              'full_biophys': filepath, 'biophys_param': biophys_param, 'biophys_comm': biophys_comm }\n",
    "}"
   ]
  },
  {
   "cell_type": "markdown",
   "id": "ff2188e5",
   "metadata": {},
   "source": [
    "## Generate random samples"
   ]
  },
  {
   "cell_type": "code",
   "execution_count": 8,
   "id": "6fb39b2d",
   "metadata": {},
   "outputs": [],
   "source": [
    "rpg = Random_Parameter_Generator(seed=rand_seed, n_sigma=3)"
   ]
  },
  {
   "cell_type": "markdown",
   "id": "4b5513e8",
   "metadata": {},
   "source": [
    "#### Location parameters"
   ]
  },
  {
   "cell_type": "code",
   "execution_count": 9,
   "id": "e2d2647b",
   "metadata": {},
   "outputs": [],
   "source": [
    "loc_param_gen = loc_param_list.copy()\n",
    "if 'd' in randomized_list and 'theta' in randomized_list:\n",
    "    loc_param_gen[loc_param_gen.index('x')] = 'd'\n",
    "    loc_param_gen[loc_param_gen.index('z')] = 'theta'\n",
    "\n",
    "loc_param_samples = rpg.generate_parameters(number_samples, loc_param_gen, randomized_list, loc_param_default, loc_param_range, loc_param_dist)\n",
    "\n",
    "if 'd' in randomized_list and 'theta' in randomized_list:\n",
    "    loc_param_samples['x'], loc_param_samples['z'] = pol2cart(loc_param_samples['d'], loc_param_samples['theta'])\n",
    "\n",
    "loc_param = np.column_stack([loc_param_samples[key] for key in loc_param_list])\n",
    "\n",
    "# reshape into ncell-by-nloc-by-nparam\n",
    "loc_param = loc_param.reshape(number_cells,number_locs,-1)"
   ]
  },
  {
   "cell_type": "markdown",
   "id": "0f19006d",
   "metadata": {},
   "source": [
    "#### Geometery parameters"
   ]
  },
  {
   "cell_type": "code",
   "execution_count": 10,
   "id": "5fcfc4af",
   "metadata": {},
   "outputs": [],
   "source": [
    "geo_param_samples = rpg.generate_parameters(number_cells, geo_param_list, randomized_list, geo_param_default, geo_param_range, geo_param_dist)\n",
    "\n",
    "geo_param = np.column_stack([geo_param_samples[key] for key in geo_param_list])\n",
    "\n",
    "# repeat to match number_samples\n",
    "for key, value in geo_param_samples.items():\n",
    "    geo_param_samples[key] = np.repeat(value,number_locs)"
   ]
  },
  {
   "cell_type": "markdown",
   "id": "958eebe6",
   "metadata": {},
   "source": [
    "### Get parameters to be inferred as labels"
   ]
  },
  {
   "cell_type": "code",
   "execution_count": 11,
   "id": "bb73d28c",
   "metadata": {},
   "outputs": [
    {
     "name": "stdout",
     "output_type": "stream",
     "text": [
      "(1, 10, 6)\n",
      "(1, 9)\n",
      "(10, 5)\n"
     ]
    }
   ],
   "source": [
    "samples = {**geo_param_samples, **loc_param_samples}\n",
    "labels = np.column_stack([ samples[key] for key in inference_list ])\n",
    "rand_param = np.column_stack([ samples[key] for key in randomized_list[:-len(inference_list)] ])\n",
    "\n",
    "np.set_printoptions(suppress=True)\n",
    "print(loc_param.shape)\n",
    "print(geo_param.shape)\n",
    "print(labels.shape)"
   ]
  },
  {
   "cell_type": "markdown",
   "id": "e84a624b",
   "metadata": {},
   "source": [
    "## Create simulation and run"
   ]
  },
  {
   "cell_type": "code",
   "execution_count": 12,
   "id": "c52fdd75",
   "metadata": {},
   "outputs": [],
   "source": [
    "sim = Simulation(geometry = geo_standard,\n",
    "                 full_biophys = full_biophys,\n",
    "                 electrodes = params.ELECTRODE_POSITION,\n",
    "                 cell_type = CellTypes.ACTIVE_FULL,\n",
    "                 biophys = biophys_param,\n",
    "                 biophys_comm = biophys_comm,\n",
    "                 loc_param = loc_param,\n",
    "                 geo_param = geo_param,\n",
    "                 spike_threshold = params.SPIKE_THRESHOLD,\n",
    "                 gmax = gmax,\n",
    "                 stim_param = params.STIM_PARAM,\n",
    "                 min_distance = params.MIN_DISTANCE,\n",
    "                 ncell = number_cells)\n",
    "\n",
    "sim.run_neuron_sim()"
   ]
  },
  {
   "cell_type": "markdown",
   "id": "7f46102d",
   "metadata": {},
   "source": [
    "## Get LFPs\n",
    "#### Save what"
   ]
  },
  {
   "cell_type": "code",
   "execution_count": 13,
   "id": "98adb81a",
   "metadata": {},
   "outputs": [],
   "source": [
    "save_lfp = True\n",
    "save_stats = True"
   ]
  },
  {
   "cell_type": "markdown",
   "id": "3d1d7826",
   "metadata": {},
   "source": [
    "#### Reshape LFP array. Filter each channel. Get window of spike for each sample."
   ]
  },
  {
   "cell_type": "code",
   "execution_count": 14,
   "id": "d0d6d3ad",
   "metadata": {},
   "outputs": [
    {
     "name": "stderr",
     "output_type": "stream",
     "text": [
      "100%|████████████████████████████████████████| 10/10 [00:00<00:00, 2000.62it/s]"
     ]
    },
    {
     "name": "stdout",
     "output_type": "stream",
     "text": [
      "0 bad samples.\n"
     ]
    },
    {
     "name": "stderr",
     "output_type": "stream",
     "text": [
      "\n"
     ]
    }
   ],
   "source": [
    "lfp = sim.get_lfp('all', multiple_position=True)  # (cells x locs x channels x time)\n",
    "lfp = lfp.reshape((-1,)+lfp.shape[-2:]).transpose((0,2,1))  # -> (samples x channels x time) -> (samples x time x channels)\n",
    "\n",
    "filt_b, filt_a = signal.butter(params.BUTTERWORTH_ORDER,\n",
    "                               params.FILTER_CRITICAL_FREQUENCY,\n",
    "                               params.BANDFILTER_TYPE,\n",
    "                               fs=params.FILTER_SAMPLING_RATE)\n",
    "\n",
    "start_idx = int(np.ceil(params.STIM_PARAM['start']/h.dt)) # ignore signal before\n",
    "filtered_lfp = signal.lfilter(filt_b, filt_a, lfp[:,start_idx:,:], axis=1)  # filter along time axis\n",
    "\n",
    "lfp_list = []\n",
    "bad_indices = []\n",
    "for i in tqdm(range(number_samples)):\n",
    "#     filtered_lfp[i] /= np.max(np.abs(filtered_lfp[i]))\n",
    "    try:\n",
    "        start, end = get_spike_window(filtered_lfp[i], win_size=params.WINDOW_SIZE, align_at=params.PK_TR_IDX_IN_WINDOW) # 24*0.025=0.6 ms\n",
    "        lfp_list.append(filtered_lfp[i,start:end,:])\n",
    "    except ValueError:\n",
    "        bad_indices.append(i)\n",
    "\n",
    "t = sim.t()[:params.WINDOW_SIZE]\n",
    "windowed_lfp = np.stack(lfp_list, axis=0)  # (samples x time window x channels)\n",
    "labels = np.delete(labels, bad_indices, axis=0)\n",
    "print('%d bad samples.' % len(bad_indices))"
   ]
  },
  {
   "cell_type": "code",
   "execution_count": 15,
   "id": "1a6158e4",
   "metadata": {},
   "outputs": [
    {
     "name": "stderr",
     "output_type": "stream",
     "text": [
      "100%|██████████████████████████████████████████| 10/10 [00:52<00:00,  5.20s/it]"
     ]
    },
    {
     "name": "stdout",
     "output_type": "stream",
     "text": [
      "0 bad samples.\n"
     ]
    },
    {
     "name": "stderr",
     "output_type": "stream",
     "text": [
      "\n"
     ]
    }
   ],
   "source": [
    "if save_stats:\n",
    "    y_idx = inference_list.index('y') if 'y' in inference_list else None\n",
    "    summ_stats = []\n",
    "    bad_indices = []\n",
    "    yshift = []\n",
    "    for i in tqdm(range(windowed_lfp.shape[0])):\n",
    "        try:\n",
    "            g_lfp, _, y_c = build_lfp_grid(windowed_lfp[i], params.ELECTRODE_POSITION[:, :2], y_window_size=960.0)\n",
    "        except ValueError:\n",
    "            bad_indices.append(i)\n",
    "            continue\n",
    "        summ_stats.append(calculate_stats(g_lfp))\n",
    "        if y_idx is not None:\n",
    "            yshift.append(y_c - labels[i, y_idx])\n",
    "\n",
    "    summ_stats = np.array(summ_stats)\n",
    "    yshift = np.array(yshift)\n",
    "    print('%d bad samples.' % len(bad_indices))"
   ]
  },
  {
   "cell_type": "markdown",
   "id": "d286748a",
   "metadata": {},
   "source": [
    "## Save configurations and simulation data"
   ]
  },
  {
   "cell_type": "code",
   "execution_count": 16,
   "id": "ae49d8ba",
   "metadata": {},
   "outputs": [
    {
     "name": "stdout",
     "output_type": "stream",
     "text": [
      "The new trial directory is created!\n"
     ]
    }
   ],
   "source": [
    "DATA_PATH = 'cell_inference/resources/simulation_data'\n",
    "TRIAL_PATH = os.path.join(DATA_PATH, model_name+'_Loc5_restrict_h')\n",
    "\n",
    "CONFIG_PATH = os.path.join(TRIAL_PATH, 'config.json')  # trial configuration\n",
    "LFP_PATH = os.path.join(TRIAL_PATH, 'lfp' + batch_suf)  # LFP and labels\n",
    "STATS_PATH = os.path.join(TRIAL_PATH, 'summ_stats' + batch_suf)  # summary statistics\n",
    "MEM_VOLT_PATH = os.path.join(TRIAL_PATH, 'mem_volt' + batch_suf)  # membrane voltage and spike times\n",
    "\n",
    "if not os.path.exists(DATA_PATH):\n",
    "    os.makedirs(DATA_PATH)\n",
    "    print(\"The new data directory is created!\")\n",
    "\n",
    "if not os.path.exists(TRIAL_PATH):\n",
    "    os.makedirs(TRIAL_PATH)\n",
    "    print(\"The new trial directory is created!\")"
   ]
  },
  {
   "cell_type": "code",
   "execution_count": 17,
   "id": "a6f2dcb4",
   "metadata": {},
   "outputs": [],
   "source": [
    "if save_lfp:\n",
    "    np.savez(LFP_PATH, t=t, x=windowed_lfp, y=labels, rand_param=rand_param, gmax=gmax)\n",
    "if save_stats:\n",
    "    np.savez(STATS_PATH, t=t, x=summ_stats, y=np.delete(labels, bad_indices, axis=0),\n",
    "         rand_param=rand_param, gmax=gmax, ys=yshift, bad_indices=bad_indices)\n",
    "# np.savez(MEM_VOLT_PATH, v=mem_volt, spk=tspk)\n",
    "with open(CONFIG_PATH, 'w') as fout:\n",
    "    json.dump(config_dict, fout, indent=2)"
   ]
  },
  {
   "cell_type": "markdown",
   "id": "89258916",
   "metadata": {},
   "source": [
    "## Verify LFPs\n",
    "We hand compare the LFP plots generated by our data"
   ]
  },
  {
   "cell_type": "code",
   "execution_count": 18,
   "id": "4d403c52",
   "metadata": {},
   "outputs": [
    {
     "data": {
      "image/png": "[encoded data removed]",
      "text/plain": [
       "<Figure size 432x288 with 2 Axes>"
      ]
     },
     "metadata": {
      "needs_background": "light"
     },
     "output_type": "display_data"
    },
    {
     "data": {
      "image/png": "[encoded data removed]",
      "text/plain": [
       "<Figure size 432x288 with 1 Axes>"
      ]
     },
     "metadata": {
      "needs_background": "light"
     },
     "output_type": "display_data"
    }
   ],
   "source": [
    "%matplotlib inline\n",
    "\n",
    "cell_idx = 0\n",
    "\n",
    "ix = 1\n",
    "ylim = [-1900,1900]\n",
    "x_dist = np.unique(params.ELECTRODE_POSITION[:,0])\n",
    "e_idx = ((params.ELECTRODE_POSITION[:,0]==x_dist[ix]) & \n",
    "         (params.ELECTRODE_POSITION[:,1]>=ylim[0]) & \n",
    "         (params.ELECTRODE_POSITION[:,1]<=ylim[1]))\n",
    "\n",
    "_ = plot_lfp_heatmap(t, params.ELECTRODE_POSITION[e_idx, 1],\n",
    "                              windowed_lfp[cell_idx][:,e_idx], vlim='auto',\n",
    "                              fontsize=15, labelpad=-10, ticksize=12, tick_length=5, nbins=5)\n",
    "\n",
    "_ = plot_lfp_traces(t, windowed_lfp[cell_idx], fontsize=15, labelpad=-10, ticksize=12, tick_length=5, nbins=5)"
   ]
  },
  {
   "cell_type": "code",
   "execution_count": null,
   "id": "f27d870b",
   "metadata": {},
   "outputs": [],
   "source": []
  }
 ],
 "metadata": {
  "kernelspec": {
   "display_name": "Python 3 (ipykernel)",
   "language": "python",
   "name": "python3"
  },
  "language_info": {
   "codemirror_mode": {
    "name": "ipython",
    "version": 3
   },
   "file_extension": ".py",
   "mimetype": "text/x-python",
   "name": "python",
   "nbconvert_exporter": "python",
   "pygments_lexer": "ipython3",
   "version": "3.7.4"
  }
 },
 "nbformat": 4,
 "nbformat_minor": 5
}
